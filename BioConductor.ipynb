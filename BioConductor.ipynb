{
 "metadata": {
  "name": ""
 },
 "nbformat": 3,
 "nbformat_minor": 0,
 "worksheets": [
  {
   "cells": [
    {
     "cell_type": "heading",
     "level": 1,
     "metadata": {},
     "source": [
      "Packages R sur BioConductor"
     ]
    },
    {
     "cell_type": "heading",
     "level": 2,
     "metadata": {},
     "source": [
      "R\u00e9cup\u00e9ration de la liste de packages"
     ]
    },
    {
     "cell_type": "markdown",
     "metadata": {},
     "source": [
      "Une liste des packages est disponible sur la page :\n",
      "http://bioconductor.org/packages/release/BiocViews.html#___Software\n",
      "\n",
      "Cette liste reprend l'ensemble des paquets disponibles, avec leur nom, leurs maintainers ainsi qu'une courte description. Il est tr\u00e8s simple d'extraire manuellement la liste des packages avec un simple copier-coller, et d'ensuite de parser le r\u00e9sultat. On peut \u00e9galement automatiser ce processus. Il y a cependant un d\u00e9tail important : la liste g\u00e9n\u00e9r\u00e9e sur la page l'est via du Javascript, ce qui implique qu'on ne peut pas \"simplement\" ouvrir la page distante et parser son contenu. \n",
      "\n",
      "Un rapide petit tour dans la source de la page permet de voir que les donn\u00e9es sont en r\u00e9alit\u00e9 extraites depuis un fichier `packages.js` (http://bioconductor.org/packages/json/3.0/bioc/packages.js). Ce fichier contient une d\u00e9claration de variable Javascript `data_annotation_packages` dont la valeur est un dictionnaire des packages disponibles. Vu que c'est essentiellement du JSON, on peut directement le parser avec Python :"
     ]
    },
    {
     "cell_type": "code",
     "collapsed": false,
     "input": [
      "import requests\n",
      "import json\n",
      "\n",
      "URL = 'http://bioconductor.org/packages/json/3.0/bioc/packages.js'\n",
      "\n",
      "content = requests.get(URL).content\n",
      "\n",
      "# Remove variable declaration\n",
      "_, content = content[:-1].split(' = ', 1) \n",
      "\n",
      "# JSON\n",
      "content = json.loads(content)"
     ],
     "language": "python",
     "metadata": {},
     "outputs": [],
     "prompt_number": 65
    },
    {
     "cell_type": "markdown",
     "metadata": {},
     "source": [
      "La structure obtenue est assez simple : une cl\u00e9 \"content\" qui contient une liste des entr\u00e9es. Chaque entr\u00e9e est alors une liste de 3 \u00e9l\u00e9ments : un nom de package, une liste de maintainers et une courte description."
     ]
    },
    {
     "cell_type": "code",
     "collapsed": false,
     "input": [
      "content['content'][:3]"
     ],
     "language": "python",
     "metadata": {},
     "outputs": [
      {
       "metadata": {},
       "output_type": "pyout",
       "prompt_number": 66,
       "text": [
        "[[u'a4',\n",
        "  u'Tobias Verbeke <tobias.verbeke@openanalytics.eu>, Willem Ligtenberg <willem.ligtenberg@openanalytics.eu>',\n",
        "  u'Automated Affymetrix Array Analysis Umbrella Package'],\n",
        " [u'a4Base',\n",
        "  u'Tobias Verbeke <tobias.verbeke@openanalytics.eu>, Willem Ligtenberg <willem.ligtenberg@openanalytics.eu>',\n",
        "  u'Automated Affymetrix Array Analysis Base Package'],\n",
        " [u'a4Classif',\n",
        "  u'Tobias Verbeke <tobias.verbeke@openanalytics.eu>, Willem Ligtenberg <willem.ligtenberg@openanalytics.eu>',\n",
        "  u'Automated Affymetrix Array Analysis Classification Package']]"
       ]
      }
     ],
     "prompt_number": 66
    },
    {
     "cell_type": "markdown",
     "metadata": {},
     "source": [
      "On peut donc ais\u00e9ment obtenir la liste des noms de packages pr\u00e9sents sur Bioconductor :"
     ]
    },
    {
     "cell_type": "code",
     "collapsed": false,
     "input": [
      "packages = map(lambda x: x[0], content['content'])"
     ],
     "language": "python",
     "metadata": {},
     "outputs": [],
     "prompt_number": 67
    },
    {
     "cell_type": "code",
     "collapsed": false,
     "input": [
      "packages[:10]"
     ],
     "language": "python",
     "metadata": {},
     "outputs": [
      {
       "metadata": {},
       "output_type": "pyout",
       "prompt_number": 68,
       "text": [
        "[u'a4',\n",
        " u'a4Base',\n",
        " u'a4Classif',\n",
        " u'a4Core',\n",
        " u'a4Preproc',\n",
        " u'a4Reporting',\n",
        " u'ABarray',\n",
        " u'ABSSeq',\n",
        " u'aCGH',\n",
        " u'ACME']"
       ]
      }
     ],
     "prompt_number": 68
    },
    {
     "cell_type": "heading",
     "level": 2,
     "metadata": {},
     "source": [
      "R\u00e9cup\u00e9ration des fichiers `DESCRIPTION` des packages"
     ]
    },
    {
     "cell_type": "markdown",
     "metadata": {},
     "source": [
      "Pour chaque package de nom `NAME`, une page http://bioconductor.org/packages/release/bioc/html/NAME.html est disponible. Par exemple, pour le paquet `a4`, la page http://bioconductor.org/packages/release/bioc/html/a4.html reprend une s\u00e9rie d'informations concernant l'installation et l'usage du paquet. En particulier, cette page r\u00e9f\u00e9rence aussi, dans sa section *Details*, une s\u00e9rie de couples cl\u00e9/valeur correspondant aux entr\u00e9es du fichier `DESCRIPTION` que l'on retrouve dans les packages R. \n",
      "\n",
      "Nous allons utiliser BeautifulSoup pour parser la page et r\u00e9cup\u00e9rer cette information."
     ]
    },
    {
     "cell_type": "code",
     "collapsed": false,
     "input": [
      "import BeautifulSoup as bs\n",
      "\n",
      "# Get page content\n",
      "content = requests.get('http://bioconductor.org/packages/release/bioc/html/a4.html').content\n",
      "soup = bs.BeautifulSoup(content)\n",
      "\n",
      "table = soup.find(name='table', attrs={'class': 'details'})\n",
      "\n",
      "for row in table.findChildren('tr'):\n",
      "    key, value = row.findChildren('td')\n",
      "    print key.text, '->', value.text\n",
      "    "
     ],
     "language": "python",
     "metadata": {},
     "outputs": [
      {
       "output_type": "stream",
       "stream": "stdout",
       "text": [
        "biocViews -> Microarray,Software\n",
        "Version -> 1.14.0\n",
        "In Bioconductor since -> BioC 2.8 (R-2.13)\n",
        "License -> GPL-3\n",
        "Depends -> a4Base,a4Preproc,a4Classif,a4Core,a4Reporting\n",
        "Imports -> \n",
        "LinkingTo -> \n",
        "Suggests -> MLP, nlcv,ALL,Cairo\n",
        "SystemRequirements -> \n",
        "Enhances -> \n",
        "URL -> \n",
        "Depends On Me -> \n",
        "Imports Me -> \n",
        "Suggests Me -> \n",
        "Build Report -> &nbsp;\n"
       ]
      }
     ],
     "prompt_number": 69
    },
    {
     "cell_type": "markdown",
     "metadata": {},
     "source": [
      "Ok, il ne reste plus qu'\u00e0 se faire une petite fonction pour organiser tout \u00e7a."
     ]
    },
    {
     "cell_type": "code",
     "collapsed": false,
     "input": [
      "def description_for_package(package_name):\n",
      "    \"\"\"\n",
      "    Given a R package name on BioConductor, return a dictionary that contains \n",
      "    every key -> value that can be found in the \"Details\" section of the \n",
      "    related package page (bioconductor.org/packages/release/bioc/html/package_name.html\n",
      "    \"\"\"\n",
      "    try:\n",
      "        content = requests.get('http://bioconductor.org/packages/release/bioc/html/{}.html'\n",
      "                           .format(package_name)).content\n",
      "        soup = bs.BeautifulSoup(content)\n",
      "        table = soup.find(name='table', attrs={'class': 'details'})\n",
      "        data = {}\n",
      "        for row in table.findChildren('tr'):\n",
      "            key, value = row.findChildren('td')\n",
      "            data[key.text] = value.text\n",
      "        return data\n",
      "    except Exception: \n",
      "        print 'Exception while working on', package_name\n",
      "        raise"
     ],
     "language": "python",
     "metadata": {},
     "outputs": [],
     "prompt_number": 70
    },
    {
     "cell_type": "code",
     "collapsed": false,
     "input": [
      "# Test it\n",
      "description_for_package('a4')"
     ],
     "language": "python",
     "metadata": {},
     "outputs": [
      {
       "metadata": {},
       "output_type": "pyout",
       "prompt_number": 71,
       "text": [
        "{u'Build Report': u'&nbsp;',\n",
        " u'Depends': u'a4Base,a4Preproc,a4Classif,a4Core,a4Reporting',\n",
        " u'Depends On Me': u'',\n",
        " u'Enhances': u'',\n",
        " u'Imports': u'',\n",
        " u'Imports Me': u'',\n",
        " u'In Bioconductor since': u'BioC 2.8 (R-2.13)',\n",
        " u'License': u'GPL-3',\n",
        " u'LinkingTo': u'',\n",
        " u'Suggests': u'MLP, nlcv,ALL,Cairo',\n",
        " u'Suggests Me': u'',\n",
        " u'SystemRequirements': u'',\n",
        " u'URL': u'',\n",
        " u'Version': u'1.14.0',\n",
        " u'biocViews': u'Microarray,Software'}"
       ]
      }
     ],
     "prompt_number": 71
    },
    {
     "cell_type": "markdown",
     "metadata": {},
     "source": [
      "Appliquons cette fonction sur tous les noms de packages repris dans la liste `packages` de l'\u00e9tape pr\u00e9c\u00e9dente, et r\u00e9cup\u00e9rons les r\u00e9sultats. Nous pla\u00e7ons ces r\u00e9sultats dans un dictionnaire, o\u00f9 la cl\u00e9 du dictionnaire est le nom du package, et la valeur de ce dictionnaire est l'information structur\u00e9e r\u00e9cup\u00e9r\u00e9e depuis le site."
     ]
    },
    {
     "cell_type": "code",
     "collapsed": false,
     "input": [
      "packages_data = {}\n",
      "\n",
      "for package in packages:\n",
      "    data = description_for_package(package)\n",
      "    packages_data[package] = data"
     ],
     "language": "python",
     "metadata": {},
     "outputs": [],
     "prompt_number": 72
    },
    {
     "cell_type": "markdown",
     "metadata": {},
     "source": [
      "Les donn\u00e9es sont maintenant facilement accessibles."
     ]
    },
    {
     "cell_type": "code",
     "collapsed": false,
     "input": [
      "print packages_data['a4']['Depends']"
     ],
     "language": "python",
     "metadata": {},
     "outputs": [
      {
       "output_type": "stream",
       "stream": "stdout",
       "text": [
        "a4Base,a4Preproc,a4Classif,a4Core,a4Reporting\n"
       ]
      }
     ],
     "prompt_number": 74
    },
    {
     "cell_type": "markdown",
     "metadata": {},
     "source": [
      "On peut maintenant facilement exporter \u00e7a vers un fichier .csv qui sera r\u00e9utilis\u00e9 plus tard. "
     ]
    },
    {
     "cell_type": "code",
     "collapsed": false,
     "input": [
      "import pandas\n",
      "\n",
      "pandas.DataFrame.from_dict(packages_data, orient='index').to_csv('bioconductor_description.csv')"
     ],
     "language": "python",
     "metadata": {},
     "outputs": [],
     "prompt_number": 77
    }
   ],
   "metadata": {}
  }
 ]
}