{
 "metadata": {
  "name": "",
  "signature": "sha256:141514407d053dda2c0d58975f72c83131626f5c4ecbef01f1f4c30925533c9a"
 },
 "nbformat": 3,
 "nbformat_minor": 0,
 "worksheets": [
  {
   "cells": [
    {
     "cell_type": "heading",
     "level": 1,
     "metadata": {},
     "source": [
      "GitHub - Data Extraction"
     ]
    },
    {
     "cell_type": "markdown",
     "metadata": {},
     "source": [
      "The file `../data/github-repositories-2015-02-17` contains a list of GitHub repositories that are candidates to store a package related to R. Those candidates were collected from the activity on GitHub between 2013 and 2014 (included). Those candidates all contain a `DESCRIPTION` file at the root of the repository.\n",
      "\n",
      "In this notebook, we will retrieve those Git repository and get the metadata contained in the `DESCRIPTION` file for every version of this file."
     ]
    },
    {
     "cell_type": "code",
     "collapsed": false,
     "input": [
      "import pandas\n",
      "import subprocess\n",
      "import os\n",
      "from debian import deb822"
     ],
     "language": "python",
     "metadata": {},
     "outputs": [],
     "prompt_number": 32
    },
    {
     "cell_type": "markdown",
     "metadata": {},
     "source": [
      "We will make use of the following commands:\n",
      " - `git clone <url> <path>` where <url> is the url of the repository and <path> is the location to store the repository.\n",
      " - `git log --follow --format=\"%h / %ci\" <path>` where <path> will be `DESCRIPTION`. The output of this command is a list of <commit> / <date> for this file. \n",
      " - `git show <commit>:<path>` where <commit> is the considered commit, and <path> will be `DESCRIPTION`. This command outputs the content of the file at the given commit."
     ]
    },
    {
     "cell_type": "code",
     "collapsed": false,
     "input": [
      "github = pandas.DataFrame.from_csv('../data/github-repositories-2015-02-17.csv')\n",
      "repositories = github[['owner', 'repository']]"
     ],
     "language": "python",
     "metadata": {},
     "outputs": [],
     "prompt_number": 26
    },
    {
     "cell_type": "code",
     "collapsed": false,
     "input": [
      "# http://orip.org/2012/07/python-change-and-restore-working.html\n",
      "\n",
      "import contextlib\n",
      "\n",
      "@contextlib.contextmanager\n",
      "def temp_chdir(path):\n",
      "    \"\"\"\n",
      "    Usage:\n",
      "    >>> with temp_chdir(gitrepo_path):\n",
      "    ...   subprocess.call('git status')\n",
      "    \"\"\"\n",
      "    starting_directory = os.getcwd()\n",
      "    try:\n",
      "        os.chdir(path)\n",
      "        yield\n",
      "    finally:\n",
      "        os.chdir(starting_directory)"
     ],
     "language": "python",
     "metadata": {},
     "outputs": [],
     "prompt_number": 27
    },
    {
     "cell_type": "code",
     "collapsed": false,
     "input": [
      "METADATA = ['Package', 'Version', 'License', 'Imports', 'Suggests', 'Depends']\n",
      "\n",
      "\n",
      "data = []\n",
      "\n",
      "id, (owner, repo) = list(repositories.iterrows())[0]\n",
      "url = 'http://github.com/{owner}/{repository}'.format(owner=owner, repository=repo)\n",
      "path = repo\n",
      "subprocess.check_output(['git', 'clone', url, path])\n",
      "with temp_chdir(path):\n",
      "    commits = subprocess.check_output(['git', 'log', '--follow', '--format=%h/%ci', 'DESCRIPTION'])\n",
      "    for commit in commits.split('\\n'):\n",
      "        if len(commit.strip()) == 0:\n",
      "            continue\n",
      "        commit_sha, date = commit.split('/')\n",
      "        content = subprocess.check_output(['git', 'show', '{id}:{path}'.format(id=commit_sha, path='DESCRIPTION')])\n",
      "        metadata = deb822.Deb822(content.split('\\n'))\n",
      "        pkg_data = {}\n",
      "        for MD in METADATA:\n",
      "            pkg_data[MD] = metadata.get(MD, '')\n",
      "        pkg_data['date'] = date\n",
      "        data.append(pkg_data)\n",
      "    \n",
      "subprocess.check_output(['rm', '-r', path])\n",
      "print data"
     ],
     "language": "python",
     "metadata": {},
     "outputs": [
      {
       "output_type": "stream",
       "stream": "stdout",
       "text": [
        "[{'License': u'MIT + file LICENSE', 'Package': u'profr', 'Imports': u'\\n    stringr,\\n    plyr', 'Suggests': u'\\n    ggplot2', 'Depends': '', 'Version': u'0.3.1.99', 'date': '2014-04-22 09:46:52 -0500'}, {'License': u'MIT + file LICENSE', 'Package': u'profr', 'Imports': u'\\n    stringr,\\n    plyr', 'Suggests': u'\\n    ggplot2', 'Depends': '', 'Version': u'0.3.1', 'date': '2014-04-22 08:09:24 -0500'}, {'License': u'MIT + file LICENSE', 'Package': u'profr', 'Imports': u'\\n    stringr,\\n    plyr', 'Suggests': u'\\n    ggplot2', 'Depends': '', 'Version': u'0.3.1', 'date': '2014-04-22 08:08:35 -0500'}, {'License': u'MIT + file LICENSE', 'Package': u'profr', 'Imports': u'\\n    stringr,\\n    plyr', 'Suggests': u'\\n    ggplot2', 'Depends': '', 'Version': u'0.3.1', 'date': '2014-04-22 08:07:56 -0500'}, {'License': u'MIT', 'Package': u'profr', 'Imports': u'\\n    stringr,\\n    plyr', 'Suggests': u'\\n    ggplot2', 'Depends': '', 'Version': u'0.3.1', 'date': '2014-04-21 18:07:32 -0500'}, {'License': u'MIT', 'Package': u'profr', 'Imports': u'\\n    stringr,\\n    plyr', 'Suggests': u'\\n    ggplot2', 'Depends': '', 'Version': u'0.3.1', 'date': '2014-04-21 18:05:12 -0500'}, {'License': u'MIT', 'Package': u'profr', 'Imports': u'\\n    stringr,\\n    plyr', 'Suggests': u'\\n    ggplot2', 'Depends': '', 'Version': u'0.3', 'date': '2011-05-24 16:46:12 -0500'}, {'License': u'MIT', 'Package': u'profr', 'Imports': u'stringr, plyr', 'Suggests': u'ggplot2', 'Depends': '', 'Version': u'0.3', 'date': '2011-05-13 11:42:51 -0500'}, {'License': u'MIT', 'Package': u'profr', 'Imports': u'digest, stringr, plyr', 'Suggests': u'ggplot2', 'Depends': '', 'Version': u'0.3', 'date': '2011-05-13 11:29:41 -0500'}, {'License': u'MIT', 'Package': u'profr', 'Imports': u'digest', 'Suggests': u'ggplot2', 'Depends': '', 'Version': u'0.2', 'date': '2011-01-28 11:45:31 -0600'}, {'License': u'MIT', 'Package': u'profr', 'Imports': u'digest', 'Suggests': u'ggplot2', 'Depends': '', 'Version': u'0.2', 'date': '2010-09-01 10:25:26 -0500'}, {'License': u'MIT', 'Package': u'profr', 'Imports': '', 'Suggests': u'ggplot2', 'Depends': u'R (>= 2.6.2), digest', 'Version': u'0.1.2', 'date': '2010-02-22 15:29:49 -0600'}, {'License': u'MIT', 'Package': u'profr', 'Imports': '', 'Suggests': u'ggplot2', 'Depends': u'R (>= 2.6.2), digest', 'Version': u'0.1.2', 'date': '2010-02-22 10:59:52 -0600'}, {'License': u'MIT', 'Package': u'profr', 'Imports': '', 'Suggests': u'ggplot2', 'Depends': u'R (>= 2.6.2), digest', 'Version': u'0.1.1', 'date': '2008-05-02 14:26:45 -0500'}, {'License': u'MIT', 'Package': u'profr', 'Imports': '', 'Suggests': u'ggplot2', 'Depends': u'R (>= 2.6.2), digest', 'Version': u'0.1', 'date': '2008-05-01 19:56:15 -0500'}, {'License': u'MIT', 'Package': u'profr', 'Imports': '', 'Suggests': u'ggplot2', 'Depends': u'R (>= 2.6.2)', 'Version': u'0.1', 'date': '2008-04-30 21:37:31 -0500'}, {'License': u'MIT', 'Package': u'prof', 'Imports': '', 'Suggests': u'RUnit', 'Depends': u'R (>= 2.6.2)', 'Version': u'0.1', 'date': '2008-04-20 10:31:54 -0500'}]\n"
       ]
      }
     ],
     "prompt_number": 37
    }
   ],
   "metadata": {}
  }
 ]
}