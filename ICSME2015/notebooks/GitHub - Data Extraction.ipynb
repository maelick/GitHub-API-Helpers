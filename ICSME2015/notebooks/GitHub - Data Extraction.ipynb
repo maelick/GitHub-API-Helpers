{
 "metadata": {
  "name": "",
  "signature": "sha256:8719eb9faabac2216f6d1eb7d123b5ed7f8f4cb3394a6899ae3aa218c6f3a8ea"
 },
 "nbformat": 3,
 "nbformat_minor": 0,
 "worksheets": [
  {
   "cells": [
    {
     "cell_type": "heading",
     "level": 1,
     "metadata": {},
     "source": [
      "GitHub - Data Extraction"
     ]
    },
    {
     "cell_type": "markdown",
     "metadata": {},
     "source": [
      "The file `../data/github-repositories-2015-02-17` contains a list of GitHub repositories that are candidates to store a package related to R. Those candidates were collected from the activity on GitHub between 2013 and 2014 (included). Those candidates all contain a `DESCRIPTION` file at the root of the repository.\n",
      "\n",
      "We `git clone`-ed each of those repository. This notebook will parse those git repositories and extract the `DESCRIPTION` file of each commit. "
     ]
    },
    {
     "cell_type": "code",
     "collapsed": false,
     "input": [
      "import pandas\n",
      "from datetime import date"
     ],
     "language": "python",
     "metadata": {},
     "outputs": [],
     "prompt_number": 1
    },
    {
     "cell_type": "markdown",
     "metadata": {},
     "source": [
      "We will make use of the following commands:\n",
      " - `git clone <url> <path>` where <url> is the url of the repository and <path> is the location to store the repository.\n",
      " - `git log --follow --format=\"%H/%ci\" <path>` where <path> will be `DESCRIPTION`. The output of this command is a list of <commit> / <date> for this file. \n",
      " - `git show <commit>:<path>` where <commit> is the considered commit, and <path> will be `DESCRIPTION`. This command outputs the content of the file at the given commit."
     ]
    },
    {
     "cell_type": "code",
     "collapsed": false,
     "input": [
      "github = pandas.DataFrame.from_csv('../data/github-repositories-2015-02-17.csv')\n",
      "repositories = github[['owner', 'repository']]\n",
      "\n",
      "# Date is 2015-05-04 because we love starwars and because we cloned the repositories at this date\n",
      "FILENAME = '../data/github-raw-{date}.csv'.format(date='2015-05-04')\n",
      "\n",
      "# Root of the directory where the repositories were collected\n",
      "GIT_DIR = '/data/github/' "
     ],
     "language": "python",
     "metadata": {},
     "outputs": [],
     "prompt_number": 2
    },
    {
     "cell_type": "markdown",
     "metadata": {},
     "source": [
      "We will retrieve a lot of data, we can benefit from IPython's parallel computation tool.\n",
      "\n",
      "**To use this notebook, you need either to configure your IPController or to start a cluster of IPython nodes, using `ipcluster start -n 4` for example.** See https://ipython.org/ipython-doc/dev/parallel/parallel_process.html for more information.\n",
      "\n",
      "It seems that most recent versions of IPython Notebook can directly start cluster from the web interface, under the *Cluster* tab."
     ]
    },
    {
     "cell_type": "code",
     "collapsed": false,
     "input": [
      "from IPython import parallel\n",
      "clients = parallel.Client()\n",
      "clients.block = False # asynchronous computations\n",
      "print 'Clients:', str(clients.ids)"
     ],
     "language": "python",
     "metadata": {},
     "outputs": [
      {
       "output_type": "stream",
       "stream": "stdout",
       "text": [
        "Clients: [0, 1, 2, 3, 4, 5, 6, 7, 8, 9, 10, 11]\n"
       ]
      }
     ],
     "prompt_number": 3
    },
    {
     "cell_type": "code",
     "collapsed": false,
     "input": [
      "def get_data_from((owner, repository)):\n",
      "    # Move to target directory\n",
      "    try:\n",
      "        os.chdir(os.path.join(GIT_DIR, owner, repository))\n",
      "    except OSError as e: \n",
      "        # Should happen when directory does not exist\n",
      "        return []\n",
      "    \n",
      "    data_list = []\n",
      "    \n",
      "    # Get commits for DESCRIPTION\n",
      "    try:\n",
      "        commits = subprocess.check_output(['git', 'log', '--format=%H/%ci', '--', 'DESCRIPTION'])\n",
      "    except subprocess.CalledProcessError as e:\n",
      "        # Should not happen!?\n",
      "        raise Exception(owner + ' ' + repository + '/ log : ' + e.output)\n",
      "        \n",
      "    for commit in [x for x in commits.split('\\n') if len(x.strip())!=0]:\n",
      "        commit_sha, date = map(lambda x: x.strip(), commit.split('/'))\n",
      "        \n",
      "        # Get file content\n",
      "        try:\n",
      "            content = subprocess.check_output(['git', 'show', '{id}:{path}'.format(id=commit_sha, path='DESCRIPTION')])\n",
      "        except subprocess.CalledProcessError as e:\n",
      "            # Could happen when DESCRIPTION was added in this commit. Silently ignore\n",
      "            continue\n",
      "        \n",
      "        try:\n",
      "            metadata = deb822.Deb822(content.split('\\n'))\n",
      "        except Exception as e: \n",
      "            # I don't known which are the exceptions that Deb822 may throw!\n",
      "            continue # Go further\n",
      "            \n",
      "        data = {}\n",
      "        \n",
      "        for md in ['Package', 'Version', 'License', 'Imports', 'Suggests', 'Depends']:\n",
      "            data[md] = metadata.get(md, '')\n",
      "        \n",
      "        data['CommitDate'] = date\n",
      "        data['Owner'] = owner\n",
      "        data['Repository'] = repository\n",
      "        data_list.append(data)\n",
      "\n",
      "    # Return to root directory\n",
      "    os.chdir(GIT_DIR)\n",
      "    return data_list"
     ],
     "language": "python",
     "metadata": {},
     "outputs": [],
     "prompt_number": 4
    },
    {
     "cell_type": "code",
     "collapsed": false,
     "input": [
      "data = []\n",
      "\n",
      "clients[:].execute('import subprocess, os')\n",
      "clients[:].execute('from debian import deb822')\n",
      "clients[:]['GIT_DIR'] = GIT_DIR\n",
      "\n",
      "balanced = clients.load_balanced_view()\n",
      "\n",
      "items = [(owner, repo) for idx, (owner, repo) in repositories.iterrows()]\n",
      "\n",
      "print len(items), 'items'\n",
      "    \n",
      "res = balanced.map(get_data_from, items, ordered=False, timeout=15)\n",
      "\n",
      "import time\n",
      "while not res.ready():\n",
      "    time.sleep(5)\n",
      "    print res.progress, ' ', \n",
      "    \n",
      "for result in res.result:\n",
      "    data.extend(result)"
     ],
     "language": "python",
     "metadata": {},
     "outputs": [
      {
       "output_type": "stream",
       "stream": "stdout",
       "text": [
        "5150 items\n",
        "331"
       ]
      },
      {
       "output_type": "stream",
       "stream": "stdout",
       "text": [
        "   "
       ]
      },
      {
       "output_type": "stream",
       "stream": "stdout",
       "text": [
        "674   "
       ]
      },
      {
       "output_type": "stream",
       "stream": "stdout",
       "text": [
        "709   "
       ]
      },
      {
       "output_type": "stream",
       "stream": "stdout",
       "text": [
        "738   "
       ]
      },
      {
       "output_type": "stream",
       "stream": "stdout",
       "text": [
        "766   "
       ]
      },
      {
       "output_type": "stream",
       "stream": "stdout",
       "text": [
        "792   "
       ]
      },
      {
       "output_type": "stream",
       "stream": "stdout",
       "text": [
        "827   "
       ]
      },
      {
       "output_type": "stream",
       "stream": "stdout",
       "text": [
        "855   "
       ]
      },
      {
       "output_type": "stream",
       "stream": "stdout",
       "text": [
        "874   "
       ]
      },
      {
       "output_type": "stream",
       "stream": "stdout",
       "text": [
        "889   "
       ]
      },
      {
       "output_type": "stream",
       "stream": "stdout",
       "text": [
        "906   "
       ]
      },
      {
       "output_type": "stream",
       "stream": "stdout",
       "text": [
        "942   "
       ]
      },
      {
       "output_type": "stream",
       "stream": "stdout",
       "text": [
        "969   "
       ]
      },
      {
       "output_type": "stream",
       "stream": "stdout",
       "text": [
        "999   "
       ]
      },
      {
       "output_type": "stream",
       "stream": "stdout",
       "text": [
        "1032   "
       ]
      },
      {
       "output_type": "stream",
       "stream": "stdout",
       "text": [
        "1059   "
       ]
      },
      {
       "output_type": "stream",
       "stream": "stdout",
       "text": [
        "1092   "
       ]
      },
      {
       "output_type": "stream",
       "stream": "stdout",
       "text": [
        "1107   "
       ]
      },
      {
       "output_type": "stream",
       "stream": "stdout",
       "text": [
        "1141   "
       ]
      },
      {
       "output_type": "stream",
       "stream": "stdout",
       "text": [
        "1183   "
       ]
      },
      {
       "output_type": "stream",
       "stream": "stdout",
       "text": [
        "1219   "
       ]
      },
      {
       "output_type": "stream",
       "stream": "stdout",
       "text": [
        "1248   "
       ]
      },
      {
       "output_type": "stream",
       "stream": "stdout",
       "text": [
        "1286   "
       ]
      },
      {
       "output_type": "stream",
       "stream": "stdout",
       "text": [
        "1350   "
       ]
      },
      {
       "output_type": "stream",
       "stream": "stdout",
       "text": [
        "1369   "
       ]
      },
      {
       "output_type": "stream",
       "stream": "stdout",
       "text": [
        "1414   "
       ]
      },
      {
       "output_type": "stream",
       "stream": "stdout",
       "text": [
        "1475   "
       ]
      },
      {
       "output_type": "stream",
       "stream": "stdout",
       "text": [
        "1539   "
       ]
      },
      {
       "output_type": "stream",
       "stream": "stdout",
       "text": [
        "1593   "
       ]
      },
      {
       "output_type": "stream",
       "stream": "stdout",
       "text": [
        "1636   "
       ]
      },
      {
       "output_type": "stream",
       "stream": "stdout",
       "text": [
        "1685   "
       ]
      },
      {
       "output_type": "stream",
       "stream": "stdout",
       "text": [
        "1727   "
       ]
      },
      {
       "output_type": "stream",
       "stream": "stdout",
       "text": [
        "1750   "
       ]
      },
      {
       "output_type": "stream",
       "stream": "stdout",
       "text": [
        "1760   "
       ]
      },
      {
       "output_type": "stream",
       "stream": "stdout",
       "text": [
        "1798   "
       ]
      },
      {
       "output_type": "stream",
       "stream": "stdout",
       "text": [
        "1844   "
       ]
      },
      {
       "output_type": "stream",
       "stream": "stdout",
       "text": [
        "1873   "
       ]
      },
      {
       "output_type": "stream",
       "stream": "stdout",
       "text": [
        "1908   "
       ]
      },
      {
       "output_type": "stream",
       "stream": "stdout",
       "text": [
        "1962   "
       ]
      },
      {
       "output_type": "stream",
       "stream": "stdout",
       "text": [
        "2005   "
       ]
      },
      {
       "output_type": "stream",
       "stream": "stdout",
       "text": [
        "2061   "
       ]
      },
      {
       "output_type": "stream",
       "stream": "stdout",
       "text": [
        "2102   "
       ]
      },
      {
       "output_type": "stream",
       "stream": "stdout",
       "text": [
        "2168   "
       ]
      },
      {
       "output_type": "stream",
       "stream": "stdout",
       "text": [
        "2215   "
       ]
      },
      {
       "output_type": "stream",
       "stream": "stdout",
       "text": [
        "2255   "
       ]
      },
      {
       "output_type": "stream",
       "stream": "stdout",
       "text": [
        "2300   "
       ]
      },
      {
       "output_type": "stream",
       "stream": "stdout",
       "text": [
        "2317   "
       ]
      },
      {
       "output_type": "stream",
       "stream": "stdout",
       "text": [
        "2353   "
       ]
      },
      {
       "output_type": "stream",
       "stream": "stdout",
       "text": [
        "2398   "
       ]
      },
      {
       "output_type": "stream",
       "stream": "stdout",
       "text": [
        "2435   "
       ]
      },
      {
       "output_type": "stream",
       "stream": "stdout",
       "text": [
        "2470   "
       ]
      },
      {
       "output_type": "stream",
       "stream": "stdout",
       "text": [
        "2488   "
       ]
      },
      {
       "output_type": "stream",
       "stream": "stdout",
       "text": [
        "2542   "
       ]
      },
      {
       "output_type": "stream",
       "stream": "stdout",
       "text": [
        "2587   "
       ]
      },
      {
       "output_type": "stream",
       "stream": "stdout",
       "text": [
        "2634   "
       ]
      },
      {
       "output_type": "stream",
       "stream": "stdout",
       "text": [
        "2680   "
       ]
      },
      {
       "output_type": "stream",
       "stream": "stdout",
       "text": [
        "2729   "
       ]
      },
      {
       "output_type": "stream",
       "stream": "stdout",
       "text": [
        "2772   "
       ]
      },
      {
       "output_type": "stream",
       "stream": "stdout",
       "text": [
        "2796   "
       ]
      },
      {
       "output_type": "stream",
       "stream": "stdout",
       "text": [
        "2830   "
       ]
      },
      {
       "output_type": "stream",
       "stream": "stdout",
       "text": [
        "2875   "
       ]
      },
      {
       "output_type": "stream",
       "stream": "stdout",
       "text": [
        "2911   "
       ]
      },
      {
       "output_type": "stream",
       "stream": "stdout",
       "text": [
        "2956   "
       ]
      },
      {
       "output_type": "stream",
       "stream": "stdout",
       "text": [
        "3003   "
       ]
      },
      {
       "output_type": "stream",
       "stream": "stdout",
       "text": [
        "3036   "
       ]
      },
      {
       "output_type": "stream",
       "stream": "stdout",
       "text": [
        "3077   "
       ]
      },
      {
       "output_type": "stream",
       "stream": "stdout",
       "text": [
        "3082   "
       ]
      },
      {
       "output_type": "stream",
       "stream": "stdout",
       "text": [
        "3115   "
       ]
      },
      {
       "output_type": "stream",
       "stream": "stdout",
       "text": [
        "3163   "
       ]
      },
      {
       "output_type": "stream",
       "stream": "stdout",
       "text": [
        "3194   "
       ]
      },
      {
       "output_type": "stream",
       "stream": "stdout",
       "text": [
        "3259   "
       ]
      },
      {
       "output_type": "stream",
       "stream": "stdout",
       "text": [
        "3307   "
       ]
      },
      {
       "output_type": "stream",
       "stream": "stdout",
       "text": [
        "3360   "
       ]
      },
      {
       "output_type": "stream",
       "stream": "stdout",
       "text": [
        "3383   "
       ]
      },
      {
       "output_type": "stream",
       "stream": "stdout",
       "text": [
        "3411   "
       ]
      },
      {
       "output_type": "stream",
       "stream": "stdout",
       "text": [
        "3441   "
       ]
      },
      {
       "output_type": "stream",
       "stream": "stdout",
       "text": [
        "3494   "
       ]
      },
      {
       "output_type": "stream",
       "stream": "stdout",
       "text": [
        "3534   "
       ]
      },
      {
       "output_type": "stream",
       "stream": "stdout",
       "text": [
        "3578   "
       ]
      },
      {
       "output_type": "stream",
       "stream": "stdout",
       "text": [
        "3615   "
       ]
      },
      {
       "output_type": "stream",
       "stream": "stdout",
       "text": [
        "3625   "
       ]
      },
      {
       "output_type": "stream",
       "stream": "stdout",
       "text": [
        "3634   "
       ]
      },
      {
       "output_type": "stream",
       "stream": "stdout",
       "text": [
        "3658   "
       ]
      },
      {
       "output_type": "stream",
       "stream": "stdout",
       "text": [
        "3699   "
       ]
      },
      {
       "output_type": "stream",
       "stream": "stdout",
       "text": [
        "3744   "
       ]
      },
      {
       "output_type": "stream",
       "stream": "stdout",
       "text": [
        "3803   "
       ]
      },
      {
       "output_type": "stream",
       "stream": "stdout",
       "text": [
        "3847   "
       ]
      },
      {
       "output_type": "stream",
       "stream": "stdout",
       "text": [
        "3911   "
       ]
      },
      {
       "output_type": "stream",
       "stream": "stdout",
       "text": [
        "3972   "
       ]
      },
      {
       "output_type": "stream",
       "stream": "stdout",
       "text": [
        "3986   "
       ]
      },
      {
       "output_type": "stream",
       "stream": "stdout",
       "text": [
        "4041   "
       ]
      },
      {
       "output_type": "stream",
       "stream": "stdout",
       "text": [
        "4089   "
       ]
      },
      {
       "output_type": "stream",
       "stream": "stdout",
       "text": [
        "4117   "
       ]
      },
      {
       "output_type": "stream",
       "stream": "stdout",
       "text": [
        "4178   "
       ]
      },
      {
       "output_type": "stream",
       "stream": "stdout",
       "text": [
        "4252   "
       ]
      },
      {
       "output_type": "stream",
       "stream": "stdout",
       "text": [
        "4318   "
       ]
      },
      {
       "output_type": "stream",
       "stream": "stdout",
       "text": [
        "4358   "
       ]
      },
      {
       "output_type": "stream",
       "stream": "stdout",
       "text": [
        "4366   "
       ]
      },
      {
       "output_type": "stream",
       "stream": "stdout",
       "text": [
        "4395   "
       ]
      },
      {
       "output_type": "stream",
       "stream": "stdout",
       "text": [
        "4433   "
       ]
      },
      {
       "output_type": "stream",
       "stream": "stdout",
       "text": [
        "4491   "
       ]
      },
      {
       "output_type": "stream",
       "stream": "stdout",
       "text": [
        "4532   "
       ]
      },
      {
       "output_type": "stream",
       "stream": "stdout",
       "text": [
        "4579   "
       ]
      },
      {
       "output_type": "stream",
       "stream": "stdout",
       "text": [
        "4620   "
       ]
      },
      {
       "output_type": "stream",
       "stream": "stdout",
       "text": [
        "4649   "
       ]
      },
      {
       "output_type": "stream",
       "stream": "stdout",
       "text": [
        "4699   "
       ]
      },
      {
       "output_type": "stream",
       "stream": "stdout",
       "text": [
        "4754   "
       ]
      },
      {
       "output_type": "stream",
       "stream": "stdout",
       "text": [
        "4806   "
       ]
      },
      {
       "output_type": "stream",
       "stream": "stdout",
       "text": [
        "4850   "
       ]
      },
      {
       "output_type": "stream",
       "stream": "stdout",
       "text": [
        "4914   "
       ]
      },
      {
       "output_type": "stream",
       "stream": "stdout",
       "text": [
        "4974   "
       ]
      },
      {
       "output_type": "stream",
       "stream": "stdout",
       "text": [
        "4983   "
       ]
      },
      {
       "output_type": "stream",
       "stream": "stdout",
       "text": [
        "5040   "
       ]
      },
      {
       "output_type": "stream",
       "stream": "stdout",
       "text": [
        "5078   "
       ]
      },
      {
       "output_type": "stream",
       "stream": "stdout",
       "text": [
        "5143   "
       ]
      },
      {
       "output_type": "stream",
       "stream": "stdout",
       "text": [
        "5150  \n"
       ]
      }
     ],
     "prompt_number": 5
    },
    {
     "cell_type": "code",
     "collapsed": false,
     "input": [
      "df = pandas.DataFrame.from_records(data)\n",
      "df.to_csv(FILENAME, encoding='utf-8')\n",
      "print len(df), 'items'\n",
      "print len(df.drop_duplicates(['Package'])), 'packages'\n",
      "print len(df.drop_duplicates(['Owner', 'Repository'])), 'repositories'\n",
      "print len(df.drop_duplicates(['Package', 'Version'])), 'pairs (package, version)'"
     ],
     "language": "python",
     "metadata": {},
     "outputs": [
      {
       "output_type": "stream",
       "stream": "stdout",
       "text": [
        "61846 items\n",
        "5839 packages\n",
        "5134"
       ]
      },
      {
       "output_type": "stream",
       "stream": "stdout",
       "text": [
        " repositories\n",
        "31374"
       ]
      },
      {
       "output_type": "stream",
       "stream": "stdout",
       "text": [
        " pairs (package, version)\n"
       ]
      }
     ],
     "prompt_number": 7
    },
    {
     "cell_type": "code",
     "collapsed": false,
     "input": [
      "df"
     ],
     "language": "python",
     "metadata": {},
     "outputs": []
    }
   ],
   "metadata": {}
  }
 ]
}