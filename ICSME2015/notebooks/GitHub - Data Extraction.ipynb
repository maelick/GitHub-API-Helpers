{
 "metadata": {
  "name": "",
  "signature": "sha256:61871884adc3c80d833f10c3754184c923f077da9b7b01643c012a8637a318e2"
 },
 "nbformat": 3,
 "nbformat_minor": 0,
 "worksheets": [
  {
   "cells": [
    {
     "cell_type": "heading",
     "level": 1,
     "metadata": {},
     "source": [
      "GitHub - Data Extraction"
     ]
    },
    {
     "cell_type": "markdown",
     "metadata": {},
     "source": [
      "The file `../data/github-repositories-2015-02-17` contains a list of GitHub repositories that are candidates to store a package related to R. Those candidates were collected from the activity on GitHub between 2013 and 2014 (included). Those candidates all contain a `DESCRIPTION` file at the root of the repository.\n",
      "\n",
      "In this notebook, we will retrieve those Git repository and get the metadata contained in the `DESCRIPTION` file for every version of this file."
     ]
    },
    {
     "cell_type": "code",
     "collapsed": false,
     "input": [
      "import pandas\n",
      "from datetime import date"
     ],
     "language": "python",
     "metadata": {},
     "outputs": [],
     "prompt_number": 1
    },
    {
     "cell_type": "markdown",
     "metadata": {},
     "source": [
      "We will make use of the following commands:\n",
      " - `git clone <url> <path>` where <url> is the url of the repository and <path> is the location to store the repository.\n",
      " - `git log --follow --format=\"%h / %ci\" <path>` where <path> will be `DESCRIPTION`. The output of this command is a list of <commit> / <date> for this file. \n",
      " - `git show <commit>:<path>` where <commit> is the considered commit, and <path> will be `DESCRIPTION`. This command outputs the content of the file at the given commit."
     ]
    },
    {
     "cell_type": "markdown",
     "metadata": {},
     "source": [
      "We will retrieve a lot of data, we can benefit from IPython's parallel computation tool.\n",
      "\n",
      "**To use this notebook, you need either to configure your IPController or to start a cluster of IPython nodes, using `ipcluster start -n 4` for example.** See https://ipython.org/ipython-doc/dev/parallel/parallel_process.html for more information.\n",
      "\n",
      "It seems that most recent versions of IPython Notebook can directly start cluster from the web interface, under the *Cluster* tab."
     ]
    },
    {
     "cell_type": "code",
     "collapsed": false,
     "input": [
      "from IPython import parallel\n",
      "clients = parallel.Client()\n",
      "clients.block = False # Asynchronous computations\n",
      "print 'Clients', str(clients.ids)"
     ],
     "language": "python",
     "metadata": {},
     "outputs": [
      {
       "output_type": "stream",
       "stream": "stdout",
       "text": [
        "Clients [0, 1, 2, 3, 4, 5, 6, 7, 8, 9, 10, 11]\n"
       ]
      }
     ],
     "prompt_number": 2
    },
    {
     "cell_type": "code",
     "collapsed": false,
     "input": [
      "github = pandas.DataFrame.from_csv('../data/github-repositories-2015-02-17.csv')\n",
      "repositories = github[['owner', 'repository']]\n",
      "\n",
      "FILENAME = '../data/github-raw-{date}.csv'.format(date=date.today().isoformat())"
     ],
     "language": "python",
     "metadata": {},
     "outputs": [],
     "prompt_number": 3
    },
    {
     "cell_type": "code",
     "collapsed": false,
     "input": [
      "def get_data_from((owner, repository), remove=True):\n",
      "    url = 'http://github.com/{owner}/{repository}'.format(owner=owner, repository=repository)\n",
      "    path = repository\n",
      "    data_list = []\n",
      "    starting_directory = os.getcwd()\n",
      "    \n",
      "    try:\n",
      "        subprocess.check_output(['git', 'clone', url, path])\n",
      "        os.chdir(path)\n",
      "        \n",
      "        # Commits list for DESCRIPTION\n",
      "        commits = subprocess.check_output(['git', 'log', '--follow', '--format=%h/%ci', 'DESCRIPTION'])\n",
      "        for commit in [x.strip() for x in commits.split('\\n') if len(x.strip())!=0]:\n",
      "            commit_sha, date = commit.split('/')\n",
      "            # Get content\n",
      "            try:\n",
      "                content = subprocess.check_output(['git', 'show', '{id}:{path}'.format(id=commit_sha, path='DESCRIPTION')])\n",
      "\n",
      "                metadata = deb822.Deb822(content.split('\\n'))\n",
      "                data = {}\n",
      "                for md in ['Package', 'Version', 'License', 'Imports', 'Suggests', 'Depends']:\n",
      "                    data[md] = metadata.get(md, '')\n",
      "                data['date'] = date\n",
      "                data['owner'] = owner\n",
      "                data['repository'] = repository\n",
      "                data_list.append(data)\n",
      "            except subprocess.CalledProcessError as e:\n",
      "                raise Exception(owner + ' ' + repo + '/' + commit_sha + ' : ' + e.output)\n",
      "    except subprocess.CalledProcessError as e: \n",
      "        pass\n",
      "    finally:\n",
      "        if remove:\n",
      "            try:\n",
      "                subprocess.check_output(['rm', '-r', os.path.join('..', path)])\n",
      "            except subprocess.CalledProcessError:\n",
      "                pass\n",
      "        os.chdir(starting_directory)\n",
      "    return data_list"
     ],
     "language": "python",
     "metadata": {},
     "outputs": [],
     "prompt_number": 4
    },
    {
     "cell_type": "code",
     "collapsed": false,
     "input": [
      "data = []\n",
      "\n",
      "clients[:].execute('import subprocess, os')\n",
      "clients[:].execute('from debian import deb822')\n",
      "\n",
      "balanced = clients.load_balanced_view()\n",
      "balanced.set_flags(timeout=30, retries=3)\n",
      "\n",
      "items = [(owner, repo) for idx, (owner, repo) in repositories.iterrows()][:200]\n",
      "\n",
      "print len(items), 'items'\n",
      "    \n",
      "n = 0\n",
      "res = balanced.map(get_data_from, items, ordered=False)\n",
      "\n",
      "import time\n",
      "while not res.ready():\n",
      "    time.sleep(5)\n",
      "    print res.progress\n",
      "    \n",
      "for result in res.result:\n",
      "    data.extend(result)"
     ],
     "language": "python",
     "metadata": {},
     "outputs": [
      {
       "output_type": "stream",
       "stream": "stdout",
       "text": [
        "200 items\n",
        "10"
       ]
      },
      {
       "output_type": "stream",
       "stream": "stdout",
       "text": [
        "\n",
        "15"
       ]
      },
      {
       "output_type": "stream",
       "stream": "stdout",
       "text": [
        "\n",
        "20"
       ]
      },
      {
       "output_type": "stream",
       "stream": "stdout",
       "text": [
        "\n",
        "24"
       ]
      },
      {
       "output_type": "stream",
       "stream": "stdout",
       "text": [
        "\n",
        "28"
       ]
      },
      {
       "output_type": "stream",
       "stream": "stdout",
       "text": [
        "\n",
        "188"
       ]
      },
      {
       "output_type": "stream",
       "stream": "stdout",
       "text": [
        "\n",
        "190"
       ]
      },
      {
       "output_type": "stream",
       "stream": "stdout",
       "text": [
        "\n",
        "192"
       ]
      },
      {
       "output_type": "stream",
       "stream": "stdout",
       "text": [
        "\n",
        "193"
       ]
      },
      {
       "output_type": "stream",
       "stream": "stdout",
       "text": [
        "\n",
        "193"
       ]
      },
      {
       "output_type": "stream",
       "stream": "stdout",
       "text": [
        "\n",
        "193"
       ]
      },
      {
       "output_type": "stream",
       "stream": "stdout",
       "text": [
        "\n",
        "194"
       ]
      },
      {
       "output_type": "stream",
       "stream": "stdout",
       "text": [
        "\n",
        "195"
       ]
      },
      {
       "output_type": "stream",
       "stream": "stdout",
       "text": [
        "\n",
        "196"
       ]
      },
      {
       "output_type": "stream",
       "stream": "stdout",
       "text": [
        "\n",
        "196"
       ]
      },
      {
       "output_type": "stream",
       "stream": "stdout",
       "text": [
        "\n",
        "197"
       ]
      },
      {
       "output_type": "stream",
       "stream": "stdout",
       "text": [
        "\n",
        "197"
       ]
      },
      {
       "output_type": "stream",
       "stream": "stdout",
       "text": [
        "\n",
        "197"
       ]
      },
      {
       "output_type": "stream",
       "stream": "stdout",
       "text": [
        "\n",
        "197"
       ]
      },
      {
       "output_type": "stream",
       "stream": "stdout",
       "text": [
        "\n",
        "197"
       ]
      },
      {
       "output_type": "stream",
       "stream": "stdout",
       "text": [
        "\n",
        "197"
       ]
      },
      {
       "output_type": "stream",
       "stream": "stdout",
       "text": [
        "\n",
        "197"
       ]
      },
      {
       "output_type": "stream",
       "stream": "stdout",
       "text": [
        "\n",
        "197"
       ]
      },
      {
       "output_type": "stream",
       "stream": "stdout",
       "text": [
        "\n",
        "197"
       ]
      },
      {
       "output_type": "stream",
       "stream": "stdout",
       "text": [
        "\n",
        "197"
       ]
      },
      {
       "output_type": "stream",
       "stream": "stdout",
       "text": [
        "\n",
        "199"
       ]
      },
      {
       "output_type": "stream",
       "stream": "stdout",
       "text": [
        "\n",
        "199"
       ]
      },
      {
       "output_type": "stream",
       "stream": "stdout",
       "text": [
        "\n",
        "199"
       ]
      },
      {
       "output_type": "stream",
       "stream": "stdout",
       "text": [
        "\n",
        "199"
       ]
      },
      {
       "output_type": "stream",
       "stream": "stdout",
       "text": [
        "\n",
        "200"
       ]
      },
      {
       "ename": "CompositeError",
       "evalue": "one or more exceptions from call to method: get_data_from\n[Engine Exception]TaskTimeout: \n[Engine Exception]TaskTimeout: \n[Engine Exception]TaskTimeout: \n[Engine Exception]TaskTimeout: \n.... 152 more exceptions ...",
       "output_type": "pyerr",
       "traceback": [
        "[Engine Exception]",
        "Traceback (most recent call last):",
        "  File \"/usr/lib/python2.7/dist-packages/IPython/parallel/controller/scheduler.py\", line 501, in fail_unreachable",
        "    raise why()",
        "TaskTimeout",
        "",
        "[Engine Exception]",
        "Traceback (most recent call last):",
        "  File \"/usr/lib/python2.7/dist-packages/IPython/parallel/controller/scheduler.py\", line 501, in fail_unreachable",
        "    raise why()",
        "TaskTimeout",
        "",
        "[Engine Exception]",
        "Traceback (most recent call last):",
        "  File \"/usr/lib/python2.7/dist-packages/IPython/parallel/controller/scheduler.py\", line 501, in fail_unreachable",
        "    raise why()",
        "TaskTimeout",
        "",
        "[Engine Exception]",
        "Traceback (most recent call last):",
        "  File \"/usr/lib/python2.7/dist-packages/IPython/parallel/controller/scheduler.py\", line 501, in fail_unreachable",
        "    raise why()",
        "TaskTimeout",
        "",
        "... 152 more exceptions ..."
       ]
      },
      {
       "output_type": "stream",
       "stream": "stdout",
       "text": [
        "\n"
       ]
      }
     ],
     "prompt_number": 5
    },
    {
     "cell_type": "code",
     "collapsed": false,
     "input": [
      "df = pandas.DataFrame.from_records(data)\n",
      "df.to_csv(FILENAME)"
     ],
     "language": "python",
     "metadata": {},
     "outputs": []
    }
   ],
   "metadata": {}
  }
 ]
}