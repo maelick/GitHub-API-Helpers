{
 "metadata": {
  "name": "",
  "signature": "sha256:8719eb9faabac2216f6d1eb7d123b5ed7f8f4cb3394a6899ae3aa218c6f3a8ea"
 },
 "nbformat": 3,
 "nbformat_minor": 0,
 "worksheets": [
  {
   "cells": [
    {
     "cell_type": "heading",
     "level": 1,
     "metadata": {},
     "source": [
      "GitHub - Data Extraction"
     ]
    },
    {
     "cell_type": "markdown",
     "metadata": {},
     "source": [
      "The file `../data/github-repositories-2015-02-17` contains a list of GitHub repositories that are candidates to store a package related to R. Those candidates were collected from the activity on GitHub between 2013 and 2014 (included). Those candidates all contain a `DESCRIPTION` file at the root of the repository.\n",
      "\n",
      "We `git clone`-ed each of those repository. This notebook will parse those git repositories and extract the `DESCRIPTION` file of each commit. "
     ]
    },
    {
     "cell_type": "code",
     "collapsed": false,
     "input": [
      "import pandas\n",
      "from datetime import date"
     ],
     "language": "python",
     "metadata": {},
     "outputs": [],
     "prompt_number": 42
    },
    {
     "cell_type": "markdown",
     "metadata": {},
     "source": [
      "We will make use of the following commands:\n",
      " - `git clone <url> <path>` where <url> is the url of the repository and <path> is the location to store the repository.\n",
      " - `git log --follow --format=\"%h / %ci\" <path>` where <path> will be `DESCRIPTION`. The output of this command is a list of <commit> / <date> for this file. \n",
      " - `git show <commit>:<path>` where <commit> is the considered commit, and <path> will be `DESCRIPTION`. This command outputs the content of the file at the given commit."
     ]
    },
    {
     "cell_type": "code",
     "collapsed": false,
     "input": [
      "github = pandas.DataFrame.from_csv('../data/github-repositories-2015-02-17.csv')\n",
      "repositories = github[['owner', 'repository']]\n",
      "\n",
      "FILENAME = '../data/github-raw-{date}.csv'.format(date=date.today().isoformat())\n",
      "\n",
      "# Root of the directory where the repositories were collected\n",
      "GIT_DIR = '/data/github/' "
     ],
     "language": "python",
     "metadata": {},
     "outputs": [],
     "prompt_number": 43
    },
    {
     "cell_type": "markdown",
     "metadata": {},
     "source": [
      "We will retrieve a lot of data, we can benefit from IPython's parallel computation tool.\n",
      "\n",
      "**To use this notebook, you need either to configure your IPController or to start a cluster of IPython nodes, using `ipcluster start -n 4` for example.** See https://ipython.org/ipython-doc/dev/parallel/parallel_process.html for more information.\n",
      "\n",
      "It seems that most recent versions of IPython Notebook can directly start cluster from the web interface, under the *Cluster* tab."
     ]
    },
    {
     "cell_type": "code",
     "collapsed": false,
     "input": [
      "from IPython import parallel\n",
      "clients = parallel.Client()\n",
      "clients.block = True # synchronous computations\n",
      "print 'Clients:', str(clients.ids)"
     ],
     "language": "python",
     "metadata": {},
     "outputs": [
      {
       "output_type": "stream",
       "stream": "stdout",
       "text": [
        "Clients: [0, 1, 2, 3, 4, 5, 6, 7, 8, 9, 10, 11]\n"
       ]
      }
     ],
     "prompt_number": 44
    },
    {
     "cell_type": "code",
     "collapsed": false,
     "input": [
      "def get_data_from((owner, repository)):\n",
      "    # Move to target directory\n",
      "    try:\n",
      "        os.chdir(os.path.join(GIT_DIR, owner, repository))\n",
      "    except OSError as e: \n",
      "        # Should happen when directory does not exist\n",
      "        return []\n",
      "    \n",
      "    data_list = []\n",
      "    \n",
      "    # Get commits for DESCRIPTION\n",
      "    try:\n",
      "        commits = subprocess.check_output(['git', 'log', '--format=%H/%ci', '--', 'DESCRIPTION'])\n",
      "    except subprocess.CalledProcessError as e:\n",
      "        # Should not happen!?\n",
      "        raise Exception(owner + ' ' + repository + '/ log : ' + e.output)\n",
      "        \n",
      "    for commit in [x for x in commits.split('\\n') if len(x.strip())!=0]:\n",
      "        commit_sha, date = map(lambda x: x.strip(), commit.split('/'))\n",
      "        \n",
      "        # Get file content\n",
      "        try:\n",
      "            content = subprocess.check_output(['git', 'show', '{id}:{path}'.format(id=commit_sha, path='DESCRIPTION')])\n",
      "        except subprocess.CalledProcessError as e:\n",
      "            # Should not happen. We generate a new description with more details\n",
      "            raise Exception(owner + ' ' + repository + '/' + commit_sha + ' : ' + e.output)\n",
      "        \n",
      "        try:\n",
      "            metadata = deb822.Deb822(content.split('\\n'))\n",
      "        except Exception as e: \n",
      "            # I don't known which are the exceptions that Deb822 may throw!\n",
      "            continue # Go further\n",
      "            \n",
      "        data = {}\n",
      "        \n",
      "        for md in ['Package', 'Version', 'License', 'Imports', 'Suggests', 'Depends']:\n",
      "            data[md] = metadata.get(md, '')\n",
      "        \n",
      "        data['CommitDate'] = date\n",
      "        data['Owner'] = owner\n",
      "        data['Repository'] = repository\n",
      "        data_list.append(data)\n",
      "\n",
      "    # Return to root directory\n",
      "    os.chdir(GIT_DIR)\n",
      "    return data_list"
     ],
     "language": "python",
     "metadata": {},
     "outputs": [],
     "prompt_number": 45
    },
    {
     "cell_type": "code",
     "collapsed": false,
     "input": [
      "data = []\n",
      "\n",
      "clients[:].execute('import subprocess, os')\n",
      "clients[:].execute('from debian import deb822')\n",
      "clients[:]['GIT_DIR'] = GIT_DIR\n",
      "\n",
      "balanced = clients.load_balanced_view()\n",
      "balanced.set_flags(timeout=30, retries=3)\n",
      "\n",
      "items = [(owner, repo) for idx, (owner, repo) in repositories.iterrows()][:200]\n",
      "\n",
      "print len(items), 'items'\n",
      "    \n",
      "res = balanced.map(get_data_from, items, ordered=False)\n",
      "\n",
      "import time\n",
      "while not res.ready():\n",
      "    time.sleep(5)\n",
      "    print res.progress\n",
      "    \n",
      "for result in res.result:\n",
      "    data.extend(result)"
     ],
     "language": "python",
     "metadata": {},
     "outputs": [
      {
       "ename": "CompositeError",
       "evalue": "one or more exceptions from call to method: get_data_from\n[6:apply]: Exception: kmiddleton binning/15762c4 : \n[2:apply]: Exception: lgatto MSnbase/ce6de37 : \n[3:apply]: Exception: ramey datamicroarray/7abee7a : \n[7:apply]: Exception: vst mgarch/2f6d062 : \n.... 16 more exceptions ...",
       "output_type": "pyerr",
       "traceback": [
        "[6:apply]: ",
        "\u001b[0;31m---------------------------------------------------------------------------\u001b[0m",
        "\u001b[0;31mException\u001b[0m                                 Traceback (most recent call last)\u001b[0;32m<string>\u001b[0m in \u001b[0;36m<module>\u001b[0;34m()\u001b[0m",
        "\u001b[0;32m<ipython-input-45-5b602ac7322b>\u001b[0m in \u001b[0;36mget_data_from\u001b[0;34m((owner, repository))\u001b[0m",
        "\u001b[0;31mException\u001b[0m: kmiddleton binning/15762c4 : ",
        "",
        "[2:apply]: ",
        "\u001b[0;31m---------------------------------------------------------------------------\u001b[0m",
        "\u001b[0;31mException\u001b[0m                                 Traceback (most recent call last)\u001b[0;32m<string>\u001b[0m in \u001b[0;36m<module>\u001b[0;34m()\u001b[0m",
        "\u001b[0;32m<ipython-input-45-5b602ac7322b>\u001b[0m in \u001b[0;36mget_data_from\u001b[0;34m((owner, repository))\u001b[0m",
        "\u001b[0;31mException\u001b[0m: lgatto MSnbase/ce6de37 : ",
        "",
        "[3:apply]: ",
        "\u001b[0;31m---------------------------------------------------------------------------\u001b[0m",
        "\u001b[0;31mException\u001b[0m                                 Traceback (most recent call last)\u001b[0;32m<string>\u001b[0m in \u001b[0;36m<module>\u001b[0;34m()\u001b[0m",
        "\u001b[0;32m<ipython-input-45-5b602ac7322b>\u001b[0m in \u001b[0;36mget_data_from\u001b[0;34m((owner, repository))\u001b[0m",
        "\u001b[0;31mException\u001b[0m: ramey datamicroarray/7abee7a : ",
        "",
        "[7:apply]: ",
        "\u001b[0;31m---------------------------------------------------------------------------\u001b[0m",
        "\u001b[0;31mException\u001b[0m                                 Traceback (most recent call last)\u001b[0;32m<string>\u001b[0m in \u001b[0;36m<module>\u001b[0;34m()\u001b[0m",
        "\u001b[0;32m<ipython-input-45-5b602ac7322b>\u001b[0m in \u001b[0;36mget_data_from\u001b[0;34m((owner, repository))\u001b[0m",
        "\u001b[0;31mException\u001b[0m: vst mgarch/2f6d062 : ",
        "",
        "... 16 more exceptions ..."
       ]
      },
      {
       "output_type": "stream",
       "stream": "stdout",
       "text": [
        "200 items\n"
       ]
      }
     ],
     "prompt_number": 46
    },
    {
     "cell_type": "code",
     "collapsed": false,
     "input": [
      "df = pandas.DataFrame.from_records(data)\n",
      "df.to_csv(FILENAME)"
     ],
     "language": "python",
     "metadata": {},
     "outputs": []
    }
   ],
   "metadata": {}
  }
 ]
}