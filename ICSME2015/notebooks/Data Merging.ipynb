{
 "metadata": {
  "name": "",
  "signature": "sha256:975d96e13c68fe28e53ff14713d6a38c04e99da5734cf3f8ff9a80c9a431cc13"
 },
 "nbformat": 3,
 "nbformat_minor": 0,
 "worksheets": [
  {
   "cells": [
    {
     "cell_type": "heading",
     "level": 1,
     "metadata": {},
     "source": [
      "Data Merging"
     ]
    },
    {
     "cell_type": "markdown",
     "metadata": {},
     "source": [
      "We collected data from GitHub, BioConductor and CRAN. In this notebook, we will merge those data in a single file that will be used to do our analysis. The expected format of the file will be something like:\n",
      " - Package : name of the package\n",
      " - Version : version for the meta-data\n",
      " - Source : github, cran or bioconductor\n",
      " - Date : either the value of CommitDate, SnapshotFirstDate or BiocDate, based on the value of Source\n",
      " - License : the license\n",
      " - Suggests : a white-space separated list of suggested dependencies\n",
      " - Imports : a white-space separated list of imported packages\n",
      " - Depends : a white-space separated list of dependencies\n",
      " - Owner : (github only) name of the owner of the repository\n",
      " - Repository : (github only) name of the repository\n",
      " - CommitDate : (github only) date of the commit containing the meta-data\n",
      " - CRANRelease : (cran only) file server date of the file containing the meta-data\n",
      " - SnapshotFirstDate : (cran only) date of the first snapshot containing this version\n",
      " - SnapshotLastDate : (cran only) date of the last snapshot containing this version\n",
      " - BiocDate : (bioc only) date of the BioConductor release including this version\n",
      " - BiocVersion : (bioc only) version of this BioConductor release\n",
      " - BiocCategory : (bioc only) either Software, Annotation Data or Experiment Data"
     ]
    },
    {
     "cell_type": "code",
     "collapsed": false,
     "input": [
      "fields = ['Package', 'Version', 'Source', 'Date', 'License', 'Suggests', 'Imports', 'Depends', 'Owner', \n",
      " 'Repository', 'CommitDate', 'CRANRelease', 'SnapshotFirstDate', 'SnapshotLastDate', 'BiocDate',\n",
      " 'BiocVersion', 'BiocCategory']\n",
      "\n",
      "OUTPUT = '../data/github-cran-bioc-alldata.csv'"
     ],
     "language": "python",
     "metadata": {},
     "outputs": [],
     "prompt_number": 15
    },
    {
     "cell_type": "code",
     "collapsed": false,
     "input": [
      "import pandas\n",
      "\n",
      "github = pandas.DataFrame.from_csv('../data/github-raw-2015-05-04.csv')\n",
      "cran = pandas.DataFrame.from_csv('../data/cran-deps-history-2015-04-20.csv', index_col=None)\n",
      "bioc = pandas.DataFrame.from_csv('../data/bioconductor-2015-05-05.csv')"
     ],
     "language": "python",
     "metadata": {},
     "outputs": [],
     "prompt_number": 16
    },
    {
     "cell_type": "markdown",
     "metadata": {},
     "source": [
      "**Forget that:** For data coming from Github, we do some preprocessing: if a pair (package, version) has many instances, we keep the oldest one."
     ]
    },
    {
     "cell_type": "code",
     "collapsed": false,
     "input": [
      "# github = github.sort('CommitDate')\n",
      "# github = github.drop_duplicates(('Package', 'Version'), take_last=False)"
     ],
     "language": "python",
     "metadata": {},
     "outputs": [],
     "prompt_number": 17
    },
    {
     "cell_type": "markdown",
     "metadata": {},
     "source": [
      "The same **(not?)** applies for BioConductor."
     ]
    },
    {
     "cell_type": "code",
     "collapsed": false,
     "input": [
      "# bioc = bioc.sort('BiocDate')\n",
      "# bioc = bioc.drop_duplicates(('Package', 'Version'), take_last=False)"
     ],
     "language": "python",
     "metadata": {},
     "outputs": [],
     "prompt_number": 18
    },
    {
     "cell_type": "markdown",
     "metadata": {},
     "source": [
      "The following function parses the dependencies and return a list of strings."
     ]
    },
    {
     "cell_type": "code",
     "collapsed": false,
     "input": [
      "def parse_dependencies(str_list, ignored=[]):\n",
      "    \"\"\"\n",
      "    Return a list of strings where each string is a package name not in `ignored`.\n",
      "    The input is a list of dependencies as contained in a DESCRIPTION file. \n",
      "    \"\"\"\n",
      "    # Check NaN\n",
      "    str_list = str_list if str_list != pandas.np.nan else ''\n",
      "    \n",
      "    # Filter version numbers\n",
      "    f = lambda lst: [dep.split('(')[0].strip() for dep in lst.split(',')]\n",
      "    items = filter(lambda x: len(x) > 0, f(str_list))\n",
      "    items = filter(lambda x: x not in ignored, items)\n",
      "    return items"
     ],
     "language": "python",
     "metadata": {},
     "outputs": [],
     "prompt_number": 19
    },
    {
     "cell_type": "markdown",
     "metadata": {},
     "source": [
      "We now merge the three datasets into one big dataset, and apply some processing (parse_dependencies)."
     ]
    },
    {
     "cell_type": "code",
     "collapsed": false,
     "input": [
      "cran['Source'] = 'cran'\n",
      "cran['Date'] = cran['SnapshotFirstDate']\n",
      "github['Source'] = 'github'\n",
      "github['Date'] = github['CommitDate']\n",
      "bioc['Source'] = 'bioc'\n",
      "bioc['Date'] = bioc['BiocDate']\n",
      "\n",
      "# Merge\n",
      "packages = pandas.concat([cran, github, bioc])\n",
      "\n",
      "# Deal with dependencies lists\n",
      "dependencies_formatter = lambda x: ' '.join(parse_dependencies(x))\n",
      "for field in ['Suggests', 'Imports', 'Depends']:\n",
      "    packages[field] = packages[field].fillna(value='').apply(dependencies_formatter)\n",
      "\n",
      "# Convert date\n",
      "packages['Date'] = pandas.to_datetime(packages['Date'])\n",
      "\n",
      "# Remove useless packages (see http://cran.r-project.org/doc/manuals/r-release/R-exts.html#Creating-R-packages)\n",
      "# The mandatory \u2018Package\u2019 field gives the name of the package. \n",
      "# This should contain only (ASCII) letters, numbers and dot, have at least two characters and \n",
      "# start with a letter and not end in a dot. \n",
      "packages = packages.dropna(subset=['Version', 'Package', 'Date'])\n",
      "packages = packages[packages.Package.str.match(r'^[a-zA-Z][a-zA-Z0-9\\.]+$')]\n",
      "\n",
      "    \n",
      "output = packages[fields].sort('Package')"
     ],
     "language": "python",
     "metadata": {},
     "outputs": [],
     "prompt_number": 20
    },
    {
     "cell_type": "code",
     "collapsed": false,
     "input": [
      "output.to_csv(OUTPUT, encoding='utf-8')"
     ],
     "language": "python",
     "metadata": {},
     "outputs": [],
     "prompt_number": 21
    },
    {
     "cell_type": "code",
     "collapsed": false,
     "input": [
      "g = bioc.groupby(by='BiocDate')\n",
      "g.count()"
     ],
     "language": "python",
     "metadata": {},
     "outputs": [
      {
       "html": [
        "<div style=\"max-height:1000px;max-width:1500px;overflow:auto;\">\n",
        "<table border=\"1\" class=\"dataframe\">\n",
        "  <thead>\n",
        "    <tr style=\"text-align: right;\">\n",
        "      <th></th>\n",
        "      <th>Package</th>\n",
        "      <th>Version</th>\n",
        "      <th>License</th>\n",
        "      <th>Depends</th>\n",
        "      <th>Imports</th>\n",
        "      <th>Suggests</th>\n",
        "      <th>BiocCategory</th>\n",
        "      <th>BiocVersion</th>\n",
        "      <th>Source</th>\n",
        "      <th>Date</th>\n",
        "    </tr>\n",
        "    <tr>\n",
        "      <th>BiocDate</th>\n",
        "      <th></th>\n",
        "      <th></th>\n",
        "      <th></th>\n",
        "      <th></th>\n",
        "      <th></th>\n",
        "      <th></th>\n",
        "      <th></th>\n",
        "      <th></th>\n",
        "      <th></th>\n",
        "      <th></th>\n",
        "    </tr>\n",
        "  </thead>\n",
        "  <tbody>\n",
        "    <tr>\n",
        "      <th>2009-10-28</th>\n",
        "      <td>911</td>\n",
        "      <td>911</td>\n",
        "      <td>911</td>\n",
        "      <td>881</td>\n",
        "      <td>386</td>\n",
        "      <td>345</td>\n",
        "      <td>911</td>\n",
        "      <td>911</td>\n",
        "      <td>911</td>\n",
        "      <td>911</td>\n",
        "    </tr>\n",
        "    <tr>\n",
        "      <th>2010-04-23</th>\n",
        "      <td>973</td>\n",
        "      <td>973</td>\n",
        "      <td>973</td>\n",
        "      <td>925</td>\n",
        "      <td>459</td>\n",
        "      <td>379</td>\n",
        "      <td>973</td>\n",
        "      <td>973</td>\n",
        "      <td>973</td>\n",
        "      <td>973</td>\n",
        "    </tr>\n",
        "    <tr>\n",
        "      <th>2010-10-18</th>\n",
        "      <td>1023</td>\n",
        "      <td>1023</td>\n",
        "      <td>1023</td>\n",
        "      <td>963</td>\n",
        "      <td>546</td>\n",
        "      <td>410</td>\n",
        "      <td>1023</td>\n",
        "      <td>1023</td>\n",
        "      <td>1023</td>\n",
        "      <td>1023</td>\n",
        "    </tr>\n",
        "    <tr>\n",
        "      <th>2011-04-14</th>\n",
        "      <td>1164</td>\n",
        "      <td>1164</td>\n",
        "      <td>1164</td>\n",
        "      <td>1096</td>\n",
        "      <td>655</td>\n",
        "      <td>452</td>\n",
        "      <td>1164</td>\n",
        "      <td>1164</td>\n",
        "      <td>1164</td>\n",
        "      <td>1164</td>\n",
        "    </tr>\n",
        "    <tr>\n",
        "      <th>2011-11-01</th>\n",
        "      <td>1233</td>\n",
        "      <td>1233</td>\n",
        "      <td>1233</td>\n",
        "      <td>1159</td>\n",
        "      <td>707</td>\n",
        "      <td>489</td>\n",
        "      <td>1233</td>\n",
        "      <td>1233</td>\n",
        "      <td>1233</td>\n",
        "      <td>1233</td>\n",
        "    </tr>\n",
        "    <tr>\n",
        "      <th>2014-10-14</th>\n",
        "      <td>2054</td>\n",
        "      <td>2054</td>\n",
        "      <td>2054</td>\n",
        "      <td>1944</td>\n",
        "      <td>1185</td>\n",
        "      <td>1043</td>\n",
        "      <td>2054</td>\n",
        "      <td>2054</td>\n",
        "      <td>2054</td>\n",
        "      <td>2054</td>\n",
        "    </tr>\n",
        "  </tbody>\n",
        "</table>\n",
        "</div>"
       ],
       "metadata": {},
       "output_type": "pyout",
       "prompt_number": 26,
       "text": [
        "            Package  Version  License  Depends  Imports  Suggests  \\\n",
        "BiocDate                                                            \n",
        "2009-10-28      911      911      911      881      386       345   \n",
        "2010-04-23      973      973      973      925      459       379   \n",
        "2010-10-18     1023     1023     1023      963      546       410   \n",
        "2011-04-14     1164     1164     1164     1096      655       452   \n",
        "2011-11-01     1233     1233     1233     1159      707       489   \n",
        "2014-10-14     2054     2054     2054     1944     1185      1043   \n",
        "\n",
        "            BiocCategory  BiocVersion  Source  Date  \n",
        "BiocDate                                             \n",
        "2009-10-28           911          911     911   911  \n",
        "2010-04-23           973          973     973   973  \n",
        "2010-10-18          1023         1023    1023  1023  \n",
        "2011-04-14          1164         1164    1164  1164  \n",
        "2011-11-01          1233         1233    1233  1233  \n",
        "2014-10-14          2054         2054    2054  2054  "
       ]
      }
     ],
     "prompt_number": 26
    }
   ],
   "metadata": {}
  }
 ]
}