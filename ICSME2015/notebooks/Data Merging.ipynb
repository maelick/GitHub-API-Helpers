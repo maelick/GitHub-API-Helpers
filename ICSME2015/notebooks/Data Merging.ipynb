{
 "metadata": {
  "name": ""
 },
 "nbformat": 3,
 "nbformat_minor": 0,
 "worksheets": [
  {
   "cells": [
    {
     "cell_type": "heading",
     "level": 1,
     "metadata": {},
     "source": [
      "Data Merging"
     ]
    },
    {
     "cell_type": "markdown",
     "metadata": {},
     "source": [
      "We collected data from GitHub, BioConductor and CRAN. In this notebook, we will merge those data in a single file that will be used to do our analysis. The expected format of the file will be something like:\n",
      " - Package : name of the package\n",
      " - Version : version for the meta-data\n",
      " - Source : github, cran or bioconductor\n",
      " - Date : either the value of CommitDate, SnapshotFirstDate or BiocDate, based on the value of Source\n",
      " - License : the license\n",
      " - Suggests : a white-space separated list of suggested dependencies\n",
      " - Imports : a white-space separated list of imported packages\n",
      " - Depends : a white-space separated list of dependencies\n",
      " - Owner : (github only) name of the owner of the repository\n",
      " - Repository : (github only) name of the repository\n",
      " - CommitDate : (github only) date of the commit containing the meta-data\n",
      " - CRANRelease : (cran only) file server date of the file containing the meta-data\n",
      " - SnapshotFirstDate : (cran only) date of the first snapshot containing this version\n",
      " - SnapshotLastDate : (cran only) date of the last snapshot containing this version\n",
      " - BiocDate : (bioc only) date of the BioConductor release including this version\n",
      " - BiocVersion : (bioc only) version of this BioConductor release\n",
      " - BiocCategory : (bioc only) either Software, Annotation Data or Experiment Data"
     ]
    },
    {
     "cell_type": "code",
     "collapsed": false,
     "input": [
      "import pandas"
     ],
     "language": "python",
     "metadata": {},
     "outputs": [],
     "prompt_number": 1
    },
    {
     "cell_type": "code",
     "collapsed": false,
     "input": [
      "github = None\n",
      "cran = None\n",
      "bioc = None"
     ],
     "language": "python",
     "metadata": {},
     "outputs": []
    }
   ],
   "metadata": {}
  }
 ]
}