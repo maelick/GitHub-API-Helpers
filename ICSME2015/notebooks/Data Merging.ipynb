{
 "metadata": {
  "name": "",
  "signature": "sha256:2d9c3c829ebaa9913d23ab277c37fabe6e07cfcbf7f47c246635b228adcbbd04"
 },
 "nbformat": 3,
 "nbformat_minor": 0,
 "worksheets": [
  {
   "cells": [
    {
     "cell_type": "heading",
     "level": 1,
     "metadata": {},
     "source": [
      "Data Merging"
     ]
    },
    {
     "cell_type": "markdown",
     "metadata": {},
     "source": [
      "We collected data from GitHub, BioConductor and CRAN. In this notebook, we will merge those data in a single file that will be used to do our analysis. The expected format of the file will be something like:\n",
      " - Package : name of the package\n",
      " - Version : version for the meta-data\n",
      " - Source : github, cran or bioconductor\n",
      " - Date : either the value of CommitDate, SnapshotFirstDate or BiocDate, based on the value of Source\n",
      " - License : the license\n",
      " - Suggests : a white-space separated list of suggested dependencies\n",
      " - Imports : a white-space separated list of imported packages\n",
      " - Depends : a white-space separated list of dependencies\n",
      " - Owner : (github only) name of the owner of the repository\n",
      " - Repository : (github only) name of the repository\n",
      " - CommitDate : (github only) date of the commit containing the meta-data\n",
      " - CRANRelease : (cran only) file server date of the file containing the meta-data\n",
      " - SnapshotFirstDate : (cran only) date of the first snapshot containing this version\n",
      " - SnapshotLastDate : (cran only) date of the last snapshot containing this version\n",
      " - BiocDate : (bioc only) date of the BioConductor release including this version\n",
      " - BiocVersion : (bioc only) version of this BioConductor release\n",
      " - BiocCategory : (bioc only) either Software, Annotation Data or Experiment Data"
     ]
    },
    {
     "cell_type": "code",
     "collapsed": false,
     "input": [
      "import pandas"
     ],
     "language": "python",
     "metadata": {},
     "outputs": [],
     "prompt_number": 4
    },
    {
     "cell_type": "code",
     "collapsed": false,
     "input": [
      "github = None\n",
      "cran = None\n",
      "bioc = None"
     ],
     "language": "python",
     "metadata": {},
     "outputs": []
    },
    {
     "cell_type": "markdown",
     "metadata": {},
     "source": [
      "There are several packages that are bundled with R. Some developers refer to those packages as dependencies. We will filter out these dependencies. "
     ]
    },
    {
     "cell_type": "code",
     "collapsed": false,
     "input": [
      "R_packages = ('R MASS Matrix base boot class cluster codetools compiler datasets foreign grDevices ' +\n",
      "        'graphics grid lattice methods mgcv nlme nnet parallel rpart ' +\n",
      "        'spatial splines stats stats4 survival tcltk tools translations utils').split(' ')"
     ],
     "language": "python",
     "metadata": {},
     "outputs": [],
     "prompt_number": 1
    },
    {
     "cell_type": "markdown",
     "metadata": {},
     "source": [
      "The following function parses the dependencies and return a list of strings."
     ]
    },
    {
     "cell_type": "code",
     "collapsed": false,
     "input": [
      "def parse_dependencies(str_list, ignored=[]):\n",
      "    \"\"\"\n",
      "    Return a list of strings where each string is a package name not in `ignored`.\n",
      "    The input is a list of dependencies as contained in a DESCRIPTION file. \n",
      "    \"\"\"\n",
      "    # Check NaN\n",
      "    str_list = str_list if str_list != pandas.np.nan else ''\n",
      "    \n",
      "    # Filter version numbers\n",
      "    f = lambda lst: [dep.split('(')[0].strip() for dep in lst.split(',')]\n",
      "    items = filter(lambda x: len(x) > 0, f(str_list))\n",
      "    items = filter(lambda x: x not in ignored, items)\n",
      "    return items"
     ],
     "language": "python",
     "metadata": {},
     "outputs": [],
     "prompt_number": 2
    }
   ],
   "metadata": {}
  }
 ]
}