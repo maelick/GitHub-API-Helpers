{
 "metadata": {
  "name": "",
  "signature": "sha256:afa540f5d8da5c47f5fa402cf856423f5c147ccb9121b9ed63ceca11b5aca793"
 },
 "nbformat": 3,
 "nbformat_minor": 0,
 "worksheets": [
  {
   "cells": [
    {
     "cell_type": "heading",
     "level": 1,
     "metadata": {},
     "source": [
      "R Package Dependencies"
     ]
    },
    {
     "cell_type": "code",
     "collapsed": false,
     "input": [
      "import pandas\n",
      "import deps\n",
      "import itertools\n",
      "from collections import OrderedDict\n",
      "\n",
      "%matplotlib inline\n",
      "from IPython.display import set_matplotlib_formats\n",
      "#set_matplotlib_formats('pdf')\n",
      "\n",
      "# Workaround if changes are made to deps.py and \"Run All\" is hit\n",
      "deps = reload(deps)"
     ],
     "language": "python",
     "metadata": {},
     "outputs": [],
     "prompt_number": 13
    },
    {
     "cell_type": "code",
     "collapsed": false,
     "input": [
      "data = pandas.DataFrame.from_csv('../data/github-cran-bioc-alldata.csv', index_col=None)\n",
      "sources = ['github', 'cran', 'bioc']\n",
      "combinations = []\n",
      "for n in range(len(sources)):\n",
      "    combinations += [list(x) for x in itertools.combinations(sources, n+1)]"
     ],
     "language": "python",
     "metadata": {},
     "outputs": [],
     "prompt_number": 2
    },
    {
     "cell_type": "markdown",
     "metadata": {},
     "source": [
      "Let us create the graphs for several dates."
     ]
    },
    {
     "cell_type": "code",
     "collapsed": false,
     "input": [
      "graphs = OrderedDict()\n",
      "for date in pandas.date_range(start='2013-09', end='2015-04', freq='1M'):\n",
      "        graphs[date] = deps.create_graph_for(data, date)"
     ],
     "language": "python",
     "metadata": {},
     "outputs": [],
     "prompt_number": 3
    },
    {
     "cell_type": "markdown",
     "metadata": {},
     "source": [
      "Let us compute which are the packages that are installable."
     ]
    },
    {
     "cell_type": "code",
     "collapsed": false,
     "input": [
      "for date, graph in graphs.iteritems():\n",
      "    print date\n",
      "    for from_sources in combinations:\n",
      "        packages = filter(lambda p: deps.available(graph, p, from_sources), graph.iterkeys())\n",
      "        print len(packages), 'packages in', from_sources\n",
      "        for combination in [[]] + combinations: \n",
      "            installable = deps.installable(graph, from_sources, combination)\n",
      "            percentage = 0 if len(packages) == 0 else 100.0 * len(installable) / len(packages)\n",
      "            print '{0:.1f}% ({1}) are installable using {2!s}'.format(percentage, len(installable), combination)\n",
      "        print\n",
      "    print"
     ],
     "language": "python",
     "metadata": {},
     "outputs": [
      {
       "output_type": "stream",
       "stream": "stdout",
       "text": [
        "2013-09-30 00:00:00\n",
        "1817 packages in ['github']\n",
        "43.6% (793) are installable using []"
       ]
      },
      {
       "output_type": "stream",
       "stream": "stdout",
       "text": [
        "\n",
        "47.1% (855) are installable using ['github']\n",
        "86.5% (1572) are installable using ['cran']\n",
        "44.7% (813) are installable using ['bioc']"
       ]
      },
      {
       "output_type": "stream",
       "stream": "stdout",
       "text": [
        "\n",
        "87.1% (1582) are installable using ['github', 'cran']\n",
        "48.4% (880) are installable using ['github', 'bioc']\n",
        "93.8% (1705) are installable using ['cran', 'bioc']\n",
        "94.6% (1719) are installable using ['github', 'cran', 'bioc']"
       ]
      },
      {
       "output_type": "stream",
       "stream": "stdout",
       "text": [
        "\n",
        "\n",
        "4852 packages in ['cran']\n",
        "67.0% (3253) are installable using []\n",
        "69.6% (3376) are installable using ['github']"
       ]
      },
      {
       "output_type": "stream",
       "stream": "stdout",
       "text": [
        "\n",
        "97.4% (4725) are installable using ['cran']\n",
        "67.6% (3279) are installable using ['bioc']\n",
        "97.4% (4725) are installable using ['github', 'cran']"
       ]
      },
      {
       "output_type": "stream",
       "stream": "stdout",
       "text": [
        "\n",
        "70.1% (3402) are installable using ['github', 'bioc']\n",
        "99.4% (4824) are installable using ['cran', 'bioc']\n",
        "99.4% (4824) are installable using ['github', 'cran', 'bioc']"
       ]
      },
      {
       "output_type": "stream",
       "stream": "stdout",
       "text": [
        "\n",
        "\n",
        "1593 packages in ['bioc']\n",
        "16.3% (259) are installable using []\n",
        "16.5% (263) are installable using ['github']\n",
        "19.0% (302) are installable using ['cran']\n",
        "31.7% (505) are installable using ['bioc']\n",
        "19.0% (302) are installable using ['github', 'cran']"
       ]
      },
      {
       "output_type": "stream",
       "stream": "stdout",
       "text": [
        "\n",
        "32.5% (518) are installable using ['github', 'bioc']\n",
        "99.1% (1578) are installable using ['cran', 'bioc']\n",
        "99.1% (1578) are installable using ['github', 'cran', 'bioc']\n",
        "\n",
        "6160 packages in ['github', 'cran']\n",
        "61.7% (3799) are installable using []"
       ]
      },
      {
       "output_type": "stream",
       "stream": "stdout",
       "text": [
        "\n",
        "64.3% (3961) are installable using ['github']\n",
        "94.2% (5802) are installable using ['cran']\n",
        "62.4% (3843) are installable using ['bioc']"
       ]
      },
      {
       "output_type": "stream",
       "stream": "stdout",
       "text": [
        "\n",
        "94.4% (5812) are installable using ['github', 'cran']\n",
        "65.1% (4010) are installable using ['github', 'bioc']\n",
        "97.8% (6026) are installable using ['cran', 'bioc']"
       ]
      },
      {
       "output_type": "stream",
       "stream": "stdout",
       "text": [
        "\n",
        "98.1% (6040) are installable using ['github', 'cran', 'bioc']\n",
        "\n",
        "3361 packages in ['github', 'bioc']\n",
        "31.1% (1046) are installable using []\n",
        "33.1% (1111) are installable using ['github']"
       ]
      },
      {
       "output_type": "stream",
       "stream": "stdout",
       "text": [
        "\n",
        "55.4% (1862) are installable using ['cran']\n",
        "39.0% (1310) are installable using ['bioc']\n",
        "55.7% (1872) are installable using ['github', 'cran']\n",
        "41.3% (1388) are installable using ['github', 'bioc']"
       ]
      },
      {
       "output_type": "stream",
       "stream": "stdout",
       "text": [
        "\n",
        "96.4% (3240) are installable using ['cran', 'bioc']\n",
        "96.8% (3254) are installable using ['github', 'cran', 'bioc']\n",
        "\n",
        "6443"
       ]
      },
      {
       "output_type": "stream",
       "stream": "stdout",
       "text": [
        " packages in ['cran', 'bioc']\n",
        "54.5% (3510) are installable using []\n",
        "56.4% (3637) are installable using ['github']\n",
        "78.0% (5025) are installable using ['cran']"
       ]
      },
      {
       "output_type": "stream",
       "stream": "stdout",
       "text": [
        "\n",
        "58.7% (3782) are installable using ['bioc']\n",
        "78.0% (5025) are installable using ['github', 'cran']\n",
        "60.8% (3918) are installable using ['github', 'bioc']"
       ]
      },
      {
       "output_type": "stream",
       "stream": "stdout",
       "text": [
        "\n",
        "99.3% (6400) are installable using ['cran', 'bioc']\n",
        "99.3% (6400) are installable using ['github', 'cran', 'bioc']"
       ]
      },
      {
       "output_type": "stream",
       "stream": "stdout",
       "text": [
        "\n",
        "\n",
        "7702 packages in ['github', 'cran', 'bioc']\n",
        "52.6% (4050) are installable using []\n",
        "54.7% (4215) are installable using ['github']"
       ]
      },
      {
       "output_type": "stream",
       "stream": "stdout",
       "text": [
        "\n",
        "79.1% (6090) are installable using ['cran']\n",
        "56.3% (4338) are installable using ['bioc']\n",
        "79.2% (6100) are installable using ['github', 'cran']"
       ]
      },
      {
       "output_type": "stream",
       "stream": "stdout",
       "text": [
        "\n",
        "58.6% (4516) are installable using ['github', 'bioc']\n",
        "98.1% (7559) are installable using ['cran', 'bioc']"
       ]
      },
      {
       "output_type": "stream",
       "stream": "stdout",
       "text": [
        "\n",
        "98.3% (7573) are installable using ['github', 'cran', 'bioc']\n",
        "\n",
        "\n",
        "2013-10-31 00:00:00\n",
        "1980 packages in ['github']\n",
        "43.6% (863) are installable using []\n",
        "46.8% (927) are installable using ['github']"
       ]
      },
      {
       "output_type": "stream",
       "stream": "stdout",
       "text": [
        "\n",
        "85.9% (1700) are installable using ['cran']\n",
        "44.7% (885) are installable using ['bioc']\n",
        "86.7% (1716) are installable using ['github', 'cran']\n",
        "48.2% (954) are installable using ['github', 'bioc']\n",
        "94.0% (1862) are installable using ['cran', 'bioc']"
       ]
      },
      {
       "output_type": "stream",
       "stream": "stdout",
       "text": [
        "\n",
        "95.3% (1886) are installable using ['github', 'cran', 'bioc']\n",
        "\n",
        "4966 packages in ['cran']\n",
        "67.1% (3331) are installable using []\n",
        "69.4% (3447) are installable using ['github']"
       ]
      },
      {
       "output_type": "stream",
       "stream": "stdout",
       "text": [
        "\n",
        "97.3% (4831) are installable using ['cran']\n",
        "67.6% (3358) are installable using ['bioc']\n",
        "97.3% (4831) are installable using ['github', 'cran']"
       ]
      },
      {
       "output_type": "stream",
       "stream": "stdout",
       "text": [
        "\n",
        "70.0% (3474) are installable using ['github', 'bioc']\n",
        "99.4% (4934) are installable using ['cran', 'bioc']\n",
        "99.4% (4934) are installable using ['github', 'cran', 'bioc']"
       ]
      },
      {
       "output_type": "stream",
       "stream": "stdout",
       "text": [
        "\n",
        "\n",
        "1711 packages in ['bioc']\n",
        "23.2% (397) are installable using []\n",
        "23.6% (403) are installable using ['github']\n",
        "26.5% (453) are installable using ['cran']\n",
        "38.6% (660) are installable using ['bioc']\n",
        "26.5% (453) are installable using ['github', 'cran']"
       ]
      },
      {
       "output_type": "stream",
       "stream": "stdout",
       "text": [
        "\n",
        "39.5% (675) are installable using ['github', 'bioc']\n",
        "98.9% (1692) are installable using ['cran', 'bioc']\n",
        "98.9% (1692) are installable using ['github', 'cran', 'bioc']\n",
        "\n",
        "6398 packages in ['github', 'cran']\n",
        "61.5% (3934) are installable using []"
       ]
      },
      {
       "output_type": "stream",
       "stream": "stdout",
       "text": [
        "\n",
        "63.9% (4088) are installable using ['github']\n",
        "93.8% (5999) are installable using ['cran']"
       ]
      },
      {
       "output_type": "stream",
       "stream": "stdout",
       "text": [
        "\n",
        "62.2% (3981) are installable using ['bioc']\n",
        "94.0% (6015) are installable using ['github', 'cran']\n",
        "64.7% (4140) are installable using ['github', 'bioc']"
       ]
      },
      {
       "output_type": "stream",
       "stream": "stdout",
       "text": [
        "\n",
        "97.8% (6255) are installable using ['cran', 'bioc']\n",
        "98.1% (6279) are installable using ['github', 'cran', 'bioc']"
       ]
      },
      {
       "output_type": "stream",
       "stream": "stdout",
       "text": [
        "\n",
        "\n",
        "3617 packages in ['github', 'bioc']\n",
        "34.6% (1252) are installable using []\n",
        "36.5% (1320) are installable using ['github']"
       ]
      },
      {
       "output_type": "stream",
       "stream": "stdout",
       "text": [
        "\n",
        "59.0% (2135) are installable using ['cran']\n",
        "42.4% (1534) are installable using ['bioc']"
       ]
      },
      {
       "output_type": "stream",
       "stream": "stdout",
       "text": [
        "\n",
        "59.5% (2151) are installable using ['github', 'cran']\n",
        "44.6% (1614) are installable using ['github', 'bioc']"
       ]
      },
      {
       "output_type": "stream",
       "stream": "stdout",
       "text": [
        "\n",
        "96.3% (3483) are installable using ['cran', 'bioc']\n",
        "97.0% (3507) are installable using ['github', 'cran', 'bioc']"
       ]
      },
      {
       "output_type": "stream",
       "stream": "stdout",
       "text": [
        "\n",
        "\n",
        "6674 packages in ['cran', 'bioc']\n",
        "55.8% (3726) are installable using []\n",
        "57.7% (3848) are installable using ['github']"
       ]
      },
      {
       "output_type": "stream",
       "stream": "stdout",
       "text": [
        "\n",
        "79.1% (5282) are installable using ['cran']\n",
        "60.2% (4016) are installable using ['bioc']"
       ]
      },
      {
       "output_type": "stream",
       "stream": "stdout",
       "text": [
        "\n",
        "79.1% (5282) are installable using ['github', 'cran']\n",
        "62.1% (4147) are installable using ['github', 'bioc']"
       ]
      },
      {
       "output_type": "stream",
       "stream": "stdout",
       "text": [
        "\n",
        "99.2% (6623) are installable using ['cran', 'bioc']\n",
        "99.2% (6623) are installable using ['github', 'cran', 'bioc']"
       ]
      },
      {
       "output_type": "stream",
       "stream": "stdout",
       "text": [
        "\n",
        "\n",
        "8032 packages in ['github', 'cran', 'bioc']\n",
        "53.8% (4321) are installable using []\n",
        "55.8% (4479) are installable using ['github']"
       ]
      },
      {
       "output_type": "stream",
       "stream": "stdout",
       "text": [
        "\n",
        "80.1% (6432) are installable using ['cran']\n",
        "57.6% (4628) are installable using ['bioc']"
       ]
      },
      {
       "output_type": "stream",
       "stream": "stdout",
       "text": [
        "\n",
        "80.3% (6448) are installable using ['github', 'cran']\n",
        "59.7% (4798) are installable using ['github', 'bioc']"
       ]
      },
      {
       "output_type": "stream",
       "stream": "stdout",
       "text": [
        "\n",
        "98.0% (7873) are installable using ['cran', 'bioc']\n",
        "98.3% (7897) are installable using ['github', 'cran', 'bioc']"
       ]
      },
      {
       "output_type": "stream",
       "stream": "stdout",
       "text": [
        "\n",
        "\n",
        "\n",
        "2013-11-30 00:00:00\n",
        "2142 packages in ['github']\n",
        "42.9% (918) are installable using []\n",
        "50.1% (1074) are installable using ['github']\n",
        "86.2% (1846) are installable using ['cran']"
       ]
      },
      {
       "output_type": "stream",
       "stream": "stdout",
       "text": [
        "\n",
        "44.0% (942) are installable using ['bioc']\n",
        "87.0% (1864) are installable using ['github', 'cran']\n",
        "51.6% (1105) are installable using ['github', 'bioc']\n",
        "94.1% (2016) are installable using ['cran', 'bioc']"
       ]
      },
      {
       "output_type": "stream",
       "stream": "stdout",
       "text": [
        "\n",
        "95.3% (2042) are installable using ['github', 'cran', 'bioc']\n",
        "\n",
        "5062 packages in ['cran']\n",
        "66.8% (3383) are installable using []\n",
        "70.1% (3549) are installable using ['github']"
       ]
      },
      {
       "output_type": "stream",
       "stream": "stdout",
       "text": [
        "\n",
        "97.3% (4927) are installable using ['cran']\n",
        "67.4% (3410) are installable using ['bioc']\n",
        "97.3% (4927) are installable using ['github', 'cran']"
       ]
      },
      {
       "output_type": "stream",
       "stream": "stdout",
       "text": [
        "\n",
        "70.7% (3577) are installable using ['github', 'bioc']\n",
        "99.4% (5031) are installable using ['cran', 'bioc']\n",
        "99.4% (5031) are installable using ['github', 'cran', 'bioc']"
       ]
      },
      {
       "output_type": "stream",
       "stream": "stdout",
       "text": [
        "\n",
        "\n",
        "1711 packages in ['bioc']\n",
        "23.2% (397) are installable using []\n",
        "23.6% (403) are installable using ['github']\n",
        "26.5% (453) are installable using ['cran']\n",
        "38.6% (660) are installable using ['bioc']"
       ]
      },
      {
       "output_type": "stream",
       "stream": "stdout",
       "text": [
        "\n",
        "26.5% (453) are installable using ['github', 'cran']\n",
        "39.6% (677) are installable using ['github', 'bioc']\n",
        "98.9% (1692) are installable using ['cran', 'bioc']\n",
        "98.9% (1692) are installable using ['github', 'cran', 'bioc']"
       ]
      },
      {
       "output_type": "stream",
       "stream": "stdout",
       "text": [
        "\n",
        "\n",
        "6625 packages in ['github', 'cran']\n",
        "60.8% (4027) are installable using []\n",
        "64.9% (4300) are installable using ['github']"
       ]
      },
      {
       "output_type": "stream",
       "stream": "stdout",
       "text": [
        "\n",
        "93.7% (6209) are installable using ['cran']\n",
        "61.5% (4076) are installable using ['bioc']\n",
        "94.0% (6227) are installable using ['github', 'cran']"
       ]
      },
      {
       "output_type": "stream",
       "stream": "stdout",
       "text": [
        "\n",
        "65.8% (4357) are installable using ['github', 'bioc']\n",
        "97.7% (6474) are installable using ['cran', 'bioc']\n",
        "98.1% (6500) are installable using ['github', 'cran', 'bioc']"
       ]
      },
      {
       "output_type": "stream",
       "stream": "stdout",
       "text": [
        "\n",
        "\n",
        "3774 packages in ['github', 'bioc']\n",
        "34.6% (1307) are installable using []\n",
        "38.9% (1467) are installable using ['github']\n",
        "60.4% (2281) are installable using ['cran']"
       ]
      },
      {
       "output_type": "stream",
       "stream": "stdout",
       "text": [
        "\n",
        "42.2% (1591) are installable using ['bioc']\n",
        "60.9% (2299) are installable using ['github', 'cran']\n",
        "46.8% (1765) are installable using ['github', 'bioc']"
       ]
      },
      {
       "output_type": "stream",
       "stream": "stdout",
       "text": [
        "\n",
        "96.3% (3633) are installable using ['cran', 'bioc']\n",
        "97.0% (3659) are installable using ['github', 'cran', 'bioc']\n",
        "\n",
        "6770"
       ]
      },
      {
       "output_type": "stream",
       "stream": "stdout",
       "text": [
        " packages in ['cran', 'bioc']\n",
        "55.8% (3778) are installable using []\n",
        "58.3% (3950) are installable using ['github']\n",
        "79.4% (5378) are installable using ['cran']"
       ]
      },
      {
       "output_type": "stream",
       "stream": "stdout",
       "text": [
        "\n",
        "60.1% (4068) are installable using ['bioc']\n",
        "79.4% (5378) are installable using ['github', 'cran']\n",
        "62.8% (4252) are installable using ['github', 'bioc']"
       ]
      },
      {
       "output_type": "stream",
       "stream": "stdout",
       "text": [
        "\n",
        "99.3% (6720) are installable using ['cran', 'bioc']\n",
        "99.3% (6720) are installable using ['github', 'cran', 'bioc']"
       ]
      },
      {
       "output_type": "stream",
       "stream": "stdout",
       "text": [
        "\n",
        "\n",
        "8254 packages in ['github', 'cran', 'bioc']\n",
        "53.5% (4414) are installable using []\n",
        "56.8% (4691) are installable using ['github']"
       ]
      },
      {
       "output_type": "stream",
       "stream": "stdout",
       "text": [
        "\n",
        "80.5% (6642) are installable using ['cran']\n",
        "57.2% (4723) are installable using ['bioc']"
       ]
      },
      {
       "output_type": "stream",
       "stream": "stdout",
       "text": [
        "\n",
        "80.7% (6660) are installable using ['github', 'cran']\n",
        "60.8% (5015) are installable using ['github', 'bioc']"
       ]
      },
      {
       "output_type": "stream",
       "stream": "stdout",
       "text": [
        "\n",
        "98.0% (8088) are installable using ['cran', 'bioc']\n",
        "98.3% (8114) are installable using ['github', 'cran', 'bioc']"
       ]
      },
      {
       "output_type": "stream",
       "stream": "stdout",
       "text": [
        "\n",
        "\n",
        "\n",
        "2013-12-31 00:00:00\n",
        "2276 packages in ['github']\n",
        "42.7% (971) are installable using []\n",
        "45.8% (1043) are installable using ['github']\n",
        "86.3% (1965) are installable using ['cran']\n",
        "43.9% (999) are installable using ['bioc']"
       ]
      },
      {
       "output_type": "stream",
       "stream": "stdout",
       "text": [
        "\n",
        "87.2% (1984) are installable using ['github', 'cran']\n",
        "47.2% (1075) are installable using ['github', 'bioc']\n",
        "94.5% (2150) are installable using ['cran', 'bioc']\n",
        "95.4% (2172) are installable using ['github', 'cran', 'bioc']"
       ]
      },
      {
       "output_type": "stream",
       "stream": "stdout",
       "text": [
        "\n",
        "\n",
        "5154 packages in ['cran']\n",
        "66.7% (3437) are installable using []\n",
        "68.9% (3552) are installable using ['github']\n",
        "97.3% (5013) are installable using ['cran']"
       ]
      },
      {
       "output_type": "stream",
       "stream": "stdout",
       "text": [
        "\n",
        "67.3% (3467) are installable using ['bioc']\n",
        "97.3% (5013) are installable using ['github', 'cran']\n",
        "69.5% (3582) are installable using ['github', 'bioc']"
       ]
      },
      {
       "output_type": "stream",
       "stream": "stdout",
       "text": [
        "\n",
        "99.4% (5121) are installable using ['cran', 'bioc']\n",
        "99.4% (5121) are installable using ['github', 'cran', 'bioc']\n",
        "\n",
        "1711"
       ]
      },
      {
       "output_type": "stream",
       "stream": "stdout",
       "text": [
        " packages in ['bioc']\n",
        "23.2% (397) are installable using []\n",
        "23.6% (403) are installable using ['github']\n",
        "26.5% (453) are installable using ['cran']\n",
        "38.6% (660) are installable using ['bioc']\n",
        "26.5% (453) are installable using ['github', 'cran']\n",
        "39.5% (675) are installable using ['github', 'bioc']"
       ]
      },
      {
       "output_type": "stream",
       "stream": "stdout",
       "text": [
        "\n",
        "98.9% (1692) are installable using ['cran', 'bioc']\n",
        "98.9% (1692) are installable using ['github', 'cran', 'bioc']\n",
        "\n",
        "6825 packages in ['github', 'cran']\n",
        "60.5% (4126) are installable using []"
       ]
      },
      {
       "output_type": "stream",
       "stream": "stdout",
       "text": [
        "\n",
        "62.8% (4286) are installable using ['github']\n",
        "93.6% (6389) are installable using ['cran']\n",
        "61.3% (4182) are installable using ['bioc']"
       ]
      },
      {
       "output_type": "stream",
       "stream": "stdout",
       "text": [
        "\n",
        "93.9% (6408) are installable using ['github', 'cran']\n",
        "63.7% (4346) are installable using ['github', 'bioc']\n",
        "97.8% (6673) are installable using ['cran', 'bioc']"
       ]
      },
      {
       "output_type": "stream",
       "stream": "stdout",
       "text": [
        "\n",
        "98.1% (6695) are installable using ['github', 'cran', 'bioc']\n",
        "\n",
        "3905 packages in ['github', 'bioc']\n",
        "34.8% (1360) are installable using []"
       ]
      },
      {
       "output_type": "stream",
       "stream": "stdout",
       "text": [
        "\n",
        "36.8% (1436) are installable using ['github']\n",
        "61.5% (2400) are installable using ['cran']\n",
        "42.2% (1647) are installable using ['bioc']"
       ]
      },
      {
       "output_type": "stream",
       "stream": "stdout",
       "text": [
        "\n",
        "61.9% (2419) are installable using ['github', 'cran']\n",
        "44.4% (1734) are installable using ['github', 'bioc']\n",
        "96.4% (3764) are installable using ['cran', 'bioc']"
       ]
      },
      {
       "output_type": "stream",
       "stream": "stdout",
       "text": [
        "\n",
        "97.0% (3786) are installable using ['github', 'cran', 'bioc']\n",
        "\n",
        "6862 packages in ['cran', 'bioc']\n",
        "55.8% (3832) are installable using []"
       ]
      },
      {
       "output_type": "stream",
       "stream": "stdout",
       "text": [
        "\n",
        "57.6% (3953) are installable using ['github']\n",
        "79.6% (5464) are installable using ['cran']\n",
        "60.1% (4125) are installable using ['bioc']"
       ]
      },
      {
       "output_type": "stream",
       "stream": "stdout",
       "text": [
        "\n",
        "79.6% (5464) are installable using ['github', 'cran']\n",
        "62.0% (4255) are installable using ['github', 'bioc']\n",
        "99.2% (6810) are installable using ['cran', 'bioc']"
       ]
      },
      {
       "output_type": "stream",
       "stream": "stdout",
       "text": [
        "\n",
        "99.2% (6810) are installable using ['github', 'cran', 'bioc']\n",
        "\n",
        "8451 packages in ['github', 'cran', 'bioc']\n",
        "53.4% (4513) are installable using []"
       ]
      },
      {
       "output_type": "stream",
       "stream": "stdout",
       "text": [
        "\n",
        "55.3% (4677) are installable using ['github']\n",
        "80.7% (6822) are installable using ['cran']"
       ]
      },
      {
       "output_type": "stream",
       "stream": "stdout",
       "text": [
        "\n",
        "57.1% (4828) are installable using ['bioc']\n",
        "80.9% (6841) are installable using ['github', 'cran']"
       ]
      },
      {
       "output_type": "stream",
       "stream": "stdout",
       "text": [
        "\n",
        "59.2% (5003) are installable using ['github', 'bioc']\n",
        "98.0% (8284) are installable using ['cran', 'bioc']"
       ]
      },
      {
       "output_type": "stream",
       "stream": "stdout",
       "text": [
        "\n",
        "98.3% (8306) are installable using ['github', 'cran', 'bioc']\n",
        "\n",
        "\n",
        "2014-01-31 00:00:00\n",
        "2466 packages in ['github']\n",
        "42.7% (1053) are installable using []"
       ]
      },
      {
       "output_type": "stream",
       "stream": "stdout",
       "text": [
        "\n",
        "45.9% (1131) are installable using ['github']\n",
        "86.9% (2143) are installable using ['cran']\n",
        "43.9% (1082) are installable using ['bioc']\n",
        "87.7% (2163) are installable using ['github', 'cran']"
       ]
      },
      {
       "output_type": "stream",
       "stream": "stdout",
       "text": [
        "\n",
        "47.2% (1164) are installable using ['github', 'bioc']\n",
        "94.7% (2336) are installable using ['cran', 'bioc']\n",
        "95.5% (2356) are installable using ['github', 'cran', 'bioc']\n",
        "\n",
        "5274"
       ]
      },
      {
       "output_type": "stream",
       "stream": "stdout",
       "text": [
        " packages in ['cran']\n",
        "66.6% (3513) are installable using []\n",
        "68.9% (3633) are installable using ['github']\n",
        "97.3% (5132) are installable using ['cran']"
       ]
      },
      {
       "output_type": "stream",
       "stream": "stdout",
       "text": [
        "\n",
        "67.2% (3543) are installable using ['bioc']\n",
        "97.3% (5132) are installable using ['github', 'cran']\n",
        "69.5% (3663) are installable using ['github', 'bioc']"
       ]
      },
      {
       "output_type": "stream",
       "stream": "stdout",
       "text": [
        "\n",
        "99.4% (5241) are installable using ['cran', 'bioc']\n",
        "99.4% (5241) are installable using ['github', 'cran', 'bioc']\n",
        "\n",
        "1711"
       ]
      },
      {
       "output_type": "stream",
       "stream": "stdout",
       "text": [
        " packages in ['bioc']\n",
        "23.2% (397) are installable using []\n",
        "23.6% (403) are installable using ['github']\n",
        "26.5% (453) are installable using ['cran']\n",
        "38.6% (660) are installable using ['bioc']\n",
        "26.5% (453) are installable using ['github', 'cran']\n",
        "39.5% (675) are installable using ['github', 'bioc']"
       ]
      },
      {
       "output_type": "stream",
       "stream": "stdout",
       "text": [
        "\n",
        "98.9% (1692) are installable using ['cran', 'bioc']\n",
        "98.9% (1692) are installable using ['github', 'cran', 'bioc']\n",
        "\n",
        "7099 packages in ['github', 'cran']\n",
        "60.1% (4270) are installable using []"
       ]
      },
      {
       "output_type": "stream",
       "stream": "stdout",
       "text": [
        "\n",
        "62.5% (4439) are installable using ['github']\n",
        "93.7% (6654) are installable using ['cran']\n",
        "61.0% (4327) are installable using ['bioc']"
       ]
      },
      {
       "output_type": "stream",
       "stream": "stdout",
       "text": [
        "\n",
        "94.0% (6674) are installable using ['github', 'cran']\n",
        "63.4% (4500) are installable using ['github', 'bioc']\n",
        "97.8% (6946) are installable using ['cran', 'bioc']"
       ]
      },
      {
       "output_type": "stream",
       "stream": "stdout",
       "text": [
        "\n",
        "98.1% (6966) are installable using ['github', 'cran', 'bioc']\n",
        "\n",
        "4094 packages in ['github', 'bioc']\n",
        "35.2% (1442) are installable using []"
       ]
      },
      {
       "output_type": "stream",
       "stream": "stdout",
       "text": [
        "\n",
        "37.2% (1524) are installable using ['github']\n",
        "63.0% (2578) are installable using ['cran']\n",
        "42.3% (1730) are installable using ['bioc']"
       ]
      },
      {
       "output_type": "stream",
       "stream": "stdout",
       "text": [
        "\n",
        "63.5% (2598) are installable using ['github', 'cran']\n",
        "44.5% (1823) are installable using ['github', 'bioc']\n",
        "96.5% (3950) are installable using ['cran', 'bioc']"
       ]
      },
      {
       "output_type": "stream",
       "stream": "stdout",
       "text": [
        "\n",
        "97.0% (3970) are installable using ['github', 'cran', 'bioc']\n",
        "\n",
        "6982 packages in ['cran', 'bioc']\n",
        "56.0% (3908) are installable using []"
       ]
      },
      {
       "output_type": "stream",
       "stream": "stdout",
       "text": [
        "\n",
        "57.8% (4034) are installable using ['github']\n",
        "80.0% (5583) are installable using ['cran']\n",
        "60.2% (4201) are installable using ['bioc']"
       ]
      },
      {
       "output_type": "stream",
       "stream": "stdout",
       "text": [
        "\n",
        "80.0% (5583) are installable using ['github', 'cran']\n",
        "62.1% (4336) are installable using ['github', 'bioc']\n",
        "99.3% (6930) are installable using ['cran', 'bioc']"
       ]
      },
      {
       "output_type": "stream",
       "stream": "stdout",
       "text": [
        "\n",
        "99.3% (6930) are installable using ['github', 'cran', 'bioc']\n",
        "\n",
        "8724 packages in ['github', 'cran', 'bioc']\n",
        "53.4% (4657) are installable using []"
       ]
      },
      {
       "output_type": "stream",
       "stream": "stdout",
       "text": [
        "\n",
        "55.4% (4830) are installable using ['github']\n",
        "81.2% (7087) are installable using ['cran']"
       ]
      },
      {
       "output_type": "stream",
       "stream": "stdout",
       "text": [
        "\n",
        "57.0% (4973) are installable using ['bioc']\n",
        "81.5% (7107) are installable using ['github', 'cran']"
       ]
      },
      {
       "output_type": "stream",
       "stream": "stdout",
       "text": [
        "\n",
        "59.1% (5157) are installable using ['github', 'bioc']\n",
        "98.1% (8557) are installable using ['cran', 'bioc']"
       ]
      },
      {
       "output_type": "stream",
       "stream": "stdout",
       "text": [
        "\n",
        "98.3% (8577) are installable using ['github', 'cran', 'bioc']\n",
        "\n",
        "\n",
        "2014-02-28 00:00:00\n",
        "2654 packages in ['github']\n",
        "42.2% (1121) are installable using []"
       ]
      },
      {
       "output_type": "stream",
       "stream": "stdout",
       "text": [
        "\n",
        "45.2% (1199) are installable using ['github']\n",
        "87.3% (2317) are installable using ['cran']\n",
        "43.4% (1153) are installable using ['bioc']\n",
        "88.0% (2336) are installable using ['github', 'cran']"
       ]
      },
      {
       "output_type": "stream",
       "stream": "stdout",
       "text": [
        "\n",
        "46.5% (1235) are installable using ['github', 'bioc']\n",
        "94.9% (2519) are installable using ['cran', 'bioc']\n",
        "95.6% (2538) are installable using ['github', 'cran', 'bioc']\n",
        "\n",
        "5372"
       ]
      },
      {
       "output_type": "stream",
       "stream": "stdout",
       "text": [
        " packages in ['cran']\n",
        "65.9% (3540) are installable using []\n",
        "68.2% (3662) are installable using ['github']\n",
        "97.2% (5221) are installable using ['cran']"
       ]
      },
      {
       "output_type": "stream",
       "stream": "stdout",
       "text": [
        "\n",
        "66.5% (3574) are installable using ['bioc']\n",
        "97.2% (5221) are installable using ['github', 'cran']\n",
        "68.8% (3696) are installable using ['github', 'bioc']"
       ]
      },
      {
       "output_type": "stream",
       "stream": "stdout",
       "text": [
        "\n",
        "99.3% (5336) are installable using ['cran', 'bioc']\n",
        "99.3% (5336) are installable using ['github', 'cran', 'bioc']\n",
        "\n",
        "1711"
       ]
      },
      {
       "output_type": "stream",
       "stream": "stdout",
       "text": [
        " packages in ['bioc']\n",
        "23.2% (397) are installable using []\n",
        "23.6% (403) are installable using ['github']\n",
        "26.5% (453) are installable using ['cran']\n",
        "38.6% (660) are installable using ['bioc']\n",
        "26.5% (453) are installable using ['github', 'cran']"
       ]
      },
      {
       "output_type": "stream",
       "stream": "stdout",
       "text": [
        "\n",
        "39.5% (675) are installable using ['github', 'bioc']\n",
        "98.9% (1692) are installable using ['cran', 'bioc']\n",
        "98.9% (1692) are installable using ['github', 'cran', 'bioc']\n",
        "\n",
        "7355 packages in ['github', 'cran']\n",
        "59.2% (4354) are installable using []"
       ]
      },
      {
       "output_type": "stream",
       "stream": "stdout",
       "text": [
        "\n",
        "61.5% (4526) are installable using ['github']\n",
        "93.6% (6887) are installable using ['cran']"
       ]
      },
      {
       "output_type": "stream",
       "stream": "stdout",
       "text": [
        "\n",
        "60.1% (4417) are installable using ['bioc']\n",
        "93.9% (6906) are installable using ['github', 'cran']"
       ]
      },
      {
       "output_type": "stream",
       "stream": "stdout",
       "text": [
        "\n",
        "62.4% (4593) are installable using ['github', 'bioc']\n",
        "97.8% (7193) are installable using ['cran', 'bioc']"
       ]
      },
      {
       "output_type": "stream",
       "stream": "stdout",
       "text": [
        "\n",
        "98.1% (7212) are installable using ['github', 'cran', 'bioc']\n",
        "\n",
        "4279 packages in ['github', 'bioc']\n",
        "35.3% (1510) are installable using []"
       ]
      },
      {
       "output_type": "stream",
       "stream": "stdout",
       "text": [
        "\n",
        "37.2% (1592) are installable using ['github']\n",
        "64.3% (2751) are installable using ['cran']\n",
        "42.1% (1801) are installable using ['bioc']"
       ]
      },
      {
       "output_type": "stream",
       "stream": "stdout",
       "text": [
        "\n",
        "64.7% (2770) are installable using ['github', 'cran']\n",
        "44.3% (1894) are installable using ['github', 'bioc']\n",
        "96.5% (4130) are installable using ['cran', 'bioc']"
       ]
      },
      {
       "output_type": "stream",
       "stream": "stdout",
       "text": [
        "\n",
        "97.0% (4149) are installable using ['github', 'cran', 'bioc']\n",
        "\n",
        "7080 packages in ['cran', 'bioc']\n",
        "55.6% (3935) are installable using []"
       ]
      },
      {
       "output_type": "stream",
       "stream": "stdout",
       "text": [
        "\n",
        "57.4% (4063) are installable using ['github']\n",
        "80.1% (5672) are installable using ['cran']\n",
        "59.8% (4232) are installable using ['bioc']"
       ]
      },
      {
       "output_type": "stream",
       "stream": "stdout",
       "text": [
        "\n",
        "80.1% (5672) are installable using ['github', 'cran']\n",
        "61.7% (4369) are installable using ['github', 'bioc']\n",
        "99.2% (7025) are installable using ['cran', 'bioc']"
       ]
      },
      {
       "output_type": "stream",
       "stream": "stdout",
       "text": [
        "\n",
        "99.2% (7025) are installable using ['github', 'cran', 'bioc']\n",
        "\n",
        "8977 packages in ['github', 'cran', 'bioc']\n",
        "52.8% (4741) are installable using []"
       ]
      },
      {
       "output_type": "stream",
       "stream": "stdout",
       "text": [
        "\n",
        "54.8% (4917) are installable using ['github']\n",
        "81.5% (7319) are installable using ['cran']"
       ]
      },
      {
       "output_type": "stream",
       "stream": "stdout",
       "text": [
        "\n",
        "56.4% (5063) are installable using ['bioc']\n",
        "81.7% (7338) are installable using ['github', 'cran']"
       ]
      },
      {
       "output_type": "stream",
       "stream": "stdout",
       "text": [
        "\n",
        "58.5% (5250) are installable using ['github', 'bioc']\n",
        "98.0% (8801) are installable using ['cran', 'bioc']"
       ]
      },
      {
       "output_type": "stream",
       "stream": "stdout",
       "text": [
        "\n",
        "98.3% (8820) are installable using ['github', 'cran', 'bioc']\n",
        "\n",
        "\n",
        "2014-03-31 00:00:00\n",
        "2898 packages in ['github']\n",
        "39.9% (1156) are installable using []"
       ]
      },
      {
       "output_type": "stream",
       "stream": "stdout",
       "text": [
        "\n",
        "41.6% (1205) are installable using ['github']\n",
        "87.7% (2542) are installable using ['cran']\n",
        "41.0% (1188) are installable using ['bioc']\n",
        "88.6% (2569) are installable using ['github', 'cran']"
       ]
      },
      {
       "output_type": "stream",
       "stream": "stdout",
       "text": [
        "\n",
        "42.7% (1237) are installable using ['github', 'bioc']\n",
        "95.3% (2761) are installable using ['cran', 'bioc']\n",
        "96.0% (2781) are installable using ['github', 'cran', 'bioc']\n",
        "\n",
        "5489"
       ]
      },
      {
       "output_type": "stream",
       "stream": "stdout",
       "text": [
        " packages in ['cran']\n",
        "64.8% (3559) are installable using []\n",
        "66.7% (3659) are installable using ['github']\n",
        "97.4% (5346) are installable using ['cran']"
       ]
      },
      {
       "output_type": "stream",
       "stream": "stdout",
       "text": [
        "\n",
        "65.5% (3594) are installable using ['bioc']\n",
        "97.4% (5349) are installable using ['github', 'cran']\n",
        "67.3% (3694) are installable using ['github', 'bioc']"
       ]
      },
      {
       "output_type": "stream",
       "stream": "stdout",
       "text": [
        "\n",
        "99.5% (5460) are installable using ['cran', 'bioc']\n",
        "99.5% (5460) are installable using ['github', 'cran', 'bioc']\n",
        "\n",
        "1711"
       ]
      },
      {
       "output_type": "stream",
       "stream": "stdout",
       "text": [
        " packages in ['bioc']\n",
        "23.1% (395) are installable using []\n",
        "23.5% (402) are installable using ['github']\n",
        "26.5% (453) are installable using ['cran']\n",
        "38.4% (657) are installable using ['bioc']\n",
        "26.5% (454) are installable using ['github', 'cran']\n",
        "39.2% (671) are installable using ['github', 'bioc']"
       ]
      },
      {
       "output_type": "stream",
       "stream": "stdout",
       "text": [
        "\n",
        "98.9% (1692) are installable using ['cran', 'bioc']\n",
        "98.9% (1692) are installable using ['github', 'cran', 'bioc']\n",
        "\n",
        "7674 packages in ['github', 'cran']\n",
        "57.5% (4410) are installable using []"
       ]
      },
      {
       "output_type": "stream",
       "stream": "stdout",
       "text": [
        "\n",
        "59.1% (4536) are installable using ['github']\n",
        "93.7% (7194) are installable using ['cran']"
       ]
      },
      {
       "output_type": "stream",
       "stream": "stdout",
       "text": [
        "\n",
        "58.3% (4474) are installable using ['bioc']\n",
        "94.1% (7224) are installable using ['github', 'cran']"
       ]
      },
      {
       "output_type": "stream",
       "stream": "stdout",
       "text": [
        "\n",
        "59.9% (4600) are installable using ['github', 'bioc']\n",
        "97.9% (7516) are installable using ['cran', 'bioc']"
       ]
      },
      {
       "output_type": "stream",
       "stream": "stdout",
       "text": [
        "\n",
        "98.2% (7536) are installable using ['github', 'cran', 'bioc']\n",
        "\n",
        "4515 packages in ['github', 'bioc']\n",
        "34.2% (1542) are installable using []"
       ]
      },
      {
       "output_type": "stream",
       "stream": "stdout",
       "text": [
        "\n",
        "35.3% (1596) are installable using ['github']\n",
        "65.8% (2973) are installable using ['cran']\n",
        "40.6% (1831) are installable using ['bioc']"
       ]
      },
      {
       "output_type": "stream",
       "stream": "stdout",
       "text": [
        "\n",
        "66.5% (3001) are installable using ['github', 'cran']\n",
        "41.9% (1892) are installable using ['github', 'bioc']\n",
        "96.7% (4364) are installable using ['cran', 'bioc']"
       ]
      },
      {
       "output_type": "stream",
       "stream": "stdout",
       "text": [
        "\n",
        "97.1% (4384) are installable using ['github', 'cran', 'bioc']\n",
        "\n",
        "7197 packages in ['cran', 'bioc']\n",
        "54.9% (3952) are installable using []"
       ]
      },
      {
       "output_type": "stream",
       "stream": "stdout",
       "text": [
        "\n",
        "56.4% (4059) are installable using ['github']\n",
        "80.5% (5797) are installable using ['cran']\n",
        "59.0% (4249) are installable using ['bioc']"
       ]
      },
      {
       "output_type": "stream",
       "stream": "stdout",
       "text": [
        "\n",
        "80.6% (5801) are installable using ['github', 'cran']\n",
        "60.6% (4363) are installable using ['github', 'bioc']\n",
        "99.3% (7149) are installable using ['cran', 'bioc']"
       ]
      },
      {
       "output_type": "stream",
       "stream": "stdout",
       "text": [
        "\n",
        "99.3% (7149) are installable using ['github', 'cran', 'bioc']\n",
        "\n",
        "9288 packages in ['github', 'cran', 'bioc']\n",
        "51.6% (4794) are installable using []"
       ]
      },
      {
       "output_type": "stream",
       "stream": "stdout",
       "text": [
        "\n",
        "53.0% (4925) are installable using ['github']\n",
        "82.1% (7623) are installable using ['cran']"
       ]
      },
      {
       "output_type": "stream",
       "stream": "stdout",
       "text": [
        "\n",
        "55.1% (5115) are installable using ['bioc']\n",
        "82.4% (7654) are installable using ['github', 'cran']"
       ]
      },
      {
       "output_type": "stream",
       "stream": "stdout",
       "text": [
        "\n",
        "56.6% (5253) are installable using ['github', 'bioc']\n",
        "98.1% (9116) are installable using ['cran', 'bioc']"
       ]
      },
      {
       "output_type": "stream",
       "stream": "stdout",
       "text": [
        "\n",
        "98.4% (9136) are installable using ['github', 'cran', 'bioc']\n",
        "\n",
        "\n",
        "2014-04-30 00:00:00\n",
        "3126 packages in ['github']\n",
        "39.7% (1241) are installable using []"
       ]
      },
      {
       "output_type": "stream",
       "stream": "stdout",
       "text": [
        "\n",
        "41.2% (1288) are installable using ['github']\n",
        "87.2% (2727) are installable using ['cran']\n",
        "40.8% (1276) are installable using ['bioc']\n",
        "88.1% (2753) are installable using ['github', 'cran']"
       ]
      },
      {
       "output_type": "stream",
       "stream": "stdout",
       "text": [
        "\n",
        "42.3% (1323) are installable using ['github', 'bioc']\n",
        "95.5% (2985) are installable using ['cran', 'bioc']\n",
        "96.1% (3004) are installable using ['github', 'cran', 'bioc']"
       ]
      },
      {
       "output_type": "stream",
       "stream": "stdout",
       "text": [
        "\n",
        "\n",
        "5619 packages in ['cran']\n",
        "64.6% (3629) are installable using []\n",
        "66.4% (3732) are installable using ['github']\n",
        "97.3% (5469) are installable using ['cran']"
       ]
      },
      {
       "output_type": "stream",
       "stream": "stdout",
       "text": [
        "\n",
        "65.2% (3665) are installable using ['bioc']\n",
        "97.4% (5472) are installable using ['github', 'cran']\n",
        "67.1% (3768) are installable using ['github', 'bioc']"
       ]
      },
      {
       "output_type": "stream",
       "stream": "stdout",
       "text": [
        "\n",
        "99.4% (5588) are installable using ['cran', 'bioc']\n",
        "99.4% (5588) are installable using ['github', 'cran', 'bioc']\n",
        "\n",
        "1974"
       ]
      },
      {
       "output_type": "stream",
       "stream": "stdout",
       "text": [
        " packages in ['bioc']\n",
        "15.3% (303) are installable using []\n",
        "15.8% (311) are installable using ['github']\n",
        "18.8% (372) are installable using ['cran']\n",
        "26.2% (518) are installable using ['bioc']\n",
        "18.9% (373) are installable using ['github', 'cran']"
       ]
      },
      {
       "output_type": "stream",
       "stream": "stdout",
       "text": [
        "\n",
        "26.9% (531) are installable using ['github', 'bioc']\n",
        "99.2% (1959) are installable using ['cran', 'bioc']\n",
        "99.2% (1959) are installable using ['github', 'cran', 'bioc']\n",
        "\n",
        "7986"
       ]
      },
      {
       "output_type": "stream",
       "stream": "stdout",
       "text": [
        " packages in ['github', 'cran']\n",
        "56.9% (4547) are installable using []\n",
        "58.5% (4673) are installable using ['github']\n",
        "93.4% (7460) are installable using ['cran']"
       ]
      },
      {
       "output_type": "stream",
       "stream": "stdout",
       "text": [
        "\n",
        "57.8% (4614) are installable using ['bioc']\n",
        "93.8% (7489) are installable using ['github', 'cran']"
       ]
      },
      {
       "output_type": "stream",
       "stream": "stdout",
       "text": [
        "\n",
        "59.4% (4740) are installable using ['github', 'bioc']\n",
        "98.0% (7824) are installable using ['cran', 'bioc']"
       ]
      },
      {
       "output_type": "stream",
       "stream": "stdout",
       "text": [
        "\n",
        "98.2% (7843) are installable using ['github', 'cran', 'bioc']\n",
        "\n",
        "4967 packages in ['github', 'bioc']\n",
        "30.9% (1533) are installable using []"
       ]
      },
      {
       "output_type": "stream",
       "stream": "stdout",
       "text": [
        "\n",
        "31.9% (1586) are installable using ['github']\n",
        "61.8% (3069) are installable using ['cran']\n",
        "35.8% (1776) are installable using ['bioc']"
       ]
      },
      {
       "output_type": "stream",
       "stream": "stdout",
       "text": [
        "\n",
        "62.3% (3096) are installable using ['github', 'cran']\n",
        "36.9% (1834) are installable using ['github', 'bioc']\n",
        "97.0% (4817) are installable using ['cran', 'bioc']"
       ]
      },
      {
       "output_type": "stream",
       "stream": "stdout",
       "text": [
        "\n",
        "97.4% (4836) are installable using ['github', 'cran', 'bioc']\n",
        "\n",
        "7590 packages in ['cran', 'bioc']\n",
        "51.8% (3930) are installable using []"
       ]
      },
      {
       "output_type": "stream",
       "stream": "stdout",
       "text": [
        "\n",
        "53.2% (4041) are installable using ['github']\n",
        "76.9% (5839) are installable using ['cran']"
       ]
      },
      {
       "output_type": "stream",
       "stream": "stdout",
       "text": [
        "\n",
        "55.1% (4181) are installable using ['bioc']\n",
        "77.0% (5843) are installable using ['github', 'cran']"
       ]
      },
      {
       "output_type": "stream",
       "stream": "stdout",
       "text": [
        "\n",
        "56.6% (4297) are installable using ['github', 'bioc']\n",
        "99.4% (7544) are installable using ['cran', 'bioc']"
       ]
      },
      {
       "output_type": "stream",
       "stream": "stdout",
       "text": [
        "\n",
        "99.4% (7544) are installable using ['github', 'cran', 'bioc']\n",
        "\n",
        "9824 packages in ['github', 'cran', 'bioc']\n",
        "49.2% (4837) are installable using []"
       ]
      },
      {
       "output_type": "stream",
       "stream": "stdout",
       "text": [
        "\n",
        "50.6% (4969) are installable using ['github']\n",
        "79.4% (7800) are installable using ['cran']"
       ]
      },
      {
       "output_type": "stream",
       "stream": "stdout",
       "text": [
        "\n",
        "52.0% (5112) are installable using ['bioc']\n",
        "79.7% (7830) are installable using ['github', 'cran']"
       ]
      },
      {
       "output_type": "stream",
       "stream": "stdout",
       "text": [
        "\n",
        "53.4% (5249) are installable using ['github', 'bioc']\n",
        "98.3% (9653) are installable using ['cran', 'bioc']"
       ]
      },
      {
       "output_type": "stream",
       "stream": "stdout",
       "text": [
        "\n",
        "98.5% (9672) are installable using ['github', 'cran', 'bioc']\n",
        "\n",
        "\n",
        "2014-05-31 00:00:00\n",
        "3392"
       ]
      },
      {
       "output_type": "stream",
       "stream": "stdout",
       "text": [
        " packages in ['github']\n",
        "40.1% (1360) are installable using []\n",
        "41.6% (1411) are installable using ['github']\n",
        "87.3% (2961) are installable using ['cran']\n",
        "41.1% (1393) are installable using ['bioc']"
       ]
      },
      {
       "output_type": "stream",
       "stream": "stdout",
       "text": [
        "\n",
        "88.2% (2992) are installable using ['github', 'cran']\n",
        "42.6% (1444) are installable using ['github', 'bioc']\n",
        "95.5% (3240) are installable using ['cran', 'bioc']"
       ]
      },
      {
       "output_type": "stream",
       "stream": "stdout",
       "text": [
        "\n",
        "96.2% (3262) are installable using ['github', 'cran', 'bioc']\n",
        "\n",
        "5742 packages in ['cran']\n",
        "64.4% (3700) are installable using []"
       ]
      },
      {
       "output_type": "stream",
       "stream": "stdout",
       "text": [
        "\n",
        "66.2% (3803) are installable using ['github']\n",
        "97.4% (5590) are installable using ['cran']\n",
        "65.0% (3735) are installable using ['bioc']"
       ]
      },
      {
       "output_type": "stream",
       "stream": "stdout",
       "text": [
        "\n",
        "97.4% (5593) are installable using ['github', 'cran']\n",
        "66.8% (3838) are installable using ['github', 'bioc']\n",
        "99.5% (5711) are installable using ['cran', 'bioc']"
       ]
      },
      {
       "output_type": "stream",
       "stream": "stdout",
       "text": [
        "\n",
        "99.5% (5711) are installable using ['github', 'cran', 'bioc']\n",
        "\n",
        "1974 packages in ['bioc']\n",
        "15.3% (303) are installable using []\n",
        "15.8% (311) are installable using ['github']"
       ]
      },
      {
       "output_type": "stream",
       "stream": "stdout",
       "text": [
        "\n",
        "18.8% (372) are installable using ['cran']\n",
        "26.2% (518) are installable using ['bioc']\n",
        "18.9% (373) are installable using ['github', 'cran']\n",
        "26.9% (531) are installable using ['github', 'bioc']"
       ]
      },
      {
       "output_type": "stream",
       "stream": "stdout",
       "text": [
        "\n",
        "99.2% (1959) are installable using ['cran', 'bioc']\n",
        "99.2% (1959) are installable using ['github', 'cran', 'bioc']\n",
        "\n",
        "8329 packages in ['github', 'cran']\n",
        "56.6% (4715) are installable using []"
       ]
      },
      {
       "output_type": "stream",
       "stream": "stdout",
       "text": [
        "\n",
        "58.2% (4846) are installable using ['github']\n",
        "93.3% (7770) are installable using ['cran']"
       ]
      },
      {
       "output_type": "stream",
       "stream": "stdout",
       "text": [
        "\n",
        "57.4% (4779) are installable using ['bioc']\n",
        "93.7% (7804) are installable using ['github', 'cran']"
       ]
      },
      {
       "output_type": "stream",
       "stream": "stdout",
       "text": [
        "\n",
        "59.0% (4910) are installable using ['github', 'bioc']\n",
        "97.9% (8156) are installable using ['cran', 'bioc']"
       ]
      },
      {
       "output_type": "stream",
       "stream": "stdout",
       "text": [
        "\n",
        "98.2% (8178) are installable using ['github', 'cran', 'bioc']\n",
        "\n",
        "5228 packages in ['github', 'bioc']\n",
        "31.6% (1652) are installable using []"
       ]
      },
      {
       "output_type": "stream",
       "stream": "stdout",
       "text": [
        "\n",
        "32.7% (1709) are installable using ['github']\n",
        "63.2% (3303) are installable using ['cran']\n",
        "36.2% (1893) are installable using ['bioc']"
       ]
      },
      {
       "output_type": "stream",
       "stream": "stdout",
       "text": [
        "\n",
        "63.8% (3335) are installable using ['github', 'cran']\n",
        "37.4% (1955) are installable using ['github', 'bioc']\n",
        "97.0% (5070) are installable using ['cran', 'bioc']"
       ]
      },
      {
       "output_type": "stream",
       "stream": "stdout",
       "text": [
        "\n",
        "97.4% (5092) are installable using ['github', 'cran', 'bioc']\n",
        "\n",
        "7713 packages in ['cran', 'bioc']\n",
        "51.9% (4001) are installable using []"
       ]
      },
      {
       "output_type": "stream",
       "stream": "stdout",
       "text": [
        "\n",
        "53.3% (4112) are installable using ['github']\n",
        "77.3% (5960) are installable using ['cran']"
       ]
      },
      {
       "output_type": "stream",
       "stream": "stdout",
       "text": [
        "\n",
        "55.1% (4251) are installable using ['bioc']\n",
        "77.3% (5964) are installable using ['github', 'cran']"
       ]
      },
      {
       "output_type": "stream",
       "stream": "stdout",
       "text": [
        "\n",
        "56.6% (4367) are installable using ['github', 'bioc']\n",
        "99.4% (7667) are installable using ['cran', 'bioc']"
       ]
      },
      {
       "output_type": "stream",
       "stream": "stdout",
       "text": [
        "\n",
        "99.4% (7667) are installable using ['github', 'cran', 'bioc']\n",
        "\n",
        "10162 packages in ['github', 'cran', 'bioc']\n",
        "49.3% (5005) are installable using []"
       ]
      },
      {
       "output_type": "stream",
       "stream": "stdout",
       "text": [
        "\n",
        "50.6% (5142) are installable using ['github']\n",
        "79.8% (8110) are installable using ['cran']"
       ]
      },
      {
       "output_type": "stream",
       "stream": "stdout",
       "text": [
        "\n",
        "51.9% (5277) are installable using ['bioc']\n",
        "80.2% (8145) are installable using ['github', 'cran']"
       ]
      },
      {
       "output_type": "stream",
       "stream": "stdout",
       "text": [
        "\n",
        "53.3% (5419) are installable using ['github', 'bioc']\n",
        "98.2% (9983) are installable using ['cran', 'bioc']"
       ]
      },
      {
       "output_type": "stream",
       "stream": "stdout",
       "text": [
        "\n",
        "98.5% (10005) are installable using ['github', 'cran', 'bioc']\n",
        "\n",
        "\n",
        "2014-06-30 00:00:00\n",
        "3634"
       ]
      },
      {
       "output_type": "stream",
       "stream": "stdout",
       "text": [
        " packages in ['github']\n",
        "40.2% (1460) are installable using []\n",
        "41.8% (1520) are installable using ['github']\n",
        "87.4% (3177) are installable using ['cran']\n",
        "41.2% (1497) are installable using ['bioc']"
       ]
      },
      {
       "output_type": "stream",
       "stream": "stdout",
       "text": [
        "\n",
        "88.5% (3215) are installable using ['github', 'cran']\n",
        "42.8% (1557) are installable using ['github', 'bioc']\n",
        "95.7% (3477) are installable using ['cran', 'bioc']"
       ]
      },
      {
       "output_type": "stream",
       "stream": "stdout",
       "text": [
        "\n",
        "96.5% (3506) are installable using ['github', 'cran', 'bioc']\n",
        "\n",
        "5848 packages in ['cran']\n",
        "64.2% (3756) are installable using []"
       ]
      },
      {
       "output_type": "stream",
       "stream": "stdout",
       "text": [
        "\n",
        "66.1% (3866) are installable using ['github']\n",
        "97.6% (5709) are installable using ['cran']\n",
        "64.8% (3791) are installable using ['bioc']"
       ]
      },
      {
       "output_type": "stream",
       "stream": "stdout",
       "text": [
        "\n",
        "97.7% (5712) are installable using ['github', 'cran']\n",
        "66.7% (3901) are installable using ['github', 'bioc']\n",
        "99.7% (5833) are installable using ['cran', 'bioc']"
       ]
      },
      {
       "output_type": "stream",
       "stream": "stdout",
       "text": [
        "\n",
        "99.7% (5833) are installable using ['github', 'cran', 'bioc']\n",
        "\n",
        "1974 packages in ['bioc']\n",
        "15.3% (303) are installable using []\n",
        "15.8% (311) are installable using ['github']"
       ]
      },
      {
       "output_type": "stream",
       "stream": "stdout",
       "text": [
        "\n",
        "18.8% (372) are installable using ['cran']\n",
        "26.2% (518) are installable using ['bioc']\n",
        "18.9% (373) are installable using ['github', 'cran']\n",
        "26.9% (531) are installable using ['github', 'bioc']\n",
        "99.2% (1959) are installable using ['cran', 'bioc']"
       ]
      },
      {
       "output_type": "stream",
       "stream": "stdout",
       "text": [
        "\n",
        "99.2% (1959) are installable using ['github', 'cran', 'bioc']\n",
        "\n",
        "8638 packages in ['github', 'cran']\n",
        "56.2% (4851) are installable using []"
       ]
      },
      {
       "output_type": "stream",
       "stream": "stdout",
       "text": [
        "\n",
        "57.8% (4996) are installable using ['github']\n",
        "93.3% (8062) are installable using ['cran']"
       ]
      },
      {
       "output_type": "stream",
       "stream": "stdout",
       "text": [
        "\n",
        "56.9% (4919) are installable using ['bioc']\n",
        "93.8% (8103) are installable using ['github', 'cran']"
       ]
      },
      {
       "output_type": "stream",
       "stream": "stdout",
       "text": [
        "\n",
        "58.6% (5064) are installable using ['github', 'bioc']\n",
        "98.1% (8471) are installable using ['cran', 'bioc']"
       ]
      },
      {
       "output_type": "stream",
       "stream": "stdout",
       "text": [
        "\n",
        "98.4% (8500) are installable using ['github', 'cran', 'bioc']\n",
        "\n",
        "5456 packages in ['github', 'bioc']\n",
        "32.1% (1750) are installable using []"
       ]
      },
      {
       "output_type": "stream",
       "stream": "stdout",
       "text": [
        "\n",
        "33.3% (1815) are installable using ['github']\n",
        "64.4% (3515) are installable using ['cran']\n",
        "36.5% (1994) are installable using ['bioc']"
       ]
      },
      {
       "output_type": "stream",
       "stream": "stdout",
       "text": [
        "\n",
        "65.1% (3554) are installable using ['github', 'cran']\n",
        "37.8% (2064) are installable using ['github', 'bioc']\n",
        "97.0% (5295) are installable using ['cran', 'bioc']"
       ]
      },
      {
       "output_type": "stream",
       "stream": "stdout",
       "text": [
        "\n",
        "97.6% (5324) are installable using ['github', 'cran', 'bioc']\n",
        "\n",
        "7819 packages in ['cran', 'bioc']\n",
        "51.9% (4057) are installable using []"
       ]
      },
      {
       "output_type": "stream",
       "stream": "stdout",
       "text": [
        "\n",
        "53.4% (4175) are installable using ['github']\n",
        "77.7% (6079) are installable using ['cran']"
       ]
      },
      {
       "output_type": "stream",
       "stream": "stdout",
       "text": [
        "\n",
        "55.1% (4307) are installable using ['bioc']\n",
        "77.8% (6083) are installable using ['github', 'cran']"
       ]
      },
      {
       "output_type": "stream",
       "stream": "stdout",
       "text": [
        "\n",
        "56.7% (4430) are installable using ['github', 'bioc']\n",
        "99.6% (7789) are installable using ['cran', 'bioc']"
       ]
      },
      {
       "output_type": "stream",
       "stream": "stdout",
       "text": [
        "\n",
        "99.6% (7789) are installable using ['github', 'cran', 'bioc']\n",
        "\n",
        "10457 packages in ['github', 'cran', 'bioc']\n",
        "49.1% (5139) are installable using []"
       ]
      },
      {
       "output_type": "stream",
       "stream": "stdout",
       "text": [
        "\n",
        "50.6% (5289) are installable using ['github']\n",
        "80.3% (8398) are installable using ['cran']"
       ]
      },
      {
       "output_type": "stream",
       "stream": "stdout",
       "text": [
        "\n",
        "51.8% (5414) are installable using ['bioc']\n",
        "80.7% (8440) are installable using ['github', 'cran']"
       ]
      },
      {
       "output_type": "stream",
       "stream": "stdout",
       "text": [
        "\n",
        "53.3% (5569) are installable using ['github', 'bioc']\n",
        "98.4% (10286) are installable using ['cran', 'bioc']"
       ]
      },
      {
       "output_type": "stream",
       "stream": "stdout",
       "text": [
        "\n",
        "98.6% (10315) are installable using ['github', 'cran', 'bioc']\n",
        "\n",
        "\n",
        "2014-07-31 00:00:00\n",
        "3958"
       ]
      },
      {
       "output_type": "stream",
       "stream": "stdout",
       "text": [
        " packages in ['github']\n",
        "40.1% (1586) are installable using []\n",
        "41.7% (1651) are installable using ['github']\n",
        "87.5% (3463) are installable using ['cran']"
       ]
      },
      {
       "output_type": "stream",
       "stream": "stdout",
       "text": [
        "\n",
        "41.1% (1627) are installable using ['bioc']\n",
        "88.6% (3507) are installable using ['github', 'cran']\n",
        "42.7% (1692) are installable using ['github', 'bioc']"
       ]
      },
      {
       "output_type": "stream",
       "stream": "stdout",
       "text": [
        "\n",
        "95.5% (3778) are installable using ['cran', 'bioc']\n",
        "96.3% (3813) are installable using ['github', 'cran', 'bioc']\n",
        "\n",
        "5973"
       ]
      },
      {
       "output_type": "stream",
       "stream": "stdout",
       "text": [
        " packages in ['cran']\n",
        "63.8% (3809) are installable using []\n",
        "65.7% (3922) are installable using ['github']\n",
        "97.6% (5828) are installable using ['cran']"
       ]
      },
      {
       "output_type": "stream",
       "stream": "stdout",
       "text": [
        "\n",
        "64.4% (3845) are installable using ['bioc']\n",
        "97.6% (5832) are installable using ['github', 'cran']\n",
        "66.3% (3958) are installable using ['github', 'bioc']"
       ]
      },
      {
       "output_type": "stream",
       "stream": "stdout",
       "text": [
        "\n",
        "99.7% (5957) are installable using ['cran', 'bioc']\n",
        "99.7% (5957) are installable using ['github', 'cran', 'bioc']\n",
        "\n",
        "1974"
       ]
      },
      {
       "output_type": "stream",
       "stream": "stdout",
       "text": [
        " packages in ['bioc']\n",
        "15.3% (303) are installable using []\n",
        "15.8% (311) are installable using ['github']\n",
        "18.8% (372) are installable using ['cran']\n",
        "26.2% (518) are installable using ['bioc']\n",
        "18.9% (373) are installable using ['github', 'cran']"
       ]
      },
      {
       "output_type": "stream",
       "stream": "stdout",
       "text": [
        "\n",
        "26.9% (531) are installable using ['github', 'bioc']\n",
        "99.2% (1959) are installable using ['cran', 'bioc']\n",
        "99.2% (1959) are installable using ['github', 'cran', 'bioc']\n",
        "\n",
        "9029"
       ]
      },
      {
       "output_type": "stream",
       "stream": "stdout",
       "text": [
        " packages in ['github', 'cran']\n",
        "55.4% (5000) are installable using []\n",
        "57.1% (5153) are installable using ['github']"
       ]
      },
      {
       "output_type": "stream",
       "stream": "stdout",
       "text": [
        "\n",
        "93.2% (8411) are installable using ['cran']\n",
        "56.2% (5073) are installable using ['bioc']"
       ]
      },
      {
       "output_type": "stream",
       "stream": "stdout",
       "text": [
        "\n",
        "93.7% (8459) are installable using ['github', 'cran']\n",
        "57.9% (5226) are installable using ['github', 'bioc']"
       ]
      },
      {
       "output_type": "stream",
       "stream": "stdout",
       "text": [
        "\n",
        "97.9% (8838) are installable using ['cran', 'bioc']\n",
        "98.3% (8873) are installable using ['github', 'cran', 'bioc']"
       ]
      },
      {
       "output_type": "stream",
       "stream": "stdout",
       "text": [
        "\n",
        "\n",
        "5773 packages in ['github', 'bioc']\n",
        "32.5% (1875) are installable using []\n",
        "33.7% (1945) are installable using ['github']"
       ]
      },
      {
       "output_type": "stream",
       "stream": "stdout",
       "text": [
        "\n",
        "65.8% (3798) are installable using ['cran']\n",
        "36.8% (2122) are installable using ['bioc']\n",
        "66.6% (3843) are installable using ['github', 'cran']"
       ]
      },
      {
       "output_type": "stream",
       "stream": "stdout",
       "text": [
        "\n",
        "38.1% (2197) are installable using ['github', 'bioc']\n",
        "96.9% (5594) are installable using ['cran', 'bioc']"
       ]
      },
      {
       "output_type": "stream",
       "stream": "stdout",
       "text": [
        "\n",
        "97.5% (5629) are installable using ['github', 'cran', 'bioc']\n",
        "\n",
        "7944 packages in ['cran', 'bioc']\n",
        "51.7% (4110) are installable using []"
       ]
      },
      {
       "output_type": "stream",
       "stream": "stdout",
       "text": [
        "\n",
        "53.3% (4231) are installable using ['github']\n",
        "78.0% (6198) are installable using ['cran']"
       ]
      },
      {
       "output_type": "stream",
       "stream": "stdout",
       "text": [
        "\n",
        "54.9% (4361) are installable using ['bioc']\n",
        "78.1% (6203) are installable using ['github', 'cran']"
       ]
      },
      {
       "output_type": "stream",
       "stream": "stdout",
       "text": [
        "\n",
        "56.5% (4487) are installable using ['github', 'bioc']\n",
        "99.6% (7913) are installable using ['cran', 'bioc']"
       ]
      },
      {
       "output_type": "stream",
       "stream": "stdout",
       "text": [
        "\n",
        "99.6% (7913) are installable using ['github', 'cran', 'bioc']\n",
        "\n",
        "10841"
       ]
      },
      {
       "output_type": "stream",
       "stream": "stdout",
       "text": [
        " packages in ['github', 'cran', 'bioc']\n",
        "48.8% (5287) are installable using []\n",
        "50.2% (5445) are installable using ['github']"
       ]
      },
      {
       "output_type": "stream",
       "stream": "stdout",
       "text": [
        "\n",
        "80.7% (8744) are installable using ['cran']\n",
        "51.3% (5566) are installable using ['bioc']"
       ]
      },
      {
       "output_type": "stream",
       "stream": "stdout",
       "text": [
        "\n",
        "81.1% (8793) are installable using ['github', 'cran']\n",
        "52.8% (5729) are installable using ['github', 'bioc']"
       ]
      },
      {
       "output_type": "stream",
       "stream": "stdout",
       "text": [
        "\n",
        "98.2% (10651) are installable using ['cran', 'bioc']\n",
        "98.6% (10686) are installable using ['github', 'cran', 'bioc']"
       ]
      },
      {
       "output_type": "stream",
       "stream": "stdout",
       "text": [
        "\n",
        "\n",
        "\n",
        "2014-08-31 00:00:00\n",
        "4283 packages in ['github']\n",
        "40.8% (1746) are installable using []\n",
        "42.4% (1814) are installable using ['github']\n",
        "87.8% (3761) are installable using ['cran']"
       ]
      },
      {
       "output_type": "stream",
       "stream": "stdout",
       "text": [
        "\n",
        "41.7% (1788) are installable using ['bioc']\n",
        "88.9% (3809) are installable using ['github', 'cran']\n",
        "43.3% (1856) are installable using ['github', 'bioc']"
       ]
      },
      {
       "output_type": "stream",
       "stream": "stdout",
       "text": [
        "\n",
        "95.5% (4090) are installable using ['cran', 'bioc']\n",
        "96.4% (4129) are installable using ['github', 'cran', 'bioc']"
       ]
      },
      {
       "output_type": "stream",
       "stream": "stdout",
       "text": [
        "\n",
        "\n",
        "6102 packages in ['cran']\n",
        "63.5% (3877) are installable using []\n",
        "65.4% (3992) are installable using ['github']"
       ]
      },
      {
       "output_type": "stream",
       "stream": "stdout",
       "text": [
        "\n",
        "97.6% (5956) are installable using ['cran']\n",
        "64.1% (3914) are installable using ['bioc']\n",
        "97.7% (5960) are installable using ['github', 'cran']"
       ]
      },
      {
       "output_type": "stream",
       "stream": "stdout",
       "text": [
        "\n",
        "66.0% (4029) are installable using ['github', 'bioc']\n",
        "99.7% (6085) are installable using ['cran', 'bioc']\n",
        "99.7% (6085) are installable using ['github', 'cran', 'bioc']"
       ]
      },
      {
       "output_type": "stream",
       "stream": "stdout",
       "text": [
        "\n",
        "\n",
        "1974 packages in ['bioc']\n",
        "15.3% (303) are installable using []\n",
        "15.8% (311) are installable using ['github']\n",
        "18.8% (372) are installable using ['cran']"
       ]
      },
      {
       "output_type": "stream",
       "stream": "stdout",
       "text": [
        "\n",
        "26.2% (518) are installable using ['bioc']\n",
        "18.9% (373) are installable using ['github', 'cran']\n",
        "26.9% (531) are installable using ['github', 'bioc']\n",
        "99.2% (1959) are installable using ['cran', 'bioc']"
       ]
      },
      {
       "output_type": "stream",
       "stream": "stdout",
       "text": [
        "\n",
        "99.2% (1959) are installable using ['github', 'cran', 'bioc']\n",
        "\n",
        "9427 packages in ['github', 'cran']\n",
        "55.2% (5200) are installable using []"
       ]
      },
      {
       "output_type": "stream",
       "stream": "stdout",
       "text": [
        "\n",
        "56.8% (5357) are installable using ['github']\n",
        "93.2% (8782) are installable using ['cran']"
       ]
      },
      {
       "output_type": "stream",
       "stream": "stdout",
       "text": [
        "\n",
        "56.0% (5275) are installable using ['bioc']\n",
        "93.7% (8834) are installable using ['github', 'cran']"
       ]
      },
      {
       "output_type": "stream",
       "stream": "stdout",
       "text": [
        "\n",
        "57.6% (5432) are installable using ['github', 'bioc']\n",
        "97.8% (9223) are installable using ['cran', 'bioc']"
       ]
      },
      {
       "output_type": "stream",
       "stream": "stdout",
       "text": [
        "\n",
        "98.2% (9262) are installable using ['github', 'cran', 'bioc']\n",
        "\n",
        "6095"
       ]
      },
      {
       "output_type": "stream",
       "stream": "stdout",
       "text": [
        " packages in ['github', 'bioc']\n",
        "33.4% (2033) are installable using []\n",
        "34.6% (2106) are installable using ['github']\n",
        "67.2% (4093) are installable using ['cran']"
       ]
      },
      {
       "output_type": "stream",
       "stream": "stdout",
       "text": [
        "\n",
        "37.4% (2281) are installable using ['bioc']\n",
        "68.0% (4142) are installable using ['github', 'cran']"
       ]
      },
      {
       "output_type": "stream",
       "stream": "stdout",
       "text": [
        "\n",
        "38.7% (2359) are installable using ['github', 'bioc']\n",
        "96.9% (5905) are installable using ['cran', 'bioc']"
       ]
      },
      {
       "output_type": "stream",
       "stream": "stdout",
       "text": [
        "\n",
        "97.5% (5944) are installable using ['github', 'cran', 'bioc']\n",
        "\n",
        "8073 packages in ['cran', 'bioc']\n",
        "51.8% (4178) are installable using []"
       ]
      },
      {
       "output_type": "stream",
       "stream": "stdout",
       "text": [
        "\n",
        "53.3% (4301) are installable using ['github']\n",
        "78.4% (6326) are installable using ['cran']"
       ]
      },
      {
       "output_type": "stream",
       "stream": "stdout",
       "text": [
        "\n",
        "54.9% (4430) are installable using ['bioc']\n",
        "78.4% (6331) are installable using ['github', 'cran']"
       ]
      },
      {
       "output_type": "stream",
       "stream": "stdout",
       "text": [
        "\n",
        "56.5% (4558) are installable using ['github', 'bioc']\n",
        "99.6% (8041) are installable using ['cran', 'bioc']"
       ]
      },
      {
       "output_type": "stream",
       "stream": "stdout",
       "text": [
        "\n",
        "99.6% (8041) are installable using ['github', 'cran', 'bioc']\n",
        "\n",
        "11237"
       ]
      },
      {
       "output_type": "stream",
       "stream": "stdout",
       "text": [
        " packages in ['github', 'cran', 'bioc']\n",
        "48.8% (5486) are installable using []\n",
        "50.3% (5648) are installable using ['github']"
       ]
      },
      {
       "output_type": "stream",
       "stream": "stdout",
       "text": [
        "\n",
        "81.1% (9113) are installable using ['cran']\n",
        "51.3% (5767) are installable using ['bioc']"
       ]
      },
      {
       "output_type": "stream",
       "stream": "stdout",
       "text": [
        "\n",
        "81.6% (9166) are installable using ['github', 'cran']\n",
        "52.8% (5934) are installable using ['github', 'bioc']"
       ]
      },
      {
       "output_type": "stream",
       "stream": "stdout",
       "text": [
        "\n",
        "98.2% (11036) are installable using ['cran', 'bioc']\n",
        "98.6% (11075) are installable using ['github', 'cran', 'bioc']"
       ]
      },
      {
       "output_type": "stream",
       "stream": "stdout",
       "text": [
        "\n",
        "\n",
        "\n",
        "2014-09-30 00:00:00\n",
        "4609 packages in ['github']\n",
        "40.8% (1882) are installable using []\n",
        "42.4% (1954) are installable using ['github']"
       ]
      },
      {
       "output_type": "stream",
       "stream": "stdout",
       "text": [
        "\n",
        "87.9% (4051) are installable using ['cran']\n",
        "41.8% (1928) are installable using ['bioc']\n",
        "89.0% (4102) are installable using ['github', 'cran']"
       ]
      },
      {
       "output_type": "stream",
       "stream": "stdout",
       "text": [
        "\n",
        "43.4% (2000) are installable using ['github', 'bioc']\n",
        "95.4% (4397) are installable using ['cran', 'bioc']\n",
        "96.3% (4438) are installable using ['github', 'cran', 'bioc']"
       ]
      },
      {
       "output_type": "stream",
       "stream": "stdout",
       "text": [
        "\n",
        "\n",
        "6215 packages in ['cran']\n",
        "63.2% (3930) are installable using []\n",
        "65.1% (4047) are installable using ['github']"
       ]
      },
      {
       "output_type": "stream",
       "stream": "stdout",
       "text": [
        "\n",
        "97.6% (6064) are installable using ['cran']\n",
        "63.8% (3968) are installable using ['bioc']\n",
        "97.7% (6069) are installable using ['github', 'cran']"
       ]
      },
      {
       "output_type": "stream",
       "stream": "stdout",
       "text": [
        "\n",
        "65.8% (4087) are installable using ['github', 'bioc']\n",
        "99.7% (6198) are installable using ['cran', 'bioc']\n",
        "99.7% (6198) are installable using ['github', 'cran', 'bioc']"
       ]
      },
      {
       "output_type": "stream",
       "stream": "stdout",
       "text": [
        "\n",
        "\n",
        "1974 packages in ['bioc']\n",
        "15.3% (303) are installable using []\n",
        "15.8% (312) are installable using ['github']\n",
        "18.8% (372) are installable using ['cran']"
       ]
      },
      {
       "output_type": "stream",
       "stream": "stdout",
       "text": [
        "\n",
        "26.2% (518) are installable using ['bioc']\n",
        "18.9% (374) are installable using ['github', 'cran']\n",
        "26.9% (531) are installable using ['github', 'bioc']\n",
        "99.2% (1959) are installable using ['cran', 'bioc']"
       ]
      },
      {
       "output_type": "stream",
       "stream": "stdout",
       "text": [
        "\n",
        "99.2% (1959) are installable using ['github', 'cran', 'bioc']\n",
        "\n",
        "9820 packages in ['github', 'cran']\n",
        "54.7% (5374) are installable using []"
       ]
      },
      {
       "output_type": "stream",
       "stream": "stdout",
       "text": [
        "\n",
        "56.4% (5535) are installable using ['github']\n",
        "93.0% (9137) are installable using ['cran']"
       ]
      },
      {
       "output_type": "stream",
       "stream": "stdout",
       "text": [
        "\n",
        "55.5% (5453) are installable using ['bioc']\n",
        "93.6% (9192) are installable using ['github', 'cran']"
       ]
      },
      {
       "output_type": "stream",
       "stream": "stdout",
       "text": [
        "\n",
        "57.2% (5616) are installable using ['github', 'bioc']\n",
        "97.7% (9597) are installable using ['cran', 'bioc']"
       ]
      },
      {
       "output_type": "stream",
       "stream": "stdout",
       "text": [
        "\n",
        "98.1% (9638) are installable using ['github', 'cran', 'bioc']\n",
        "\n",
        "6419"
       ]
      },
      {
       "output_type": "stream",
       "stream": "stdout",
       "text": [
        " packages in ['github', 'bioc']\n",
        "33.8% (2168) are installable using []\n",
        "35.0% (2246) are installable using ['github']\n",
        "68.3% (4382) are installable using ['cran']"
       ]
      },
      {
       "output_type": "stream",
       "stream": "stdout",
       "text": [
        "\n",
        "37.7% (2420) are installable using ['bioc']\n",
        "69.1% (4435) are installable using ['github', 'cran']"
       ]
      },
      {
       "output_type": "stream",
       "stream": "stdout",
       "text": [
        "\n",
        "39.0% (2502) are installable using ['github', 'bioc']\n",
        "96.8% (6212) are installable using ['cran', 'bioc']"
       ]
      },
      {
       "output_type": "stream",
       "stream": "stdout",
       "text": [
        "\n",
        "97.4% (6253) are installable using ['github', 'cran', 'bioc']\n",
        "\n",
        "8186"
       ]
      },
      {
       "output_type": "stream",
       "stream": "stdout",
       "text": [
        " packages in ['cran', 'bioc']\n",
        "51.7% (4231) are installable using []\n",
        "53.2% (4357) are installable using ['github']"
       ]
      },
      {
       "output_type": "stream",
       "stream": "stdout",
       "text": [
        "\n",
        "78.6% (6434) are installable using ['cran']\n",
        "54.8% (4484) are installable using ['bioc']"
       ]
      },
      {
       "output_type": "stream",
       "stream": "stdout",
       "text": [
        "\n",
        "78.7% (6441) are installable using ['github', 'cran']\n",
        "56.4% (4616) are installable using ['github', 'bioc']"
       ]
      },
      {
       "output_type": "stream",
       "stream": "stdout",
       "text": [
        "\n",
        "99.6% (8154) are installable using ['cran', 'bioc']\n",
        "99.6% (8154) are installable using ['github', 'cran', 'bioc']"
       ]
      },
      {
       "output_type": "stream",
       "stream": "stdout",
       "text": [
        "\n",
        "\n",
        "11628 packages in ['github', 'cran', 'bioc']\n",
        "48.7% (5659) are installable using []"
       ]
      },
      {
       "output_type": "stream",
       "stream": "stdout",
       "text": [
        "\n",
        "50.1% (5826) are installable using ['github']"
       ]
      },
      {
       "output_type": "stream",
       "stream": "stdout",
       "text": [
        "\n",
        "81.4% (9467) are installable using ['cran']"
       ]
      },
      {
       "output_type": "stream",
       "stream": "stdout",
       "text": [
        "\n",
        "51.1% (5944) are installable using ['bioc']"
       ]
      },
      {
       "output_type": "stream",
       "stream": "stdout",
       "text": [
        "\n",
        "81.9% (9524) are installable using ['github', 'cran']"
       ]
      },
      {
       "output_type": "stream",
       "stream": "stdout",
       "text": [
        "\n",
        "52.6% (6117) are installable using ['github', 'bioc']"
       ]
      },
      {
       "output_type": "stream",
       "stream": "stdout",
       "text": [
        "\n",
        "98.1% (11410) are installable using ['cran', 'bioc']"
       ]
      },
      {
       "output_type": "stream",
       "stream": "stdout",
       "text": [
        "\n",
        "98.5% (11451) are installable using ['github', 'cran', 'bioc']"
       ]
      },
      {
       "output_type": "stream",
       "stream": "stdout",
       "text": [
        "\n",
        "\n",
        "\n",
        "2014-10-31 00:00:00\n",
        "5011 packages in ['github']\n",
        "40.5% (2030) are installable using []\n",
        "42.1% (2108) are installable using ['github']"
       ]
      },
      {
       "output_type": "stream",
       "stream": "stdout",
       "text": [
        "\n",
        "87.8% (4398) are installable using ['cran']\n",
        "41.5% (2082) are installable using ['bioc']"
       ]
      },
      {
       "output_type": "stream",
       "stream": "stdout",
       "text": [
        "\n",
        "89.0% (4459) are installable using ['github', 'cran']\n",
        "43.1% (2161) are installable using ['github', 'bioc']"
       ]
      },
      {
       "output_type": "stream",
       "stream": "stdout",
       "text": [
        "\n",
        "95.7% (4795) are installable using ['cran', 'bioc']\n",
        "96.7% (4846) are installable using ['github', 'cran', 'bioc']"
       ]
      },
      {
       "output_type": "stream",
       "stream": "stdout",
       "text": [
        "\n",
        "\n",
        "6261 packages in ['cran']\n",
        "63.2% (3957) are installable using []\n",
        "65.1% (4076) are installable using ['github']"
       ]
      },
      {
       "output_type": "stream",
       "stream": "stdout",
       "text": [
        "\n",
        "97.5% (6107) are installable using ['cran']\n",
        "63.8% (3995) are installable using ['bioc']\n",
        "97.7% (6114) are installable using ['github', 'cran']"
       ]
      },
      {
       "output_type": "stream",
       "stream": "stdout",
       "text": [
        "\n",
        "65.7% (4115) are installable using ['github', 'bioc']\n",
        "99.7% (6243) are installable using ['cran', 'bioc']"
       ]
      },
      {
       "output_type": "stream",
       "stream": "stdout",
       "text": [
        "\n",
        "99.7% (6243) are installable using ['github', 'cran', 'bioc']\n",
        "\n",
        "2149 packages in ['bioc']\n",
        "15.4% (331) are installable using []"
       ]
      },
      {
       "output_type": "stream",
       "stream": "stdout",
       "text": [
        "\n",
        "15.9% (341) are installable using ['github']\n",
        "19.2% (412) are installable using ['cran']\n",
        "26.3% (565) are installable using ['bioc']\n",
        "19.3% (414) are installable using ['github', 'cran']"
       ]
      },
      {
       "output_type": "stream",
       "stream": "stdout",
       "text": [
        "\n",
        "26.9% (579) are installable using ['github', 'bioc']\n",
        "99.1% (2130) are installable using ['cran', 'bioc']\n",
        "99.1% (2130) are installable using ['github', 'cran', 'bioc']"
       ]
      },
      {
       "output_type": "stream",
       "stream": "stdout",
       "text": [
        "\n",
        "\n",
        "10227 packages in ['github', 'cran']\n",
        "54.2% (5539) are installable using []\n",
        "55.8% (5708) are installable using ['github']"
       ]
      },
      {
       "output_type": "stream",
       "stream": "stdout",
       "text": [
        "\n",
        "92.8% (9489) are installable using ['cran']\n",
        "55.0% (5624) are installable using ['bioc']"
       ]
      },
      {
       "output_type": "stream",
       "stream": "stdout",
       "text": [
        "\n",
        "93.4% (9556) are installable using ['github', 'cran']\n",
        "56.7% (5795) are installable using ['github', 'bioc']"
       ]
      },
      {
       "output_type": "stream",
       "stream": "stdout",
       "text": [
        "\n",
        "97.8% (10000) are installable using ['cran', 'bioc']\n",
        "98.3% (10051) are installable using ['github', 'cran', 'bioc']"
       ]
      },
      {
       "output_type": "stream",
       "stream": "stdout",
       "text": [
        "\n",
        "\n",
        "6950 packages in ['github', 'bioc']\n",
        "33.7% (2341) are installable using []\n",
        "34.9% (2426) are installable using ['github']"
       ]
      },
      {
       "output_type": "stream",
       "stream": "stdout",
       "text": [
        "\n",
        "68.5% (4761) are installable using ['cran']\n",
        "37.6% (2611) are installable using ['bioc']"
       ]
      },
      {
       "output_type": "stream",
       "stream": "stdout",
       "text": [
        "\n",
        "69.4% (4824) are installable using ['github', 'cran']\n",
        "38.9% (2701) are installable using ['github', 'bioc']"
       ]
      },
      {
       "output_type": "stream",
       "stream": "stdout",
       "text": [
        "\n",
        "96.7% (6720) are installable using ['cran', 'bioc']"
       ]
      },
      {
       "output_type": "stream",
       "stream": "stdout",
       "text": [
        "\n",
        "97.4% (6771) are installable using ['github', 'cran', 'bioc']\n",
        "\n",
        "8403"
       ]
      },
      {
       "output_type": "stream",
       "stream": "stdout",
       "text": [
        " packages in ['cran', 'bioc']\n",
        "51.0% (4284) are installable using []\n",
        "52.5% (4413) are installable using ['github']"
       ]
      },
      {
       "output_type": "stream",
       "stream": "stdout",
       "text": [
        "\n",
        "77.5% (6514) are installable using ['cran']\n",
        "54.2% (4556) are installable using ['bioc']"
       ]
      },
      {
       "output_type": "stream",
       "stream": "stdout",
       "text": [
        "\n",
        "77.6% (6523) are installable using ['github', 'cran']\n",
        "55.8% (4690) are installable using ['github', 'bioc']"
       ]
      },
      {
       "output_type": "stream",
       "stream": "stdout",
       "text": [
        "\n",
        "99.6% (8366) are installable using ['cran', 'bioc']\n",
        "99.6% (8366) are installable using ['github', 'cran', 'bioc']"
       ]
      },
      {
       "output_type": "stream",
       "stream": "stdout",
       "text": [
        "\n",
        "\n",
        "12162 packages in ['github', 'cran', 'bioc']\n",
        "48.1% (5848) are installable using []"
       ]
      },
      {
       "output_type": "stream",
       "stream": "stdout",
       "text": [
        "\n",
        "49.5% (6024) are installable using ['github']\n",
        "81.0% (9850) are installable using ['cran']"
       ]
      },
      {
       "output_type": "stream",
       "stream": "stdout",
       "text": [
        "\n",
        "50.6% (6151) are installable using ['bioc']\n",
        "81.6% (9919) are installable using ['github', 'cran']"
       ]
      },
      {
       "output_type": "stream",
       "stream": "stdout",
       "text": [
        "\n",
        "52.1% (6333) are installable using ['github', 'bioc']\n",
        "98.0% (11921) are installable using ['cran', 'bioc']"
       ]
      },
      {
       "output_type": "stream",
       "stream": "stdout",
       "text": [
        "\n",
        "98.4% (11972) are installable using ['github', 'cran', 'bioc']\n",
        "\n",
        "\n",
        "2014-11-30 00:00:00\n",
        "5341"
       ]
      },
      {
       "output_type": "stream",
       "stream": "stdout",
       "text": [
        " packages in ['github']\n",
        "40.6% (2168) are installable using []\n",
        "42.1% (2246) are installable using ['github']\n",
        "88.1% (4708) are installable using ['cran']"
       ]
      },
      {
       "output_type": "stream",
       "stream": "stdout",
       "text": [
        "\n",
        "41.6% (2220) are installable using ['bioc']\n",
        "89.3% (4769) are installable using ['github', 'cran']"
       ]
      },
      {
       "output_type": "stream",
       "stream": "stdout",
       "text": [
        "\n",
        "43.0% (2298) are installable using ['github', 'bioc']\n",
        "95.8% (5119) are installable using ['cran', 'bioc']"
       ]
      },
      {
       "output_type": "stream",
       "stream": "stdout",
       "text": [
        "\n",
        "96.8% (5170) are installable using ['github', 'cran', 'bioc']\n",
        "\n",
        "6451"
       ]
      },
      {
       "output_type": "stream",
       "stream": "stdout",
       "text": [
        " packages in ['cran']\n",
        "62.9% (4055) are installable using []\n",
        "64.7% (4173) are installable using ['github']\n",
        "97.5% (6289) are installable using ['cran']"
       ]
      },
      {
       "output_type": "stream",
       "stream": "stdout",
       "text": [
        "\n",
        "63.5% (4095) are installable using ['bioc']\n",
        "97.6% (6296) are installable using ['github', 'cran']"
       ]
      },
      {
       "output_type": "stream",
       "stream": "stdout",
       "text": [
        "\n",
        "65.3% (4214) are installable using ['github', 'bioc']\n",
        "99.7% (6431) are installable using ['cran', 'bioc']"
       ]
      },
      {
       "output_type": "stream",
       "stream": "stdout",
       "text": [
        "\n",
        "99.7% (6431) are installable using ['github', 'cran', 'bioc']\n",
        "\n",
        "2149 packages in ['bioc']\n",
        "15.4% (331) are installable using []"
       ]
      },
      {
       "output_type": "stream",
       "stream": "stdout",
       "text": [
        "\n",
        "15.9% (341) are installable using ['github']\n",
        "19.2% (412) are installable using ['cran']\n",
        "26.2% (564) are installable using ['bioc']\n",
        "19.3% (414) are installable using ['github', 'cran']"
       ]
      },
      {
       "output_type": "stream",
       "stream": "stdout",
       "text": [
        "\n",
        "26.9% (578) are installable using ['github', 'bioc']\n",
        "99.1% (2130) are installable using ['cran', 'bioc']\n",
        "99.1% (2130) are installable using ['github', 'cran', 'bioc']"
       ]
      },
      {
       "output_type": "stream",
       "stream": "stdout",
       "text": [
        "\n",
        "\n",
        "10671 packages in ['github', 'cran']\n",
        "53.8% (5743) are installable using []"
       ]
      },
      {
       "output_type": "stream",
       "stream": "stdout",
       "text": [
        "\n",
        "55.4% (5910) are installable using ['github']\n",
        "92.8% (9905) are installable using ['cran']"
       ]
      },
      {
       "output_type": "stream",
       "stream": "stdout",
       "text": [
        "\n",
        "54.6% (5830) are installable using ['bioc']\n",
        "93.4% (9972) are installable using ['github', 'cran']"
       ]
      },
      {
       "output_type": "stream",
       "stream": "stdout",
       "text": [
        "\n",
        "56.2% (5998) are installable using ['github', 'bioc']\n",
        "97.8% (10434) are installable using ['cran', 'bioc']"
       ]
      },
      {
       "output_type": "stream",
       "stream": "stdout",
       "text": [
        "\n",
        "98.3% (10485) are installable using ['github', 'cran', 'bioc']\n",
        "\n",
        "7277"
       ]
      },
      {
       "output_type": "stream",
       "stream": "stdout",
       "text": [
        " packages in ['github', 'bioc']\n",
        "34.1% (2478) are installable using []\n",
        "35.2% (2563) are installable using ['github']"
       ]
      },
      {
       "output_type": "stream",
       "stream": "stdout",
       "text": [
        "\n",
        "69.7% (5070) are installable using ['cran']\n",
        "37.8% (2748) are installable using ['bioc']"
       ]
      },
      {
       "output_type": "stream",
       "stream": "stdout",
       "text": [
        "\n",
        "70.5% (5133) are installable using ['github', 'cran']\n",
        "39.0% (2837) are installable using ['github', 'bioc']"
       ]
      },
      {
       "output_type": "stream",
       "stream": "stdout",
       "text": [
        "\n",
        "96.8% (7041) are installable using ['cran', 'bioc']\n",
        "97.5% (7092) are installable using ['github', 'cran', 'bioc']"
       ]
      },
      {
       "output_type": "stream",
       "stream": "stdout",
       "text": [
        "\n",
        "\n",
        "8593 packages in ['cran', 'bioc']\n",
        "51.0% (4382) are installable using []\n",
        "52.5% (4510) are installable using ['github']"
       ]
      },
      {
       "output_type": "stream",
       "stream": "stdout",
       "text": [
        "\n",
        "77.9% (6696) are installable using ['cran']\n",
        "54.2% (4655) are installable using ['bioc']"
       ]
      },
      {
       "output_type": "stream",
       "stream": "stdout",
       "text": [
        "\n",
        "78.0% (6705) are installable using ['github', 'cran']\n",
        "55.7% (4788) are installable using ['github', 'bioc']"
       ]
      },
      {
       "output_type": "stream",
       "stream": "stdout",
       "text": [
        "\n",
        "99.5% (8554) are installable using ['cran', 'bioc']\n",
        "99.5% (8554) are installable using ['github', 'cran', 'bioc']"
       ]
      },
      {
       "output_type": "stream",
       "stream": "stdout",
       "text": [
        "\n",
        "\n",
        "12603 packages in ['github', 'cran', 'bioc']\n",
        "48.0% (6051) are installable using []"
       ]
      },
      {
       "output_type": "stream",
       "stream": "stdout",
       "text": [
        "\n",
        "49.4% (6225) are installable using ['github']\n",
        "81.4% (10265) are installable using ['cran']"
       ]
      },
      {
       "output_type": "stream",
       "stream": "stdout",
       "text": [
        "\n",
        "50.4% (6356) are installable using ['bioc']\n",
        "82.0% (10334) are installable using ['github', 'cran']"
       ]
      },
      {
       "output_type": "stream",
       "stream": "stdout",
       "text": [
        "\n",
        "51.9% (6535) are installable using ['github', 'bioc']\n",
        "98.0% (12352) are installable using ['cran', 'bioc']"
       ]
      },
      {
       "output_type": "stream",
       "stream": "stdout",
       "text": [
        "\n",
        "98.4% (12403) are installable using ['github', 'cran', 'bioc']"
       ]
      },
      {
       "output_type": "stream",
       "stream": "stdout",
       "text": [
        "\n",
        "\n",
        "\n",
        "2014-12-31 00:00:00\n",
        "5658 packages in ['github']\n",
        "40.5% (2290) are installable using []\n",
        "42.0% (2377) are installable using ['github']"
       ]
      },
      {
       "output_type": "stream",
       "stream": "stdout",
       "text": [
        "\n",
        "88.1% (4986) are installable using ['cran']\n",
        "41.5% (2346) are installable using ['bioc']"
       ]
      },
      {
       "output_type": "stream",
       "stream": "stdout",
       "text": [
        "\n",
        "89.0% (5038) are installable using ['github', 'cran']\n",
        "43.0% (2433) are installable using ['github', 'bioc']"
       ]
      },
      {
       "output_type": "stream",
       "stream": "stdout",
       "text": [
        "\n",
        "96.0% (5431) are installable using ['cran', 'bioc']\n",
        "96.8% (5479) are installable using ['github', 'cran', 'bioc']"
       ]
      },
      {
       "output_type": "stream",
       "stream": "stdout",
       "text": [
        "\n",
        "\n",
        "6560 packages in ['cran']\n",
        "62.5% (4103) are installable using []\n",
        "64.4% (4223) are installable using ['github']"
       ]
      },
      {
       "output_type": "stream",
       "stream": "stdout",
       "text": [
        "\n",
        "97.7% (6409) are installable using ['cran']\n",
        "63.1% (4142) are installable using ['bioc']"
       ]
      },
      {
       "output_type": "stream",
       "stream": "stdout",
       "text": [
        "\n",
        "97.8% (6413) are installable using ['github', 'cran']\n",
        "65.0% (4263) are installable using ['github', 'bioc']"
       ]
      },
      {
       "output_type": "stream",
       "stream": "stdout",
       "text": [
        "\n",
        "99.9% (6555) are installable using ['cran', 'bioc']\n",
        "99.9% (6555) are installable using ['github', 'cran', 'bioc']"
       ]
      },
      {
       "output_type": "stream",
       "stream": "stdout",
       "text": [
        "\n",
        "\n",
        "2149 packages in ['bioc']\n",
        "15.4% (331) are installable using []\n",
        "15.9% (341) are installable using ['github']\n",
        "19.4% (416) are installable using ['cran']"
       ]
      },
      {
       "output_type": "stream",
       "stream": "stdout",
       "text": [
        "\n",
        "26.2% (564) are installable using ['bioc']\n",
        "19.5% (418) are installable using ['github', 'cran']\n",
        "26.9% (578) are installable using ['github', 'bioc']\n",
        "99.5% (2139) are installable using ['cran', 'bioc']"
       ]
      },
      {
       "output_type": "stream",
       "stream": "stdout",
       "text": [
        "\n",
        "99.5% (2139) are installable using ['github', 'cran', 'bioc']\n",
        "\n",
        "11035 packages in ['github', 'cran']\n",
        "53.4% (5890) are installable using []"
       ]
      },
      {
       "output_type": "stream",
       "stream": "stdout",
       "text": [
        "\n",
        "55.0% (6066) are installable using ['github']\n",
        "92.8% (10240) are installable using ['cran']"
       ]
      },
      {
       "output_type": "stream",
       "stream": "stdout",
       "text": [
        "\n",
        "54.2% (5980) are installable using ['bioc']\n",
        "93.3% (10296) are installable using ['github', 'cran']"
       ]
      },
      {
       "output_type": "stream",
       "stream": "stdout",
       "text": [
        "\n",
        "55.8% (6157) are installable using ['github', 'bioc']\n",
        "97.9% (10807) are installable using ['cran', 'bioc']"
       ]
      },
      {
       "output_type": "stream",
       "stream": "stdout",
       "text": [
        "\n",
        "98.4% (10855) are installable using ['github', 'cran', 'bioc']\n",
        "\n",
        "7592"
       ]
      },
      {
       "output_type": "stream",
       "stream": "stdout",
       "text": [
        " packages in ['github', 'bioc']\n",
        "34.2% (2600) are installable using []\n",
        "35.5% (2694) are installable using ['github']"
       ]
      },
      {
       "output_type": "stream",
       "stream": "stdout",
       "text": [
        "\n",
        "70.5% (5351) are installable using ['cran']\n",
        "37.9% (2874) are installable using ['bioc']"
       ]
      },
      {
       "output_type": "stream",
       "stream": "stdout",
       "text": [
        "\n",
        "71.2% (5405) are installable using ['github', 'cran']\n",
        "39.1% (2972) are installable using ['github', 'bioc']"
       ]
      },
      {
       "output_type": "stream",
       "stream": "stdout",
       "text": [
        "\n",
        "96.9% (7358) are installable using ['cran', 'bioc']\n",
        "97.6% (7406) are installable using ['github', 'cran', 'bioc']"
       ]
      },
      {
       "output_type": "stream",
       "stream": "stdout",
       "text": [
        "\n",
        "\n",
        "8702 packages in ['cran', 'bioc']\n",
        "50.9% (4430) are installable using []\n",
        "52.4% (4560) are installable using ['github']"
       ]
      },
      {
       "output_type": "stream",
       "stream": "stdout",
       "text": [
        "\n",
        "78.4% (6820) are installable using ['cran']\n",
        "54.0% (4702) are installable using ['bioc']"
       ]
      },
      {
       "output_type": "stream",
       "stream": "stdout",
       "text": [
        "\n",
        "78.4% (6826) are installable using ['github', 'cran']\n",
        "55.6% (4837) are installable using ['github', 'bioc']"
       ]
      },
      {
       "output_type": "stream",
       "stream": "stdout",
       "text": [
        "\n",
        "99.8% (8687) are installable using ['cran', 'bioc']\n",
        "99.8% (8687) are installable using ['github', 'cran', 'bioc']"
       ]
      },
      {
       "output_type": "stream",
       "stream": "stdout",
       "text": [
        "\n",
        "\n",
        "12965 packages in ['github', 'cran', 'bioc']\n",
        "47.8% (6198) are installable using []"
       ]
      },
      {
       "output_type": "stream",
       "stream": "stdout",
       "text": [
        "\n",
        "49.2% (6381) are installable using ['github']\n",
        "81.8% (10603) are installable using ['cran']"
       ]
      },
      {
       "output_type": "stream",
       "stream": "stdout",
       "text": [
        "\n",
        "50.2% (6506) are installable using ['bioc']\n",
        "82.2% (10661) are installable using ['github', 'cran']"
       ]
      },
      {
       "output_type": "stream",
       "stream": "stdout",
       "text": [
        "\n",
        "51.6% (6694) are installable using ['github', 'bioc']\n",
        "98.2% (12730) are installable using ['cran', 'bioc']"
       ]
      },
      {
       "output_type": "stream",
       "stream": "stdout",
       "text": [
        "\n",
        "98.6% (12778) are installable using ['github', 'cran', 'bioc']"
       ]
      },
      {
       "output_type": "stream",
       "stream": "stdout",
       "text": [
        "\n",
        "\n",
        "\n",
        "2015-01-31 00:00:00\n",
        "5701 packages in ['github']\n",
        "40.1% (2286) are installable using []\n",
        "42.1% (2401) are installable using ['github']"
       ]
      },
      {
       "output_type": "stream",
       "stream": "stdout",
       "text": [
        "\n",
        "88.0% (5016) are installable using ['cran']\n",
        "41.1% (2344) are installable using ['bioc']"
       ]
      },
      {
       "output_type": "stream",
       "stream": "stdout",
       "text": [
        "\n",
        "89.1% (5079) are installable using ['github', 'cran']\n",
        "43.1% (2459) are installable using ['github', 'bioc']"
       ]
      },
      {
       "output_type": "stream",
       "stream": "stdout",
       "text": [
        "\n",
        "96.0% (5474) are installable using ['cran', 'bioc']\n",
        "97.0% (5532) are installable using ['github', 'cran', 'bioc']"
       ]
      },
      {
       "output_type": "stream",
       "stream": "stdout",
       "text": [
        "\n",
        "\n",
        "6669 packages in ['cran']\n",
        "62.3% (4156) are installable using []\n",
        "64.1% (4274) are installable using ['github']"
       ]
      },
      {
       "output_type": "stream",
       "stream": "stdout",
       "text": [
        "\n",
        "97.7% (6518) are installable using ['cran']\n",
        "62.9% (4196) are installable using ['bioc']"
       ]
      },
      {
       "output_type": "stream",
       "stream": "stdout",
       "text": [
        "\n",
        "97.8% (6522) are installable using ['github', 'cran']\n",
        "64.7% (4315) are installable using ['github', 'bioc']"
       ]
      },
      {
       "output_type": "stream",
       "stream": "stdout",
       "text": [
        "\n",
        "100.0% (6668) are installable using ['cran', 'bioc']\n",
        "100.0% (6668) are installable using ['github', 'cran', 'bioc']"
       ]
      },
      {
       "output_type": "stream",
       "stream": "stdout",
       "text": [
        "\n",
        "\n",
        "2149 packages in ['bioc']\n",
        "15.5% (334) are installable using []\n",
        "15.9% (342) are installable using ['github']\n",
        "19.4% (416) are installable using ['cran']"
       ]
      },
      {
       "output_type": "stream",
       "stream": "stdout",
       "text": [
        "\n",
        "26.4% (567) are installable using ['bioc']\n",
        "19.5% (418) are installable using ['github', 'cran']\n",
        "26.9% (579) are installable using ['github', 'bioc']\n",
        "99.5% (2139) are installable using ['cran', 'bioc']"
       ]
      },
      {
       "output_type": "stream",
       "stream": "stdout",
       "text": [
        "\n",
        "99.5% (2139) are installable using ['github', 'cran', 'bioc']\n",
        "\n",
        "11161 packages in ['github', 'cran']\n",
        "53.2% (5936) are installable using []"
       ]
      },
      {
       "output_type": "stream",
       "stream": "stdout",
       "text": [
        "\n",
        "55.0% (6134) are installable using ['github']\n",
        "92.8% (10354) are installable using ['cran']"
       ]
      },
      {
       "output_type": "stream",
       "stream": "stdout",
       "text": [
        "\n",
        "54.0% (6028) are installable using ['bioc']\n",
        "93.4% (10421) are installable using ['github', 'cran']"
       ]
      },
      {
       "output_type": "stream",
       "stream": "stdout",
       "text": [
        "\n",
        "55.8% (6227) are installable using ['github', 'bioc']\n",
        "98.0% (10936) are installable using ['cran', 'bioc']"
       ]
      },
      {
       "output_type": "stream",
       "stream": "stdout",
       "text": [
        "\n",
        "98.5% (10994) are installable using ['github', 'cran', 'bioc']\n",
        "\n",
        "7635"
       ]
      },
      {
       "output_type": "stream",
       "stream": "stdout",
       "text": [
        " packages in ['github', 'bioc']\n",
        "34.0% (2598) are installable using []\n",
        "35.6% (2719) are installable using ['github']"
       ]
      },
      {
       "output_type": "stream",
       "stream": "stdout",
       "text": [
        "\n",
        "70.5% (5381) are installable using ['cran']\n",
        "37.6% (2874) are installable using ['bioc']"
       ]
      },
      {
       "output_type": "stream",
       "stream": "stdout",
       "text": [
        "\n",
        "71.3% (5446) are installable using ['github', 'cran']\n",
        "39.3% (2999) are installable using ['github', 'bioc']"
       ]
      },
      {
       "output_type": "stream",
       "stream": "stdout",
       "text": [
        "\n",
        "96.9% (7401) are installable using ['cran', 'bioc']\n",
        "97.7% (7459) are installable using ['github', 'cran', 'bioc']"
       ]
      },
      {
       "output_type": "stream",
       "stream": "stdout",
       "text": [
        "\n",
        "\n",
        "8811 packages in ['cran', 'bioc']\n",
        "50.9% (4486) are installable using []\n",
        "52.3% (4612) are installable using ['github']"
       ]
      },
      {
       "output_type": "stream",
       "stream": "stdout",
       "text": [
        "\n",
        "78.6% (6929) are installable using ['cran']\n",
        "54.0% (4759) are installable using ['bioc']"
       ]
      },
      {
       "output_type": "stream",
       "stream": "stdout",
       "text": [
        "\n",
        "78.7% (6935) are installable using ['github', 'cran']\n",
        "55.5% (4890) are installable using ['github', 'bioc']"
       ]
      },
      {
       "output_type": "stream",
       "stream": "stdout",
       "text": [
        "\n",
        "99.9% (8800) are installable using ['cran', 'bioc']\n",
        "99.9% (8800) are installable using ['github', 'cran', 'bioc']"
       ]
      },
      {
       "output_type": "stream",
       "stream": "stdout",
       "text": [
        "\n",
        "\n",
        "13091 packages in ['github', 'cran', 'bioc']\n",
        "47.7% (6246) are installable using []"
       ]
      },
      {
       "output_type": "stream",
       "stream": "stdout",
       "text": [
        "\n",
        "49.3% (6450) are installable using ['github']\n",
        "81.9% (10717) are installable using ['cran']"
       ]
      },
      {
       "output_type": "stream",
       "stream": "stdout",
       "text": [
        "\n",
        "50.1% (6556) are installable using ['bioc']\n",
        "82.4% (10786) are installable using ['github', 'cran']"
       ]
      },
      {
       "output_type": "stream",
       "stream": "stdout",
       "text": [
        "\n",
        "51.7% (6765) are installable using ['github', 'bioc']\n",
        "98.2% (12859) are installable using ['cran', 'bioc']"
       ]
      },
      {
       "output_type": "stream",
       "stream": "stdout",
       "text": [
        "\n",
        "98.7% (12917) are installable using ['github', 'cran', 'bioc']"
       ]
      },
      {
       "output_type": "stream",
       "stream": "stdout",
       "text": [
        "\n",
        "\n",
        "\n",
        "2015-02-28 00:00:00\n",
        "5722 packages in ['github']\n",
        "39.8% (2276) are installable using []\n",
        "41.8% (2390) are installable using ['github']"
       ]
      },
      {
       "output_type": "stream",
       "stream": "stdout",
       "text": [
        "\n",
        "88.0% (5036) are installable using ['cran']\n",
        "40.8% (2332) are installable using ['bioc']"
       ]
      },
      {
       "output_type": "stream",
       "stream": "stdout",
       "text": [
        "\n",
        "89.1% (5099) are installable using ['github', 'cran']\n",
        "42.7% (2446) are installable using ['github', 'bioc']"
       ]
      },
      {
       "output_type": "stream",
       "stream": "stdout",
       "text": [
        "\n",
        "95.9% (5489) are installable using ['cran', 'bioc']\n",
        "97.0% (5549) are installable using ['github', 'cran', 'bioc']"
       ]
      },
      {
       "output_type": "stream",
       "stream": "stdout",
       "text": [
        "\n",
        "\n",
        "6803 packages in ['cran']\n",
        "61.9% (4209) are installable using []\n",
        "63.5% (4323) are installable using ['github']"
       ]
      },
      {
       "output_type": "stream",
       "stream": "stdout",
       "text": [
        "\n",
        "97.8% (6650) are installable using ['cran']\n",
        "62.5% (4249) are installable using ['bioc']"
       ]
      },
      {
       "output_type": "stream",
       "stream": "stdout",
       "text": [
        "\n",
        "97.8% (6654) are installable using ['github', 'cran']\n",
        "64.1% (4364) are installable using ['github', 'bioc']"
       ]
      },
      {
       "output_type": "stream",
       "stream": "stdout",
       "text": [
        "\n",
        "100.0% (6802) are installable using ['cran', 'bioc']\n",
        "100.0% (6802) are installable using ['github', 'cran', 'bioc']"
       ]
      },
      {
       "output_type": "stream",
       "stream": "stdout",
       "text": [
        "\n",
        "\n",
        "2149 packages in ['bioc']\n",
        "15.5% (333) are installable using []\n",
        "15.9% (341) are installable using ['github']\n",
        "19.4% (416) are installable using ['cran']"
       ]
      },
      {
       "output_type": "stream",
       "stream": "stdout",
       "text": [
        "\n",
        "26.3% (566) are installable using ['bioc']\n",
        "19.5% (418) are installable using ['github', 'cran']\n",
        "26.9% (578) are installable using ['github', 'bioc']\n",
        "99.5% (2139) are installable using ['cran', 'bioc']"
       ]
      },
      {
       "output_type": "stream",
       "stream": "stdout",
       "text": [
        "\n",
        "99.5% (2139) are installable using ['github', 'cran', 'bioc']\n",
        "\n",
        "11309 packages in ['github', 'cran']\n",
        "52.9% (5980) are installable using []"
       ]
      },
      {
       "output_type": "stream",
       "stream": "stdout",
       "text": [
        "\n",
        "54.6% (6173) are installable using ['github']\n",
        "92.8% (10498) are installable using ['cran']"
       ]
      },
      {
       "output_type": "stream",
       "stream": "stdout",
       "text": [
        "\n",
        "53.7% (6071) are installable using ['bioc']\n",
        "93.4% (10565) are installable using ['github', 'cran']"
       ]
      },
      {
       "output_type": "stream",
       "stream": "stdout",
       "text": [
        "\n",
        "55.4% (6265) are installable using ['github', 'bioc']\n",
        "98.0% (11078) are installable using ['cran', 'bioc']"
       ]
      },
      {
       "output_type": "stream",
       "stream": "stdout",
       "text": [
        "\n",
        "98.5% (11138) are installable using ['github', 'cran', 'bioc']\n",
        "\n",
        "7656"
       ]
      },
      {
       "output_type": "stream",
       "stream": "stdout",
       "text": [
        " packages in ['github', 'bioc']\n",
        "33.8% (2587) are installable using []\n",
        "35.4% (2707) are installable using ['github']"
       ]
      },
      {
       "output_type": "stream",
       "stream": "stdout",
       "text": [
        "\n",
        "70.5% (5401) are installable using ['cran']\n",
        "37.4% (2862) are installable using ['bioc']"
       ]
      },
      {
       "output_type": "stream",
       "stream": "stdout",
       "text": [
        "\n",
        "71.4% (5466) are installable using ['github', 'cran']\n",
        "39.0% (2986) are installable using ['github', 'bioc']"
       ]
      },
      {
       "output_type": "stream",
       "stream": "stdout",
       "text": [
        "\n",
        "96.9% (7416) are installable using ['cran', 'bioc']\n",
        "97.6% (7476) are installable using ['github', 'cran', 'bioc']"
       ]
      },
      {
       "output_type": "stream",
       "stream": "stdout",
       "text": [
        "\n",
        "\n",
        "8945 packages in ['cran', 'bioc']\n",
        "50.7% (4538) are installable using []\n",
        "52.1% (4660) are installable using ['github']"
       ]
      },
      {
       "output_type": "stream",
       "stream": "stdout",
       "text": [
        "\n",
        "78.9% (7061) are installable using ['cran']\n",
        "53.8% (4811) are installable using ['bioc']"
       ]
      },
      {
       "output_type": "stream",
       "stream": "stdout",
       "text": [
        "\n",
        "79.0% (7067) are installable using ['github', 'cran']\n",
        "55.2% (4938) are installable using ['github', 'bioc']"
       ]
      },
      {
       "output_type": "stream",
       "stream": "stdout",
       "text": [
        "\n",
        "99.9% (8934) are installable using ['cran', 'bioc']\n",
        "99.9% (8934) are installable using ['github', 'cran', 'bioc']"
       ]
      },
      {
       "output_type": "stream",
       "stream": "stdout",
       "text": [
        "\n",
        "\n",
        "13239 packages in ['github', 'cran', 'bioc']\n",
        "47.5% (6289) are installable using []"
       ]
      },
      {
       "output_type": "stream",
       "stream": "stdout",
       "text": [
        "\n",
        "49.0% (6488) are installable using ['github']\n",
        "82.0% (10861) are installable using ['cran']"
       ]
      },
      {
       "output_type": "stream",
       "stream": "stdout",
       "text": [
        "\n",
        "49.8% (6599) are installable using ['bioc']\n",
        "82.6% (10930) are installable using ['github', 'cran']"
       ]
      },
      {
       "output_type": "stream",
       "stream": "stdout",
       "text": [
        "\n",
        "51.4% (6803) are installable using ['github', 'bioc']\n",
        "98.2% (13001) are installable using ['cran', 'bioc']"
       ]
      },
      {
       "output_type": "stream",
       "stream": "stdout",
       "text": [
        "\n",
        "98.7% (13061) are installable using ['github', 'cran', 'bioc']"
       ]
      },
      {
       "output_type": "stream",
       "stream": "stdout",
       "text": [
        "\n",
        "\n",
        "\n",
        "2015-03-31 00:00:00\n",
        "5727 packages in ['github']\n",
        "39.6% (2266) are installable using []\n",
        "41.6% (2380) are installable using ['github']"
       ]
      },
      {
       "output_type": "stream",
       "stream": "stdout",
       "text": [
        "\n",
        "88.0% (5041) are installable using ['cran']\n",
        "40.5% (2320) are installable using ['bioc']"
       ]
      },
      {
       "output_type": "stream",
       "stream": "stdout",
       "text": [
        "\n",
        "89.1% (5104) are installable using ['github', 'cran']\n",
        "42.5% (2434) are installable using ['github', 'bioc']"
       ]
      },
      {
       "output_type": "stream",
       "stream": "stdout",
       "text": [
        "\n",
        "95.9% (5492) are installable using ['cran', 'bioc']\n",
        "97.0% (5553) are installable using ['github', 'cran', 'bioc']"
       ]
      },
      {
       "output_type": "stream",
       "stream": "stdout",
       "text": [
        "\n",
        "\n",
        "6916 packages in ['cran']\n",
        "61.5% (4253) are installable using []\n",
        "63.2% (4368) are installable using ['github']"
       ]
      },
      {
       "output_type": "stream",
       "stream": "stdout",
       "text": [
        "\n",
        "97.8% (6763) are installable using ['cran']\n",
        "62.1% (4292) are installable using ['bioc']"
       ]
      },
      {
       "output_type": "stream",
       "stream": "stdout",
       "text": [
        "\n",
        "97.8% (6767) are installable using ['github', 'cran']\n",
        "63.7% (4408) are installable using ['github', 'bioc']"
       ]
      },
      {
       "output_type": "stream",
       "stream": "stdout",
       "text": [
        "\n",
        "100.0% (6915) are installable using ['cran', 'bioc']\n",
        "100.0% (6915) are installable using ['github', 'cran', 'bioc']"
       ]
      },
      {
       "output_type": "stream",
       "stream": "stdout",
       "text": [
        "\n",
        "\n",
        "2149 packages in ['bioc']\n",
        "15.5% (333) are installable using []\n",
        "15.9% (341) are installable using ['github']\n",
        "19.4% (416) are installable using ['cran']"
       ]
      },
      {
       "output_type": "stream",
       "stream": "stdout",
       "text": [
        "\n",
        "26.3% (566) are installable using ['bioc']\n",
        "19.5% (418) are installable using ['github', 'cran']\n",
        "26.9% (578) are installable using ['github', 'bioc']\n",
        "99.5% (2139) are installable using ['cran', 'bioc']"
       ]
      },
      {
       "output_type": "stream",
       "stream": "stdout",
       "text": [
        "\n",
        "99.5% (2139) are installable using ['github', 'cran', 'bioc']\n",
        "\n",
        "11412 packages in ['github', 'cran']\n",
        "52.7% (6009) are installable using []"
       ]
      },
      {
       "output_type": "stream",
       "stream": "stdout",
       "text": [
        "\n",
        "54.4% (6203) are installable using ['github']\n",
        "92.9% (10599) are installable using ['cran']"
       ]
      },
      {
       "output_type": "stream",
       "stream": "stdout",
       "text": [
        "\n",
        "53.4% (6098) are installable using ['bioc']\n",
        "93.5% (10666) are installable using ['github', 'cran']"
       ]
      },
      {
       "output_type": "stream",
       "stream": "stdout",
       "text": [
        "\n",
        "55.1% (6293) are installable using ['github', 'bioc']\n",
        "98.0% (11180) are installable using ['cran', 'bioc']"
       ]
      },
      {
       "output_type": "stream",
       "stream": "stdout",
       "text": [
        "\n",
        "98.5% (11241) are installable using ['github', 'cran', 'bioc']\n",
        "\n",
        "7661"
       ]
      },
      {
       "output_type": "stream",
       "stream": "stdout",
       "text": [
        " packages in ['github', 'bioc']\n",
        "33.6% (2577) are installable using []\n",
        "35.2% (2697) are installable using ['github']"
       ]
      },
      {
       "output_type": "stream",
       "stream": "stdout",
       "text": [
        "\n",
        "70.6% (5406) are installable using ['cran']\n",
        "37.2% (2850) are installable using ['bioc']"
       ]
      },
      {
       "output_type": "stream",
       "stream": "stdout",
       "text": [
        "\n",
        "71.4% (5471) are installable using ['github', 'cran']\n",
        "38.8% (2974) are installable using ['github', 'bioc']"
       ]
      },
      {
       "output_type": "stream",
       "stream": "stdout",
       "text": [
        "\n",
        "96.9% (7420) are installable using ['cran', 'bioc']\n",
        "97.7% (7481) are installable using ['github', 'cran', 'bioc']"
       ]
      },
      {
       "output_type": "stream",
       "stream": "stdout",
       "text": [
        "\n",
        "\n",
        "9058 packages in ['cran', 'bioc']\n",
        "50.6% (4582) are installable using []"
       ]
      },
      {
       "output_type": "stream",
       "stream": "stdout",
       "text": [
        "\n",
        "51.9% (4705) are installable using ['github']\n",
        "79.2% (7174) are installable using ['cran']"
       ]
      },
      {
       "output_type": "stream",
       "stream": "stdout",
       "text": [
        "\n",
        "53.6% (4854) are installable using ['bioc']\n",
        "79.3% (7180) are installable using ['github', 'cran']"
       ]
      },
      {
       "output_type": "stream",
       "stream": "stdout",
       "text": [
        "\n",
        "55.0% (4982) are installable using ['github', 'bioc']\n",
        "99.9% (9047) are installable using ['cran', 'bioc']"
       ]
      },
      {
       "output_type": "stream",
       "stream": "stdout",
       "text": [
        "\n",
        "99.9% (9047) are installable using ['github', 'cran', 'bioc']\n",
        "\n",
        "13342"
       ]
      },
      {
       "output_type": "stream",
       "stream": "stdout",
       "text": [
        " packages in ['github', 'cran', 'bioc']\n",
        "47.4% (6318) are installable using []\n",
        "48.9% (6518) are installable using ['github']"
       ]
      },
      {
       "output_type": "stream",
       "stream": "stdout",
       "text": [
        "\n",
        "82.2% (10962) are installable using ['cran']"
       ]
      },
      {
       "output_type": "stream",
       "stream": "stdout",
       "text": [
        "\n",
        "49.7% (6626) are installable using ['bioc']\n",
        "82.7% (11031) are installable using ['github', 'cran']"
       ]
      },
      {
       "output_type": "stream",
       "stream": "stdout",
       "text": [
        "\n",
        "51.2% (6831) are installable using ['github', 'bioc']\n",
        "98.2% (13104) are installable using ['cran', 'bioc']"
       ]
      },
      {
       "output_type": "stream",
       "stream": "stdout",
       "text": [
        "\n",
        "98.7% (13165) are installable using ['github', 'cran', 'bioc']"
       ]
      },
      {
       "output_type": "stream",
       "stream": "stdout",
       "text": [
        "\n",
        "\n",
        "\n"
       ]
      }
     ],
     "prompt_number": 17
    }
   ],
   "metadata": {}
  }
 ]
}