{
 "metadata": {
  "name": "",
  "signature": "sha256:7d1fd1382bc3d199cf30a0f739a99033ba2242d79f82ca66a9a0a5292663a6ed"
 },
 "nbformat": 3,
 "nbformat_minor": 0,
 "worksheets": [
  {
   "cells": [
    {
     "cell_type": "heading",
     "level": 1,
     "metadata": {},
     "source": [
      "R Package Dependencies"
     ]
    },
    {
     "cell_type": "code",
     "collapsed": false,
     "input": [
      "import pandas\n",
      "import deps\n",
      "import itertools\n",
      "from collections import OrderedDict\n",
      "\n",
      "%matplotlib inline\n",
      "from IPython.display import set_matplotlib_formats\n",
      "#set_matplotlib_formats('pdf')\n",
      "\n",
      "# Workaround if changes are made to deps.py and \"Run All\" is hit\n",
      "deps = reload(deps)"
     ],
     "language": "python",
     "metadata": {},
     "outputs": []
    },
    {
     "cell_type": "code",
     "collapsed": false,
     "input": [
      "data = pandas.DataFrame.from_csv('../data/github-cran-bioc-alldata.csv', index_col=None)\n",
      "sources = ['github', 'cran', 'bioc']\n",
      "combinations = []\n",
      "for n in range(len(sources)):\n",
      "    combinations += [list(x) for x in itertools.combinations(sources, n+1)]"
     ],
     "language": "python",
     "metadata": {},
     "outputs": []
    },
    {
     "cell_type": "markdown",
     "metadata": {},
     "source": [
      "Let us create the graphs for several dates."
     ]
    },
    {
     "cell_type": "code",
     "collapsed": false,
     "input": [
      "graphs = OrderedDict()\n",
      "for date in pandas.date_range(start='2013-09', end='2015-04', freq='1M'):\n",
      "        graphs[date] = deps.create_graph_for(data, date)"
     ],
     "language": "python",
     "metadata": {},
     "outputs": []
    },
    {
     "cell_type": "markdown",
     "metadata": {},
     "source": [
      "Let us compute which are the packages that are installable."
     ]
    },
    {
     "cell_type": "code",
     "collapsed": false,
     "input": [
      "available = pandas.DataFrame(index=graphs.iterkeys(), columns=[str(x) for x in combinations])\n",
      "installable = pandas.DataFrame(index=graphs.iterkeys(), columns=[str(x) for x in combinations])\n",
      "overall_installable = pandas.DataFrame(index=graphs.iterkeys(), columns=[str(x) for x in combinations])\n",
      "ratio = pandas.DataFrame(index=graphs.iterkeys(), columns=[str(x) for x in combinations])"
     ],
     "language": "python",
     "metadata": {},
     "outputs": []
    },
    {
     "cell_type": "code",
     "collapsed": false,
     "input": [
      "for date, graph in graphs.iteritems():\n",
      "    for combination in combinations: \n",
      "        size = len(filter(lambda p: not set(combination).isdisjoint(set(p.keys())), graph.itervalues()))\n",
      "        inst = len(deps.installable(graph, combination)) \n",
      "        overinst = len(deps.installable(graph, combination, check_self=False))\n",
      "\n",
      "        available.loc[date][str(combination)] = size\n",
      "        installable.loc[date][str(combination)] = inst        \n",
      "        overall_installable.loc[date][str(combination)] = overinst\n",
      "        ratio.loc[date][str(combination)] = 0 if size == 0 else 100.0*inst/size"
     ],
     "language": "python",
     "metadata": {},
     "outputs": []
    },
    {
     "cell_type": "code",
     "collapsed": false,
     "input": [
      "available"
     ],
     "language": "python",
     "metadata": {},
     "outputs": []
    },
    {
     "cell_type": "code",
     "collapsed": false,
     "input": [
      "available.plot(title=u'Available packages in given sources', figsize=(15,6))\n",
      "\n",
      "installable.plot(title=u'Installable packages (from given sources) using given sources', figsize=(15,6))\n",
      "\n",
      "overall_installable.plot(title=u'Installable packages (from all sources) using given sources', figsize=(15,6))\n",
      "\n",
      "ax = ratio.plot(title=u'Proportion of installable packages (from given sources) using given sources (upper part)', figsize=(15,3), ylim=(75,100))\n",
      "ax.legend(loc='lower center', bbox_to_anchor=(0.5, 0), ncol=3)\n",
      "\n",
      "ax = ratio.plot(title=u'Proportion of installable packages (from given sources) using given sources (lower part)', figsize=(15,3), ylim=(0,40))\n",
      "ax.legend(loc='lower center', bbox_to_anchor=(0.5, 0), ncol=3)"
     ],
     "language": "python",
     "metadata": {},
     "outputs": []
    }
   ],
   "metadata": {}
  }
 ]
}