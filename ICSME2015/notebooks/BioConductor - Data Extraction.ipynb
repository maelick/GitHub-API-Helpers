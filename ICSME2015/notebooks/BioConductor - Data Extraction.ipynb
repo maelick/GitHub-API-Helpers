{
 "metadata": {
  "name": "",
  "signature": "sha256:b2e7ca3ea18e3098f7342dd4431ddaad63a9cff854dcc3029449e498e918d042"
 },
 "nbformat": 3,
 "nbformat_minor": 0,
 "worksheets": [
  {
   "cells": [
    {
     "cell_type": "heading",
     "level": 1,
     "metadata": {},
     "source": [
      "BioConductor - Data Extraction"
     ]
    },
    {
     "cell_type": "markdown",
     "metadata": {},
     "source": [
      "This notebook aims to retrieve and collect all the available (useful) data from BioConductor. In particular, it collects the R packages' meta-data for a given set of versions."
     ]
    },
    {
     "cell_type": "code",
     "collapsed": false,
     "input": [
      "import pandas\n",
      "import requests\n",
      "import json\n",
      "import BeautifulSoup as bs\n",
      "\n",
      "from datetime import date\n",
      "from itertools import repeat"
     ],
     "language": "python",
     "metadata": {},
     "outputs": [],
     "prompt_number": 8
    },
    {
     "cell_type": "markdown",
     "metadata": {},
     "source": [
      "We will retrieve a lot of data, we can benefit from IPython's parallel computation tool.\n",
      "\n",
      "**To use this notebook, you need either to configure your IPController or to start a cluster of IPython nodes, using `ipcluster start -n 4` for example.** See https://ipython.org/ipython-doc/dev/parallel/parallel_process.html for more information.\n",
      "\n",
      "It seems that most recent versions of IPython Notebook can directly start cluster from the web interface, under the *Cluster* tab."
     ]
    },
    {
     "cell_type": "code",
     "collapsed": false,
     "input": [
      "from IPython import parallel\n",
      "clients = parallel.Client()\n",
      "clients.block = True # synchronous computations\n",
      "print 'Clients:', str(clients.ids)"
     ],
     "language": "python",
     "metadata": {},
     "outputs": [
      {
       "output_type": "stream",
       "stream": "stdout",
       "text": [
        "Clients: [0, 1, 2, 3, 4, 5, 6, 7, 8, 9, 10, 11]\n"
       ]
      }
     ],
     "prompt_number": 9
    },
    {
     "cell_type": "markdown",
     "metadata": {},
     "source": [
      "We first define a set of useful constants that store several URL's. As BioConductor splits its packages in three categories (Softwares, AnnotationData and ExperimentData), we'll store three distinct URL's for each of those."
     ]
    },
    {
     "cell_type": "code",
     "collapsed": false,
     "input": [
      "CATEGORIES = ['Software', 'AnnotationData', 'ExperimentData']\n",
      "\n",
      "# Base list, not used in this notebook. Can be used for a \"human\" to see the list in a pretty format.\n",
      "BASE_LIST = {\n",
      "    'Software': 'http://bioconductor.org/packages/{version}/BiocViews.html#___Software',\n",
      "    'AnnotationData': 'http://bioconductor.org/packages/{version}/BiocViews.html#___AnnotationData',\n",
      "    'ExperimentData': 'http://bioconductor.org/packages/{version}/BiocViews.html#___ExperimentData'\n",
      "}\n",
      "\n",
      "# Lists that will be parsed. Is used by BioConductor to populate BASE_LIST.\n",
      "JSON_LIST = {\n",
      "    'Software': 'http://bioconductor.org/packages/json/{version}/bioc/packages.js',\n",
      "    'AnnotationData': 'http://bioconductor.org/packages/json/{version}/data/annotation/packages.js',\n",
      "    'ExperimentData': 'http://bioconductor.org/packages/json/{version}/data/experiment/packages.js'\n",
      "}\n",
      "\n",
      "# Details page for every package. \n",
      "PACKAGE_DETAILS = {\n",
      "    'Software': 'http://bioconductor.org/packages/{version}/bioc/html/{name}.html',\n",
      "    'AnnotationData': 'http://bioconductor.org/packages/{version}/data/annotation/html/{name}.html',\n",
      "    'ExperimentData': 'http://bioconductor.org/packages/{version}/data/experiment/html/{name}.html'\n",
      "}\n",
      "\n",
      "# Available versions and the corresponding date.\n",
      "VERSIONS = [\n",
      "    ('1.6', '2005-05-18'),\n",
      "    ('1.7', '2005-10-14'),\n",
      "    ('1.8', '2006-04-27'),\n",
      "    ('1.9', '2006-10-04'),\n",
      "    ('2.0', '2007-04-26'),\n",
      "    ('2.1', '2007-10-08'),\n",
      "    ('2.2', '2008-05-01'),\n",
      "    ('2.3', '2008-10-22'),\n",
      "    ('2.4', '2009-04-21'),\n",
      "    ('2.5', '2009-10-28'),\n",
      "    ('2.6', '2010-04-23'),\n",
      "    ('2.7', '2010-10-18'),\n",
      "    ('2.8', '2011-04-14'),\n",
      "    ('2.9', '2011-11-01'),\n",
      "    ('2.10', '2012-04-02'),\n",
      "    ('2.11', '2012-10-03'),\n",
      "    ('2.12', '2013-04-04'),\n",
      "    ('2.13', '2013-10-15'),\n",
      "    ('2.14', '2014-04-14'),\n",
      "    ('3.0', '2014-10-14'),\n",
      "    # ('3.1', '2015-04-17'),\n",
      "]\n",
      "# The pages of versions <2.5 do not have the same structure.\n",
      "VERSIONS = filter(lambda x: x[1] >= '2009-10-28', VERSIONS)\n",
      "\n",
      "# Meta-data we're interested in.\n",
      "METADATA = ['Version', 'License', 'Depends', 'Imports', 'Suggests']\n",
      "\n",
      "# Output\n",
      "FILENAME = '../data/bioconductor-{date}.csv'.format(date=date.today().isoformat())"
     ],
     "language": "python",
     "metadata": {},
     "outputs": [],
     "prompt_number": 10
    },
    {
     "cell_type": "code",
     "collapsed": false,
     "input": [
      "def metadata_for_packages(category, name, version):\n",
      "    \"\"\"\n",
      "    Return a subset of the meta-data that are available for this package.\n",
      "    The subset is built upon the items in METADATA. \n",
      "    \"\"\"\n",
      "    try:\n",
      "        content = requests.get(PACKAGE_DETAILS[category].format(version=version, name=name)).content\n",
      "        soup = bs.BeautifulSoup(content)\n",
      "        table = soup.find(name='table', attrs={'class': 'details'})\n",
      "        data = {}\n",
      "        for row in table.findChildren('tr'):\n",
      "            key, value = row.findChildren('td')\n",
      "            if key.text in METADATA:\n",
      "                data[key.text] = value.text\n",
      "        return data\n",
      "    except Exception: \n",
      "        print 'Exception while working on', name, version, 'in', category\n",
      "        raise"
     ],
     "language": "python",
     "metadata": {},
     "outputs": [],
     "prompt_number": 11
    },
    {
     "cell_type": "code",
     "collapsed": false,
     "input": [
      "def packages_list(category, version):\n",
      "    \"\"\"\n",
      "    Return a list of available packages for the given version in the given category.\n",
      "    \"\"\"\n",
      "    content = requests.get(JSON_LIST[category].format(version=version)).content\n",
      "    # Remove variable declaration\n",
      "    _, content = content[:-1].split(' = ', 1)\n",
      "    content = json.loads(content)\n",
      "    return map(lambda x: x[0], content['content'])"
     ],
     "language": "python",
     "metadata": {},
     "outputs": [],
     "prompt_number": 12
    },
    {
     "cell_type": "markdown",
     "metadata": {},
     "source": [
      "We have now everything we need to retrieve all the data from BioConductor:\n",
      "1. Use `packages_list` for every `CATEGORIES` and every `VERSIONS`. This returns a list of package names.\n",
      "2. For every package, retrieve its meta-data using `metadata_for_packages`."
     ]
    },
    {
     "cell_type": "code",
     "collapsed": false,
     "input": [
      "def get_data_for(category, date, version, package):\n",
      "    pkg_data = metadata_for_packages(category, package, version)\n",
      "    pkg_data['Package'] = package\n",
      "    pkg_data['BiocVersion'] = version\n",
      "    pkg_data['BiocDate'] = date\n",
      "    pkg_data['BiocCategory'] = category\n",
      "    return pkg_data\n",
      "\n",
      "\n",
      "data = []\n",
      "clients[:].execute('import requests')\n",
      "clients[:].execute('import BeautifulSoup as bs')\n",
      "\n",
      "export = ['metadata_for_packages', 'PACKAGE_DETAILS', 'METADATA']\n",
      "for name in export:\n",
      "    clients[:][name] = eval(name)\n",
      "    \n",
      "balanced = clients.load_balanced_view()\n",
      "\n",
      "\n",
      "for version, date in VERSIONS:\n",
      "    print 'BioConductor version', version\n",
      "    for category in CATEGORIES:\n",
      "        packages = packages_list(category, version)\n",
      "        n = len(packages)\n",
      "        print 'Version', version, '-', n, 'items retrieved for', category\n",
      "        new_data = balanced.map(get_data_for, repeat(category, n), repeat(date, n), repeat(version, n), packages)\n",
      "        data += new_data"
     ],
     "language": "python",
     "metadata": {},
     "outputs": [
      {
       "output_type": "stream",
       "stream": "stdout",
       "text": [
        "BioConductor version 2.5\n",
        "Version 2.5 - 353 items retrieved for Software\n",
        "Version"
       ]
      },
      {
       "output_type": "stream",
       "stream": "stdout",
       "text": [
        " 2.5 - 482 items retrieved for AnnotationData\n",
        "Version"
       ]
      },
      {
       "output_type": "stream",
       "stream": "stdout",
       "text": [
        " 2.5 - 76 items retrieved for ExperimentData\n",
        "BioConductor version"
       ]
      },
      {
       "output_type": "stream",
       "stream": "stdout",
       "text": [
        " 2.6\n",
        "Version 2.6 - 389 items retrieved for Software\n",
        "Version"
       ]
      },
      {
       "output_type": "stream",
       "stream": "stdout",
       "text": [
        " 2.6 - 501 items retrieved for AnnotationData\n",
        "Version"
       ]
      },
      {
       "output_type": "stream",
       "stream": "stdout",
       "text": [
        " 2.6 - 83 items retrieved for ExperimentData\n",
        "BioConductor version"
       ]
      },
      {
       "output_type": "stream",
       "stream": "stdout",
       "text": [
        " 2.7\n",
        "Version"
       ]
      },
      {
       "output_type": "stream",
       "stream": "stdout",
       "text": [
        " 2.7 - 419 items retrieved for Software\n",
        "Version"
       ]
      },
      {
       "output_type": "stream",
       "stream": "stdout",
       "text": [
        " 2.7 - 519 items retrieved for AnnotationData\n",
        "Version"
       ]
      },
      {
       "output_type": "stream",
       "stream": "stdout",
       "text": [
        " 2.7 - 85 items retrieved for ExperimentData\n",
        "BioConductor version"
       ]
      },
      {
       "output_type": "stream",
       "stream": "stdout",
       "text": [
        " 2.8\n",
        "Version"
       ]
      },
      {
       "output_type": "stream",
       "stream": "stdout",
       "text": [
        " 2.8 - 467 items retrieved for Software\n",
        "Version"
       ]
      },
      {
       "output_type": "stream",
       "stream": "stdout",
       "text": [
        " 2.8 - 595 items retrieved for AnnotationData\n",
        "Version"
       ]
      },
      {
       "output_type": "stream",
       "stream": "stdout",
       "text": [
        " 2.8 - 102 items retrieved for ExperimentData\n",
        "BioConductor version"
       ]
      },
      {
       "output_type": "stream",
       "stream": "stdout",
       "text": [
        " 2.9\n",
        "Version 2.9 - 514 items retrieved for Software\n",
        "Version"
       ]
      },
      {
       "output_type": "stream",
       "stream": "stdout",
       "text": [
        " 2.9 - 601 items retrieved for AnnotationData\n",
        "Version"
       ]
      },
      {
       "output_type": "stream",
       "stream": "stdout",
       "text": [
        " 2.9 - 118 items retrieved for ExperimentData\n",
        "BioConductor version"
       ]
      },
      {
       "output_type": "stream",
       "stream": "stdout",
       "text": [
        " 2.10\n",
        "Version"
       ]
      },
      {
       "output_type": "stream",
       "stream": "stdout",
       "text": [
        " 2.10 - 553 items retrieved for Software\n",
        "Version"
       ]
      },
      {
       "output_type": "stream",
       "stream": "stdout",
       "text": [
        " 2.10 - 626 items retrieved for AnnotationData\n",
        "Version"
       ]
      },
      {
       "output_type": "stream",
       "stream": "stdout",
       "text": [
        " 2.10 - 126 items retrieved for ExperimentData\n",
        "BioConductor version"
       ]
      },
      {
       "output_type": "stream",
       "stream": "stdout",
       "text": [
        " 2.11\n",
        "Version"
       ]
      },
      {
       "output_type": "stream",
       "stream": "stdout",
       "text": [
        " 2.11 - 608 items retrieved for Software\n",
        "Version"
       ]
      },
      {
       "output_type": "stream",
       "stream": "stdout",
       "text": [
        " 2.11 - 668 items retrieved for AnnotationData\n",
        "Version"
       ]
      },
      {
       "output_type": "stream",
       "stream": "stdout",
       "text": [
        " 2.11 - 137 items retrieved for ExperimentData\n",
        "BioConductor version"
       ]
      },
      {
       "output_type": "stream",
       "stream": "stdout",
       "text": [
        " 2.12\n",
        "Version"
       ]
      },
      {
       "output_type": "stream",
       "stream": "stdout",
       "text": [
        " 2.12 - 672 items retrieved for Software\n",
        "Version"
       ]
      },
      {
       "output_type": "stream",
       "stream": "stdout",
       "text": [
        " 2.12 - 690 items retrieved for AnnotationData\n",
        "Version"
       ]
      },
      {
       "output_type": "stream",
       "stream": "stdout",
       "text": [
        " 2.12 - 157 items retrieved for ExperimentData\n",
        "BioConductor version"
       ]
      },
      {
       "output_type": "stream",
       "stream": "stdout",
       "text": [
        " 2.13\n",
        "Version"
       ]
      },
      {
       "output_type": "stream",
       "stream": "stdout",
       "text": [
        " 2.13 - 750 items retrieved for Software\n",
        "Version"
       ]
      },
      {
       "output_type": "stream",
       "stream": "stdout",
       "text": [
        " 2.13 - 698 items retrieved for AnnotationData\n",
        "Version"
       ]
      },
      {
       "output_type": "stream",
       "stream": "stdout",
       "text": [
        " 2.13 - 181 items retrieved for ExperimentData\n",
        "BioConductor version"
       ]
      },
      {
       "output_type": "stream",
       "stream": "stdout",
       "text": [
        " 2.14\n",
        "Version"
       ]
      },
      {
       "output_type": "stream",
       "stream": "stdout",
       "text": [
        " 2.14 - 824 items retrieved for Software\n",
        "Version"
       ]
      },
      {
       "output_type": "stream",
       "stream": "stdout",
       "text": [
        " 2.14 - 867 items retrieved for AnnotationData\n",
        "Version"
       ]
      },
      {
       "output_type": "stream",
       "stream": "stdout",
       "text": [
        " 2.14 - 202 items retrieved for ExperimentData\n",
        "BioConductor version"
       ]
      },
      {
       "output_type": "stream",
       "stream": "stdout",
       "text": [
        " 3.0\n",
        "Version 3.0 - 936 items retrieved for Software\n",
        "Version"
       ]
      },
      {
       "output_type": "stream",
       "stream": "stdout",
       "text": [
        " 3.0 - 895 items retrieved for AnnotationData\n",
        "Version"
       ]
      },
      {
       "output_type": "stream",
       "stream": "stdout",
       "text": [
        " 3.0 - 223 items retrieved for ExperimentData\n"
       ]
      }
     ],
     "prompt_number": 13
    },
    {
     "cell_type": "code",
     "collapsed": false,
     "input": [
      "# Save in .csv file using pandas\n",
      "df = pandas.DataFrame(data)\n",
      "df = df[['Package'] + METADATA + ['BiocCategory', 'BiocVersion', 'BiocDate']]\n",
      "df.to_csv(FILENAME)"
     ],
     "language": "python",
     "metadata": {},
     "outputs": [],
     "prompt_number": 14
    }
   ],
   "metadata": {}
  }
 ]
}