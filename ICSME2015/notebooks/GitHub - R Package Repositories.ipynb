{
 "metadata": {
  "name": "",
  "signature": "sha256:f3da274d64c50603a6516faa900d91477788d7dba8768e3361dfc83b708d1e53"
 },
 "nbformat": 3,
 "nbformat_minor": 0,
 "worksheets": [
  {
   "cells": [
    {
     "cell_type": "heading",
     "level": 1,
     "metadata": {},
     "source": [
      "GitHub - R Package Repositories"
     ]
    },
    {
     "cell_type": "markdown",
     "metadata": {},
     "source": [
      "We extracted a list of GitHub events for 2013 and 2014, for all repository that are taggued with \"Language = R\" from GitHubArchive. Based on this list, we checked on February 17th, for every repository, if this repository still exists and if it contains a `DESCRIPTION` file at its root. \n",
      "\n",
      "The results were collected (among other data) in `../../IWSECO2015/data/github-RPackage-repository.csv`."
     ]
    },
    {
     "cell_type": "code",
     "collapsed": false,
     "input": [
      "import pandas\n",
      "from datetime import date"
     ],
     "language": "python",
     "metadata": {},
     "outputs": [],
     "prompt_number": 7
    },
    {
     "cell_type": "code",
     "collapsed": false,
     "input": [
      "df = pandas.DataFrame.from_csv('../../IWSECO2015/data/github-RPackage-repository.csv')"
     ],
     "language": "python",
     "metadata": {},
     "outputs": [],
     "prompt_number": 8
    },
    {
     "cell_type": "markdown",
     "metadata": {},
     "source": [
      "We first identify from this list repositories that are NO fork and if two (or more) repositories contain the same package, we keep the data from the oldest one. We also filter out repositories that belong to `cran` or `rpkg`, as those are only a (partial) mirror of CRAN."
     ]
    },
    {
     "cell_type": "code",
     "collapsed": false,
     "input": [
      "df = df.query('fork == False and owner != \"cran\" and owner !=\"rpkg\"').sort('creation').drop_duplicates(('Package'))\n",
      "print len(df), 'packages'"
     ],
     "language": "python",
     "metadata": {},
     "outputs": [
      {
       "output_type": "stream",
       "stream": "stdout",
       "text": [
        "5150 packages\n"
       ]
      }
     ],
     "prompt_number": 9
    },
    {
     "cell_type": "code",
     "collapsed": false,
     "input": [
      "df.to_csv('../data/github-repositories-{date}.csv'.format(date=date.today().isoformat()))"
     ],
     "language": "python",
     "metadata": {},
     "outputs": [],
     "prompt_number": 11
    }
   ],
   "metadata": {}
  }
 ]
}