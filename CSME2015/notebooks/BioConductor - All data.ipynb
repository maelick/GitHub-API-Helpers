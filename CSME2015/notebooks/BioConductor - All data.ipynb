{
 "metadata": {
  "name": "",
  "signature": "sha256:cae240729c1dec1e8f12a09e632d12e88462c00c38cb4aefbde9c13feaec7bf7"
 },
 "nbformat": 3,
 "nbformat_minor": 0,
 "worksheets": [
  {
   "cells": [
    {
     "cell_type": "heading",
     "level": 1,
     "metadata": {},
     "source": [
      "BioConductor - All data"
     ]
    },
    {
     "cell_type": "markdown",
     "metadata": {},
     "source": [
      "This notebook aims to retrieve and collect all the available (useful) data from BioConductor. In particular, it collects the R packages' meta-data for a given set of versions."
     ]
    },
    {
     "cell_type": "code",
     "collapsed": false,
     "input": [
      "import pandas\n",
      "import requests\n",
      "import json\n",
      "import BeautifulSoup as bs"
     ],
     "language": "python",
     "metadata": {},
     "outputs": []
    },
    {
     "cell_type": "markdown",
     "metadata": {},
     "source": [
      "We first define a set of useful constants that store several URL's. As BioConductor splits its packages in three categories (Softwares, AnnotationData and ExperimentData), we'll store three distinct URL's for each of those."
     ]
    },
    {
     "cell_type": "code",
     "collapsed": false,
     "input": [
      "CATEGORIES = ['Software', 'AnnotationData', 'ExperimentData']\n",
      "\n",
      "# Base list, not used in this notebook. Can be used for a \"human\" to see the list in a pretty format.\n",
      "BASE_LIST = {\n",
      "    'Software': 'http://bioconductor.org/packages/{version}/BiocViews.html#___Software',\n",
      "    'AnnotationData': 'http://bioconductor.org/packages/{version}/BiocViews.html#___AnnotationData',\n",
      "    'ExperimentData': 'http://bioconductor.org/packages/{version}/BiocViews.html#___ExperimentData'\n",
      "}\n",
      "\n",
      "# Lists that will be parsed. Is used by BioConductor to populate BASE_LIST.\n",
      "JSON_LIST = {\n",
      "    'Software': 'http://bioconductor.org/packages/json/{version}/bioc/packages.js',\n",
      "    'AnnotationData': 'http://bioconductor.org/packages/json/{version}/data/annotation/packages.js',\n",
      "    'ExperimentData': 'http://bioconductor.org/packages/json/{version}/data/experiment/packages.js'\n",
      "}\n",
      "\n",
      "# Details page for every package. \n",
      "PACKAGE_DETAILS = {\n",
      "    'Software': 'http://bioconductor.org/packages/{version}/bioc/html/{name}.html',\n",
      "    'AnnotationData': 'http://bioconductor.org/packages/{version}/data/annotation/html/{name}.html',\n",
      "    'ExperimentData': 'http://bioconductor.org/packages/{version}/data/experiment/html/{name}.html'\n",
      "}\n",
      "\n",
      "# Available versions and the corresponding date.\n",
      "VERSIONS = [\n",
      "    ('1.6', '2005-05-18'),\n",
      "    ('1.7', '2005-10-14'),\n",
      "    ('1.8', '2006-04-27'),\n",
      "    ('1.9', '2006-10-04'),\n",
      "    ('2.0', '2007-04-26'),\n",
      "    ('2.1', '2007-10-08'),\n",
      "    ('2.2', '2008-05-01'),\n",
      "    ('2.3', '2008-10-22'),\n",
      "    ('2.4', '2009-04-21'),\n",
      "    ('2.5', '2009-10-28'),\n",
      "    ('2.6', '2010-04-23'),\n",
      "    ('2.7', '2010-10-18'),\n",
      "    ('2.8', '2011-04-14'),\n",
      "    ('2.9', '2011-11-01'),\n",
      "    ('2.10', '2012-04-02'),\n",
      "    ('2.11', '2012-10-03'),\n",
      "    ('2.12', '2013-04-04'),\n",
      "    ('2.13', '2013-10-15'),\n",
      "    ('2.14', '2014-04-14'),\n",
      "    ('3.0', '2014-10-14'),\n",
      "    ('3.1', '2015-04-17'),\n",
      "]\n",
      "# The pages of versions <2.5 do not have the same structure.\n",
      "VERSIONS = filter(lambda x: x[0] >= '2.5', VERSIONS)\n",
      "\n",
      "# Meta-data we're interested in.\n",
      "METADATA = ['Version', 'Licence', 'Depends', 'Imports', 'Suggests']\n",
      "\n",
      "# Output\n",
      "FILENAME = '../bioconductor.csv'"
     ],
     "language": "python",
     "metadata": {},
     "outputs": []
    },
    {
     "cell_type": "code",
     "collapsed": false,
     "input": [
      "def metadata_for_packages(category, name, version):\n",
      "    \"\"\"\n",
      "    Return a subset of the meta-data that are available for this package.\n",
      "    The subset is built upon the items in METADATA. \n",
      "    \"\"\"\n",
      "    try:\n",
      "        content = requests.get(PACKAGE_DETAILS[category].format(version=version, name=name)).content\n",
      "        soup = bs.BeautifulSoup(content)\n",
      "        table = soup.find(name='table', attrs={'class': 'details'})\n",
      "        data = {}\n",
      "        for row in table.findChildren('tr'):\n",
      "            key, value = row.findChildren('td')\n",
      "            if key.text in METADATA:\n",
      "                data[key.text] = value.text\n",
      "        return data\n",
      "    except Exception: \n",
      "        print 'Exception while working on', name, version, 'in', category\n",
      "        raise"
     ],
     "language": "python",
     "metadata": {},
     "outputs": []
    },
    {
     "cell_type": "code",
     "collapsed": false,
     "input": [
      "def packages_list(category, version):\n",
      "    \"\"\"\n",
      "    Return a list of available packages for the given version in the given category.\n",
      "    \"\"\"\n",
      "    content = requests.get(JSON_LIST[category].format(version=version)).content\n",
      "    # Remove variable declaration\n",
      "    _, content = content[:-1].split(' = ', 1)\n",
      "    content = json.loads(content)\n",
      "    return map(lambda x: x[0], content['content'])"
     ],
     "language": "python",
     "metadata": {},
     "outputs": []
    },
    {
     "cell_type": "markdown",
     "metadata": {},
     "source": [
      "We have now everything we need to retrieve all the data from BioConductor:\n",
      "1. Use `packages_list` for every `CATEGORIES` and every `VERSIONS`. This returns a list of package names.\n",
      "2. For every package, retrieve its meta-data using `metadata_for_packages`."
     ]
    },
    {
     "cell_type": "code",
     "collapsed": false,
     "input": [
      "data = []\n",
      "for version, date in VERSIONS:\n",
      "    print 'Version', version\n",
      "    for category in CATEGORIES:\n",
      "        print '.. for', category\n",
      "        packages = packages_list(category, version)\n",
      "        print '..', len(packages), 'items retrieved'\n",
      "        for package in packages:\n",
      "            data = metadata_for_packages(category, package, version)\n",
      "            data['BiocVersion'] = version\n",
      "            data['BiocDate'] = date\n",
      "            data['BiocCategory'] = category\n",
      "        print"
     ],
     "language": "python",
     "metadata": {},
     "outputs": []
    },
    {
     "cell_type": "code",
     "collapsed": false,
     "input": [
      "# Save in .csv file using pandas\n",
      "df = pandas.DataFrame(data)\n",
      "df.to_csv(FILENAME)"
     ],
     "language": "python",
     "metadata": {},
     "outputs": []
    }
   ],
   "metadata": {}
  }
 ]
}