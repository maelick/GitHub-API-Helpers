{
 "metadata": {
  "name": "",
  "signature": "sha256:6ce808a969605ba540ea1e5fe406f9e4aeb12239ae0459fff8b5ecf387a0701a"
 },
 "nbformat": 3,
 "nbformat_minor": 0,
 "worksheets": [
  {
   "cells": [
    {
     "cell_type": "heading",
     "level": 1,
     "metadata": {},
     "source": [
      "R\u00e9partition des packages de Github"
     ]
    },
    {
     "cell_type": "markdown",
     "metadata": {},
     "source": [
      "Sur base des donn\u00e9es extraites dans *github-RPackage-repository.csv* (Github), dans *cran-description.csv* (CRAN), *bioconductorsvn_description.csv* (BioConductor) et *r-forge_description.csv* (R-Forge), nous allons regarder la r\u00e9partition des packages de Github au sein des diff\u00e9rentes communaut\u00e9s."
     ]
    },
    {
     "cell_type": "code",
     "collapsed": false,
     "input": [
      "%matplotlib inline\n",
      "from IPython.display import set_matplotlib_formats\n",
      "set_matplotlib_formats('pdf')"
     ],
     "language": "python",
     "metadata": {},
     "outputs": [],
     "prompt_number": 33
    },
    {
     "cell_type": "code",
     "collapsed": false,
     "input": [
      "import pandas\n",
      "\n",
      "github = pandas.DataFrame.from_csv('../data/github-RPackage-repository.csv')\n",
      "cran = pandas.DataFrame.from_csv('../data/cran-description.csv', index_col=None)\n",
      "bioconductor = pandas.DataFrame.from_csv('../data/bioconductorsvn_description.csv', index_col=None)\n",
      "rforge = pandas.DataFrame.from_csv('../data/r-forge_description.csv', index_col=None)"
     ],
     "language": "python",
     "metadata": {},
     "outputs": [],
     "prompt_number": 34
    },
    {
     "cell_type": "markdown",
     "metadata": {},
     "source": [
      "Pour chacune de ces sources de donn\u00e9es, nous allons conserver les d\u00e9pendances ainsi que les auteurs et ajouter une \u00e9tiquette pour la \"source\" de ce package (Github, CRAN, Bioconductor et R-Forge). Si un package est pr\u00e9sent sur plusieurs sources, nous utiliserons les donn\u00e9es prioritairement dans l'ordre suivant : Cran, Bioconductor, R-Forge et enfin, Github."
     ]
    },
    {
     "cell_type": "markdown",
     "metadata": {},
     "source": [
      "**Pr\u00e9paration du dataset Github**\n",
      "Il n'y a pas grand chose \u00e0 faire sur ce dataset, car il a \u00e9t\u00e9 pr\u00e9par\u00e9 de sorte \u00e0 fitter au mieux ce qui allait suivre. Il est, par contre, n\u00e9cessaire de s\u00e9lectionner les d\u00e9p\u00f4ts dits \"canoniques\" (ie. un seul d\u00e9p\u00f4t pour chaque valeur de *Package*) pour respecter les index. Pour rappel, un d\u00e9p\u00f4t canonique signifie que le d\u00e9p\u00f4t n'est \u00e0 priori pas un fork, et est le plus vieux d\u00e9p\u00f4t cr\u00e9\u00e9 parmi l'ensemble des d\u00e9p\u00f4ts h\u00e9bergeant le m\u00eame package."
     ]
    },
    {
     "cell_type": "code",
     "collapsed": false,
     "input": [
      "github = github.query('canonical == True')"
     ],
     "language": "python",
     "metadata": {},
     "outputs": [],
     "prompt_number": 35
    },
    {
     "cell_type": "markdown",
     "metadata": {},
     "source": [
      "**Pr\u00e9paration du dataset CRAN**"
     ]
    },
    {
     "cell_type": "code",
     "collapsed": false,
     "input": [
      "temp = cran.sort('version').drop_duplicates(('package', 'key'), take_last=True).rename(columns={'package': 'Package'})[['Package', 'key', 'value']]\n",
      "cran_author = temp.query('key == \"Author\"').rename(columns={'value': 'Author'})[['Package', 'Author']]\n",
      "cran_imports = temp.query('key == \"Imports\"').rename(columns={'value': 'Imports'})[['Package', 'Imports']]\n",
      "cran_depends = temp.query('key == \"Depends\"').rename(columns={'value': 'Depends'})[['Package', 'Depends']]\n",
      "_ = temp[['Package']].drop_duplicates().merge(cran_author, how='left', on='Package')\n",
      "_ = _.merge(cran_imports, how='left', on='Package')\n",
      "cran = _.merge(cran_depends, how='left', on='Package')"
     ],
     "language": "python",
     "metadata": {},
     "outputs": [],
     "prompt_number": 36
    },
    {
     "cell_type": "markdown",
     "metadata": {},
     "source": [
      "Le dataframe `cran` contient toutes les donn\u00e9es des fichiers `DESCRIPTION`. Il convient maintenant de ne filtrer que les \u00e9l\u00e9ments qui font partie du snapshot \u00e0 la date qui nous int\u00e9resse. Ces informations sont pr\u00e9sentes dans le fichier *cran-snapshot.csv*."
     ]
    },
    {
     "cell_type": "code",
     "collapsed": false,
     "input": [
      "snapshot = pandas.DataFrame.from_csv('../data/cran-snapshot.csv', index_col=None)\n",
      "snapshot = snapshot.rename(columns={'package': 'Package'})\n",
      "cran = cran.merge(snapshot[['Package']], how='inner', on='Package')"
     ],
     "language": "python",
     "metadata": {},
     "outputs": [],
     "prompt_number": 37
    },
    {
     "cell_type": "markdown",
     "metadata": {},
     "source": [
      "**Pr\u00e9paration du dataset Bioconductor**"
     ]
    },
    {
     "cell_type": "code",
     "collapsed": false,
     "input": [
      "bioconductor = bioconductor[['Package', 'Author', 'Imports', 'Depends']].copy()"
     ],
     "language": "python",
     "metadata": {},
     "outputs": [],
     "prompt_number": 38
    },
    {
     "cell_type": "markdown",
     "metadata": {},
     "source": [
      "**Pr\u00e9paration du dataset R-Forge**"
     ]
    },
    {
     "cell_type": "code",
     "collapsed": false,
     "input": [
      "rforge = rforge[['Package', 'Author', 'Imports', 'Depends']].copy()"
     ],
     "language": "python",
     "metadata": {},
     "outputs": [],
     "prompt_number": 39
    },
    {
     "cell_type": "markdown",
     "metadata": {},
     "source": [
      "**Ajout des \u00e9tiquettes sur la provenance**"
     ]
    },
    {
     "cell_type": "code",
     "collapsed": false,
     "input": [
      "github['github'] = 1\n",
      "cran['cran'] = 1\n",
      "bioconductor['bioconductor'] = 1\n",
      "rforge['rforge'] = 1"
     ],
     "language": "python",
     "metadata": {},
     "outputs": [],
     "prompt_number": 40
    },
    {
     "cell_type": "markdown",
     "metadata": {},
     "source": [
      "Nous allons maintenant regrouper les diff\u00e9rents datasets en un seul, en se basant sur le nom du package. Comme indiqu\u00e9 pr\u00e9c\u00e9demment, un ordre va \u00eatre appliqu\u00e9 pour r\u00e9cup\u00e9rer les informations qui sont pr\u00e9sentes pour un m\u00eame package provenant de plusieurs sources (typiquement le cas pour Github). "
     ]
    },
    {
     "cell_type": "code",
     "collapsed": false,
     "input": [
      "github.set_index('Package', inplace=True, verify_integrity=True)\n",
      "cran.set_index('Package', inplace=True, verify_integrity=True)\n",
      "bioconductor.set_index('Package', inplace=True, verify_integrity=True)\n",
      "rforge.set_index('Package', inplace=True, verify_integrity=True)\n",
      "\n",
      "packages = cran.combine_first(bioconductor).combine_first(rforge).combine_first(github)"
     ],
     "language": "python",
     "metadata": {},
     "outputs": [],
     "prompt_number": 41
    },
    {
     "cell_type": "markdown",
     "metadata": {},
     "source": [
      "Nous remplissons les N/A par les valeurs ad\u00e9quates, et nous obtenons un joli petit dataset avec toutes les informations utiles sur la provenance. Il nous reste \u00e0 ajouter une cl\u00e9 \"Github only\" pour indiquer qu'un package n'est pr\u00e9sent que sur Github."
     ]
    },
    {
     "cell_type": "code",
     "collapsed": false,
     "input": [
      "packages = packages.fillna({'Author': '', \n",
      "                            'Depends': '', \n",
      "                            'Imports': '',\n",
      "                            'bioconductor': 0, \n",
      "                            'canonical': 0, \n",
      "                            'cran': 0,\n",
      "                            'fork': 0, \n",
      "                            'github': 0, \n",
      "                            'owner': '', \n",
      "                            'repository': '', \n",
      "                            'rforge': 0})"
     ],
     "language": "python",
     "metadata": {},
     "outputs": [],
     "prompt_number": 42
    },
    {
     "cell_type": "code",
     "collapsed": false,
     "input": [
      "def _f(row):\n",
      "    if row['github'] == 1:\n",
      "        if row['cran'] == row['rforge'] == row['bioconductor'] == 0:\n",
      "            return 1\n",
      "        else:\n",
      "            return 0\n",
      "    else:\n",
      "        return 0\n",
      "    \n",
      "packages['Github only'] = packages.apply(_f, axis=1)"
     ],
     "language": "python",
     "metadata": {},
     "outputs": [],
     "prompt_number": 43
    },
    {
     "cell_type": "code",
     "collapsed": false,
     "input": [
      "packages.to_csv('../data/R-Packages.csv')"
     ],
     "language": "python",
     "metadata": {},
     "outputs": [],
     "prompt_number": 44
    },
    {
     "cell_type": "markdown",
     "metadata": {},
     "source": [
      "Nous pouvons maintenant afficher ces informations graphiquement."
     ]
    },
    {
     "cell_type": "code",
     "collapsed": false,
     "input": [
      "from matplotlib_venn import venn3\n",
      "from matplotlib import pyplot as plt\n",
      "\n",
      "github_set = set(packages.query('github == 1').index)\n",
      "cran_set = set(packages.query('cran == 1').index)\n",
      "bioconductor_set = set(packages.query('bioconductor == 1').index)\n",
      "rforge_set = set(packages.query('rforge == 1').index)\n",
      "\n",
      "venn3((github_set, cran_set, bioconductor_set), ('github', 'cran', 'bioconductor'))"
     ],
     "language": "python",
     "metadata": {},
     "outputs": [
      {
       "metadata": {},
       "output_type": "pyout",
       "prompt_number": 45,
       "text": [
        "<matplotlib_venn._common.VennDiagram instance at 0x7f167da74440>"
       ]
      },
      {
       "application/pdf": "[encoded data removed]",
       "metadata": {},
       "output_type": "display_data",
       "text": [
        "<matplotlib.figure.Figure at 0x7f167ceb57d0>"
       ]
      }
     ],
     "prompt_number": 45
    },
    {
     "cell_type": "code",
     "collapsed": false,
     "input": [
      "venn3((github_set, cran_set, rforge_set), ('github', 'cran', 'r-forge'))"
     ],
     "language": "python",
     "metadata": {},
     "outputs": [
      {
       "metadata": {},
       "output_type": "pyout",
       "prompt_number": 46,
       "text": [
        "<matplotlib_venn._common.VennDiagram instance at 0x7f167bd5e908>"
       ]
      },
      {
       "application/pdf": "[encoded data removed]",
       "metadata": {},
       "output_type": "display_data",
       "text": [
        "<matplotlib.figure.Figure at 0x7f167d3ae5d0>"
       ]
      }
     ],
     "prompt_number": 46
    },
    {
     "cell_type": "code",
     "collapsed": false,
     "input": [
      "venn3((github_set, bioconductor_set, rforge_set), ('github', 'bioconductor', 'r-forge'))"
     ],
     "language": "python",
     "metadata": {},
     "outputs": [
      {
       "metadata": {},
       "output_type": "pyout",
       "prompt_number": 47,
       "text": [
        "<matplotlib_venn._common.VennDiagram instance at 0x7f166be679e0>"
       ]
      },
      {
       "application/pdf": "[encoded data removed]",
       "metadata": {},
       "output_type": "display_data",
       "text": [
        "<matplotlib.figure.Figure at 0x7f167d11d310>"
       ]
      }
     ],
     "prompt_number": 47
    }
   ],
   "metadata": {}
  }
 ]
}