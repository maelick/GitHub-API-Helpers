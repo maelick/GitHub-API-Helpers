{
 "metadata": {
  "name": ""
 },
 "nbformat": 3,
 "nbformat_minor": 0,
 "worksheets": [
  {
   "cells": [
    {
     "cell_type": "heading",
     "level": 1,
     "metadata": {},
     "source": [
      "Packages R sur R-Forge"
     ]
    },
    {
     "cell_type": "markdown",
     "metadata": {},
     "source": [
      "Nous allons extraire la liste des paquets R de R-Forge, ainsi que les fichiers `DESCRIPTION` de ces paquets. \n",
      "La liste des paquets est disponible sur la page https://r-forge.r-project.org/softwaremap/full_list.php. Elle se pr\u00e9sente sous la forme d'une liste pagin\u00e9e, qu'il va falloir parser pour r\u00e9cup\u00e9rer le nom du package. Notez que nous r\u00e9cup\u00e8rerons le nom utilis\u00e9 dans l'url du package et non le nom affich\u00e9, simplement parce que le premier, contrairement au deuxi\u00e8me, nous servira pour r\u00e9cup\u00e9rer le fichier `DESCRIPTION`.\n",
      "\n",
      "Chaque page (95 \u00e0 l'heure o\u00f9 j'\u00e9cris ces lignes) est accessible depuis https://r-forge.r-project.org/softwaremap/full_list.php?page=X o\u00f9 X est le num\u00e9ro de page (1-indexed). La premi\u00e8re chose \u00e0 faire est de r\u00e9cup\u00e9rer le nombre de pages."
     ]
    },
    {
     "cell_type": "code",
     "collapsed": false,
     "input": [
      "import requests\n",
      "import BeautifulSoup as bs\n",
      "\n",
      "LIST_URL = 'https://r-forge.r-project.org/softwaremap/full_list.php?page={page}'\n",
      "\n",
      "content = requests.get(LIST_URL.format(page=1)).content\n",
      "soup = bs.BeautifulSoup(content)\n",
      "\n",
      "anchors = soup.findAll('a')\n",
      "N = max(\n",
      "        map(lambda x: int(x), \n",
      "            map(lambda x: x['href'].rsplit('?page=', 1)[1], \n",
      "                filter(lambda x: x['href'].startswith('/softwaremap/full_list.php?page='), anchors)\n",
      "            )\n",
      "        )\n",
      "    ) "
     ],
     "language": "python",
     "metadata": {},
     "outputs": [],
     "prompt_number": 28
    },
    {
     "cell_type": "markdown",
     "metadata": {},
     "source": [
      "Ensuite, nous allons r\u00e9cup\u00e9rer le contenu de chacune de ces pages et le parser afin de rechercher les noms des packages. \n",
      "Sur chaque page, `<span property=\"doap:name\">` pr\u00e9c\u00e8de le nom du package. Mais comme nous voulons r\u00e9cup\u00e9rer le nom utilis\u00e9 dans les liens, nous devons remonter au premier parent de type `a` afin d'extraire l'url, et de cette url, extraire le package."
     ]
    },
    {
     "cell_type": "code",
     "collapsed": false,
     "input": [
      "def packages_list(url):\n",
      "    content = requests.get(url).content\n",
      "    soup = bs.BeautifulSoup(content)\n",
      "    spans = soup.findAll('span', attrs={'property': 'doap:name'})\n",
      "    anchors = [span.findParent('a', limit=1) for span in spans]\n",
      "    return map(lambda a: a['href'].rsplit('/', 2)[1], anchors)"
     ],
     "language": "python",
     "metadata": {},
     "outputs": [],
     "prompt_number": 29
    },
    {
     "cell_type": "code",
     "collapsed": false,
     "input": [
      "names = []\n",
      "\n",
      "for n in range(1, N+1):\n",
      "    names += packages_list(LIST_URL.format(page=n))"
     ],
     "language": "python",
     "metadata": {},
     "outputs": [],
     "prompt_number": 30
    },
    {
     "cell_type": "code",
     "collapsed": false,
     "input": [
      "print len(names)"
     ],
     "language": "python",
     "metadata": {},
     "outputs": [
      {
       "output_type": "stream",
       "stream": "stdout",
       "text": [
        "1882\n"
       ]
      }
     ],
     "prompt_number": 31
    },
    {
     "cell_type": "markdown",
     "metadata": {},
     "source": [
      "Apr\u00e8s un certain temps (souvenez-vous : il faut r\u00e9cup\u00e9rer et parser `N` (~95) pages !), `names` contient la liste des noms de package utilis\u00e9s dans les urls. Chaque package poss\u00e8de potentiellement un fichier `DESCRIPTION` sur son svn. Par exemple, pour le package `rcppbind`, l'adresse est https://r-forge.r-project.org/scm/viewvc.php/*checkout*/pkg/DESCRIPTION?root=rcppbind\n",
      "\n",
      "Tous les packages n'ont pas forc\u00e9ment un tel fichier. Le \"package\" epicookbook affiche une erreur 404 quand on acc\u00e8de \u00e0 la page https://r-forge.r-project.org/scm/viewvc.php/*checkout*/pkg/DESCRIPTION?root=epicookbook. Malheureusement pour nous, le code de retour n'est pas 404. Il va donc falloir \"parser\" (bri\u00e8vement et simplement) le contenu en cas de requ\u00eate, afin d'identifier si le retour est une \"page 404\" ou un r\u00e9el fichier `DESCRIPTION`. On peut y parvenir simplement parce que la seconde ligne est compos\u00e9e de `<!DOCTYPE html PUBLIC \"-//W3C//DTD XHTML 1.0 Strict//EN\"`. Il y a aussi des erreurs 403 (enfin, un \u00e9quivalent) restreignant l'acc\u00e8s \u00e0 certains packages. Ces contenus d\u00e9butent par `<?xml`.  "
     ]
    },
    {
     "cell_type": "code",
     "collapsed": false,
     "input": [
      "PKG_URL = 'https://r-forge.r-project.org/scm/viewvc.php/*checkout*/pkg/DESCRIPTION?root={name}'\n",
      "\n",
      "err404 = []\n",
      "d = {}\n",
      "\n",
      "for name in names:\n",
      "    if name in d:  # moins lent que de r\u00e9cup\u00e9rer et parser la page\n",
      "        continue\n",
      "    content = requests.get(PKG_URL.format(name=name)).content\n",
      "    if content.startswith(('\\n<!DOCTYPE', '\\n<?xml', '\\nInvalid repository type')):\n",
      "        # 404 error\n",
      "        err404.append(name)\n",
      "    else:\n",
      "        d[name] = {}\n",
      "        for line in content.split('\\n'):\n",
      "            if len(line.strip()) > 0:\n",
      "                # Si la ligne d\u00e9bute par des tabulations ou espace, continuation de la ligne pr\u00e9c\u00e9dente\n",
      "                if line.startswith((' ', '\\t')):\n",
      "                    d[name][key] += ' ' + line.strip()   # key a encore la bonne valeur\n",
      "                else:\n",
      "                    try:\n",
      "                        key, value = line.split(':', 1)\n",
      "                        d[name][key.strip()] = value.strip()\n",
      "                    except Exception as e:\n",
      "                        print name\n",
      "                        print line\n",
      "                        print 'len', len(line)\n",
      "                        print '---'\n",
      "                        print content\n",
      "                        raise"
     ],
     "language": "python",
     "metadata": {},
     "outputs": [],
     "prompt_number": 37
    },
    {
     "cell_type": "markdown",
     "metadata": {},
     "source": [
      "Apr\u00e8s un certain temps (~1900 pages \u00e0 parser), nous avons dans `d` le contenu suffisant pour g\u00e9n\u00e9rer un fichier .csv avec pandas !"
     ]
    },
    {
     "cell_type": "code",
     "collapsed": false,
     "input": [
      "len(d), len(err404), len(names)"
     ],
     "language": "python",
     "metadata": {},
     "outputs": [
      {
       "metadata": {},
       "output_type": "pyout",
       "prompt_number": 38,
       "text": [
        "(773, 1109, 1882)"
       ]
      }
     ],
     "prompt_number": 38
    },
    {
     "cell_type": "code",
     "collapsed": false,
     "input": [
      "import pandas\n",
      "\n",
      "pandas.DataFrame.from_dict(d, orient='index').to_csv('../data/r-forge_description.csv')"
     ],
     "language": "python",
     "metadata": {},
     "outputs": [],
     "prompt_number": 39
    }
   ],
   "metadata": {}
  }
 ]
}