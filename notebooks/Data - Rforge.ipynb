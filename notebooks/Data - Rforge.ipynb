{
 "metadata": {
  "name": ""
 },
 "nbformat": 3,
 "nbformat_minor": 0,
 "worksheets": [
  {
   "cells": [
    {
     "cell_type": "heading",
     "level": 1,
     "metadata": {},
     "source": [
      "Packages R sur RForge"
     ]
    },
    {
     "cell_type": "markdown",
     "metadata": {},
     "source": [
      "Une liste des packages est disponible sur la page d'accueil http://rforge.net. Nous allons parser cette liste afin de r\u00e9cup\u00e9rer chaque nom de package, et ensuite nous t\u00e9l\u00e9chargeons les meta-data associ\u00e9es \u00e0 chaque package.\n",
      "\n",
      "Ces meta-data sont accessibles directement en ligne. Par exemple, pour le package Acinonyx, le fichier est disponible \u00e0 l'adresse suivante :\n",
      "http://svn.rforge.net/Acinonyx/trunk/DESCRIPTION"
     ]
    },
    {
     "cell_type": "code",
     "collapsed": false,
     "input": [
      "import requests\n",
      "import BeautifulSoup as bs\n",
      "\n",
      "PKG_LIST_URL = 'http://rforge.net'\n",
      "PKG_DETAILS_URL = 'http://svn.rforge.net/{name}/trunk/DESCRIPTION'"
     ],
     "language": "python",
     "metadata": {},
     "outputs": [],
     "prompt_number": 1
    },
    {
     "cell_type": "code",
     "collapsed": false,
     "input": [
      "content = requests.get(PKG_LIST_URL).content\n",
      "soup = bs.BeautifulSoup(content)"
     ],
     "language": "python",
     "metadata": {},
     "outputs": [],
     "prompt_number": 2
    },
    {
     "cell_type": "code",
     "collapsed": false,
     "input": [
      "table = soup.find('b', text='Current projects').findNext('table')\n",
      "anchors = filter(lambda x: x, (row.find('a') for row in table.findAll('tr') if row))\n",
      "urls = map(lambda a: a['href'], anchors)\n",
      "packages = map(lambda u: u[1:-1], urls)"
     ],
     "language": "python",
     "metadata": {},
     "outputs": [],
     "prompt_number": 3
    },
    {
     "cell_type": "code",
     "collapsed": false,
     "input": [
      "packages[:10]"
     ],
     "language": "python",
     "metadata": {},
     "outputs": [
      {
       "metadata": {},
       "output_type": "pyout",
       "prompt_number": 4,
       "text": [
        "[u'Acinonyx',\n",
        " u'actogram',\n",
        " u'affinity',\n",
        " u'ALA4R',\n",
        " u'animation',\n",
        " u'AntBioR',\n",
        " u'Arduino',\n",
        " u'audio',\n",
        " u'background',\n",
        " u'base64enc']"
       ]
      }
     ],
     "prompt_number": 4
    },
    {
     "cell_type": "markdown",
     "metadata": {},
     "source": [
      "Nous allons maintenant r\u00e9cup\u00e9rer les fichiers descriptions. Nous les parserons directement dans un dictionnaire, afin de g\u00e9n\u00e9rer un joli petit fichier .csv avec pandas \u00e0 la fin."
     ]
    },
    {
     "cell_type": "code",
     "collapsed": false,
     "input": [
      "d = {}\n",
      "err404 = []\n",
      "\n",
      "for name in packages:\n",
      "    r = requests.get(PKG_DETAILS_URL.format(name=name))\n",
      "    if r.status_code != 200:\n",
      "        err404.append(name)\n",
      "    else:\n",
      "        d[name] = {}\n",
      "        for line in r.content.split('\\n'):\n",
      "            if len(line) > 0:\n",
      "                # Si la ligne d\u00e9bute par des tabulations ou espace, continuation de la ligne pr\u00e9c\u00e9dente\n",
      "                if line.startswith((' ', '\\t')):\n",
      "                    d[name][key] += ' ' + line.strip()   # key a encore la bonne valeur\n",
      "                else:\n",
      "                    try:\n",
      "                        key, value = line.split(':', 1)\n",
      "                        d[name][key.strip()] = value.strip()\n",
      "                    except Exception as e:\n",
      "                        print name\n",
      "                        print line\n",
      "                        print '---'\n",
      "                        print content\n",
      "                        raise"
     ],
     "language": "python",
     "metadata": {},
     "outputs": [],
     "prompt_number": 5
    },
    {
     "cell_type": "code",
     "collapsed": false,
     "input": [
      "len(d), len(err404), len(packages)"
     ],
     "language": "python",
     "metadata": {},
     "outputs": [
      {
       "metadata": {},
       "output_type": "pyout",
       "prompt_number": 6,
       "text": [
        "(81, 60, 141)"
       ]
      }
     ],
     "prompt_number": 6
    },
    {
     "cell_type": "code",
     "collapsed": false,
     "input": [
      "import pandas\n",
      "\n",
      "pandas.DataFrame.from_dict(d, orient='index').to_csv('../data/rforge_description.csv')"
     ],
     "language": "python",
     "metadata": {},
     "outputs": [],
     "prompt_number": 14
    }
   ],
   "metadata": {}
  }
 ]
}