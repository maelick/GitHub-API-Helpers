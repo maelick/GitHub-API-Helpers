{
 "metadata": {
  "name": "",
  "signature": "sha256:a4a08c5b4bc79aec539fde5eed658656f5c0ed5193590ab1e6f37cc8ce12953c"
 },
 "nbformat": 3,
 "nbformat_minor": 0,
 "worksheets": [
  {
   "cells": [
    {
     "cell_type": "heading",
     "level": 1,
     "metadata": {},
     "source": [
      "D\u00e9pendances des packages R sur Github"
     ]
    },
    {
     "cell_type": "markdown",
     "metadata": {},
     "source": [
      "Pour chaque paquet collect\u00e9 sur CRAN, Github, Bioconductor et R-Forge, nous allons r\u00e9cup\u00e9rer la liste des d\u00e9pendances dans les champs \"Depends\" et \"Imports\", et \u00e9tudier la r\u00e9partition de ces d\u00e9pendances dans les diff\u00e9rentes communaut\u00e9s. En plus de ces diff\u00e9rentes communaut\u00e9s, certains packages (apparaissant dans les d\u00e9pendances) sont des paquets fournis par d\u00e9faut avec une distribution R. Ces paquets sont les suivants : "
     ]
    },
    {
     "cell_type": "code",
     "collapsed": false,
     "input": [
      "\"\"\"\n",
      "R_pkg = ('R MASS Matrix base boot class cluster codetools compiler datasets foreign grDevices ' +\n",
      "        'graphics grid lattice manipulate methods mgcv nlme nnet parallel rpart rstudio' +\n",
      "        'spatial splines stats stats4 stringr survival tcltk tools translations utils').split(' ')\n",
      "\"\"\"\n",
      "R_pkg = ('R, base, compiler, datasets, graphics, '\n",
      "         'grDevices, grid, methods, parallel, profile, splines, stats, stats4, '\n",
      "         'tcltk, tools, translations, utils').split(', ')\n",
      "\n",
      "sources = ['cran', 'bioconductor', 'github', 'rforge']"
     ],
     "language": "python",
     "metadata": {},
     "outputs": [],
     "prompt_number": 276
    },
    {
     "cell_type": "code",
     "collapsed": false,
     "input": [
      "%matplotlib inline\n",
      "from IPython.display import set_matplotlib_formats\n",
      "import matplotlib.pyplot as plt\n",
      "#set_matplotlib_formats('pdf')"
     ],
     "language": "python",
     "metadata": {},
     "outputs": [],
     "prompt_number": 277
    },
    {
     "cell_type": "code",
     "collapsed": false,
     "input": [
      "import pandas\n",
      "\n",
      "df = pandas.DataFrame.from_csv('../data/R-Packages.csv')\n",
      "df = df.fillna(value={'Depends': '', 'Imports': ''})\n",
      "\n",
      "df = df.drop('profile')"
     ],
     "language": "python",
     "metadata": {},
     "outputs": [],
     "prompt_number": 278
    },
    {
     "cell_type": "markdown",
     "metadata": {},
     "source": [
      "La fonction suivante va r\u00e9cup\u00e9rer les d\u00e9pendances dans les champs \"Depends\" et \"Imports\" d'une s\u00e9rie. Le parsing est naif, mais devrait matcher les paquets existants."
     ]
    },
    {
     "cell_type": "code",
     "collapsed": false,
     "input": [
      "def parse_dependencies(item):\n",
      "    depends = item['Depends'] if item['Depends'] != pandas.np.nan else ''\n",
      "    imports = item['Imports'] if item['Imports'] != pandas.np.nan else ''\n",
      "    f = lambda lst: [dep.split('(')[0].strip() for dep in lst.split(',')]\n",
      "    return filter(lambda x: len(x) > 0, f(depends) + f(imports))"
     ],
     "language": "python",
     "metadata": {},
     "outputs": [],
     "prompt_number": 279
    },
    {
     "cell_type": "markdown",
     "metadata": {},
     "source": [
      "La classe suivante sert de base \u00e0 notre graphe. Les attributs sont :\n",
      " - `name`: nom du package\n",
      " - `sources`: liste des sources o\u00f9 ce paquet peut \u00eatre trouv\u00e9\n",
      " - `source`: source principale (dans l'ordre indiqu\u00e9)\n",
      " - `dependencies`: liste des d\u00e9pendances (attendu : instances de `Package`)\n",
      " \n",
      "La m\u00e9thode `add_source` permet d'ajouter une source (`str`). La liste `dependencies` peut \u00eatre manipul\u00e9e directement."
     ]
    },
    {
     "cell_type": "code",
     "collapsed": false,
     "input": [
      "class Package(object):\n",
      "    sources = ['R', 'cran', 'bioconductor', 'github', 'rforge']\n",
      "    \n",
      "    def __init__(self, name):\n",
      "        self.name = name\n",
      "        self.sources = []\n",
      "        self.dependencies = {}\n",
      "        \n",
      "    def add_source(self, source):\n",
      "        if source not in self.sources:\n",
      "            self.sources.append(source)\n",
      "            \n",
      "    @property\n",
      "    def source(self):\n",
      "        for source in Package.sources:\n",
      "            if source in self.sources:\n",
      "                return source\n",
      "        return 'Unknown'\n",
      "    \n",
      "    def installable_with(self, sources):\n",
      "        # List of packages needed for the current one\n",
      "        relies_on = set(self.dependencies.itervalues())\n",
      "        tested = set([self])\n",
      "        \n",
      "        while len(relies_on) > 0:\n",
      "            p = relies_on.pop()\n",
      "            tested.add(p)\n",
      "            \n",
      "            # Can p be installed using current sources?\n",
      "            if len(set(sources).intersection(set(p.sources))) == 0:\n",
      "                return False\n",
      "            # Add p's dependencies\n",
      "            for d in p.dependencies.itervalues():\n",
      "                if d not in tested:\n",
      "                    relies_on.add(d)\n",
      "        return True\n",
      "    \n",
      "    def pprint(self):\n",
      "        return str(self) + ' -> ' + ', '.join(map(str, self.dependencies.itervalues()))\n",
      "    \n",
      "    def __unicode__(self):\n",
      "        return '{name} on [{sources}]'.format(name=self.name, sources=', '.join(self.sources))\n",
      "    __str__ = __repr__ = __unicode__"
     ],
     "language": "python",
     "metadata": {},
     "outputs": [],
     "prompt_number": 280
    },
    {
     "cell_type": "markdown",
     "metadata": {},
     "source": [
      "Pour chaque paquet identifi\u00e9, nous ajoutons ces sources. \n",
      "Le dictionnaire `packages` vise \u00e0 associer \u00e0 chaque nom de paquet une instance de la classe `Package`."
     ]
    },
    {
     "cell_type": "code",
     "collapsed": false,
     "input": [
      "packages = {}\n",
      "\n",
      "for name, data in df.iterrows():\n",
      "    p = Package(name)\n",
      "    for source in sources:\n",
      "        if data[source] == 1:\n",
      "            p.add_source(source)\n",
      "    packages[name] = p"
     ],
     "language": "python",
     "metadata": {},
     "outputs": [],
     "prompt_number": 281
    },
    {
     "cell_type": "markdown",
     "metadata": {},
     "source": [
      "Ajoutons *R* dans les sources avec les packages correspondants."
     ]
    },
    {
     "cell_type": "code",
     "collapsed": false,
     "input": [
      "sources.append('R')\n",
      "\n",
      "for name in R_pkg:\n",
      "    # new data:\n",
      "    p = Package(name)\n",
      "    # keep existing data:\n",
      "    # p = packages.setdefault(name, Package(name)) \n",
      "    \n",
      "    p.add_source('R')\n",
      "    packages[name] = p"
     ],
     "language": "python",
     "metadata": {},
     "outputs": [],
     "prompt_number": 282
    },
    {
     "cell_type": "markdown",
     "metadata": {},
     "source": [
      "Ajoutons les d\u00e9pendances. Si le paquet n'est pas connu de notre liste de paquets, nous cr\u00e9ons tout de m\u00eame une instance de `Package`. La source associ\u00e9e \u00e0 ce paquet sera automatiquement *Unknown* et ce paquet pourra donc \u00eatre utilis\u00e9 de fa\u00e7on transparente lors des calculs sur le graphe."
     ]
    },
    {
     "cell_type": "code",
     "collapsed": false,
     "input": [
      "for name, data in df.iterrows():\n",
      "    p = packages[name]\n",
      "    for dep in parse_dependencies(data):\n",
      "        p_dep = packages.setdefault(dep, Package(dep))\n",
      "        p.dependencies[p_dep.name] = p_dep"
     ],
     "language": "python",
     "metadata": {},
     "outputs": [],
     "prompt_number": 283
    },
    {
     "cell_type": "markdown",
     "metadata": {},
     "source": [
      "Enfin, il nous reste \u00e0 cr\u00e9er le graphe dirig\u00e9. Ce graphe est construit classiquement pour les d\u00e9pendances. A noter que les d\u00e9pendances de la source *Unknown* sont \u00e9galement dans ce graphe (qui n'est naturellement pas une composante connexe)."
     ]
    },
    {
     "cell_type": "code",
     "collapsed": false,
     "input": [
      "import networkx\n",
      "\n",
      "dg = networkx.DiGraph()\n",
      "for package in packages.itervalues():\n",
      "    dg.add_node(package)\n",
      "    for dependency in package.dependencies.itervalues():\n",
      "        dg.add_edge(package, dependency)"
     ],
     "language": "python",
     "metadata": {},
     "outputs": [],
     "prompt_number": 284
    },
    {
     "cell_type": "heading",
     "level": 2,
     "metadata": {},
     "source": [
      "Centralit\u00e9"
     ]
    },
    {
     "cell_type": "code",
     "collapsed": false,
     "input": [
      "def d2df(gd):\n",
      "    m = {}\n",
      "    for package, value in gd.iteritems():\n",
      "        m[package.name] = {'source': package.source, 'value': value}\n",
      "    return pandas.DataFrame.from_dict(m, orient='index')\n",
      "\n",
      "for name, group in d2df(networkx.in_degree_centrality(dg)).groupby(by='source'):\n",
      "    fig = plt.figure()\n",
      "    ax = fig.add_subplot(111)\n",
      "    group['value'].plot(kind='hist', figsize=(8,4), bins=10, title=name, ax=ax)"
     ],
     "language": "python",
     "metadata": {},
     "outputs": [
      {
       "metadata": {},
       "output_type": "display_data",
       "png": "[encoded data removed]",
       "text": [
        "<matplotlib.figure.Figure at 0x7ff62b550690>"
       ]
      },
      {
       "metadata": {},
       "output_type": "display_data",
       "png": "[encoded data removed]",
       "text": [
        "<matplotlib.figure.Figure at 0x7ff62b550890>"
       ]
      },
      {
       "metadata": {},
       "output_type": "display_data",
       "png": "[encoded data removed]",
       "text": [
        "<matplotlib.figure.Figure at 0x7ff621a7e310>"
       ]
      },
      {
       "metadata": {},
       "output_type": "display_data",
       "png": "[encoded data removed]",
       "text": [
        "<matplotlib.figure.Figure at 0x7ff623c3a050>"
       ]
      },
      {
       "metadata": {},
       "output_type": "display_data",
       "png": "[encoded data removed]",
       "text": [
        "<matplotlib.figure.Figure at 0x7ff624f9a8d0>"
       ]
      },
      {
       "metadata": {},
       "output_type": "display_data",
       "png": "[encoded data removed]",
       "text": [
        "<matplotlib.figure.Figure at 0x7ff624f9a9d0>"
       ]
      }
     ],
     "prompt_number": 285
    },
    {
     "cell_type": "heading",
     "level": 2,
     "metadata": {},
     "source": [
      "Direction des d\u00e9pendances"
     ]
    },
    {
     "cell_type": "markdown",
     "metadata": {},
     "source": [
      "Pour chaque source de packages, nous allons regarder les diff\u00e9rents paquets pr\u00e9sents dans cette source. Pour chaque paquet, nous regardons les d\u00e9pendances de ce paquet et la source principale de chacune de ces d\u00e9pendances. Une liste $S(x,y)$ est calcul\u00e9e pour chaque paire $(x,y)$ de sources. Cette liste contient l'ensemble des paquets de $x$ qui ont au moins une d\u00e9pendance dans $y$."
     ]
    },
    {
     "cell_type": "code",
     "collapsed": false,
     "input": [
      "S = {s:{s2: set() for s2 in sources + ['Unknown']} for s in sources}"
     ],
     "language": "python",
     "metadata": {},
     "outputs": [],
     "prompt_number": 286
    },
    {
     "cell_type": "code",
     "collapsed": false,
     "input": [
      "sources_needed_for = lambda p: set(map(lambda p: p.source, p.dependencies.itervalues()))\n",
      "\n",
      "for p in packages.itervalues():\n",
      "    for source in sources_needed_for(p):\n",
      "        S[p.source][source].add(p)"
     ],
     "language": "python",
     "metadata": {},
     "outputs": [],
     "prompt_number": 287
    },
    {
     "cell_type": "code",
     "collapsed": false,
     "input": [
      "scores = {s: {s2: len(S[s][s2]) for s2 in S[s].iterkeys()} for s in S.iterkeys()}"
     ],
     "language": "python",
     "metadata": {},
     "outputs": [],
     "prompt_number": 288
    },
    {
     "cell_type": "markdown",
     "metadata": {},
     "source": [
      "Le tableau suivant reprend, pour chaque ligne, le nombre de paquets ayant au moins une d\u00e9pendance vers la source indiqu\u00e9e en colonne."
     ]
    },
    {
     "cell_type": "code",
     "collapsed": false,
     "input": [
      "pandas.DataFrame.from_dict(scores).T"
     ],
     "language": "python",
     "metadata": {},
     "outputs": [
      {
       "html": [
        "<div style=\"max-height:1000px;max-width:1500px;overflow:auto;\">\n",
        "<table border=\"1\" class=\"dataframe\">\n",
        "  <thead>\n",
        "    <tr style=\"text-align: right;\">\n",
        "      <th></th>\n",
        "      <th>R</th>\n",
        "      <th>Unknown</th>\n",
        "      <th>bioconductor</th>\n",
        "      <th>cran</th>\n",
        "      <th>github</th>\n",
        "      <th>rforge</th>\n",
        "    </tr>\n",
        "  </thead>\n",
        "  <tbody>\n",
        "    <tr>\n",
        "      <th>R</th>\n",
        "      <td>0</td>\n",
        "      <td>0</td>\n",
        "      <td>0</td>\n",
        "      <td>0</td>\n",
        "      <td>0</td>\n",
        "      <td>0</td>\n",
        "    </tr>\n",
        "    <tr>\n",
        "      <th>bioconductor</th>\n",
        "      <td>909</td>\n",
        "      <td>102</td>\n",
        "      <td>769</td>\n",
        "      <td>646</td>\n",
        "      <td>3</td>\n",
        "      <td>1</td>\n",
        "    </tr>\n",
        "    <tr>\n",
        "      <th>cran</th>\n",
        "      <td>4218</td>\n",
        "      <td>4</td>\n",
        "      <td>135</td>\n",
        "      <td>4293</td>\n",
        "      <td>1</td>\n",
        "      <td>1</td>\n",
        "    </tr>\n",
        "    <tr>\n",
        "      <th>github</th>\n",
        "      <td>2057</td>\n",
        "      <td>159</td>\n",
        "      <td>273</td>\n",
        "      <td>2584</td>\n",
        "      <td>292</td>\n",
        "      <td>14</td>\n",
        "    </tr>\n",
        "    <tr>\n",
        "      <th>rforge</th>\n",
        "      <td>716</td>\n",
        "      <td>30</td>\n",
        "      <td>52</td>\n",
        "      <td>711</td>\n",
        "      <td>14</td>\n",
        "      <td>104</td>\n",
        "    </tr>\n",
        "  </tbody>\n",
        "</table>\n",
        "</div>"
       ],
       "metadata": {},
       "output_type": "pyout",
       "prompt_number": 289,
       "text": [
        "                 R  Unknown  bioconductor  cran  github  rforge\n",
        "R                0        0             0     0       0       0\n",
        "bioconductor   909      102           769   646       3       1\n",
        "cran          4218        4           135  4293       1       1\n",
        "github        2057      159           273  2584     292      14\n",
        "rforge         716       30            52   711      14     104"
       ]
      }
     ],
     "prompt_number": 289
    },
    {
     "cell_type": "markdown",
     "metadata": {},
     "source": [
      "Quels sont les paquets \"inconnus\" ?"
     ]
    },
    {
     "cell_type": "code",
     "collapsed": false,
     "input": [
      "# map(lambda p: p.name, filter(lambda p: p.source == 'Unknown', packages.itervalues()))"
     ],
     "language": "python",
     "metadata": {},
     "outputs": [],
     "prompt_number": 290
    },
    {
     "cell_type": "markdown",
     "metadata": {},
     "source": [
      "Cycles dans le graphe ?"
     ]
    },
    {
     "cell_type": "code",
     "collapsed": false,
     "input": [
      "list(networkx.simple_cycles(dg))"
     ],
     "language": "python",
     "metadata": {},
     "outputs": [
      {
       "metadata": {},
       "output_type": "pyout",
       "prompt_number": 291,
       "text": [
        "[[BioCycTU on [github]],\n",
        " [interactiveDisplay on [bioconductor],\n",
        "  AnnotationHub on [bioconductor, github]]]"
       ]
      }
     ],
     "prompt_number": 291
    },
    {
     "cell_type": "heading",
     "level": 2,
     "metadata": {},
     "source": [
      "D\u00e9pendances les plus fr\u00e9quentes par source"
     ]
    },
    {
     "cell_type": "code",
     "collapsed": false,
     "input": [
      "dg2 = dg.copy()\n",
      "dg2.remove_nodes_from(filter(lambda n: n.source == 'Unknown' or n.source == 'R', dg2.nodes_iter()))\n",
      "in_degrees = [n for n in dg2.in_degree_iter()]\n",
      "in_degrees.sort(key=lambda n: n[1], reverse=True)"
     ],
     "language": "python",
     "metadata": {},
     "outputs": [],
     "prompt_number": 292
    },
    {
     "cell_type": "markdown",
     "metadata": {},
     "source": [
      "La liste suivante reprend les d\u00e9pendances apparaissant le plus fr\u00e9quemment pour chaque source de packages. La liste *primarily* indique que ce package a comme source principale la source concern\u00e9e. La liste *also available* indique que ce paquet est **notamment** disponible sur la source concern\u00e9e. Notez bien que ce sont les d\u00e9pendances de toutes les sources vers une source sp\u00e9cifique. Pour une liste des d\u00e9pendances de chaque source, regardez (bien) plus bas."
     ]
    },
    {
     "cell_type": "code",
     "collapsed": false,
     "input": [
      "for source in ['cran', 'bioconductor', 'github', 'rforge']: \n",
      "    print 'Most frequent dependency, for all packages, primarily on', source\n",
      "    _ = filter(lambda x: x[0].source == source, in_degrees)[:10]\n",
      "    print '\\n'.join([str(n[0]) + ' : ' + str(n[1]) for n in _])\n",
      "    print"
     ],
     "language": "python",
     "metadata": {},
     "outputs": [
      {
       "output_type": "stream",
       "stream": "stdout",
       "text": [
        "Most frequent dependency, for all packages, primarily on cran\n",
        "ggplot2 on [cran, github] : 933\n",
        "MASS on [cran] : 910\n",
        "plyr on [cran, github] : 769\n",
        "Rcpp on [cran, rforge] : 664\n",
        "stringr on [cran, github] : 484\n",
        "lattice on [cran, rforge] : 473\n",
        "Matrix on [cran, rforge] : 462\n",
        "reshape2 on [cran, github] : 456\n",
        "XML on [cran] : 443\n",
        "RCurl on [cran] : 426\n",
        "\n",
        "Most frequent dependency, for all packages, primarily on bioconductor\n",
        "Biobase on [bioconductor] : 438\n",
        "IRanges on [bioconductor, github] : 250\n",
        "GenomicRanges on [bioconductor, github] : 226\n",
        "BiocGenerics on [bioconductor] : 206\n",
        "Biostrings on [bioconductor] : 171\n",
        "limma on [bioconductor] : 143\n",
        "AnnotationDbi on [bioconductor] : 132\n",
        "graph on [bioconductor] : 113\n",
        "S4Vectors on [bioconductor] : 104\n",
        "Rsamtools on [bioconductor] : 101\n",
        "\n",
        "Most frequent dependency, for all packages, primarily on github\n",
        "FLCore on [github, rforge] : 24\n",
        "opal on [github] : 9\n",
        "mjcbase on [github] : 8\n",
        "rCharts on [github] : 8\n",
        "wtsUtilities on [github] : 8\n",
        "SqlRender on [github] : 6\n",
        "DatabaseConnector on [github] : 6\n",
        "stringtools on [github] : 5\n",
        "rccmisc on [github] : 5\n",
        "XMLSchema on [github] : 5\n",
        "\n",
        "Most frequent dependency, for all packages, primarily on rforge\n",
        "oompaBase on [rforge] : 8\n",
        "FLash on [rforge] : 5\n",
        "twMisc on [rforge] : 5\n",
        "addendum on [rforge] : 5\n",
        "easydb on [rforge] : 4\n",
        "twDEMC on [rforge] : 4\n",
        "ant on [rforge] : 4\n",
        "eatTools on [rforge] : 3\n",
        "ClassDiscovery on [rforge] : 3\n",
        "PortfolioAnalytics on [rforge] : 3\n",
        "\n"
       ]
      }
     ],
     "prompt_number": 293
    },
    {
     "cell_type": "code",
     "collapsed": false,
     "input": [
      "for source in ['cran', 'bioconductor', 'github', 'rforge']: \n",
      "    print 'Most frequent dependency, for all packages, available on', source\n",
      "    _ = filter(lambda x: source in x[0].sources, in_degrees)[:10]\n",
      "    print '\\n'.join([str(n[0]) + ' : ' + str(n[1]) for n in _])\n",
      "    print"
     ],
     "language": "python",
     "metadata": {},
     "outputs": [
      {
       "output_type": "stream",
       "stream": "stdout",
       "text": [
        "Most frequent dependency, for all packages, available on cran\n",
        "ggplot2 on [cran, github] : 933\n",
        "MASS on [cran] : 910\n",
        "plyr on [cran, github] : 769\n",
        "Rcpp on [cran, rforge] : 664\n",
        "stringr on [cran, github] : 484\n",
        "lattice on [cran, rforge] : 473\n",
        "Matrix on [cran, rforge] : 462\n",
        "reshape2 on [cran, github] : 456\n",
        "XML on [cran] : 443\n",
        "RCurl on [cran] : 426\n",
        "\n",
        "Most frequent dependency, for all packages, available on bioconductor\n",
        "Biobase on [bioconductor] : 438\n",
        "IRanges on [bioconductor, github] : 250\n",
        "GenomicRanges on [bioconductor, github] : 226\n",
        "BiocGenerics on [bioconductor] : 206\n",
        "Biostrings on [bioconductor] : 171\n",
        "limma on [bioconductor] : 143\n",
        "AnnotationDbi on [bioconductor] : 132\n",
        "graph on [bioconductor] : 113\n",
        "S4Vectors on [bioconductor] : 104\n",
        "Rsamtools on [bioconductor] : 101\n",
        "\n",
        "Most frequent dependency, for all packages, available on github\n",
        "ggplot2 on [cran, github] : 933\n",
        "plyr on [cran, github] : 769\n",
        "stringr on [cran, github] : 484\n",
        "reshape2 on [cran, github] : 456\n",
        "survival on [cran, github, rforge] : 295\n",
        "httr on [cran, github] : 266\n",
        "dplyr on [cran, github] : 261\n",
        "IRanges on [bioconductor, github] : 250\n",
        "GenomicRanges on [bioconductor, github] : 226\n",
        "zoo on [cran, github, rforge] : 199\n",
        "\n",
        "Most frequent dependency, for all packages, available on rforge\n",
        "Rcpp on [cran, rforge] : 664\n",
        "lattice on [cran, rforge] : 473\n",
        "Matrix on [cran, rforge] : 462\n",
        "mvtnorm on [cran, rforge] : 343\n",
        "sp on [cran, rforge] : 306\n",
        "survival on [cran, github, rforge] : 295\n",
        "data.table on [cran, rforge] : 286\n",
        "foreach on [cran, rforge] : 207\n",
        "zoo on [cran, github, rforge] : 199\n",
        "ape on [cran, rforge] : 190\n",
        "\n"
       ]
      }
     ],
     "prompt_number": 294
    },
    {
     "cell_type": "markdown",
     "metadata": {},
     "source": [
      "La liste suivante reprend, pour chaque communaut\u00e9, les d\u00e9pendances les plus fr\u00e9quentes (toute source confondue)."
     ]
    },
    {
     "cell_type": "code",
     "collapsed": false,
     "input": [
      "from collections import Counter\n",
      "\n",
      "for source in ['cran', 'bioconductor', 'github', 'rforge']: \n",
      "    pkgs = filter(lambda x: x.source == source, packages.itervalues())\n",
      "    deps = []\n",
      "    for pkg in pkgs:\n",
      "        _ = filter(lambda x: x.source != 'R' and x.source != 'Unknown', pkg.dependencies.itervalues())\n",
      "        deps.extend(_)\n",
      "    print 'Most frequent dependency for packages in', source\n",
      "    print '\\n'.join([str(n[0]) + ' : ' + str(n[1]) for n in Counter(deps).most_common(10)])\n",
      "    print "
     ],
     "language": "python",
     "metadata": {},
     "outputs": [
      {
       "output_type": "stream",
       "stream": "stdout",
       "text": [
        "Most frequent dependency for packages in cran\n",
        "MASS on [cran] : 626\n",
        "Rcpp on [cran, rforge] : 336\n",
        "Matrix on [cran, rforge] : 304\n",
        "ggplot2 on [cran, github] : 289\n",
        "lattice on [cran, rforge] : 288\n",
        "mvtnorm on [cran, rforge] : 258\n",
        "plyr on [cran, github] : 248\n",
        "survival on [cran, github, rforge] : 220\n",
        "sp on [cran, rforge] : 169\n",
        "XML on [cran] : 144\n",
        "\n",
        "Most frequent dependency for packages in bioconductor\n",
        "Biobase on [bioconductor] : 352\n",
        "IRanges on [bioconductor, github] : 183\n",
        "BiocGenerics on [bioconductor] : 181\n",
        "GenomicRanges on [bioconductor, github] : 154\n",
        "Biostrings on [bioconductor] : 106\n",
        "AnnotationDbi on [bioconductor] : 99\n",
        "limma on [bioconductor] : 96\n",
        "S4Vectors on [bioconductor] : 93\n",
        "MASS on [cran] : 77\n",
        "Rsamtools on [bioconductor] : 76\n",
        "\n",
        "Most frequent dependency for packages in"
       ]
      },
      {
       "output_type": "stream",
       "stream": "stdout",
       "text": [
        " github\n",
        "ggplot2 on [cran, github] : 539\n",
        "plyr on [cran, github] : 434\n",
        "stringr on [cran, github] : 312\n",
        "reshape2 on [cran, github] : 273\n",
        "RCurl on [cran] : 239\n",
        "Rcpp on [cran, rforge] : 229\n",
        "XML on [cran] : 217\n",
        "dplyr on [cran, github] : 214\n",
        "data.table on [cran, rforge] : 196\n",
        "httr on [cran, github] : 182\n",
        "\n",
        "Most frequent dependency for packages in rforge\n",
        "MASS on [cran] : 81\n",
        "lattice on [cran, rforge] : 61\n",
        "Rcpp on [cran, rforge] : 59\n",
        "plyr on [cran, github] : 43\n",
        "Matrix on [cran, rforge] : 39\n",
        "rJava on [cran] : 35\n",
        "sp on [cran, rforge] : 34\n",
        "ggplot2 on [cran, github] : 34\n",
        "XML on [cran] : 33\n",
        "raster on [cran, rforge] : 31\n",
        "\n"
       ]
      }
     ],
     "prompt_number": 295
    },
    {
     "cell_type": "heading",
     "level": 2,
     "metadata": {},
     "source": [
      "Installation des paquets en tenant compte de leurs d\u00e9pendances"
     ]
    },
    {
     "cell_type": "code",
     "collapsed": false,
     "input": [
      "# Packages that are available in at least one of our true sources.\n",
      "candidates = filter(lambda p: len(p.sources) > 0 and p.sources != ['R'], packages.itervalues())"
     ],
     "language": "python",
     "metadata": {},
     "outputs": [],
     "prompt_number": 296
    },
    {
     "cell_type": "code",
     "collapsed": false,
     "input": [
      "import itertools"
     ],
     "language": "python",
     "metadata": {},
     "outputs": [],
     "prompt_number": 297
    },
    {
     "cell_type": "code",
     "collapsed": false,
     "input": [
      "repositories = ['cran', 'bioconductor', 'rforge', 'github']\n",
      "\n",
      "combs = [[]]\n",
      "combs += list(itertools.combinations(repositories, 1))\n",
      "combs += list(itertools.combinations(repositories, 2))\n",
      "combs += list(itertools.combinations(repositories, 3))\n",
      "combs += list(itertools.combinations(repositories, 4))\n",
      "\n",
      "candidates = filter(lambda p: len(p.sources) > 0, packages.itervalues())\n",
      "\n",
      "print len(candidates), 'candidates'\n",
      "\n",
      "for comb in combs:\n",
      "    comb = list(comb) + ['R']\n",
      "    installable = filter(lambda p: p.installable_with(comb), candidates)\n",
      "    print len(installable), 'installable packages using', str(comb)\n",
      "print    \n",
      "    \n",
      "for source in ['cran', 'bioconductor', 'github', 'rforge']:\n",
      "    cand = filter(lambda p: source in p.sources, candidates)\n",
      "    print len(cand), 'candidates on', source\n",
      "    for comb in combs:\n",
      "        comb = list(comb) + ['R']\n",
      "        installable = filter(lambda p: p.installable_with(comb), cand)\n",
      "        print len(installable), 'installable packages using', str(comb)\n",
      "    print"
     ],
     "language": "python",
     "metadata": {},
     "outputs": [
      {
       "output_type": "stream",
       "stream": "stdout",
       "text": [
        "12293 candidates\n",
        "3602 installable packages using ['R']\n",
        "10533"
       ]
      },
      {
       "output_type": "stream",
       "stream": "stdout",
       "text": [
        " installable packages using ['cran', 'R']\n",
        "3766 installable packages using ['bioconductor', 'R']\n",
        "4653"
       ]
      },
      {
       "output_type": "stream",
       "stream": "stdout",
       "text": [
        " installable packages using ['rforge', 'R']\n",
        "3895"
       ]
      },
      {
       "output_type": "stream",
       "stream": "stdout",
       "text": [
        " installable packages using ['github', 'R']\n",
        "11562"
       ]
      },
      {
       "output_type": "stream",
       "stream": "stdout",
       "text": [
        " installable packages using ['cran', 'bioconductor', 'R']\n",
        "10658"
       ]
      },
      {
       "output_type": "stream",
       "stream": "stdout",
       "text": [
        " installable packages using ['cran', 'rforge', 'R']\n",
        "10789"
       ]
      },
      {
       "output_type": "stream",
       "stream": "stdout",
       "text": [
        " installable packages using ['cran', 'github', 'R']\n",
        "4861"
       ]
      },
      {
       "output_type": "stream",
       "stream": "stdout",
       "text": [
        " installable packages using ['bioconductor', 'rforge', 'R']\n",
        "4069"
       ]
      },
      {
       "output_type": "stream",
       "stream": "stdout",
       "text": [
        " installable packages using ['bioconductor', 'github', 'R']\n",
        "5084"
       ]
      },
      {
       "output_type": "stream",
       "stream": "stdout",
       "text": [
        " installable packages using ['rforge', 'github', 'R']\n",
        "11702"
       ]
      },
      {
       "output_type": "stream",
       "stream": "stdout",
       "text": [
        " installable packages using ['cran', 'bioconductor', 'rforge', 'R']\n",
        "11819"
       ]
      },
      {
       "output_type": "stream",
       "stream": "stdout",
       "text": [
        " installable packages using ['cran', 'bioconductor', 'github', 'R']\n",
        "10896"
       ]
      },
      {
       "output_type": "stream",
       "stream": "stdout",
       "text": [
        " installable packages using ['cran', 'rforge', 'github', 'R']\n",
        "5301"
       ]
      },
      {
       "output_type": "stream",
       "stream": "stdout",
       "text": [
        " installable packages using ['bioconductor', 'rforge', 'github', 'R']\n",
        "11941"
       ]
      },
      {
       "output_type": "stream",
       "stream": "stdout",
       "text": [
        " installable packages using ['cran', 'bioconductor', 'rforge', 'github', 'R']\n",
        "\n",
        "6411 candidates on cran\n",
        "2093 installable packages using ['R']\n",
        "6254"
       ]
      },
      {
       "output_type": "stream",
       "stream": "stdout",
       "text": [
        " installable packages using ['cran', 'R']\n",
        "2110 installable packages using ['bioconductor', 'R']\n",
        "2766 installable packages using ['rforge', 'R']\n",
        "2258"
       ]
      },
      {
       "output_type": "stream",
       "stream": "stdout",
       "text": [
        " installable packages using ['github', 'R']\n",
        "6399"
       ]
      },
      {
       "output_type": "stream",
       "stream": "stdout",
       "text": [
        " installable packages using ['cran', 'bioconductor', 'R']\n",
        "6255"
       ]
      },
      {
       "output_type": "stream",
       "stream": "stdout",
       "text": [
        " installable packages using ['cran', 'rforge', 'R']\n",
        "6268"
       ]
      },
      {
       "output_type": "stream",
       "stream": "stdout",
       "text": [
        " installable packages using ['cran', 'github', 'R']\n",
        "2791 installable packages using ['bioconductor', 'rforge', 'R']\n",
        "2280"
       ]
      },
      {
       "output_type": "stream",
       "stream": "stdout",
       "text": [
        " installable packages using ['bioconductor', 'github', 'R']\n",
        "2949 installable packages using ['rforge', 'github', 'R']\n",
        "6400"
       ]
      },
      {
       "output_type": "stream",
       "stream": "stdout",
       "text": [
        " installable packages using ['cran', 'bioconductor', 'rforge', 'R']\n",
        "6402"
       ]
      },
      {
       "output_type": "stream",
       "stream": "stdout",
       "text": [
        " installable packages using ['cran', 'bioconductor', 'github', 'R']\n",
        "6269"
       ]
      },
      {
       "output_type": "stream",
       "stream": "stdout",
       "text": [
        " installable packages using ['cran', 'rforge', 'github', 'R']\n",
        "2975 installable packages using ['bioconductor', 'rforge', 'github', 'R']\n",
        "6403"
       ]
      },
      {
       "output_type": "stream",
       "stream": "stdout",
       "text": [
        " installable packages using ['cran', 'bioconductor', 'rforge', 'github', 'R']\n",
        "\n",
        "997 candidates on bioconductor\n",
        "98 installable packages using ['R']\n",
        "221 installable packages using ['cran', 'R']\n",
        "217 installable packages using ['bioconductor', 'R']\n",
        "122 installable packages using ['rforge', 'R']\n",
        "106 installable packages using ['github', 'R']\n",
        "862"
       ]
      },
      {
       "output_type": "stream",
       "stream": "stdout",
       "text": [
        " installable packages using ['cran', 'bioconductor', 'R']\n",
        "222 installable packages using ['cran', 'rforge', 'R']\n",
        "227 installable packages using ['cran', 'github', 'R']\n",
        "265 installable packages using ['bioconductor', 'rforge', 'R']\n",
        "229 installable packages using ['bioconductor', 'github', 'R']\n",
        "124 installable packages using ['rforge', 'github', 'R']\n",
        "866"
       ]
      },
      {
       "output_type": "stream",
       "stream": "stdout",
       "text": [
        " installable packages using ['cran', 'bioconductor', 'rforge', 'R']\n",
        "863 installable packages using ['cran', 'bioconductor', 'github', 'R']\n",
        "228 installable packages using ['cran', 'rforge', 'github', 'R']\n",
        "271"
       ]
      },
      {
       "output_type": "stream",
       "stream": "stdout",
       "text": [
        " installable packages using ['bioconductor', 'rforge', 'github', 'R']\n",
        "867 installable packages using ['cran', 'bioconductor', 'rforge', 'github', 'R']\n",
        "\n",
        "5149 candidates on github\n",
        "1337"
       ]
      },
      {
       "output_type": "stream",
       "stream": "stdout",
       "text": [
        " installable packages using ['R']\n",
        "4318"
       ]
      },
      {
       "output_type": "stream",
       "stream": "stdout",
       "text": [
        " installable packages using ['cran', 'R']\n",
        "1372 installable packages using ['bioconductor', 'R']\n",
        "1636 installable packages using ['rforge', 'R']\n",
        "1497"
       ]
      },
      {
       "output_type": "stream",
       "stream": "stdout",
       "text": [
        " installable packages using ['github', 'R']\n",
        "4672"
       ]
      },
      {
       "output_type": "stream",
       "stream": "stdout",
       "text": [
        " installable packages using ['cran', 'bioconductor', 'R']\n",
        "4350"
       ]
      },
      {
       "output_type": "stream",
       "stream": "stdout",
       "text": [
        " installable packages using ['cran', 'rforge', 'R']\n",
        "4552"
       ]
      },
      {
       "output_type": "stream",
       "stream": "stdout",
       "text": [
        " installable packages using ['cran', 'github', 'R']\n",
        "1688 installable packages using ['bioconductor', 'rforge', 'R']\n",
        "1533 installable packages using ['bioconductor', 'github', 'R']\n",
        "1953"
       ]
      },
      {
       "output_type": "stream",
       "stream": "stdout",
       "text": [
        " installable packages using ['rforge', 'github', 'R']\n",
        "4705"
       ]
      },
      {
       "output_type": "stream",
       "stream": "stdout",
       "text": [
        " installable packages using ['cran', 'bioconductor', 'rforge', 'R']\n",
        "4921"
       ]
      },
      {
       "output_type": "stream",
       "stream": "stdout",
       "text": [
        " installable packages using ['cran', 'bioconductor', 'github', 'R']\n",
        "4570"
       ]
      },
      {
       "output_type": "stream",
       "stream": "stdout",
       "text": [
        " installable packages using ['cran', 'rforge', 'github', 'R']\n",
        "2009 installable packages using ['bioconductor', 'rforge', 'github', 'R']\n",
        "4940"
       ]
      },
      {
       "output_type": "stream",
       "stream": "stdout",
       "text": [
        " installable packages using ['cran', 'bioconductor', 'rforge', 'github', 'R']\n",
        "\n",
        "2216 candidates on rforge\n",
        "564 installable packages using ['R']\n",
        "1960"
       ]
      },
      {
       "output_type": "stream",
       "stream": "stdout",
       "text": [
        " installable packages using ['cran', 'R']\n",
        "581 installable packages using ['bioconductor', 'R']\n",
        "901 installable packages using ['rforge', 'R']\n",
        "604"
       ]
      },
      {
       "output_type": "stream",
       "stream": "stdout",
       "text": [
        " installable packages using ['github', 'R']\n",
        "2059"
       ]
      },
      {
       "output_type": "stream",
       "stream": "stdout",
       "text": [
        " installable packages using ['cran', 'bioconductor', 'R']\n",
        "2061"
       ]
      },
      {
       "output_type": "stream",
       "stream": "stdout",
       "text": [
        " installable packages using ['cran', 'rforge', 'R']\n",
        "1978"
       ]
      },
      {
       "output_type": "stream",
       "stream": "stdout",
       "text": [
        " installable packages using ['cran', 'github', 'R']\n",
        "917 installable packages using ['bioconductor', 'rforge', 'R']\n",
        "622 installable packages using ['bioconductor', 'github', 'R']\n",
        "945"
       ]
      },
      {
       "output_type": "stream",
       "stream": "stdout",
       "text": [
        " installable packages using ['rforge', 'github', 'R']\n",
        "2169"
       ]
      },
      {
       "output_type": "stream",
       "stream": "stdout",
       "text": [
        " installable packages using ['cran', 'bioconductor', 'rforge', 'R']\n",
        "2076"
       ]
      },
      {
       "output_type": "stream",
       "stream": "stdout",
       "text": [
        " installable packages using ['cran', 'bioconductor', 'github', 'R']\n",
        "2072"
       ]
      },
      {
       "output_type": "stream",
       "stream": "stdout",
       "text": [
        " installable packages using ['cran', 'rforge', 'github', 'R']\n",
        "961 installable packages using ['bioconductor', 'rforge', 'github', 'R']\n",
        "2179"
       ]
      },
      {
       "output_type": "stream",
       "stream": "stdout",
       "text": [
        " installable packages using ['cran', 'bioconductor', 'rforge', 'github', 'R']\n",
        "\n"
       ]
      }
     ],
     "prompt_number": 298
    }
   ],
   "metadata": {}
  }
 ]
}