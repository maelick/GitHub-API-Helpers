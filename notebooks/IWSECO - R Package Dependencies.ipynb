{
 "metadata": {
  "name": "",
  "signature": "sha256:8f42405f91a9d4c070dec027fbc62bd7f6eb4ad72f888a2bfcfdab8e55fdc69a"
 },
 "nbformat": 3,
 "nbformat_minor": 0,
 "worksheets": [
  {
   "cells": [
    {
     "cell_type": "heading",
     "level": 1,
     "metadata": {},
     "source": [
      "D\u00e9pendances des packages R sur Github"
     ]
    },
    {
     "cell_type": "markdown",
     "metadata": {},
     "source": [
      "Pour chaque paquet collect\u00e9 sur CRAN, Github, Bioconductor et R-Forge, nous allons r\u00e9cup\u00e9rer la liste des d\u00e9pendances dans les champs \"Depends\" et \"Imports\", et \u00e9tudier la r\u00e9partition de ces d\u00e9pendances dans les diff\u00e9rentes communaut\u00e9s. En plus de ces diff\u00e9rentes communaut\u00e9s, certains packages (apparaissant dans les d\u00e9pendances) sont des paquets fournis par d\u00e9faut avec une distribution R. Ces paquets sont les suivants : "
     ]
    },
    {
     "cell_type": "code",
     "collapsed": false,
     "input": [
      "\"\"\"\n",
      "R_pkg = ('R MASS Matrix base boot class cluster codetools compiler datasets foreign grDevices ' +\n",
      "        'graphics grid lattice manipulate methods mgcv nlme nnet parallel rpart rstudio' +\n",
      "        'spatial splines stats stats4 stringr survival tcltk tools translations utils').split(' ')\n",
      "\"\"\"\n",
      "R_pkg = ('R, base, compiler, datasets, graphics, '\n",
      "         'grDevices, grid, methods, parallel, profile, splines, stats, stats4, '\n",
      "         'tcltk, tools, translations, utils').split(', ')\n",
      "\n",
      "sources = ['cran', 'bioconductor', 'github', 'rforge']"
     ],
     "language": "python",
     "metadata": {},
     "outputs": [],
     "prompt_number": 1
    },
    {
     "cell_type": "code",
     "collapsed": false,
     "input": [
      "%matplotlib inline\n",
      "from IPython.display import set_matplotlib_formats\n",
      "import matplotlib.pyplot as plt\n",
      "#set_matplotlib_formats('pdf')"
     ],
     "language": "python",
     "metadata": {},
     "outputs": [],
     "prompt_number": 2
    },
    {
     "cell_type": "code",
     "collapsed": false,
     "input": [
      "import pandas\n",
      "\n",
      "df = pandas.DataFrame.from_csv('../data/R-Packages.csv')\n",
      "df = df.fillna(value={'Depends': '', 'Imports': ''})\n",
      "\n",
      "df = df.drop('profile')"
     ],
     "language": "python",
     "metadata": {},
     "outputs": [],
     "prompt_number": 3
    },
    {
     "cell_type": "markdown",
     "metadata": {},
     "source": [
      "La fonction suivante va r\u00e9cup\u00e9rer les d\u00e9pendances dans les champs \"Depends\" et \"Imports\" d'une s\u00e9rie. Le parsing est naif, mais devrait matcher les paquets existants."
     ]
    },
    {
     "cell_type": "code",
     "collapsed": false,
     "input": [
      "def parse_dependencies(item):\n",
      "    depends = item['Depends'] if item['Depends'] != pandas.np.nan else ''\n",
      "    imports = item['Imports'] if item['Imports'] != pandas.np.nan else ''\n",
      "    f = lambda lst: [dep.split('(')[0].strip() for dep in lst.split(',')]\n",
      "    return filter(lambda x: len(x) > 0, f(depends) + f(imports))"
     ],
     "language": "python",
     "metadata": {},
     "outputs": [],
     "prompt_number": 4
    },
    {
     "cell_type": "markdown",
     "metadata": {},
     "source": [
      "La classe suivante sert de base \u00e0 notre graphe. Les attributs sont :\n",
      " - `name`: nom du package\n",
      " - `sources`: liste des sources o\u00f9 ce paquet peut \u00eatre trouv\u00e9\n",
      " - `source`: source principale (dans l'ordre indiqu\u00e9)\n",
      " - `dependencies`: liste des d\u00e9pendances (attendu : instances de `Package`)\n",
      " \n",
      "La m\u00e9thode `add_source` permet d'ajouter une source (`str`). La liste `dependencies` peut \u00eatre manipul\u00e9e directement."
     ]
    },
    {
     "cell_type": "code",
     "collapsed": false,
     "input": [
      "class Package(object):\n",
      "    sources = ['R', 'cran', 'bioconductor', 'github', 'rforge']\n",
      "    \n",
      "    def __init__(self, name):\n",
      "        self.name = name\n",
      "        self.sources = []\n",
      "        self.dependencies = {}\n",
      "        \n",
      "    def add_source(self, source):\n",
      "        if source not in self.sources:\n",
      "            self.sources.append(source)\n",
      "            \n",
      "    @property\n",
      "    def source(self):\n",
      "        for source in Package.sources:\n",
      "            if source in self.sources:\n",
      "                return source\n",
      "        return 'Unknown'\n",
      "    \n",
      "    def pprint(self):\n",
      "        return str(self) + ' -> ' + ', '.join(map(str, self.dependencies.itervalues()))\n",
      "    \n",
      "    def __unicode__(self):\n",
      "        return '{name} on [{sources}]'.format(name=self.name, sources=', '.join(self.sources))\n",
      "    __str__ = __repr__ = __unicode__"
     ],
     "language": "python",
     "metadata": {},
     "outputs": [],
     "prompt_number": 5
    },
    {
     "cell_type": "markdown",
     "metadata": {},
     "source": [
      "Pour chaque paquet identifi\u00e9, nous ajoutons ces sources. \n",
      "Le dictionnaire `packages` vise \u00e0 associer \u00e0 chaque nom de paquet une instance de la classe `Package`."
     ]
    },
    {
     "cell_type": "code",
     "collapsed": false,
     "input": [
      "packages = {}\n",
      "\n",
      "for name, data in df.iterrows():\n",
      "    p = Package(name)\n",
      "    for source in sources:\n",
      "        if data[source] == 1:\n",
      "            p.add_source(source)\n",
      "    packages[name] = p"
     ],
     "language": "python",
     "metadata": {},
     "outputs": [],
     "prompt_number": 6
    },
    {
     "cell_type": "markdown",
     "metadata": {},
     "source": [
      "Ajoutons *R* dans les sources avec les packages correspondants."
     ]
    },
    {
     "cell_type": "code",
     "collapsed": false,
     "input": [
      "sources.append('R')\n",
      "\n",
      "for name in R_pkg:\n",
      "    # new data:\n",
      "    p = Package(name)\n",
      "    # keep existing data:\n",
      "    # p = packages.setdefault(name, Package(name)) \n",
      "    \n",
      "    p.add_source('R')\n",
      "    packages[name] = p"
     ],
     "language": "python",
     "metadata": {},
     "outputs": [],
     "prompt_number": 7
    },
    {
     "cell_type": "markdown",
     "metadata": {},
     "source": [
      "Ajoutons les d\u00e9pendances. Si le paquet n'est pas connu de notre liste de paquets, nous cr\u00e9ons tout de m\u00eame une instance de `Package`. La source associ\u00e9e \u00e0 ce paquet sera automatiquement *Unknown* et ce paquet pourra donc \u00eatre utilis\u00e9 de fa\u00e7on transparente lors des calculs sur le graphe."
     ]
    },
    {
     "cell_type": "code",
     "collapsed": false,
     "input": [
      "for name, data in df.iterrows():\n",
      "    p = packages[name]\n",
      "    for dep in parse_dependencies(data):\n",
      "        p_dep = packages.setdefault(dep, Package(dep))\n",
      "        p.dependencies[p_dep.name] = p_dep"
     ],
     "language": "python",
     "metadata": {},
     "outputs": [],
     "prompt_number": 8
    },
    {
     "cell_type": "markdown",
     "metadata": {},
     "source": [
      "Enfin, il nous reste \u00e0 cr\u00e9er le graphe dirig\u00e9. Ce graphe est construit classiquement pour les d\u00e9pendances. A noter que les d\u00e9pendances de la source *Unknown* sont \u00e9galement dans ce graphe (qui n'est naturellement pas une composante connexe)."
     ]
    },
    {
     "cell_type": "code",
     "collapsed": false,
     "input": [
      "import networkx\n",
      "\n",
      "dg = networkx.DiGraph()\n",
      "for package in packages.itervalues():\n",
      "    dg.add_node(package)\n",
      "    for dependency in package.dependencies.itervalues():\n",
      "        dg.add_edge(package, dependency)"
     ],
     "language": "python",
     "metadata": {},
     "outputs": [],
     "prompt_number": 9
    },
    {
     "cell_type": "heading",
     "level": 2,
     "metadata": {},
     "source": [
      "Centralit\u00e9"
     ]
    },
    {
     "cell_type": "code",
     "collapsed": false,
     "input": [
      "def d2df(gd):\n",
      "    m = {}\n",
      "    for package, value in gd.iteritems():\n",
      "        m[package.name] = {'source': package.source, 'value': value}\n",
      "    return pandas.DataFrame.from_dict(m, orient='index')\n",
      "\n",
      "for name, group in d2df(networkx.in_degree_centrality(dg)).groupby(by='source'):\n",
      "    fig = plt.figure()\n",
      "    ax = fig.add_subplot(111)\n",
      "    group['value'].plot(kind='hist', figsize=(8,4), bins=10, title=name, ax=ax)"
     ],
     "language": "python",
     "metadata": {},
     "outputs": [
      {
       "metadata": {},
       "output_type": "display_data",
       "png": "[encoded data removed]",
       "text": [
        "<matplotlib.figure.Figure at 0x7f12855a5d50>"
       ]
      },
      {
       "metadata": {},
       "output_type": "display_data",
       "png": "[encoded data removed]",
       "text": [
        "<matplotlib.figure.Figure at 0x7f12855a5cd0>"
       ]
      },
      {
       "metadata": {},
       "output_type": "display_data",
       "png": "[encoded data removed]",
       "text": [
        "<matplotlib.figure.Figure at 0x7f128522ca50>"
       ]
      },
      {
       "metadata": {},
       "output_type": "display_data",
       "png": "[encoded data removed]",
       "text": [
        "<matplotlib.figure.Figure at 0x7f1285499610>"
       ]
      },
      {
       "metadata": {},
       "output_type": "display_data",
       "png": "[encoded data removed]",
       "text": [
        "<matplotlib.figure.Figure at 0x7f12853e9dd0>"
       ]
      },
      {
       "metadata": {},
       "output_type": "display_data",
       "png": "[encoded data removed]",
       "text": [
        "<matplotlib.figure.Figure at 0x7f1285033510>"
       ]
      }
     ],
     "prompt_number": 10
    },
    {
     "cell_type": "heading",
     "level": 2,
     "metadata": {},
     "source": [
      "Direction des d\u00e9pendances"
     ]
    },
    {
     "cell_type": "markdown",
     "metadata": {},
     "source": [
      "Pour chaque source de packages, nous allons regarder les diff\u00e9rents paquets pr\u00e9sents dans cette source. Pour chaque paquet, nous regardons les d\u00e9pendances de ce paquet et la source principale de chacune de ces d\u00e9pendances. Une liste $S(x,y)$ est calcul\u00e9e pour chaque paire $(x,y)$ de sources. Cette liste contient l'ensemble des paquets de $x$ qui ont au moins une d\u00e9pendance dans $y$."
     ]
    },
    {
     "cell_type": "code",
     "collapsed": false,
     "input": [
      "S = {s:{s2: set() for s2 in sources + ['Unknown']} for s in sources}"
     ],
     "language": "python",
     "metadata": {},
     "outputs": [],
     "prompt_number": 11
    },
    {
     "cell_type": "code",
     "collapsed": false,
     "input": [
      "sources_needed_for = lambda p: set(map(lambda p: p.source, p.dependencies.itervalues()))\n",
      "\n",
      "for p in packages.itervalues():\n",
      "    for source in sources_needed_for(p):\n",
      "        S[p.source][source].add(p)"
     ],
     "language": "python",
     "metadata": {},
     "outputs": [],
     "prompt_number": 12
    },
    {
     "cell_type": "code",
     "collapsed": false,
     "input": [
      "scores = {s: {s2: len(S[s][s2]) for s2 in S[s].iterkeys()} for s in S.iterkeys()}"
     ],
     "language": "python",
     "metadata": {},
     "outputs": [],
     "prompt_number": 13
    },
    {
     "cell_type": "markdown",
     "metadata": {},
     "source": [
      "Le tableau suivant reprend, pour chaque ligne, le nombre de paquets ayant au moins une d\u00e9pendance vers la source indiqu\u00e9e en colonne."
     ]
    },
    {
     "cell_type": "code",
     "collapsed": false,
     "input": [
      "pandas.DataFrame.from_dict(scores).T"
     ],
     "language": "python",
     "metadata": {},
     "outputs": [
      {
       "html": [
        "<div style=\"max-height:1000px;max-width:1500px;overflow:auto;\">\n",
        "<table border=\"1\" class=\"dataframe\">\n",
        "  <thead>\n",
        "    <tr style=\"text-align: right;\">\n",
        "      <th></th>\n",
        "      <th>R</th>\n",
        "      <th>Unknown</th>\n",
        "      <th>bioconductor</th>\n",
        "      <th>cran</th>\n",
        "      <th>github</th>\n",
        "      <th>rforge</th>\n",
        "    </tr>\n",
        "  </thead>\n",
        "  <tbody>\n",
        "    <tr>\n",
        "      <th>R</th>\n",
        "      <td>0</td>\n",
        "      <td>0</td>\n",
        "      <td>0</td>\n",
        "      <td>0</td>\n",
        "      <td>0</td>\n",
        "      <td>0</td>\n",
        "    </tr>\n",
        "    <tr>\n",
        "      <th>bioconductor</th>\n",
        "      <td>899</td>\n",
        "      <td>99</td>\n",
        "      <td>725</td>\n",
        "      <td>694</td>\n",
        "      <td>1</td>\n",
        "      <td>1</td>\n",
        "    </tr>\n",
        "    <tr>\n",
        "      <th>cran</th>\n",
        "      <td>4283</td>\n",
        "      <td>18</td>\n",
        "      <td>86</td>\n",
        "      <td>4345</td>\n",
        "      <td>1</td>\n",
        "      <td>2</td>\n",
        "    </tr>\n",
        "    <tr>\n",
        "      <th>github</th>\n",
        "      <td>2056</td>\n",
        "      <td>157</td>\n",
        "      <td>251</td>\n",
        "      <td>2593</td>\n",
        "      <td>291</td>\n",
        "      <td>14</td>\n",
        "    </tr>\n",
        "    <tr>\n",
        "      <th>rforge</th>\n",
        "      <td>716</td>\n",
        "      <td>29</td>\n",
        "      <td>43</td>\n",
        "      <td>712</td>\n",
        "      <td>12</td>\n",
        "      <td>104</td>\n",
        "    </tr>\n",
        "  </tbody>\n",
        "</table>\n",
        "</div>"
       ],
       "metadata": {},
       "output_type": "pyout",
       "prompt_number": 14,
       "text": [
        "                 R  Unknown  bioconductor  cran  github  rforge\n",
        "R                0        0             0     0       0       0\n",
        "bioconductor   899       99           725   694       1       1\n",
        "cran          4283       18            86  4345       1       2\n",
        "github        2056      157           251  2593     291      14\n",
        "rforge         716       29            43   712      12     104"
       ]
      }
     ],
     "prompt_number": 14
    },
    {
     "cell_type": "markdown",
     "metadata": {},
     "source": [
      "Quels sont les paquets \"inconnus\" ?"
     ]
    },
    {
     "cell_type": "code",
     "collapsed": false,
     "input": [
      "map(lambda p: p.name, filter(lambda p: p.source == 'Unknown', packages.itervalues()))"
     ],
     "language": "python",
     "metadata": {},
     "outputs": [
      {
       "metadata": {},
       "output_type": "pyout",
       "prompt_number": 15,
       "text": [
        "['Rcompression',\n",
        " 'BSgenome.Ecoli.NCBI.20080805',\n",
        " 'hgu133a2.db',\n",
        " 'BSgenome.Celegans.UCSC.ce2',\n",
        " 'nnclust',\n",
        " 'R.basic',\n",
        " 'mvpart',\n",
        " 'DRI',\n",
        " 'rstudio',\n",
        " 'intCNGEan',\n",
        " 'geneLenDataBase',\n",
        " 'fibroEset',\n",
        " 'locfdr',\n",
        " 'fastread',\n",
        " 'lumiHumanAll.db',\n",
        " 'RevoScaleR',\n",
        " 'getmfclstuff',\n",
        " 'jit',\n",
        " 'RAmazonS3',\n",
        " 'COHCAPanno',\n",
        " 'randomSurvivalForest',\n",
        " 'ChAMPdata',\n",
        " 'FLFleet',\n",
        " 'gist',\n",
        " 'mirbase.db',\n",
        " 'IlluminaHumanMethylation27k.db',\n",
        " 'org.MeSH.Syn.db',\n",
        " 'SVGAnnotation',\n",
        " 'USGSwsGraphs',\n",
        " 'ReadImages',\n",
        " 'ts',\n",
        " 'targetPredictor.db',\n",
        " 'IlluminaHumanMethylation450kanno.ilmn12.hg19',\n",
        " 'ITALICSData',\n",
        " 'MetShot',\n",
        " 'minfiData',\n",
        " 'hgu133plus2.db',\n",
        " 'org.MeSH.Bsu.168.db',\n",
        " 'MUGAExampleData',\n",
        " 'seqCNA.annot',\n",
        " 'calibrationEA',\n",
        " 'readJPEG',\n",
        " 'org.Hs.eg.db',\n",
        " 'COPDSexualDimorphism.data',\n",
        " 'igraph0',\n",
        " 'RmiR.Hs.miRNA',\n",
        " 'Snowball',\n",
        " 'affydata',\n",
        " 'AnnBuilder',\n",
        " 'rrdf',\n",
        " 'categoryComparePaper',\n",
        " 'CNAmet',\n",
        " 'Homo.sapiens',\n",
        " 'FDb.InfiniumMethylation.hg19',\n",
        " 'chipenrich.data',\n",
        " 'org.Sc.sgd.db',\n",
        " 'mva',\n",
        " 'shiny\\nvisualizationTools',\n",
        " 'kfoots',\n",
        " 'pkpkg',\n",
        " 'gtJson',\n",
        " 'IlluminaHumanMethylation450kmanifest',\n",
        " 'USGSwsBase',\n",
        " 'BSgenome.Drerio.UCSC.danRer7',\n",
        " 'skUtils',\n",
        " 'redland',\n",
        " 'clusterCons',\n",
        " 'breastCancerVDX',\n",
        " 'BSgenome.Mmusculus.UCSC.mm10',\n",
        " 'FunciSNP.data',\n",
        " 'GGdata',\n",
        " 'LungCancerACvsSCCGEO',\n",
        " 'prider',\n",
        " 'golubEsets',\n",
        " 'rMaps',\n",
        " 'org.Mm.eg.db',\n",
        " 'pilr.api.r',\n",
        " 'jvmr',\n",
        " 'hydromad',\n",
        " 'none',\n",
        " 'rflowcyt',\n",
        " 'rstan',\n",
        " 'fastdigest',\n",
        " 'Shiny',\n",
        " 'dataone',\n",
        " 'TxDb.Mmusculus.UCSC.mm9.knownGene',\n",
        " 'emuSX',\n",
        " 'cMap2data',\n",
        " 'R.graphics',\n",
        " 'bcidat',\n",
        " 'h5vcData',\n",
        " 'RKML',\n",
        " 'Illumina450ProbeVariants.db',\n",
        " 'gurobi',\n",
        " 'hgu95av2.db',\n",
        " 'Mus.musculus',\n",
        " 'excelIO',\n",
        " 'conditionr',\n",
        " 'BayesFactorPCL',\n",
        " 'SeqTools',\n",
        " 'RDCOMClient',\n",
        " 'RGraphicsDevice',\n",
        " 'repositr',\n",
        " 'rdaTest',\n",
        " 'biOps',\n",
        " 'Rigroup',\n",
        " 'hgu133a.db',\n",
        " 'desmon',\n",
        " 'KEGG.db',\n",
        " 'HSMMSingleCell',\n",
        " 'RTisean',\n",
        " 'datacampAPI',\n",
        " 'pilrapi',\n",
        " 'stemHypoxia',\n",
        " 'facopy.annot',\n",
        " 'climatol',\n",
        " 'RElasticSearch',\n",
        " 'simpIntLists',\n",
        " 'KEGGdzPathwaysGEO',\n",
        " 'org.MeSH.Hsa.db',\n",
        " 'spdep geostatsinla',\n",
        " 'TextGrid',\n",
        " 'faahKO',\n",
        " 'parental',\n",
        " 'remake',\n",
        " 'Rstem',\n",
        " 'rClr',\n",
        " 'USGSwsQW',\n",
        " 'DMRcatedata',\n",
        " 'sound',\n",
        " 'bamsignals',\n",
        " 'DO.db',\n",
        " 'phyloch',\n",
        " 'HTSeqGenieBase',\n",
        " 'CARBayesdata',\n",
        " 'gcspikelite',\n",
        " 'ARRmData',\n",
        " 'OpenMx',\n",
        " 'MeSH.AOR.db',\n",
        " 'NCBI2R',\n",
        " 'AWS.tools',\n",
        " 'mitoODEdata',\n",
        " 'org.MeSH.Aca.db',\n",
        " 'WRS',\n",
        " 'rfcdmin',\n",
        " 'statskier',\n",
        " 'SNAGEEdata',\n",
        " 'depthproc',\n",
        " 'time',\n",
        " 'TMB',\n",
        " 'rnetweaver',\n",
        " 'Design',\n",
        " 'cMAP',\n",
        " 'Rbbg',\n",
        " 'rdyncall',\n",
        " 'edira',\n",
        " 'INLA',\n",
        " 'PFAM.db',\n",
        " 'RSQLite.extfuns',\n",
        " 'multicore',\n",
        " 'ppTools',\n",
        " 'Cyclops',\n",
        " 'ediraAMLdata',\n",
        " 'jetset',\n",
        " 'MeSH.db',\n",
        " 'org.MeSH.Atu.K84.db',\n",
        " 'survHD',\n",
        " 'reactome.db',\n",
        " 'healthvis',\n",
        " 'RUVnormalizeData',\n",
        " 'SNPlocs.Hsapiens.dbSNP.20120608',\n",
        " 'stepfun',\n",
        " 'CNPCluster',\n",
        " 'GO.db',\n",
        " 'empfin',\n",
        " 'rowmins',\n",
        " 'VEDA',\n",
        " 'fUtilities',\n",
        " 'BSgenome.Hsapiens.UCSC.hg19',\n",
        " 'hgu133plus2frmavecs',\n",
        " 'yeastCC',\n",
        " 'guitar',\n",
        " 'syskern',\n",
        " 'odesolve',\n",
        " 'monoProc',\n",
        " 'RKEAjars',\n",
        " 'HGLMMM',\n",
        " 'ppiData',\n",
        " 'eyelinkReader',\n",
        " 'hthgu133afrmavecs',\n",
        " 'pd.mapping50k.xba240',\n",
        " 'NARSShared',\n",
        " 'Rsge',\n",
        " 'MeSH.PCR.db',\n",
        " 'hapsim',\n",
        " 'BSgenome.Scerevisiae.UCSC.sacCer2',\n",
        " 'DrugVsDiseasedata',\n",
        " 'ALL',\n",
        " 'Filenames',\n",
        " 'ChIPXpressData',\n",
        " 'TxDb.Hsapiens.UCSC.hg19.knownGene',\n",
        " 'utter',\n",
        " 'hthgu133acdf',\n",
        " 'parathyroidSE',\n",
        " 'Currently no dependancies',\n",
        " 'smwrStats']"
       ]
      }
     ],
     "prompt_number": 15
    },
    {
     "cell_type": "heading",
     "level": 2,
     "metadata": {},
     "source": [
      "D\u00e9pendances les plus fr\u00e9quentes par source"
     ]
    },
    {
     "cell_type": "code",
     "collapsed": false,
     "input": [
      "dg2 = dg.copy()\n",
      "dg2.remove_nodes_from(filter(lambda n: n.source == 'Unknown' or n.source == 'R', dg2.nodes_iter()))\n",
      "in_degrees = [n for n in dg2.in_degree_iter()]\n",
      "in_degrees.sort(key=lambda n: n[1], reverse=True)"
     ],
     "language": "python",
     "metadata": {},
     "outputs": [],
     "prompt_number": 16
    },
    {
     "cell_type": "markdown",
     "metadata": {},
     "source": [
      "La liste suivante reprend les d\u00e9pendances apparaissant le plus fr\u00e9quemment pour chaque source de packages. La liste *primarily* indique que ce package a comme source principale la source concern\u00e9e. La liste *also available* indique que ce paquet est **notamment** disponible sur la source concern\u00e9e. Notez bien que ce sont les d\u00e9pendances de toutes les sources vers une source sp\u00e9cifique. Pour une liste des d\u00e9pendances de chaque source, regardez (bien) plus bas."
     ]
    },
    {
     "cell_type": "code",
     "collapsed": false,
     "input": [
      "for source in ['cran', 'bioconductor', 'github', 'rforge']: \n",
      "    print 'Most frequent dependency, for all packages, primarily on', source\n",
      "    _ = filter(lambda x: x[0].source == source, in_degrees)[:10]\n",
      "    print '\\n'.join([str(n[0]) + ' : ' + str(n[1]) for n in _])\n",
      "    print"
     ],
     "language": "python",
     "metadata": {},
     "outputs": [
      {
       "output_type": "stream",
       "stream": "stdout",
       "text": [
        "Most frequent dependency, for all packages, primarily on cran\n",
        "ggplot2 on [cran, github] : 938\n",
        "MASS on [cran] : 918\n",
        "plyr on [cran, github] : 772\n",
        "Rcpp on [cran, rforge] : 667\n",
        "stringr on [cran, github] : 483\n",
        "lattice on [cran, rforge] : 475\n",
        "Matrix on [cran, rforge] : 466\n",
        "reshape2 on [cran, github] : 458\n",
        "XML on [cran] : 444\n",
        "RCurl on [cran] : 426\n",
        "\n",
        "Most frequent dependency, for all packages, primarily on bioconductor\n",
        "Biobase on [bioconductor] : 438\n",
        "IRanges on [bioconductor, github] : 250\n",
        "GenomicRanges on [bioconductor, github] : 226\n",
        "BiocGenerics on [bioconductor] : 205\n",
        "Biostrings on [bioconductor] : 171\n",
        "AnnotationDbi on [bioconductor] : 132\n",
        "S4Vectors on [bioconductor] : 104\n",
        "Rsamtools on [bioconductor] : 101\n",
        "affy on [bioconductor] : 85\n",
        "rtracklayer on [bioconductor] : 66\n",
        "\n",
        "Most frequent dependency, for all packages, primarily on github\n",
        "FLCore on [github, rforge] : 24\n",
        "opal on [github] : 9\n",
        "rCharts on [github] : 8\n",
        "wtsUtilities on [github] : 8\n",
        "mjcbase on [github] : 8\n",
        "SqlRender on [github] : 6\n",
        "DatabaseConnector on [github] : 6\n",
        "rccmisc on [github] : 5\n",
        "stringtools on [github] : 5\n",
        "CodeDepends on [github] : 4\n",
        "\n",
        "Most frequent dependency, for all packages, primarily on rforge\n",
        "oompaBase on [rforge] : 8\n",
        "twMisc on [rforge] : 5\n",
        "addendum on [rforge] : 5\n",
        "FLash on [rforge] : 5\n",
        "easydb on [rforge] : 4\n",
        "ant on [rforge] : 4\n",
        "twDEMC on [rforge] : 4\n",
        "ClassDiscovery on [rforge] : 3\n",
        "PortfolioAnalytics on [rforge] : 3\n",
        "eatTools on [rforge] : 3"
       ]
      },
      {
       "output_type": "stream",
       "stream": "stdout",
       "text": [
        "\n",
        "\n"
       ]
      }
     ],
     "prompt_number": 17
    },
    {
     "cell_type": "code",
     "collapsed": false,
     "input": [
      "for source in ['cran', 'bioconductor', 'github', 'rforge']: \n",
      "    print 'Most frequent dependency, for all packages, available on', source\n",
      "    _ = filter(lambda x: source in x[0].sources, in_degrees)[:10]\n",
      "    print '\\n'.join([str(n[0]) + ' : ' + str(n[1]) for n in _])\n",
      "    print"
     ],
     "language": "python",
     "metadata": {},
     "outputs": [
      {
       "output_type": "stream",
       "stream": "stdout",
       "text": [
        "Most frequent dependency, for all packages, available on cran\n",
        "ggplot2 on [cran, github] : 938\n",
        "MASS on [cran] : 918\n",
        "plyr on [cran, github] : 772\n",
        "Rcpp on [cran, rforge] : 667\n",
        "stringr on [cran, github] : 483\n",
        "lattice on [cran, rforge] : 475\n",
        "Matrix on [cran, rforge] : 466\n",
        "reshape2 on [cran, github] : 458\n",
        "XML on [cran] : 444\n",
        "RCurl on [cran] : 426\n",
        "\n",
        "Most frequent dependency, for all packages, available on bioconductor\n",
        "Biobase on [bioconductor] : 438\n",
        "IRanges on [bioconductor, github] : 250\n",
        "GenomicRanges on [bioconductor, github] : 226\n",
        "BiocGenerics on [bioconductor] : 205\n",
        "Biostrings on [bioconductor] : 171\n",
        "limma on [cran, bioconductor] : 143\n",
        "AnnotationDbi on [bioconductor] : 132\n",
        "graph on [cran, bioconductor] : 114\n",
        "S4Vectors on [bioconductor] : 104\n",
        "Rsamtools on [bioconductor] : 101\n",
        "\n",
        "Most frequent dependency, for all packages, available on github\n",
        "ggplot2 on [cran, github] : 938\n",
        "plyr on [cran, github] : 772\n",
        "stringr on [cran, github] : 483\n",
        "reshape2 on [cran, github] : 458\n",
        "survival on [cran, github, rforge] : 298\n",
        "httr on [cran, github] : 266\n",
        "dplyr on [cran, github] : 261\n",
        "IRanges on [bioconductor, github] : 250\n",
        "GenomicRanges on [bioconductor, github] : 226\n",
        "zoo on [cran, github, rforge] : 196\n",
        "\n",
        "Most frequent dependency, for all packages, available on rforge\n",
        "Rcpp on [cran, rforge] : 667\n",
        "lattice on [cran, rforge] : 475\n",
        "Matrix on [cran, rforge] : 466\n",
        "mvtnorm on [cran, rforge] : 343\n",
        "sp on [cran, rforge] : 303\n",
        "survival on [cran, github, rforge] : 298\n",
        "data.table on [cran, rforge] : 284\n",
        "foreach on [cran, rforge] : 206\n",
        "zoo on [cran, github, rforge] : 196\n",
        "ape on [cran, rforge] : 191\n",
        "\n"
       ]
      }
     ],
     "prompt_number": 18
    },
    {
     "cell_type": "markdown",
     "metadata": {},
     "source": [
      "La liste suivante reprend, pour chaque communaut\u00e9, les d\u00e9pendances les plus fr\u00e9quentes (toute source confondue)."
     ]
    },
    {
     "cell_type": "code",
     "collapsed": false,
     "input": [
      "from collections import Counter\n",
      "\n",
      "for source in ['cran', 'bioconductor', 'github', 'rforge']: \n",
      "    pkgs = filter(lambda x: x.source == source, packages.itervalues())\n",
      "    deps = []\n",
      "    for pkg in pkgs:\n",
      "        _ = filter(lambda x: x.source != 'R' and x.source != 'Unknown', pkg.dependencies.itervalues())\n",
      "        deps.extend(_)\n",
      "    print 'Most frequent dependency for packages in', source\n",
      "    print '\\n'.join([str(n[0]) + ' : ' + str(n[1]) for n in Counter(deps).most_common(10)])\n",
      "    print "
     ],
     "language": "python",
     "metadata": {},
     "outputs": [
      {
       "output_type": "stream",
       "stream": "stdout",
       "text": [
        "Most frequent dependency for packages in cran\n",
        "MASS on [cran] : 635\n",
        "Rcpp on [cran, rforge] : 339\n",
        "Matrix on [cran, rforge] : 308\n",
        "ggplot2 on [cran, github] : 294\n",
        "lattice on [cran, rforge] : 290\n",
        "mvtnorm on [cran, rforge] : 258\n",
        "plyr on [cran, github] : 251\n",
        "survival on [cran, github, rforge] : 226\n",
        "sp on [cran, rforge] : 166\n",
        "XML on [cran] : 146\n",
        "\n",
        "Most frequent dependency for packages in bioconductor\n",
        "Biobase on [bioconductor] : 350\n",
        "IRanges on [bioconductor, github] : 183\n",
        "BiocGenerics on [bioconductor] : 180\n",
        "GenomicRanges on [bioconductor, github] : 154\n",
        "Biostrings on [bioconductor] : 106\n",
        "AnnotationDbi on [bioconductor] : 99\n",
        "limma on [cran, bioconductor] : 96\n",
        "S4Vectors on [bioconductor] : 93\n",
        "MASS on [cran] : 76\n",
        "Rsamtools on [bioconductor] : 76\n",
        "\n",
        "Most frequent dependency for packages in"
       ]
      },
      {
       "output_type": "stream",
       "stream": "stdout",
       "text": [
        " github\n",
        "ggplot2 on [cran, github] : 539\n",
        "plyr on [cran, github] : 434\n",
        "stringr on [cran, github] : 312\n",
        "reshape2 on [cran, github] : 273\n",
        "RCurl on [cran] : 238\n",
        "Rcpp on [cran, rforge] : 229\n",
        "XML on [cran] : 216\n",
        "dplyr on [cran, github] : 214\n",
        "data.table on [cran, rforge] : 196\n",
        "httr on [cran, github] : 182\n",
        "\n",
        "Most frequent dependency for packages in rforge\n",
        "MASS on [cran] : 81\n",
        "lattice on [cran, rforge] : 61\n",
        "Rcpp on [cran, rforge] : 59\n",
        "plyr on [cran, github] : 43\n",
        "Matrix on [cran, rforge] : 39\n",
        "rJava on [cran] : 35\n",
        "sp on [cran, rforge] : 34\n",
        "ggplot2 on [cran, github] : 34\n",
        "XML on [cran] : 33\n",
        "raster on [cran, rforge] : 31\n",
        "\n"
       ]
      }
     ],
     "prompt_number": 19
    }
   ],
   "metadata": {}
  }
 ]
}