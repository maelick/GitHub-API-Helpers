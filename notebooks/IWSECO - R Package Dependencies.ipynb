{
 "metadata": {
  "name": "",
  "signature": "sha256:507bd31d6e75fa229d99435b1f928010446997a54d8fff39cced47a74a20266d"
 },
 "nbformat": 3,
 "nbformat_minor": 0,
 "worksheets": [
  {
   "cells": [
    {
     "cell_type": "heading",
     "level": 1,
     "metadata": {},
     "source": [
      "D\u00e9pendances des packages R sur Github"
     ]
    },
    {
     "cell_type": "markdown",
     "metadata": {},
     "source": [
      "Pour chaque paquet collect\u00e9 sur CRAN, Github, Bioconductor et R-Forge, nous allons r\u00e9cup\u00e9rer la liste des d\u00e9pendances dans les champs \"Depends\" et \"Imports\", et \u00e9tudier la r\u00e9partition de ces d\u00e9pendances dans les diff\u00e9rentes communaut\u00e9s. En plus de ces diff\u00e9rentes communaut\u00e9s, certains packages (apparaissant dans les d\u00e9pendances) sont des paquets fournis par d\u00e9faut avec une distribution R. Ces paquets sont les suivants : "
     ]
    },
    {
     "cell_type": "code",
     "collapsed": false,
     "input": [
      "\n",
      "R_pkg = ('R MASS Matrix base boot class cluster codetools compiler datasets foreign grDevices ' +\n",
      "        'graphics grid lattice methods mgcv nlme nnet parallel rpart ' +\n",
      "        'spatial splines stats stats4 survival tcltk tools translations utils').split(' ')\n",
      "\"\"\"\n",
      "R_pkg = ('R, base, compiler, datasets, graphics, '\n",
      "         'grDevices, grid, methods, parallel, profile, splines, stats, stats4, '\n",
      "         'tcltk, tools, translations, utils').split(', ')\n",
      "\"\"\"\n",
      "\n",
      "\n",
      "sources = ['cran', 'bioconductor', 'github', 'rforge']"
     ],
     "language": "python",
     "metadata": {},
     "outputs": [],
     "prompt_number": 192
    },
    {
     "cell_type": "code",
     "collapsed": false,
     "input": [
      "%matplotlib inline\n",
      "from IPython.display import set_matplotlib_formats\n",
      "import matplotlib.pyplot as plt\n",
      "#set_matplotlib_formats('pdf')"
     ],
     "language": "python",
     "metadata": {},
     "outputs": [],
     "prompt_number": 193
    },
    {
     "cell_type": "code",
     "collapsed": false,
     "input": [
      "import pandas\n",
      "\n",
      "df = pandas.DataFrame.from_csv('../data/R-Packages.csv')\n",
      "df = df.fillna(value={'Depends': '', 'Imports': ''})\n",
      "\n",
      "df = df.drop('profile')"
     ],
     "language": "python",
     "metadata": {},
     "outputs": [],
     "prompt_number": 194
    },
    {
     "cell_type": "markdown",
     "metadata": {},
     "source": [
      "La fonction suivante va r\u00e9cup\u00e9rer les d\u00e9pendances dans les champs \"Depends\" et \"Imports\" d'une s\u00e9rie. Le parsing est naif, mais devrait matcher les paquets existants."
     ]
    },
    {
     "cell_type": "code",
     "collapsed": false,
     "input": [
      "def parse_dependencies(item):\n",
      "    depends = item['Depends'] if item['Depends'] != pandas.np.nan else ''\n",
      "    imports = item['Imports'] if item['Imports'] != pandas.np.nan else ''\n",
      "    f = lambda lst: [dep.split('(')[0].strip() for dep in lst.split(',')]\n",
      "    return filter(lambda x: len(x) > 0, f(depends) + f(imports))"
     ],
     "language": "python",
     "metadata": {},
     "outputs": [],
     "prompt_number": 195
    },
    {
     "cell_type": "markdown",
     "metadata": {},
     "source": [
      "La classe suivante sert de base \u00e0 notre graphe. Les attributs sont :\n",
      " - `name`: nom du package\n",
      " - `sources`: liste des sources o\u00f9 ce paquet peut \u00eatre trouv\u00e9\n",
      " - `source`: source principale (dans l'ordre indiqu\u00e9)\n",
      " - `dependencies`: liste des d\u00e9pendances (attendu : instances de `Package`)\n",
      " \n",
      "La m\u00e9thode `add_source` permet d'ajouter une source (`str`). La liste `dependencies` peut \u00eatre manipul\u00e9e directement."
     ]
    },
    {
     "cell_type": "code",
     "collapsed": false,
     "input": [
      "class Package(object):\n",
      "    sources = ['R', 'cran', 'bioconductor', 'github', 'rforge']\n",
      "    \n",
      "    def __init__(self, name):\n",
      "        self.name = name\n",
      "        self.sources = []\n",
      "        self.dependencies = {}\n",
      "        \n",
      "    def add_source(self, source):\n",
      "        if source not in self.sources:\n",
      "            self.sources.append(source)\n",
      "            \n",
      "    @property\n",
      "    def source(self):\n",
      "        for source in Package.sources:\n",
      "            if source in self.sources:\n",
      "                return source\n",
      "        return 'Unknown'\n",
      "    \n",
      "    def installable_with(self, sources):\n",
      "        # List of packages needed for the current one\n",
      "        relies_on = set(self.dependencies.itervalues())\n",
      "        tested = set([self])\n",
      "        \n",
      "        while len(relies_on) > 0:\n",
      "            p = relies_on.pop()\n",
      "            tested.add(p)\n",
      "            \n",
      "            # Can p be installed using current sources?\n",
      "            if len(set(sources).intersection(set(p.sources))) == 0:\n",
      "                return False\n",
      "            # Add p's dependencies\n",
      "            for d in p.dependencies.itervalues():\n",
      "                if d not in tested:\n",
      "                    relies_on.add(d)\n",
      "        return True\n",
      "    \n",
      "    def pprint(self):\n",
      "        return str(self) + ' -> ' + ', '.join(map(str, self.dependencies.itervalues()))\n",
      "    \n",
      "    def __unicode__(self):\n",
      "        return '{name} on [{sources}]'.format(name=self.name, sources=', '.join(self.sources))\n",
      "    __str__ = __repr__ = __unicode__"
     ],
     "language": "python",
     "metadata": {},
     "outputs": [],
     "prompt_number": 196
    },
    {
     "cell_type": "markdown",
     "metadata": {},
     "source": [
      "Pour chaque paquet identifi\u00e9, nous ajoutons ces sources. \n",
      "Le dictionnaire `packages` vise \u00e0 associer \u00e0 chaque nom de paquet une instance de la classe `Package`."
     ]
    },
    {
     "cell_type": "code",
     "collapsed": false,
     "input": [
      "packages = {}\n",
      "\n",
      "for name, data in df.iterrows():\n",
      "    p = Package(name)\n",
      "    for source in sources:\n",
      "        if data[source] == 1:\n",
      "            p.add_source(source)\n",
      "    packages[name] = p"
     ],
     "language": "python",
     "metadata": {},
     "outputs": [],
     "prompt_number": 197
    },
    {
     "cell_type": "markdown",
     "metadata": {},
     "source": [
      "Ajoutons *R* dans les sources avec les packages correspondants."
     ]
    },
    {
     "cell_type": "code",
     "collapsed": false,
     "input": [
      "sources.append('R')\n",
      "\n",
      "for name in R_pkg:\n",
      "    # new data:\n",
      "    p = Package(name)\n",
      "    # keep existing data:\n",
      "    # p = packages.setdefault(name, Package(name)) \n",
      "    \n",
      "    p.add_source('R')\n",
      "    packages[name] = p"
     ],
     "language": "python",
     "metadata": {},
     "outputs": [],
     "prompt_number": 198
    },
    {
     "cell_type": "markdown",
     "metadata": {},
     "source": [
      "Ajoutons les d\u00e9pendances. Si le paquet n'est pas connu de notre liste de paquets, nous cr\u00e9ons tout de m\u00eame une instance de `Package`. La source associ\u00e9e \u00e0 ce paquet sera automatiquement *Unknown* et ce paquet pourra donc \u00eatre utilis\u00e9 de fa\u00e7on transparente lors des calculs sur le graphe."
     ]
    },
    {
     "cell_type": "code",
     "collapsed": false,
     "input": [
      "for name, data in df.iterrows():\n",
      "    p = packages[name]\n",
      "    for dep in parse_dependencies(data):\n",
      "        p_dep = packages.setdefault(dep, Package(dep))\n",
      "        p.dependencies[p_dep.name] = p_dep"
     ],
     "language": "python",
     "metadata": {},
     "outputs": [],
     "prompt_number": 199
    },
    {
     "cell_type": "markdown",
     "metadata": {},
     "source": [
      "Enfin, il nous reste \u00e0 cr\u00e9er le graphe dirig\u00e9. Ce graphe est construit classiquement pour les d\u00e9pendances. A noter que les d\u00e9pendances de la source *Unknown* sont \u00e9galement dans ce graphe (qui n'est naturellement pas une composante connexe)."
     ]
    },
    {
     "cell_type": "code",
     "collapsed": false,
     "input": [
      "import networkx\n",
      "\n",
      "dg = networkx.DiGraph()\n",
      "for package in packages.itervalues():\n",
      "    dg.add_node(package)\n",
      "    for dependency in package.dependencies.itervalues():\n",
      "        dg.add_edge(package, dependency)"
     ],
     "language": "python",
     "metadata": {},
     "outputs": [],
     "prompt_number": 200
    },
    {
     "cell_type": "heading",
     "level": 2,
     "metadata": {},
     "source": [
      "Centralit\u00e9"
     ]
    },
    {
     "cell_type": "code",
     "collapsed": false,
     "input": [
      "def d2df(gd):\n",
      "    m = {}\n",
      "    for package, value in gd.iteritems():\n",
      "        m[package.name] = {'source': package.source, 'value': value}\n",
      "    return pandas.DataFrame.from_dict(m, orient='index')\n",
      "\n",
      "for name, group in d2df(networkx.in_degree_centrality(dg)).groupby(by='source'):\n",
      "    fig = plt.figure()\n",
      "    ax = fig.add_subplot(111)\n",
      "    group['value'].plot(kind='hist', figsize=(8,4), bins=10, title=name, ax=ax)"
     ],
     "language": "python",
     "metadata": {},
     "outputs": [
      {
       "metadata": {},
       "output_type": "display_data",
       "png": "[encoded data removed]",
       "text": [
        "<matplotlib.figure.Figure at 0x7f6f60063090>"
       ]
      },
      {
       "metadata": {},
       "output_type": "display_data",
       "png": "[encoded data removed]",
       "text": [
        "<matplotlib.figure.Figure at 0x7f6f68fa31d0>"
       ]
      },
      {
       "metadata": {},
       "output_type": "display_data",
       "png": "[encoded data removed]",
       "text": [
        "<matplotlib.figure.Figure at 0x7f6f60145090>"
       ]
      },
      {
       "metadata": {},
       "output_type": "display_data",
       "png": "[encoded data removed]",
       "text": [
        "<matplotlib.figure.Figure at 0x7f6f61109890>"
       ]
      },
      {
       "metadata": {},
       "output_type": "display_data",
       "png": "[encoded data removed]",
       "text": [
        "<matplotlib.figure.Figure at 0x7f6f5fc0c490>"
       ]
      },
      {
       "metadata": {},
       "output_type": "display_data",
       "png": "[encoded data removed]",
       "text": [
        "<matplotlib.figure.Figure at 0x7f6f613af490>"
       ]
      }
     ],
     "prompt_number": 201
    },
    {
     "cell_type": "heading",
     "level": 2,
     "metadata": {},
     "source": [
      "Direction des d\u00e9pendances"
     ]
    },
    {
     "cell_type": "markdown",
     "metadata": {},
     "source": [
      "Pour chaque source de packages, nous allons regarder les diff\u00e9rents paquets pr\u00e9sents dans cette source. Pour chaque paquet, nous regardons les d\u00e9pendances de ce paquet et la source principale de chacune de ces d\u00e9pendances. Une liste $S(x,y)$ est calcul\u00e9e pour chaque paire $(x,y)$ de sources. Cette liste contient l'ensemble des paquets de $x$ qui ont au moins une d\u00e9pendance dans $y$."
     ]
    },
    {
     "cell_type": "code",
     "collapsed": false,
     "input": [
      "S = {s:{s2: set() for s2 in sources + ['Unknown']} for s in sources}"
     ],
     "language": "python",
     "metadata": {},
     "outputs": [],
     "prompt_number": 202
    },
    {
     "cell_type": "code",
     "collapsed": false,
     "input": [
      "sources_needed_for = lambda p: set(map(lambda p: p.source, p.dependencies.itervalues()))\n",
      "\n",
      "for p in packages.itervalues():\n",
      "    for source in sources_needed_for(p):\n",
      "        S[p.source][source].add(p)"
     ],
     "language": "python",
     "metadata": {},
     "outputs": [],
     "prompt_number": 203
    },
    {
     "cell_type": "code",
     "collapsed": false,
     "input": [
      "scores = {s: {s2: len(S[s][s2]) for s2 in S[s].iterkeys()} for s in S.iterkeys()}"
     ],
     "language": "python",
     "metadata": {},
     "outputs": [],
     "prompt_number": 204
    },
    {
     "cell_type": "markdown",
     "metadata": {},
     "source": [
      "Le tableau suivant reprend, pour chaque ligne, le nombre de paquets ayant au moins une d\u00e9pendance vers la source indiqu\u00e9e en colonne."
     ]
    },
    {
     "cell_type": "code",
     "collapsed": false,
     "input": [
      "pandas.DataFrame.from_dict(scores).T"
     ],
     "language": "python",
     "metadata": {},
     "outputs": [
      {
       "html": [
        "<div style=\"max-height:1000px;max-width:1500px;overflow:auto;\">\n",
        "<table border=\"1\" class=\"dataframe\">\n",
        "  <thead>\n",
        "    <tr style=\"text-align: right;\">\n",
        "      <th></th>\n",
        "      <th>R</th>\n",
        "      <th>Unknown</th>\n",
        "      <th>bioconductor</th>\n",
        "      <th>cran</th>\n",
        "      <th>github</th>\n",
        "      <th>rforge</th>\n",
        "    </tr>\n",
        "  </thead>\n",
        "  <tbody>\n",
        "    <tr>\n",
        "      <th>R</th>\n",
        "      <td>14</td>\n",
        "      <td>0</td>\n",
        "      <td>0</td>\n",
        "      <td>0</td>\n",
        "      <td>0</td>\n",
        "      <td>0</td>\n",
        "    </tr>\n",
        "    <tr>\n",
        "      <th>bioconductor</th>\n",
        "      <td>917</td>\n",
        "      <td>102</td>\n",
        "      <td>769</td>\n",
        "      <td>586</td>\n",
        "      <td>3</td>\n",
        "      <td>1</td>\n",
        "    </tr>\n",
        "    <tr>\n",
        "      <th>cran</th>\n",
        "      <td>4578</td>\n",
        "      <td>4</td>\n",
        "      <td>135</td>\n",
        "      <td>3909</td>\n",
        "      <td>1</td>\n",
        "      <td>1</td>\n",
        "    </tr>\n",
        "    <tr>\n",
        "      <th>github</th>\n",
        "      <td>2190</td>\n",
        "      <td>159</td>\n",
        "      <td>273</td>\n",
        "      <td>2516</td>\n",
        "      <td>292</td>\n",
        "      <td>14</td>\n",
        "    </tr>\n",
        "    <tr>\n",
        "      <th>rforge</th>\n",
        "      <td>762</td>\n",
        "      <td>30</td>\n",
        "      <td>52</td>\n",
        "      <td>670</td>\n",
        "      <td>14</td>\n",
        "      <td>104</td>\n",
        "    </tr>\n",
        "  </tbody>\n",
        "</table>\n",
        "</div>"
       ],
       "metadata": {},
       "output_type": "pyout",
       "prompt_number": 205,
       "text": [
        "                 R  Unknown  bioconductor  cran  github  rforge\n",
        "R               14        0             0     0       0       0\n",
        "bioconductor   917      102           769   586       3       1\n",
        "cran          4578        4           135  3909       1       1\n",
        "github        2190      159           273  2516     292      14\n",
        "rforge         762       30            52   670      14     104"
       ]
      }
     ],
     "prompt_number": 205
    },
    {
     "cell_type": "markdown",
     "metadata": {},
     "source": [
      "Quels sont les paquets \"inconnus\" ?"
     ]
    },
    {
     "cell_type": "code",
     "collapsed": false,
     "input": [
      "# map(lambda p: p.name, filter(lambda p: p.source == 'Unknown', packages.itervalues()))"
     ],
     "language": "python",
     "metadata": {},
     "outputs": [],
     "prompt_number": 206
    },
    {
     "cell_type": "markdown",
     "metadata": {},
     "source": [
      "Cycles dans le graphe ?"
     ]
    },
    {
     "cell_type": "code",
     "collapsed": false,
     "input": [
      "list(networkx.simple_cycles(dg))"
     ],
     "language": "python",
     "metadata": {},
     "outputs": [
      {
       "metadata": {},
       "output_type": "pyout",
       "prompt_number": 207,
       "text": [
        "[[BioCycTU on [github]],\n",
        " [interactiveDisplay on [bioconductor],\n",
        "  AnnotationHub on [bioconductor, github]]]"
       ]
      }
     ],
     "prompt_number": 207
    },
    {
     "cell_type": "heading",
     "level": 2,
     "metadata": {},
     "source": [
      "D\u00e9pendances les plus fr\u00e9quentes par source"
     ]
    },
    {
     "cell_type": "code",
     "collapsed": false,
     "input": [
      "dg2 = dg.copy()\n",
      "dg2.remove_nodes_from(filter(lambda n: n.source == 'Unknown' or n.source == 'R', dg2.nodes_iter()))\n",
      "in_degrees = [n for n in dg2.in_degree_iter()]\n",
      "in_degrees.sort(key=lambda n: n[1], reverse=True)"
     ],
     "language": "python",
     "metadata": {},
     "outputs": [],
     "prompt_number": 208
    },
    {
     "cell_type": "markdown",
     "metadata": {},
     "source": [
      "La liste suivante reprend les d\u00e9pendances apparaissant le plus fr\u00e9quemment pour chaque source de packages. La liste *primarily* indique que ce package a comme source principale la source concern\u00e9e. La liste *also available* indique que ce paquet est **notamment** disponible sur la source concern\u00e9e. Notez bien que ce sont les d\u00e9pendances de toutes les sources vers une source sp\u00e9cifique. Pour une liste des d\u00e9pendances de chaque source, regardez (bien) plus bas."
     ]
    },
    {
     "cell_type": "code",
     "collapsed": false,
     "input": [
      "for source in ['cran', 'bioconductor', 'github', 'rforge']: \n",
      "    print 'Most frequent dependency, for all packages, primarily on', source\n",
      "    _ = filter(lambda x: x[0].source == source, in_degrees)[:10]\n",
      "    print '\\n'.join([str(n[0]) + ' : ' + str(n[1]) for n in _])\n",
      "    print"
     ],
     "language": "python",
     "metadata": {},
     "outputs": [
      {
       "output_type": "stream",
       "stream": "stdout",
       "text": [
        "Most frequent dependency, for all packages, primarily on cran\n",
        "ggplot2 on [cran, github] : 933\n",
        "plyr on [cran, github] : 769\n",
        "Rcpp on [cran, rforge] : 664\n",
        "stringr on [cran, github] : 484\n",
        "reshape2 on [cran, github] : 456\n",
        "XML on [cran] : 443\n",
        "RCurl on [cran] : 426\n",
        "mvtnorm on [cran, rforge] : 343\n",
        "RColorBrewer on [cran] : 308\n",
        "sp on [cran, rforge] : 306\n",
        "\n",
        "Most frequent dependency, for all packages, primarily on bioconductor\n",
        "Biobase on [bioconductor] : 438\n",
        "IRanges on [bioconductor, github] : 250\n",
        "GenomicRanges on [bioconductor, github] : 226\n",
        "BiocGenerics on [bioconductor] : 206\n",
        "Biostrings on [bioconductor] : 171\n",
        "limma on [bioconductor] : 143\n",
        "AnnotationDbi on [bioconductor] : 132\n",
        "graph on [bioconductor] : 113\n",
        "S4Vectors on [bioconductor] : 104\n",
        "Rsamtools on [bioconductor] : 101\n",
        "\n",
        "Most frequent dependency, for all packages, primarily on github\n",
        "FLCore on [github, rforge] : 24\n",
        "opal on [github] : 9\n",
        "wtsUtilities on [github] : 8\n",
        "rCharts on [github] : 8\n",
        "mjcbase on [github] : 8\n",
        "DatabaseConnector on [github] : 6\n",
        "SqlRender on [github] : 6\n",
        "rccmisc on [github] : 5\n",
        "stringtools on [github] : 5\n",
        "XMLSchema on [github] : 5\n",
        "\n",
        "Most frequent dependency, for all packages, primarily on rforge\n",
        "oompaBase on [rforge] : 8\n",
        "FLash on [rforge] : 5\n",
        "addendum on [rforge] : 5\n",
        "twMisc on [rforge] : 5\n",
        "easydb on [rforge] : 4\n",
        "twDEMC on [rforge] : 4\n",
        "ant on [rforge] : 4\n",
        "ClassDiscovery on [rforge] : 3\n",
        "eatTools on [rforge] : 3\n",
        "PortfolioAnalytics on [rforge] : 3\n",
        "\n"
       ]
      }
     ],
     "prompt_number": 209
    },
    {
     "cell_type": "code",
     "collapsed": false,
     "input": [
      "for source in ['cran', 'bioconductor', 'github', 'rforge']: \n",
      "    print 'Most frequent dependency, for all packages, available on', source\n",
      "    _ = filter(lambda x: source in x[0].sources, in_degrees)[:10]\n",
      "    print '\\n'.join([str(n[0]) + ' : ' + str(n[1]) for n in _])\n",
      "    print"
     ],
     "language": "python",
     "metadata": {},
     "outputs": [
      {
       "output_type": "stream",
       "stream": "stdout",
       "text": [
        "Most frequent dependency, for all packages, available on cran\n",
        "ggplot2 on [cran, github] : 933\n",
        "plyr on [cran, github] : 769\n",
        "Rcpp on [cran, rforge] : 664\n",
        "stringr on [cran, github] : 484\n",
        "reshape2 on [cran, github] : 456\n",
        "XML on [cran] : 443\n",
        "RCurl on [cran] : 426\n",
        "mvtnorm on [cran, rforge] : 343\n",
        "RColorBrewer on [cran] : 308\n",
        "sp on [cran, rforge] : 306\n",
        "\n",
        "Most frequent dependency, for all packages, available on bioconductor\n",
        "Biobase on [bioconductor] : 438\n",
        "IRanges on [bioconductor, github] : 250\n",
        "GenomicRanges on [bioconductor, github] : 226\n",
        "BiocGenerics on [bioconductor] : 206\n",
        "Biostrings on [bioconductor] : 171\n",
        "limma on [bioconductor] : 143\n",
        "AnnotationDbi on [bioconductor] : 132\n",
        "graph on [bioconductor] : 113\n",
        "S4Vectors on [bioconductor] : 104\n",
        "Rsamtools on [bioconductor] : 101\n",
        "\n",
        "Most frequent dependency, for all packages, available on github\n",
        "ggplot2 on [cran, github] : 933\n",
        "plyr on [cran, github] : 769\n",
        "stringr on [cran, github] : 484\n",
        "reshape2 on [cran, github] : 456\n",
        "httr on [cran, github] : 266\n",
        "dplyr on [cran, github] : 261\n",
        "IRanges on [bioconductor, github] : 250\n",
        "GenomicRanges on [bioconductor, github] : 226\n",
        "zoo on [cran, github, rforge] : 199\n",
        "scales on [cran, github] : 179\n",
        "\n",
        "Most frequent dependency, for all packages, available on rforge\n",
        "Rcpp on [cran, rforge] : 664\n",
        "mvtnorm on [cran, rforge] : 343\n",
        "sp on [cran, rforge] : 306\n",
        "data.table on [cran, rforge] : 286\n",
        "foreach on [cran, rforge] : 207\n",
        "zoo on [cran, github, rforge] : 199\n",
        "ape on [cran, rforge] : 190\n",
        "raster on [cran, rforge] : 178\n",
        "digest on [cran, rforge] : 163\n",
        "xtable on [cran, rforge] : 156\n",
        "\n"
       ]
      }
     ],
     "prompt_number": 210
    },
    {
     "cell_type": "markdown",
     "metadata": {},
     "source": [
      "La liste suivante reprend, pour chaque communaut\u00e9, les d\u00e9pendances les plus fr\u00e9quentes (toute source confondue)."
     ]
    },
    {
     "cell_type": "code",
     "collapsed": false,
     "input": [
      "from collections import Counter\n",
      "\n",
      "for source in ['cran', 'bioconductor', 'github', 'rforge']: \n",
      "    pkgs = filter(lambda x: x.source == source, packages.itervalues())\n",
      "    deps = []\n",
      "    for pkg in pkgs:\n",
      "        _ = filter(lambda x: x.source != 'R' and x.source != 'Unknown', pkg.dependencies.itervalues())\n",
      "        deps.extend(_)\n",
      "    print 'Most frequent dependency for packages in', source\n",
      "    print '\\n'.join([str(n[0]) + ' : ' + str(n[1]) for n in Counter(deps).most_common(10)])\n",
      "    print "
     ],
     "language": "python",
     "metadata": {},
     "outputs": [
      {
       "output_type": "stream",
       "stream": "stdout",
       "text": [
        "Most frequent dependency for packages in cran\n",
        "Rcpp on [cran, rforge] : 336\n",
        "ggplot2 on [cran, github] : 289\n",
        "mvtnorm on [cran, rforge] : 258\n",
        "plyr on [cran, github] : 248\n",
        "sp on [cran, rforge] : 169\n",
        "XML on [cran] : 144\n",
        "stringr on [cran, github] : 143\n",
        "igraph on [cran] : 142\n",
        "RCurl on [cran] : 139\n",
        "coda on [cran] : 134\n",
        "\n",
        "Most frequent dependency for packages in bioconductor\n",
        "Biobase on [bioconductor] : 352\n",
        "IRanges on [bioconductor, github] : 183\n",
        "BiocGenerics on [bioconductor] : 181\n",
        "GenomicRanges on [bioconductor, github] : 154\n",
        "Biostrings on [bioconductor] : 106\n",
        "AnnotationDbi on [bioconductor] : 99\n",
        "limma on [bioconductor] : 96\n",
        "S4Vectors on [bioconductor] : 93\n",
        "RColorBrewer on [cran] : 76\n",
        "Rsamtools on [bioconductor] : 76\n",
        "\n",
        "Most frequent dependency for packages in"
       ]
      },
      {
       "output_type": "stream",
       "stream": "stdout",
       "text": [
        " github\n",
        "ggplot2 on [cran, github] : 539\n",
        "plyr on [cran, github] : 434\n",
        "stringr on [cran, github] : 312\n",
        "reshape2 on [cran, github] : 273\n",
        "RCurl on [cran] : 239\n",
        "Rcpp on [cran, rforge] : 229\n",
        "XML on [cran] : 217\n",
        "dplyr on [cran, github] : 214\n",
        "data.table on [cran, rforge] : 196\n",
        "httr on [cran, github] : 182\n",
        "\n",
        "Most frequent dependency for packages in rforge\n",
        "Rcpp on [cran, rforge] : 59\n",
        "plyr on [cran, github] : 43\n",
        "rJava on [cran] : 35\n",
        "ggplot2 on [cran, github] : 34\n",
        "sp on [cran, rforge] : 34\n",
        "XML on [cran] : 33\n",
        "raster on [cran, rforge] : 31\n",
        "DBI on [cran, github] : 27\n",
        "zoo on [cran, github, rforge] : 27\n",
        "mvtnorm on [cran, rforge] : 24\n",
        "\n"
       ]
      }
     ],
     "prompt_number": 211
    },
    {
     "cell_type": "heading",
     "level": 2,
     "metadata": {},
     "source": [
      "Installation des paquets en tenant compte de leurs d\u00e9pendances"
     ]
    },
    {
     "cell_type": "code",
     "collapsed": false,
     "input": [
      "# Packages that are available in at least one of our true sources.\n",
      "candidates = filter(lambda p: len(p.sources) > 0 and p.sources != ['R'], packages.itervalues())"
     ],
     "language": "python",
     "metadata": {},
     "outputs": [],
     "prompt_number": 212
    },
    {
     "cell_type": "code",
     "collapsed": false,
     "input": [
      "import itertools"
     ],
     "language": "python",
     "metadata": {},
     "outputs": [],
     "prompt_number": 213
    },
    {
     "cell_type": "code",
     "collapsed": false,
     "input": [
      "repositories = ['cran', 'bioconductor', 'rforge', 'github']\n",
      "\n",
      "combs = [[]]\n",
      "combs += list(itertools.combinations(repositories, 1))\n",
      "combs += list(itertools.combinations(repositories, 2))\n",
      "combs += list(itertools.combinations(repositories, 3))\n",
      "combs += list(itertools.combinations(repositories, 4))\n",
      "\n",
      "candidates = filter(lambda p: len(p.sources) > 0, packages.itervalues())\n",
      "\n",
      "print len(candidates), 'candidates'\n",
      "\n",
      "for comb in combs:\n",
      "    comb = list(comb) + ['R']\n",
      "    installable = filter(lambda p: p.installable_with(comb), candidates)\n",
      "    print len(installable), 'installable packages using', str(comb)\n",
      "print    \n",
      "    \n",
      "for source in ['cran', 'bioconductor', 'github', 'rforge']:\n",
      "    cand = filter(lambda p: source in p.sources, candidates)\n",
      "    print len(cand), 'candidates on', source\n",
      "    for comb in combs:\n",
      "        comb = list(comb) + ['R']\n",
      "        installable = filter(lambda p: p.installable_with(comb), cand)\n",
      "        print len(installable), 'installable packages using', str(comb)\n",
      "    print"
     ],
     "language": "python",
     "metadata": {},
     "outputs": [
      {
       "output_type": "stream",
       "stream": "stdout",
       "text": [
        "12292 candidates\n",
        "4076"
       ]
      },
      {
       "output_type": "stream",
       "stream": "stdout",
       "text": [
        " installable packages using ['R']\n",
        "10532"
       ]
      },
      {
       "output_type": "stream",
       "stream": "stdout",
       "text": [
        " installable packages using ['cran', 'R']\n",
        "4288 installable packages using ['bioconductor', 'R']\n",
        "5275"
       ]
      },
      {
       "output_type": "stream",
       "stream": "stdout",
       "text": [
        " installable packages using ['rforge', 'R']\n",
        "4399"
       ]
      },
      {
       "output_type": "stream",
       "stream": "stdout",
       "text": [
        " installable packages using ['github', 'R']\n",
        "11561"
       ]
      },
      {
       "output_type": "stream",
       "stream": "stdout",
       "text": [
        " installable packages using ['cran', 'bioconductor', 'R']\n",
        "10657"
       ]
      },
      {
       "output_type": "stream",
       "stream": "stdout",
       "text": [
        " installable packages using ['cran', 'rforge', 'R']\n",
        "10788"
       ]
      },
      {
       "output_type": "stream",
       "stream": "stdout",
       "text": [
        " installable packages using ['cran', 'github', 'R']\n",
        "5535"
       ]
      },
      {
       "output_type": "stream",
       "stream": "stdout",
       "text": [
        " installable packages using ['bioconductor', 'rforge', 'R']\n",
        "4618"
       ]
      },
      {
       "output_type": "stream",
       "stream": "stdout",
       "text": [
        " installable packages using ['bioconductor', 'github', 'R']\n",
        "5794"
       ]
      },
      {
       "output_type": "stream",
       "stream": "stdout",
       "text": [
        " installable packages using ['rforge', 'github', 'R']\n",
        "11701"
       ]
      },
      {
       "output_type": "stream",
       "stream": "stdout",
       "text": [
        " installable packages using ['cran', 'bioconductor', 'rforge', 'R']\n",
        "11818"
       ]
      },
      {
       "output_type": "stream",
       "stream": "stdout",
       "text": [
        " installable packages using ['cran', 'bioconductor', 'github', 'R']\n",
        "10895"
       ]
      },
      {
       "output_type": "stream",
       "stream": "stdout",
       "text": [
        " installable packages using ['cran', 'rforge', 'github', 'R']\n",
        "6067"
       ]
      },
      {
       "output_type": "stream",
       "stream": "stdout",
       "text": [
        " installable packages using ['bioconductor', 'rforge', 'github', 'R']\n",
        "11940"
       ]
      },
      {
       "output_type": "stream",
       "stream": "stdout",
       "text": [
        " installable packages using ['cran', 'bioconductor', 'rforge', 'github', 'R']\n",
        "\n",
        "6397 candidates on cran\n",
        "2457 installable packages using ['R']\n",
        "6240"
       ]
      },
      {
       "output_type": "stream",
       "stream": "stdout",
       "text": [
        " installable packages using ['cran', 'R']\n",
        "2484 installable packages using ['bioconductor', 'R']\n",
        "3200"
       ]
      },
      {
       "output_type": "stream",
       "stream": "stdout",
       "text": [
        " installable packages using ['rforge', 'R']\n",
        "2621 installable packages using ['github', 'R']\n",
        "6385"
       ]
      },
      {
       "output_type": "stream",
       "stream": "stdout",
       "text": [
        " installable packages using ['cran', 'bioconductor', 'R']\n",
        "6241"
       ]
      },
      {
       "output_type": "stream",
       "stream": "stdout",
       "text": [
        " installable packages using ['cran', 'rforge', 'R']\n",
        "6254"
       ]
      },
      {
       "output_type": "stream",
       "stream": "stdout",
       "text": [
        " installable packages using ['cran', 'github', 'R']\n",
        "3235 installable packages using ['bioconductor', 'rforge', 'R']\n",
        "2653"
       ]
      },
      {
       "output_type": "stream",
       "stream": "stdout",
       "text": [
        " installable packages using ['bioconductor', 'github', 'R']\n",
        "3428 installable packages using ['rforge', 'github', 'R']\n",
        "6386"
       ]
      },
      {
       "output_type": "stream",
       "stream": "stdout",
       "text": [
        " installable packages using ['cran', 'bioconductor', 'rforge', 'R']\n",
        "6388"
       ]
      },
      {
       "output_type": "stream",
       "stream": "stdout",
       "text": [
        " installable packages using ['cran', 'bioconductor', 'github', 'R']\n",
        "6255"
       ]
      },
      {
       "output_type": "stream",
       "stream": "stdout",
       "text": [
        " installable packages using ['cran', 'rforge', 'github', 'R']\n",
        "3464 installable packages using ['bioconductor', 'rforge', 'github', 'R']\n",
        "6389"
       ]
      },
      {
       "output_type": "stream",
       "stream": "stdout",
       "text": [
        " installable packages using ['cran', 'bioconductor', 'rforge', 'github', 'R']\n",
        "\n",
        "997 candidates on bioconductor\n",
        "112 installable packages using ['R']\n",
        "221 installable packages using ['cran', 'R']\n",
        "265 installable packages using ['bioconductor', 'R']\n",
        "136 installable packages using ['rforge', 'R']\n",
        "117 installable packages using ['github', 'R']\n",
        "862"
       ]
      },
      {
       "output_type": "stream",
       "stream": "stdout",
       "text": [
        " installable packages using ['cran', 'bioconductor', 'R']\n",
        "222 installable packages using ['cran', 'rforge', 'R']\n",
        "227 installable packages using ['cran', 'github', 'R']\n",
        "319 installable packages using ['bioconductor', 'rforge', 'R']\n",
        "271"
       ]
      },
      {
       "output_type": "stream",
       "stream": "stdout",
       "text": [
        " installable packages using ['bioconductor', 'github', 'R']\n",
        "139 installable packages using ['rforge', 'github', 'R']\n",
        "866 installable packages using ['cran', 'bioconductor', 'rforge', 'R']\n",
        "863"
       ]
      },
      {
       "output_type": "stream",
       "stream": "stdout",
       "text": [
        " installable packages using ['cran', 'bioconductor', 'github', 'R']\n",
        "228 installable packages using ['cran', 'rforge', 'github', 'R']\n",
        "327 installable packages using ['bioconductor', 'rforge', 'github', 'R']\n",
        "867"
       ]
      },
      {
       "output_type": "stream",
       "stream": "stdout",
       "text": [
        " installable packages using ['cran', 'bioconductor', 'rforge', 'github', 'R']\n",
        "\n",
        "5148 candidates on github\n",
        "1424 installable packages using ['R']\n",
        "4317"
       ]
      },
      {
       "output_type": "stream",
       "stream": "stdout",
       "text": [
        " installable packages using ['cran', 'R']\n",
        "1466 installable packages using ['bioconductor', 'R']\n",
        "1782 installable packages using ['rforge', 'R']\n",
        "1618"
       ]
      },
      {
       "output_type": "stream",
       "stream": "stdout",
       "text": [
        " installable packages using ['github', 'R']\n",
        "4671"
       ]
      },
      {
       "output_type": "stream",
       "stream": "stdout",
       "text": [
        " installable packages using ['cran', 'bioconductor', 'R']\n",
        "4349"
       ]
      },
      {
       "output_type": "stream",
       "stream": "stdout",
       "text": [
        " installable packages using ['cran', 'rforge', 'R']\n",
        "4551"
       ]
      },
      {
       "output_type": "stream",
       "stream": "stdout",
       "text": [
        " installable packages using ['cran', 'github', 'R']\n",
        "1841 installable packages using ['bioconductor', 'rforge', 'R']\n",
        "1661"
       ]
      },
      {
       "output_type": "stream",
       "stream": "stdout",
       "text": [
        " installable packages using ['bioconductor', 'github', 'R']\n",
        "2156 installable packages using ['rforge', 'github', 'R']\n",
        "4704"
       ]
      },
      {
       "output_type": "stream",
       "stream": "stdout",
       "text": [
        " installable packages using ['cran', 'bioconductor', 'rforge', 'R']\n",
        "4920"
       ]
      },
      {
       "output_type": "stream",
       "stream": "stdout",
       "text": [
        " installable packages using ['cran', 'bioconductor', 'github', 'R']\n",
        "4569"
       ]
      },
      {
       "output_type": "stream",
       "stream": "stdout",
       "text": [
        " installable packages using ['cran', 'rforge', 'github', 'R']\n",
        "2222 installable packages using ['bioconductor', 'rforge', 'github', 'R']\n",
        "4939"
       ]
      },
      {
       "output_type": "stream",
       "stream": "stdout",
       "text": [
        " installable packages using ['cran', 'bioconductor', 'rforge', 'github', 'R']\n",
        "\n",
        "2213 candidates on rforge\n",
        "646 installable packages using ['R']\n",
        "1957 installable packages using ['cran', 'R']\n",
        "663"
       ]
      },
      {
       "output_type": "stream",
       "stream": "stdout",
       "text": [
        " installable packages using ['bioconductor', 'R']\n",
        "1062 installable packages using ['rforge', 'R']\n",
        "710 installable packages using ['github', 'R']\n",
        "2056"
       ]
      },
      {
       "output_type": "stream",
       "stream": "stdout",
       "text": [
        " installable packages using ['cran', 'bioconductor', 'R']\n",
        "2058 installable packages using ['cran', 'rforge', 'R']\n",
        "1975"
       ]
      },
      {
       "output_type": "stream",
       "stream": "stdout",
       "text": [
        " installable packages using ['cran', 'github', 'R']\n",
        "1081 installable packages using ['bioconductor', 'rforge', 'R']\n",
        "728 installable packages using ['bioconductor', 'github', 'R']\n",
        "1116 installable packages using ['rforge', 'github', 'R']\n",
        "2166"
       ]
      },
      {
       "output_type": "stream",
       "stream": "stdout",
       "text": [
        " installable packages using ['cran', 'bioconductor', 'rforge', 'R']\n",
        "2073 installable packages using ['cran', 'bioconductor', 'github', 'R']\n",
        "2069"
       ]
      },
      {
       "output_type": "stream",
       "stream": "stdout",
       "text": [
        " installable packages using ['cran', 'rforge', 'github', 'R']\n",
        "1134 installable packages using ['bioconductor', 'rforge', 'github', 'R']\n",
        "2176"
       ]
      },
      {
       "output_type": "stream",
       "stream": "stdout",
       "text": [
        " installable packages using ['cran', 'bioconductor', 'rforge', 'github', 'R']\n",
        "\n"
       ]
      }
     ],
     "prompt_number": 214
    }
   ],
   "metadata": {}
  }
 ]
}