{
 "metadata": {
  "name": "",
  "signature": "sha256:5bcbc2398f69142e17f064860c0c4894ae1ae7fabbe99ef3101980c06b69a9b8"
 },
 "nbformat": 3,
 "nbformat_minor": 0,
 "worksheets": [
  {
   "cells": [
    {
     "cell_type": "heading",
     "level": 1,
     "metadata": {},
     "source": [
      "D\u00e9pendances des packages R sur Github"
     ]
    },
    {
     "cell_type": "markdown",
     "metadata": {},
     "source": [
      "Pour chaque paquet collect\u00e9 sur CRAN, Github, Bioconductor et R-Forge, nous allons r\u00e9cup\u00e9rer la liste des d\u00e9pendances dans les champs \"Depends\" et \"Imports\", et \u00e9tudier la r\u00e9partition de ces d\u00e9pendances dans les diff\u00e9rentes communaut\u00e9s. En plus de ces diff\u00e9rentes communaut\u00e9s, certains packages (apparaissant dans les d\u00e9pendances) sont des paquets fournis par d\u00e9faut avec une distribution R. Ces paquets sont les suivants : "
     ]
    },
    {
     "cell_type": "code",
     "collapsed": false,
     "input": [
      "\"\"\"\n",
      "R_pkg = ('R MASS Matrix base boot class cluster codetools compiler datasets foreign grDevices ' +\n",
      "        'graphics grid lattice manipulate methods mgcv nlme nnet parallel rpart rstudio' +\n",
      "        'spatial splines stats stats4 stringr survival tcltk tools translations utils').split(' ')\n",
      "\"\"\"\n",
      "R_pkg = ('R, base, compiler, datasets, graphics, '\n",
      "         'grDevices, grid, methods, parallel, profile, splines, stats, stats4, '\n",
      "         'tcltk, tools, translations, utils').split(', ')\n",
      "\n",
      "sources = ['cran', 'bioconductor', 'rforge', 'github']"
     ],
     "language": "python",
     "metadata": {},
     "outputs": [],
     "prompt_number": 225
    },
    {
     "cell_type": "code",
     "collapsed": false,
     "input": [
      "%matplotlib inline\n",
      "from IPython.display import set_matplotlib_formats\n",
      "import matplotlib.pyplot as plt\n",
      "#set_matplotlib_formats('pdf')"
     ],
     "language": "python",
     "metadata": {},
     "outputs": [],
     "prompt_number": 226
    },
    {
     "cell_type": "code",
     "collapsed": false,
     "input": [
      "import pandas\n",
      "\n",
      "df = pandas.DataFrame.from_csv('../data/R-Packages.csv')\n",
      "df = df.fillna(value={'Depends': '', 'Imports': ''})\n",
      "\n",
      "df = df.drop('profile')"
     ],
     "language": "python",
     "metadata": {},
     "outputs": [],
     "prompt_number": 227
    },
    {
     "cell_type": "markdown",
     "metadata": {},
     "source": [
      "La fonction suivante va r\u00e9cup\u00e9rer les d\u00e9pendances dans les champs \"Depends\" et \"Imports\" d'une s\u00e9rie. Le parsing est naif, mais devrait matcher les paquets existants."
     ]
    },
    {
     "cell_type": "code",
     "collapsed": false,
     "input": [
      "def parse_dependencies(item):\n",
      "    depends = item['Depends'] if item['Depends'] != pandas.np.nan else ''\n",
      "    imports = item['Imports'] if item['Imports'] != pandas.np.nan else ''\n",
      "    f = lambda lst: [dep.split('(')[0].strip() for dep in lst.split(',')]\n",
      "    return filter(lambda x: len(x) > 0, f(depends) + f(imports))"
     ],
     "language": "python",
     "metadata": {},
     "outputs": [],
     "prompt_number": 228
    },
    {
     "cell_type": "markdown",
     "metadata": {},
     "source": [
      "La classe suivante sert de base \u00e0 notre graphe. Les attributs sont :\n",
      " - `name`: nom du package\n",
      " - `sources`: liste des sources o\u00f9 ce paquet peut \u00eatre trouv\u00e9\n",
      " - `source`: source principale (dans l'ordre indiqu\u00e9)\n",
      " - `dependencies`: liste des d\u00e9pendances (attendu : instances de `Package`)\n",
      " \n",
      "La m\u00e9thode `add_source` permet d'ajouter une source (`str`). La liste `dependencies` peut \u00eatre manipul\u00e9e directement."
     ]
    },
    {
     "cell_type": "code",
     "collapsed": false,
     "input": [
      "class Package(object):\n",
      "    sources = ['R', 'cran', 'bioconductor', 'rforge', 'github']\n",
      "    \n",
      "    def __init__(self, name):\n",
      "        self.name = name\n",
      "        self.sources = []\n",
      "        self.dependencies = {}\n",
      "        \n",
      "    def add_source(self, source):\n",
      "        if source not in self.sources:\n",
      "            self.sources.append(source)\n",
      "            \n",
      "    @property\n",
      "    def source(self):\n",
      "        for source in Package.sources:\n",
      "            if source in self.sources:\n",
      "                return source\n",
      "        return 'Unknown'\n",
      "    \n",
      "    def pprint(self):\n",
      "        return str(self) + ' -> ' + ', '.join(map(str, self.dependencies.itervalues()))\n",
      "    \n",
      "    def __unicode__(self):\n",
      "        return '{name} on [{sources}]'.format(name=self.name, sources=', '.join(self.sources))\n",
      "    __str__ = __repr__ = __unicode__"
     ],
     "language": "python",
     "metadata": {},
     "outputs": [],
     "prompt_number": 229
    },
    {
     "cell_type": "markdown",
     "metadata": {},
     "source": [
      "Pour chaque paquet identifi\u00e9, nous ajoutons ces sources. \n",
      "Le dictionnaire `packages` vise \u00e0 associer \u00e0 chaque nom de paquet une instance de la classe `Package`."
     ]
    },
    {
     "cell_type": "code",
     "collapsed": false,
     "input": [
      "packages = {}\n",
      "\n",
      "for name, data in df.iterrows():\n",
      "    p = Package(name)\n",
      "    for source in sources:\n",
      "        if data[source] == 1:\n",
      "            p.add_source(source)\n",
      "    packages[name] = p"
     ],
     "language": "python",
     "metadata": {},
     "outputs": [],
     "prompt_number": 230
    },
    {
     "cell_type": "markdown",
     "metadata": {},
     "source": [
      "Ajoutons *R* dans les sources avec les packages correspondants."
     ]
    },
    {
     "cell_type": "code",
     "collapsed": false,
     "input": [
      "sources.append('R')\n",
      "\n",
      "for name in R_pkg:\n",
      "    # new data:\n",
      "    p = Package(name)\n",
      "    # keep existing data:\n",
      "    # p = packages.setdefault(name, Package(name)) \n",
      "    \n",
      "    p.add_source('R')\n",
      "    packages[name] = p"
     ],
     "language": "python",
     "metadata": {},
     "outputs": [],
     "prompt_number": 231
    },
    {
     "cell_type": "markdown",
     "metadata": {},
     "source": [
      "Ajoutons les d\u00e9pendances. Si le paquet n'est pas connu de notre liste de paquets, nous cr\u00e9ons tout de m\u00eame une instance de `Package`. La source associ\u00e9e \u00e0 ce paquet sera automatiquement *Unknown* et ce paquet pourra donc \u00eatre utilis\u00e9 de fa\u00e7on transparente lors des calculs sur le graphe."
     ]
    },
    {
     "cell_type": "code",
     "collapsed": false,
     "input": [
      "for name, data in df.iterrows():\n",
      "    p = packages[name]\n",
      "    for dep in parse_dependencies(data):\n",
      "        p_dep = packages.setdefault(dep, Package(dep))\n",
      "        p.dependencies[p_dep.name] = p_dep"
     ],
     "language": "python",
     "metadata": {},
     "outputs": [],
     "prompt_number": 232
    },
    {
     "cell_type": "markdown",
     "metadata": {},
     "source": [
      "Enfin, il nous reste \u00e0 cr\u00e9er le graphe dirig\u00e9. Ce graphe est construit classiquement pour les d\u00e9pendances. A noter que les d\u00e9pendances de la source *Unknown* sont \u00e9galement dans ce graphe (qui n'est naturellement pas une composante connexe)."
     ]
    },
    {
     "cell_type": "code",
     "collapsed": false,
     "input": [
      "import networkx\n",
      "\n",
      "dg = networkx.DiGraph()\n",
      "for package in packages.itervalues():\n",
      "    dg.add_node(package)\n",
      "    for dependency in package.dependencies.itervalues():\n",
      "        dg.add_edge(package, dependency)"
     ],
     "language": "python",
     "metadata": {},
     "outputs": [],
     "prompt_number": 233
    },
    {
     "cell_type": "heading",
     "level": 2,
     "metadata": {},
     "source": [
      "Centralit\u00e9"
     ]
    },
    {
     "cell_type": "code",
     "collapsed": false,
     "input": [
      "def d2df(gd):\n",
      "    m = {}\n",
      "    for package, value in gd.iteritems():\n",
      "        m[package.name] = {'source': package.source, 'value': value}\n",
      "    return pandas.DataFrame.from_dict(m, orient='index')\n",
      "\n",
      "for name, group in d2df(networkx.in_degree_centrality(dg)).groupby(by='source'):\n",
      "    fig = plt.figure()\n",
      "    ax = fig.add_subplot(111)\n",
      "    group['value'].plot(kind='hist', figsize=(8,4), bins=10, title=name, ax=ax)"
     ],
     "language": "python",
     "metadata": {},
     "outputs": [
      {
       "metadata": {},
       "output_type": "display_data",
       "png": "[encoded data removed]",
       "text": [
        "<matplotlib.figure.Figure at 0x7f56829a5f90>"
       ]
      },
      {
       "metadata": {},
       "output_type": "display_data",
       "png": "[encoded data removed]",
       "text": [
        "<matplotlib.figure.Figure at 0x7f568137ca10>"
       ]
      },
      {
       "metadata": {},
       "output_type": "display_data",
       "png": "[encoded data removed]",
       "text": [
        "<matplotlib.figure.Figure at 0x7f5681422310>"
       ]
      },
      {
       "metadata": {},
       "output_type": "display_data",
       "png": "[encoded data removed]",
       "text": [
        "<matplotlib.figure.Figure at 0x7f5682943490>"
       ]
      },
      {
       "metadata": {},
       "output_type": "display_data",
       "png": "[encoded data removed]",
       "text": [
        "<matplotlib.figure.Figure at 0x7f5682943390>"
       ]
      },
      {
       "metadata": {},
       "output_type": "display_data",
       "png": "[encoded data removed]",
       "text": [
        "<matplotlib.figure.Figure at 0x7f5682b8e490>"
       ]
      }
     ],
     "prompt_number": 234
    },
    {
     "cell_type": "heading",
     "level": 2,
     "metadata": {},
     "source": [
      "Direction des d\u00e9pendances"
     ]
    },
    {
     "cell_type": "markdown",
     "metadata": {},
     "source": [
      "Pour chaque source de packages, nous allons regarder les diff\u00e9rents paquets pr\u00e9sents dans cette source. Pour chaque paquet, nous regardons les d\u00e9pendances de ce paquet et la source principale de chacune de ces d\u00e9pendances. Une liste $S(x,y)$ est calcul\u00e9e pour chaque paire $(x,y)$ de sources. Cette liste contient l'ensemble des paquets de $x$ qui ont au moins une d\u00e9pendance dans $y$."
     ]
    },
    {
     "cell_type": "code",
     "collapsed": false,
     "input": [
      "S = {s:{s2: set() for s2 in sources + ['Unknown']} for s in sources}"
     ],
     "language": "python",
     "metadata": {},
     "outputs": [],
     "prompt_number": 262
    },
    {
     "cell_type": "code",
     "collapsed": false,
     "input": [
      "sources_needed_for = lambda p: set(map(lambda p: p.source, p.dependencies.itervalues()))\n",
      "\n",
      "for p in packages.itervalues():\n",
      "    for source in sources_needed_for(p):\n",
      "        S[p.source][source].add(p)"
     ],
     "language": "python",
     "metadata": {},
     "outputs": [],
     "prompt_number": 263
    },
    {
     "cell_type": "code",
     "collapsed": false,
     "input": [
      "scores = {s: {s2: len(S[s][s2]) for s2 in S[s].iterkeys()} for s in S.iterkeys()}"
     ],
     "language": "python",
     "metadata": {},
     "outputs": [],
     "prompt_number": 264
    },
    {
     "cell_type": "code",
     "collapsed": false,
     "input": [
      "pandas.DataFrame.from_dict(scores).T"
     ],
     "language": "python",
     "metadata": {},
     "outputs": [
      {
       "html": [
        "<div style=\"max-height:1000px;max-width:1500px;overflow:auto;\">\n",
        "<table border=\"1\" class=\"dataframe\">\n",
        "  <thead>\n",
        "    <tr style=\"text-align: right;\">\n",
        "      <th></th>\n",
        "      <th>R</th>\n",
        "      <th>Unknown</th>\n",
        "      <th>bioconductor</th>\n",
        "      <th>cran</th>\n",
        "      <th>github</th>\n",
        "      <th>rforge</th>\n",
        "    </tr>\n",
        "  </thead>\n",
        "  <tbody>\n",
        "    <tr>\n",
        "      <th>R</th>\n",
        "      <td>1</td>\n",
        "      <td>0</td>\n",
        "      <td>0</td>\n",
        "      <td>0</td>\n",
        "      <td>0</td>\n",
        "      <td>0</td>\n",
        "    </tr>\n",
        "    <tr>\n",
        "      <th>bioconductor</th>\n",
        "      <td>878</td>\n",
        "      <td>96</td>\n",
        "      <td>713</td>\n",
        "      <td>681</td>\n",
        "      <td>1</td>\n",
        "      <td>1</td>\n",
        "    </tr>\n",
        "    <tr>\n",
        "      <th>cran</th>\n",
        "      <td>4763</td>\n",
        "      <td>23</td>\n",
        "      <td>126</td>\n",
        "      <td>4782</td>\n",
        "      <td>0</td>\n",
        "      <td>5</td>\n",
        "    </tr>\n",
        "    <tr>\n",
        "      <th>github</th>\n",
        "      <td>1985</td>\n",
        "      <td>130</td>\n",
        "      <td>239</td>\n",
        "      <td>2506</td>\n",
        "      <td>262</td>\n",
        "      <td>12</td>\n",
        "    </tr>\n",
        "    <tr>\n",
        "      <th>rforge</th>\n",
        "      <td>706</td>\n",
        "      <td>11</td>\n",
        "      <td>42</td>\n",
        "      <td>731</td>\n",
        "      <td>3</td>\n",
        "      <td>99</td>\n",
        "    </tr>\n",
        "  </tbody>\n",
        "</table>\n",
        "</div>"
       ],
       "metadata": {},
       "output_type": "pyout",
       "prompt_number": 268,
       "text": [
        "                 R  Unknown  bioconductor  cran  github  rforge\n",
        "R                1        0             0     0       0       0\n",
        "bioconductor   878       96           713   681       1       1\n",
        "cran          4763       23           126  4782       0       5\n",
        "github        1985      130           239  2506     262      12\n",
        "rforge         706       11            42   731       3      99"
       ]
      }
     ],
     "prompt_number": 268
    },
    {
     "cell_type": "code",
     "collapsed": false,
     "input": [
      "for p in S['cran']['rforge']:\n",
      "    print p\n",
      "    print filter(lambda p: p.source == 'rforge', p.dependencies.values())"
     ],
     "language": "python",
     "metadata": {},
     "outputs": [
      {
       "output_type": "stream",
       "stream": "stdout",
       "text": [
        "fCalendar on [cran]\n",
        "[fEcofin on [rforge]]\n",
        "Rmetrics on [cran]\n",
        "[fEcofin on [rforge]]\n",
        "rneos on [cran, rforge]\n",
        "[XMLRPC on [rforge]]\n",
        "HierO on [cran]\n",
        "[XMLRPC on [rforge]]\n",
        "fSeries on [cran]\n",
        "[fEcofin on [rforge]]\n"
       ]
      }
     ],
     "prompt_number": 274
    }
   ],
   "metadata": {}
  }
 ]
}