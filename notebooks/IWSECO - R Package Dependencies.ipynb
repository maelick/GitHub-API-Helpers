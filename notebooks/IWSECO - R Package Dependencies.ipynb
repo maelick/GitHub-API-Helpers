{
 "metadata": {
  "name": "",
  "signature": "sha256:f11527fb4195da238594a7dee87c1eb1faf57692e9ecf9ed20ad8e38600f8a36"
 },
 "nbformat": 3,
 "nbformat_minor": 0,
 "worksheets": [
  {
   "cells": [
    {
     "cell_type": "heading",
     "level": 1,
     "metadata": {},
     "source": [
      "D\u00e9pendances des packages R sur Github"
     ]
    },
    {
     "cell_type": "markdown",
     "metadata": {},
     "source": [
      "Pour chaque paquet collect\u00e9 sur CRAN, Github, Bioconductor et R-Forge, nous allons r\u00e9cup\u00e9rer la liste des d\u00e9pendances dans les champs \"Depends\" et \"Imports\", et \u00e9tudier la r\u00e9partition de ces d\u00e9pendances dans les diff\u00e9rentes communaut\u00e9s. En plus de ces diff\u00e9rentes communaut\u00e9s, certains packages (apparaissant dans les d\u00e9pendances) sont des paquets fournis par d\u00e9faut avec une distribution R. Ces paquets sont les suivants : "
     ]
    },
    {
     "cell_type": "code",
     "collapsed": false,
     "input": [
      "\"\"\"\n",
      "R_pkg = ('R MASS Matrix base boot class cluster codetools compiler datasets foreign grDevices ' +\n",
      "        'graphics grid lattice manipulate methods mgcv nlme nnet parallel rpart rstudio' +\n",
      "        'spatial splines stats stats4 stringr survival tcltk tools translations utils').split(' ')\n",
      "\"\"\"\n",
      "R_pkg = ('R, base, compiler, datasets, graphics, '\n",
      "         'grDevices, grid, methods, parallel, profile, splines, stats, stats4, '\n",
      "         'tcltk, tools, translations, utils').split(', ')\n",
      "\n",
      "sources = ['cran', 'bioconductor', 'rforge', 'github']"
     ],
     "language": "python",
     "metadata": {},
     "outputs": [],
     "prompt_number": 87
    },
    {
     "cell_type": "code",
     "collapsed": false,
     "input": [
      "%matplotlib inline\n",
      "from IPython.display import set_matplotlib_formats\n",
      "import matplotlib.pyplot as plt\n",
      "#set_matplotlib_formats('pdf')"
     ],
     "language": "python",
     "metadata": {},
     "outputs": [],
     "prompt_number": 88
    },
    {
     "cell_type": "code",
     "collapsed": false,
     "input": [
      "import pandas\n",
      "\n",
      "df = pandas.DataFrame.from_csv('../data/R-Packages.csv')\n",
      "df = df.fillna(value={'Depends': '', 'Imports': ''})\n",
      "\n",
      "df = df.drop('profile')"
     ],
     "language": "python",
     "metadata": {},
     "outputs": [],
     "prompt_number": 89
    },
    {
     "cell_type": "markdown",
     "metadata": {},
     "source": [
      "La fonction suivante va r\u00e9cup\u00e9rer les d\u00e9pendances dans les champs \"Depends\" et \"Imports\" d'une s\u00e9rie. Le parsing est naif, mais devrait matcher les paquets existants."
     ]
    },
    {
     "cell_type": "code",
     "collapsed": false,
     "input": [
      "def parse_dependencies(item):\n",
      "    depends = item['Depends'] if item['Depends'] != pandas.np.nan else ''\n",
      "    imports = item['Imports'] if item['Imports'] != pandas.np.nan else ''\n",
      "    f = lambda lst: [dep.split('(')[0].strip() for dep in lst.split(',')]\n",
      "    return filter(lambda x: len(x) > 0, f(depends) + f(imports))"
     ],
     "language": "python",
     "metadata": {},
     "outputs": [],
     "prompt_number": 90
    },
    {
     "cell_type": "markdown",
     "metadata": {},
     "source": [
      "La classe suivante sert de base \u00e0 notre graphe. Les attributs sont :\n",
      " - `name`: nom du package\n",
      " - `sources`: liste des sources o\u00f9 ce paquet peut \u00eatre trouv\u00e9\n",
      " - `source`: source principale (dans l'ordre indiqu\u00e9)\n",
      " - `dependencies`: liste des d\u00e9pendances (attendu : instances de `Package`)\n",
      " \n",
      "La m\u00e9thode `add_source` permet d'ajouter une source (`str`). La liste `dependencies` peut \u00eatre manipul\u00e9e directement."
     ]
    },
    {
     "cell_type": "code",
     "collapsed": false,
     "input": [
      "class Package(object):\n",
      "    sources = ['R', 'cran', 'bioconductor', 'rforge', 'github']\n",
      "    \n",
      "    def __init__(self, name):\n",
      "        self.name = name\n",
      "        self.sources = []\n",
      "        self.dependencies = {}\n",
      "        \n",
      "    def add_source(self, source):\n",
      "        if source not in self.sources:\n",
      "            self.sources.append(source)\n",
      "            \n",
      "    @property\n",
      "    def source(self):\n",
      "        for source in Package.sources:\n",
      "            if source in self.sources:\n",
      "                return source\n",
      "        return 'Unknown'\n",
      "    \n",
      "    def pprint(self):\n",
      "        return str(self) + ' -> ' + ', '.join(map(str, self.dependencies.itervalues()))\n",
      "    \n",
      "    def __unicode__(self):\n",
      "        return '{name} on [{sources}]'.format(name=self.name, sources=', '.join(self.sources))\n",
      "    __str__ = __repr__ = __unicode__"
     ],
     "language": "python",
     "metadata": {},
     "outputs": [],
     "prompt_number": 91
    },
    {
     "cell_type": "markdown",
     "metadata": {},
     "source": [
      "Pour chaque paquet identifi\u00e9, nous ajoutons ces sources. \n",
      "Le dictionnaire `packages` vise \u00e0 associer \u00e0 chaque nom de paquet une instance de la classe `Package`."
     ]
    },
    {
     "cell_type": "code",
     "collapsed": false,
     "input": [
      "packages = {}\n",
      "\n",
      "for name, data in df.iterrows():\n",
      "    p = Package(name)\n",
      "    for source in sources:\n",
      "        if data[source] == 1:\n",
      "            p.add_source(source)\n",
      "    packages[name] = p"
     ],
     "language": "python",
     "metadata": {},
     "outputs": [],
     "prompt_number": 92
    },
    {
     "cell_type": "markdown",
     "metadata": {},
     "source": [
      "Ajoutons *R* dans les sources avec les packages correspondants."
     ]
    },
    {
     "cell_type": "code",
     "collapsed": false,
     "input": [
      "sources.append('R')\n",
      "\n",
      "for name in R_pkg:\n",
      "    # new data:\n",
      "    p = Package(name)\n",
      "    # keep existing data:\n",
      "    # p = packages.setdefault(name, Package(name)) \n",
      "    \n",
      "    p.add_source('R')\n",
      "    packages[name] = p"
     ],
     "language": "python",
     "metadata": {},
     "outputs": [],
     "prompt_number": 93
    },
    {
     "cell_type": "markdown",
     "metadata": {},
     "source": [
      "Ajoutons les d\u00e9pendances. Si le paquet n'est pas connu de notre liste de paquets, nous cr\u00e9ons tout de m\u00eame une instance de `Package`. La source associ\u00e9e \u00e0 ce paquet sera automatiquement *Unknown* et ce paquet pourra donc \u00eatre utilis\u00e9 de fa\u00e7on transparente lors des calculs sur le graphe."
     ]
    },
    {
     "cell_type": "code",
     "collapsed": false,
     "input": [
      "for name, data in df.iterrows():\n",
      "    p = packages[name]\n",
      "    for dep in parse_dependencies(data):\n",
      "        p_dep = packages.setdefault(dep, Package(dep))\n",
      "        p.dependencies[p_dep.name] = p_dep"
     ],
     "language": "python",
     "metadata": {},
     "outputs": [],
     "prompt_number": 94
    },
    {
     "cell_type": "markdown",
     "metadata": {},
     "source": [
      "Enfin, il nous reste \u00e0 cr\u00e9er le graphe dirig\u00e9. Ce graphe est construit classiquement pour les d\u00e9pendances. A noter que les d\u00e9pendances de la source *Unknown* sont \u00e9galement dans ce graphe (qui n'est naturellement pas une composante connexe)."
     ]
    },
    {
     "cell_type": "code",
     "collapsed": false,
     "input": [
      "import networkx\n",
      "\n",
      "dg = networkx.DiGraph()\n",
      "for package in packages.itervalues():\n",
      "    dg.add_node(package)\n",
      "    for dependency in package.dependencies.itervalues():\n",
      "        dg.add_edge(package, dependency)"
     ],
     "language": "python",
     "metadata": {},
     "outputs": [],
     "prompt_number": 95
    },
    {
     "cell_type": "heading",
     "level": 2,
     "metadata": {},
     "source": [
      "Centralit\u00e9"
     ]
    },
    {
     "cell_type": "code",
     "collapsed": false,
     "input": [
      "def d2df(gd):\n",
      "    m = {}\n",
      "    for package, value in gd.iteritems():\n",
      "        m[package.name] = {'source': package.source, 'value': value}\n",
      "    return pandas.DataFrame.from_dict(m, orient='index')\n",
      "\n",
      "for name, group in d2df(networkx.in_degree_centrality(dg)).groupby(by='source'):\n",
      "    fig = plt.figure()\n",
      "    ax = fig.add_subplot(111)\n",
      "    group['value'].plot(kind='hist', figsize=(8,4), bins=10, title=name, ax=ax)"
     ],
     "language": "python",
     "metadata": {},
     "outputs": [
      {
       "metadata": {},
       "output_type": "display_data",
       "png": "[encoded data removed]",
       "text": [
        "<matplotlib.figure.Figure at 0x7f4020dfa910>"
       ]
      },
      {
       "metadata": {},
       "output_type": "display_data",
       "png": "[encoded data removed]",
       "text": [
        "<matplotlib.figure.Figure at 0x7f4024ef23d0>"
       ]
      },
      {
       "metadata": {},
       "output_type": "display_data",
       "png": "[encoded data removed]",
       "text": [
        "<matplotlib.figure.Figure at 0x7f4023da29d0>"
       ]
      },
      {
       "metadata": {},
       "output_type": "display_data",
       "png": "[encoded data removed]",
       "text": [
        "<matplotlib.figure.Figure at 0x7f4024487450>"
       ]
      },
      {
       "metadata": {},
       "output_type": "display_data",
       "png": "[encoded data removed]",
       "text": [
        "<matplotlib.figure.Figure at 0x7f402a7fc590>"
       ]
      },
      {
       "metadata": {},
       "output_type": "display_data",
       "png": "[encoded data removed]",
       "text": [
        "<matplotlib.figure.Figure at 0x7f40210ec890>"
       ]
      }
     ],
     "prompt_number": 96
    },
    {
     "cell_type": "heading",
     "level": 2,
     "metadata": {},
     "source": [
      "Direction des d\u00e9pendances"
     ]
    },
    {
     "cell_type": "markdown",
     "metadata": {},
     "source": [
      "Pour chaque source de packages, nous allons regarder les diff\u00e9rents paquets pr\u00e9sents dans cette source. Pour chaque paquet, nous regardons les d\u00e9pendances de ce paquet et la source principale de chacune de ces d\u00e9pendances. Une liste $S(x,y)$ est calcul\u00e9e pour chaque paire $(x,y)$ de sources. Cette liste contient l'ensemble des paquets de $x$ qui ont au moins une d\u00e9pendance dans $y$."
     ]
    },
    {
     "cell_type": "code",
     "collapsed": false,
     "input": [
      "S = {s:{s2: set() for s2 in sources + ['Unknown']} for s in sources}"
     ],
     "language": "python",
     "metadata": {},
     "outputs": [],
     "prompt_number": 97
    },
    {
     "cell_type": "code",
     "collapsed": false,
     "input": [
      "sources_needed_for = lambda p: set(map(lambda p: p.source, p.dependencies.itervalues()))\n",
      "\n",
      "for p in packages.itervalues():\n",
      "    for source in sources_needed_for(p):\n",
      "        S[p.source][source].add(p)"
     ],
     "language": "python",
     "metadata": {},
     "outputs": [],
     "prompt_number": 98
    },
    {
     "cell_type": "code",
     "collapsed": false,
     "input": [
      "scores = {s: {s2: len(S[s][s2]) for s2 in S[s].iterkeys()} for s in S.iterkeys()}"
     ],
     "language": "python",
     "metadata": {},
     "outputs": [],
     "prompt_number": 99
    },
    {
     "cell_type": "markdown",
     "metadata": {},
     "source": [
      "Le tableau suivant reprend, pour chaque ligne, le nombre de paquets ayant au moins une d\u00e9pendance vers la source indiqu\u00e9e en colonne."
     ]
    },
    {
     "cell_type": "code",
     "collapsed": false,
     "input": [
      "pandas.DataFrame.from_dict(scores).T"
     ],
     "language": "python",
     "metadata": {},
     "outputs": [
      {
       "html": [
        "<div style=\"max-height:1000px;max-width:1500px;overflow:auto;\">\n",
        "<table border=\"1\" class=\"dataframe\">\n",
        "  <thead>\n",
        "    <tr style=\"text-align: right;\">\n",
        "      <th></th>\n",
        "      <th>R</th>\n",
        "      <th>Unknown</th>\n",
        "      <th>bioconductor</th>\n",
        "      <th>cran</th>\n",
        "      <th>github</th>\n",
        "      <th>rforge</th>\n",
        "    </tr>\n",
        "  </thead>\n",
        "  <tbody>\n",
        "    <tr>\n",
        "      <th>R</th>\n",
        "      <td>0</td>\n",
        "      <td>0</td>\n",
        "      <td>0</td>\n",
        "      <td>0</td>\n",
        "      <td>0</td>\n",
        "      <td>0</td>\n",
        "    </tr>\n",
        "    <tr>\n",
        "      <th>bioconductor</th>\n",
        "      <td>897</td>\n",
        "      <td>99</td>\n",
        "      <td>723</td>\n",
        "      <td>695</td>\n",
        "      <td>1</td>\n",
        "      <td>1</td>\n",
        "    </tr>\n",
        "    <tr>\n",
        "      <th>cran</th>\n",
        "      <td>4094</td>\n",
        "      <td>20</td>\n",
        "      <td>85</td>\n",
        "      <td>4138</td>\n",
        "      <td>5</td>\n",
        "      <td>3</td>\n",
        "    </tr>\n",
        "    <tr>\n",
        "      <th>github</th>\n",
        "      <td>2020</td>\n",
        "      <td>159</td>\n",
        "      <td>244</td>\n",
        "      <td>2539</td>\n",
        "      <td>269</td>\n",
        "      <td>25</td>\n",
        "    </tr>\n",
        "    <tr>\n",
        "      <th>rforge</th>\n",
        "      <td>785</td>\n",
        "      <td>30</td>\n",
        "      <td>46</td>\n",
        "      <td>796</td>\n",
        "      <td>4</td>\n",
        "      <td>124</td>\n",
        "    </tr>\n",
        "  </tbody>\n",
        "</table>\n",
        "</div>"
       ],
       "metadata": {},
       "output_type": "pyout",
       "prompt_number": 100,
       "text": [
        "                 R  Unknown  bioconductor  cran  github  rforge\n",
        "R                0        0             0     0       0       0\n",
        "bioconductor   897       99           723   695       1       1\n",
        "cran          4094       20            85  4138       5       3\n",
        "github        2020      159           244  2539     269      25\n",
        "rforge         785       30            46   796       4     124"
       ]
      }
     ],
     "prompt_number": 100
    },
    {
     "cell_type": "heading",
     "level": 2,
     "metadata": {},
     "source": [
      "D\u00e9pendances les plus fr\u00e9quentes par source"
     ]
    },
    {
     "cell_type": "code",
     "collapsed": false,
     "input": [
      "dg2 = dg.copy()\n",
      "dg2.remove_nodes_from(filter(lambda n: n.source == 'Unknown' or n.source == 'R', dg2.nodes_iter()))\n",
      "in_degrees = [n for n in dg2.in_degree_iter()]\n",
      "in_degrees.sort(key=lambda n: n[1], reverse=True)"
     ],
     "language": "python",
     "metadata": {},
     "outputs": [],
     "prompt_number": 101
    },
    {
     "cell_type": "markdown",
     "metadata": {},
     "source": [
      "La liste suivante reprend les d\u00e9pendances apparaissant le plus fr\u00e9quemment pour chaque source de packages. La liste *exclusively* indique que ce package n'est disponible **que** sur la source concern\u00e9e. La liste *also available* indique que ce paquet est **notamment** disponible sur la source concern\u00e9e. Notez bien que ce sont les d\u00e9pendances de toutes les sources vers une source sp\u00e9cifique. Pour une liste des d\u00e9pendances de chaque source, regardez (bien) plus bas."
     ]
    },
    {
     "cell_type": "code",
     "collapsed": false,
     "input": [
      "for source in ['cran', 'bioconductor', 'rforge', 'github']: \n",
      "    print 'Most frequent dependency, for all packages, exclusively on', source\n",
      "    _ = filter(lambda x: x[0].source == source, in_degrees)[:10]\n",
      "    print '\\n'.join([str(n[0]) + ' : ' + str(n[1]) for n in _])\n",
      "    print"
     ],
     "language": "python",
     "metadata": {},
     "outputs": [
      {
       "output_type": "stream",
       "stream": "stdout",
       "text": [
        "Most frequent dependency, for all packages, exclusively on cran\n",
        "ggplot2 on [cran, github] : 920\n",
        "MASS on [cran] : 896\n",
        "plyr on [cran, github] : 762\n",
        "Rcpp on [cran, rforge] : 645\n",
        "stringr on [cran, github] : 474\n",
        "lattice on [cran, rforge] : 472\n",
        "reshape2 on [cran, github] : 452\n",
        "Matrix on [cran, rforge] : 449\n",
        "XML on [cran] : 443\n",
        "RCurl on [cran] : 426\n",
        "\n",
        "Most frequent dependency, for all packages, exclusively on bioconductor\n",
        "Biobase on [bioconductor] : 437\n",
        "IRanges on [bioconductor, github] : 250\n",
        "GenomicRanges on [bioconductor, github] : 225\n",
        "BiocGenerics on [bioconductor] : 204\n",
        "Biostrings on [bioconductor] : 171\n",
        "AnnotationDbi on [bioconductor] : 131\n",
        "S4Vectors on [bioconductor] : 104\n",
        "Rsamtools on [bioconductor] : 101\n",
        "affy on [bioconductor] : 85\n",
        "rtracklayer on [bioconductor] : 66\n",
        "\n",
        "Most frequent dependency, for all packages, exclusively on rforge\n",
        "FLCore on [rforge, github] : 25\n",
        "oompaBase on [rforge] : 8\n",
        "FLash on [rforge] : 6\n",
        "ggplotFL on [rforge, github] : 5\n",
        "addendum on [rforge] : 5\n",
        "twMisc on [rforge] : 5\n",
        "easydb on [rforge] : 4\n",
        "ant on [rforge] : 4\n",
        "twDEMC on [rforge] : 4\n",
        "quantstrat on [rforge, github] : 3\n",
        "\n",
        "Most frequent dependency, for all packages, exclusively on github\n",
        "opal on [github] : 9\n",
        "mjcbase on [github] : 8\n",
        "wtsUtilities on [github] : 8\n",
        "rCharts on [github] : 8\n",
        "DatabaseConnector on [github] : 6\n",
        "SqlRender on [github] : 6\n",
        "stringtools on [github] : 5\n",
        "rccmisc on [github] : 5\n",
        "Qbase on [github] : 4\n",
        "smwrBase on [github] : 4"
       ]
      },
      {
       "output_type": "stream",
       "stream": "stdout",
       "text": [
        "\n",
        "\n"
       ]
      }
     ],
     "prompt_number": 102
    },
    {
     "cell_type": "code",
     "collapsed": false,
     "input": [
      "for source in ['cran', 'bioconductor', 'rforge', 'github']:\n",
      "    print 'Most frequent dependency, for all packages, available on', source\n",
      "    _ = filter(lambda x: source in x[0].sources, in_degrees)[:10]\n",
      "    print '\\n'.join([str(n[0]) + ' : ' + str(n[1]) for n in _])\n",
      "    print"
     ],
     "language": "python",
     "metadata": {},
     "outputs": [
      {
       "output_type": "stream",
       "stream": "stdout",
       "text": [
        "Most frequent dependency, for all packages, available on cran\n",
        "ggplot2 on [cran, github] : 920\n",
        "MASS on [cran] : 896\n",
        "plyr on [cran, github] : 762\n",
        "Rcpp on [cran, rforge] : 645\n",
        "stringr on [cran, github] : 474\n",
        "lattice on [cran, rforge] : 472\n",
        "reshape2 on [cran, github] : 452\n",
        "Matrix on [cran, rforge] : 449\n",
        "XML on [cran] : 443\n",
        "RCurl on [cran] : 426\n",
        "\n",
        "Most frequent dependency, for all packages, available on bioconductor\n",
        "Biobase on [bioconductor] : 437\n",
        "IRanges on [bioconductor, github] : 250\n",
        "GenomicRanges on [bioconductor, github] : 225\n",
        "BiocGenerics on [bioconductor] : 204\n",
        "Biostrings on [bioconductor] : 171\n",
        "limma on [cran, bioconductor] : 142\n",
        "AnnotationDbi on [bioconductor] : 131\n",
        "graph on [cran, bioconductor] : 114\n",
        "S4Vectors on [bioconductor] : 104\n",
        "Rsamtools on [bioconductor] : 101\n",
        "\n",
        "Most frequent dependency, for all packages, available on rforge\n",
        "Rcpp on [cran, rforge] : 645\n",
        "lattice on [cran, rforge] : 472\n",
        "Matrix on [cran, rforge] : 449\n",
        "mvtnorm on [cran, rforge] : 329\n",
        "sp on [cran, rforge] : 298\n",
        "survival on [cran, rforge, github] : 290\n",
        "data.table on [cran, rforge] : 281\n",
        "foreach on [cran, rforge] : 202\n",
        "zoo on [cran, rforge, github] : 194\n",
        "ape on [cran, rforge] : 185\n",
        "\n",
        "Most frequent dependency, for all packages, available on github\n",
        "ggplot2 on [cran, github] : 920\n",
        "plyr on [cran, github] : 762\n",
        "stringr on [cran, github] : 474\n",
        "reshape2 on [cran, github] : 452\n",
        "survival on [cran, rforge, github] : 290\n",
        "httr on [cran, github] : 263\n",
        "dplyr on [cran, github] : 255\n",
        "IRanges on [bioconductor, github] : 250\n",
        "GenomicRanges on [bioconductor, github] : 225\n",
        "zoo on [cran, rforge, github] : 194\n",
        "\n"
       ]
      }
     ],
     "prompt_number": 103
    },
    {
     "cell_type": "markdown",
     "metadata": {},
     "source": [
      "La liste suivante reprend, pour chaque communaut\u00e9, les d\u00e9pendances les plus fr\u00e9quentes (toute source confondue)."
     ]
    },
    {
     "cell_type": "code",
     "collapsed": false,
     "input": [
      "from collections import Counter\n",
      "\n",
      "for source in ['cran', 'bioconductor', 'rforge', 'github']:\n",
      "    pkgs = filter(lambda x: x.source == source, packages.itervalues())\n",
      "    deps = []\n",
      "    for pkg in pkgs:\n",
      "        _ = filter(lambda x: x.source != 'R' and x.source != 'Unknown', pkg.dependencies.itervalues())\n",
      "        deps.extend(_)\n",
      "    print 'Most frequent dependency for packages in', source\n",
      "    print '\\n'.join([str(n[0]) + ' : ' + str(n[1]) for n in Counter(deps).most_common(10)])\n",
      "    print "
     ],
     "language": "python",
     "metadata": {},
     "outputs": [
      {
       "output_type": "stream",
       "stream": "stdout",
       "text": [
        "Most frequent dependency for packages in cran\n",
        "MASS on [cran] : 612\n",
        "Rcpp on [cran, rforge] : 315\n",
        "Matrix on [cran, rforge] : 290\n",
        "lattice on [cran, rforge] : 286\n",
        "ggplot2 on [cran, github] : 275\n",
        "mvtnorm on [cran, rforge] : 245\n",
        "plyr on [cran, github] : 239\n",
        "survival on [cran, rforge, github] : 219\n",
        "sp on [cran, rforge] : 158\n",
        "XML on [cran] : 139\n",
        "\n",
        "Most frequent dependency for packages in bioconductor\n",
        "Biobase on [bioconductor] : 349\n",
        "IRanges on [bioconductor, github] : 183\n",
        "BiocGenerics on [bioconductor] : 179\n",
        "GenomicRanges on [bioconductor, github] : 154\n",
        "Biostrings on [bioconductor] : 106\n",
        "AnnotationDbi on [bioconductor] : 99\n",
        "limma on [cran, bioconductor] : 96\n",
        "S4Vectors on [bioconductor] : 93\n",
        "RColorBrewer on [cran] : 76\n",
        "Rsamtools on [bioconductor] : 76\n",
        "\n",
        "Most frequent dependency for packages in rforge\n",
        "MASS on [cran] : 90\n",
        "Rcpp on [cran, rforge] : 71\n",
        "lattice on [cran, rforge] : 66\n",
        "plyr on [cran, github] : 63\n",
        "XML on [cran] : 48\n",
        "ggplot2 on [cran, github] : 45\n",
        "Matrix on [cran, rforge] : 41\n",
        "sp on [cran, rforge] : 41\n",
        "rJava on [cran] : 37\n",
        "raster on [cran, rforge] : 33\n",
        "\n",
        "Most frequent dependency for packages in"
       ]
      },
      {
       "output_type": "stream",
       "stream": "stdout",
       "text": [
        " github\n",
        "ggplot2 on [cran, github] : 529\n",
        "plyr on [cran, github] : 416\n",
        "stringr on [cran, github] : 309\n",
        "reshape2 on [cran, github] : 272\n",
        "RCurl on [cran] : 233\n",
        "Rcpp on [cran, rforge] : 219\n",
        "dplyr on [cran, github] : 218\n",
        "XML on [cran] : 207\n",
        "data.table on [cran, rforge] : 195\n",
        "httr on [cran, github] : 182\n",
        "\n"
       ]
      }
     ],
     "prompt_number": 104
    }
   ],
   "metadata": {}
  }
 ]
}