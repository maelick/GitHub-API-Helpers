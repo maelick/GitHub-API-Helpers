{
 "metadata": {
  "name": "",
  "signature": "sha256:413f5ad30733b6c97dc597365103019597fb237ac66086baa9e1f7c2dfd89218"
 },
 "nbformat": 3,
 "nbformat_minor": 0,
 "worksheets": [
  {
   "cells": [
    {
     "cell_type": "heading",
     "level": 1,
     "metadata": {},
     "source": [
      "D\u00e9pendances des packages R sur Github"
     ]
    },
    {
     "cell_type": "markdown",
     "metadata": {},
     "source": [
      "Pour chaque paquet collect\u00e9 sur CRAN, Github, Bioconductor et R-Forge, nous allons r\u00e9cup\u00e9rer la liste des d\u00e9pendances dans les champs \"Depends\" et \"Imports\", et \u00e9tudier la r\u00e9partition de ces d\u00e9pendances dans les diff\u00e9rentes communaut\u00e9s. En plus de ces diff\u00e9rentes communaut\u00e9s, certains packages (apparaissant dans les d\u00e9pendances) sont des paquets fournis par d\u00e9faut avec une distribution R. Ces paquets sont les suivants : "
     ]
    },
    {
     "cell_type": "code",
     "collapsed": false,
     "input": [
      "\n",
      "R_pkg = ('R MASS Matrix base boot class cluster codetools compiler datasets foreign grDevices ' +\n",
      "        'graphics grid lattice methods mgcv nlme nnet parallel rpart ' +\n",
      "        'spatial splines stats stats4 survival tcltk tools translations utils').split(' ')\n",
      "\"\"\"\n",
      "R_pkg = ('R, base, compiler, datasets, graphics, '\n",
      "         'grDevices, grid, methods, parallel, profile, splines, stats, stats4, '\n",
      "         'tcltk, tools, translations, utils').split(', ')\n",
      "\"\"\"\n",
      "\n",
      "\n",
      "sources = ['cran', 'bioconductor', 'github', 'rforge']"
     ],
     "language": "python",
     "metadata": {},
     "outputs": [],
     "prompt_number": 1
    },
    {
     "cell_type": "code",
     "collapsed": false,
     "input": [
      "%matplotlib inline\n",
      "from IPython.display import set_matplotlib_formats\n",
      "import matplotlib.pyplot as plt\n",
      "#set_matplotlib_formats('pdf')"
     ],
     "language": "python",
     "metadata": {},
     "outputs": [],
     "prompt_number": 2
    },
    {
     "cell_type": "code",
     "collapsed": false,
     "input": [
      "import pandas\n",
      "\n",
      "df = pandas.DataFrame.from_csv('../data/R-Packages.csv')\n",
      "df = df.fillna(value={'Depends': '', 'Imports': ''})\n",
      "\n",
      "df = df.drop('profile')"
     ],
     "language": "python",
     "metadata": {},
     "outputs": [],
     "prompt_number": 3
    },
    {
     "cell_type": "markdown",
     "metadata": {},
     "source": [
      "La fonction suivante va r\u00e9cup\u00e9rer les d\u00e9pendances dans les champs \"Depends\" et \"Imports\" d'une s\u00e9rie. Le parsing est naif, mais devrait matcher les paquets existants."
     ]
    },
    {
     "cell_type": "code",
     "collapsed": false,
     "input": [
      "def parse_dependencies(item):\n",
      "    depends = item['Depends'] if item['Depends'] != pandas.np.nan else ''\n",
      "    imports = item['Imports'] if item['Imports'] != pandas.np.nan else ''\n",
      "    f = lambda lst: [dep.split('(')[0].strip() for dep in lst.split(',')]\n",
      "    return filter(lambda x: len(x) > 0, f(depends) + f(imports))"
     ],
     "language": "python",
     "metadata": {},
     "outputs": [],
     "prompt_number": 4
    },
    {
     "cell_type": "markdown",
     "metadata": {},
     "source": [
      "La classe suivante sert de base \u00e0 notre graphe. Les attributs sont :\n",
      " - `name`: nom du package\n",
      " - `sources`: liste des sources o\u00f9 ce paquet peut \u00eatre trouv\u00e9\n",
      " - `source`: source principale (dans l'ordre indiqu\u00e9)\n",
      " - `dependencies`: dictionnaire *nom* --> *Package instance*\n",
      " \n",
      "La m\u00e9thode `add_source` permet d'ajouter une source (`str`). La liste `dependencies` peut \u00eatre manipul\u00e9e directement."
     ]
    },
    {
     "cell_type": "code",
     "collapsed": false,
     "input": [
      "class Package(object):\n",
      "    sources = ['R', 'cran', 'bioconductor', 'biocDS', 'github', 'rforge']\n",
      "    \n",
      "    def __init__(self, name):\n",
      "        self.name = name\n",
      "        self.sources = []\n",
      "        self.dependencies = {}\n",
      "        \n",
      "    def add_source(self, source):\n",
      "        if source not in self.sources:\n",
      "            self.sources.append(source)\n",
      "            \n",
      "    @property\n",
      "    def source(self):\n",
      "        for source in Package.sources:\n",
      "            if source in self.sources:\n",
      "                return source\n",
      "        return 'Unknown'\n",
      "    \n",
      "    def installable_with(self, sources):\n",
      "        # List of packages needed for the current one\n",
      "        relies_on = set(self.dependencies.itervalues())\n",
      "        tested = set([self])\n",
      "        \n",
      "        while len(relies_on) > 0:\n",
      "            p = relies_on.pop()\n",
      "            tested.add(p)\n",
      "            \n",
      "            # Can p be installed using current sources?\n",
      "            if len(set(sources).intersection(set(p.sources))) == 0:\n",
      "                return False\n",
      "            # Add p's dependencies\n",
      "            for d in p.dependencies.itervalues():\n",
      "                if d not in tested:\n",
      "                    relies_on.add(d)\n",
      "        return True\n",
      "    \n",
      "    def pprint(self):\n",
      "        return str(self) + ' -> ' + ', '.join(map(str, self.dependencies.itervalues()))\n",
      "    \n",
      "    def __unicode__(self):\n",
      "        return '{name} on [{sources}]'.format(name=self.name, sources=', '.join(self.sources))\n",
      "    __str__ = __repr__ = __unicode__"
     ],
     "language": "python",
     "metadata": {},
     "outputs": [],
     "prompt_number": 5
    },
    {
     "cell_type": "markdown",
     "metadata": {},
     "source": [
      "Pour chaque paquet identifi\u00e9, nous ajoutons ces sources. \n",
      "Le dictionnaire `packages` vise \u00e0 associer \u00e0 chaque nom de paquet une instance de la classe `Package`."
     ]
    },
    {
     "cell_type": "code",
     "collapsed": false,
     "input": [
      "packages = {}\n",
      "\n",
      "for name, data in df.iterrows():\n",
      "    p = Package(name)\n",
      "    for source in sources:\n",
      "        if data[source] == 1:\n",
      "            p.add_source(source)\n",
      "    packages[name] = p"
     ],
     "language": "python",
     "metadata": {},
     "outputs": [],
     "prompt_number": 6
    },
    {
     "cell_type": "markdown",
     "metadata": {},
     "source": [
      "Ajoutons *R* dans les sources avec les packages correspondants."
     ]
    },
    {
     "cell_type": "code",
     "collapsed": false,
     "input": [
      "sources.append('R')\n",
      "\n",
      "for name in R_pkg:\n",
      "    # new data:\n",
      "    p = Package(name)\n",
      "    # keep existing data:\n",
      "    # p = packages.setdefault(name, Package(name)) \n",
      "    \n",
      "    p.add_source('R')\n",
      "    packages[name] = p"
     ],
     "language": "python",
     "metadata": {},
     "outputs": [],
     "prompt_number": 7
    },
    {
     "cell_type": "markdown",
     "metadata": {},
     "source": [
      "Ajoutons maintenant les packages contenant un dataset sur BioConductor."
     ]
    },
    {
     "cell_type": "code",
     "collapsed": false,
     "input": [
      "sources.append('biocDS')\n",
      "\n",
      "biocDS1 = pandas.DataFrame.from_csv('../data/bioconductor_annotation_description.csv')\n",
      "biocDS2 = pandas.DataFrame.from_csv('../data/bioconductor_experiment_description.csv')\n",
      "\n",
      "biocDS1.fillna(value='', inplace=True)\n",
      "biocDS2.fillna(value='', inplace=True)\n",
      "\n",
      "for name, data in biocDS1.iterrows():\n",
      "    p = Package(name)\n",
      "    p.add_source('biocDS')\n",
      "    packages[name] = p\n",
      "\n",
      "for name, data in biocDS2.iterrows():\n",
      "    p = Package(name)\n",
      "    p.add_source('biocDS')\n",
      "    packages[name] = p\n",
      "\n",
      "#print len(filter(lambda p: 'biocDS' in p.sources, packages.itervalues()))\n",
      "#print len(filter(lambda p: 'biocDS' == p.source, packages.itervalues()))\n",
      "# Ajout des d\u00e9pendances\n",
      "for name, data in biocDS1.iterrows():\n",
      "    p = packages[name]\n",
      "    for dep in parse_dependencies(data):\n",
      "        p_dep = packages.setdefault(dep, Package(dep))\n",
      "        p.dependencies[p_dep.name] = p_dep\n",
      "        \n",
      "for name, data in biocDS1.iterrows():\n",
      "    p = packages[name]\n",
      "    for dep in parse_dependencies(data):\n",
      "        p_dep = packages.setdefault(dep, Package(dep))\n",
      "        p.dependencies[p_dep.name] = p_dep\n",
      "        "
     ],
     "language": "python",
     "metadata": {},
     "outputs": [],
     "prompt_number": 8
    },
    {
     "cell_type": "markdown",
     "metadata": {},
     "source": [
      "Ajoutons les d\u00e9pendances. Si le paquet n'est pas connu de notre liste de paquets, nous cr\u00e9ons tout de m\u00eame une instance de `Package`. La source associ\u00e9e \u00e0 ce paquet sera automatiquement *Unknown* et ce paquet pourra donc \u00eatre utilis\u00e9 de fa\u00e7on transparente lors des calculs sur le graphe."
     ]
    },
    {
     "cell_type": "code",
     "collapsed": false,
     "input": [
      "for name, data in df.iterrows():\n",
      "    p = packages[name]\n",
      "    for dep in parse_dependencies(data):\n",
      "        p_dep = packages.setdefault(dep, Package(dep))\n",
      "        p.dependencies[p_dep.name] = p_dep"
     ],
     "language": "python",
     "metadata": {},
     "outputs": [],
     "prompt_number": 9
    },
    {
     "cell_type": "markdown",
     "metadata": {},
     "source": [
      "Enfin, il nous reste \u00e0 cr\u00e9er le graphe dirig\u00e9. Ce graphe est construit classiquement pour les d\u00e9pendances. A noter que les d\u00e9pendances de la source *Unknown* sont \u00e9galement dans ce graphe (qui n'est naturellement pas une composante connexe)."
     ]
    },
    {
     "cell_type": "code",
     "collapsed": false,
     "input": [
      "import networkx\n",
      "\n",
      "dg = networkx.DiGraph()\n",
      "for package in packages.itervalues():\n",
      "    dg.add_node(package)\n",
      "    for dependency in package.dependencies.itervalues():\n",
      "        dg.add_edge(package, dependency)"
     ],
     "language": "python",
     "metadata": {},
     "outputs": [],
     "prompt_number": 10
    },
    {
     "cell_type": "heading",
     "level": 2,
     "metadata": {},
     "source": [
      "Centralit\u00e9"
     ]
    },
    {
     "cell_type": "code",
     "collapsed": false,
     "input": [
      "def d2df(gd):\n",
      "    m = {}\n",
      "    for package, value in gd.iteritems():\n",
      "        m[package.name] = {'source': package.source, 'value': value}\n",
      "    return pandas.DataFrame.from_dict(m, orient='index')\n",
      "\n",
      "for name, group in d2df(networkx.in_degree_centrality(dg)).groupby(by='source'):\n",
      "    fig = plt.figure()\n",
      "    ax = fig.add_subplot(111)\n",
      "    group['value'].plot(kind='hist', figsize=(8,4), bins=10, title=name, ax=ax)"
     ],
     "language": "python",
     "metadata": {},
     "outputs": [
      {
       "metadata": {},
       "output_type": "display_data",
       "png": "[encoded data removed]",
       "text": [
        "<matplotlib.figure.Figure at 0x7fa72ef294d0>"
       ]
      },
      {
       "metadata": {},
       "output_type": "display_data",
       "png": "[encoded data removed]",
       "text": [
        "<matplotlib.figure.Figure at 0x7fa72edc0e10>"
       ]
      },
      {
       "metadata": {},
       "output_type": "display_data",
       "png": "[encoded data removed]",
       "text": [
        "<matplotlib.figure.Figure at 0x7fa72edb4c10>"
       ]
      },
      {
       "metadata": {},
       "output_type": "display_data",
       "png": "[encoded data removed]",
       "text": [
        "<matplotlib.figure.Figure at 0x7fa72edb4910>"
       ]
      },
      {
       "metadata": {},
       "output_type": "display_data",
       "png": "[encoded data removed]",
       "text": [
        "<matplotlib.figure.Figure at 0x7fa72ec34790>"
       ]
      },
      {
       "metadata": {},
       "output_type": "display_data",
       "png": "[encoded data removed]",
       "text": [
        "<matplotlib.figure.Figure at 0x7fa72eb4bf10>"
       ]
      },
      {
       "metadata": {},
       "output_type": "display_data",
       "png": "[encoded data removed]",
       "text": [
        "<matplotlib.figure.Figure at 0x7fa72eb4bfd0>"
       ]
      }
     ],
     "prompt_number": 11
    },
    {
     "cell_type": "heading",
     "level": 2,
     "metadata": {},
     "source": [
      "Direction des d\u00e9pendances"
     ]
    },
    {
     "cell_type": "markdown",
     "metadata": {},
     "source": [
      "Pour chaque source de packages, nous allons regarder les diff\u00e9rents paquets pr\u00e9sents dans cette source. Pour chaque paquet, nous regardons les d\u00e9pendances de ce paquet et la source principale de chacune de ces d\u00e9pendances. Une liste $S(x,y)$ est calcul\u00e9e pour chaque paire $(x,y)$ de sources. Cette liste contient l'ensemble des paquets de $x$ qui ont au moins une d\u00e9pendance dans $y$."
     ]
    },
    {
     "cell_type": "code",
     "collapsed": false,
     "input": [
      "S = {s:{s2: set() for s2 in sources + ['Unknown']} for s in sources}"
     ],
     "language": "python",
     "metadata": {},
     "outputs": [],
     "prompt_number": 12
    },
    {
     "cell_type": "code",
     "collapsed": false,
     "input": [
      "sources_needed_for = lambda p: set(map(lambda p: p.source, p.dependencies.itervalues()))\n",
      "\n",
      "for p in packages.itervalues():\n",
      "    for source in sources_needed_for(p):\n",
      "        S[p.source][source].add(p)"
     ],
     "language": "python",
     "metadata": {},
     "outputs": [],
     "prompt_number": 13
    },
    {
     "cell_type": "code",
     "collapsed": false,
     "input": [
      "scores = {s: {s2: len(S[s][s2]) for s2 in S[s].iterkeys()} for s in S.iterkeys()}"
     ],
     "language": "python",
     "metadata": {},
     "outputs": [],
     "prompt_number": 14
    },
    {
     "cell_type": "markdown",
     "metadata": {},
     "source": [
      "Le tableau suivant reprend, pour chaque ligne, le nombre de paquets ayant au moins une d\u00e9pendance vers la source indiqu\u00e9e en colonne. Par exemple, la ligne `bioconductor` en colonne `cran` indique qu'il y a x paquets de BioConductor qui ont au moins une d\u00e9pendance vers CRAN."
     ]
    },
    {
     "cell_type": "code",
     "collapsed": false,
     "input": [
      "S['cran']['github']\n",
      "packages['reports'].dependencies"
     ],
     "language": "python",
     "metadata": {},
     "outputs": [
      {
       "metadata": {},
       "output_type": "pyout",
       "prompt_number": 35,
       "text": [
        "{'R': R on [R],\n",
        " 'XLConnect': XLConnect on [cran, github],\n",
        " 'knitcitations': knitcitations on [cran, github],\n",
        " 'markdown': markdown on [cran],\n",
        " 'slidify': slidify on [github],\n",
        " 'tools': tools on [R],\n",
        " 'xlsx': xlsx on [cran, rforge]}"
       ]
      }
     ],
     "prompt_number": 35
    },
    {
     "cell_type": "code",
     "collapsed": false,
     "input": [
      "pandas.DataFrame.from_dict(scores).T"
     ],
     "language": "python",
     "metadata": {},
     "outputs": [
      {
       "html": [
        "<div style=\"max-height:1000px;max-width:1500px;overflow:auto;\">\n",
        "<table border=\"1\" class=\"dataframe\">\n",
        "  <thead>\n",
        "    <tr style=\"text-align: right;\">\n",
        "      <th></th>\n",
        "      <th>R</th>\n",
        "      <th>Unknown</th>\n",
        "      <th>biocDS</th>\n",
        "      <th>bioconductor</th>\n",
        "      <th>cran</th>\n",
        "      <th>github</th>\n",
        "      <th>rforge</th>\n",
        "    </tr>\n",
        "  </thead>\n",
        "  <tbody>\n",
        "    <tr>\n",
        "      <th>R</th>\n",
        "      <td>14</td>\n",
        "      <td>0</td>\n",
        "      <td>0</td>\n",
        "      <td>0</td>\n",
        "      <td>0</td>\n",
        "      <td>0</td>\n",
        "      <td>0</td>\n",
        "    </tr>\n",
        "    <tr>\n",
        "      <th>biocDS</th>\n",
        "      <td>805</td>\n",
        "      <td>0</td>\n",
        "      <td>196</td>\n",
        "      <td>860</td>\n",
        "      <td>170</td>\n",
        "      <td>0</td>\n",
        "      <td>0</td>\n",
        "    </tr>\n",
        "    <tr>\n",
        "      <th>bioconductor</th>\n",
        "      <td>917</td>\n",
        "      <td>11</td>\n",
        "      <td>93</td>\n",
        "      <td>769</td>\n",
        "      <td>586</td>\n",
        "      <td>2</td>\n",
        "      <td>1</td>\n",
        "    </tr>\n",
        "    <tr>\n",
        "      <th>cran</th>\n",
        "      <td>4578</td>\n",
        "      <td>0</td>\n",
        "      <td>4</td>\n",
        "      <td>135</td>\n",
        "      <td>3909</td>\n",
        "      <td>1</td>\n",
        "      <td>1</td>\n",
        "    </tr>\n",
        "    <tr>\n",
        "      <th>github</th>\n",
        "      <td>2185</td>\n",
        "      <td>140</td>\n",
        "      <td>22</td>\n",
        "      <td>267</td>\n",
        "      <td>2512</td>\n",
        "      <td>292</td>\n",
        "      <td>14</td>\n",
        "    </tr>\n",
        "    <tr>\n",
        "      <th>rforge</th>\n",
        "      <td>753</td>\n",
        "      <td>29</td>\n",
        "      <td>2</td>\n",
        "      <td>44</td>\n",
        "      <td>663</td>\n",
        "      <td>14</td>\n",
        "      <td>103</td>\n",
        "    </tr>\n",
        "  </tbody>\n",
        "</table>\n",
        "</div>"
       ],
       "metadata": {},
       "output_type": "pyout",
       "prompt_number": 15,
       "text": [
        "                 R  Unknown  biocDS  bioconductor  cran  github  rforge\n",
        "R               14        0       0             0     0       0       0\n",
        "biocDS         805        0     196           860   170       0       0\n",
        "bioconductor   917       11      93           769   586       2       1\n",
        "cran          4578        0       4           135  3909       1       1\n",
        "github        2185      140      22           267  2512     292      14\n",
        "rforge         753       29       2            44   663      14     103"
       ]
      }
     ],
     "prompt_number": 15
    },
    {
     "cell_type": "markdown",
     "metadata": {},
     "source": [
      "Quels sont les paquets \"inconnus\" ?"
     ]
    },
    {
     "cell_type": "code",
     "collapsed": false,
     "input": [
      "# map(lambda p: p.name, filter(lambda p: p.source == 'Unknown', packages.itervalues()))"
     ],
     "language": "python",
     "metadata": {},
     "outputs": [],
     "prompt_number": 16
    },
    {
     "cell_type": "markdown",
     "metadata": {},
     "source": [
      "Cycles dans le graphe ?"
     ]
    },
    {
     "cell_type": "code",
     "collapsed": false,
     "input": [
      "list(networkx.simple_cycles(dg))"
     ],
     "language": "python",
     "metadata": {},
     "outputs": [
      {
       "metadata": {},
       "output_type": "pyout",
       "prompt_number": 17,
       "text": [
        "[[BioCycTU on [github]],\n",
        " [AnnotationHub on [bioconductor, github],\n",
        "  interactiveDisplay on [bioconductor]]]"
       ]
      }
     ],
     "prompt_number": 17
    },
    {
     "cell_type": "markdown",
     "metadata": {},
     "source": [
      "Le tableau suivant reprend, pour chaque ligne, le nombre de d\u00e9pendances dans la source indiqu\u00e9e en colonne. Par exemple, la ligne `bioconductor` en colonne `cran` indique qu'il y a x d\u00e9pendances intervenant dans un paquet de BioConductor, et ces x d\u00e9pendances sont pr\u00e9sentes sur CRAN (un m\u00eame nom est potentiellement comptabilis\u00e9 plusieurs fois)."
     ]
    },
    {
     "cell_type": "code",
     "collapsed": false,
     "input": [
      "scores_all = {}\n",
      "for p in packages.itervalues():\n",
      "    score = scores_all.setdefault(p.source, {})\n",
      "    for d in p.dependencies.itervalues():\n",
      "        score[d.source] = score.get(d.source, 0) + 1\n",
      "pandas.DataFrame.from_dict(scores_all).T"
     ],
     "language": "python",
     "metadata": {},
     "outputs": [
      {
       "html": [
        "<div style=\"max-height:1000px;max-width:1500px;overflow:auto;\">\n",
        "<table border=\"1\" class=\"dataframe\">\n",
        "  <thead>\n",
        "    <tr style=\"text-align: right;\">\n",
        "      <th></th>\n",
        "      <th>R</th>\n",
        "      <th>Unknown</th>\n",
        "      <th>biocDS</th>\n",
        "      <th>bioconductor</th>\n",
        "      <th>cran</th>\n",
        "      <th>github</th>\n",
        "      <th>rforge</th>\n",
        "    </tr>\n",
        "  </thead>\n",
        "  <tbody>\n",
        "    <tr>\n",
        "      <th>R</th>\n",
        "      <td>60</td>\n",
        "      <td>NaN</td>\n",
        "      <td>NaN</td>\n",
        "      <td>NaN</td>\n",
        "      <td>NaN</td>\n",
        "      <td>NaN</td>\n",
        "      <td>NaN</td>\n",
        "    </tr>\n",
        "    <tr>\n",
        "      <th>Unknown</th>\n",
        "      <td>NaN</td>\n",
        "      <td>NaN</td>\n",
        "      <td>NaN</td>\n",
        "      <td>NaN</td>\n",
        "      <td>NaN</td>\n",
        "      <td>NaN</td>\n",
        "      <td>NaN</td>\n",
        "    </tr>\n",
        "    <tr>\n",
        "      <th>biocDS</th>\n",
        "      <td>1213</td>\n",
        "      <td>NaN</td>\n",
        "      <td>204</td>\n",
        "      <td>1567</td>\n",
        "      <td>333</td>\n",
        "      <td>NaN</td>\n",
        "      <td>NaN</td>\n",
        "    </tr>\n",
        "    <tr>\n",
        "      <th>bioconductor</th>\n",
        "      <td>2516</td>\n",
        "      <td>13</td>\n",
        "      <td>133</td>\n",
        "      <td>2748</td>\n",
        "      <td>1615</td>\n",
        "      <td>2</td>\n",
        "      <td>1</td>\n",
        "    </tr>\n",
        "    <tr>\n",
        "      <th>cran</th>\n",
        "      <td>8549</td>\n",
        "      <td>NaN</td>\n",
        "      <td>4</td>\n",
        "      <td>212</td>\n",
        "      <td>10560</td>\n",
        "      <td>1</td>\n",
        "      <td>1</td>\n",
        "    </tr>\n",
        "    <tr>\n",
        "      <th>github</th>\n",
        "      <td>3208</td>\n",
        "      <td>156</td>\n",
        "      <td>37</td>\n",
        "      <td>684</td>\n",
        "      <td>8614</td>\n",
        "      <td>386</td>\n",
        "      <td>15</td>\n",
        "    </tr>\n",
        "    <tr>\n",
        "      <th>rforge</th>\n",
        "      <td>1376</td>\n",
        "      <td>36</td>\n",
        "      <td>4</td>\n",
        "      <td>93</td>\n",
        "      <td>1830</td>\n",
        "      <td>19</td>\n",
        "      <td>136</td>\n",
        "    </tr>\n",
        "  </tbody>\n",
        "</table>\n",
        "</div>"
       ],
       "metadata": {},
       "output_type": "pyout",
       "prompt_number": 18,
       "text": [
        "                 R  Unknown  biocDS  bioconductor   cran  github  rforge\n",
        "R               60      NaN     NaN           NaN    NaN     NaN     NaN\n",
        "Unknown        NaN      NaN     NaN           NaN    NaN     NaN     NaN\n",
        "biocDS        1213      NaN     204          1567    333     NaN     NaN\n",
        "bioconductor  2516       13     133          2748   1615       2       1\n",
        "cran          8549      NaN       4           212  10560       1       1\n",
        "github        3208      156      37           684   8614     386      15\n",
        "rforge        1376       36       4            93   1830      19     136"
       ]
      }
     ],
     "prompt_number": 18
    },
    {
     "cell_type": "markdown",
     "metadata": {},
     "source": [
      "Le tableau suivant reprend, pour chaque ligne, le nombre de paquets distincts servant de d\u00e9pendance pour la source indiqu\u00e9e en colonne. "
     ]
    },
    {
     "cell_type": "code",
     "collapsed": false,
     "input": [
      "distinct_scores_all = {}\n",
      "for p in packages.itervalues():\n",
      "    score = distinct_scores_all.setdefault(p.source, {})\n",
      "    for d in p.dependencies.itervalues():\n",
      "        score.setdefault(d.source, set()).add(d.name)\n",
      "        \n",
      "# Get numbers\n",
      "for s1, d1 in distinct_scores_all.iteritems():\n",
      "    for s2, d2 in d1.iteritems():\n",
      "        d1[s2] = len(d2)\n",
      "        \n",
      "pandas.DataFrame.from_dict(distinct_scores_all)"
     ],
     "language": "python",
     "metadata": {},
     "outputs": [
      {
       "html": [
        "<div style=\"max-height:1000px;max-width:1500px;overflow:auto;\">\n",
        "<table border=\"1\" class=\"dataframe\">\n",
        "  <thead>\n",
        "    <tr style=\"text-align: right;\">\n",
        "      <th></th>\n",
        "      <th>R</th>\n",
        "      <th>Unknown</th>\n",
        "      <th>biocDS</th>\n",
        "      <th>bioconductor</th>\n",
        "      <th>cran</th>\n",
        "      <th>github</th>\n",
        "      <th>rforge</th>\n",
        "    </tr>\n",
        "  </thead>\n",
        "  <tbody>\n",
        "    <tr>\n",
        "      <th>R</th>\n",
        "      <td>12</td>\n",
        "      <td>NaN</td>\n",
        "      <td>3</td>\n",
        "      <td>26</td>\n",
        "      <td>28</td>\n",
        "      <td>29</td>\n",
        "      <td>26</td>\n",
        "    </tr>\n",
        "    <tr>\n",
        "      <th>Unknown</th>\n",
        "      <td>NaN</td>\n",
        "      <td>NaN</td>\n",
        "      <td>NaN</td>\n",
        "      <td>10</td>\n",
        "      <td>NaN</td>\n",
        "      <td>89</td>\n",
        "      <td>31</td>\n",
        "    </tr>\n",
        "    <tr>\n",
        "      <th>biocDS</th>\n",
        "      <td>NaN</td>\n",
        "      <td>NaN</td>\n",
        "      <td>48</td>\n",
        "      <td>69</td>\n",
        "      <td>2</td>\n",
        "      <td>21</td>\n",
        "      <td>3</td>\n",
        "    </tr>\n",
        "    <tr>\n",
        "      <th>bioconductor</th>\n",
        "      <td>NaN</td>\n",
        "      <td>NaN</td>\n",
        "      <td>28</td>\n",
        "      <td>264</td>\n",
        "      <td>65</td>\n",
        "      <td>126</td>\n",
        "      <td>48</td>\n",
        "    </tr>\n",
        "    <tr>\n",
        "      <th>cran</th>\n",
        "      <td>NaN</td>\n",
        "      <td>NaN</td>\n",
        "      <td>4</td>\n",
        "      <td>371</td>\n",
        "      <td>1532</td>\n",
        "      <td>1009</td>\n",
        "      <td>550</td>\n",
        "    </tr>\n",
        "    <tr>\n",
        "      <th>github</th>\n",
        "      <td>NaN</td>\n",
        "      <td>NaN</td>\n",
        "      <td>NaN</td>\n",
        "      <td>1</td>\n",
        "      <td>1</td>\n",
        "      <td>251</td>\n",
        "      <td>6</td>\n",
        "    </tr>\n",
        "    <tr>\n",
        "      <th>rforge</th>\n",
        "      <td>NaN</td>\n",
        "      <td>NaN</td>\n",
        "      <td>NaN</td>\n",
        "      <td>1</td>\n",
        "      <td>1</td>\n",
        "      <td>12</td>\n",
        "      <td>94</td>\n",
        "    </tr>\n",
        "  </tbody>\n",
        "</table>\n",
        "</div>"
       ],
       "metadata": {},
       "output_type": "pyout",
       "prompt_number": 19,
       "text": [
        "               R  Unknown  biocDS  bioconductor  cran  github  rforge\n",
        "R             12      NaN       3            26    28      29      26\n",
        "Unknown      NaN      NaN     NaN            10   NaN      89      31\n",
        "biocDS       NaN      NaN      48            69     2      21       3\n",
        "bioconductor NaN      NaN      28           264    65     126      48\n",
        "cran         NaN      NaN       4           371  1532    1009     550\n",
        "github       NaN      NaN     NaN             1     1     251       6\n",
        "rforge       NaN      NaN     NaN             1     1      12      94"
       ]
      }
     ],
     "prompt_number": 19
    },
    {
     "cell_type": "heading",
     "level": 2,
     "metadata": {},
     "source": [
      "D\u00e9pendances les plus fr\u00e9quentes par source"
     ]
    },
    {
     "cell_type": "code",
     "collapsed": false,
     "input": [
      "dg2 = dg.copy()\n",
      "dg2.remove_nodes_from(filter(lambda n: n.source == 'Unknown' or n.source == 'R', dg2.nodes_iter()))\n",
      "in_degrees = [n for n in dg2.in_degree_iter()]\n",
      "in_degrees.sort(key=lambda n: n[1], reverse=True)"
     ],
     "language": "python",
     "metadata": {},
     "outputs": [],
     "prompt_number": 20
    },
    {
     "cell_type": "markdown",
     "metadata": {},
     "source": [
      "La liste suivante reprend les d\u00e9pendances apparaissant le plus fr\u00e9quemment pour chaque source de packages. La liste *primarily* indique que ce package a comme source principale la source concern\u00e9e. La liste *also available* indique que ce paquet est **notamment** disponible sur la source concern\u00e9e. Notez bien que ce sont les d\u00e9pendances de toutes les sources vers une source sp\u00e9cifique. Pour une liste des d\u00e9pendances de chaque source, regardez (bien) plus bas."
     ]
    },
    {
     "cell_type": "code",
     "collapsed": false,
     "input": [
      "for source in ['cran', 'bioconductor', 'biocDS', 'github', 'rforge']: \n",
      "    print 'Most frequent dependency, for all packages, primarily on', source\n",
      "    _ = filter(lambda x: x[0].source == source, in_degrees)[:10]\n",
      "    print '\\n'.join([str(n[0]) + ' : ' + str(n[1]) for n in _])\n",
      "    print"
     ],
     "language": "python",
     "metadata": {},
     "outputs": [
      {
       "output_type": "stream",
       "stream": "stdout",
       "text": [
        "Most frequent dependency, for all packages, primarily on cran\n",
        "ggplot2 on [cran, github] : 933\n",
        "plyr on [cran, github] : 769\n",
        "Rcpp on [cran, rforge] : 664\n",
        "stringr on [cran, github] : 484\n",
        "reshape2 on [cran, github] : 456\n",
        "XML on [cran] : 443\n",
        "RCurl on [cran] : 426\n",
        "mvtnorm on [cran, rforge] : 343\n",
        "RColorBrewer on [cran] : 308\n",
        "sp on [cran, rforge] : 306\n",
        "\n",
        "Most frequent dependency, for all packages, primarily on bioconductor\n",
        "AnnotationDbi on [bioconductor] : 618\n",
        "Biobase on [bioconductor] : 440\n",
        "IRanges on [bioconductor, github] : 414\n",
        "Biostrings on [bioconductor] : 330\n",
        "S4Vectors on [bioconductor] : 255\n",
        "GenomicRanges on [bioconductor, github] : 236\n",
        "BiocGenerics on [bioconductor] : 206\n",
        "oligoClasses on [bioconductor, github] : 177\n",
        "oligo on [bioconductor, github] : 175\n",
        "limma on [bioconductor] : 143\n",
        "\n",
        "Most frequent dependency, for all packages, primarily on biocDS\n",
        "org.Hs.eg.db on [biocDS] : 98\n",
        "org.Mm.eg.db on [biocDS] : 49\n",
        "GO.db on [biocDS] : 38\n",
        "org.Rn.eg.db on [biocDS] : 30\n",
        "KEGG.db on [biocDS] : 12\n",
        "TxDb.Hsapiens.UCSC.hg19.knownGene on [biocDS] : 8\n",
        "BSgenome.Hsapiens.UCSC.hg19 on [biocDS] : 7\n",
        "org.Sc.sgd.db on [biocDS] : 6\n",
        "IlluminaHumanMethylation450kmanifest on [biocDS] : 5\n",
        "hgu133a.db on [biocDS] : 3\n",
        "\n",
        "Most frequent dependency, for all packages, primarily on github\n",
        "FLCore on [github, rforge] : 24\n",
        "opal on [github] : 9\n",
        "rCharts on [github] : 8\n",
        "mjcbase on [github] : 8\n",
        "wtsUtilities on [github] : 8\n",
        "SqlRender on [github] : 6\n",
        "DatabaseConnector on [github] : 6\n",
        "stringtools on [github] : 5\n",
        "rccmisc on [github] : 5\n",
        "XMLSchema on [github] : 5"
       ]
      },
      {
       "output_type": "stream",
       "stream": "stdout",
       "text": [
        "\n",
        "\n",
        "Most frequent dependency, for all packages, primarily on rforge\n",
        "oompaBase on [rforge] : 8\n",
        "FLash on [rforge] : 5\n",
        "twMisc on [rforge] : 5\n",
        "addendum on [rforge] : 5\n",
        "easydb on [rforge] : 4\n",
        "ant on [rforge] : 4\n",
        "twDEMC on [rforge] : 4\n",
        "PortfolioAnalytics on [rforge] : 3\n",
        "eatTools on [rforge] : 3\n",
        "ClassDiscovery on [rforge] : 3\n",
        "\n"
       ]
      }
     ],
     "prompt_number": 21
    },
    {
     "cell_type": "code",
     "collapsed": false,
     "input": [
      "for source in ['cran', 'bioconductor', 'biocDS', 'github', 'rforge']: \n",
      "    print 'Most frequent dependency, for all packages, available on', source\n",
      "    _ = filter(lambda x: source in x[0].sources, in_degrees)[:10]\n",
      "    print '\\n'.join([str(n[0]) + ' : ' + str(n[1]) for n in _])\n",
      "    print"
     ],
     "language": "python",
     "metadata": {},
     "outputs": [
      {
       "output_type": "stream",
       "stream": "stdout",
       "text": [
        "Most frequent dependency, for all packages, available on cran\n",
        "ggplot2 on [cran, github] : 933\n",
        "plyr on [cran, github] : 769\n",
        "Rcpp on [cran, rforge] : 664\n",
        "stringr on [cran, github] : 484\n",
        "reshape2 on [cran, github] : 456\n",
        "XML on [cran] : 443\n",
        "RCurl on [cran] : 426\n",
        "mvtnorm on [cran, rforge] : 343\n",
        "RColorBrewer on [cran] : 308\n",
        "sp on [cran, rforge] : 306\n",
        "\n",
        "Most frequent dependency, for all packages, available on bioconductor\n",
        "AnnotationDbi on [bioconductor] : 618\n",
        "Biobase on [bioconductor] : 440\n",
        "IRanges on [bioconductor, github] : 414\n",
        "Biostrings on [bioconductor] : 330\n",
        "S4Vectors on [bioconductor] : 255\n",
        "GenomicRanges on [bioconductor, github] : 236\n",
        "BiocGenerics on [bioconductor] : 206\n",
        "oligoClasses on [bioconductor, github] : 177\n",
        "oligo on [bioconductor, github] : 175\n",
        "limma on [bioconductor] : 143\n",
        "\n",
        "Most frequent dependency, for all packages, available on biocDS\n",
        "org.Hs.eg.db on [biocDS] : 98\n",
        "org.Mm.eg.db on [biocDS] : 49\n",
        "GO.db on [biocDS] : 38\n",
        "org.Rn.eg.db on [biocDS] : 30\n",
        "KEGG.db on [biocDS] : 12\n",
        "TxDb.Hsapiens.UCSC.hg19.knownGene on [biocDS] : 8\n",
        "BSgenome.Hsapiens.UCSC.hg19 on [biocDS] : 7\n",
        "org.Sc.sgd.db on [biocDS] : 6\n",
        "IlluminaHumanMethylation450kmanifest on [biocDS] : 5\n",
        "hgu133a.db on [biocDS] : 3\n",
        "\n",
        "Most frequent dependency, for all packages, available on github\n",
        "ggplot2 on [cran, github] : 933\n",
        "plyr on [cran, github] : 769\n",
        "stringr on [cran, github] : 484\n",
        "reshape2 on [cran, github] : 456\n",
        "IRanges on [bioconductor, github] : 414\n",
        "DBI on [cran, github] : 294\n",
        "httr on [cran, github] : 266\n",
        "dplyr on [cran, github] : 261\n",
        "GenomicRanges on [bioconductor, github] : 236\n",
        "zoo on [cran, github, rforge] : 199\n",
        "\n",
        "Most frequent dependency, for all packages, available on rforge\n",
        "Rcpp on [cran, rforge] : 664\n",
        "mvtnorm on [cran, rforge] : 343\n",
        "sp on [cran, rforge] : 306\n",
        "data.table on [cran, rforge] : 286\n",
        "foreach on [cran, rforge] : 207\n",
        "zoo on [cran, github, rforge] : 199\n",
        "ape on [cran, rforge] : 190\n",
        "raster on [cran, rforge] : 178\n",
        "digest on [cran, rforge] : 163\n",
        "xtable on [cran, rforge] : 156\n",
        "\n"
       ]
      }
     ],
     "prompt_number": 22
    },
    {
     "cell_type": "markdown",
     "metadata": {},
     "source": [
      "La liste suivante reprend, pour chaque communaut\u00e9, les d\u00e9pendances les plus fr\u00e9quentes (toute source confondue)."
     ]
    },
    {
     "cell_type": "code",
     "collapsed": false,
     "input": [
      "from collections import Counter\n",
      "\n",
      "for source in ['cran', 'bioconductor', 'biocDS', 'github', 'rforge']: \n",
      "    pkgs = filter(lambda x: x.source == source, packages.itervalues())\n",
      "    deps = []\n",
      "    for pkg in pkgs:\n",
      "        _ = filter(lambda x: x.source != 'R' and x.source != 'Unknown', pkg.dependencies.itervalues())\n",
      "        deps.extend(_)\n",
      "    print 'Most frequent dependency for packages in', source\n",
      "    print '\\n'.join([str(n[0]) + ' : ' + str(n[1]) for n in Counter(deps).most_common(10)])\n",
      "    print "
     ],
     "language": "python",
     "metadata": {},
     "outputs": [
      {
       "output_type": "stream",
       "stream": "stdout",
       "text": [
        "Most frequent dependency for packages in cran\n",
        "Rcpp on [cran, rforge] : 336\n",
        "ggplot2 on [cran, github] : 289\n",
        "mvtnorm on [cran, rforge] : 258\n",
        "plyr on [cran, github] : 248\n",
        "sp on [cran, rforge] : 169\n",
        "XML on [cran] : 144\n",
        "stringr on [cran, github] : 143\n",
        "igraph on [cran] : 142\n",
        "RCurl on [cran] : 139\n",
        "coda on [cran] : 134\n",
        "\n",
        "Most frequent dependency for packages in bioconductor\n",
        "Biobase on [bioconductor] : 352\n",
        "IRanges on [bioconductor, github] : 183\n",
        "BiocGenerics on [bioconductor] : 181\n",
        "GenomicRanges on [bioconductor, github] : 154\n",
        "Biostrings on [bioconductor] : 106\n",
        "AnnotationDbi on [bioconductor] : 99\n",
        "limma on [bioconductor] : 96\n",
        "S4Vectors on [bioconductor] : 93\n",
        "Rsamtools on [bioconductor] : 76\n",
        "RColorBrewer on [cran] : 76\n",
        "\n",
        "Most frequent dependency for packages in biocDS\n",
        "AnnotationDbi on [bioconductor] : 488\n",
        "IRanges on [bioconductor, github] : 171\n",
        "RSQLite on [cran] : 169\n",
        "Biostrings on [bioconductor] : 166\n",
        "oligo on [bioconductor, github] : 162\n",
        "DBI on [cran, github] : 162\n",
        "oligoClasses on [bioconductor, github] : 161\n",
        "S4Vectors on [bioconductor] : 151\n",
        "MeSHDbi on [bioconductor] : 123\n",
        "BSgenome on [bioconductor] : 75\n",
        "\n",
        "Most frequent dependency for packages in"
       ]
      },
      {
       "output_type": "stream",
       "stream": "stdout",
       "text": [
        " github\n",
        "ggplot2 on [cran, github] : 539\n",
        "plyr on [cran, github] : 434\n",
        "stringr on [cran, github] : 312\n",
        "reshape2 on [cran, github] : 273\n",
        "RCurl on [cran] : 239\n",
        "Rcpp on [cran, rforge] : 229\n",
        "XML on [cran] : 217\n",
        "dplyr on [cran, github] : 214\n",
        "data.table on [cran, rforge] : 196\n",
        "httr on [cran, github] : 182\n",
        "\n",
        "Most frequent dependency for packages in rforge\n",
        "Rcpp on [cran, rforge] : 59\n",
        "plyr on [cran, github] : 43\n",
        "rJava on [cran] : 35\n",
        "sp on [cran, rforge] : 34\n",
        "ggplot2 on [cran, github] : 34\n",
        "XML on [cran] : 33\n",
        "raster on [cran, rforge] : 31\n",
        "zoo on [cran, github, rforge] : 27\n",
        "mvtnorm on [cran, rforge] : 24\n",
        "xts on [cran, github, rforge] : 24\n",
        "\n"
       ]
      }
     ],
     "prompt_number": 23
    },
    {
     "cell_type": "heading",
     "level": 2,
     "metadata": {},
     "source": [
      "Installation des paquets en tenant compte de leurs d\u00e9pendances"
     ]
    },
    {
     "cell_type": "code",
     "collapsed": false,
     "input": [
      "# Packages that are available in at least one of our true sources.\n",
      "candidates = filter(lambda p: len(p.sources) > 0, packages.itervalues())"
     ],
     "language": "python",
     "metadata": {},
     "outputs": [],
     "prompt_number": 24
    },
    {
     "cell_type": "code",
     "collapsed": false,
     "input": [
      "import itertools\n",
      "\n",
      "combinations = [('R', )]\n",
      "for i in range(1, 6):\n",
      "    for comb in itertools.combinations(filter(lambda x: x != 'R', sources), i):\n",
      "        e = ['R'] + list(comb)\n",
      "        e.sort()\n",
      "        e = tuple(e) # hashable\n",
      "        combinations.append(e)"
     ],
     "language": "python",
     "metadata": {},
     "outputs": [],
     "prompt_number": 25
    },
    {
     "cell_type": "code",
     "collapsed": false,
     "input": [
      "installables = {}\n",
      "\n",
      "installables['all'] = {}\n",
      "for comb in combinations:\n",
      "    n = filter(lambda p: p.installable_with(comb), candidates)\n",
      "    installables['all'][comb] = len(n)  # Change to n if you are interested in the packages list\n",
      "\n",
      "for source in sources:\n",
      "    if source == 'R':\n",
      "        continue\n",
      "    installables[source] = {}\n",
      "    for comb in combinations:\n",
      "        n = filter(lambda p: p.installable_with(comb), filter(lambda p: source in p.sources, candidates))\n",
      "        installables[source][comb] = len(n)"
     ],
     "language": "python",
     "metadata": {},
     "outputs": [],
     "prompt_number": 26
    },
    {
     "cell_type": "markdown",
     "metadata": {},
     "source": [
      "A ce stade-ci du notebook, plusieurs \u00e9l\u00e9ments importants sont disponibles :\n",
      " - `sources` est une liste des sources disponibles. \n",
      " - `combinations` est une liste des combinaisons de sources (type `tuple`) utilis\u00e9s pour le calcul de l'installabilit\u00e9. \n",
      " - `candidates` est une liste de tous les paquets candidats \u00e0 l'installation (autrement dit, tout ceux qui sont au moins disponibles sur l'une de nos sources). \n",
      "\n",
      "`installables` est maintenant un dictionnaire dont les cl\u00e9s sont les sources disponibles, et la valeur est un dictionnaire reprenant, pour chaque combinaison de sources, le nombre de packages virtuellement installables depuis cette combinaison. \n",
      "\n",
      "Par exemple, pour conna\u00eetre les paquets de R-Forge qui sont installables avec R, GitHub et R-Forge, il convient d'utiliser ceci :"
     ]
    },
    {
     "cell_type": "code",
     "collapsed": false,
     "input": [
      "installables['rforge'][('R', 'github', 'rforge')]"
     ],
     "language": "python",
     "metadata": {},
     "outputs": [
      {
       "metadata": {},
       "output_type": "pyout",
       "prompt_number": 27,
       "text": [
        "1115"
       ]
      }
     ],
     "prompt_number": 27
    },
    {
     "cell_type": "markdown",
     "metadata": {},
     "source": [
      "Notez que les \u00e9l\u00e9ments formant le tuple utilis\u00e9 comme cl\u00e9 du dictionnaire sont tri\u00e9s par ordre alphab\u00e9tique. "
     ]
    },
    {
     "cell_type": "code",
     "collapsed": false,
     "input": [
      "for source in installables.iterkeys():\n",
      "    if source == 'all':\n",
      "        n = len(candidates)\n",
      "    else:\n",
      "        n = len(filter(lambda p: source in p.sources, candidates))\n",
      "    print n, 'candidates on', source\n",
      "    for combination, value in installables[source].iteritems():\n",
      "        print value, 'installable packages using', str(combination)\n",
      "    print"
     ],
     "language": "python",
     "metadata": {},
     "outputs": [
      {
       "output_type": "stream",
       "stream": "stdout",
       "text": [
        "13390 candidates on all\n",
        "5530 installable packages using ('R', 'biocDS', 'rforge')\n",
        "6046 installable packages using ('R', 'github', 'rforge')\n",
        "5527 installable packages using ('R', 'rforge')\n",
        "4544 installable packages using ('R', 'bioconductor')\n",
        "11152 installable packages using ('R', 'biocDS', 'cran', 'github', 'rforge')\n",
        "6324 installable packages using ('R', 'bioconductor', 'github', 'rforge')\n",
        "10909 installable packages using ('R', 'cran', 'rforge')\n",
        "12820 installable packages using ('R', 'biocDS', 'bioconductor', 'cran')\n",
        "5791 installable packages using ('R', 'bioconductor', 'rforge')\n",
        "4654 installable packages using ('R', 'biocDS', 'github')\n",
        "10789 installable packages using ('R', 'biocDS', 'cran')\n",
        "12717 installable packages using ('R', 'bioconductor', 'cran', 'github')\n",
        "12461 installable packages using ('R', 'bioconductor', 'cran')\n",
        "4874 installable packages using ('R', 'bioconductor', 'github')\n",
        "4328 installable packages using ('R',)\n",
        "6049 installable packages using ('R', 'biocDS', 'github', 'rforge')\n",
        "4552 installable packages using ('R', 'biocDS', 'bioconductor')\n",
        "11045 installable packages using ('R', 'biocDS', 'cran', 'github')\n",
        "11147 installable packages using ('R', 'cran', 'github', 'rforge')\n",
        "11040 installable packages using ('R', 'cran', 'github')\n",
        "4651 installable packages using ('R', 'github')\n",
        "12600 installable packages using ('R', 'bioconductor', 'cran', 'rforge')\n",
        "12961 installable packages using ('R', 'biocDS', 'bioconductor', 'cran', 'rforge')\n",
        "4331 installable packages using ('R', 'biocDS')\n",
        "10914 installable packages using ('R', 'biocDS', 'cran', 'rforge')\n",
        "12838 installable packages using ('R', 'bioconductor', 'cran', 'github', 'rforge')\n",
        "13080 installable packages using ('R', 'biocDS', 'bioconductor', 'cran', 'github')\n",
        "10784 installable packages using ('R', 'cran')\n",
        "4882 installable packages using ('R', 'biocDS', 'bioconductor', 'github')\n",
        "13203 installable packages using ('R', 'biocDS', 'bioconductor', 'cran', 'github', 'rforge')\n",
        "6334 installable packages using ('R', 'biocDS', 'bioconductor', 'github', 'rforge')\n",
        "5801 installable packages using ('R', 'biocDS', 'bioconductor', 'rforge')\n",
        "\n",
        "5140 candidates on github\n",
        "1780 installable packages using ('R', 'biocDS', 'rforge')\n",
        "2154 installable packages using ('R', 'github', 'rforge')\n",
        "1780 installable packages using ('R', 'rforge')\n",
        "1463 installable packages using ('R', 'bioconductor')\n",
        "4567 installable packages using ('R', 'biocDS', 'cran', 'github', 'rforge')\n",
        "2219 installable packages using ('R', 'bioconductor', 'github', 'rforge')\n",
        "4347 installable packages using ('R', 'cran', 'rforge')\n",
        "4720 installable packages using ('R', 'biocDS', 'bioconductor', 'cran')\n",
        "1838 installable packages using ('R', 'bioconductor', 'rforge')\n",
        "1616 installable packages using ('R', 'biocDS', 'github')\n",
        "4315 installable packages using ('R', 'biocDS', 'cran')\n",
        "4912 installable packages using ('R', 'bioconductor', 'cran', 'github')\n",
        "4664 installable packages using ('R', 'bioconductor', 'cran')\n",
        "1658 installable packages using ('R', 'bioconductor', 'github')\n",
        "1422 installable packages using ('R',)\n",
        "2154 installable packages using ('R', 'biocDS', 'github', 'rforge')\n",
        "1463 installable packages using ('R', 'biocDS', 'bioconductor')\n",
        "4549 installable packages using ('R', 'biocDS', 'cran', 'github')\n",
        "4567 installable packages using ('R', 'cran', 'github', 'rforge')\n",
        "4549 installable packages using ('R', 'cran', 'github')\n",
        "1616 installable packages using ('R', 'github')\n",
        "4697 installable packages using ('R', 'bioconductor', 'cran', 'rforge')\n",
        "4755 installable packages using ('R', 'biocDS', 'bioconductor', 'cran', 'rforge')\n",
        "1422 installable packages using ('R', 'biocDS')\n",
        "4347 installable packages using ('R', 'biocDS', 'cran', 'rforge')\n",
        "4931 installable packages using ('R', 'bioconductor', 'cran', 'github', 'rforge')\n",
        "4972 installable packages using ('R', 'biocDS', 'bioconductor', 'cran', 'github')\n",
        "4315 installable packages using ('R', 'cran')\n",
        "1658 installable packages using ('R', 'biocDS', 'bioconductor', 'github')\n",
        "4993 installable packages using ('R', 'biocDS', 'bioconductor', 'cran', 'github', 'rforge')\n",
        "2219 installable packages using ('R', 'biocDS', 'bioconductor', 'github', 'rforge')\n",
        "1838 installable packages using ('R', 'biocDS', 'bioconductor', 'rforge')\n",
        "\n",
        "997 candidates on bioconductor\n",
        "139 installable packages using ('R', 'biocDS', 'rforge')\n",
        "139 installable packages using ('R', 'github', 'rforge')\n",
        "136 installable packages using ('R', 'rforge')\n",
        "265 installable packages using ('R', 'bioconductor')\n",
        "233 installable packages using ('R', 'biocDS', 'cran', 'github', 'rforge')\n",
        "327 installable packages using ('R', 'bioconductor', 'github', 'rforge')\n",
        "222 installable packages using ('R', 'cran', 'rforge')\n",
        "980 installable packages using ('R', 'biocDS', 'bioconductor', 'cran')\n",
        "319 installable packages using ('R', 'bioconductor', 'rforge')\n",
        "120 installable packages using ('R', 'biocDS', 'github')\n",
        "226 installable packages using ('R', 'biocDS', 'cran')\n",
        "862 installable packages using ('R', 'bioconductor', 'cran', 'github')\n",
        "862 installable packages using ('R', 'bioconductor', 'cran')\n",
        "271 installable packages using ('R', 'bioconductor', 'github')\n",
        "112 installable packages using ('R',)\n",
        "142 installable packages using ('R', 'biocDS', 'github', 'rforge')\n",
        "272 installable packages using ('R', 'biocDS', 'bioconductor')\n",
        "232 installable packages using ('R', 'biocDS', 'cran', 'github')\n",
        "228 installable packages using ('R', 'cran', 'github', 'rforge')\n",
        "227 installable packages using ('R', 'cran', 'github')\n",
        "117 installable packages using ('R', 'github')\n",
        "866 installable packages using ('R', 'bioconductor', 'cran', 'rforge')\n",
        "985 installable packages using ('R', 'biocDS', 'bioconductor', 'cran', 'rforge')\n",
        "115 installable packages using ('R', 'biocDS')\n",
        "227 installable packages using ('R', 'biocDS', 'cran', 'rforge')\n",
        "866 installable packages using ('R', 'bioconductor', 'cran', 'github', 'rforge')\n",
        "980 installable packages using ('R', 'biocDS', 'bioconductor', 'cran', 'github')\n",
        "221 installable packages using ('R', 'cran')\n",
        "278 installable packages using ('R', 'biocDS', 'bioconductor', 'github')\n",
        "985 installable packages using ('R', 'biocDS', 'bioconductor', 'cran', 'github', 'rforge')\n",
        "336 installable packages using ('R', 'biocDS', 'bioconductor', 'github', 'rforge')\n",
        "328 installable packages using ('R', 'biocDS', 'bioconductor', 'rforge')\n",
        "\n",
        "1115 candidates on biocDS\n",
        "255 installable packages using ('R', 'biocDS', 'rforge')\n",
        "255 installable packages using ('R', 'github', 'rforge')\n",
        "255 installable packages using ('R', 'rforge')\n",
        "260 installable packages using ('R', 'bioconductor')\n",
        "255 installable packages using ('R', 'biocDS', 'cran', 'github', 'rforge')\n",
        "261 installable packages using ('R', 'bioconductor', 'github', 'rforge')\n",
        "255 installable packages using ('R', 'cran', 'rforge')\n",
        "1115 installable packages using ('R', 'biocDS', 'bioconductor', 'cran')\n",
        "260 installable packages using ('R', 'bioconductor', 'rforge')\n",
        "255 installable packages using ('R', 'biocDS', 'github')\n",
        "255 installable packages using ('R', 'biocDS', 'cran')\n",
        "915 installable packages using ('R', 'bioconductor', 'cran', 'github')\n",
        "915 installable packages using ('R', 'bioconductor', 'cran')\n",
        "260 installable packages using ('R', 'bioconductor', 'github')\n",
        "255 installable packages using ('R',)\n",
        "255 installable packages using ('R', 'biocDS', 'github', 'rforge')\n",
        "260 installable packages using ('R', 'biocDS', 'bioconductor')\n",
        "255 installable packages using ('R', 'biocDS', 'cran', 'github')\n",
        "255 installable packages using ('R', 'cran', 'github', 'rforge')\n",
        "255 installable packages using ('R', 'cran', 'github')\n",
        "255 installable packages using ('R', 'github')\n",
        "915 installable packages using ('R', 'bioconductor', 'cran', 'rforge')\n",
        "1115 installable packages using ('R', 'biocDS', 'bioconductor', 'cran', 'rforge')\n",
        "255 installable packages using ('R', 'biocDS')\n",
        "255 installable packages using ('R', 'biocDS', 'cran', 'rforge')\n",
        "915 installable packages using ('R', 'bioconductor', 'cran', 'github', 'rforge')\n",
        "1115 installable packages using ('R', 'biocDS', 'bioconductor', 'cran', 'github')\n",
        "255 installable packages using ('R', 'cran')\n",
        "260 installable packages using ('R', 'biocDS', 'bioconductor', 'github')\n",
        "1115 installable packages using ('R', 'biocDS', 'bioconductor', 'cran', 'github', 'rforge')\n",
        "261 installable packages using ('R', 'biocDS', 'bioconductor', 'github', 'rforge')\n",
        "260 installable packages using ('R', 'biocDS', 'bioconductor', 'rforge')\n",
        "\n",
        "6397 candidates on cran\n",
        "3200 installable packages using ('R', 'biocDS', 'rforge')\n",
        "3428 installable packages using ('R', 'github', 'rforge')\n",
        "3200 installable packages using ('R', 'rforge')\n",
        "2484 installable packages using ('R', 'bioconductor')\n",
        "6255 installable packages using ('R', 'biocDS', 'cran', 'github', 'rforge')\n",
        "3464 installable packages using ('R', 'bioconductor', 'github', 'rforge')\n",
        "6241 installable packages using ('R', 'cran', 'rforge')\n",
        "6393 installable packages using ('R', 'biocDS', 'bioconductor', 'cran')\n",
        "3235 installable packages using ('R', 'bioconductor', 'rforge')\n",
        "2621 installable packages using ('R', 'biocDS', 'github')\n",
        "6240 installable packages using ('R', 'biocDS', 'cran')\n",
        "6388 installable packages using ('R', 'bioconductor', 'cran', 'github')\n",
        "6385 installable packages using ('R', 'bioconductor', 'cran')\n",
        "2653 installable packages using ('R', 'bioconductor', 'github')\n",
        "2457 installable packages using ('R',)\n",
        "3428 installable packages using ('R', 'biocDS', 'github', 'rforge')\n",
        "2485 installable packages using ('R', 'biocDS', 'bioconductor')\n",
        "6254 installable packages using ('R', 'biocDS', 'cran', 'github')\n",
        "6255 installable packages using ('R', 'cran', 'github', 'rforge')\n",
        "6254 installable packages using ('R', 'cran', 'github')\n",
        "2621 installable packages using ('R', 'github')\n",
        "6386 installable packages using ('R', 'bioconductor', 'cran', 'rforge')\n",
        "6394 installable packages using ('R', 'biocDS', 'bioconductor', 'cran', 'rforge')\n",
        "2457 installable packages using ('R', 'biocDS')\n",
        "6241 installable packages using ('R', 'biocDS', 'cran', 'rforge')\n",
        "6389 installable packages using ('R', 'bioconductor', 'cran', 'github', 'rforge')\n",
        "6396 installable packages using ('R', 'biocDS', 'bioconductor', 'cran', 'github')\n",
        "6240 installable packages using ('R', 'cran')\n",
        "2654 installable packages using ('R', 'biocDS', 'bioconductor', 'github')\n",
        "6397 installable packages using ('R', 'biocDS', 'bioconductor', 'cran', 'github', 'rforge')\n",
        "3465 installable packages using ('R', 'biocDS', 'bioconductor', 'github', 'rforge')\n",
        "3236 installable packages using ('R', 'biocDS', 'bioconductor', 'rforge')\n",
        "\n",
        "2204 candidates on rforge\n",
        "1061 installable packages using ('R', 'biocDS', 'rforge')\n",
        "1115 installable packages using ('R', 'github', 'rforge')\n",
        "1061 installable packages using ('R', 'rforge')\n",
        "662 installable packages using ('R', 'bioconductor')\n",
        "2068 installable packages using ('R', 'biocDS', 'cran', 'github', 'rforge')\n",
        "1133 installable packages using ('R', 'bioconductor', 'github', 'rforge')\n",
        "2057 installable packages using ('R', 'cran', 'rforge')\n",
        "2053 installable packages using ('R', 'biocDS', 'bioconductor', 'cran')\n",
        "1080 installable packages using ('R', 'bioconductor', 'rforge')\n",
        "709 installable packages using ('R', 'biocDS', 'github')\n",
        "1956 installable packages using ('R', 'biocDS', 'cran')\n",
        "2065 installable packages using ('R', 'bioconductor', 'cran', 'github')\n",
        "2048 installable packages using ('R', 'bioconductor', 'cran')\n",
        "727 installable packages using ('R', 'bioconductor', 'github')\n",
        "645 installable packages using ('R',)\n",
        "1115 installable packages using ('R', 'biocDS', 'github', 'rforge')\n",
        "662 installable packages using ('R', 'biocDS', 'bioconductor')\n",
        "1974 installable packages using ('R', 'biocDS', 'cran', 'github')\n",
        "2068 installable packages using ('R', 'cran', 'github', 'rforge')\n",
        "1974 installable packages using ('R', 'cran', 'github')\n",
        "709 installable packages using ('R', 'github')\n",
        "2157 installable packages using ('R', 'bioconductor', 'cran', 'rforge')\n",
        "2162 installable packages using ('R', 'biocDS', 'bioconductor', 'cran', 'rforge')\n",
        "645 installable packages using ('R', 'biocDS')\n",
        "2057 installable packages using ('R', 'biocDS', 'cran', 'rforge')\n",
        "2167 installable packages using ('R', 'bioconductor', 'cran', 'github', 'rforge')\n",
        "2070 installable packages using ('R', 'biocDS', 'bioconductor', 'cran', 'github')\n",
        "1956 installable packages using ('R', 'cran')\n",
        "727 installable packages using ('R', 'biocDS', 'bioconductor', 'github')\n",
        "2172 installable packages using ('R', 'biocDS', 'bioconductor', 'cran', 'github', 'rforge')\n",
        "1134 installable packages using ('R', 'biocDS', 'bioconductor', 'github', 'rforge')\n",
        "1081 installable packages using ('R', 'biocDS', 'bioconductor', 'rforge')\n",
        "\n"
       ]
      }
     ],
     "prompt_number": 28
    }
   ],
   "metadata": {}
  }
 ]
}