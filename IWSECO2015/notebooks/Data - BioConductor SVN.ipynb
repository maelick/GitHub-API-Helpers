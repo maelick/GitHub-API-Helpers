{
 "metadata": {
  "name": "",
  "signature": "sha256:c61057f7e22d27b8232c0da5bd1653e9e75be801483a9b097f7abfd7ed0798a1"
 },
 "nbformat": 3,
 "nbformat_minor": 0,
 "worksheets": [
  {
   "cells": [
    {
     "cell_type": "heading",
     "level": 1,
     "metadata": {},
     "source": [
      "Packages R sur BioConductor via SVN"
     ]
    },
    {
     "cell_type": "markdown",
     "metadata": {},
     "source": [
      "Le notebook *BioConductor* explique comment r\u00e9cup\u00e9rer la liste des paquets depuis la page publique de BioConductor, ainsi que les m\u00e9ta-donn\u00e9es associ\u00e9es \u00e0 ces packages. Il existe une alternative pour obtenir ces m\u00e9ta-donn\u00e9es, directement depuis les fichiers `DESCRIPTION` des packages.\n",
      "\n",
      "La page suivante donne un acc\u00e8s \u00e0 la liste des paquets R h\u00e9berg\u00e9s sur leur svn :\n",
      "https://hedgehog.fhcrc.org/bioconductor/branches/RELEASE_3_0/madman/Rpacks/\n",
      "(username/password : readonly)\n",
      "\n",
      "De ce listing, chaque sous-r\u00e9pertoire est un package et contient potentiellement un fichier `DESCRIPTION`. Nous allons r\u00e9cup\u00e9rer et parser ces fichiers."
     ]
    },
    {
     "cell_type": "code",
     "collapsed": false,
     "input": [
      "import requests\n",
      "\n",
      "URL = 'https://hedgehog.fhcrc.org/bioconductor/branches/RELEASE_3_0/madman/Rpacks/'\n",
      "URL_DESCR = 'https://hedgehog.fhcrc.org/bioconductor/branches/RELEASE_3_0/madman/Rpacks/{name}/DESCRIPTION'\n",
      "\n",
      "content = requests.get(URL, auth=requests.auth.HTTPBasicAuth('readonly', 'readonly')).content"
     ],
     "language": "python",
     "metadata": {},
     "outputs": [],
     "prompt_number": 2
    },
    {
     "cell_type": "code",
     "collapsed": true,
     "input": [
      "import BeautifulSoup as bs\n",
      "\n",
      "soup = bs.BeautifulSoup(content)\n",
      "\n",
      "names = []\n",
      "for anchor in soup.find('ul').findAll('a'):\n",
      "    names.append(anchor['href'][:-1])\n",
      "    \n",
      "# Remove '..'\n",
      "names.pop(0)"
     ],
     "language": "python",
     "metadata": {},
     "outputs": [
      {
       "metadata": {},
       "output_type": "pyout",
       "prompt_number": 17,
       "text": [
        "u'..'"
       ]
      }
     ],
     "prompt_number": 17
    },
    {
     "cell_type": "markdown",
     "metadata": {},
     "source": [
      "Pour chaque candidat package, nous attaquons l'adresse du `DESCRIPTION` que nous parsons \u00e0 l'aide de la fonction suivante."
     ]
    },
    {
     "cell_type": "code",
     "collapsed": false,
     "input": [
      "def parse_DESCRIPTION(content):\n",
      "    r = {}\n",
      "    for line in content.split('\\n'):\n",
      "        if len(line.strip()) > 0:\n",
      "            if line.startswith((' ', '\\t')):\n",
      "                r[key] += ' ' + line.strip() # key is already defined in this case\n",
      "            else:\n",
      "                try:\n",
      "                    key, value = line.split(':', 1)\n",
      "                    r[key.strip()] = value.strip()\n",
      "                except Exception as e:\n",
      "                    print line\n",
      "                    print 'len is', len(line)\n",
      "                    print '---'\n",
      "                    print content\n",
      "                    print '---'\n",
      "                    # raise\n",
      "    return r"
     ],
     "language": "python",
     "metadata": {},
     "outputs": [],
     "prompt_number": 16
    },
    {
     "cell_type": "code",
     "collapsed": false,
     "input": [
      "packages = {}\n",
      "errors = []\n",
      "\n",
      "for name in names:\n",
      "    r = requests.get(URL_DESCR.format(name=name), auth=requests.auth.HTTPBasicAuth('readonly', 'readonly'))\n",
      "    if r.status_code == 200:\n",
      "        packages[name] = parse_DESCRIPTION(r.content)\n",
      "    else:\n",
      "        errors.append(name)"
     ],
     "language": "python",
     "metadata": {},
     "outputs": [],
     "prompt_number": 19
    },
    {
     "cell_type": "code",
     "collapsed": false,
     "input": [
      "len(packages), len(errors), len(names)"
     ],
     "language": "python",
     "metadata": {},
     "outputs": [
      {
       "metadata": {},
       "output_type": "pyout",
       "prompt_number": 20,
       "text": [
        "(1001, 30, 1031)"
       ]
      }
     ],
     "prompt_number": 20
    },
    {
     "cell_type": "code",
     "collapsed": false,
     "input": [
      "import pandas\n",
      "\n",
      "df = pandas.DataFrame.from_dict(packages, orient='index')\n",
      "df = df.drop_duplicates('Package')\n",
      "df.to_csv('../data/bioconductorsvn_description.csv')"
     ],
     "language": "python",
     "metadata": {},
     "outputs": [],
     "prompt_number": 30
    }
   ],
   "metadata": {}
  }
 ]
}