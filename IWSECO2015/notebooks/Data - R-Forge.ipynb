{
 "metadata": {
  "name": "",
  "signature": "sha256:76d79a3c2b62375ff73c5dcb55ee41155e982980cbcb77ae1b5fb9df9577a9b5"
 },
 "nbformat": 3,
 "nbformat_minor": 0,
 "worksheets": [
  {
   "cells": [
    {
     "cell_type": "heading",
     "level": 1,
     "metadata": {},
     "source": [
      "Packages R sur R-Forge"
     ]
    },
    {
     "cell_type": "markdown",
     "metadata": {},
     "source": [
      "Nous allons extraire la liste des paquets R de R-Forge, ainsi que les fichiers `DESCRIPTION` de ces paquets. \n",
      "La liste des paquets est disponible sur la page https://r-forge.r-project.org/softwaremap/full_list.php. Elle se pr\u00e9sente sous la forme d'une liste pagin\u00e9e, qu'il va falloir parser pour r\u00e9cup\u00e9rer le nom du package. Notez que nous r\u00e9cup\u00e8rerons le nom utilis\u00e9 dans l'url du package et non le nom affich\u00e9, simplement parce que le premier, contrairement au deuxi\u00e8me, nous servira pour r\u00e9cup\u00e9rer le fichier `DESCRIPTION`.\n",
      "\n",
      "Chaque page (95 \u00e0 l'heure o\u00f9 j'\u00e9cris ces lignes) est accessible depuis https://r-forge.r-project.org/softwaremap/full_list.php?page=X o\u00f9 X est le num\u00e9ro de page (1-indexed). La premi\u00e8re chose \u00e0 faire est de r\u00e9cup\u00e9rer le nombre de pages."
     ]
    },
    {
     "cell_type": "code",
     "collapsed": false,
     "input": [
      "import requests\n",
      "import BeautifulSoup as bs\n",
      "\n",
      "LIST_URL = 'https://r-forge.r-project.org/softwaremap/full_list.php?page={page}'\n",
      "\n",
      "content = requests.get(LIST_URL.format(page=1)).content\n",
      "soup = bs.BeautifulSoup(content)\n",
      "\n",
      "anchors = soup.findAll('a')\n",
      "N = max(\n",
      "        map(lambda x: int(x), \n",
      "            map(lambda x: x['href'].rsplit('?page=', 1)[1], \n",
      "                filter(lambda x: x['href'].startswith('/softwaremap/full_list.php?page='), anchors)\n",
      "            )\n",
      "        )\n",
      "    ) "
     ],
     "language": "python",
     "metadata": {},
     "outputs": [],
     "prompt_number": 20
    },
    {
     "cell_type": "markdown",
     "metadata": {},
     "source": [
      "Ensuite, nous allons r\u00e9cup\u00e9rer le contenu de chacune de ces pages et le parser afin de rechercher les noms des packages. \n",
      "Sur chaque page, `<span property=\"doap:name\">` pr\u00e9c\u00e8de le nom du package. Mais comme nous voulons r\u00e9cup\u00e9rer le nom utilis\u00e9 dans les liens, nous devons remonter au premier parent de type `a` afin d'extraire l'url, et de cette url, extraire le package."
     ]
    },
    {
     "cell_type": "code",
     "collapsed": false,
     "input": [
      "def packages_list(url):\n",
      "    content = requests.get(url).content\n",
      "    soup = bs.BeautifulSoup(content)\n",
      "    spans = soup.findAll('span', attrs={'property': 'doap:name'})\n",
      "    anchors = [span.findParent('a', limit=1) for span in spans]\n",
      "    return map(lambda a: a['href'].rsplit('/', 2)[1], anchors)"
     ],
     "language": "python",
     "metadata": {},
     "outputs": [],
     "prompt_number": 21
    },
    {
     "cell_type": "code",
     "collapsed": false,
     "input": [
      "names = []\n",
      "\n",
      "for n in range(1, N+1):\n",
      "    names += packages_list(LIST_URL.format(page=n))"
     ],
     "language": "python",
     "metadata": {},
     "outputs": [],
     "prompt_number": 22
    },
    {
     "cell_type": "code",
     "collapsed": false,
     "input": [
      "print len(names)"
     ],
     "language": "python",
     "metadata": {},
     "outputs": [
      {
       "output_type": "stream",
       "stream": "stdout",
       "text": [
        "1883\n"
       ]
      }
     ],
     "prompt_number": 23
    },
    {
     "cell_type": "markdown",
     "metadata": {},
     "source": [
      "Apr\u00e8s un certain temps (souvenez-vous : il faut r\u00e9cup\u00e9rer et parser `N` (~95) pages !), `names` contient la liste des noms de package utilis\u00e9s dans les urls. Chaque package poss\u00e8de potentiellement un fichier `DESCRIPTION` sur son svn. Par exemple, pour le package `rcppbind`, l'adresse est https://r-forge.r-project.org/scm/viewvc.php/*checkout*/pkg/DESCRIPTION?root=rcppbind\n",
      "\n",
      "Tous les packages n'ont pas forc\u00e9ment un tel fichier. Le \"package\" epicookbook affiche une erreur 404 quand on acc\u00e8de \u00e0 la page https://r-forge.r-project.org/scm/viewvc.php/*checkout*/pkg/DESCRIPTION?root=epicookbook. Malheureusement pour nous, le code de retour n'est pas 404. Il va donc falloir \"parser\" (bri\u00e8vement et simplement) le contenu en cas de requ\u00eate, afin d'identifier si le retour est une \"page 404\" ou un r\u00e9el fichier `DESCRIPTION`. On peut y parvenir simplement parce que la seconde ligne est compos\u00e9e de `<!DOCTYPE html PUBLIC \"-//W3C//DTD XHTML 1.0 Strict//EN\"`. Il y a aussi des erreurs 403 (enfin, un \u00e9quivalent) restreignant l'acc\u00e8s \u00e0 certains packages. Ces contenus d\u00e9butent par `<?xml`.  \n",
      "\n",
      "Il y a aussi une autre subtilit\u00e9 : certains d\u00e9p\u00f4ts contiennent plusieurs packages R. C'est le cas par exemple de *SciViews*. Dans un tel cas, chaque sous-r\u00e9pertoire de `pkg` contient potentiellement un package, contenant lui m\u00eame potentiellement un fichier `DESCRIPTION`. Le parsing de ce listing se fait assez simplement : les noms qui nous int\u00e9ressent sont un attribut `name` des balises `a` dont le titre est `View directory contents`.\n",
      "\n",
      "La proc\u00e9dure pour r\u00e9cup\u00e9rer ces informations peut donc se r\u00e9sumer \u00e0 :\n",
      " - Tester l'existence du `DESCRIPTION` dans `pkg`.\n",
      " - Si le fichier est trouv\u00e9, le tour est jou\u00e9.\n",
      " - Sinon, r\u00e9cup\u00e9rer un listing du r\u00e9pertoire `pkg`.\n",
      " - Si le listing \u00e9choue, alors on passe au d\u00e9p\u00f4t suivant.\n",
      " - Si non, on teste la r\u00e9cup\u00e9ration de `DESCRIPTION` pour chaque sous-r\u00e9pertoire de `pkg`."
     ]
    },
    {
     "cell_type": "code",
     "collapsed": false,
     "input": [
      "DESCRIPTION_URL = 'https://r-forge.r-project.org/scm/viewvc.php/*checkout*/pkg/DESCRIPTION?root={name}'\n",
      "PKG_DIR_URL = 'https://r-forge.r-project.org/scm/viewvc.php/pkg/?root={name}'\n",
      "PKG_DESCRIPTION_URL = 'https://r-forge.r-project.org/scm/viewvc.php/*checkout*/pkg/{dir}/DESCRIPTION?root={name}'\n",
      "\n",
      "def parse_DESCRIPTION(content):\n",
      "    r = {}\n",
      "    for line in content.split('\\n'):\n",
      "        if len(line.strip()) > 0:\n",
      "            if line.startswith((' ', '\\t')):\n",
      "                r[key] += ' ' + line.strip() # key is already defined in this case\n",
      "            else:\n",
      "                try:\n",
      "                    key, value = line.split(':', 1)\n",
      "                    r[key.strip()] = value.strip()\n",
      "                except Exception as e:\n",
      "                    print line\n",
      "                    print 'len is', len(line)\n",
      "                    print '---'\n",
      "                    print content\n",
      "                    print '---'\n",
      "                    # raise\n",
      "    return r"
     ],
     "language": "python",
     "metadata": {},
     "outputs": [],
     "prompt_number": 24
    },
    {
     "cell_type": "code",
     "collapsed": false,
     "input": [
      "errors = []\n",
      "d = {}"
     ],
     "language": "python",
     "metadata": {},
     "outputs": [],
     "prompt_number": 25
    },
    {
     "cell_type": "code",
     "collapsed": false,
     "input": [
      "for i, name in enumerate(names):\n",
      "    if name in d:  # moins lent que de r\u00e9cup\u00e9rer et parser la page\n",
      "        continue\n",
      "    \n",
      "    content = requests.get(DESCRIPTION_URL.format(name=name)).content\n",
      "    # Check for /pkg/DESCRIPTION\n",
      "    if content.startswith(('\\n<?xml', '\\nInvalid repository type')):\n",
      "        # Looks like an error\n",
      "        errors.append(name)\n",
      "    elif content.startswith('\\n<!DOCTYPE'):\n",
      "        # DESCRIPTION is missing, looks for /pkg/\n",
      "        content = requests.get(PKG_DIR_URL.format(name=name)).content\n",
      "        # Get subdirectories\n",
      "        soup = bs.BeautifulSoup(content)\n",
      "        for anchor in soup.findAll('a', attrs={'title': 'View directory contents'}):\n",
      "            content = requests.get(PKG_DESCRIPTION_URL.format(name=name, dir=anchor['name'])).content\n",
      "            if not content.startswith('\\n<!DOCTYPE'):\n",
      "                d[anchor['name']] = parse_DESCRIPTION(content)\n",
      "    else:\n",
      "        # DESCRIPTION file is found\n",
      "        d[name] = parse_DESCRIPTION(content)"
     ],
     "language": "python",
     "metadata": {},
     "outputs": [
      {
       "output_type": "stream",
       "stream": "stdout",
       "text": [
        ". "
       ]
      },
      {
       "output_type": "stream",
       "stream": "stdout",
       "text": [
        ". "
       ]
      },
      {
       "output_type": "stream",
       "stream": "stdout",
       "text": [
        ". "
       ]
      },
      {
       "output_type": "stream",
       "stream": "stdout",
       "text": [
        ". "
       ]
      },
      {
       "output_type": "stream",
       "stream": "stdout",
       "text": [
        ". "
       ]
      },
      {
       "output_type": "stream",
       "stream": "stdout",
       "text": [
        ". "
       ]
      },
      {
       "output_type": "stream",
       "stream": "stdout",
       "text": [
        ". "
       ]
      },
      {
       "output_type": "stream",
       "stream": "stdout",
       "text": [
        ". "
       ]
      },
      {
       "output_type": "stream",
       "stream": "stdout",
       "text": [
        ". "
       ]
      },
      {
       "output_type": "stream",
       "stream": "stdout",
       "text": [
        ". "
       ]
      },
      {
       "output_type": "stream",
       "stream": "stdout",
       "text": [
        ". "
       ]
      },
      {
       "output_type": "stream",
       "stream": "stdout",
       "text": [
        ". "
       ]
      },
      {
       "output_type": "stream",
       "stream": "stdout",
       "text": [
        ". "
       ]
      },
      {
       "output_type": "stream",
       "stream": "stdout",
       "text": [
        ". "
       ]
      },
      {
       "output_type": "stream",
       "stream": "stdout",
       "text": [
        ". "
       ]
      },
      {
       "output_type": "stream",
       "stream": "stdout",
       "text": [
        ". "
       ]
      },
      {
       "output_type": "stream",
       "stream": "stdout",
       "text": [
        "It's main intention is to keep rpnf lean and without almost any dependency.\n",
        "len is 75\n",
        "---\n",
        "\n",
        "Package: rpnfext\n",
        "Type: Package\n",
        "Title: Extentions of the R Point and Figure Library rpnf\n",
        "Version: 0.0.1\n",
        "Date: 2014-05-06\n",
        "Author: Sascha M. Herrmann\n",
        "Maintainer: <Sascha.Martin.Herrmann@gmail.com>\n",
        "Description: This package contains extentions, wrappers and evaluation function around the rpnf package.\n",
        "It's main intention is to keep rpnf lean and without almost any dependency.\n",
        "License: MIT\n",
        "\n",
        "---\n",
        "."
       ]
      },
      {
       "output_type": "stream",
       "stream": "stdout",
       "text": [
        " . "
       ]
      },
      {
       "output_type": "stream",
       "stream": "stdout",
       "text": [
        ". "
       ]
      },
      {
       "output_type": "stream",
       "stream": "stdout",
       "text": [
        ". "
       ]
      },
      {
       "output_type": "stream",
       "stream": "stdout",
       "text": [
        ". "
       ]
      },
      {
       "output_type": "stream",
       "stream": "stdout",
       "text": [
        ". "
       ]
      },
      {
       "output_type": "stream",
       "stream": "stdout",
       "text": [
        ". "
       ]
      },
      {
       "output_type": "stream",
       "stream": "stdout",
       "text": [
        ". "
       ]
      },
      {
       "output_type": "stream",
       "stream": "stdout",
       "text": [
        ". "
       ]
      },
      {
       "output_type": "stream",
       "stream": "stdout",
       "text": [
        ". "
       ]
      },
      {
       "output_type": "stream",
       "stream": "stdout",
       "text": [
        ". "
       ]
      },
      {
       "output_type": "stream",
       "stream": "stdout",
       "text": [
        ". "
       ]
      },
      {
       "output_type": "stream",
       "stream": "stdout",
       "text": [
        ". "
       ]
      },
      {
       "output_type": "stream",
       "stream": "stdout",
       "text": [
        ". "
       ]
      },
      {
       "output_type": "stream",
       "stream": "stdout",
       "text": [
        ". "
       ]
      },
      {
       "output_type": "stream",
       "stream": "stdout",
       "text": [
        ". "
       ]
      },
      {
       "output_type": "stream",
       "stream": "stdout",
       "text": [
        ". "
       ]
      },
      {
       "output_type": "stream",
       "stream": "stdout",
       "text": [
        ". "
       ]
      },
      {
       "output_type": "stream",
       "stream": "stdout",
       "text": [
        ". "
       ]
      },
      {
       "output_type": "stream",
       "stream": "stdout",
       "text": [
        "modified traits.\r\n",
        "len is 17\n",
        "---\n",
        "\n",
        "Package: rseedcalc\r\n",
        "Type: Package\r\n",
        "Title: Estimation of the proportion of genetically modified stacked seeds in seedlots\r\n",
        "Version: 1.00\r\n",
        "Date: 2010-07-04\r\n",
        "Author: Kevin Wright, Jean-Louis Laffont\r\n",
        "Maintainer: Kevin Wright <kw.stat@gmail.com>\r\n",
        "Description: Estimate the percentage of seeds in a seedlot that contain stacks of genetically\r\n",
        "modified traits.\r\n",
        "Suggests: RExcelInstaller, rcom\r\n",
        "License: GPL2\r\n",
        "LazyLoad: yes\r\n",
        "\n",
        "---\n",
        "."
       ]
      },
      {
       "output_type": "stream",
       "stream": "stdout",
       "text": [
        " . "
       ]
      },
      {
       "output_type": "stream",
       "stream": "stdout",
       "text": [
        ".\n"
       ]
      }
     ],
     "prompt_number": 26
    },
    {
     "cell_type": "markdown",
     "metadata": {},
     "source": [
      "Apr\u00e8s un certain temps (~1900 pages \u00e0 parser, sans compter les listings et sous-r\u00e9pertoires), nous avons dans `d` le contenu suffisant pour g\u00e9n\u00e9rer un fichier .csv avec pandas !"
     ]
    },
    {
     "cell_type": "code",
     "collapsed": false,
     "input": [
      "# Before looking at subdirs: (773, 1109, 1882)\n",
      "len(d), len(errors), len(names)"
     ],
     "language": "python",
     "metadata": {},
     "outputs": [
      {
       "metadata": {},
       "output_type": "pyout",
       "prompt_number": 27,
       "text": [
        "(2217, 65, 1883)"
       ]
      }
     ],
     "prompt_number": 27
    },
    {
     "cell_type": "code",
     "collapsed": false,
     "input": [
      "import pandas\n",
      "\n",
      "df = pandas.DataFrame.from_dict(d, orient='index')\n",
      "df = df.drop_duplicates('Package')\n",
      "df.to_csv('../data/r-forge_description.csv')"
     ],
     "language": "python",
     "metadata": {},
     "outputs": [],
     "prompt_number": 28
    }
   ],
   "metadata": {}
  }
 ]
}