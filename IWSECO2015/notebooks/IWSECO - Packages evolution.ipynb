{
 "metadata": {
  "name": "",
  "signature": "sha256:dba5dfccaf60c459540dbffc07d9c9275f7415e41ecab5344a3b4f7efb456ede"
 },
 "nbformat": 3,
 "nbformat_minor": 0,
 "worksheets": [
  {
   "cells": [
    {
     "cell_type": "heading",
     "level": 1,
     "metadata": {},
     "source": [
      "\u00c9volution des packages dans le temps, sur les diff\u00e9rentes sources"
     ]
    },
    {
     "cell_type": "markdown",
     "metadata": {},
     "source": [
      "Ce notebook vise \u00e0 donner un aper\u00e7u de l'\u00e9volution du nombre de packages pr\u00e9sents dans chacune des sources consid\u00e9r\u00e9es. "
     ]
    },
    {
     "cell_type": "code",
     "collapsed": false,
     "input": [
      "%matplotlib inline\n",
      "from IPython.display import set_matplotlib_formats\n",
      "import matplotlib.pyplot as plt\n",
      "set_matplotlib_formats('pdf')\n",
      "\n",
      "import pandas"
     ],
     "language": "python",
     "metadata": {},
     "outputs": [],
     "prompt_number": 21
    },
    {
     "cell_type": "markdown",
     "metadata": {},
     "source": [
      "Nous allons commencer par charger les donn\u00e9es en provenance des diff\u00e9rentes sources. Le fichier `R-Packages.csv` contient les donn\u00e9es utiles pour Github : la liste des packages pr\u00e9sents sur Github (colonne `github == 1`) avec la date de cr\u00e9ation du d\u00e9p\u00f4t. \n",
      "\n",
      "Le fichier `cran-number-packages.csv` contient, pour chaque date, le nombre de paquets pr\u00e9sents \u00e0 cette release. \n",
      "\n",
      "Enfin, le fichier `bioconductor-number-packages.csv` contient, pour chaque release/date, le nombre de paquets pr\u00e9sents \u00e0 cette release pour chaque cat\u00e9gorie (software, experiment et annotation)."
     ]
    },
    {
     "cell_type": "code",
     "collapsed": false,
     "input": [
      "github_ = pandas.DataFrame.from_csv('../data/R-Packages.csv')\n",
      "bioconductor_ = pandas.DataFrame.from_csv('../data/bioconductor-number-packages.csv', header=None)\n",
      "cran_ = pandas.DataFrame.from_csv('../data/cran-number-packages.csv')"
     ],
     "language": "python",
     "metadata": {},
     "outputs": [],
     "prompt_number": 22
    },
    {
     "cell_type": "code",
     "collapsed": false,
     "input": [
      "\n",
      "github_cran = github_.query('cran == 1 and github == 1 and canonical == 1')[['creation']]\n",
      "github_cran['creation'] = pandas.to_datetime(github_cran['creation'])\n",
      "github_cran = github_cran.set_index('creation')\n",
      "github_cran['cran github'] = 1\n",
      "github_cran = github_cran.sort_index()\n",
      "github_cran = github_cran.cumsum()"
     ],
     "language": "python",
     "metadata": {},
     "outputs": [],
     "prompt_number": 23
    },
    {
     "cell_type": "code",
     "collapsed": false,
     "input": [
      "github = github_.query('github == 1 and cran != 1 and bioconductor != 1 and canonical == 1')[['creation']]\n",
      "github['creation'] = pandas.to_datetime(github['creation'])\n",
      "github = github.set_index('creation')\n",
      "github['github'] = 1\n",
      "github = github.sort_index()\n",
      "github = github.cumsum()"
     ],
     "language": "python",
     "metadata": {},
     "outputs": [],
     "prompt_number": 24
    },
    {
     "cell_type": "code",
     "collapsed": false,
     "input": [
      "bioconductor = bioconductor_.rename(columns={1: 'BiocSoft', 2: 'BiocAnnotation', 3: 'BiocExperiment', 4: 'date'})\n",
      "# bioconductor['BiocDatasets'] = bioconductor['BiocAnnotation'] + bioconductor['BiocExperiment']\n",
      "bioconductor['Bioconductor'] = bioconductor['BiocSoft'] # + bioconductor['BiocDatasets']\n",
      "bioconductor = bioconductor.set_index('date')\n",
      "bioconductor = bioconductor.sort_index()[['Bioconductor']]"
     ],
     "language": "python",
     "metadata": {},
     "outputs": [],
     "prompt_number": 25
    },
    {
     "cell_type": "code",
     "collapsed": false,
     "input": [
      "cran = cran_[['cran']]\n",
      "cran = cran.sort_index()"
     ],
     "language": "python",
     "metadata": {},
     "outputs": [],
     "prompt_number": 26
    },
    {
     "cell_type": "markdown",
     "metadata": {},
     "source": [
      "Maintenant, nous mergeons les informations afin de pouvoir les afficher."
     ]
    },
    {
     "cell_type": "code",
     "collapsed": false,
     "input": [
      "packages = cran.join(bioconductor, how='outer').join(github, how='outer').join(github_cran, how='outer').resample('1M', fill_method='pad')\n",
      "t = packages['2013-09-03':'2014-12-31'][['cran', 'github', 'cran github', 'Bioconductor']].plot(\n",
      "    style=['green', 'blue', 'purple', 'red'], logy=True, figsize=(7,5), title='Evolution of the number of R packages\\n')\n",
      "\n",
      "t.set_xlabel('date')\n",
      "t.set_ylabel('number of packages (in logarithmic scale)')\n",
      "\n",
      "t.legend(('CRAN', 'GitHub \\ (CRAN $\\cup$ BioConductor) ', 'GitHub $\\cap$ CRAN', 'BioConductor'), loc='best')"
     ],
     "language": "python",
     "metadata": {},
     "outputs": [
      {
       "metadata": {},
       "output_type": "pyout",
       "prompt_number": 28,
       "text": [
        "<matplotlib.legend.Legend at 0x7fdadfb60a50>"
       ]
      },
      {
       "application/pdf": "[encoded data removed]",
       "metadata": {},
       "output_type": "display_data",
       "text": [
        "<matplotlib.figure.Figure at 0x7fdadfb305d0>"
       ]
      }
     ],
     "prompt_number": 28
    }
   ],
   "metadata": {}
  }
 ]
}