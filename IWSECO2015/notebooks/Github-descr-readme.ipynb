{
 "metadata": {
  "name": ""
 },
 "nbformat": 3,
 "nbformat_minor": 0,
 "worksheets": [
  {
   "cells": [
    {
     "cell_type": "heading",
     "level": 1,
     "metadata": {},
     "source": [
      "R\u00e9cup\u00e9ration des packages R sur GitHub"
     ]
    },
    {
     "cell_type": "markdown",
     "metadata": {},
     "source": [
      "Sur base des \u00e9v\u00e9nements collect\u00e9s pour la p\u00e9riode 2013-2014 sur GitHubArchive, un certain nombre de d\u00e9p\u00f4ts \u00e9tiquett\u00e9s \"language = R\" ont \u00e9t\u00e9 identifi\u00e9s. Ces d\u00e9p\u00f4ts ont \u00e9t\u00e9 clon\u00e9s et stock\u00e9s localement. Nous allons parcourir l'ensemble de ces d\u00e9p\u00f4ts, r\u00e9cup\u00e9rer (s'ils existent) la position des fichiers `DESCRIPTION` et `README.ext` pr\u00e9sents dans le cas de packages R. Comme indicateur de \"package R\", nous utilisons la pr\u00e9sence du fichier `DESCRIPTION` dans l'arborescence. "
     ]
    },
    {
     "cell_type": "code",
     "collapsed": false,
     "input": [
      "import pandas\n",
      "import os"
     ],
     "language": "python",
     "metadata": {},
     "outputs": [],
     "prompt_number": 6
    },
    {
     "cell_type": "code",
     "collapsed": false,
     "input": [
      "GITHUB_DIR = '/data/github/'"
     ],
     "language": "python",
     "metadata": {},
     "outputs": [],
     "prompt_number": 7
    },
    {
     "cell_type": "code",
     "collapsed": false,
     "input": [
      "def scan_repository(path):\n",
      "    \"\"\"\n",
      "    Given a path to a (local) repository, return a list of `README...` and `DESCRIPTION` paths.\n",
      "    \"\"\"\n",
      "    readme = []\n",
      "    description = []\n",
      "    \n",
      "    for dirpath, dirnames, filenames in os.walk(path):\n",
      "        # Remove hidden subdirectories\n",
      "        indexes = []\n",
      "        for i, directory in enumerate(dirnames[:]): # [:] to copy dirnames!\n",
      "            if directory.startswith('.'):\n",
      "                indexes.append(i)\n",
      "        indexes.reverse()\n",
      "        for i in indexes:\n",
      "            del dirnames[i]\n",
      "        \n",
      "        # List files, grep the ones that interests us\n",
      "        for filename in filenames:\n",
      "            if filename.startswith('README'):\n",
      "                readme.append(os.path.join(dirpath, filename))\n",
      "            elif filename == 'DESCRIPTION':\n",
      "                description.append(os.path.join(dirpath, filename))\n",
      "    return {'README': readme, 'DESCRIPTION': description}"
     ],
     "language": "python",
     "metadata": {},
     "outputs": [],
     "prompt_number": 8
    },
    {
     "cell_type": "markdown",
     "metadata": {},
     "source": [
      "Nous allons stocker dans `packages` les r\u00e9sultats de notre recherche. Les cl\u00e9s de ce dictionnaire sont des couples (*owner*, *repository*) et la valeur associ\u00e9e est un dictionnaire avec deux cl\u00e9s, `README` et `DESCRIPTION`, tous deux des listes de chemin (relatif au d\u00e9p\u00f4t) o\u00f9 se situent un ou plusieurs fichiers *README* et *DESCRIPTION*."
     ]
    },
    {
     "cell_type": "code",
     "collapsed": false,
     "input": [
      "packages = {}"
     ],
     "language": "python",
     "metadata": {},
     "outputs": [],
     "prompt_number": 9
    },
    {
     "cell_type": "code",
     "collapsed": false,
     "input": [
      "for owner in os.listdir(GITHUB_DIR):\n",
      "    dirpath = os.path.join(GITHUB_DIR, owner)\n",
      "    if not os.path.isdir(dirpath):\n",
      "        continue\n",
      "    for repository in os.listdir(dirpath):\n",
      "        packages[(owner, repository)] = scan_repository(os.path.join(dirpath, repository))"
     ],
     "language": "python",
     "metadata": {},
     "outputs": [],
     "prompt_number": 10
    },
    {
     "cell_type": "code",
     "collapsed": false,
     "input": [
      "output = []\n",
      "for key, value in packages.iteritems():\n",
      "    owner, repository = key\n",
      "    description = value.get('DESCRIPTION', [])\n",
      "    readme = value.get('README', [])\n",
      "    row = []\n",
      "    row.append(owner)\n",
      "    row.append(repository)\n",
      "    row.append(', '.join(description))\n",
      "    row.append(', '.join(readme))\n",
      "    output.append(row)"
     ],
     "language": "python",
     "metadata": {},
     "outputs": [],
     "prompt_number": 14
    },
    {
     "cell_type": "code",
     "collapsed": false,
     "input": [
      "with open('../data/github-descr-readme.csv', 'w') as f:\n",
      "    for row in output:\n",
      "        f.write(' ; '.join(row) + '\\n')"
     ],
     "language": "python",
     "metadata": {},
     "outputs": [],
     "prompt_number": 20
    }
   ],
   "metadata": {}
  }
 ]
}