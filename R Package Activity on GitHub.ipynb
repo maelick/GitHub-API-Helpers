{
 "metadata": {
  "name": ""
 },
 "nbformat": 3,
 "nbformat_minor": 0,
 "worksheets": [
  {
   "cells": [
    {
     "cell_type": "heading",
     "level": 1,
     "metadata": {},
     "source": [
      "Activit\u00e9 des paquets R sur GitHub"
     ]
    },
    {
     "cell_type": "heading",
     "level": 2,
     "metadata": {},
     "source": [
      "Chargement des donn\u00e9es"
     ]
    },
    {
     "cell_type": "markdown",
     "metadata": {},
     "source": [
      "Nous avons collect\u00e9 pas mal de donn\u00e9es \u00e0 propos des paquets R pr\u00e9sents sur GitHub. En particulier, nous avons le flux d'activit\u00e9 de tous ces paquets (avec notamment les PushEvents) ainsi que des fichiers .csv contenant les fichiers *DESCRIPTION* de chaque package. Ces fichiers ont \u00e9t\u00e9 collect\u00e9s \u00e0 la fois sur CRAN, sur BioConductor et sur GitHub. \n",
      "\n",
      "Il serait int\u00e9ressant de comparer l'activit\u00e9 de ces diff\u00e9rents groupes de paquets.\n",
      "\n",
      "Pour ce notebook, les fichiers suivants vont \u00eatre utilis\u00e9s : \n",
      " - *bioconductor_description.csv* : contient les informations de *DESCRIPTION* des packages pr\u00e9sents sur BioConductor. \n",
      " - *cran-description.csv* : idem mais pour CRAN.\n",
      " - *github-description.csv* : idem mais pour tous les packages sur GitHub.\n",
      " - *github_R_pushevents.csv* : contient les \u00e9v\u00e9nements de type *PushEvent* relatifs aux d\u00e9p\u00f4ts contenant un package R sur GitHub."
     ]
    },
    {
     "cell_type": "code",
     "collapsed": false,
     "input": [
      "import pandas\n",
      "\n",
      "bioconductor = pandas.read_csv('bioconductor_description.csv')\n",
      "cran = pandas.read_csv('cran-description.csv')\n",
      "github = pandas.read_csv('github-description.csv')\n",
      "events = pandas.read_csv('github_R_pushevents.csv')"
     ],
     "language": "python",
     "metadata": {},
     "outputs": [],
     "prompt_number": 43
    },
    {
     "cell_type": "markdown",
     "metadata": {},
     "source": [
      "Le format de chacun de ces dataframes est un peu diff\u00e9rent. `cran` et `github` n\u00e9cessitent d'\u00eatre pivot\u00e9s, alors que `events` contient des donn\u00e9es d'une toute autre nature :"
     ]
    },
    {
     "cell_type": "code",
     "collapsed": false,
     "input": [
      "bioconductor.head()"
     ],
     "language": "python",
     "metadata": {},
     "outputs": [
      {
       "html": [
        "<div style=\"max-height:1000px;max-width:1500px;overflow:auto;\">\n",
        "<table border=\"1\" class=\"dataframe\">\n",
        "  <thead>\n",
        "    <tr style=\"text-align: right;\">\n",
        "      <th></th>\n",
        "      <th>Unnamed: 0</th>\n",
        "      <th>biocViews</th>\n",
        "      <th>Enhances</th>\n",
        "      <th>LinkingTo</th>\n",
        "      <th>License</th>\n",
        "      <th>URL</th>\n",
        "      <th>Imports</th>\n",
        "      <th>Suggests Me</th>\n",
        "      <th>Build Report</th>\n",
        "      <th>Suggests</th>\n",
        "      <th>Depends</th>\n",
        "      <th>Version</th>\n",
        "      <th>In Bioconductor since</th>\n",
        "      <th>Imports Me</th>\n",
        "      <th>Depends On Me</th>\n",
        "      <th>SystemRequirements</th>\n",
        "    </tr>\n",
        "  </thead>\n",
        "  <tbody>\n",
        "    <tr>\n",
        "      <th>0</th>\n",
        "      <td>  ABSSeq</td>\n",
        "      <td>              DifferentialExpression,Software</td>\n",
        "      <td>  NaN</td>\n",
        "      <td> Rcpp</td>\n",
        "      <td>             GPL (&gt;= 3)</td>\n",
        "      <td>                               NaN</td>\n",
        "      <td>                                              Rcpp</td>\n",
        "      <td> NaN</td>\n",
        "      <td> &amp;nbsp;</td>\n",
        "      <td>                    NaN</td>\n",
        "      <td>                              R (&gt;= 2.10), methods</td>\n",
        "      <td>  1.2.0</td>\n",
        "      <td> BioC 2.14 (R-3.1)</td>\n",
        "      <td> NaN</td>\n",
        "      <td> NaN</td>\n",
        "      <td> NaN</td>\n",
        "    </tr>\n",
        "    <tr>\n",
        "      <th>1</th>\n",
        "      <td> ABarray</td>\n",
        "      <td> Microarray,OneChannel,Preprocessing,Software</td>\n",
        "      <td>  NaN</td>\n",
        "      <td>  NaN</td>\n",
        "      <td>                    GPL</td>\n",
        "      <td>                               NaN</td>\n",
        "      <td> Biobase, graphics, grDevices, methods,multtest...</td>\n",
        "      <td> NaN</td>\n",
        "      <td> &amp;nbsp;</td>\n",
        "      <td>              limma,LPE</td>\n",
        "      <td>                                               NaN</td>\n",
        "      <td> 1.34.0</td>\n",
        "      <td>  BioC 1.9 (R-2.4)</td>\n",
        "      <td> NaN</td>\n",
        "      <td> NaN</td>\n",
        "      <td> NaN</td>\n",
        "    </tr>\n",
        "    <tr>\n",
        "      <th>2</th>\n",
        "      <td>    ACME</td>\n",
        "      <td> Microarray,Normalization,Software,Technology</td>\n",
        "      <td>  NaN</td>\n",
        "      <td>  NaN</td>\n",
        "      <td>             GPL (&gt;= 2)</td>\n",
        "      <td> http://watson.nci.nih.gov/~sdavis</td>\n",
        "      <td>                                   graphics, stats</td>\n",
        "      <td> NaN</td>\n",
        "      <td> &amp;nbsp;</td>\n",
        "      <td>                    NaN</td>\n",
        "      <td> R (&gt;= 2.10),Biobase(&gt;= 2.5.5), methods,BiocGen...</td>\n",
        "      <td> 2.22.0</td>\n",
        "      <td>  BioC 2.0 (R-2.5)</td>\n",
        "      <td> NaN</td>\n",
        "      <td> NaN</td>\n",
        "      <td> NaN</td>\n",
        "    </tr>\n",
        "    <tr>\n",
        "      <th>3</th>\n",
        "      <td> ADaCGH2</td>\n",
        "      <td>       CopyNumberVariants,Microarray,Software</td>\n",
        "      <td> Rmpi</td>\n",
        "      <td>  NaN</td>\n",
        "      <td>             GPL (&gt;= 3)</td>\n",
        "      <td>                               NaN</td>\n",
        "      <td> bit,ffbase,DNAcopy,tilingArray,GLAD,waveslim,c...</td>\n",
        "      <td> NaN</td>\n",
        "      <td> &amp;nbsp;</td>\n",
        "      <td> CGHregions,Cairo,limma</td>\n",
        "      <td>                        R (&gt;= 2.15.0), parallel,ff</td>\n",
        "      <td>  2.6.0</td>\n",
        "      <td> BioC 2.7 (R-2.12)</td>\n",
        "      <td> NaN</td>\n",
        "      <td> NaN</td>\n",
        "      <td> NaN</td>\n",
        "    </tr>\n",
        "    <tr>\n",
        "      <th>4</th>\n",
        "      <td>   AGDEX</td>\n",
        "      <td>  GeneExpression,Genetics,Microarray,Software</td>\n",
        "      <td>  NaN</td>\n",
        "      <td>  NaN</td>\n",
        "      <td> GPL Version 2 or later</td>\n",
        "      <td>                               NaN</td>\n",
        "      <td>                                             stats</td>\n",
        "      <td> NaN</td>\n",
        "      <td> &amp;nbsp;</td>\n",
        "      <td>                    NaN</td>\n",
        "      <td>                      R (&gt;= 2.10),Biobase,GSEABase</td>\n",
        "      <td> 1.14.0</td>\n",
        "      <td> BioC 2.9 (R-2.14)</td>\n",
        "      <td> NaN</td>\n",
        "      <td> NaN</td>\n",
        "      <td> NaN</td>\n",
        "    </tr>\n",
        "  </tbody>\n",
        "</table>\n",
        "</div>"
       ],
       "metadata": {},
       "output_type": "pyout",
       "prompt_number": 44,
       "text": [
        "  Unnamed: 0                                     biocViews Enhances LinkingTo  \\\n",
        "0     ABSSeq               DifferentialExpression,Software      NaN      Rcpp   \n",
        "1    ABarray  Microarray,OneChannel,Preprocessing,Software      NaN       NaN   \n",
        "2       ACME  Microarray,Normalization,Software,Technology      NaN       NaN   \n",
        "3    ADaCGH2        CopyNumberVariants,Microarray,Software     Rmpi       NaN   \n",
        "4      AGDEX   GeneExpression,Genetics,Microarray,Software      NaN       NaN   \n",
        "\n",
        "                  License                                URL  \\\n",
        "0              GPL (>= 3)                                NaN   \n",
        "1                     GPL                                NaN   \n",
        "2              GPL (>= 2)  http://watson.nci.nih.gov/~sdavis   \n",
        "3              GPL (>= 3)                                NaN   \n",
        "4  GPL Version 2 or later                                NaN   \n",
        "\n",
        "                                             Imports Suggests Me Build Report  \\\n",
        "0                                               Rcpp         NaN       &nbsp;   \n",
        "1  Biobase, graphics, grDevices, methods,multtest...         NaN       &nbsp;   \n",
        "2                                    graphics, stats         NaN       &nbsp;   \n",
        "3  bit,ffbase,DNAcopy,tilingArray,GLAD,waveslim,c...         NaN       &nbsp;   \n",
        "4                                              stats         NaN       &nbsp;   \n",
        "\n",
        "                 Suggests                                            Depends  \\\n",
        "0                     NaN                               R (>= 2.10), methods   \n",
        "1               limma,LPE                                                NaN   \n",
        "2                     NaN  R (>= 2.10),Biobase(>= 2.5.5), methods,BiocGen...   \n",
        "3  CGHregions,Cairo,limma                         R (>= 2.15.0), parallel,ff   \n",
        "4                     NaN                       R (>= 2.10),Biobase,GSEABase   \n",
        "\n",
        "  Version In Bioconductor since Imports Me Depends On Me SystemRequirements  \n",
        "0   1.2.0     BioC 2.14 (R-3.1)        NaN           NaN                NaN  \n",
        "1  1.34.0      BioC 1.9 (R-2.4)        NaN           NaN                NaN  \n",
        "2  2.22.0      BioC 2.0 (R-2.5)        NaN           NaN                NaN  \n",
        "3   2.6.0     BioC 2.7 (R-2.12)        NaN           NaN                NaN  \n",
        "4  1.14.0     BioC 2.9 (R-2.14)        NaN           NaN                NaN  "
       ]
      }
     ],
     "prompt_number": 44
    },
    {
     "cell_type": "code",
     "collapsed": false,
     "input": [
      "cran.head()"
     ],
     "language": "python",
     "metadata": {},
     "outputs": [
      {
       "html": [
        "<div style=\"max-height:1000px;max-width:1500px;overflow:auto;\">\n",
        "<table border=\"1\" class=\"dataframe\">\n",
        "  <thead>\n",
        "    <tr style=\"text-align: right;\">\n",
        "      <th></th>\n",
        "      <th>package</th>\n",
        "      <th>version</th>\n",
        "      <th>key</th>\n",
        "      <th>value</th>\n",
        "    </tr>\n",
        "  </thead>\n",
        "  <tbody>\n",
        "    <tr>\n",
        "      <th>0</th>\n",
        "      <td> A3</td>\n",
        "      <td> 0.9.2</td>\n",
        "      <td> Package</td>\n",
        "      <td>                                                A3</td>\n",
        "    </tr>\n",
        "    <tr>\n",
        "      <th>1</th>\n",
        "      <td> A3</td>\n",
        "      <td> 0.9.2</td>\n",
        "      <td>    Type</td>\n",
        "      <td>                                           Package</td>\n",
        "    </tr>\n",
        "    <tr>\n",
        "      <th>2</th>\n",
        "      <td> A3</td>\n",
        "      <td> 0.9.2</td>\n",
        "      <td>   Title</td>\n",
        "      <td> A3: Accurate, Adaptable, and Accessible Error ...</td>\n",
        "    </tr>\n",
        "    <tr>\n",
        "      <th>3</th>\n",
        "      <td> A3</td>\n",
        "      <td> 0.9.2</td>\n",
        "      <td> Version</td>\n",
        "      <td>                                             0.9.2</td>\n",
        "    </tr>\n",
        "    <tr>\n",
        "      <th>4</th>\n",
        "      <td> A3</td>\n",
        "      <td> 0.9.2</td>\n",
        "      <td>    Date</td>\n",
        "      <td>                                        2013-03-24</td>\n",
        "    </tr>\n",
        "  </tbody>\n",
        "</table>\n",
        "</div>"
       ],
       "metadata": {},
       "output_type": "pyout",
       "prompt_number": 45,
       "text": [
        "  package version      key                                              value\n",
        "0      A3   0.9.2  Package                                                 A3\n",
        "1      A3   0.9.2     Type                                            Package\n",
        "2      A3   0.9.2    Title  A3: Accurate, Adaptable, and Accessible Error ...\n",
        "3      A3   0.9.2  Version                                              0.9.2\n",
        "4      A3   0.9.2     Date                                         2013-03-24"
       ]
      }
     ],
     "prompt_number": 45
    },
    {
     "cell_type": "code",
     "collapsed": false,
     "input": [
      "github.head()"
     ],
     "language": "python",
     "metadata": {},
     "outputs": [
      {
       "html": [
        "<div style=\"max-height:1000px;max-width:1500px;overflow:auto;\">\n",
        "<table border=\"1\" class=\"dataframe\">\n",
        "  <thead>\n",
        "    <tr style=\"text-align: right;\">\n",
        "      <th></th>\n",
        "      <th>owner</th>\n",
        "      <th>repository</th>\n",
        "      <th>key</th>\n",
        "      <th>value</th>\n",
        "    </tr>\n",
        "  </thead>\n",
        "  <tbody>\n",
        "    <tr>\n",
        "      <th>0</th>\n",
        "      <td> 1beb</td>\n",
        "      <td> RGoogleDrive</td>\n",
        "      <td>      Author</td>\n",
        "      <td>                                 Brandon Bertelsen</td>\n",
        "    </tr>\n",
        "    <tr>\n",
        "      <th>1</th>\n",
        "      <td> 1beb</td>\n",
        "      <td> RGoogleDrive</td>\n",
        "      <td>     Collate</td>\n",
        "      <td> \\n'drive.auth.r'\\n'drive.file.r'\\n'drive.list....</td>\n",
        "    </tr>\n",
        "    <tr>\n",
        "      <th>2</th>\n",
        "      <td> 1beb</td>\n",
        "      <td> RGoogleDrive</td>\n",
        "      <td>        Date</td>\n",
        "      <td>                                        2013-12-02</td>\n",
        "    </tr>\n",
        "    <tr>\n",
        "      <th>3</th>\n",
        "      <td> 1beb</td>\n",
        "      <td> RGoogleDrive</td>\n",
        "      <td> Description</td>\n",
        "      <td> This package implements the `get` and `list` f...</td>\n",
        "    </tr>\n",
        "    <tr>\n",
        "      <th>4</th>\n",
        "      <td> 1beb</td>\n",
        "      <td> RGoogleDrive</td>\n",
        "      <td>     Imports</td>\n",
        "      <td>                                      \\nhttr,\\nXML</td>\n",
        "    </tr>\n",
        "  </tbody>\n",
        "</table>\n",
        "</div>"
       ],
       "metadata": {},
       "output_type": "pyout",
       "prompt_number": 46,
       "text": [
        "  owner    repository          key  \\\n",
        "0  1beb  RGoogleDrive       Author   \n",
        "1  1beb  RGoogleDrive      Collate   \n",
        "2  1beb  RGoogleDrive         Date   \n",
        "3  1beb  RGoogleDrive  Description   \n",
        "4  1beb  RGoogleDrive      Imports   \n",
        "\n",
        "                                               value  \n",
        "0                                  Brandon Bertelsen  \n",
        "1  \\n'drive.auth.r'\\n'drive.file.r'\\n'drive.list....  \n",
        "2                                         2013-12-02  \n",
        "3  This package implements the `get` and `list` f...  \n",
        "4                                       \\nhttr,\\nXML  "
       ]
      }
     ],
     "prompt_number": 46
    },
    {
     "cell_type": "code",
     "collapsed": false,
     "input": [
      "events.head()"
     ],
     "language": "python",
     "metadata": {},
     "outputs": [
      {
       "html": [
        "<div style=\"max-height:1000px;max-width:1500px;overflow:auto;\">\n",
        "<table border=\"1\" class=\"dataframe\">\n",
        "  <thead>\n",
        "    <tr style=\"text-align: right;\">\n",
        "      <th></th>\n",
        "      <th>created_at</th>\n",
        "      <th>owner</th>\n",
        "      <th>repository</th>\n",
        "      <th>package</th>\n",
        "      <th>actor</th>\n",
        "    </tr>\n",
        "  </thead>\n",
        "  <tbody>\n",
        "    <tr>\n",
        "      <th>0</th>\n",
        "      <td> 2013-01-01 14:01:09</td>\n",
        "      <td> SachaEpskamp</td>\n",
        "      <td> qgraph</td>\n",
        "      <td> qgraph</td>\n",
        "      <td> SachaEpskamp</td>\n",
        "    </tr>\n",
        "    <tr>\n",
        "      <th>1</th>\n",
        "      <td> 2013-01-01 14:38:59</td>\n",
        "      <td>      trinker</td>\n",
        "      <td>   qdap</td>\n",
        "      <td>   qdap</td>\n",
        "      <td>      trinker</td>\n",
        "    </tr>\n",
        "    <tr>\n",
        "      <th>2</th>\n",
        "      <td> 2013-01-01 14:48:33</td>\n",
        "      <td>      trinker</td>\n",
        "      <td>   qdap</td>\n",
        "      <td>   qdap</td>\n",
        "      <td>      trinker</td>\n",
        "    </tr>\n",
        "    <tr>\n",
        "      <th>3</th>\n",
        "      <td> 2013-01-01 14:58:52</td>\n",
        "      <td>      trinker</td>\n",
        "      <td>   qdap</td>\n",
        "      <td>   qdap</td>\n",
        "      <td>      trinker</td>\n",
        "    </tr>\n",
        "    <tr>\n",
        "      <th>4</th>\n",
        "      <td> 2013-01-01 17:14:05</td>\n",
        "      <td>      trinker</td>\n",
        "      <td>   qdap</td>\n",
        "      <td>   qdap</td>\n",
        "      <td>      trinker</td>\n",
        "    </tr>\n",
        "  </tbody>\n",
        "</table>\n",
        "</div>"
       ],
       "metadata": {},
       "output_type": "pyout",
       "prompt_number": 47,
       "text": [
        "            created_at         owner repository package         actor\n",
        "0  2013-01-01 14:01:09  SachaEpskamp     qgraph  qgraph  SachaEpskamp\n",
        "1  2013-01-01 14:38:59       trinker       qdap    qdap       trinker\n",
        "2  2013-01-01 14:48:33       trinker       qdap    qdap       trinker\n",
        "3  2013-01-01 14:58:52       trinker       qdap    qdap       trinker\n",
        "4  2013-01-01 17:14:05       trinker       qdap    qdap       trinker"
       ]
      }
     ],
     "prompt_number": 47
    },
    {
     "cell_type": "heading",
     "level": 2,
     "metadata": {},
     "source": [
      "Mise en place des DataFrames"
     ]
    },
    {
     "cell_type": "markdown",
     "metadata": {},
     "source": [
      "`BioConductor` n\u00e9cessite juste un renommage sur le label des packages."
     ]
    },
    {
     "cell_type": "code",
     "collapsed": false,
     "input": [
      "bioconductor = bioconductor.rename(columns={'Unnamed: 0': 'Package'}).set_index('Package')"
     ],
     "language": "python",
     "metadata": {},
     "outputs": [],
     "prompt_number": 48
    },
    {
     "cell_type": "markdown",
     "metadata": {},
     "source": [
      "`cran` doit \u00eatre pivot\u00e9 et n\u00e9cessite \u00e9galement un renommage et un index sur le nom des packages. Le dataframe `cran` contient \u00e9galement des informations pour plusieurs versions d'un m\u00eame package. Par convention, nous ne garderons que la derni\u00e8re information (i.e. la derni\u00e8re version)."
     ]
    },
    {
     "cell_type": "code",
     "collapsed": false,
     "input": [
      "cran = cran.rename(columns={'package': 'Package'}).drop(labels=['version'], axis=1).drop_duplicates(['Package', 'key'], take_last=True).pivot(index='Package', columns='key', values='value')"
     ],
     "language": "python",
     "metadata": {},
     "outputs": [],
     "prompt_number": 49
    },
    {
     "cell_type": "markdown",
     "metadata": {},
     "source": [
      "Le dataframe `github` est un peu diff\u00e9rent, dans le sens o\u00f9 l'identification se fait via le couple `(owner, repository)` et non pas via le nom du package. La premi\u00e8re chose \u00e0 faire est d'associer un nom de package \u00e0 chaque d\u00e9p\u00f4t. Ensuite, nous utiliserons `(owner, repository)` comme index."
     ]
    },
    {
     "cell_type": "code",
     "collapsed": false,
     "input": [
      "_ = github[github['key'] == 'Package'][['owner', 'repository', 'value']].rename(columns={'value': 'Package'})\n",
      "_ = github.merge(_, on=('owner', 'repository')).drop_duplicates(['owner', 'repository', 'key'], take_last=True)\n",
      "_['url'] = _['owner'] + '/' + _['repository']\n",
      "github = _.pivot(index='url', columns='key', values='value')"
     ],
     "language": "python",
     "metadata": {},
     "outputs": [],
     "prompt_number": 74
    },
    {
     "cell_type": "markdown",
     "metadata": {},
     "source": [
      "Enfin, le dataframe `events` sera utilis\u00e9 ult\u00e9rieurement afin de joindre les informations des autres dataframes. La colonne `package` va \u00eatre renomm\u00e9e afin de faciliter la jointure avec `bioconductor` et `cran`, alors qu'une nouvelle colonne `url` va \u00eatre construite afin de faciliter la jointure avec `github`. Finalement, ce dataframe va \u00eatre index\u00e9 sur base de la date de l'\u00e9v\u00e9nement, renomm\u00e9e en `date`."
     ]
    },
    {
     "cell_type": "code",
     "collapsed": false,
     "input": [
      "_ = events.rename(columns={'package': 'Package', 'created_at': 'Date'})\n",
      "_['url'] = _['owner'] + '/' + _['repository']\n",
      "events = _.set_index('Date')"
     ],
     "language": "python",
     "metadata": {},
     "outputs": [],
     "prompt_number": 79
    },
    {
     "cell_type": "heading",
     "level": 2,
     "metadata": {},
     "source": [
      "Identification de l'appartenance de chaque \u00e9v\u00e9nement \u00e0 une ou plusieurs communaut\u00e9s"
     ]
    },
    {
     "cell_type": "markdown",
     "metadata": {},
     "source": [
      "Chaque \u00e9v\u00e9nement est associ\u00e9 \u00e0 un d\u00e9p\u00f4t GitHub ainsi qu'\u00e0 un package. \n",
      "\n",
      "**Une remarque importante** : l'association entre un \u00e9v\u00e9nement et un package provient d'un pr\u00e9-traitement en amont, dont le r\u00e9sultat a \u00e9t\u00e9 stock\u00e9 dans le .csv \u00e0 la base de `events`. Si, lors d'une reproduction de l'exp\u00e9rience courante, l'utilisateur souhaite repartir des donn\u00e9es brutes (issues de MongoDB ou de GitHubArchive), il convient de faire une jointure avec le dataframe `github`, sur base de `url` afin d'associer un package au d\u00e9p\u00f4t concern\u00e9 par l'\u00e9v\u00e9nement.\n",
      "\n",
      "Gr\u00e2ce \u00e0 cette association, il nous est possible d'identifier quels sont les packages qui appartiennent \u00e0 telle ou telle communaut\u00e9 (ex. : CRAN, BioConductor ou GitHub exclusivement) et de mesurer les diff\u00e9rences d'activit\u00e9 en fonction de ces communaut\u00e9s. La premi\u00e8re \u00e9tape consiste donc \u00e0 identifier, pour chaque \u00e9v\u00e9nement, si le d\u00e9p\u00f4t relatif est li\u00e9 \u00e0 une (ou plusieurs) communaut\u00e9s."
     ]
    }
   ],
   "metadata": {}
  }
 ]
}