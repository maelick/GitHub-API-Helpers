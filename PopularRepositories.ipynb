{
 "metadata": {
  "name": ""
 },
 "nbformat": 3,
 "nbformat_minor": 0,
 "worksheets": [
  {
   "cells": [
    {
     "cell_type": "heading",
     "level": 1,
     "metadata": {},
     "source": [
      "D\u00e9p\u00f4ts \"populaires\" li\u00e9s \u00e0 R"
     ]
    },
    {
     "cell_type": "markdown",
     "metadata": {},
     "source": [
      "Sur base des \u00e9v\u00e9nements de type *PushEvent* li\u00e9s \u00e0 des d\u00e9p\u00f4ts relatifs au langage R, nous allons identifier quels sont les d\u00e9p\u00f4ts les plus \"populaires\" (par activit\u00e9, par starred, par fork, etc.). "
     ]
    },
    {
     "cell_type": "code",
     "collapsed": false,
     "input": [
      "import pandas\n",
      "import pymongo\n",
      "import dateutil.parser\n",
      "\n",
      "from itertools import imap\n",
      "\n",
      "conn = pymongo.MongoClient()\n",
      "\n",
      "def _from_json_to_flat(e):\n",
      "    return {'created_at': dateutil.parser.parse(e['created_at']),\n",
      "            'owner': e['repository']['owner'],\n",
      "            'repository': e['repository']['name'],\n",
      "            'is_a_fork': e['repository']['fork'], \n",
      "            'forks': e['repository']['forks'], \n",
      "            'starred': e['repository']['stargazers'],\n",
      "            'watchers': e['repository']['watchers']}\n",
      "\n",
      "events = imap(_from_json_to_flat, \n",
      "              conn.r.events.find({'type': 'PushEvent'},\n",
      "                                 fields=['created_at', 'repository.name', 'repository.owner', \n",
      "                                         'repository.fork', 'repository.forks', \n",
      "                                         'repository.stargazers', 'repository.watchers']))"
     ],
     "language": "python",
     "metadata": {},
     "outputs": [],
     "prompt_number": 71
    },
    {
     "cell_type": "code",
     "collapsed": false,
     "input": [
      "# This should take some time (expect 683425 items)\n",
      "df_events = pandas.DataFrame(list(events))"
     ],
     "language": "python",
     "metadata": {},
     "outputs": [],
     "prompt_number": 72
    },
    {
     "cell_type": "code",
     "collapsed": false,
     "input": [
      "# Which ones are R packages?\n",
      "_ = pandas.read_csv('github-description.csv').query('key == \"Package\"')\n",
      "_ = _.rename(columns={'value': 'package_name'})\n",
      "_ = _[['owner', 'repository', 'package_name']]\n",
      "\n",
      "# Add a flag\n",
      "_['package'] = True\n",
      "df = df_events.merge(_, how='left', on=('owner', 'repository'))\n",
      "\n",
      "# Complete flag\n",
      "df = df.fillna({'package': False})"
     ],
     "language": "python",
     "metadata": {},
     "outputs": [],
     "prompt_number": 73
    },
    {
     "cell_type": "code",
     "collapsed": false,
     "input": [
      "# Aggregate by month\n",
      "df['date_agg'] = df.apply(lambda x: pandas.datetime(x['created_at'].year, x['created_at'].month, 1), axis=1)\n",
      "groups = df.groupby(('date_agg', 'owner', 'repository'), sort=False)\n",
      "df_agg = groups.aggregate(pandas.np.max).drop('created_at', axis=1)"
     ],
     "language": "python",
     "metadata": {},
     "outputs": [],
     "prompt_number": 74
    },
    {
     "cell_type": "code",
     "collapsed": false,
     "input": [
      "def topmost(df, date, criterion, limit=10):\n",
      "    return df.loc[date].sort(criterion, ascending=False)[:limit]"
     ],
     "language": "python",
     "metadata": {},
     "outputs": [],
     "prompt_number": 75
    },
    {
     "cell_type": "markdown",
     "metadata": {},
     "source": [
      "Il suffit maintenant d'utiliser la fonction `topmost` afin d'obtenir un classement des d\u00e9p\u00f4ts.\n",
      "\n",
      "Par exemple, `topmost(df_agg, '2014-01-01', 'forks')` pour obtenir la liste des 10 d\u00e9p\u00f4ts les plus fork\u00e9s en fin janvier 2014.\n",
      "Il est facile de filtrer pour ne conserver que les packages. Par exemple, `topmost(df_agg[df_agg['package'] == True], '2014-01-01', 'forks')`. "
     ]
    }
   ],
   "metadata": {}
  }
 ]
}