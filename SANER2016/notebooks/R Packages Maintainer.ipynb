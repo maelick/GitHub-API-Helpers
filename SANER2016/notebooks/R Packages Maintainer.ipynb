{
 "cells": [
  {
   "cell_type": "markdown",
   "metadata": {},
   "source": [
    "# R Packages Maintainer"
   ]
  },
  {
   "cell_type": "code",
   "execution_count": 1,
   "metadata": {
    "collapsed": true
   },
   "outputs": [],
   "source": [
    "import pandas\n",
    "import re\n",
    "\n",
    "from matplotlib import pyplot as plt\n",
    "\n",
    "%matplotlib inline\n",
    "from IPython.display import set_matplotlib_formats\n",
    "#set_matplotlib_formats('pdf')\n",
    "\n",
    "data = pandas.DataFrame.from_csv('../data/github-cran-150601.csv')\n",
    "data['Date'] = pandas.to_datetime(data['Date'])"
   ]
  },
  {
   "cell_type": "code",
   "execution_count": 2,
   "metadata": {
    "collapsed": false
   },
   "outputs": [
    {
     "name": "stdout",
     "output_type": "stream",
     "text": [
      "8533 maintainer values\n"
     ]
    }
   ],
   "source": [
    "print len(data.drop_duplicates('Maintainer')), 'maintainer values'"
   ]
  },
  {
   "cell_type": "code",
   "execution_count": 3,
   "metadata": {
    "collapsed": false
   },
   "outputs": [
    {
     "name": "stdout",
     "output_type": "stream",
     "text": [
      "6044 canonical maintainer values\n"
     ]
    }
   ],
   "source": [
    "def clean_maintainer(v):\n",
    "    v = v if isinstance(v, str) else ''\n",
    "    words = map(str.strip, v.split(' '))\n",
    "    words = map(lambda w: re.sub(r'[^@a-zA-Z]', '', w), words)\n",
    "    words = filter(lambda w: len(w) > 2 and '@' not in w, words)\n",
    "    words.sort()\n",
    "    return ' '.join(words)\n",
    "\n",
    "data['Maintainer_can'] = data['Maintainer'].apply(clean_maintainer)\n",
    "print len(data.drop_duplicates('Maintainer_can')), 'canonical maintainer values'"
   ]
  },
  {
   "cell_type": "code",
   "execution_count": 4,
   "metadata": {
    "collapsed": false
   },
   "outputs": [],
   "source": [
    "_maint_first = data.sort('Date').drop_duplicates('Maintainer_can').set_index('Maintainer_can')[['Date', 'InGitHub', 'InCRAN']]\n",
    "_maint_last = data.sort('Date', ascending=False).drop_duplicates('Maintainer_can').set_index('Maintainer_can')[['Date', 'InGitHub', 'InCRAN']]\n",
    "\n",
    "github = data.query('InGitHub == 1').sort('Date')\n",
    "cran = data.query('InCRAN == 1').sort('Date')\n",
    "\n",
    "__f = (lambda d,rev,name: d.drop_duplicates('Maintainer_can', take_last=rev)\n",
    "               .set_index('Maintainer_can')[['Date']]\n",
    "               .rename(columns={'Date':name}))\n",
    "\n",
    "maintainers = __f(github, False, 'GitHubFirstDate').join(\n",
    "    [__f(github, True, 'GitHubLastDate'), __f(cran, False, 'CRANFirstDate'), __f(cran, True, 'CRANLastDate'),],\n",
    "    how='outer')"
   ]
  },
  {
   "cell_type": "code",
   "execution_count": 5,
   "metadata": {
    "collapsed": true
   },
   "outputs": [],
   "source": [
    "maintainers['DaysOnGitHub'] = maintainers['GitHubLastDate'] - maintainers['GitHubFirstDate']\n",
    "maintainers['DaysOnCRAN'] = maintainers['CRANLastDate'] - maintainers['CRANFirstDate']\n",
    "# We consider CRAN first\n",
    "maintainers['CRANFirst-->GHFirst'] = maintainers['GitHubFirstDate'] - maintainers['CRANFirstDate'] \n",
    "maintainers['CRANLast-->GitHubLast'] = maintainers['GitHubLastDate'] - maintainers['CRANLastDate']\n",
    "maintainers['CRANLast-->GitHubFirst'] = maintainers['GitHubFirstDate'] - maintainers['CRANLastDate']\n",
    "maintainers['CRANFirst-->GitHubLast'] = maintainers['GitHubLastDate'] - maintainers['CRANFirstDate']\n",
    "\n",
    "fields = ['DaysOnGitHub', 'DaysOnCRAN', 'CRANFirst-->GHFirst', 'CRANLast-->GitHubLast', 'CRANLast-->GitHubFirst', 'CRANFirst-->GitHubLast']\n",
    "for field in fields:\n",
    "    maintainers[field] = maintainers[field].astype('timedelta64[D]')"
   ]
  },
  {
   "cell_type": "code",
   "execution_count": 7,
   "metadata": {
    "collapsed": false
   },
   "outputs": [
    {
     "name": "stdout",
     "output_type": "stream",
     "text": [
      " all\n",
      "6044 maintainers of 11442 packages\n",
      "DaysOnGitHub | mean: 275.196850394 | median: 82.0 | stddev: 452.322268348\n",
      "DaysOnCRAN | mean: 817.769325658 | median: 380.5 | stddev: 1084.94367843\n",
      "CRANFirst-->GHFirst | mean: 597.544827586 | median: 137.0 | stddev: 1073.92398917\n",
      "CRANLast-->GitHubLast | mean: 103.053793103 | median: 0.0 | stddev: 396.265029521\n",
      "CRANLast-->GitHubFirst | mean: -355.652413793 | median: -259.0 | stddev: 707.699850157\n",
      "CRANFirst-->GitHubLast | mean: 1056.27310345 | median: 706.0 | stddev: 1169.92601169\n",
      "\n",
      "on CRAN\n",
      "4864 maintainers of 10125 packages\n",
      "DaysOnGitHub | mean: 458.275862069 | median: 276.0 | stddev: 581.670782258\n",
      "DaysOnCRAN | mean: 817.769325658 | median: 380.5 | stddev: 1084.94367843\n",
      "CRANFirst-->GHFirst | mean: 597.544827586 | median: 137.0 | stddev: 1073.92398917\n",
      "CRANLast-->GitHubLast | mean: 103.053793103 | median: 0.0 | stddev: 396.265029521\n",
      "CRANLast-->GitHubFirst | mean: -355.652413793 | median: -259.0 | stddev: 707.699850157\n",
      "CRANFirst-->GitHubLast | mean: 1056.27310345 | median: 706.0 | stddev: 1169.92601169\n",
      "\n",
      "on GH\n",
      "1905 maintainers of 5841 packages\n",
      "DaysOnGitHub | mean: 275.196850394 | median: 82.0 | stddev: 452.322268348\n",
      "DaysOnCRAN | mean: 952.773793103 | median: 544.0 | stddev: 1140.48640691\n",
      "CRANFirst-->GHFirst | mean: 597.544827586 | median: 137.0 | stddev: 1073.92398917\n",
      "CRANLast-->GitHubLast | mean: 103.053793103 | median: 0.0 | stddev: 396.265029521\n",
      "CRANLast-->GitHubFirst | mean: -355.652413793 | median: -259.0 | stddev: 707.699850157\n",
      "CRANFirst-->GitHubLast | mean: 1056.27310345 | median: 706.0 | stddev: 1169.92601169\n",
      "\n",
      "on both\n",
      "725 maintainers of 4516 packages\n",
      "DaysOnGitHub | mean: 458.275862069 | median: 276.0 | stddev: 581.670782258\n",
      "DaysOnCRAN | mean: 952.773793103 | median: 544.0 | stddev: 1140.48640691\n",
      "CRANFirst-->GHFirst | mean: 597.544827586 | median: 137.0 | stddev: 1073.92398917\n",
      "CRANLast-->GitHubLast | mean: 103.053793103 | median: 0.0 | stddev: 396.265029521\n",
      "CRANLast-->GitHubFirst | mean: -355.652413793 | median: -259.0 | stddev: 707.699850157\n",
      "CRANFirst-->GitHubLast | mean: 1056.27310345 | median: 706.0 | stddev: 1169.92601169\n",
      "\n",
      "on both at least 1 minute\n",
      "509 maintainers of 4096 packages\n",
      "DaysOnGitHub | mean: 613.404715128 | median: 424.0 | stddev: 623.723131321\n",
      "DaysOnCRAN | mean: 1113.14734774 | median: 767.0 | stddev: 1165.63265403\n",
      "CRANFirst-->GHFirst | mean: 506.611001965 | median: 41.0 | stddev: 1000.71954524\n",
      "CRANLast-->GitHubLast | mean: 6.84872298625 | median: -1.0 | stddev: 257.214253011\n",
      "CRANLast-->GitHubFirst | mean: -607.029469548 | median: -411.0 | stddev: 612.973616595\n",
      "CRANFirst-->GitHubLast | mean: 1120.5108055 | median: 755.0 | stddev: 1159.68419302\n",
      "\n",
      "first on CRAN\n",
      "434 maintainers of 3476 packages\n",
      "DaysOnGitHub | mean: 421.3640553 | median: 163.0 | stddev: 607.382112949\n",
      "DaysOnCRAN | mean: 1352.62442396 | median: 1038.0 | stddev: 1275.67457478\n",
      "CRANFirst-->GHFirst | mean: 1107.65207373 | median: 724.0 | stddev: 1117.14711553\n",
      "CRANLast-->GitHubLast | mean: 176.313364055 | median: 37.5 | stddev: 467.675306777\n",
      "CRANLast-->GitHubFirst | mean: -245.444700461 | median: -123.0 | stddev: 790.964271291\n",
      "CRANFirst-->GitHubLast | mean: 1529.41705069 | median: 1165.5 | stddev: 1251.47586546\n",
      "\n",
      "first on GH\n",
      "291 maintainers of 1342 packages\n",
      "DaysOnGitHub | mean: 513.326460481 | median: 362.0 | stddev: 537.382724933\n",
      "DaysOnCRAN | mean: 356.432989691 | median: 186.0 | stddev: 470.504444786\n",
      "CRANFirst-->GHFirst | mean: -163.233676976 | median: -71.0 | stddev: 213.74945138\n",
      "CRANLast-->GitHubLast | mean: -6.20618556701 | median: -1.0 | stddev: 213.168345558\n",
      "CRANLast-->GitHubFirst | mean: -520.017182131 | median: -370.0 | stddev: 520.541001446\n",
      "CRANFirst-->GitHubLast | mean: 350.621993127 | median: 208.0 | stddev: 493.88724952\n",
      "\n",
      "migrate from GH to CRAN\n",
      "66 maintainers of 99 packages\n",
      "DaysOnGitHub | mean: 115.424242424 | median: 18.0 | stddev: 179.974960703\n",
      "DaysOnCRAN | mean: 48.4393939394 | median: 0.0 | stddev: 166.130544479\n",
      "CRANFirst-->GHFirst | mean: -166.439393939 | median: -67.5 | stddev: 215.792074339\n",
      "CRANLast-->GitHubLast | mean: -99.1818181818 | median: -21.5 | stddev: 190.49109885\n",
      "CRANLast-->GitHubFirst | mean: -214.96969697 | median: -92.5 | stddev: 260.016151551\n",
      "CRANFirst-->GitHubLast | mean: -50.6060606061 | median: -5.5 | stddev: 113.405450797\n",
      "\n",
      "migrate from CRAN to GH\n",
      "150 maintainers of 411 packages\n",
      "DaysOnGitHub | mean: 82.7266666667 | median: 7.5 | stddev: 165.134027187\n",
      "DaysOnCRAN | mean: 806.48 | median: 302.5 | stddev: 1097.35017457\n",
      "CRANFirst-->GHFirst | mean: 1242.26666667 | median: 725.5 | stddev: 1210.02277236\n",
      "CRANLast-->GitHubLast | mean: 518.493333333 | median: 385.0 | stddev: 546.007113884\n",
      "CRANLast-->GitHubFirst | mean: 435.453333333 | median: 248.5 | stddev: 518.071457157\n",
      "CRANFirst-->GitHubLast | mean: 1325.32 | median: 902.5 | stddev: 1195.93651669\n",
      "\n"
     ]
    }
   ],
   "source": [
    "from collections import OrderedDict\n",
    "\n",
    "testdata = OrderedDict([\n",
    "    ('all', maintainers), \n",
    "    ('on CRAN', maintainers.dropna(subset=['CRANFirstDate', 'CRANLastDate'])),\n",
    "    ('on GH', maintainers.dropna(subset=['GitHubFirstDate', 'GitHubLastDate'])),\n",
    "    ('on both', maintainers.dropna()),\n",
    "    ('on both at least 1 minute', maintainers.dropna().query('GitHubFirstDate <= CRANLastDate and GitHubLastDate >= CRANFirstDate')),\n",
    "    ('first on CRAN', maintainers.dropna().query('CRANFirstDate <= GitHubFirstDate')),\n",
    "    ('first on GH', maintainers.dropna().query('GitHubFirstDate <= CRANFirstDate')),\n",
    "    ('migrate from GH to CRAN', maintainers.dropna().query('GitHubLastDate <= CRANFirstDate')),\n",
    "    ('migrate from CRAN to GH', maintainers.dropna().query('CRANLastDate <= GitHubFirstDate')),\n",
    "])\n",
    "\n",
    "for key, value in testdata.iteritems():\n",
    "    print key\n",
    "    print len(value), 'maintainers of', len(data[data['Maintainer_can'].isin(value.index)].drop_duplicates(subset=['Package'])), 'packages'\n",
    "    for field in fields:\n",
    "        print field, '| mean:', value[field].mean(), '| median:', value[field].median(), '| stddev:', value[field].std()\n",
    "    print"
   ]
  }
 ],
 "metadata": {
  "kernelspec": {
   "display_name": "Python 2",
   "language": "python",
   "name": "python2"
  },
  "language_info": {
   "codemirror_mode": {
    "name": "ipython",
    "version": 2
   },
   "file_extension": ".py",
   "mimetype": "text/x-python",
   "name": "python",
   "nbconvert_exporter": "python",
   "pygments_lexer": "ipython2",
   "version": "2.7.9"
  }
 },
 "nbformat": 4,
 "nbformat_minor": 0
}
