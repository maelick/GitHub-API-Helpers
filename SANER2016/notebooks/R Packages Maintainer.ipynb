{
 "cells": [
  {
   "cell_type": "markdown",
   "metadata": {},
   "source": [
    "# R Packages Maintainer"
   ]
  },
  {
   "cell_type": "code",
   "execution_count": 83,
   "metadata": {
    "collapsed": true
   },
   "outputs": [],
   "source": [
    "import pandas\n",
    "import re\n",
    "\n",
    "from matplotlib import pyplot as plt\n",
    "\n",
    "%matplotlib inline\n",
    "from IPython.display import set_matplotlib_formats\n",
    "#set_matplotlib_formats('pdf')\n",
    "\n",
    "data = pandas.DataFrame.from_csv('../data/github-cran-150601.csv')\n",
    "data['Date'] = pandas.to_datetime(data['Date'])"
   ]
  },
  {
   "cell_type": "code",
   "execution_count": 84,
   "metadata": {
    "collapsed": false
   },
   "outputs": [
    {
     "name": "stdout",
     "output_type": "stream",
     "text": [
      "8533 maintainer values\n"
     ]
    }
   ],
   "source": [
    "print len(data.drop_duplicates('Maintainer')), 'maintainer values'"
   ]
  },
  {
   "cell_type": "code",
   "execution_count": 85,
   "metadata": {
    "collapsed": false
   },
   "outputs": [
    {
     "name": "stdout",
     "output_type": "stream",
     "text": [
      "6044 canonical maintainer values\n"
     ]
    }
   ],
   "source": [
    "def clean_maintainer(v):\n",
    "    v = v if isinstance(v, str) else ''\n",
    "    words = map(str.strip, v.split(' '))\n",
    "    words = map(lambda w: re.sub(r'[^@a-zA-Z]', '', w), words)\n",
    "    words = filter(lambda w: len(w) > 2 and '@' not in w, words)\n",
    "    words.sort()\n",
    "    return ' '.join(words)\n",
    "\n",
    "data['Maintainer_can'] = data['Maintainer'].apply(clean_maintainer)\n",
    "print len(data.drop_duplicates('Maintainer_can')), 'canonical maintainer values'"
   ]
  },
  {
   "cell_type": "code",
   "execution_count": 103,
   "metadata": {
    "collapsed": false
   },
   "outputs": [],
   "source": [
    "_maint_first = data.sort('Date').drop_duplicates('Maintainer_can').set_index('Maintainer_can')[['Date', 'InGitHub', 'InCRAN']]\n",
    "_maint_last = data.sort('Date', ascending=False).drop_duplicates('Maintainer_can').set_index('Maintainer_can')[['Date', 'InGitHub', 'InCRAN']]\n",
    "\n",
    "github = data.query('InGitHub == 1').sort('Date')\n",
    "cran = data.query('InCRAN == 1').sort('Date')\n",
    "\n",
    "__f = (lambda d,rev,name: d.drop_duplicates('Maintainer_can', take_last=rev)\n",
    "               .set_index('Maintainer_can')[['Date']]\n",
    "               .rename(columns={'Date':name}))\n",
    "\n",
    "maintainers = __f(github, False, 'GitHubFirstDate').join(\n",
    "    [__f(github, True, 'GitHubLastDate'), __f(cran, False, 'CRANFirstDate'), __f(cran, True, 'CRANLastDate'),],\n",
    "    how='outer')"
   ]
  },
  {
   "cell_type": "code",
   "execution_count": 166,
   "metadata": {
    "collapsed": true
   },
   "outputs": [],
   "source": [
    "maintainers['DaysOnGitHub'] = maintainers['GitHubLastDate'] - maintainers['GitHubFirstDate']\n",
    "maintainers['DaysOnCRAN'] = maintainers['CRANLastDate'] - maintainers['CRANFirstDate']\n",
    "# We consider CRAN first\n",
    "maintainers['CRANFirst-->GHFirst'] = maintainers['GitHubFirstDate'] - maintainers['CRANFirstDate'] \n",
    "maintainers['CRANLast-->GitHubLast'] = maintainers['GitHubLastDate'] - maintainers['CRANLastDate']\n",
    "maintainers['CRANLast-->GitHubFirst'] = maintainers['GitHubFirstDate'] - maintainers['CRANLastDate']\n",
    "maintainers['CRANFirst-->GitHubLast'] = maintainers['GitHubLastDate'] - maintainers['CRANFirstDate']\n",
    "\n",
    "fields = ['DaysOnGitHub', 'DaysOnCRAN', 'CRANFirst-->GHFirst', 'CRANLast-->GitHubLast', 'CRANLast-->GitHubFirst', 'CRANFirst-->GitHubLast']\n",
    "for field in fields:\n",
    "    maintainers[field] = maintainers[field].astype('timedelta64[D]')"
   ]
  },
  {
   "cell_type": "code",
   "execution_count": 167,
   "metadata": {
    "collapsed": false
   },
   "outputs": [
    {
     "name": "stdout",
     "output_type": "stream",
     "text": [
      "all\n",
      "6044 maintainers of 11442 packages\n",
      "DaysOnGitHub | mean: 275.196850394 | median: nan | stddev: 452.203533009\n",
      "DaysOnCRAN | mean: 817.769325658 | median: 710.0 | stddev: 1084.83214477\n",
      "CRANFirst-->GHFirst | mean: 597.544827586 | median: nan | stddev: 1073.18309637\n",
      "CRANLast-->GitHubLast | mean: 103.053793103 | median: nan | stddev: 395.991648993\n",
      "CRANLast-->GitHubFirst | mean: -355.652413793 | median: nan | stddev: 707.211612879\n",
      "CRANFirst-->GitHubLast | mean: 1056.27310345 | median: nan | stddev: 1169.11888775\n",
      "\n",
      "on CRAN\n",
      "4864 maintainers of 10125 packages\n",
      "DaysOnGitHub | mean: 458.275862069 | median: nan | stddev: 581.269491571\n",
      "DaysOnCRAN | mean: 817.769325658 | median: 380.5 | stddev: 1084.83214477\n",
      "CRANFirst-->GHFirst | mean: 597.544827586 | median: nan | stddev: 1073.18309637\n",
      "CRANLast-->GitHubLast | mean: 103.053793103 | median: nan | stddev: 395.991648993\n",
      "CRANLast-->GitHubFirst | mean: -355.652413793 | median: nan | stddev: 707.211612879\n",
      "CRANFirst-->GitHubLast | mean: 1056.27310345 | median: nan | stddev: 1169.11888775\n",
      "\n",
      "on GH\n",
      "1905 maintainers of 5841 packages\n",
      "DaysOnGitHub | mean: 275.196850394 | median: 82.0 | stddev: 452.203533009\n",
      "DaysOnCRAN | mean: 952.773793103 | median: nan | stddev: 1139.69959315\n",
      "CRANFirst-->GHFirst | mean: 597.544827586 | median: nan | stddev: 1073.18309637\n",
      "CRANLast-->GitHubLast | mean: 103.053793103 | median: nan | stddev: 395.991648993\n",
      "CRANLast-->GitHubFirst | mean: -355.652413793 | median: nan | stddev: 707.211612879\n",
      "CRANFirst-->GitHubLast | mean: 1056.27310345 | median: nan | stddev: 1169.11888775\n",
      "\n",
      "on both\n",
      "725 maintainers of 4516 packages\n",
      "DaysOnGitHub | mean: 458.275862069 | median: 276.0 | stddev: 581.269491571\n",
      "DaysOnCRAN | mean: 952.773793103 | median: 544.0 | stddev: 1139.69959315\n",
      "CRANFirst-->GHFirst | mean: 597.544827586 | median: 137.0 | stddev: 1073.18309637\n",
      "CRANLast-->GitHubLast | mean: 103.053793103 | median: 0.0 | stddev: 395.991648993\n",
      "CRANLast-->GitHubFirst | mean: -355.652413793 | median: -259.0 | stddev: 707.211612879\n",
      "CRANFirst-->GitHubLast | mean: 1056.27310345 | median: 706.0 | stddev: 1169.11888775\n",
      "\n",
      "on both at least 1 minute\n",
      "509 maintainers of 4096 packages\n",
      "DaysOnGitHub | mean: 613.404715128 | median: 424.0 | stddev: 623.110135466\n",
      "DaysOnCRAN | mean: 1113.14734774 | median: 767.0 | stddev: 1164.48706884\n",
      "CRANFirst-->GHFirst | mean: 506.611001965 | median: 41.0 | stddev: 999.73603685\n",
      "CRANLast-->GitHubLast | mean: 6.84872298625 | median: -1.0 | stddev: 256.961462529\n",
      "CRANLast-->GitHubFirst | mean: -607.029469548 | median: -411.0 | stddev: 612.371185377\n",
      "CRANFirst-->GitHubLast | mean: 1120.5108055 | median: 755.0 | stddev: 1158.54445398\n",
      "\n",
      "first on CRAN\n",
      "434 maintainers of 3476 packages\n",
      "DaysOnGitHub | mean: 421.3640553 | median: 163.0 | stddev: 606.681960424\n",
      "DaysOnCRAN | mean: 1352.62442396 | median: 1038.0 | stddev: 1274.20405605\n",
      "CRANFirst-->GHFirst | mean: 1107.65207373 | median: 724.0 | stddev: 1115.85933745\n",
      "CRANLast-->GitHubLast | mean: 176.313364055 | median: 37.5 | stddev: 467.136199616\n",
      "CRANLast-->GitHubFirst | mean: -245.444700461 | median: -123.0 | stddev: 790.052496612\n",
      "CRANFirst-->GitHubLast | mean: 1529.41705069 | median: 1165.5 | stddev: 1250.03324151\n",
      "\n",
      "first on GH\n",
      "291 maintainers of 1342 packages\n",
      "DaysOnGitHub | mean: 513.326460481 | median: 362.0 | stddev: 536.458592306\n",
      "DaysOnCRAN | mean: 356.432989691 | median: 186.0 | stddev: 469.695322184\n",
      "CRANFirst-->GHFirst | mean: -163.233676976 | median: -71.0 | stddev: 213.381868217\n",
      "CRANLast-->GitHubLast | mean: -6.20618556701 | median: -1.0 | stddev: 212.801761717\n",
      "CRANLast-->GitHubFirst | mean: -520.017182131 | median: -370.0 | stddev: 519.645831392\n",
      "CRANFirst-->GitHubLast | mean: 350.621993127 | median: 208.0 | stddev: 493.037915703\n",
      "\n",
      "migrate from GH to CRAN\n",
      "66 maintainers of 99 packages\n",
      "DaysOnGitHub | mean: 115.424242424 | median: 18.0 | stddev: 178.606309961\n",
      "DaysOnCRAN | mean: 48.4393939394 | median: 0.0 | stddev: 164.867175996\n",
      "CRANFirst-->GHFirst | mean: -166.439393939 | median: -67.5 | stddev: 214.151046155\n",
      "CRANLast-->GitHubLast | mean: -99.1818181818 | median: -21.5 | stddev: 189.042476315\n",
      "CRANLast-->GitHubFirst | mean: -214.96969697 | median: -92.5 | stddev: 258.038813718\n",
      "CRANFirst-->GitHubLast | mean: -50.6060606061 | median: -5.5 | stddev: 112.543039415\n",
      "\n",
      "migrate from CRAN to GH\n",
      "150 maintainers of 411 packages\n",
      "DaysOnGitHub | mean: 82.7266666667 | median: 7.5 | stddev: 164.582659948\n",
      "DaysOnCRAN | mean: 806.48 | median: 302.5 | stddev: 1093.68622386\n",
      "CRANFirst-->GHFirst | mean: 1242.26666667 | median: 725.5 | stddev: 1205.98261826\n",
      "CRANLast-->GitHubLast | mean: 518.493333333 | median: 385.0 | stddev: 544.184046644\n",
      "CRANLast-->GitHubFirst | mean: 435.453333333 | median: 248.5 | stddev: 516.341664491\n",
      "CRANFirst-->GitHubLast | mean: 1325.32 | median: 902.5 | stddev: 1191.9433953\n",
      "\n"
     ]
    }
   ],
   "source": [
    "from collections import OrderedDict\n",
    "\n",
    "testdata = OrderedDict([\n",
    "    ('all', maintainers), \n",
    "    ('on CRAN', maintainers.dropna(subset=['CRANFirstDate', 'CRANLastDate'])),\n",
    "    ('on GH', maintainers.dropna(subset=['GitHubFirstDate', 'GitHubLastDate'])),\n",
    "    ('on both', maintainers.dropna()),\n",
    "    ('on both at least 1 minute', maintainers.dropna().query('GitHubFirstDate <= CRANLastDate and GitHubLastDate >= CRANFirstDate')),\n",
    "    ('first on CRAN', maintainers.dropna().query('CRANFirstDate <= GitHubFirstDate')),\n",
    "    ('first on GH', maintainers.dropna().query('GitHubFirstDate <= CRANFirstDate')),\n",
    "    ('migrate from GH to CRAN', maintainers.dropna().query('GitHubLastDate <= CRANFirstDate')),\n",
    "    ('migrate from CRAN to GH', maintainers.dropna().query('CRANLastDate <= GitHubFirstDate')),\n",
    "])\n",
    "\n",
    "for key, value in testdata.iteritems():\n",
    "    print key\n",
    "    print len(value), 'maintainers of', len(data[data['Maintainer_can'].isin(value.index)].drop_duplicates(subset=['Package'])), 'packages'\n",
    "    for field in fields:\n",
    "        print field, '| mean:', np.mean(value[field]), '| median:', np.median(value[field]), '| stddev:', np.std(value[field])\n",
    "    print"
   ]
  }
 ],
 "metadata": {
  "kernelspec": {
   "display_name": "Python 2",
   "language": "python",
   "name": "python2"
  },
  "language_info": {
   "codemirror_mode": {
    "name": "ipython",
    "version": 2
   },
   "file_extension": ".py",
   "mimetype": "text/x-python",
   "name": "python",
   "nbconvert_exporter": "python",
   "pygments_lexer": "ipython2",
   "version": "2.7.9"
  }
 },
 "nbformat": 4,
 "nbformat_minor": 0
}
