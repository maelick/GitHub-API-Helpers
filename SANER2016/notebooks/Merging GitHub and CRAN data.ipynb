{
 "cells": [
  {
   "cell_type": "markdown",
   "metadata": {},
   "source": [
    "# Merging GitHub and CRAN data"
   ]
  },
  {
   "cell_type": "markdown",
   "metadata": {},
   "source": [
    "Files:\n",
    "**github-raw-date.csv** contains the metadata of extracted package repositories. \n",
    "**cran-descfiles-date.csv** contains the metadata of all CRAN packages.\n",
    "**cran-packages-date.csv** contains the date at which a package was not archived."
   ]
  },
  {
   "cell_type": "code",
   "execution_count": 133,
   "metadata": {
    "collapsed": true
   },
   "outputs": [],
   "source": [
    "import pandas"
   ]
  },
  {
   "cell_type": "code",
   "execution_count": 134,
   "metadata": {
    "collapsed": false
   },
   "outputs": [],
   "source": [
    "github = pandas.DataFrame.from_csv('../data/github-raw-150601.csv', index_col=None).drop(labels='Unnamed: 0', axis=1).dropna(subset=('Package', 'Version'))\n",
    "desc = pandas.DataFrame.from_csv('../data/cran-descfiles-150601.csv', index_col=None)\n",
    "pkg = pandas.DataFrame.from_csv('../data/cran-packages-150601.csv', index_col=None)\n",
    "\n",
    "OUTPUT = '../data/github-cran-150601.csv'\n",
    "FIELDS = ['Author', 'Maintainer', 'Depends', 'Imports']\n",
    "IGNORED_OWNERS = ['Bioconductor-mirror', 'rpkg', 'cran']"
   ]
  },
  {
   "cell_type": "markdown",
   "metadata": {},
   "source": [
    "What we do:\n",
    " - Parse and clean dependencies in `Depends` and `Imports` and merge them in a single field `Dependencies`\n",
    " - Add (numerical) Boolean attributes `InGitHub` and `InCRAN`\n",
    " - Add a `CommitDate` for GitHub packages, and a `ServerDate` for CRAN packages and merge them in a single field `Date`"
   ]
  },
  {
   "cell_type": "code",
   "execution_count": 135,
   "metadata": {
    "collapsed": false
   },
   "outputs": [],
   "source": [
    "desc = desc.query(' or '.join(['key == \"{}\"'.format(f) for f in FIELDS])).set_index(['package', 'version', 'key'])\n",
    "desc = desc.unstack('key')['value']\n",
    "desc['ServerDate'] = desc['Date'] = pandas.to_datetime(pkg.set_index(['package', 'version'])['mtime'])\n",
    "desc['InCRAN'] = 1\n",
    "desc.index.names = ['Package', 'Version']"
   ]
  },
  {
   "cell_type": "code",
   "execution_count": 136,
   "metadata": {
    "collapsed": false
   },
   "outputs": [],
   "source": [
    "github = github.query(' and '.join(['Owner != \"{}\"'.format(ow) for ow in IGNORED_OWNERS]))\n",
    "github = github.set_index(['Package', 'Version'])[FIELDS + ['CommitDate']]\n",
    "github['Date'] = github['CommitDate'] = pandas.to_datetime(github['CommitDate'])\n",
    "github['InGitHub'] = 1"
   ]
  },
  {
   "cell_type": "code",
   "execution_count": 137,
   "metadata": {
    "collapsed": true
   },
   "outputs": [],
   "source": [
    "def parse_dependencies(str_list, ignored=[]):\n",
    "    \"\"\"\n",
    "    Return a list of strings where each string is a package name not in `ignored`.\n",
    "    The input is a string that lists dependencies, as in a DESCRIPTION file. \n",
    "    \"\"\"\n",
    "    # Check NaN\n",
    "    str_list = str_list if str_list != pandas.np.nan else ''\n",
    "    \n",
    "    # Filter version numbers\n",
    "    f = lambda lst: [dep.split('(')[0].strip() for dep in lst.split(',')]\n",
    "    items = filter(lambda x: len(x) > 0, f(str_list))\n",
    "    items = filter(lambda x: x not in ignored, items)\n",
    "    return items"
   ]
  },
  {
   "cell_type": "code",
   "execution_count": 138,
   "metadata": {
    "collapsed": false
   },
   "outputs": [],
   "source": [
    "# Merge\n",
    "packages = pandas.concat([desc, github])\n",
    "\n",
    "# Deal with dependencies lists\n",
    "dependencies_formatter = lambda x: ' '.join(parse_dependencies(x))\n",
    "for field in ['Imports', 'Depends']:\n",
    "    packages[field] = packages[field].fillna(value='').apply(dependencies_formatter)\n",
    "    \n",
    "packages['Dependencies'] = packages.apply(lambda r: (r['Imports'] + ' ' + r['Depends']).strip(), axis=1)\n",
    "packages = packages.fillna({'Author': '', 'InGitHub': 0, 'InCRAN': 0, 'Maintainer': ''})"
   ]
  },
  {
   "cell_type": "code",
   "execution_count": 140,
   "metadata": {
    "collapsed": false
   },
   "outputs": [],
   "source": [
    "# Remove useless packages (see http://cran.r-project.org/doc/manuals/r-release/R-exts.html#Creating-R-packages)\n",
    "# The mandatory ‘Package’ field gives the name of the package. \n",
    "# This should contain only (ASCII) letters, numbers and dot, have at least two characters and \n",
    "# start with a letter and not end in a dot. \n",
    "\n",
    "packages = packages.reset_index()\n",
    "packages = packages[packages.Package.str.match(r'^[a-zA-Z][a-zA-Z0-9\\.]*[a-zA-Z0-9]$')]  \n",
    "    \n",
    "output = packages.sort('Package')"
   ]
  },
  {
   "cell_type": "code",
   "execution_count": 141,
   "metadata": {
    "collapsed": true
   },
   "outputs": [],
   "source": [
    "output.to_csv(OUTPUT, encoding='utf-8')"
   ]
  }
 ],
 "metadata": {
  "kernelspec": {
   "display_name": "Python 2",
   "language": "python",
   "name": "python2"
  },
  "language_info": {
   "codemirror_mode": {
    "name": "ipython",
    "version": 2
   },
   "file_extension": ".py",
   "mimetype": "text/x-python",
   "name": "python",
   "nbconvert_exporter": "python",
   "pygments_lexer": "ipython2",
   "version": "2.7.9"
  }
 },
 "nbformat": 4,
 "nbformat_minor": 0
}
