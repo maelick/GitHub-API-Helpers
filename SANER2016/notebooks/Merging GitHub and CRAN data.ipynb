{
 "cells": [
  {
   "cell_type": "markdown",
   "metadata": {},
   "source": [
    "# Merging GitHub and CRAN data"
   ]
  },
  {
   "cell_type": "markdown",
   "metadata": {},
   "source": [
    "**TODO:** Add the *real* release date on CRAN. "
   ]
  },
  {
   "cell_type": "code",
   "execution_count": 1,
   "metadata": {
    "collapsed": true
   },
   "outputs": [],
   "source": [
    "import pandas"
   ]
  },
  {
   "cell_type": "code",
   "execution_count": 6,
   "metadata": {
    "collapsed": true
   },
   "outputs": [],
   "source": [
    "github = pandas.DataFrame.from_csv('../data/github-raw-150601.csv', index_col=None).drop(labels='Unnamed: 0', axis=1).dropna(subset=('Package', 'Version'))\n",
    "cran = pandas.DataFrame.from_csv('../data/cran-150601.csv', index_col=None)"
   ]
  },
  {
   "cell_type": "code",
   "execution_count": null,
   "metadata": {
    "collapsed": true
   },
   "outputs": [],
   "source": [
    "fields = ['Package', 'Version', 'Source', 'Date', 'Author', 'Authors', 'License', 'Suggests', 'Imports', \n",
    "          'Depends', 'Owner', 'Repository', 'CommitDate', 'CRANRelease', 'SnapshotFirstDate', 'SnapshotLastDate']\n",
    "\n",
    "OUTPUT = '../data/github-cran-150601.csv'"
   ]
  },
  {
   "cell_type": "code",
   "execution_count": null,
   "metadata": {
    "collapsed": true
   },
   "outputs": [],
   "source": [
    "def parse_dependencies(str_list, ignored=[]):\n",
    "    \"\"\"\n",
    "    Return a list of strings where each string is a package name not in `ignored`.\n",
    "    The input is a list of dependencies as contained in a DESCRIPTION file. \n",
    "    \"\"\"\n",
    "    # Check NaN\n",
    "    str_list = str_list if str_list != pandas.np.nan else ''\n",
    "    \n",
    "    # Filter version numbers\n",
    "    f = lambda lst: [dep.split('(')[0].strip() for dep in lst.split(',')]\n",
    "    items = filter(lambda x: len(x) > 0, f(str_list))\n",
    "    items = filter(lambda x: x not in ignored, items)\n",
    "    return items"
   ]
  },
  {
   "cell_type": "code",
   "execution_count": null,
   "metadata": {
    "collapsed": true
   },
   "outputs": [],
   "source": [
    "cran['Source'] = 'cran'\n",
    "cran['Date'] = cran['SnapshotFirstDate']\n",
    "github['Source'] = 'github'\n",
    "github['Date'] = github['CommitDate']\n",
    "\n",
    "# Merge\n",
    "packages = pandas.concat([cran, github])\n",
    "\n",
    "# Deal with dependencies lists\n",
    "dependencies_formatter = lambda x: ' '.join(parse_dependencies(x))\n",
    "for field in ['Suggests', 'Imports', 'Depends']:\n",
    "    packages[field] = packages[field].fillna(value='').apply(dependencies_formatter)\n",
    "\n",
    "# Convert date\n",
    "packages['Date'] = pandas.to_datetime(packages['Date'])\n",
    "\n",
    "# Remove useless packages (see http://cran.r-project.org/doc/manuals/r-release/R-exts.html#Creating-R-packages)\n",
    "# The mandatory ‘Package’ field gives the name of the package. \n",
    "# This should contain only (ASCII) letters, numbers and dot, have at least two characters and \n",
    "# start with a letter and not end in a dot. \n",
    "packages = packages.dropna(subset=['Version', 'Package', 'Date'])\n",
    "packages = packages[packages.Package.str.match(r'^[a-zA-Z][a-zA-Z0-9\\.]+$')]\n",
    "\n",
    "    \n",
    "output = packages[fields].sort('Package')"
   ]
  },
  {
   "cell_type": "code",
   "execution_count": null,
   "metadata": {
    "collapsed": true
   },
   "outputs": [],
   "source": [
    "output.to_csv(OUTPUT, encoding='utf-8')"
   ]
  }
 ],
 "metadata": {
  "kernelspec": {
   "display_name": "Python 2",
   "language": "python",
   "name": "python2"
  },
  "language_info": {
   "codemirror_mode": {
    "name": "ipython",
    "version": 2
   },
   "file_extension": ".py",
   "mimetype": "text/x-python",
   "name": "python",
   "nbconvert_exporter": "python",
   "pygments_lexer": "ipython2",
   "version": "2.7.9"
  }
 },
 "nbformat": 4,
 "nbformat_minor": 0
}
