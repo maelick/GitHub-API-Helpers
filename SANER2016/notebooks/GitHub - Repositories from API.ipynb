{
 "metadata": {
  "name": "",
  "signature": "sha256:5969c36f074de378ad53dd68268c50459379f8c38d54b5c045083f7ec4bd77b6"
 },
 "nbformat": 3,
 "nbformat_minor": 0,
 "worksheets": [
  {
   "cells": [
    {
     "cell_type": "heading",
     "level": 1,
     "metadata": {},
     "source": [
      "Get GitHub R Repositories from GitHub API v3"
     ]
    },
    {
     "cell_type": "code",
     "collapsed": false,
     "input": [
      "import requests\n",
      "import json\n",
      "import time\n",
      "import datetime\n",
      "from dateutil import parser"
     ],
     "language": "python",
     "metadata": {},
     "outputs": [],
     "prompt_number": 97
    },
    {
     "cell_type": "code",
     "collapsed": false,
     "input": [
      "API_KEY = ''.join(open('github-api.key', 'r').readlines()).strip()"
     ],
     "language": "python",
     "metadata": {},
     "outputs": [],
     "prompt_number": 98
    },
    {
     "cell_type": "code",
     "collapsed": false,
     "input": [
      "URL = 'https://api.github.com/search/repositories?per_page=100&q=language:R fork:false pushed:{start}..{end}&page={page}'\n",
      "\n",
      "HEADERS = {\n",
      "    'Authorization': 'token '+API_KEY, \n",
      "    'User-agent': 'AlexandreDecan',\n",
      "}\n",
      "\n",
      "INITIAL_DELTA = datetime.timedelta(days=7)\n",
      "START_DATE = datetime.datetime(2015, 1, 1)\n",
      "END_DATE = datetime.datetime(2015, 2, 1)\n",
      "\n",
      "RATIO_MULTIPLIER = 0.75\n",
      "\n",
      "TIMEZONE_DELTA = 2 # +2h from GMT to us\n",
      "parsetime = lambda x: parser.parse(x, ignoretz=True) + datetime.timedelta(hours=TIMEZONE_DELTA)"
     ],
     "language": "python",
     "metadata": {},
     "outputs": [],
     "prompt_number": 99
    },
    {
     "cell_type": "code",
     "collapsed": false,
     "input": [
      "def github_API(url):\n",
      "    while True:\n",
      "        r = requests.get(url, headers=HEADERS)\n",
      "        if r.status_code == 200:\n",
      "            break\n",
      "        if r.status_code == 403 and r.headers['X-RateLimit-Remaining'] == '0':\n",
      "                message_datetime = parsetime(r.headers['date'])\n",
      "                limit_datetime = datetime.datetime.fromtimestamp(int(r.headers['x-ratelimit-reset']))\n",
      "                delta = (limit_datetime - message_datetime).total_seconds() + 1\n",
      "                print 'zzzZZZzzz ({} sec.)'.format(delta)\n",
      "                time.sleep(delta)\n",
      "        else:\n",
      "            raise requests.exceptions.HTTPError(r)\n",
      "    return r"
     ],
     "language": "python",
     "metadata": {},
     "outputs": [],
     "prompt_number": 100
    },
    {
     "cell_type": "code",
     "collapsed": false,
     "input": [
      "data = []\n",
      "current_start = START_DATE\n",
      "current_delta = INITIAL_DELTA\n",
      "\n",
      "while current_start < END_DATE:\n",
      "    current_end = min(END_DATE, current_start + current_delta)\n",
      "    r = github_API(URL.format(start=current_start.isoformat(), end=current_end.isoformat(), page=1))\n",
      "    content = json.loads(r.content)\n",
      "    print current_start.isoformat(), current_end.isoformat(), str(current_delta), 'with', content['total_count']\n",
      "    if content['total_count'] <= 1000:\n",
      "        pages = int(content['total_count']) / 100 + 1\n",
      "        for item in content['items']:\n",
      "            data.append(item)\n",
      "            \n",
      "        for page in range(2, pages + 1):\n",
      "            r = github_API(URL.format(start=current_start.isoformat(), end=current_end.isoformat(), page=page))\n",
      "            content = json.loads(r.content)\n",
      "            for item in content['items']:\n",
      "                data.append(item)\n",
      "                \n",
      "        current_start = current_end\n",
      "    \n",
      "    # Adjust delta\n",
      "    if content['total_count'] < 500 or content['total_count'] > 1000:\n",
      "        ratio = RATIO_MULTIPLIER * 1000.0 / int(content['total_count'])\n",
      "        current_delta = datetime.timedelta(seconds = int(current_delta.total_seconds() * ratio))\n",
      "        print 'ratio =', ratio, 'new delta is', current_delta"
     ],
     "language": "python",
     "metadata": {},
     "outputs": [
      {
       "output_type": "stream",
       "stream": "stdout",
       "text": [
        "2015-01-01T00:00:00 2015-01-08T00:00:00 7 days, 0:00:00 with 546\n",
        "2015-01-08T00:00:00"
       ]
      },
      {
       "output_type": "stream",
       "stream": "stdout",
       "text": [
        " 2015-01-15T00:00:00 7 days, 0:00:00 with 965\n",
        "2015-01-15T00:00:00"
       ]
      },
      {
       "output_type": "stream",
       "stream": "stdout",
       "text": [
        " 2015-01-22T00:00:00 7 days, 0:00:00 with 1170\n",
        "ratio = 0.641025641026 new delta is 4 days, 11:41:32\n",
        "2015-01-15T00:00:00"
       ]
      },
      {
       "output_type": "stream",
       "stream": "stdout",
       "text": [
        " 2015-01-19T11:41:32 4 days, 11:41:32 with 632\n",
        "2015-01-19T11:41:32"
       ]
      },
      {
       "output_type": "stream",
       "stream": "stdout",
       "text": [
        " 2015-01-23T23:23:04 4 days, 11:41:32 with 1197\n",
        "ratio = 0.62656641604 new delta is 2 days, 19:28:34\n",
        "2015-01-19T11:41:32"
       ]
      },
      {
       "output_type": "stream",
       "stream": "stdout",
       "text": [
        " 2015-01-22T07:10:06 2 days, 19:28:34 with 612\n",
        "zzzZZZzzz (34.0 sec.)"
       ]
      },
      {
       "output_type": "stream",
       "stream": "stdout",
       "text": [
        "\n",
        "2015-01-22T07:10:06"
       ]
      },
      {
       "output_type": "stream",
       "stream": "stdout",
       "text": [
        " 2015-01-25T02:38:40 2 days, 19:28:34 with 1146\n",
        "ratio = 0.65445026178 new delta is 1 day, 20:09:35\n",
        "2015-01-22T07:10:06"
       ]
      },
      {
       "output_type": "stream",
       "stream": "stdout",
       "text": [
        " 2015-01-24T03:19:41 1 day, 20:09:35 with 633\n",
        "2015-01-24T03:19:41"
       ]
      },
      {
       "output_type": "stream",
       "stream": "stdout",
       "text": [
        " 2015-01-25T23:29:16 1 day, 20:09:35 with 1859\n",
        "ratio = 0.403442711135 new delta is 17:48:57\n",
        "2015-01-24T03:19:41"
       ]
      },
      {
       "output_type": "stream",
       "stream": "stdout",
       "text": [
        " 2015-01-24T21:08:38 17:48:57 with 347\n",
        "ratio ="
       ]
      },
      {
       "output_type": "stream",
       "stream": "stdout",
       "text": [
        " 2.1613832853 new delta is 1 day, 14:30:24\n",
        "2015-01-24T21:08:38"
       ]
      },
      {
       "output_type": "stream",
       "stream": "stdout",
       "text": [
        " 2015-01-26T11:39:02 1 day, 14:30:24 with 1904\n",
        "ratio = 0.393907563025 new delta is 15:10:05\n",
        "2015-01-24T21:08:38"
       ]
      },
      {
       "output_type": "stream",
       "stream": "stdout",
       "text": [
        " 2015-01-25T12:18:43 15:10:05 with 466\n",
        "ratio ="
       ]
      },
      {
       "output_type": "stream",
       "stream": "stdout",
       "text": [
        " 1.60944206009 new delta is 1 day, 0:24:43\n",
        "2015-01-25T12:18:43"
       ]
      },
      {
       "output_type": "stream",
       "stream": "stdout",
       "text": [
        " 2015-01-26T12:43:26 1 day, 0:24:43 with 1450\n",
        "ratio = 0.51724137931 new delta is 12:37:36\n",
        "2015-01-25T12:18:43"
       ]
      },
      {
       "output_type": "stream",
       "stream": "stdout",
       "text": [
        " 2015-01-26T00:56:19 12:37:36 with 1313\n",
        "ratio = 0.571210967251 new delta is 7:12:44\n",
        "2015-01-25T12:18:43"
       ]
      },
      {
       "output_type": "stream",
       "stream": "stdout",
       "text": [
        " 2015-01-25T19:31:27 7:12:44 with 497\n",
        "ratio ="
       ]
      },
      {
       "output_type": "stream",
       "stream": "stdout",
       "text": [
        " 1.50905432596 new delta is 10:53:01\n",
        "2015-01-25T19:31:27"
       ]
      },
      {
       "output_type": "stream",
       "stream": "stdout",
       "text": [
        " 2015-01-26T06:24:28 10:53:01 with 915\n",
        "zzzZZZzzz (34.0 sec.)"
       ]
      },
      {
       "output_type": "stream",
       "stream": "stdout",
       "text": [
        "\n",
        "2015-01-26T06:24:28"
       ]
      },
      {
       "output_type": "stream",
       "stream": "stdout",
       "text": [
        " 2015-01-26T17:17:29 10:53:01 with 67\n",
        "ratio = 11.1940298507 new delta is 5 days, 1:49:53\n",
        "2015-01-26T17:17:29"
       ]
      },
      {
       "output_type": "stream",
       "stream": "stdout",
       "text": [
        " 2015-01-31T19:07:22 5 days, 1:49:53 with 711\n",
        "2015-01-31T19:07:22"
       ]
      },
      {
       "output_type": "stream",
       "stream": "stdout",
       "text": [
        " 2015-02-01T00:00:00 5 days, 1:49:53 with 21\n",
        "ratio = 35.7142857143 new delta is 181 days, 7:07:15\n"
       ]
      }
     ],
     "prompt_number": 101
    }
   ],
   "metadata": {}
  }
 ]
}