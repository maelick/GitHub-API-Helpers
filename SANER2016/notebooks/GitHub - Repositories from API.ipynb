{
 "metadata": {
  "name": "",
  "signature": "sha256:41a5ffa157f79a535e697415341a3e418a4a68bce487c2bbb27df82fc9355414"
 },
 "nbformat": 3,
 "nbformat_minor": 0,
 "worksheets": [
  {
   "cells": [
    {
     "cell_type": "heading",
     "level": 1,
     "metadata": {},
     "source": [
      "Get GitHub R Repositories from GitHub API v3"
     ]
    },
    {
     "cell_type": "code",
     "collapsed": false,
     "input": [
      "import requests\n",
      "import json\n",
      "import time\n",
      "import datetime\n",
      "import gzip\n",
      "\n",
      "from dateutil import parser"
     ],
     "language": "python",
     "metadata": {},
     "outputs": [],
     "prompt_number": 41
    },
    {
     "cell_type": "code",
     "collapsed": false,
     "input": [
      "API_KEYS = []\n",
      "\n",
      "class APIKey(object):\n",
      "    def __init__(self, owner, key, until):\n",
      "        self.owner = owner\n",
      "        self.key = key\n",
      "        self.until = until\n",
      "        \n",
      "for line in open('github-api.key').readlines():\n",
      "    owner, key = line.split(' ')    \n",
      "    API_KEYS.append(APIKey(owner=owner.strip(), key=key.strip(), until=datetime.datetime.now()))"
     ],
     "language": "python",
     "metadata": {},
     "outputs": [],
     "prompt_number": 42
    },
    {
     "cell_type": "code",
     "collapsed": false,
     "input": [
      "URL = 'https://api.github.com/search/repositories?per_page=100&q=language:R fork:false pushed:{start}..{end}&page={page}'\n",
      "\n",
      "INITIAL_DELTA = datetime.timedelta(days=7)\n",
      "START_DATE = datetime.datetime(2015, 4, 1)\n",
      "END_DATE = datetime.datetime(2015, 5, 1)\n",
      "\n",
      "RATIO_MULTIPLIER = 0.75\n",
      "\n",
      "OUTPUT = '../data/R-apiv3-{start}-{end}.tar.gz'.format(start=START_DATE.isoformat(), end=END_DATE.isoformat())\n",
      "\n",
      "TIMEZONE_DELTA = 2 # +2h from GMT to us\n",
      "parsetime = lambda x: parser.parse(x, ignoretz=True) + datetime.timedelta(hours=TIMEZONE_DELTA)"
     ],
     "language": "python",
     "metadata": {},
     "outputs": [],
     "prompt_number": 43
    },
    {
     "cell_type": "code",
     "collapsed": false,
     "input": [
      "def make_headers():\n",
      "    # Needs API_KEYS which is a list of APIKey objects\n",
      "    old = API_KEYS[0]\n",
      "    API_KEYS.sort(key=lambda k: k.until)\n",
      "    new = API_KEYS[0]\n",
      "    if old != new:\n",
      "        print 'Using {}\\'s API key'.format(new.owner)\n",
      "        \n",
      "    # Wait?\n",
      "    delay = (API_KEYS[0].until - datetime.datetime.now()).total_seconds()\n",
      "    if delay > 0:\n",
      "        print 'zzzZZZzzz ({} seconds)'.format(delay + 1)\n",
      "        time.sleep(delay + 1)\n",
      "        \n",
      "    return {\n",
      "        'Authorization': 'token '+API_KEYS[0].key,\n",
      "        'User-agent': API_KEYS[0].owner,\n",
      "    }\n",
      "    \n",
      "def github_API(url):\n",
      "    tries = 0\n",
      "    while True:\n",
      "        r = requests.get(url, headers=make_headers())\n",
      "        if r.status_code == 200:\n",
      "            break\n",
      "        if r.status_code == 403 and r.headers['X-RateLimit-Remaining'] == '0':\n",
      "            message_datetime = parsetime(r.headers['date'])\n",
      "            limit_datetime = datetime.datetime.fromtimestamp(int(r.headers['x-ratelimit-reset']))\n",
      "            delta = (limit_datetime - message_datetime)\n",
      "            API_KEYS[0].until = datetime.datetime.now() + delta    \n",
      "        else:\n",
      "            tries += 1\n",
      "            if tries >= 5:\n",
      "                raise requests.exceptions.HTTPError(r)\n",
      "    return r"
     ],
     "language": "python",
     "metadata": {},
     "outputs": [],
     "prompt_number": 44
    },
    {
     "cell_type": "code",
     "collapsed": false,
     "input": [
      "data = []\n",
      "current_start = START_DATE\n",
      "current_delta = INITIAL_DELTA\n",
      "\n",
      "while current_start < END_DATE:\n",
      "    current_end = min(END_DATE, current_start + current_delta)\n",
      "    r = github_API(URL.format(start=current_start.isoformat(), end=current_end.isoformat(), page=1))\n",
      "    content = json.loads(r.content)\n",
      "    print current_start.isoformat(), current_end.isoformat(), str(current_delta), 'with', content['total_count']\n",
      "    if content['total_count'] <= 1000:\n",
      "        pages = int(content['total_count']) / 100 + 1\n",
      "        for item in content['items']:\n",
      "            data.append(item)\n",
      "            \n",
      "        for page in range(2, pages + 1):\n",
      "            r = github_API(URL.format(start=current_start.isoformat(), end=current_end.isoformat(), page=page))\n",
      "            content = json.loads(r.content)\n",
      "            for item in content['items']:\n",
      "                data.append(item)\n",
      "                \n",
      "        current_start = current_end\n",
      "    \n",
      "    # Adjust delta\n",
      "    if content['total_count'] < 500 or content['total_count'] > 1000:\n",
      "        ratio = RATIO_MULTIPLIER * 1000.0 / int(content['total_count'])\n",
      "        current_delta = datetime.timedelta(seconds = int(current_delta.total_seconds() * ratio))\n",
      "        print 'ratio =', ratio, 'new delta is', current_delta"
     ],
     "language": "python",
     "metadata": {},
     "outputs": [
      {
       "output_type": "stream",
       "stream": "stdout",
       "text": [
        "2015-04-01T00:00:00 2015-04-08T00:00:00 7 days, 0:00:00 with 18750\n",
        "ratio = 0.04 new delta is 6:43:12\n",
        "2015-04-01T00:00:00"
       ]
      },
      {
       "output_type": "stream",
       "stream": "stdout",
       "text": [
        " 2015-04-01T06:43:12 6:43:12 with 796\n",
        "2015-04-01T06:43:12"
       ]
      },
      {
       "output_type": "stream",
       "stream": "stdout",
       "text": [
        " 2015-04-01T13:26:24 6:43:12 with 908\n",
        "2015-04-01T13:26:24"
       ]
      },
      {
       "output_type": "stream",
       "stream": "stdout",
       "text": [
        " 2015-04-01T20:09:36 6:43:12 with 1041\n",
        "ratio = 0.720461095101 new delta is 4:50:29\n",
        "2015-04-01T13:26:24"
       ]
      },
      {
       "output_type": "stream",
       "stream": "stdout",
       "text": [
        " 2015-04-01T18:16:53 4:50:29 with 756\n",
        "2015-04-01T18:16:53"
       ]
      },
      {
       "output_type": "stream",
       "stream": "stdout",
       "text": [
        " 2015-04-01T23:07:22 4:50:29 with 635\n",
        "Using mgoeminne's API key"
       ]
      },
      {
       "output_type": "stream",
       "stream": "stdout",
       "text": [
        "\n",
        "2015-04-01T23:07:22"
       ]
      },
      {
       "output_type": "stream",
       "stream": "stdout",
       "text": [
        " 2015-04-02T03:57:51 4:50:29 with 475\n",
        "ratio ="
       ]
      },
      {
       "output_type": "stream",
       "stream": "stdout",
       "text": [
        " 1.57894736842 new delta is 7:38:39\n",
        "2015-04-02T03:57:51"
       ]
      },
      {
       "output_type": "stream",
       "stream": "stdout",
       "text": [
        " 2015-04-02T11:36:30 7:38:39 with 923\n",
        "2015-04-02T11:36:30"
       ]
      },
      {
       "output_type": "stream",
       "stream": "stdout",
       "text": [
        " 2015-04-02T19:15:09 7:38:39 with 988\n",
        "Using narjisse-tabout's API key"
       ]
      },
      {
       "output_type": "stream",
       "stream": "stdout",
       "text": [
        "\n",
        "2015-04-02T19:15:09"
       ]
      },
      {
       "output_type": "stream",
       "stream": "stdout",
       "text": [
        " 2015-04-03T02:53:48 7:38:39 with 733\n",
        "2015-04-03T02:53:48"
       ]
      },
      {
       "output_type": "stream",
       "stream": "stdout",
       "text": [
        " 2015-04-03T10:32:27 7:38:39 with 829\n",
        "2015-04-03T10:32:27"
       ]
      },
      {
       "output_type": "stream",
       "stream": "stdout",
       "text": [
        " 2015-04-03T18:11:06 7:38:39 with 995\n",
        "2015-04-03T18:11:06"
       ]
      },
      {
       "output_type": "stream",
       "stream": "stdout",
       "text": [
        " 2015-04-04T01:49:45 7:38:39 with 729\n",
        "Using tommens's API key"
       ]
      },
      {
       "output_type": "stream",
       "stream": "stdout",
       "text": [
        "\n",
        "2015-04-04T01:49:45"
       ]
      },
      {
       "output_type": "stream",
       "stream": "stdout",
       "text": [
        " 2015-04-04T09:28:24 7:38:39 with 490\n",
        "ratio ="
       ]
      },
      {
       "output_type": "stream",
       "stream": "stdout",
       "text": [
        " 1.5306122449 new delta is 11:42:00\n",
        "2015-04-04T09:28:24"
       ]
      },
      {
       "output_type": "stream",
       "stream": "stdout",
       "text": [
        " 2015-04-04T21:10:24 11:42:00 with 1017\n",
        "ratio = 0.737463126844 new delta is 8:37:41\n",
        "2015-04-04T09:28:24"
       ]
      },
      {
       "output_type": "stream",
       "stream": "stdout",
       "text": [
        " 2015-04-04T18:06:05 8:37:41 with 746\n",
        "2015-04-04T18:06:05"
       ]
      },
      {
       "output_type": "stream",
       "stream": "stdout",
       "text": [
        " 2015-04-05T02:43:46 8:37:41 with 692\n",
        "2015-04-05T02:43:46"
       ]
      },
      {
       "output_type": "stream",
       "stream": "stdout",
       "text": [
        " 2015-04-05T11:21:27 8:37:41 with 591\n",
        "Using AlexandreDecan's API key"
       ]
      },
      {
       "output_type": "stream",
       "stream": "stdout",
       "text": [
        "\n",
        "2015-04-05T11:21:27"
       ]
      },
      {
       "output_type": "stream",
       "stream": "stdout",
       "text": [
        " 2015-04-05T19:59:08 8:37:41 with 895\n",
        "2015-04-05T19:59:08"
       ]
      },
      {
       "output_type": "stream",
       "stream": "stdout",
       "text": [
        " 2015-04-06T04:36:49 8:37:41 with 740\n",
        "2015-04-06T04:36:49"
       ]
      },
      {
       "output_type": "stream",
       "stream": "stdout",
       "text": [
        " 2015-04-06T13:14:30 8:37:41 with 878\n",
        "2015-04-06T13:14:30"
       ]
      },
      {
       "output_type": "stream",
       "stream": "stdout",
       "text": [
        " 2015-04-06T21:52:11 8:37:41 with 1260\n",
        "ratio = 0.595238095238 new delta is 5:08:08\n",
        "2015-04-06T13:14:30"
       ]
      },
      {
       "output_type": "stream",
       "stream": "stdout",
       "text": [
        " 2015-04-06T18:22:38 5:08:08 with 749\n",
        "Using mgoeminne's API key"
       ]
      },
      {
       "output_type": "stream",
       "stream": "stdout",
       "text": [
        "\n",
        "2015-04-06T18:22:38"
       ]
      },
      {
       "output_type": "stream",
       "stream": "stdout",
       "text": [
        " 2015-04-06T23:30:46 5:08:08 with 716\n",
        "2015-04-06T23:30:46"
       ]
      },
      {
       "output_type": "stream",
       "stream": "stdout",
       "text": [
        " 2015-04-07T04:38:54 5:08:08 with 580\n",
        "2015-04-07T04:38:54"
       ]
      },
      {
       "output_type": "stream",
       "stream": "stdout",
       "text": [
        " 2015-04-07T09:47:02 5:08:08 with 738\n",
        "2015-04-07T09:47:02"
       ]
      },
      {
       "output_type": "stream",
       "stream": "stdout",
       "text": [
        " 2015-04-07T14:55:10 5:08:08 with 751\n",
        "Using narjisse-tabout's API key"
       ]
      },
      {
       "output_type": "stream",
       "stream": "stdout",
       "text": [
        "\n",
        "2015-04-07T14:55:10"
       ]
      },
      {
       "output_type": "stream",
       "stream": "stdout",
       "text": [
        " 2015-04-07T20:03:18 5:08:08 with 854\n",
        "2015-04-07T20:03:18"
       ]
      },
      {
       "output_type": "stream",
       "stream": "stdout",
       "text": [
        " 2015-04-08T01:11:26 5:08:08 with 679\n",
        "2015-04-08T01:11:26"
       ]
      },
      {
       "output_type": "stream",
       "stream": "stdout",
       "text": [
        " 2015-04-08T06:19:34 5:08:08 with 607\n",
        "Using tommens's API key"
       ]
      },
      {
       "output_type": "stream",
       "stream": "stdout",
       "text": [
        "\n",
        "2015-04-08T06:19:34"
       ]
      },
      {
       "output_type": "stream",
       "stream": "stdout",
       "text": [
        " 2015-04-08T11:27:42 5:08:08 with 710\n",
        "2015-04-08T11:27:42"
       ]
      },
      {
       "output_type": "stream",
       "stream": "stdout",
       "text": [
        " 2015-04-08T16:35:50 5:08:08 with 838\n",
        "2015-04-08T16:35:50"
       ]
      },
      {
       "output_type": "stream",
       "stream": "stdout",
       "text": [
        " 2015-04-08T21:43:58 5:08:08 with 726\n",
        "2015-04-08T21:43:58"
       ]
      },
      {
       "output_type": "stream",
       "stream": "stdout",
       "text": [
        " 2015-04-09T02:52:06 5:08:08 with 575\n",
        "Using AlexandreDecan's API key"
       ]
      },
      {
       "output_type": "stream",
       "stream": "stdout",
       "text": [
        "\n",
        "2015-04-09T02:52:06"
       ]
      },
      {
       "output_type": "stream",
       "stream": "stdout",
       "text": [
        " 2015-04-09T08:00:14 5:08:08 with 510\n",
        "2015-04-09T08:00:14"
       ]
      },
      {
       "output_type": "stream",
       "stream": "stdout",
       "text": [
        " 2015-04-09T13:08:22 5:08:08 with 742\n",
        "2015-04-09T13:08:22"
       ]
      },
      {
       "output_type": "stream",
       "stream": "stdout",
       "text": [
        " 2015-04-09T18:16:30 5:08:08 with 814\n",
        "2015-04-09T18:16:30"
       ]
      },
      {
       "output_type": "stream",
       "stream": "stdout",
       "text": [
        " 2015-04-09T23:24:38 5:08:08 with 759\n",
        "Using mgoeminne's API key"
       ]
      },
      {
       "output_type": "stream",
       "stream": "stdout",
       "text": [
        "\n",
        "2015-04-09T23:24:38"
       ]
      },
      {
       "output_type": "stream",
       "stream": "stdout",
       "text": [
        " 2015-04-10T04:32:46 5:08:08 with 613\n",
        "2015-04-10T04:32:46"
       ]
      },
      {
       "output_type": "stream",
       "stream": "stdout",
       "text": [
        " 2015-04-10T09:40:54 5:08:08 with 674\n",
        "2015-04-10T09:40:54"
       ]
      },
      {
       "output_type": "stream",
       "stream": "stdout",
       "text": [
        " 2015-04-10T14:49:02 5:08:08 with 722\n",
        "2015-04-10T14:49:02"
       ]
      },
      {
       "output_type": "stream",
       "stream": "stdout",
       "text": [
        " 2015-04-10T19:57:10 5:08:08 with 686\n",
        "Using narjisse-tabout's API key"
       ]
      },
      {
       "output_type": "stream",
       "stream": "stdout",
       "text": [
        "\n",
        "2015-04-10T19:57:10"
       ]
      },
      {
       "output_type": "stream",
       "stream": "stdout",
       "text": [
        " 2015-04-11T01:05:18 5:08:08 with 440\n",
        "ratio ="
       ]
      },
      {
       "output_type": "stream",
       "stream": "stdout",
       "text": [
        " 1.70454545455 new delta is 8:45:13\n",
        "2015-04-11T01:05:18"
       ]
      },
      {
       "output_type": "stream",
       "stream": "stdout",
       "text": [
        " 2015-04-11T09:50:31 8:45:13 with 651\n",
        "2015-04-11T09:50:31"
       ]
      },
      {
       "output_type": "stream",
       "stream": "stdout",
       "text": [
        " 2015-04-11T18:35:44 8:45:13 with 809\n",
        "2015-04-11T18:35:44"
       ]
      },
      {
       "output_type": "stream",
       "stream": "stdout",
       "text": [
        " 2015-04-12T03:20:57 8:45:13 with 920\n",
        "Using tommens's API key"
       ]
      },
      {
       "output_type": "stream",
       "stream": "stdout",
       "text": [
        "\n",
        "2015-04-12T03:20:57"
       ]
      },
      {
       "output_type": "stream",
       "stream": "stdout",
       "text": [
        " 2015-04-12T12:06:10 8:45:13 with 898\n",
        "2015-04-12T12:06:10"
       ]
      },
      {
       "output_type": "stream",
       "stream": "stdout",
       "text": [
        " 2015-04-12T20:51:23 8:45:13 with 1164\n",
        "ratio = 0.644329896907 new delta is 5:38:24\n",
        "2015-04-12T12:06:10"
       ]
      },
      {
       "output_type": "stream",
       "stream": "stdout",
       "text": [
        " 2015-04-12T17:44:34 5:38:24 with 775\n",
        "2015-04-12T17:44:34"
       ]
      },
      {
       "output_type": "stream",
       "stream": "stdout",
       "text": [
        " 2015-04-12T23:22:58 5:38:24 with 666\n",
        "2015-04-12T23:22:58"
       ]
      },
      {
       "output_type": "stream",
       "stream": "stdout",
       "text": [
        " 2015-04-13T05:01:22 5:38:24 with 573\n",
        "Using AlexandreDecan's API key"
       ]
      },
      {
       "output_type": "stream",
       "stream": "stdout",
       "text": [
        "\n",
        "2015-04-13T05:01:22"
       ]
      },
      {
       "output_type": "stream",
       "stream": "stdout",
       "text": [
        " 2015-04-13T10:39:46 5:38:24 with 710\n",
        "2015-04-13T10:39:46"
       ]
      },
      {
       "output_type": "stream",
       "stream": "stdout",
       "text": [
        " 2015-04-13T16:18:10 5:38:24 with 841\n",
        "2015-04-13T16:18:10"
       ]
      },
      {
       "output_type": "stream",
       "stream": "stdout",
       "text": [
        " 2015-04-13T21:56:34 5:38:24 with 781\n",
        "2015-04-13T21:56:34"
       ]
      },
      {
       "output_type": "stream",
       "stream": "stdout",
       "text": [
        " 2015-04-14T03:34:58 5:38:24 with 655\n",
        "Using mgoeminne's API key"
       ]
      },
      {
       "output_type": "stream",
       "stream": "stdout",
       "text": [
        "\n",
        "2015-04-14T03:34:58"
       ]
      },
      {
       "output_type": "stream",
       "stream": "stdout",
       "text": [
        " 2015-04-14T09:13:22 5:38:24 with 727\n",
        "2015-04-14T09:13:22"
       ]
      },
      {
       "output_type": "stream",
       "stream": "stdout",
       "text": [
        " 2015-04-14T14:51:46 5:38:24 with 874\n",
        "2015-04-14T14:51:46"
       ]
      },
      {
       "output_type": "stream",
       "stream": "stdout",
       "text": [
        " 2015-04-14T20:30:10 5:38:24 with 894\n",
        "Using narjisse-tabout's API key"
       ]
      },
      {
       "output_type": "stream",
       "stream": "stdout",
       "text": [
        "\n",
        "2015-04-14T20:30:10"
       ]
      },
      {
       "output_type": "stream",
       "stream": "stdout",
       "text": [
        " 2015-04-15T02:08:34 5:38:24 with 658\n",
        "2015-04-15T02:08:34"
       ]
      },
      {
       "output_type": "stream",
       "stream": "stdout",
       "text": [
        " 2015-04-15T07:46:58 5:38:24 with 759\n",
        "2015-04-15T07:46:58"
       ]
      },
      {
       "output_type": "stream",
       "stream": "stdout",
       "text": [
        " 2015-04-15T13:25:22 5:38:24 with 800\n",
        "2015-04-15T13:25:22"
       ]
      },
      {
       "output_type": "stream",
       "stream": "stdout",
       "text": [
        " 2015-04-15T19:03:46 5:38:24 with 1044\n",
        "ratio = 0.718390804598 new delta is 4:03:06\n",
        "2015-04-15T13:25:22"
       ]
      },
      {
       "output_type": "stream",
       "stream": "stdout",
       "text": [
        " 2015-04-15T17:28:28 4:03:06 with 807\n",
        "Using tommens's API key"
       ]
      },
      {
       "output_type": "stream",
       "stream": "stdout",
       "text": [
        "\n",
        "2015-04-15T17:28:28"
       ]
      },
      {
       "output_type": "stream",
       "stream": "stdout",
       "text": [
        " 2015-04-15T21:31:34 4:03:06 with 643\n",
        "2015-04-15T21:31:34"
       ]
      },
      {
       "output_type": "stream",
       "stream": "stdout",
       "text": [
        " 2015-04-16T01:34:40 4:03:06 with 402\n",
        "ratio ="
       ]
      },
      {
       "output_type": "stream",
       "stream": "stdout",
       "text": [
        " 1.86567164179 new delta is 7:33:32\n",
        "2015-04-16T01:34:40"
       ]
      },
      {
       "output_type": "stream",
       "stream": "stdout",
       "text": [
        " 2015-04-16T09:08:12 7:33:32 with 933\n",
        "2015-04-16T09:08:12"
       ]
      },
      {
       "output_type": "stream",
       "stream": "stdout",
       "text": [
        " 2015-04-16T16:41:44 7:33:32 with 1119\n",
        "ratio = 0.670241286863 new delta is 5:03:58\n",
        "2015-04-16T09:08:12"
       ]
      },
      {
       "output_type": "stream",
       "stream": "stdout",
       "text": [
        " 2015-04-16T14:12:10 5:03:58 with 706\n",
        "Using AlexandreDecan's API key"
       ]
      },
      {
       "output_type": "stream",
       "stream": "stdout",
       "text": [
        "\n",
        "2015-04-16T14:12:10"
       ]
      },
      {
       "output_type": "stream",
       "stream": "stdout",
       "text": [
        " 2015-04-16T19:16:08 5:03:58 with 836\n",
        "2015-04-16T19:16:08"
       ]
      },
      {
       "output_type": "stream",
       "stream": "stdout",
       "text": [
        " 2015-04-17T00:20:06 5:03:58 with 635\n",
        "2015-04-17T00:20:06"
       ]
      },
      {
       "output_type": "stream",
       "stream": "stdout",
       "text": [
        " 2015-04-17T05:24:04 5:03:58 with 512\n",
        "2015-04-17T05:24:04"
       ]
      },
      {
       "output_type": "stream",
       "stream": "stdout",
       "text": [
        " 2015-04-17T10:28:02 5:03:58 with 757\n",
        "Using mgoeminne's API key"
       ]
      },
      {
       "output_type": "stream",
       "stream": "stdout",
       "text": [
        "\n",
        "2015-04-17T10:28:02"
       ]
      },
      {
       "output_type": "stream",
       "stream": "stdout",
       "text": [
        " 2015-04-17T15:32:00 5:03:58 with 780\n",
        "2015-04-17T15:32:00"
       ]
      },
      {
       "output_type": "stream",
       "stream": "stdout",
       "text": [
        " 2015-04-17T20:35:58 5:03:58 with 663\n",
        "2015-04-17T20:35:58"
       ]
      },
      {
       "output_type": "stream",
       "stream": "stdout",
       "text": [
        " 2015-04-18T01:39:56 5:03:58 with 468\n",
        "ratio ="
       ]
      },
      {
       "output_type": "stream",
       "stream": "stdout",
       "text": [
        " 1.60256410256 new delta is 8:07:07\n",
        "2015-04-18T01:39:56"
       ]
      },
      {
       "output_type": "stream",
       "stream": "stdout",
       "text": [
        " 2015-04-18T09:47:03 8:07:07 with 673\n",
        "Using narjisse-tabout's API key"
       ]
      },
      {
       "output_type": "stream",
       "stream": "stdout",
       "text": [
        "\n",
        "2015-04-18T09:47:03"
       ]
      },
      {
       "output_type": "stream",
       "stream": "stdout",
       "text": [
        " 2015-04-18T17:54:10 8:07:07 with 911\n",
        "2015-04-18T17:54:10"
       ]
      },
      {
       "output_type": "stream",
       "stream": "stdout",
       "text": [
        " 2015-04-19T02:01:17 8:07:07 with 669\n",
        "2015-04-19T02:01:17"
       ]
      },
      {
       "output_type": "stream",
       "stream": "stdout",
       "text": [
        " 2015-04-19T10:08:24 8:07:07 with 603\n",
        "2015-04-19T10:08:24"
       ]
      },
      {
       "output_type": "stream",
       "stream": "stdout",
       "text": [
        " 2015-04-19T18:15:31 8:07:07 with 1042\n",
        "ratio = 0.719769673704 new delta is 5:50:36\n",
        "2015-04-19T10:08:24"
       ]
      },
      {
       "output_type": "stream",
       "stream": "stdout",
       "text": [
        " 2015-04-19T15:59:00 5:50:36 with 711\n",
        "Using tommens's API key"
       ]
      },
      {
       "output_type": "stream",
       "stream": "stdout",
       "text": [
        "\n",
        "2015-04-19T15:59:00"
       ]
      },
      {
       "output_type": "stream",
       "stream": "stdout",
       "text": [
        " 2015-04-19T21:49:36 5:50:36 with 812\n",
        "2015-04-19T21:49:36"
       ]
      },
      {
       "output_type": "stream",
       "stream": "stdout",
       "text": [
        " 2015-04-20T03:40:12 5:50:36 with 692\n",
        "2015-04-20T03:40:12"
       ]
      },
      {
       "output_type": "stream",
       "stream": "stdout",
       "text": [
        " 2015-04-20T09:30:48 5:50:36 with 856\n",
        "Using AlexandreDecan's API key"
       ]
      },
      {
       "output_type": "stream",
       "stream": "stdout",
       "text": [
        "\n",
        "2015-04-20T09:30:48"
       ]
      },
      {
       "output_type": "stream",
       "stream": "stdout",
       "text": [
        " 2015-04-20T15:21:24 5:50:36 with 947\n",
        "2015-04-20T15:21:24"
       ]
      },
      {
       "output_type": "stream",
       "stream": "stdout",
       "text": [
        " 2015-04-20T21:12:00 5:50:36 with 919\n",
        "2015-04-20T21:12:00"
       ]
      },
      {
       "output_type": "stream",
       "stream": "stdout",
       "text": [
        " 2015-04-21T03:02:36 5:50:36 with 611\n",
        "2015-04-21T03:02:36"
       ]
      },
      {
       "output_type": "stream",
       "stream": "stdout",
       "text": [
        " 2015-04-21T08:53:12 5:50:36 with 742\n",
        "Using mgoeminne's API key"
       ]
      },
      {
       "output_type": "stream",
       "stream": "stdout",
       "text": [
        "\n",
        "2015-04-21T08:53:12"
       ]
      },
      {
       "output_type": "stream",
       "stream": "stdout",
       "text": [
        " 2015-04-21T14:43:48 5:50:36 with 972\n",
        "2015-04-21T14:43:48"
       ]
      },
      {
       "output_type": "stream",
       "stream": "stdout",
       "text": [
        " 2015-04-21T20:34:24 5:50:36 with 974\n",
        "2015-04-21T20:34:24"
       ]
      },
      {
       "output_type": "stream",
       "stream": "stdout",
       "text": [
        " 2015-04-22T02:25:00 5:50:36 with 759\n",
        "Using narjisse-tabout's API key"
       ]
      },
      {
       "output_type": "stream",
       "stream": "stdout",
       "text": [
        "\n",
        "2015-04-22T02:25:00"
       ]
      },
      {
       "output_type": "stream",
       "stream": "stdout",
       "text": [
        " 2015-04-22T08:15:36 5:50:36 with 806\n",
        "2015-04-22T08:15:36"
       ]
      },
      {
       "output_type": "stream",
       "stream": "stdout",
       "text": [
        " 2015-04-22T14:06:12 5:50:36 with 935\n",
        "2015-04-22T14:06:12"
       ]
      },
      {
       "output_type": "stream",
       "stream": "stdout",
       "text": [
        " 2015-04-22T19:56:48 5:50:36 with 1036\n",
        "ratio = 0.723938223938 new delta is 4:13:48\n",
        "2015-04-22T14:06:12"
       ]
      },
      {
       "output_type": "stream",
       "stream": "stdout",
       "text": [
        " 2015-04-22T18:20:00 4:13:48 with 790\n",
        "Using tommens's API key"
       ]
      },
      {
       "output_type": "stream",
       "stream": "stdout",
       "text": [
        "\n",
        "2015-04-22T18:20:00"
       ]
      },
      {
       "output_type": "stream",
       "stream": "stdout",
       "text": [
        " 2015-04-22T22:33:48 4:13:48 with 613\n",
        "2015-04-22T22:33:48"
       ]
      },
      {
       "output_type": "stream",
       "stream": "stdout",
       "text": [
        " 2015-04-23T02:47:36 4:13:48 with 508\n",
        "2015-04-23T02:47:36"
       ]
      },
      {
       "output_type": "stream",
       "stream": "stdout",
       "text": [
        " 2015-04-23T07:01:24 4:13:48 with 481\n",
        "ratio ="
       ]
      },
      {
       "output_type": "stream",
       "stream": "stdout",
       "text": [
        " 1.55925155925 new delta is 6:35:44\n",
        "2015-04-23T07:01:24"
       ]
      },
      {
       "output_type": "stream",
       "stream": "stdout",
       "text": [
        " 2015-04-23T13:37:08 6:35:44 with 952\n",
        "Using AlexandreDecan's API key"
       ]
      },
      {
       "output_type": "stream",
       "stream": "stdout",
       "text": [
        "\n",
        "2015-04-23T13:37:08"
       ]
      },
      {
       "output_type": "stream",
       "stream": "stdout",
       "text": [
        " 2015-04-23T20:12:52 6:35:44 with 1054\n",
        "ratio = 0.711574952562 new delta is 4:41:35\n",
        "2015-04-23T13:37:08"
       ]
      },
      {
       "output_type": "stream",
       "stream": "stdout",
       "text": [
        " 2015-04-23T18:18:43 4:41:35 with 753\n",
        "2015-04-23T18:18:43"
       ]
      },
      {
       "output_type": "stream",
       "stream": "stdout",
       "text": [
        " 2015-04-23T23:00:18 4:41:35 with 674\n",
        "2015-04-23T23:00:18"
       ]
      },
      {
       "output_type": "stream",
       "stream": "stdout",
       "text": [
        " 2015-04-24T03:41:53 4:41:35 with 549\n",
        "2015-04-24T03:41:53"
       ]
      },
      {
       "output_type": "stream",
       "stream": "stdout",
       "text": [
        " 2015-04-24T08:23:28 4:41:35 with 597\n",
        "2015-04-24T08:23:28"
       ]
      },
      {
       "output_type": "stream",
       "stream": "stdout",
       "text": [
        " 2015-04-24T13:05:03 4:41:35 with 777\n",
        "Using mgoeminne's API key"
       ]
      },
      {
       "output_type": "stream",
       "stream": "stdout",
       "text": [
        "\n",
        "2015-04-24T13:05:03"
       ]
      },
      {
       "output_type": "stream",
       "stream": "stdout",
       "text": [
        " 2015-04-24T17:46:38 4:41:35 with 741\n",
        "2015-04-24T17:46:38"
       ]
      },
      {
       "output_type": "stream",
       "stream": "stdout",
       "text": [
        " 2015-04-24T22:28:13 4:41:35 with 601\n",
        "2015-04-24T22:28:13"
       ]
      },
      {
       "output_type": "stream",
       "stream": "stdout",
       "text": [
        " 2015-04-25T03:09:48 4:41:35 with 373\n",
        "ratio ="
       ]
      },
      {
       "output_type": "stream",
       "stream": "stdout",
       "text": [
        " 2.01072386059 new delta is 9:26:11\n",
        "2015-04-25T03:09:48"
       ]
      },
      {
       "output_type": "stream",
       "stream": "stdout",
       "text": [
        " 2015-04-25T12:35:59 9:26:11 with 797\n",
        "Using narjisse-tabout's API key"
       ]
      },
      {
       "output_type": "stream",
       "stream": "stdout",
       "text": [
        "\n",
        "2015-04-25T12:35:59"
       ]
      },
      {
       "output_type": "stream",
       "stream": "stdout",
       "text": [
        " 2015-04-25T22:02:10 9:26:11 with 1031\n",
        "ratio = 0.727449078565 new delta is 6:51:52\n",
        "2015-04-25T12:35:59"
       ]
      },
      {
       "output_type": "stream",
       "stream": "stdout",
       "text": [
        " 2015-04-25T19:27:51 6:51:52 with 788\n",
        "2015-04-25T19:27:51"
       ]
      },
      {
       "output_type": "stream",
       "stream": "stdout",
       "text": [
        " 2015-04-26T02:19:43 6:51:52 with 533\n",
        "2015-04-26T02:19:43"
       ]
      },
      {
       "output_type": "stream",
       "stream": "stdout",
       "text": [
        " 2015-04-26T09:11:35 6:51:52 with 557\n",
        "2015-04-26T09:11:35"
       ]
      },
      {
       "output_type": "stream",
       "stream": "stdout",
       "text": [
        " 2015-04-26T16:03:27 6:51:52 with 845\n",
        "Using tommens's API key"
       ]
      },
      {
       "output_type": "stream",
       "stream": "stdout",
       "text": [
        "\n",
        "2015-04-26T16:03:27"
       ]
      },
      {
       "output_type": "stream",
       "stream": "stdout",
       "text": [
        " 2015-04-26T22:55:19 6:51:52 with 1058\n",
        "ratio = 0.708884688091 new delta is 4:51:57\n",
        "2015-04-26T16:03:27"
       ]
      },
      {
       "output_type": "stream",
       "stream": "stdout",
       "text": [
        " 2015-04-26T20:55:24 4:51:57 with 766\n",
        "2015-04-26T20:55:24"
       ]
      },
      {
       "output_type": "stream",
       "stream": "stdout",
       "text": [
        " 2015-04-27T01:47:21 4:51:57 with 602\n",
        "2015-04-27T01:47:21"
       ]
      },
      {
       "output_type": "stream",
       "stream": "stdout",
       "text": [
        " 2015-04-27T06:39:18 4:51:57 with 581\n",
        "2015-04-27T06:39:18"
       ]
      },
      {
       "output_type": "stream",
       "stream": "stdout",
       "text": [
        " 2015-04-27T11:31:15 4:51:57 with 816\n",
        "Using AlexandreDecan's API key"
       ]
      },
      {
       "output_type": "stream",
       "stream": "stdout",
       "text": [
        "\n",
        "2015-04-27T11:31:15"
       ]
      },
      {
       "output_type": "stream",
       "stream": "stdout",
       "text": [
        " 2015-04-27T16:23:12 4:51:57 with 871\n",
        "2015-04-27T16:23:12"
       ]
      },
      {
       "output_type": "stream",
       "stream": "stdout",
       "text": [
        " 2015-04-27T21:15:09 4:51:57 with 774\n",
        "2015-04-27T21:15:09"
       ]
      },
      {
       "output_type": "stream",
       "stream": "stdout",
       "text": [
        " 2015-04-28T02:07:06 4:51:57 with 645\n",
        "2015-04-28T02:07:06"
       ]
      },
      {
       "output_type": "stream",
       "stream": "stdout",
       "text": [
        " 2015-04-28T06:59:03 4:51:57 with 690\n",
        "Using mgoeminne's API key"
       ]
      },
      {
       "output_type": "stream",
       "stream": "stdout",
       "text": [
        "\n",
        "2015-04-28T06:59:03"
       ]
      },
      {
       "output_type": "stream",
       "stream": "stdout",
       "text": [
        " 2015-04-28T11:51:00 4:51:57 with 754\n",
        "2015-04-28T11:51:00"
       ]
      },
      {
       "output_type": "stream",
       "stream": "stdout",
       "text": [
        " 2015-04-28T16:42:57 4:51:57 with 848\n",
        "2015-04-28T16:42:57"
       ]
      },
      {
       "output_type": "stream",
       "stream": "stdout",
       "text": [
        " 2015-04-28T21:34:54 4:51:57 with 1001\n",
        "ratio = 0.749250749251 new delta is 3:38:44\n",
        "2015-04-28T16:42:57"
       ]
      },
      {
       "output_type": "stream",
       "stream": "stdout",
       "text": [
        " 2015-04-28T20:21:41 3:38:44 with 775\n",
        "Using narjisse-tabout's API key"
       ]
      },
      {
       "output_type": "stream",
       "stream": "stdout",
       "text": [
        "\n",
        "2015-04-28T20:21:41"
       ]
      },
      {
       "output_type": "stream",
       "stream": "stdout",
       "text": [
        " 2015-04-29T00:00:25 3:38:44 with 548\n",
        "2015-04-29T00:00:25"
       ]
      },
      {
       "output_type": "stream",
       "stream": "stdout",
       "text": [
        " 2015-04-29T03:39:09 3:38:44 with 550\n",
        "2015-04-29T03:39:09"
       ]
      },
      {
       "output_type": "stream",
       "stream": "stdout",
       "text": [
        " 2015-04-29T07:17:53 3:38:44 with 470\n",
        "ratio ="
       ]
      },
      {
       "output_type": "stream",
       "stream": "stdout",
       "text": [
        " 1.59574468085 new delta is 5:49:02\n",
        "2015-04-29T07:17:53"
       ]
      },
      {
       "output_type": "stream",
       "stream": "stdout",
       "text": [
        " 2015-04-29T13:06:55 5:49:02 with 1025\n",
        "ratio = 0.731707317073 new delta is 4:15:23\n",
        "2015-04-29T07:17:53"
       ]
      },
      {
       "output_type": "stream",
       "stream": "stdout",
       "text": [
        " 2015-04-29T11:33:16 4:15:23 with 800\n",
        "2015-04-29T11:33:16"
       ]
      },
      {
       "output_type": "stream",
       "stream": "stdout",
       "text": [
        " 2015-04-29T15:48:39 4:15:23 with 767\n",
        "Using tommens's API key"
       ]
      },
      {
       "output_type": "stream",
       "stream": "stdout",
       "text": [
        "\n",
        "2015-04-29T15:48:39"
       ]
      },
      {
       "output_type": "stream",
       "stream": "stdout",
       "text": [
        " 2015-04-29T20:04:02 4:15:23 with 807\n",
        "2015-04-29T20:04:02"
       ]
      },
      {
       "output_type": "stream",
       "stream": "stdout",
       "text": [
        " 2015-04-30T00:19:25 4:15:23 with 540\n",
        "2015-04-30T00:19:25"
       ]
      },
      {
       "output_type": "stream",
       "stream": "stdout",
       "text": [
        " 2015-04-30T04:34:48 4:15:23 with 597\n",
        "2015-04-30T04:34:48"
       ]
      },
      {
       "output_type": "stream",
       "stream": "stdout",
       "text": [
        " 2015-04-30T08:50:11 4:15:23 with 662\n",
        "Using AlexandreDecan's API key"
       ]
      },
      {
       "output_type": "stream",
       "stream": "stdout",
       "text": [
        "\n",
        "2015-04-30T08:50:11"
       ]
      },
      {
       "output_type": "stream",
       "stream": "stdout",
       "text": [
        " 2015-04-30T13:05:34 4:15:23 with 698\n",
        "2015-04-30T13:05:34"
       ]
      },
      {
       "output_type": "stream",
       "stream": "stdout",
       "text": [
        " 2015-04-30T17:20:57 4:15:23 with 791\n",
        "2015-04-30T17:20:57"
       ]
      },
      {
       "output_type": "stream",
       "stream": "stdout",
       "text": [
        " 2015-04-30T21:36:20 4:15:23 with 623\n",
        "2015-04-30T21:36:20"
       ]
      },
      {
       "output_type": "stream",
       "stream": "stdout",
       "text": [
        " 2015-05-01T00:00:00 4:15:23 with 216\n",
        "ratio ="
       ]
      },
      {
       "output_type": "stream",
       "stream": "stdout",
       "text": [
        " 3.47222222222 new delta is 14:46:44\n"
       ]
      }
     ],
     "prompt_number": 45
    },
    {
     "cell_type": "code",
     "collapsed": false,
     "input": [
      "data_json = json.dumps(data, indent=0)\n",
      "f_out = gzip.open(OUTPUT, 'wb')\n",
      "f_out.write(data_json)\n",
      "f_out.close()"
     ],
     "language": "python",
     "metadata": {},
     "outputs": [],
     "prompt_number": 46
    }
   ],
   "metadata": {}
  }
 ]
}