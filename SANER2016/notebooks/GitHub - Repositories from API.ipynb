{
 "metadata": {
  "name": "",
  "signature": "sha256:d29269be55e08972b6a04ed6299ca3814533374fb841dabe028656e46774b4c6"
 },
 "nbformat": 3,
 "nbformat_minor": 0,
 "worksheets": [
  {
   "cells": [
    {
     "cell_type": "heading",
     "level": 1,
     "metadata": {},
     "source": [
      "Get GitHub R Repositories from GitHub API v3"
     ]
    },
    {
     "cell_type": "code",
     "collapsed": false,
     "input": [
      "import requests\n",
      "import json\n",
      "import time\n",
      "import datetime\n",
      "\n",
      "from dateutil import parser"
     ],
     "language": "python",
     "metadata": {},
     "outputs": [],
     "prompt_number": 49
    },
    {
     "cell_type": "code",
     "collapsed": false,
     "input": [
      "API_KEYS = []\n",
      "\n",
      "class APIKey(object):\n",
      "    def __init__(self, owner, key, until):\n",
      "        self.owner = owner\n",
      "        self.key = key\n",
      "        self.until = until\n",
      "        \n",
      "for line in open('github-api.key').readlines():\n",
      "    owner, key = line.split(' ')    \n",
      "    API_KEYS.append(APIKey(owner=owner.strip(), key=key.strip(), until=datetime.datetime.now()))"
     ],
     "language": "python",
     "metadata": {},
     "outputs": [],
     "prompt_number": 50
    },
    {
     "cell_type": "code",
     "collapsed": false,
     "input": [
      "URL = 'https://api.github.com/search/repositories?per_page=100&q=language:R fork:false pushed:{start}..{end}&page={page}'\n",
      "\n",
      "INITIAL_DELTA = datetime.timedelta(days=7)\n",
      "START_DATE = datetime.datetime(2014, 12, 1)\n",
      "END_DATE = datetime.datetime(2015, 5, 1)\n",
      "\n",
      "RATIO_MULTIPLIER = 0.75\n",
      "\n",
      "OUTPUT = '../data/github-apiv3-{start}-{end}.json'.format(start=START_DATE.isoformat(), end=END_DATE.isoformat())\n",
      "\n",
      "TIMEZONE_DELTA = 2 # +2h from GMT to us\n",
      "parsetime = lambda x: parser.parse(x, ignoretz=True) + datetime.timedelta(hours=TIMEZONE_DELTA)"
     ],
     "language": "python",
     "metadata": {},
     "outputs": [],
     "prompt_number": 51
    },
    {
     "cell_type": "code",
     "collapsed": false,
     "input": [
      "def make_headers():\n",
      "    # Needs API_KEYS which is a list of APIKey objects\n",
      "    old = API_KEYS[0]\n",
      "    API_KEYS.sort(key=lambda k: k.until)\n",
      "    new = API_KEYS[0]\n",
      "    if old != new:\n",
      "        print 'Using {}\\'s API key'.format(new.owner)\n",
      "        \n",
      "    # Wait?\n",
      "    delay = (API_KEYS[0].until - datetime.datetime.now()).total_seconds()\n",
      "    if delay > 0:\n",
      "        print 'zzzZZZzzz ({} seconds)'.format(delay + 1)\n",
      "        time.sleep(delay + 1)\n",
      "        \n",
      "    return {\n",
      "        'Authorization': 'token '+API_KEYS[0].key,\n",
      "        'User-agent': API_KEYS[0].owner,\n",
      "    }\n",
      "    \n",
      "def github_API(url):\n",
      "    tries = 0\n",
      "    while True:\n",
      "        r = requests.get(url, headers=make_headers())\n",
      "        if r.status_code == 200:\n",
      "            break\n",
      "        if r.status_code == 403 and r.headers['X-RateLimit-Remaining'] == '0':\n",
      "            message_datetime = parsetime(r.headers['date'])\n",
      "            limit_datetime = datetime.datetime.fromtimestamp(int(r.headers['x-ratelimit-reset']))\n",
      "            delta = (limit_datetime - message_datetime)\n",
      "            API_KEYS[0].until = datetime.datetime.now() + delta    \n",
      "        else:\n",
      "            tries += 1\n",
      "            if tries >= 5:\n",
      "                raise requests.exceptions.HTTPError(r)\n",
      "    return r"
     ],
     "language": "python",
     "metadata": {},
     "outputs": [],
     "prompt_number": 52
    },
    {
     "cell_type": "code",
     "collapsed": false,
     "input": [
      "data = []\n",
      "current_start = START_DATE\n",
      "current_delta = INITIAL_DELTA\n",
      "\n",
      "while current_start < END_DATE:\n",
      "    current_end = min(END_DATE, current_start + current_delta)\n",
      "    r = github_API(URL.format(start=current_start.isoformat(), end=current_end.isoformat(), page=1))\n",
      "    content = json.loads(r.content)\n",
      "    print current_start.isoformat(), current_end.isoformat(), str(current_delta), 'with', content['total_count']\n",
      "    if content['total_count'] <= 1000:\n",
      "        pages = int(content['total_count']) / 100 + 1\n",
      "        for item in content['items']:\n",
      "            data.append(item)\n",
      "            \n",
      "        for page in range(2, pages + 1):\n",
      "            r = github_API(URL.format(start=current_start.isoformat(), end=current_end.isoformat(), page=page))\n",
      "            content = json.loads(r.content)\n",
      "            for item in content['items']:\n",
      "                data.append(item)\n",
      "                \n",
      "        current_start = current_end\n",
      "    \n",
      "    # Adjust delta\n",
      "    if content['total_count'] < 500 or content['total_count'] > 1000:\n",
      "        ratio = RATIO_MULTIPLIER * 1000.0 / int(content['total_count'])\n",
      "        current_delta = datetime.timedelta(seconds = int(current_delta.total_seconds() * ratio))\n",
      "        print 'ratio =', ratio, 'new delta is', current_delta"
     ],
     "language": "python",
     "metadata": {},
     "outputs": [
      {
       "output_type": "stream",
       "stream": "stdout",
       "text": [
        "zzzZZZzzz (0.841282 seconds)\n",
        "2014-12-01T00:00:00"
       ]
      },
      {
       "output_type": "stream",
       "stream": "stdout",
       "text": [
        " 2014-12-08T00:00:00 7 days, 0:00:00 with 762\n",
        "2014-12-08T00:00:00"
       ]
      },
      {
       "output_type": "stream",
       "stream": "stdout",
       "text": [
        " 2014-12-15T00:00:00 7 days, 0:00:00 with 859\n",
        "2014-12-15T00:00:00"
       ]
      },
      {
       "output_type": "stream",
       "stream": "stdout",
       "text": [
        " 2014-12-22T00:00:00 7 days, 0:00:00 with 2129\n",
        "ratio = 0.352278064819 new delta is 2 days, 11:10:57\n",
        "2014-12-15T00:00:00"
       ]
      },
      {
       "output_type": "stream",
       "stream": "stdout",
       "text": [
        " 2014-12-17T11:10:57 2 days, 11:10:57 with 396\n",
        "ratio ="
       ]
      },
      {
       "output_type": "stream",
       "stream": "stdout",
       "text": [
        " 1.89393939394 new delta is 4 days, 16:05:17\n",
        "2014-12-17T11:10:57"
       ]
      },
      {
       "output_type": "stream",
       "stream": "stdout",
       "text": [
        " 2014-12-22T03:16:14 4 days, 16:05:17 with 1904\n",
        "ratio = 0.393907563025 new delta is 1 day, 20:09:08\n",
        "2014-12-17T11:10:57"
       ]
      },
      {
       "output_type": "stream",
       "stream": "stdout",
       "text": [
        " 2014-12-19T07:20:05 1 day, 20:09:08 with 408\n",
        "ratio ="
       ]
      },
      {
       "output_type": "stream",
       "stream": "stdout",
       "text": [
        " 1.83823529412 new delta is 3 days, 9:09:43\n",
        "2014-12-19T07:20:05"
       ]
      },
      {
       "output_type": "stream",
       "stream": "stdout",
       "text": [
        " 2014-12-22T16:29:48 3 days, 9:09:43 with 1573\n",
        "ratio = 0.476795931341 new delta is 1 day, 14:41:51\n",
        "2014-12-19T07:20:05"
       ]
      },
      {
       "output_type": "stream",
       "stream": "stdout",
       "text": [
        " 2014-12-20T22:01:56 1 day, 14:41:51 with 418\n",
        "Using mgoeminne's API key"
       ]
      },
      {
       "output_type": "stream",
       "stream": "stdout",
       "text": [
        "\n",
        "ratio ="
       ]
      },
      {
       "output_type": "stream",
       "stream": "stdout",
       "text": [
        " 1.79425837321 new delta is 2 days, 21:25:59\n",
        "2014-12-20T22:01:56"
       ]
      },
      {
       "output_type": "stream",
       "stream": "stdout",
       "text": [
        " 2014-12-23T19:27:55 2 days, 21:25:59 with 1273\n",
        "ratio = 0.589159465829 new delta is 1 day, 16:54:25\n",
        "2014-12-20T22:01:56"
       ]
      },
      {
       "output_type": "stream",
       "stream": "stdout",
       "text": [
        " 2014-12-22T14:56:21 1 day, 16:54:25 with 1144\n",
        "ratio = 0.655594405594 new delta is 1 day, 2:49:06\n",
        "2014-12-20T22:01:56"
       ]
      },
      {
       "output_type": "stream",
       "stream": "stdout",
       "text": [
        " 2014-12-22T00:51:02 1 day, 2:49:06 with 1027\n",
        "ratio = 0.730282375852 new delta is 19:35:05\n",
        "2014-12-20T22:01:56"
       ]
      },
      {
       "output_type": "stream",
       "stream": "stdout",
       "text": [
        " 2014-12-21T17:37:01 19:35:05 with 409\n",
        "ratio ="
       ]
      },
      {
       "output_type": "stream",
       "stream": "stdout",
       "text": [
        " 1.8337408313 new delta is 1 day, 11:54:47\n",
        "2014-12-21T17:37:01"
       ]
      },
      {
       "output_type": "stream",
       "stream": "stdout",
       "text": [
        " 2014-12-23T05:31:48 1 day, 11:54:47 with 811\n",
        "2014-12-23T05:31:48"
       ]
      },
      {
       "output_type": "stream",
       "stream": "stdout",
       "text": [
        " 2014-12-24T17:26:35 1 day, 11:54:47 with 136\n",
        "ratio ="
       ]
      },
      {
       "output_type": "stream",
       "stream": "stdout",
       "text": [
        " 5.51470588235 new delta is 8 days, 6:02:59\n",
        "2014-12-24T17:26:35"
       ]
      },
      {
       "output_type": "stream",
       "stream": "stdout",
       "text": [
        " 2015-01-01T23:29:34 8 days, 6:02:59 with 473\n",
        "ratio ="
       ]
      },
      {
       "output_type": "stream",
       "stream": "stdout",
       "text": [
        " 1.58562367865 new delta is 13 days, 2:01:56\n",
        "2015-01-01T23:29:34"
       ]
      },
      {
       "output_type": "stream",
       "stream": "stdout",
       "text": [
        " 2015-01-15T01:31:30 13 days, 2:01:56 with 1472\n",
        "ratio = 0.509510869565 new delta is 6 days, 16:00:10\n",
        "2015-01-01T23:29:34"
       ]
      },
      {
       "output_type": "stream",
       "stream": "stdout",
       "text": [
        " 2015-01-08T15:29:44 6 days, 16:00:10 with 566\n",
        "Using narjisse-tabout's API key"
       ]
      },
      {
       "output_type": "stream",
       "stream": "stdout",
       "text": [
        "\n",
        "2015-01-08T15:29:44"
       ]
      },
      {
       "output_type": "stream",
       "stream": "stdout",
       "text": [
        " 2015-01-15T07:29:54 6 days, 16:00:10 with 933\n",
        "2015-01-15T07:29:54"
       ]
      },
      {
       "output_type": "stream",
       "stream": "stdout",
       "text": [
        " 2015-01-21T23:30:04 6 days, 16:00:10 with 1124\n",
        "ratio = 0.667259786477 new delta is 4 days, 10:45:48\n",
        "2015-01-15T07:29:54"
       ]
      },
      {
       "output_type": "stream",
       "stream": "stdout",
       "text": [
        " 2015-01-19T18:15:42 4 days, 10:45:48 with 648\n",
        "2015-01-19T18:15:42"
       ]
      },
      {
       "output_type": "stream",
       "stream": "stdout",
       "text": [
        " 2015-01-24T05:01:30 4 days, 10:45:48 with 1209\n",
        "ratio = 0.620347394541 new delta is 2 days, 18:13:49\n",
        "2015-01-19T18:15:42"
       ]
      },
      {
       "output_type": "stream",
       "stream": "stdout",
       "text": [
        " 2015-01-22T12:29:31 2 days, 18:13:49 with 593\n",
        "Using AlexandreDecan's API key"
       ]
      },
      {
       "output_type": "stream",
       "stream": "stdout",
       "text": [
        "\n",
        "2015-01-22T12:29:31"
       ]
      },
      {
       "output_type": "stream",
       "stream": "stdout",
       "text": [
        " 2015-01-25T06:43:20 2 days, 18:13:49 with 1248\n",
        "ratio = 0.600961538462 new delta is 1 day, 15:48:06\n",
        "2015-01-22T12:29:31"
       ]
      },
      {
       "output_type": "stream",
       "stream": "stdout",
       "text": [
        " 2015-01-24T04:17:37 1 day, 15:48:06 with 609\n",
        "2015-01-24T04:17:37"
       ]
      },
      {
       "output_type": "stream",
       "stream": "stdout",
       "text": [
        " 2015-01-25T20:05:43 1 day, 15:48:06 with 1359\n",
        "ratio = 0.551876379691 new delta is 21:57:56\n",
        "2015-01-24T04:17:37"
       ]
      },
      {
       "output_type": "stream",
       "stream": "stdout",
       "text": [
        " 2015-01-25T02:15:33 21:57:56 with 489\n",
        "ratio ="
       ]
      },
      {
       "output_type": "stream",
       "stream": "stdout",
       "text": [
        " 1.53374233129 new delta is 1 day, 9:41:22\n",
        "2015-01-25T02:15:33"
       ]
      },
      {
       "output_type": "stream",
       "stream": "stdout",
       "text": [
        " 2015-01-26T11:56:55 1 day, 9:41:22 with 1753\n",
        "ratio = 0.427837992014 new delta is 14:24:49\n",
        "2015-01-25T02:15:33"
       ]
      },
      {
       "output_type": "stream",
       "stream": "stdout",
       "text": [
        " 2015-01-25T16:40:22 14:24:49 with 527\n",
        "2015-01-25T16:40:22"
       ]
      },
      {
       "output_type": "stream",
       "stream": "stdout",
       "text": [
        " 2015-01-26T07:05:11 14:24:49 with 1196\n",
        "ratio = 0.627090301003 new delta is 9:02:19\n",
        "2015-01-25T16:40:22"
       ]
      },
      {
       "output_type": "stream",
       "stream": "stdout",
       "text": [
        " 2015-01-26T01:42:41 9:02:19 with 1127\n",
        "ratio = 0.665483584738 new delta is 6:00:54\n",
        "2015-01-25T16:40:22"
       ]
      },
      {
       "output_type": "stream",
       "stream": "stdout",
       "text": [
        " 2015-01-25T22:41:16 6:00:54 with 700\n",
        "Using mgoeminne's API key"
       ]
      },
      {
       "output_type": "stream",
       "stream": "stdout",
       "text": [
        "\n",
        "2015-01-25T22:41:16"
       ]
      },
      {
       "output_type": "stream",
       "stream": "stdout",
       "text": [
        " 2015-01-26T04:42:10 6:00:54 with 477\n",
        "ratio ="
       ]
      },
      {
       "output_type": "stream",
       "stream": "stdout",
       "text": [
        " 1.57232704403 new delta is 9:27:27\n",
        "2015-01-26T04:42:10"
       ]
      },
      {
       "output_type": "stream",
       "stream": "stdout",
       "text": [
        " 2015-01-26T14:09:37 9:27:27 with 63\n",
        "ratio = 11.9047619048 new delta is 4 days, 16:35:21\n",
        "2015-01-26T14:09:37"
       ]
      },
      {
       "output_type": "stream",
       "stream": "stdout",
       "text": [
        " 2015-01-31T06:44:58 4 days, 16:35:21 with 683\n",
        "2015-01-31T06:44:58"
       ]
      },
      {
       "output_type": "stream",
       "stream": "stdout",
       "text": [
        " 2015-02-04T23:20:19 4 days, 16:35:21 with 600\n",
        "2015-02-04T23:20:19"
       ]
      },
      {
       "output_type": "stream",
       "stream": "stdout",
       "text": [
        " 2015-02-09T15:55:40 4 days, 16:35:21 with 750\n",
        "2015-02-09T15:55:40"
       ]
      },
      {
       "output_type": "stream",
       "stream": "stdout",
       "text": [
        " 2015-02-14T08:31:01 4 days, 16:35:21 with 749\n",
        "Using narjisse-tabout's API key"
       ]
      },
      {
       "output_type": "stream",
       "stream": "stdout",
       "text": [
        "\n",
        "2015-02-14T08:31:01"
       ]
      },
      {
       "output_type": "stream",
       "stream": "stdout",
       "text": [
        " 2015-02-19T01:06:22 4 days, 16:35:21 with 876\n",
        "2015-02-19T01:06:22"
       ]
      },
      {
       "output_type": "stream",
       "stream": "stdout",
       "text": [
        " 2015-02-23T17:41:43 4 days, 16:35:21 with 2838\n",
        "ratio = 0.264270613108 new delta is 1 day, 5:45:14\n",
        "2015-02-19T01:06:22"
       ]
      },
      {
       "output_type": "stream",
       "stream": "stdout",
       "text": [
        " 2015-02-20T06:51:36 1 day, 5:45:14 with 332\n",
        "ratio ="
       ]
      },
      {
       "output_type": "stream",
       "stream": "stdout",
       "text": [
        " 2.25903614458 new delta is 2 days, 19:12:54\n",
        "2015-02-20T06:51:36"
       ]
      },
      {
       "output_type": "stream",
       "stream": "stdout",
       "text": [
        " 2015-02-23T02:04:30 2 days, 19:12:54 with 2378\n",
        "ratio = 0.315391084945 new delta is 21:11:56\n",
        "2015-02-20T06:51:36"
       ]
      },
      {
       "output_type": "stream",
       "stream": "stdout",
       "text": [
        " 2015-02-21T04:03:32 21:11:56 with 373\n",
        "ratio ="
       ]
      },
      {
       "output_type": "stream",
       "stream": "stdout",
       "text": [
        " 2.01072386059 new delta is 1 day, 18:37:30\n",
        "2015-02-21T04:03:32"
       ]
      },
      {
       "output_type": "stream",
       "stream": "stdout",
       "text": [
        " 2015-02-22T22:41:02 1 day, 18:37:30 with 1583\n",
        "ratio = 0.473783954517 new delta is 20:11:42\n",
        "2015-02-21T04:03:32"
       ]
      },
      {
       "output_type": "stream",
       "stream": "stdout",
       "text": [
        " 2015-02-22T00:15:14 20:11:42 with 393\n",
        "Using AlexandreDecan's API key"
       ]
      },
      {
       "output_type": "stream",
       "stream": "stdout",
       "text": [
        "\n",
        "ratio ="
       ]
      },
      {
       "output_type": "stream",
       "stream": "stdout",
       "text": [
        " 1.90839694656 new delta is 1 day, 14:32:24\n",
        "2015-02-22T00:15:14"
       ]
      },
      {
       "output_type": "stream",
       "stream": "stdout",
       "text": [
        " 2015-02-23T14:47:38 1 day, 14:32:24 with 1717\n",
        "ratio = 0.436808386721 new delta is 16:50:04\n",
        "2015-02-22T00:15:14"
       ]
      },
      {
       "output_type": "stream",
       "stream": "stdout",
       "text": [
        " 2015-02-22T17:05:18 16:50:04 with 583\n",
        "2015-02-22T17:05:18"
       ]
      },
      {
       "output_type": "stream",
       "stream": "stdout",
       "text": [
        " 2015-02-23T09:55:22 16:50:04 with 1096\n",
        "ratio = 0.684306569343 new delta is 11:31:11\n",
        "2015-02-22T17:05:18"
       ]
      },
      {
       "output_type": "stream",
       "stream": "stdout",
       "text": [
        " 2015-02-23T04:36:29 11:31:11 with 1058\n",
        "ratio = 0.708884688091 new delta is 8:09:58\n",
        "2015-02-22T17:05:18"
       ]
      },
      {
       "output_type": "stream",
       "stream": "stdout",
       "text": [
        " 2015-02-23T01:15:16 8:09:58 with 1001\n",
        "ratio = 0.749250749251 new delta is 6:07:06\n",
        "2015-02-22T17:05:18"
       ]
      },
      {
       "output_type": "stream",
       "stream": "stdout",
       "text": [
        " 2015-02-22T23:12:24 6:07:06 with 691\n",
        "2015-02-22T23:12:24"
       ]
      },
      {
       "output_type": "stream",
       "stream": "stdout",
       "text": [
        " 2015-02-23T05:19:30 6:07:06 with 373\n",
        "ratio ="
       ]
      },
      {
       "output_type": "stream",
       "stream": "stdout",
       "text": [
        " 2.01072386059 new delta is 12:18:08\n",
        "2015-02-23T05:19:30"
       ]
      },
      {
       "output_type": "stream",
       "stream": "stdout",
       "text": [
        " 2015-02-23T17:37:38 12:18:08 with 94\n",
        "ratio = 7.97872340426 new delta is 4 days, 2:09:21\n",
        "2015-02-23T17:37:38"
       ]
      },
      {
       "output_type": "stream",
       "stream": "stdout",
       "text": [
        " 2015-02-27T19:46:59 4 days, 2:09:21 with 558\n",
        "2015-02-27T19:46:59"
       ]
      },
      {
       "output_type": "stream",
       "stream": "stdout",
       "text": [
        " 2015-03-03T21:56:20 4 days, 2:09:21 with 472\n",
        "Using mgoeminne's API key"
       ]
      },
      {
       "output_type": "stream",
       "stream": "stdout",
       "text": [
        "\n",
        "ratio ="
       ]
      },
      {
       "output_type": "stream",
       "stream": "stdout",
       "text": [
        " 1.58898305085 new delta is 6 days, 11:58:04\n",
        "2015-03-03T21:56:20"
       ]
      },
      {
       "output_type": "stream",
       "stream": "stdout",
       "text": [
        " 2015-03-10T09:54:24 6 days, 11:58:04 with 996\n",
        "2015-03-10T09:54:24"
       ]
      },
      {
       "output_type": "stream",
       "stream": "stdout",
       "text": [
        " 2015-03-16T21:52:28 6 days, 11:58:04 with 1037\n",
        "ratio = 0.723240115718 new delta is 4 days, 16:48:07\n",
        "2015-03-10T09:54:24"
       ]
      },
      {
       "output_type": "stream",
       "stream": "stdout",
       "text": [
        " 2015-03-15T02:42:31 4 days, 16:48:07 with 714\n",
        "2015-03-15T02:42:31"
       ]
      },
      {
       "output_type": "stream",
       "stream": "stdout",
       "text": [
        " 2015-03-19T19:30:38 4 days, 16:48:07 with 1051\n",
        "ratio = 0.713606089439 new delta is 3 days, 8:29:46\n",
        "2015-03-15T02:42:31"
       ]
      },
      {
       "output_type": "stream",
       "stream": "stdout",
       "text": [
        " 2015-03-18T11:12:17 3 days, 8:29:46 with 677\n",
        "Using narjisse-tabout's API key"
       ]
      },
      {
       "output_type": "stream",
       "stream": "stdout",
       "text": [
        "\n",
        "2015-03-18T11:12:17"
       ]
      },
      {
       "output_type": "stream",
       "stream": "stdout",
       "text": [
        " 2015-03-21T19:42:03 3 days, 8:29:46 with 1087\n",
        "ratio = 0.689972401104 new delta is 2 days, 7:32:24\n",
        "2015-03-18T11:12:17"
       ]
      },
      {
       "output_type": "stream",
       "stream": "stdout",
       "text": [
        " 2015-03-20T18:44:41 2 days, 7:32:24 with 672\n",
        "2015-03-20T18:44:41"
       ]
      },
      {
       "output_type": "stream",
       "stream": "stdout",
       "text": [
        " 2015-03-23T02:17:05 2 days, 7:32:24 with 2026\n",
        "ratio = 0.370187561698 new delta is 20:33:36\n",
        "2015-03-20T18:44:41"
       ]
      },
      {
       "output_type": "stream",
       "stream": "stdout",
       "text": [
        " 2015-03-21T15:18:17 20:33:36 with 293\n",
        "ratio ="
       ]
      },
      {
       "output_type": "stream",
       "stream": "stdout",
       "text": [
        " 2.55972696246 new delta is 2 days, 4:37:40\n",
        "2015-03-21T15:18:17"
       ]
      },
      {
       "output_type": "stream",
       "stream": "stdout",
       "text": [
        " 2015-03-23T19:55:57 2 days, 4:37:40 with 1900\n",
        "ratio = 0.394736842105 new delta is 20:46:26\n",
        "2015-03-21T15:18:17"
       ]
      },
      {
       "output_type": "stream",
       "stream": "stdout",
       "text": [
        " 2015-03-22T12:04:43 20:46:26 with 546\n",
        "2015-03-22T12:04:43"
       ]
      },
      {
       "output_type": "stream",
       "stream": "stdout",
       "text": [
        " 2015-03-23T08:51:09 20:46:26 with 1230\n",
        "ratio = 0.609756097561 new delta is 12:40:01\n",
        "2015-03-22T12:04:43"
       ]
      },
      {
       "output_type": "stream",
       "stream": "stdout",
       "text": [
        " 2015-03-23T00:44:44 12:40:01 with 1161\n",
        "ratio = 0.645994832041 new delta is 8:10:58\n",
        "2015-03-22T12:04:43"
       ]
      },
      {
       "output_type": "stream",
       "stream": "stdout",
       "text": [
        " 2015-03-22T20:15:41 8:10:58 with 617\n",
        "2015-03-22T20:15:41"
       ]
      },
      {
       "output_type": "stream",
       "stream": "stdout",
       "text": [
        " 2015-03-23T04:26:39 8:10:58 with 589\n",
        "Using AlexandreDecan's API key"
       ]
      },
      {
       "output_type": "stream",
       "stream": "stdout",
       "text": [
        "\n",
        "2015-03-23T04:26:39"
       ]
      },
      {
       "output_type": "stream",
       "stream": "stdout",
       "text": [
        " 2015-03-23T12:37:37 8:10:58 with 51\n",
        "ratio = 14.7058823529 new delta is 5 days, 0:20:05\n",
        "2015-03-23T12:37:37"
       ]
      },
      {
       "output_type": "stream",
       "stream": "stdout",
       "text": [
        " 2015-03-28T12:57:42 5 days, 0:20:05 with 986\n",
        "2015-03-28T12:57:42"
       ]
      },
      {
       "output_type": "stream",
       "stream": "stdout",
       "text": [
        " 2015-04-02T13:17:47 5 days, 0:20:05 with 694\n",
        "2015-04-02T13:17:47"
       ]
      },
      {
       "output_type": "stream",
       "stream": "stdout",
       "text": [
        " 2015-04-07T13:37:52 5 days, 0:20:05 with 568\n",
        "2015-04-07T13:37:52"
       ]
      },
      {
       "output_type": "stream",
       "stream": "stdout",
       "text": [
        " 2015-04-12T13:57:57 5 days, 0:20:05 with 830\n",
        "Using mgoeminne's API key"
       ]
      },
      {
       "output_type": "stream",
       "stream": "stdout",
       "text": [
        "\n",
        "2015-04-12T13:57:57"
       ]
      },
      {
       "output_type": "stream",
       "stream": "stdout",
       "text": [
        " 2015-04-17T14:18:02 5 days, 0:20:05 with 1583\n",
        "ratio = 0.473783954517 new delta is 2 days, 9:00:45\n",
        "2015-04-12T13:57:57"
       ]
      },
      {
       "output_type": "stream",
       "stream": "stdout",
       "text": [
        " 2015-04-14T22:58:42 2 days, 9:00:45 with 511\n",
        "2015-04-14T22:58:42"
       ]
      },
      {
       "output_type": "stream",
       "stream": "stdout",
       "text": [
        " 2015-04-17T07:59:27 2 days, 9:00:45 with 1023\n",
        "ratio = 0.733137829912 new delta is 1 day, 17:47:52\n",
        "2015-04-14T22:58:42"
       ]
      },
      {
       "output_type": "stream",
       "stream": "stdout",
       "text": [
        " 2015-04-16T16:46:34 1 day, 17:47:52 with 358\n",
        "ratio ="
       ]
      },
      {
       "output_type": "stream",
       "stream": "stdout",
       "text": [
        " 2.09497206704 new delta is 3 days, 15:33:54\n",
        "2015-04-16T16:46:34"
       ]
      },
      {
       "output_type": "stream",
       "stream": "stdout",
       "text": [
        " 2015-04-20T08:20:28 3 days, 15:33:54 with 1131\n",
        "ratio = 0.663129973475 new delta is 2 days, 10:04:01\n",
        "2015-04-16T16:46:34"
       ]
      },
      {
       "output_type": "stream",
       "stream": "stdout",
       "text": [
        " 2015-04-19T02:50:35 2 days, 10:04:01 with 928\n",
        "Using narjisse-tabout's API key"
       ]
      },
      {
       "output_type": "stream",
       "stream": "stdout",
       "text": [
        "\n",
        "2015-04-19T02:50:35"
       ]
      },
      {
       "output_type": "stream",
       "stream": "stdout",
       "text": [
        " 2015-04-21T12:54:36 2 days, 10:04:01 with 511\n",
        "2015-04-21T12:54:36"
       ]
      },
      {
       "output_type": "stream",
       "stream": "stdout",
       "text": [
        " 2015-04-23T22:58:37 2 days, 10:04:01 with 812\n",
        "2015-04-23T22:58:37"
       ]
      },
      {
       "output_type": "stream",
       "stream": "stdout",
       "text": [
        " 2015-04-26T09:02:38 2 days, 10:04:01 with 1138\n",
        "ratio = 0.659050966608 new delta is 1 day, 14:16:08\n",
        "2015-04-23T22:58:37"
       ]
      },
      {
       "output_type": "stream",
       "stream": "stdout",
       "text": [
        " 2015-04-25T13:14:45 1 day, 14:16:08 with 621\n",
        "2015-04-25T13:14:45"
       ]
      },
      {
       "output_type": "stream",
       "stream": "stdout",
       "text": [
        " 2015-04-27T03:30:53 1 day, 14:16:08 with 1867\n",
        "ratio = 0.401713979646 new delta is 15:22:23\n",
        "2015-04-25T13:14:45"
       ]
      },
      {
       "output_type": "stream",
       "stream": "stdout",
       "text": [
        " 2015-04-26T04:37:08 15:22:23 with 389\n",
        "ratio ="
       ]
      },
      {
       "output_type": "stream",
       "stream": "stdout",
       "text": [
        " 1.92802056555 new delta is 1 day, 5:38:22\n",
        "2015-04-26T04:37:08"
       ]
      },
      {
       "output_type": "stream",
       "stream": "stdout",
       "text": [
        " 2015-04-27T10:15:30 1 day, 5:38:22 with 1545\n",
        "ratio = 0.485436893204 new delta is 14:23:17\n",
        "Using AlexandreDecan's API key"
       ]
      },
      {
       "output_type": "stream",
       "stream": "stdout",
       "text": [
        "\n",
        "2015-04-26T04:37:08"
       ]
      },
      {
       "output_type": "stream",
       "stream": "stdout",
       "text": [
        " 2015-04-26T19:00:25 14:23:17 with 736\n",
        "2015-04-26T19:00:25"
       ]
      },
      {
       "output_type": "stream",
       "stream": "stdout",
       "text": [
        " 2015-04-27T09:23:42 14:23:17 with 802\n",
        "2015-04-27T09:23:42"
       ]
      },
      {
       "output_type": "stream",
       "stream": "stdout",
       "text": [
        " 2015-04-27T23:46:59 14:23:17 with 187\n",
        "ratio ="
       ]
      },
      {
       "output_type": "stream",
       "stream": "stdout",
       "text": [
        " 4.01069518717 new delta is 2 days, 9:42:21\n",
        "2015-04-27T23:46:59"
       ]
      },
      {
       "output_type": "stream",
       "stream": "stdout",
       "text": [
        " 2015-04-30T09:29:20 2 days, 9:42:21 with 508\n",
        "2015-04-30T09:29:20"
       ]
      },
      {
       "output_type": "stream",
       "stream": "stdout",
       "text": [
        " 2015-05-01T00:00:00 2 days, 9:42:21 with 163\n",
        "ratio ="
       ]
      },
      {
       "output_type": "stream",
       "stream": "stdout",
       "text": [
        " 4.60122699387 new delta is 11 days, 1:31:03\n"
       ]
      }
     ],
     "prompt_number": 53
    },
    {
     "cell_type": "code",
     "collapsed": false,
     "input": [
      "json.dump(data, open(OUTPUT, 'w'), indent=0)"
     ],
     "language": "python",
     "metadata": {},
     "outputs": [],
     "prompt_number": 54
    }
   ],
   "metadata": {}
  }
 ]
}