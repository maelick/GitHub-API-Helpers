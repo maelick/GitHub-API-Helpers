{
 "metadata": {
  "name": "",
  "signature": "sha256:41a5ffa157f79a535e697415341a3e418a4a68bce487c2bbb27df82fc9355414"
 },
 "nbformat": 3,
 "nbformat_minor": 0,
 "worksheets": [
  {
   "cells": [
    {
     "cell_type": "heading",
     "level": 1,
     "metadata": {},
     "source": [
      "Get GitHub R Repositories from GitHub API v3"
     ]
    },
    {
     "cell_type": "code",
     "collapsed": false,
     "input": [
      "import requests\n",
      "import json\n",
      "import time\n",
      "import datetime\n",
      "import gzip\n",
      "\n",
      "from dateutil import parser"
     ],
     "language": "python",
     "metadata": {},
     "outputs": [],
     "prompt_number": 60
    },
    {
     "cell_type": "code",
     "collapsed": false,
     "input": [
      "API_KEYS = []\n",
      "\n",
      "class APIKey(object):\n",
      "    def __init__(self, owner, key, until):\n",
      "        self.owner = owner\n",
      "        self.key = key\n",
      "        self.until = until\n",
      "        \n",
      "for line in open('github-api.key').readlines():\n",
      "    owner, key = line.split(' ')    \n",
      "    API_KEYS.append(APIKey(owner=owner.strip(), key=key.strip(), until=datetime.datetime.now()))"
     ],
     "language": "python",
     "metadata": {},
     "outputs": [],
     "prompt_number": 61
    },
    {
     "cell_type": "code",
     "collapsed": false,
     "input": [
      "URL = 'https://api.github.com/search/repositories?per_page=100&q=language:R fork:false pushed:{start}..{end}&page={page}'\n",
      "\n",
      "INITIAL_DELTA = datetime.timedelta(days=7)\n",
      "START_DATE = datetime.datetime(2014, 12, 1)\n",
      "END_DATE = datetime.datetime(2015, 5, 1)\n",
      "\n",
      "RATIO_MULTIPLIER = 0.75\n",
      "\n",
      "OUTPUT = '../data/github-apiv3-{start}-{end}.tar.gz'.format(start=START_DATE.isoformat(), end=END_DATE.isoformat())\n",
      "\n",
      "TIMEZONE_DELTA = 2 # +2h from GMT to us\n",
      "parsetime = lambda x: parser.parse(x, ignoretz=True) + datetime.timedelta(hours=TIMEZONE_DELTA)"
     ],
     "language": "python",
     "metadata": {},
     "outputs": [],
     "prompt_number": 62
    },
    {
     "cell_type": "code",
     "collapsed": false,
     "input": [
      "def make_headers():\n",
      "    # Needs API_KEYS which is a list of APIKey objects\n",
      "    old = API_KEYS[0]\n",
      "    API_KEYS.sort(key=lambda k: k.until)\n",
      "    new = API_KEYS[0]\n",
      "    if old != new:\n",
      "        print 'Using {}\\'s API key'.format(new.owner)\n",
      "        \n",
      "    # Wait?\n",
      "    delay = (API_KEYS[0].until - datetime.datetime.now()).total_seconds()\n",
      "    if delay > 0:\n",
      "        print 'zzzZZZzzz ({} seconds)'.format(delay + 1)\n",
      "        time.sleep(delay + 1)\n",
      "        \n",
      "    return {\n",
      "        'Authorization': 'token '+API_KEYS[0].key,\n",
      "        'User-agent': API_KEYS[0].owner,\n",
      "    }\n",
      "    \n",
      "def github_API(url):\n",
      "    tries = 0\n",
      "    while True:\n",
      "        r = requests.get(url, headers=make_headers())\n",
      "        if r.status_code == 200:\n",
      "            break\n",
      "        if r.status_code == 403 and r.headers['X-RateLimit-Remaining'] == '0':\n",
      "            message_datetime = parsetime(r.headers['date'])\n",
      "            limit_datetime = datetime.datetime.fromtimestamp(int(r.headers['x-ratelimit-reset']))\n",
      "            delta = (limit_datetime - message_datetime)\n",
      "            API_KEYS[0].until = datetime.datetime.now() + delta    \n",
      "        else:\n",
      "            tries += 1\n",
      "            if tries >= 5:\n",
      "                raise requests.exceptions.HTTPError(r)\n",
      "    return r"
     ],
     "language": "python",
     "metadata": {},
     "outputs": [],
     "prompt_number": 63
    },
    {
     "cell_type": "code",
     "collapsed": false,
     "input": [
      "data = []\n",
      "current_start = START_DATE\n",
      "current_delta = INITIAL_DELTA\n",
      "\n",
      "while current_start < END_DATE:\n",
      "    current_end = min(END_DATE, current_start + current_delta)\n",
      "    r = github_API(URL.format(start=current_start.isoformat(), end=current_end.isoformat(), page=1))\n",
      "    content = json.loads(r.content)\n",
      "    print current_start.isoformat(), current_end.isoformat(), str(current_delta), 'with', content['total_count']\n",
      "    if content['total_count'] <= 1000:\n",
      "        pages = int(content['total_count']) / 100 + 1\n",
      "        for item in content['items']:\n",
      "            data.append(item)\n",
      "            \n",
      "        for page in range(2, pages + 1):\n",
      "            r = github_API(URL.format(start=current_start.isoformat(), end=current_end.isoformat(), page=page))\n",
      "            content = json.loads(r.content)\n",
      "            for item in content['items']:\n",
      "                data.append(item)\n",
      "                \n",
      "        current_start = current_end\n",
      "    \n",
      "    # Adjust delta\n",
      "    if content['total_count'] < 500 or content['total_count'] > 1000:\n",
      "        ratio = RATIO_MULTIPLIER * 1000.0 / int(content['total_count'])\n",
      "        current_delta = datetime.timedelta(seconds = int(current_delta.total_seconds() * ratio))\n",
      "        print 'ratio =', ratio, 'new delta is', current_delta"
     ],
     "language": "python",
     "metadata": {},
     "outputs": [
      {
       "output_type": "stream",
       "stream": "stdout",
       "text": [
        "2014-12-01T00:00:00 2014-12-08T00:00:00 7 days, 0:00:00 with 12454\n",
        "ratio = 0.0602216155452 new delta is 10:07:02\n",
        "2014-12-01T00:00:00"
       ]
      },
      {
       "output_type": "stream",
       "stream": "stdout",
       "text": [
        " 2014-12-01T10:07:02 10:07:02 with 656\n",
        "2014-12-01T10:07:02"
       ]
      },
      {
       "output_type": "stream",
       "stream": "stdout",
       "text": [
        " 2014-12-01T20:14:04 10:07:02 with 877\n",
        "2014-12-01T20:14:04"
       ]
      },
      {
       "output_type": "stream",
       "stream": "stdout",
       "text": [
        " 2014-12-02T06:21:06 10:07:02 with 745\n",
        "2014-12-02T06:21:06"
       ]
      },
      {
       "output_type": "stream",
       "stream": "stdout",
       "text": [
        " 2014-12-02T16:28:08 10:07:02 with 828\n",
        "Using mgoeminne's API key"
       ]
      },
      {
       "output_type": "stream",
       "stream": "stdout",
       "text": [
        "\n",
        "2014-12-02T16:28:08"
       ]
      }
     ]
    },
    {
     "cell_type": "code",
     "collapsed": false,
     "input": [
      "data_json = json.dumps(data, indent=0)\n",
      "f_out = gzip.open(OUTPUT, 'wb')\n",
      "f_out.write(data_json)\n",
      "f_out.close()"
     ],
     "language": "python",
     "metadata": {},
     "outputs": []
    }
   ],
   "metadata": {}
  }
 ]
}