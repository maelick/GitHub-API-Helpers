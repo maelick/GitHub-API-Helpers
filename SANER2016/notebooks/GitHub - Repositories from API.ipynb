{
 "metadata": {
  "name": "",
  "signature": "sha256:851a2af9808c93fcd5aa0fdf381aae6f60f04f428a754a046b6b1801cb908927"
 },
 "nbformat": 3,
 "nbformat_minor": 0,
 "worksheets": [
  {
   "cells": [
    {
     "cell_type": "heading",
     "level": 1,
     "metadata": {},
     "source": [
      "Get GitHub R Repositories from GitHub API v3"
     ]
    },
    {
     "cell_type": "code",
     "collapsed": false,
     "input": [
      "import requests\n",
      "import json"
     ],
     "language": "python",
     "metadata": {},
     "outputs": [],
     "prompt_number": 1
    },
    {
     "cell_type": "code",
     "collapsed": false,
     "input": [
      "API_KEY = ''.join(open('github-api.key', 'r').readlines())"
     ],
     "language": "python",
     "metadata": {},
     "outputs": []
    }
   ],
   "metadata": {}
  }
 ]
}