{
 "metadata": {
  "name": "",
  "signature": "sha256:73cf613ca8f20c99057c727c25ca46fff67f0669ab34475f05f80282fae2e176"
 },
 "nbformat": 3,
 "nbformat_minor": 0,
 "worksheets": [
  {
   "cells": [
    {
     "cell_type": "heading",
     "level": 1,
     "metadata": {},
     "source": [
      "GitHub - Data Extraction"
     ]
    },
    {
     "cell_type": "markdown",
     "metadata": {},
     "source": [
      "The file `../data/RPackage-Repositories-150101-150601.csv` contains a list of GitHub repositories that are candidates to store a package related to R. Those candidates were collected from the activity on GitHub between 15-01 and 15-06. Those candidates all contain a `DESCRIPTION` file at the root of the repository.\n",
      "\n",
      "We `git clone`-ed each of those repository. This notebook will parse those git repositories and extract the `DESCRIPTION` file of each commit. "
     ]
    },
    {
     "cell_type": "code",
     "collapsed": false,
     "input": [
      "import pandas\n",
      "from datetime import date"
     ],
     "language": "python",
     "metadata": {},
     "outputs": [],
     "prompt_number": 3
    },
    {
     "cell_type": "markdown",
     "metadata": {},
     "source": [
      "We will make use of the following commands:\n",
      " - `git clone <url> <path>` where <url> is the url of the repository and <path> is the location to store the repository.\n",
      " - `git log --follow --format=\"%H/%ci\" <path>` where <path> will be `DESCRIPTION`. The output of this command is a list of <commit> / <date> for this file. \n",
      " - `git show <commit>:<path>` where <commit> is the considered commit, and <path> will be `DESCRIPTION`. This command outputs the content of the file at the given commit."
     ]
    },
    {
     "cell_type": "code",
     "collapsed": false,
     "input": [
      "github = pandas.DataFrame.from_csv('../data/RPackage-Repositories-150101-150601.csv')\n",
      "repositories = github[['owner.login', 'name']].rename(columns={'owner.login': 'owner', 'name': 'repositories'})\n",
      "\n",
      "FILENAME = '../data/github-raw-150601.csv'\n",
      "\n",
      "# Root of the directory where the repositories were collected\n",
      "GIT_DIR = '/data/github/' "
     ],
     "language": "python",
     "metadata": {},
     "outputs": [],
     "prompt_number": 4
    },
    {
     "cell_type": "markdown",
     "metadata": {},
     "source": [
      "We will retrieve a lot of data, we can benefit from IPython's parallel computation tool.\n",
      "\n",
      "**To use this notebook, you need either to configure your IPController or to start a cluster of IPython nodes, using `ipcluster start -n 4` for example.** See https://ipython.org/ipython-doc/dev/parallel/parallel_process.html for more information.\n",
      "\n",
      "It seems that most recent versions of IPython Notebook can directly start cluster from the web interface, under the *Cluster* tab."
     ]
    },
    {
     "cell_type": "code",
     "collapsed": false,
     "input": [
      "from IPython import parallel\n",
      "clients = parallel.Client()\n",
      "clients.block = False # asynchronous computations\n",
      "print 'Clients:', str(clients.ids)"
     ],
     "language": "python",
     "metadata": {},
     "outputs": [
      {
       "output_type": "stream",
       "stream": "stdout",
       "text": [
        "Clients: [0, 1, 2, 3, 4, 5, 6, 7, 8, 9, 10, 11]\n"
       ]
      }
     ],
     "prompt_number": 5
    },
    {
     "cell_type": "code",
     "collapsed": false,
     "input": [
      "def get_data_from((owner, repository)):\n",
      "    # Move to target directory\n",
      "    try:\n",
      "        os.chdir(os.path.join(GIT_DIR, owner, repository))\n",
      "    except OSError as e: \n",
      "        # Should happen when directory does not exist\n",
      "        return []\n",
      "    \n",
      "    data_list = []\n",
      "    \n",
      "    # Get commits for DESCRIPTION\n",
      "    try:\n",
      "        commits = subprocess.check_output(['git', 'log', '--format=%H/%ci', '--', 'DESCRIPTION'])\n",
      "    except subprocess.CalledProcessError as e:\n",
      "        # Should not happen!?\n",
      "        raise Exception(owner + ' ' + repository + '/ log : ' + e.output)\n",
      "        \n",
      "    for commit in [x for x in commits.split('\\n') if len(x.strip())!=0]:\n",
      "        commit_sha, date = map(lambda x: x.strip(), commit.split('/'))\n",
      "        \n",
      "        # Get file content\n",
      "        try:\n",
      "            content = subprocess.check_output(['git', 'show', '{id}:{path}'.format(id=commit_sha, path='DESCRIPTION')])\n",
      "        except subprocess.CalledProcessError as e:\n",
      "            # Could happen when DESCRIPTION was added in this commit. Silently ignore\n",
      "            continue\n",
      "        \n",
      "        try:\n",
      "            metadata = deb822.Deb822(content.split('\\n'))\n",
      "        except Exception as e: \n",
      "            # I don't known which are the exceptions that Deb822 may throw!\n",
      "            continue # Go further\n",
      "            \n",
      "        data = {}\n",
      "        \n",
      "        for md in ['Package', 'Version', 'License', 'Imports', 'Suggests', 'Depends', 'Author', 'Authors']:\n",
      "            data[md] = metadata.get(md, '')\n",
      "        \n",
      "        data['CommitDate'] = date\n",
      "        data['Owner'] = owner\n",
      "        data['Repository'] = repository\n",
      "        data_list.append(data)\n",
      "\n",
      "    # Return to root directory\n",
      "    os.chdir(GIT_DIR)\n",
      "    return data_list"
     ],
     "language": "python",
     "metadata": {},
     "outputs": [],
     "prompt_number": 6
    },
    {
     "cell_type": "code",
     "collapsed": false,
     "input": [
      "data = []\n",
      "\n",
      "clients[:].execute('import subprocess, os')\n",
      "clients[:].execute('from debian import deb822')\n",
      "clients[:]['GIT_DIR'] = GIT_DIR\n",
      "\n",
      "balanced = clients.load_balanced_view()\n",
      "\n",
      "items = [(owner, repo) for idx, (owner, repo) in repositories.iterrows()]\n",
      "\n",
      "print len(items), 'items'\n",
      "    \n",
      "res = balanced.map(get_data_from, items, ordered=False, timeout=15)\n",
      "\n",
      "import time\n",
      "while not res.ready():\n",
      "    time.sleep(5)\n",
      "    print res.progress, ' ', \n",
      "    \n",
      "for result in res.result:\n",
      "    data.extend(result)"
     ],
     "language": "python",
     "metadata": {},
     "outputs": [
      {
       "output_type": "stream",
       "stream": "stdout",
       "text": [
        "6533 items\n",
        "55"
       ]
      },
      {
       "output_type": "stream",
       "stream": "stdout",
       "text": [
        "   "
       ]
      },
      {
       "output_type": "stream",
       "stream": "stdout",
       "text": [
        "90   "
       ]
      },
      {
       "output_type": "stream",
       "stream": "stdout",
       "text": [
        "120   "
       ]
      },
      {
       "output_type": "stream",
       "stream": "stdout",
       "text": [
        "161   "
       ]
      },
      {
       "output_type": "stream",
       "stream": "stdout",
       "text": [
        "197   "
       ]
      },
      {
       "output_type": "stream",
       "stream": "stdout",
       "text": [
        "225   "
       ]
      },
      {
       "output_type": "stream",
       "stream": "stdout",
       "text": [
        "253   "
       ]
      },
      {
       "output_type": "stream",
       "stream": "stdout",
       "text": [
        "280   "
       ]
      },
      {
       "output_type": "stream",
       "stream": "stdout",
       "text": [
        "321   "
       ]
      },
      {
       "output_type": "stream",
       "stream": "stdout",
       "text": [
        "363   "
       ]
      },
      {
       "output_type": "stream",
       "stream": "stdout",
       "text": [
        "397   "
       ]
      },
      {
       "output_type": "stream",
       "stream": "stdout",
       "text": [
        "442   "
       ]
      },
      {
       "output_type": "stream",
       "stream": "stdout",
       "text": [
        "479   "
       ]
      },
      {
       "output_type": "stream",
       "stream": "stdout",
       "text": [
        "512   "
       ]
      },
      {
       "output_type": "stream",
       "stream": "stdout",
       "text": [
        "544   "
       ]
      },
      {
       "output_type": "stream",
       "stream": "stdout",
       "text": [
        "582   "
       ]
      },
      {
       "output_type": "stream",
       "stream": "stdout",
       "text": [
        "622   "
       ]
      },
      {
       "output_type": "stream",
       "stream": "stdout",
       "text": [
        "658   "
       ]
      },
      {
       "output_type": "stream",
       "stream": "stdout",
       "text": [
        "678   "
       ]
      },
      {
       "output_type": "stream",
       "stream": "stdout",
       "text": [
        "700   "
       ]
      },
      {
       "output_type": "stream",
       "stream": "stdout",
       "text": [
        "739   "
       ]
      },
      {
       "output_type": "stream",
       "stream": "stdout",
       "text": [
        "768   "
       ]
      },
      {
       "output_type": "stream",
       "stream": "stdout",
       "text": [
        "809   "
       ]
      },
      {
       "output_type": "stream",
       "stream": "stdout",
       "text": [
        "848   "
       ]
      },
      {
       "output_type": "stream",
       "stream": "stdout",
       "text": [
        "885   "
       ]
      },
      {
       "output_type": "stream",
       "stream": "stdout",
       "text": [
        "922   "
       ]
      },
      {
       "output_type": "stream",
       "stream": "stdout",
       "text": [
        "960   "
       ]
      },
      {
       "output_type": "stream",
       "stream": "stdout",
       "text": [
        "1004   "
       ]
      },
      {
       "output_type": "stream",
       "stream": "stdout",
       "text": [
        "1035   "
       ]
      },
      {
       "output_type": "stream",
       "stream": "stdout",
       "text": [
        "1076   "
       ]
      },
      {
       "output_type": "stream",
       "stream": "stdout",
       "text": [
        "1107   "
       ]
      },
      {
       "output_type": "stream",
       "stream": "stdout",
       "text": [
        "1146   "
       ]
      },
      {
       "output_type": "stream",
       "stream": "stdout",
       "text": [
        "1192   "
       ]
      },
      {
       "output_type": "stream",
       "stream": "stdout",
       "text": [
        "1241   "
       ]
      },
      {
       "output_type": "stream",
       "stream": "stdout",
       "text": [
        "1284   "
       ]
      },
      {
       "output_type": "stream",
       "stream": "stdout",
       "text": [
        "1312   "
       ]
      },
      {
       "output_type": "stream",
       "stream": "stdout",
       "text": [
        "1344   "
       ]
      },
      {
       "output_type": "stream",
       "stream": "stdout",
       "text": [
        "1384   "
       ]
      },
      {
       "output_type": "stream",
       "stream": "stdout",
       "text": [
        "1420   "
       ]
      },
      {
       "output_type": "stream",
       "stream": "stdout",
       "text": [
        "1459   "
       ]
      },
      {
       "output_type": "stream",
       "stream": "stdout",
       "text": [
        "1499   "
       ]
      },
      {
       "output_type": "stream",
       "stream": "stdout",
       "text": [
        "1530   "
       ]
      },
      {
       "output_type": "stream",
       "stream": "stdout",
       "text": [
        "1559   "
       ]
      },
      {
       "output_type": "stream",
       "stream": "stdout",
       "text": [
        "1588   "
       ]
      },
      {
       "output_type": "stream",
       "stream": "stdout",
       "text": [
        "1617   "
       ]
      },
      {
       "output_type": "stream",
       "stream": "stdout",
       "text": [
        "1655   "
       ]
      },
      {
       "output_type": "stream",
       "stream": "stdout",
       "text": [
        "1684   "
       ]
      },
      {
       "output_type": "stream",
       "stream": "stdout",
       "text": [
        "1727   "
       ]
      },
      {
       "output_type": "stream",
       "stream": "stdout",
       "text": [
        "1774   "
       ]
      },
      {
       "output_type": "stream",
       "stream": "stdout",
       "text": [
        "1805   "
       ]
      },
      {
       "output_type": "stream",
       "stream": "stdout",
       "text": [
        "1843   "
       ]
      },
      {
       "output_type": "stream",
       "stream": "stdout",
       "text": [
        "1882   "
       ]
      },
      {
       "output_type": "stream",
       "stream": "stdout",
       "text": [
        "1914   "
       ]
      },
      {
       "output_type": "stream",
       "stream": "stdout",
       "text": [
        "1953   "
       ]
      },
      {
       "output_type": "stream",
       "stream": "stdout",
       "text": [
        "1978   "
       ]
      },
      {
       "output_type": "stream",
       "stream": "stdout",
       "text": [
        "2005   "
       ]
      },
      {
       "output_type": "stream",
       "stream": "stdout",
       "text": [
        "2035   "
       ]
      },
      {
       "output_type": "stream",
       "stream": "stdout",
       "text": [
        "2084   "
       ]
      },
      {
       "output_type": "stream",
       "stream": "stdout",
       "text": [
        "2105   "
       ]
      },
      {
       "output_type": "stream",
       "stream": "stdout",
       "text": [
        "2131   "
       ]
      },
      {
       "output_type": "stream",
       "stream": "stdout",
       "text": [
        "2166   "
       ]
      },
      {
       "output_type": "stream",
       "stream": "stdout",
       "text": [
        "2198   "
       ]
      },
      {
       "output_type": "stream",
       "stream": "stdout",
       "text": [
        "2236   "
       ]
      },
      {
       "output_type": "stream",
       "stream": "stdout",
       "text": [
        "2273   "
       ]
      },
      {
       "output_type": "stream",
       "stream": "stdout",
       "text": [
        "2313   "
       ]
      },
      {
       "output_type": "stream",
       "stream": "stdout",
       "text": [
        "2340   "
       ]
      },
      {
       "output_type": "stream",
       "stream": "stdout",
       "text": [
        "2371   "
       ]
      },
      {
       "output_type": "stream",
       "stream": "stdout",
       "text": [
        "2405   "
       ]
      },
      {
       "output_type": "stream",
       "stream": "stdout",
       "text": [
        "2449   "
       ]
      },
      {
       "output_type": "stream",
       "stream": "stdout",
       "text": [
        "2497   "
       ]
      },
      {
       "output_type": "stream",
       "stream": "stdout",
       "text": [
        "2526   "
       ]
      },
      {
       "output_type": "stream",
       "stream": "stdout",
       "text": [
        "2567   "
       ]
      },
      {
       "output_type": "stream",
       "stream": "stdout",
       "text": [
        "2605   "
       ]
      },
      {
       "output_type": "stream",
       "stream": "stdout",
       "text": [
        "2645   "
       ]
      },
      {
       "output_type": "stream",
       "stream": "stdout",
       "text": [
        "2680   "
       ]
      },
      {
       "output_type": "stream",
       "stream": "stdout",
       "text": [
        "2707   "
       ]
      },
      {
       "output_type": "stream",
       "stream": "stdout",
       "text": [
        "2739   "
       ]
      },
      {
       "output_type": "stream",
       "stream": "stdout",
       "text": [
        "2759   "
       ]
      },
      {
       "output_type": "stream",
       "stream": "stdout",
       "text": [
        "2798   "
       ]
      },
      {
       "output_type": "stream",
       "stream": "stdout",
       "text": [
        "2843   "
       ]
      },
      {
       "output_type": "stream",
       "stream": "stdout",
       "text": [
        "2875   "
       ]
      },
      {
       "output_type": "stream",
       "stream": "stdout",
       "text": [
        "2912   "
       ]
      },
      {
       "output_type": "stream",
       "stream": "stdout",
       "text": [
        "2953   "
       ]
      },
      {
       "output_type": "stream",
       "stream": "stdout",
       "text": [
        "2988   "
       ]
      },
      {
       "output_type": "stream",
       "stream": "stdout",
       "text": [
        "3017   "
       ]
      },
      {
       "output_type": "stream",
       "stream": "stdout",
       "text": [
        "3059   "
       ]
      },
      {
       "output_type": "stream",
       "stream": "stdout",
       "text": [
        "3092   "
       ]
      },
      {
       "output_type": "stream",
       "stream": "stdout",
       "text": [
        "3149   "
       ]
      },
      {
       "output_type": "stream",
       "stream": "stdout",
       "text": [
        "3187   "
       ]
      },
      {
       "output_type": "stream",
       "stream": "stdout",
       "text": [
        "3222   "
       ]
      },
      {
       "output_type": "stream",
       "stream": "stdout",
       "text": [
        "3258   "
       ]
      },
      {
       "output_type": "stream",
       "stream": "stdout",
       "text": [
        "3282   "
       ]
      },
      {
       "output_type": "stream",
       "stream": "stdout",
       "text": [
        "3317   "
       ]
      },
      {
       "output_type": "stream",
       "stream": "stdout",
       "text": [
        "3363   "
       ]
      },
      {
       "output_type": "stream",
       "stream": "stdout",
       "text": [
        "3399   "
       ]
      },
      {
       "output_type": "stream",
       "stream": "stdout",
       "text": [
        "3427   "
       ]
      },
      {
       "output_type": "stream",
       "stream": "stdout",
       "text": [
        "3462   "
       ]
      },
      {
       "output_type": "stream",
       "stream": "stdout",
       "text": [
        "3498   "
       ]
      },
      {
       "output_type": "stream",
       "stream": "stdout",
       "text": [
        "3525   "
       ]
      },
      {
       "output_type": "stream",
       "stream": "stdout",
       "text": [
        "3567   "
       ]
      },
      {
       "output_type": "stream",
       "stream": "stdout",
       "text": [
        "3590   "
       ]
      },
      {
       "output_type": "stream",
       "stream": "stdout",
       "text": [
        "3611   "
       ]
      },
      {
       "output_type": "stream",
       "stream": "stdout",
       "text": [
        "3634   "
       ]
      },
      {
       "output_type": "stream",
       "stream": "stdout",
       "text": [
        "3660   "
       ]
      },
      {
       "output_type": "stream",
       "stream": "stdout",
       "text": [
        "3689   "
       ]
      },
      {
       "output_type": "stream",
       "stream": "stdout",
       "text": [
        "3725   "
       ]
      },
      {
       "output_type": "stream",
       "stream": "stdout",
       "text": [
        "3762   "
       ]
      },
      {
       "output_type": "stream",
       "stream": "stdout",
       "text": [
        "3796   "
       ]
      },
      {
       "output_type": "stream",
       "stream": "stdout",
       "text": [
        "3826   "
       ]
      },
      {
       "output_type": "stream",
       "stream": "stdout",
       "text": [
        "3845   "
       ]
      },
      {
       "output_type": "stream",
       "stream": "stdout",
       "text": [
        "3889   "
       ]
      },
      {
       "output_type": "stream",
       "stream": "stdout",
       "text": [
        "3935   "
       ]
      },
      {
       "output_type": "stream",
       "stream": "stdout",
       "text": [
        "3973   "
       ]
      },
      {
       "output_type": "stream",
       "stream": "stdout",
       "text": [
        "3995   "
       ]
      },
      {
       "output_type": "stream",
       "stream": "stdout",
       "text": [
        "4015   "
       ]
      },
      {
       "output_type": "stream",
       "stream": "stdout",
       "text": [
        "4048   "
       ]
      },
      {
       "output_type": "stream",
       "stream": "stdout",
       "text": [
        "4070   "
       ]
      },
      {
       "output_type": "stream",
       "stream": "stdout",
       "text": [
        "4100   "
       ]
      },
      {
       "output_type": "stream",
       "stream": "stdout",
       "text": [
        "4146   "
       ]
      },
      {
       "output_type": "stream",
       "stream": "stdout",
       "text": [
        "4184   "
       ]
      },
      {
       "output_type": "stream",
       "stream": "stdout",
       "text": [
        "4215   "
       ]
      },
      {
       "output_type": "stream",
       "stream": "stdout",
       "text": [
        "4252   "
       ]
      },
      {
       "output_type": "stream",
       "stream": "stdout",
       "text": [
        "4297   "
       ]
      },
      {
       "output_type": "stream",
       "stream": "stdout",
       "text": [
        "4325   "
       ]
      },
      {
       "output_type": "stream",
       "stream": "stdout",
       "text": [
        "4364   "
       ]
      },
      {
       "output_type": "stream",
       "stream": "stdout",
       "text": [
        "4390   "
       ]
      },
      {
       "output_type": "stream",
       "stream": "stdout",
       "text": [
        "4409   "
       ]
      },
      {
       "output_type": "stream",
       "stream": "stdout",
       "text": [
        "4446   "
       ]
      },
      {
       "output_type": "stream",
       "stream": "stdout",
       "text": [
        "4489   "
       ]
      },
      {
       "output_type": "stream",
       "stream": "stdout",
       "text": [
        "4519   "
       ]
      },
      {
       "output_type": "stream",
       "stream": "stdout",
       "text": [
        "4556   "
       ]
      },
      {
       "output_type": "stream",
       "stream": "stdout",
       "text": [
        "4597   "
       ]
      },
      {
       "output_type": "stream",
       "stream": "stdout",
       "text": [
        "4637   "
       ]
      },
      {
       "output_type": "stream",
       "stream": "stdout",
       "text": [
        "4686   "
       ]
      },
      {
       "output_type": "stream",
       "stream": "stdout",
       "text": [
        "4705   "
       ]
      },
      {
       "output_type": "stream",
       "stream": "stdout",
       "text": [
        "4741   "
       ]
      },
      {
       "output_type": "stream",
       "stream": "stdout",
       "text": [
        "4773   "
       ]
      },
      {
       "output_type": "stream",
       "stream": "stdout",
       "text": [
        "4790   "
       ]
      },
      {
       "output_type": "stream",
       "stream": "stdout",
       "text": [
        "4807   "
       ]
      },
      {
       "output_type": "stream",
       "stream": "stdout",
       "text": [
        "4850   "
       ]
      },
      {
       "output_type": "stream",
       "stream": "stdout",
       "text": [
        "4889   "
       ]
      },
      {
       "output_type": "stream",
       "stream": "stdout",
       "text": [
        "4922   "
       ]
      },
      {
       "output_type": "stream",
       "stream": "stdout",
       "text": [
        "4951   "
       ]
      },
      {
       "output_type": "stream",
       "stream": "stdout",
       "text": [
        "4988   "
       ]
      },
      {
       "output_type": "stream",
       "stream": "stdout",
       "text": [
        "5035   "
       ]
      },
      {
       "output_type": "stream",
       "stream": "stdout",
       "text": [
        "5069   "
       ]
      },
      {
       "output_type": "stream",
       "stream": "stdout",
       "text": [
        "5115   "
       ]
      },
      {
       "output_type": "stream",
       "stream": "stdout",
       "text": [
        "5152   "
       ]
      },
      {
       "output_type": "stream",
       "stream": "stdout",
       "text": [
        "5173   "
       ]
      },
      {
       "output_type": "stream",
       "stream": "stdout",
       "text": [
        "5197   "
       ]
      },
      {
       "output_type": "stream",
       "stream": "stdout",
       "text": [
        "5231   "
       ]
      },
      {
       "output_type": "stream",
       "stream": "stdout",
       "text": [
        "5270   "
       ]
      },
      {
       "output_type": "stream",
       "stream": "stdout",
       "text": [
        "5312   "
       ]
      },
      {
       "output_type": "stream",
       "stream": "stdout",
       "text": [
        "5360   "
       ]
      },
      {
       "output_type": "stream",
       "stream": "stdout",
       "text": [
        "5397   "
       ]
      },
      {
       "output_type": "stream",
       "stream": "stdout",
       "text": [
        "5428   "
       ]
      },
      {
       "output_type": "stream",
       "stream": "stdout",
       "text": [
        "5468   "
       ]
      },
      {
       "output_type": "stream",
       "stream": "stdout",
       "text": [
        "5499   "
       ]
      },
      {
       "output_type": "stream",
       "stream": "stdout",
       "text": [
        "5531   "
       ]
      },
      {
       "output_type": "stream",
       "stream": "stdout",
       "text": [
        "5572   "
       ]
      },
      {
       "output_type": "stream",
       "stream": "stdout",
       "text": [
        "5601   "
       ]
      },
      {
       "output_type": "stream",
       "stream": "stdout",
       "text": [
        "5628   "
       ]
      },
      {
       "output_type": "stream",
       "stream": "stdout",
       "text": [
        "5639   "
       ]
      },
      {
       "output_type": "stream",
       "stream": "stdout",
       "text": [
        "5678   "
       ]
      },
      {
       "output_type": "stream",
       "stream": "stdout",
       "text": [
        "5712   "
       ]
      },
      {
       "output_type": "stream",
       "stream": "stdout",
       "text": [
        "5757   "
       ]
      },
      {
       "output_type": "stream",
       "stream": "stdout",
       "text": [
        "5795   "
       ]
      },
      {
       "output_type": "stream",
       "stream": "stdout",
       "text": [
        "5825   "
       ]
      },
      {
       "output_type": "stream",
       "stream": "stdout",
       "text": [
        "5866   "
       ]
      },
      {
       "output_type": "stream",
       "stream": "stdout",
       "text": [
        "5890   "
       ]
      },
      {
       "output_type": "stream",
       "stream": "stdout",
       "text": [
        "5923   "
       ]
      },
      {
       "output_type": "stream",
       "stream": "stdout",
       "text": [
        "5965   "
       ]
      },
      {
       "output_type": "stream",
       "stream": "stdout",
       "text": [
        "5991   "
       ]
      },
      {
       "output_type": "stream",
       "stream": "stdout",
       "text": [
        "6014   "
       ]
      },
      {
       "output_type": "stream",
       "stream": "stdout",
       "text": [
        "6053   "
       ]
      },
      {
       "output_type": "stream",
       "stream": "stdout",
       "text": [
        "6096   "
       ]
      },
      {
       "output_type": "stream",
       "stream": "stdout",
       "text": [
        "6128   "
       ]
      },
      {
       "output_type": "stream",
       "stream": "stdout",
       "text": [
        "6152   "
       ]
      },
      {
       "output_type": "stream",
       "stream": "stdout",
       "text": [
        "6187   "
       ]
      },
      {
       "output_type": "stream",
       "stream": "stdout",
       "text": [
        "6218   "
       ]
      },
      {
       "output_type": "stream",
       "stream": "stdout",
       "text": [
        "6252   "
       ]
      },
      {
       "output_type": "stream",
       "stream": "stdout",
       "text": [
        "6294   "
       ]
      },
      {
       "output_type": "stream",
       "stream": "stdout",
       "text": [
        "6328   "
       ]
      },
      {
       "output_type": "stream",
       "stream": "stdout",
       "text": [
        "6363   "
       ]
      },
      {
       "output_type": "stream",
       "stream": "stdout",
       "text": [
        "6391   "
       ]
      },
      {
       "output_type": "stream",
       "stream": "stdout",
       "text": [
        "6411   "
       ]
      },
      {
       "output_type": "stream",
       "stream": "stdout",
       "text": [
        "6432   "
       ]
      },
      {
       "output_type": "stream",
       "stream": "stdout",
       "text": [
        "6473   "
       ]
      },
      {
       "output_type": "stream",
       "stream": "stdout",
       "text": [
        "6516   "
       ]
      },
      {
       "output_type": "stream",
       "stream": "stdout",
       "text": [
        "6533  \n"
       ]
      }
     ],
     "prompt_number": 7
    },
    {
     "cell_type": "code",
     "collapsed": false,
     "input": [
      "df = pandas.DataFrame.from_records(data)\n",
      "df.to_csv(FILENAME, encoding='utf-8')\n",
      "print len(df), 'items'\n",
      "print len(df.drop_duplicates(['Package'])), 'packages'\n",
      "print len(df.drop_duplicates(['Owner', 'Repository'])), 'repositories'\n",
      "print len(df.drop_duplicates(['Package', 'Version'])), 'pairs (package, version)'"
     ],
     "language": "python",
     "metadata": {},
     "outputs": [
      {
       "output_type": "stream",
       "stream": "stdout",
       "text": [
        "101208 items\n",
        "6293 packages\n",
        "6513"
       ]
      },
      {
       "output_type": "stream",
       "stream": "stdout",
       "text": [
        " repositories\n",
        "68833"
       ]
      },
      {
       "output_type": "stream",
       "stream": "stdout",
       "text": [
        " pairs (package, version)\n"
       ]
      }
     ],
     "prompt_number": 8
    },
    {
     "cell_type": "code",
     "collapsed": false,
     "input": [
      "df"
     ],
     "language": "python",
     "metadata": {},
     "outputs": [
      {
       "html": [
        "<div style=\"max-height:1000px;max-width:1500px;overflow:auto;\">\n",
        "<table border=\"1\" class=\"dataframe\">\n",
        "  <thead>\n",
        "    <tr style=\"text-align: right;\">\n",
        "      <th></th>\n",
        "      <th>CommitDate</th>\n",
        "      <th>Depends</th>\n",
        "      <th>Imports</th>\n",
        "      <th>License</th>\n",
        "      <th>Owner</th>\n",
        "      <th>Package</th>\n",
        "      <th>Repository</th>\n",
        "      <th>Suggests</th>\n",
        "      <th>Version</th>\n",
        "    </tr>\n",
        "  </thead>\n",
        "  <tbody>\n",
        "    <tr>\n",
        "      <th>0     </th>\n",
        "      <td> 2015-04-16 20:02:44 +0000</td>\n",
        "      <td>                                R (&gt;= 2.6.0),stats</td>\n",
        "      <td> Biobase, graphics, grDevices, methods, stats, ...</td>\n",
        "      <td>                  GPL (&gt;= 2)</td>\n",
        "      <td> Bioconductor-mirror</td>\n",
        "      <td> lapmix</td>\n",
        "      <td> lapmix</td>\n",
        "      <td>                                                  </td>\n",
        "      <td> 1.35.0</td>\n",
        "    </tr>\n",
        "    <tr>\n",
        "      <th>1     </th>\n",
        "      <td> 2015-04-16 19:42:01 +0000</td>\n",
        "      <td>                                R (&gt;= 2.6.0),stats</td>\n",
        "      <td> Biobase, graphics, grDevices, methods, stats, ...</td>\n",
        "      <td>                  GPL (&gt;= 2)</td>\n",
        "      <td> Bioconductor-mirror</td>\n",
        "      <td> lapmix</td>\n",
        "      <td> lapmix</td>\n",
        "      <td>                                                  </td>\n",
        "      <td> 1.34.0</td>\n",
        "    </tr>\n",
        "    <tr>\n",
        "      <th>2     </th>\n",
        "      <td> 2014-10-13 21:47:41 +0000</td>\n",
        "      <td>                                R (&gt;= 2.6.0),stats</td>\n",
        "      <td> Biobase, graphics, grDevices, methods, stats, ...</td>\n",
        "      <td>                  GPL (&gt;= 2)</td>\n",
        "      <td> Bioconductor-mirror</td>\n",
        "      <td> lapmix</td>\n",
        "      <td> lapmix</td>\n",
        "      <td>                                                  </td>\n",
        "      <td> 1.33.0</td>\n",
        "    </tr>\n",
        "    <tr>\n",
        "      <th>3     </th>\n",
        "      <td> 2014-10-13 21:38:33 +0000</td>\n",
        "      <td>                                R (&gt;= 2.6.0),stats</td>\n",
        "      <td> Biobase, graphics, grDevices, methods, stats, ...</td>\n",
        "      <td>                  GPL (&gt;= 2)</td>\n",
        "      <td> Bioconductor-mirror</td>\n",
        "      <td> lapmix</td>\n",
        "      <td> lapmix</td>\n",
        "      <td>                                                  </td>\n",
        "      <td> 1.32.0</td>\n",
        "    </tr>\n",
        "    <tr>\n",
        "      <th>4     </th>\n",
        "      <td> 2014-04-11 21:21:21 +0000</td>\n",
        "      <td>                                R (&gt;= 2.6.0),stats</td>\n",
        "      <td> Biobase, graphics, grDevices, methods, stats, ...</td>\n",
        "      <td>                  GPL (&gt;= 2)</td>\n",
        "      <td> Bioconductor-mirror</td>\n",
        "      <td> lapmix</td>\n",
        "      <td> lapmix</td>\n",
        "      <td>                                                  </td>\n",
        "      <td> 1.31.0</td>\n",
        "    </tr>\n",
        "    <tr>\n",
        "      <th>5     </th>\n",
        "      <td> 2014-04-11 21:07:21 +0000</td>\n",
        "      <td>                                R (&gt;= 2.6.0),stats</td>\n",
        "      <td> Biobase, graphics, grDevices, methods, stats, ...</td>\n",
        "      <td>                  GPL (&gt;= 2)</td>\n",
        "      <td> Bioconductor-mirror</td>\n",
        "      <td> lapmix</td>\n",
        "      <td> lapmix</td>\n",
        "      <td>                                                  </td>\n",
        "      <td> 1.30.0</td>\n",
        "    </tr>\n",
        "    <tr>\n",
        "      <th>6     </th>\n",
        "      <td> 2014-03-04 22:12:21 +0000</td>\n",
        "      <td>                                R (&gt;= 2.6.0),stats</td>\n",
        "      <td> Biobase, graphics, grDevices, methods, stats, ...</td>\n",
        "      <td>                  GPL (&gt;= 2)</td>\n",
        "      <td> Bioconductor-mirror</td>\n",
        "      <td> lapmix</td>\n",
        "      <td> lapmix</td>\n",
        "      <td>                                                  </td>\n",
        "      <td> 1.29.2</td>\n",
        "    </tr>\n",
        "    <tr>\n",
        "      <th>7     </th>\n",
        "      <td> 2013-10-18 19:59:46 +0000</td>\n",
        "      <td>                                R (&gt;= 2.6.0),stats</td>\n",
        "      <td> Biobase, graphics, grDevices, methods, stats, ...</td>\n",
        "      <td>                  GPL (&gt;= 2)</td>\n",
        "      <td> Bioconductor-mirror</td>\n",
        "      <td> lapmix</td>\n",
        "      <td> lapmix</td>\n",
        "      <td>                                                  </td>\n",
        "      <td> 1.29.1</td>\n",
        "    </tr>\n",
        "    <tr>\n",
        "      <th>8     </th>\n",
        "      <td> 2013-10-14 21:47:19 +0000</td>\n",
        "      <td>                                R (&gt;= 2.6.0),stats</td>\n",
        "      <td> Biobase, graphics, grDevices, methods, stats, ...</td>\n",
        "      <td>                  GPL (&gt;= 2)</td>\n",
        "      <td> Bioconductor-mirror</td>\n",
        "      <td> lapmix</td>\n",
        "      <td> lapmix</td>\n",
        "      <td>                                                  </td>\n",
        "      <td> 1.29.0</td>\n",
        "    </tr>\n",
        "    <tr>\n",
        "      <th>9     </th>\n",
        "      <td> 2013-10-14 21:29:21 +0000</td>\n",
        "      <td>                                R (&gt;= 2.6.0),stats</td>\n",
        "      <td> Biobase, graphics, grDevices, methods, stats, ...</td>\n",
        "      <td>                  GPL (&gt;= 2)</td>\n",
        "      <td> Bioconductor-mirror</td>\n",
        "      <td> lapmix</td>\n",
        "      <td> lapmix</td>\n",
        "      <td>                                                  </td>\n",
        "      <td> 1.28.0</td>\n",
        "    </tr>\n",
        "    <tr>\n",
        "      <th>10    </th>\n",
        "      <td> 2013-04-03 22:06:11 +0000</td>\n",
        "      <td>                                R (&gt;= 2.6.0),stats</td>\n",
        "      <td> Biobase, graphics, grDevices, methods, stats, ...</td>\n",
        "      <td>                  GPL (&gt;= 2)</td>\n",
        "      <td> Bioconductor-mirror</td>\n",
        "      <td> lapmix</td>\n",
        "      <td> lapmix</td>\n",
        "      <td>                                                  </td>\n",
        "      <td> 1.27.0</td>\n",
        "    </tr>\n",
        "    <tr>\n",
        "      <th>11    </th>\n",
        "      <td> 2013-04-03 21:32:27 +0000</td>\n",
        "      <td>                                R (&gt;= 2.6.0),stats</td>\n",
        "      <td> Biobase, graphics, grDevices, methods, stats, ...</td>\n",
        "      <td>                  GPL (&gt;= 2)</td>\n",
        "      <td> Bioconductor-mirror</td>\n",
        "      <td> lapmix</td>\n",
        "      <td> lapmix</td>\n",
        "      <td>                                                  </td>\n",
        "      <td> 1.26.0</td>\n",
        "    </tr>\n",
        "    <tr>\n",
        "      <th>12    </th>\n",
        "      <td> 2012-10-01 22:43:56 +0000</td>\n",
        "      <td>                                R (&gt;= 2.6.0),stats</td>\n",
        "      <td> Biobase, graphics, grDevices, methods, stats, ...</td>\n",
        "      <td>                  GPL (&gt;= 2)</td>\n",
        "      <td> Bioconductor-mirror</td>\n",
        "      <td> lapmix</td>\n",
        "      <td> lapmix</td>\n",
        "      <td>                                                  </td>\n",
        "      <td> 1.25.0</td>\n",
        "    </tr>\n",
        "    <tr>\n",
        "      <th>13    </th>\n",
        "      <td> 2012-10-01 22:16:24 +0000</td>\n",
        "      <td>                                R (&gt;= 2.6.0),stats</td>\n",
        "      <td> Biobase, graphics, grDevices, methods, stats, ...</td>\n",
        "      <td>                  GPL (&gt;= 2)</td>\n",
        "      <td> Bioconductor-mirror</td>\n",
        "      <td> lapmix</td>\n",
        "      <td> lapmix</td>\n",
        "      <td>                                                  </td>\n",
        "      <td> 1.24.0</td>\n",
        "    </tr>\n",
        "    <tr>\n",
        "      <th>14    </th>\n",
        "      <td> 2012-03-30 22:15:56 +0000</td>\n",
        "      <td>                                R (&gt;= 2.6.0),stats</td>\n",
        "      <td> Biobase, graphics, grDevices, methods, stats, ...</td>\n",
        "      <td>                  GPL (&gt;= 2)</td>\n",
        "      <td> Bioconductor-mirror</td>\n",
        "      <td> lapmix</td>\n",
        "      <td> lapmix</td>\n",
        "      <td>                                                  </td>\n",
        "      <td> 1.23.0</td>\n",
        "    </tr>\n",
        "    <tr>\n",
        "      <th>15    </th>\n",
        "      <td> 2012-03-30 22:05:02 +0000</td>\n",
        "      <td>                                R (&gt;= 2.6.0),stats</td>\n",
        "      <td> Biobase, graphics, grDevices, methods, stats, ...</td>\n",
        "      <td>                  GPL (&gt;= 2)</td>\n",
        "      <td> Bioconductor-mirror</td>\n",
        "      <td> lapmix</td>\n",
        "      <td> lapmix</td>\n",
        "      <td>                                                  </td>\n",
        "      <td> 1.22.0</td>\n",
        "    </tr>\n",
        "    <tr>\n",
        "      <th>16    </th>\n",
        "      <td> 2011-10-31 23:12:28 +0000</td>\n",
        "      <td>                                R (&gt;= 2.6.0),stats</td>\n",
        "      <td> Biobase, graphics, grDevices, methods, stats, ...</td>\n",
        "      <td>                  GPL (&gt;= 2)</td>\n",
        "      <td> Bioconductor-mirror</td>\n",
        "      <td> lapmix</td>\n",
        "      <td> lapmix</td>\n",
        "      <td>                                                  </td>\n",
        "      <td> 1.21.0</td>\n",
        "    </tr>\n",
        "    <tr>\n",
        "      <th>17    </th>\n",
        "      <td> 2011-10-31 22:59:03 +0000</td>\n",
        "      <td>                                R (&gt;= 2.6.0),stats</td>\n",
        "      <td> Biobase, graphics, grDevices, methods, stats, ...</td>\n",
        "      <td>                  GPL (&gt;= 2)</td>\n",
        "      <td> Bioconductor-mirror</td>\n",
        "      <td> lapmix</td>\n",
        "      <td> lapmix</td>\n",
        "      <td>                                                  </td>\n",
        "      <td> 1.20.0</td>\n",
        "    </tr>\n",
        "    <tr>\n",
        "      <th>18    </th>\n",
        "      <td> 2011-04-13 22:36:43 +0000</td>\n",
        "      <td>                                R (&gt;= 2.6.0),stats</td>\n",
        "      <td> Biobase, graphics, grDevices, methods, stats, ...</td>\n",
        "      <td>                  GPL (&gt;= 2)</td>\n",
        "      <td> Bioconductor-mirror</td>\n",
        "      <td> lapmix</td>\n",
        "      <td> lapmix</td>\n",
        "      <td>                                                  </td>\n",
        "      <td> 1.19.0</td>\n",
        "    </tr>\n",
        "    <tr>\n",
        "      <th>19    </th>\n",
        "      <td> 2011-04-13 22:27:35 +0000</td>\n",
        "      <td>                                R (&gt;= 2.6.0),stats</td>\n",
        "      <td> Biobase, graphics, grDevices, methods, stats, ...</td>\n",
        "      <td>                  GPL (&gt;= 2)</td>\n",
        "      <td> Bioconductor-mirror</td>\n",
        "      <td> lapmix</td>\n",
        "      <td> lapmix</td>\n",
        "      <td>                                                  </td>\n",
        "      <td> 1.18.0</td>\n",
        "    </tr>\n",
        "    <tr>\n",
        "      <th>20    </th>\n",
        "      <td> 2010-10-18 05:57:44 +0000</td>\n",
        "      <td>                                R (&gt;= 2.6.0),stats</td>\n",
        "      <td> Biobase, graphics, grDevices, methods, stats, ...</td>\n",
        "      <td>                  GPL (&gt;= 2)</td>\n",
        "      <td> Bioconductor-mirror</td>\n",
        "      <td> lapmix</td>\n",
        "      <td> lapmix</td>\n",
        "      <td>                                                  </td>\n",
        "      <td> 1.17.0</td>\n",
        "    </tr>\n",
        "    <tr>\n",
        "      <th>21    </th>\n",
        "      <td> 2010-10-18 05:34:23 +0000</td>\n",
        "      <td>                                R (&gt;= 2.6.0),stats</td>\n",
        "      <td> Biobase, graphics, grDevices, methods, stats, ...</td>\n",
        "      <td>                  GPL (&gt;= 2)</td>\n",
        "      <td> Bioconductor-mirror</td>\n",
        "      <td> lapmix</td>\n",
        "      <td> lapmix</td>\n",
        "      <td>                                                  </td>\n",
        "      <td> 1.16.0</td>\n",
        "    </tr>\n",
        "    <tr>\n",
        "      <th>22    </th>\n",
        "      <td> 2010-04-22 18:45:15 +0000</td>\n",
        "      <td>                                R (&gt;= 2.6.0),stats</td>\n",
        "      <td> Biobase, graphics, grDevices, methods, stats, ...</td>\n",
        "      <td>                  GPL (&gt;= 2)</td>\n",
        "      <td> Bioconductor-mirror</td>\n",
        "      <td> lapmix</td>\n",
        "      <td> lapmix</td>\n",
        "      <td>                                                  </td>\n",
        "      <td> 1.15.0</td>\n",
        "    </tr>\n",
        "    <tr>\n",
        "      <th>23    </th>\n",
        "      <td> 2010-04-22 18:21:23 +0000</td>\n",
        "      <td>                                R (&gt;= 2.6.0),stats</td>\n",
        "      <td> Biobase, graphics, grDevices, methods, stats, ...</td>\n",
        "      <td>                  GPL (&gt;= 2)</td>\n",
        "      <td> Bioconductor-mirror</td>\n",
        "      <td> lapmix</td>\n",
        "      <td> lapmix</td>\n",
        "      <td>                                                  </td>\n",
        "      <td> 1.14.0</td>\n",
        "    </tr>\n",
        "    <tr>\n",
        "      <th>24    </th>\n",
        "      <td> 2009-10-27 23:45:24 +0000</td>\n",
        "      <td>                                R (&gt;= 2.6.0),stats</td>\n",
        "      <td> Biobase, graphics, grDevices, methods, stats, ...</td>\n",
        "      <td>                  GPL (&gt;= 2)</td>\n",
        "      <td> Bioconductor-mirror</td>\n",
        "      <td> lapmix</td>\n",
        "      <td> lapmix</td>\n",
        "      <td>                                                  </td>\n",
        "      <td> 1.13.0</td>\n",
        "    </tr>\n",
        "    <tr>\n",
        "      <th>25    </th>\n",
        "      <td> 2009-10-27 23:33:29 +0000</td>\n",
        "      <td>                                R (&gt;= 2.6.0),stats</td>\n",
        "      <td> Biobase, graphics, grDevices, methods, stats, ...</td>\n",
        "      <td>                  GPL (&gt;= 2)</td>\n",
        "      <td> Bioconductor-mirror</td>\n",
        "      <td> lapmix</td>\n",
        "      <td> lapmix</td>\n",
        "      <td>                                                  </td>\n",
        "      <td> 1.12.0</td>\n",
        "    </tr>\n",
        "    <tr>\n",
        "      <th>26    </th>\n",
        "      <td> 2009-09-06 03:06:55 +0000</td>\n",
        "      <td>                                R (&gt;= 2.6.0),stats</td>\n",
        "      <td> Biobase, graphics, grDevices, methods, stats, ...</td>\n",
        "      <td>                  GPL (&gt;= 2)</td>\n",
        "      <td> Bioconductor-mirror</td>\n",
        "      <td> lapmix</td>\n",
        "      <td> lapmix</td>\n",
        "      <td>                                                  </td>\n",
        "      <td> 1.11.1</td>\n",
        "    </tr>\n",
        "    <tr>\n",
        "      <th>27    </th>\n",
        "      <td> 2009-04-20 23:44:07 +0000</td>\n",
        "      <td>                                R (&gt;= 2.6.0),stats</td>\n",
        "      <td> Biobase, graphics, grDevices, methods, stats, ...</td>\n",
        "      <td>      GPL version 2 or newer</td>\n",
        "      <td> Bioconductor-mirror</td>\n",
        "      <td> lapmix</td>\n",
        "      <td> lapmix</td>\n",
        "      <td>                                                  </td>\n",
        "      <td> 1.11.0</td>\n",
        "    </tr>\n",
        "    <tr>\n",
        "      <th>28    </th>\n",
        "      <td> 2009-04-20 23:24:12 +0000</td>\n",
        "      <td>                                R (&gt;= 2.6.0),stats</td>\n",
        "      <td> Biobase, graphics, grDevices, methods, stats, ...</td>\n",
        "      <td>      GPL version 2 or newer</td>\n",
        "      <td> Bioconductor-mirror</td>\n",
        "      <td> lapmix</td>\n",
        "      <td> lapmix</td>\n",
        "      <td>                                                  </td>\n",
        "      <td> 1.10.0</td>\n",
        "    </tr>\n",
        "    <tr>\n",
        "      <th>29    </th>\n",
        "      <td> 2009-03-24 23:31:29 +0000</td>\n",
        "      <td>                                R (&gt;= 2.6.0),stats</td>\n",
        "      <td> Biobase, graphics, grDevices, methods, stats, ...</td>\n",
        "      <td>      GPL version 2 or newer</td>\n",
        "      <td> Bioconductor-mirror</td>\n",
        "      <td> lapmix</td>\n",
        "      <td> lapmix</td>\n",
        "      <td>                                                  </td>\n",
        "      <td>  1.9.2</td>\n",
        "    </tr>\n",
        "    <tr>\n",
        "      <th>...</th>\n",
        "      <td>...</td>\n",
        "      <td>...</td>\n",
        "      <td>...</td>\n",
        "      <td>...</td>\n",
        "      <td>...</td>\n",
        "      <td>...</td>\n",
        "      <td>...</td>\n",
        "      <td>...</td>\n",
        "      <td>...</td>\n",
        "    </tr>\n",
        "    <tr>\n",
        "      <th>101178</th>\n",
        "      <td> 2012-10-01 09:56:56 -0500</td>\n",
        "      <td> \\n    R (&gt;= 2.10),\\n    nlme,\\n    lattice,\\n ...</td>\n",
        "      <td>                                                  </td>\n",
        "      <td>                       GPL-2</td>\n",
        "      <td>          kmiddleton</td>\n",
        "      <td>    abd</td>\n",
        "      <td>    abd</td>\n",
        "      <td> \\n    boot,\\n    car,\\n    ggplot2,\\n    plyr,...</td>\n",
        "      <td>  0.2-5</td>\n",
        "    </tr>\n",
        "    <tr>\n",
        "      <th>101179</th>\n",
        "      <td> 2012-07-29 09:10:20 -0500</td>\n",
        "      <td> \\n    R (&gt;= 2.10),\\n    nlme,\\n    lattice,\\n ...</td>\n",
        "      <td>                                                  </td>\n",
        "      <td>                       GPL-2</td>\n",
        "      <td>          kmiddleton</td>\n",
        "      <td>    abd</td>\n",
        "      <td>    abd</td>\n",
        "      <td> \\n    boot,\\n    car,\\n    ggplot2,\\n    plyr,...</td>\n",
        "      <td>  0.2-4</td>\n",
        "    </tr>\n",
        "    <tr>\n",
        "      <th>101180</th>\n",
        "      <td> 2012-07-28 16:41:35 -0500</td>\n",
        "      <td> \\n    R (&gt;= 2.10),\\n    nlme,\\n    lattice,\\n ...</td>\n",
        "      <td>                                                  </td>\n",
        "      <td>                       GPL-2</td>\n",
        "      <td>          kmiddleton</td>\n",
        "      <td>    abd</td>\n",
        "      <td>    abd</td>\n",
        "      <td> \\n    boot,\\n    car,\\n    ggplot2,\\n    plyr,...</td>\n",
        "      <td>  0.2-3</td>\n",
        "    </tr>\n",
        "    <tr>\n",
        "      <th>101181</th>\n",
        "      <td> 2012-07-28 16:35:37 -0500</td>\n",
        "      <td> \\n    R (&gt;= 2.10),\\n    nlme,\\n    lattice,\\n ...</td>\n",
        "      <td>                                                  </td>\n",
        "      <td>                       GPL-2</td>\n",
        "      <td>          kmiddleton</td>\n",
        "      <td>    abd</td>\n",
        "      <td>    abd</td>\n",
        "      <td> \\n    boot,\\n    car,\\n    ggplot2,\\n    plyr,...</td>\n",
        "      <td>  0.2-3</td>\n",
        "    </tr>\n",
        "    <tr>\n",
        "      <th>101182</th>\n",
        "      <td> 2012-04-03 22:50:37 -0700</td>\n",
        "      <td> \\n    R (&gt;= 2.10),\\n    nlme,\\n    lattice,\\n ...</td>\n",
        "      <td>                                                  </td>\n",
        "      <td>                       GPL-2</td>\n",
        "      <td>          kmiddleton</td>\n",
        "      <td>    abd</td>\n",
        "      <td>    abd</td>\n",
        "      <td> \\n    boot,\\n    car,\\n    ggplot2,\\n    plyr,...</td>\n",
        "      <td>  0.2-2</td>\n",
        "    </tr>\n",
        "    <tr>\n",
        "      <th>101183</th>\n",
        "      <td> 2012-03-29 17:03:25 -0400</td>\n",
        "      <td> \\n    R (&gt;= 2.10),\\n    nlme,\\n    lattice,\\n ...</td>\n",
        "      <td>                                                  </td>\n",
        "      <td>                       GPL-2</td>\n",
        "      <td>          kmiddleton</td>\n",
        "      <td>    abd</td>\n",
        "      <td>    abd</td>\n",
        "      <td> \\n    boot,\\n    car,\\n    ggplot2,\\n    plyr,...</td>\n",
        "      <td>  0.2-1</td>\n",
        "    </tr>\n",
        "    <tr>\n",
        "      <th>101184</th>\n",
        "      <td> 2012-03-29 16:57:22 -0400</td>\n",
        "      <td> \\n    R (&gt;= 2.10),\\n    nlme,\\n    lattice,\\n ...</td>\n",
        "      <td>                                                  </td>\n",
        "      <td>                       GPL-2</td>\n",
        "      <td>          kmiddleton</td>\n",
        "      <td>    abd</td>\n",
        "      <td>    abd</td>\n",
        "      <td> \\n    boot,\\n    car,\\n    ggplot2,\\n    plyr,...</td>\n",
        "      <td>  0.2-1</td>\n",
        "    </tr>\n",
        "    <tr>\n",
        "      <th>101185</th>\n",
        "      <td> 2012-03-09 12:58:13 -0800</td>\n",
        "      <td> \\n    R (&gt;= 2.10),\\n    nlme,\\n    lattice,\\n ...</td>\n",
        "      <td>                                                  </td>\n",
        "      <td>                       GPL-2</td>\n",
        "      <td>          kmiddleton</td>\n",
        "      <td>    abd</td>\n",
        "      <td>    abd</td>\n",
        "      <td> \\n    boot,\\n    car,\\n    ggplot2,\\n    plyr,...</td>\n",
        "      <td> 0.1-24</td>\n",
        "    </tr>\n",
        "    <tr>\n",
        "      <th>101186</th>\n",
        "      <td> 2012-02-16 11:13:37 -0500</td>\n",
        "      <td> \\n    R (&gt;= 2.10),\\n    nlme,\\n    lattice,\\n ...</td>\n",
        "      <td>                                                  </td>\n",
        "      <td>                       GPL-2</td>\n",
        "      <td>          kmiddleton</td>\n",
        "      <td>    abd</td>\n",
        "      <td>    abd</td>\n",
        "      <td> \\n    boot,\\n    car,\\n    ggplot2,\\n    plyr,...</td>\n",
        "      <td> 0.1-24</td>\n",
        "    </tr>\n",
        "    <tr>\n",
        "      <th>101187</th>\n",
        "      <td> 2012-02-16 11:08:29 -0500</td>\n",
        "      <td> \\n    R (&gt;= 2.10),\\n    nlme,\\n    lattice,\\n ...</td>\n",
        "      <td>                                                  </td>\n",
        "      <td>                       GPL-2</td>\n",
        "      <td>          kmiddleton</td>\n",
        "      <td>    abd</td>\n",
        "      <td>    abd</td>\n",
        "      <td> \\n    boot,\\n    car,\\n    ggplot2,\\n    plyr,...</td>\n",
        "      <td> 0.1-24</td>\n",
        "    </tr>\n",
        "    <tr>\n",
        "      <th>101188</th>\n",
        "      <td> 2012-02-16 00:22:31 -0800</td>\n",
        "      <td> \\n    R (&gt;= 2.10),\\n    nlme,\\n    lattice,\\n ...</td>\n",
        "      <td>                                                  </td>\n",
        "      <td>                       GPL-2</td>\n",
        "      <td>          kmiddleton</td>\n",
        "      <td>    abd</td>\n",
        "      <td>    abd</td>\n",
        "      <td> \\n    boot,\\n    car,\\n    ggplot2,\\n    plyr,...</td>\n",
        "      <td> 0.1-24</td>\n",
        "    </tr>\n",
        "    <tr>\n",
        "      <th>101189</th>\n",
        "      <td> 2012-02-16 02:11:10 -0500</td>\n",
        "      <td> \\n    R (&gt;= 2.10),\\n    nlme,\\n    lattice,\\n ...</td>\n",
        "      <td>                                                  </td>\n",
        "      <td>                       GPL-2</td>\n",
        "      <td>          kmiddleton</td>\n",
        "      <td>    abd</td>\n",
        "      <td>    abd</td>\n",
        "      <td> \\n    boot,\\n    car,\\n    ggplot2,\\n    plyr,...</td>\n",
        "      <td> 0.1-24</td>\n",
        "    </tr>\n",
        "    <tr>\n",
        "      <th>101190</th>\n",
        "      <td> 2012-02-16 01:07:42 -0500</td>\n",
        "      <td> \\n    R (&gt;= 2.10),\\n    nlme,\\n    lattice,\\n ...</td>\n",
        "      <td>                                                  </td>\n",
        "      <td>                       GPL-2</td>\n",
        "      <td>          kmiddleton</td>\n",
        "      <td>    abd</td>\n",
        "      <td>    abd</td>\n",
        "      <td> \\n    boot,\\n    car,\\n    ggplot2,\\n    plyr,...</td>\n",
        "      <td> 0.1-24</td>\n",
        "    </tr>\n",
        "    <tr>\n",
        "      <th>101191</th>\n",
        "      <td> 2012-02-16 00:28:23 -0500</td>\n",
        "      <td>          R (&gt;= 2.10), nlme, lattice, grid, mosaic</td>\n",
        "      <td>                                                  </td>\n",
        "      <td>                       GPL-2</td>\n",
        "      <td>          kmiddleton</td>\n",
        "      <td>    abd</td>\n",
        "      <td>    abd</td>\n",
        "      <td>          boot, car, ggplot2, plyr, HH, vcd, Hmisc</td>\n",
        "      <td> 0.1-24</td>\n",
        "    </tr>\n",
        "    <tr>\n",
        "      <th>101192</th>\n",
        "      <td> 2012-02-16 00:10:41 -0500</td>\n",
        "      <td>          R (&gt;= 2.10), nlme, lattice, grid, mosaic</td>\n",
        "      <td>                                                  </td>\n",
        "      <td>                       GPL-2</td>\n",
        "      <td>          kmiddleton</td>\n",
        "      <td>    abd</td>\n",
        "      <td>    abd</td>\n",
        "      <td>          boot, car, ggplot2, plyr, HH, vcd, Hmisc</td>\n",
        "      <td> 0.1-24</td>\n",
        "    </tr>\n",
        "    <tr>\n",
        "      <th>101193</th>\n",
        "      <td> 2012-02-15 20:51:05 -0800</td>\n",
        "      <td>                  R (&gt;= 2.10), nlme, lattice, grid</td>\n",
        "      <td>                                                  </td>\n",
        "      <td>                       GPL-2</td>\n",
        "      <td>          kmiddleton</td>\n",
        "      <td>    abd</td>\n",
        "      <td>    abd</td>\n",
        "      <td>          boot, car, ggplot2, plyr, HH, vcd, Hmisc</td>\n",
        "      <td> 0.1-24</td>\n",
        "    </tr>\n",
        "    <tr>\n",
        "      <th>101194</th>\n",
        "      <td> 2011-10-21 11:33:38 -0700</td>\n",
        "      <td>                  R (&gt;= 2.10), nlme, lattice, grid</td>\n",
        "      <td>                                                  </td>\n",
        "      <td>                       GPL-2</td>\n",
        "      <td>          kmiddleton</td>\n",
        "      <td>    abd</td>\n",
        "      <td>    abd</td>\n",
        "      <td>          boot, car, ggplot2, plyr, HH, vcd, Hmisc</td>\n",
        "      <td> 0.1-23</td>\n",
        "    </tr>\n",
        "    <tr>\n",
        "      <th>101195</th>\n",
        "      <td> 2011-09-12 17:28:25 -0700</td>\n",
        "      <td>                  R (&gt;= 2.10), nlme, lattice, grid</td>\n",
        "      <td>                                                  </td>\n",
        "      <td>                       GPL-2</td>\n",
        "      <td>          kmiddleton</td>\n",
        "      <td>    abd</td>\n",
        "      <td>    abd</td>\n",
        "      <td>          boot, car, ggplot2, plyr, HH, vcd, Hmisc</td>\n",
        "      <td> 0.1-22</td>\n",
        "    </tr>\n",
        "    <tr>\n",
        "      <th>101196</th>\n",
        "      <td> 2011-08-07 17:52:52 -0700</td>\n",
        "      <td>                  R (&gt;= 2.10), nlme, lattice, grid</td>\n",
        "      <td>                                                  </td>\n",
        "      <td>                       GPL-2</td>\n",
        "      <td>          kmiddleton</td>\n",
        "      <td>    abd</td>\n",
        "      <td>    abd</td>\n",
        "      <td>          boot, car, ggplot2, HH, plyr, vcd, Hmisc</td>\n",
        "      <td> 0.1-18</td>\n",
        "    </tr>\n",
        "    <tr>\n",
        "      <th>101197</th>\n",
        "      <td> 2009-12-07 01:26:16 +0000</td>\n",
        "      <td>                                                  </td>\n",
        "      <td>                                                  </td>\n",
        "      <td>                         GPL</td>\n",
        "      <td>          kmiddleton</td>\n",
        "      <td>    abd</td>\n",
        "      <td>    abd</td>\n",
        "      <td>                                                  </td>\n",
        "      <td>    0.1</td>\n",
        "    </tr>\n",
        "    <tr>\n",
        "      <th>101198</th>\n",
        "      <td> 2015-02-03 00:00:00 +0000</td>\n",
        "      <td>                         R (&gt;= 2.10), mlr (&gt;= 2.1)</td>\n",
        "      <td>            rJava, parallelMap, ggplot2, checkmate</td>\n",
        "      <td> BSD_3_clause + file LICENSE</td>\n",
        "      <td>                cran</td>\n",
        "      <td>  llama</td>\n",
        "      <td>  llama</td>\n",
        "      <td>                            testthat, ParamHelpers</td>\n",
        "      <td>  0.8.1</td>\n",
        "    </tr>\n",
        "    <tr>\n",
        "      <th>101199</th>\n",
        "      <td> 2015-01-31 00:00:00 +0000</td>\n",
        "      <td>                         R (&gt;= 2.10), mlr (&gt;= 2.1)</td>\n",
        "      <td>            rJava, parallelMap, ggplot2, checkmate</td>\n",
        "      <td> BSD_3_clause + file LICENSE</td>\n",
        "      <td>                cran</td>\n",
        "      <td>  llama</td>\n",
        "      <td>  llama</td>\n",
        "      <td>                            testthat, ParamHelpers</td>\n",
        "      <td>    0.8</td>\n",
        "    </tr>\n",
        "    <tr>\n",
        "      <th>101200</th>\n",
        "      <td> 2014-09-20 00:00:00 +0000</td>\n",
        "      <td>                         R (&gt;= 2.10), mlr (&gt;= 2.1)</td>\n",
        "      <td>                          plyr, rJava, parallelMap</td>\n",
        "      <td> BSD_3_clause + file LICENSE</td>\n",
        "      <td>                cran</td>\n",
        "      <td>  llama</td>\n",
        "      <td>  llama</td>\n",
        "      <td>                 FSelector, testthat, ParamHelpers</td>\n",
        "      <td>  0.7.2</td>\n",
        "    </tr>\n",
        "    <tr>\n",
        "      <th>101201</th>\n",
        "      <td> 2014-08-13 00:00:00 +0000</td>\n",
        "      <td>                         R (&gt;= 2.10), mlr (&gt;= 2.1)</td>\n",
        "      <td>                          plyr, rJava, parallelMap</td>\n",
        "      <td> BSD_3_clause + file LICENSE</td>\n",
        "      <td>                cran</td>\n",
        "      <td>  llama</td>\n",
        "      <td>  llama</td>\n",
        "      <td>                 FSelector, testthat, ParamHelpers</td>\n",
        "      <td>  0.7.1</td>\n",
        "    </tr>\n",
        "    <tr>\n",
        "      <th>101202</th>\n",
        "      <td> 2014-07-22 00:00:00 +0000</td>\n",
        "      <td>                         R (&gt;= 2.10), mlr (&gt;= 2.1)</td>\n",
        "      <td>                          plyr, rJava, parallelMap</td>\n",
        "      <td> BSD_3_clause + file LICENSE</td>\n",
        "      <td>                cran</td>\n",
        "      <td>  llama</td>\n",
        "      <td>  llama</td>\n",
        "      <td>                 FSelector, testthat, ParamHelpers</td>\n",
        "      <td>    0.7</td>\n",
        "    </tr>\n",
        "    <tr>\n",
        "      <th>101203</th>\n",
        "      <td> 2014-04-29 00:00:00 +0000</td>\n",
        "      <td>                                       R (&gt;= 2.10)</td>\n",
        "      <td>                          plyr, rJava, parallelMap</td>\n",
        "      <td> BSD_3_clause + file LICENSE</td>\n",
        "      <td>                cran</td>\n",
        "      <td>  llama</td>\n",
        "      <td>  llama</td>\n",
        "      <td>      RWeka, FSelector, e1071, flexclust, testthat</td>\n",
        "      <td>    0.6</td>\n",
        "    </tr>\n",
        "    <tr>\n",
        "      <th>101204</th>\n",
        "      <td> 2014-01-15 00:00:00 +0000</td>\n",
        "      <td>                                                  </td>\n",
        "      <td>                          plyr, rJava, parallelMap</td>\n",
        "      <td> BSD_3_clause + file LICENSE</td>\n",
        "      <td>                cran</td>\n",
        "      <td>  llama</td>\n",
        "      <td>  llama</td>\n",
        "      <td>      RWeka, FSelector, e1071, flexclust, testthat</td>\n",
        "      <td>  0.5.1</td>\n",
        "    </tr>\n",
        "    <tr>\n",
        "      <th>101205</th>\n",
        "      <td> 2013-07-05 00:00:00 +0000</td>\n",
        "      <td>                                                  </td>\n",
        "      <td>                                     plyr, foreach</td>\n",
        "      <td>                         BSD</td>\n",
        "      <td>                cran</td>\n",
        "      <td>  llama</td>\n",
        "      <td>  llama</td>\n",
        "      <td>      RWeka, FSelector, e1071, flexclust, testthat</td>\n",
        "      <td>    0.4</td>\n",
        "    </tr>\n",
        "    <tr>\n",
        "      <th>101206</th>\n",
        "      <td> 2013-05-14 00:00:00 +0000</td>\n",
        "      <td>                                                  </td>\n",
        "      <td>                                     plyr, foreach</td>\n",
        "      <td>                         BSD</td>\n",
        "      <td>                cran</td>\n",
        "      <td>  llama</td>\n",
        "      <td>  llama</td>\n",
        "      <td>      RWeka, FSelector, e1071, flexclust, testthat</td>\n",
        "      <td>    0.2</td>\n",
        "    </tr>\n",
        "    <tr>\n",
        "      <th>101207</th>\n",
        "      <td> 2013-04-02 00:00:00 +0000</td>\n",
        "      <td>                                                  </td>\n",
        "      <td>                                     plyr, foreach</td>\n",
        "      <td>                         BSD</td>\n",
        "      <td>                cran</td>\n",
        "      <td>  llama</td>\n",
        "      <td>  llama</td>\n",
        "      <td>      RWeka, FSelector, e1071, flexclust, testthat</td>\n",
        "      <td>    0.1</td>\n",
        "    </tr>\n",
        "  </tbody>\n",
        "</table>\n",
        "<p>101208 rows \u00d7 9 columns</p>\n",
        "</div>"
       ],
       "metadata": {},
       "output_type": "pyout",
       "prompt_number": 9,
       "text": [
        "                       CommitDate  \\\n",
        "0       2015-04-16 20:02:44 +0000   \n",
        "1       2015-04-16 19:42:01 +0000   \n",
        "2       2014-10-13 21:47:41 +0000   \n",
        "3       2014-10-13 21:38:33 +0000   \n",
        "4       2014-04-11 21:21:21 +0000   \n",
        "5       2014-04-11 21:07:21 +0000   \n",
        "6       2014-03-04 22:12:21 +0000   \n",
        "7       2013-10-18 19:59:46 +0000   \n",
        "8       2013-10-14 21:47:19 +0000   \n",
        "9       2013-10-14 21:29:21 +0000   \n",
        "10      2013-04-03 22:06:11 +0000   \n",
        "11      2013-04-03 21:32:27 +0000   \n",
        "12      2012-10-01 22:43:56 +0000   \n",
        "13      2012-10-01 22:16:24 +0000   \n",
        "14      2012-03-30 22:15:56 +0000   \n",
        "15      2012-03-30 22:05:02 +0000   \n",
        "16      2011-10-31 23:12:28 +0000   \n",
        "17      2011-10-31 22:59:03 +0000   \n",
        "18      2011-04-13 22:36:43 +0000   \n",
        "19      2011-04-13 22:27:35 +0000   \n",
        "20      2010-10-18 05:57:44 +0000   \n",
        "21      2010-10-18 05:34:23 +0000   \n",
        "22      2010-04-22 18:45:15 +0000   \n",
        "23      2010-04-22 18:21:23 +0000   \n",
        "24      2009-10-27 23:45:24 +0000   \n",
        "25      2009-10-27 23:33:29 +0000   \n",
        "26      2009-09-06 03:06:55 +0000   \n",
        "27      2009-04-20 23:44:07 +0000   \n",
        "28      2009-04-20 23:24:12 +0000   \n",
        "29      2009-03-24 23:31:29 +0000   \n",
        "...                           ...   \n",
        "101178  2012-10-01 09:56:56 -0500   \n",
        "101179  2012-07-29 09:10:20 -0500   \n",
        "101180  2012-07-28 16:41:35 -0500   \n",
        "101181  2012-07-28 16:35:37 -0500   \n",
        "101182  2012-04-03 22:50:37 -0700   \n",
        "101183  2012-03-29 17:03:25 -0400   \n",
        "101184  2012-03-29 16:57:22 -0400   \n",
        "101185  2012-03-09 12:58:13 -0800   \n",
        "101186  2012-02-16 11:13:37 -0500   \n",
        "101187  2012-02-16 11:08:29 -0500   \n",
        "101188  2012-02-16 00:22:31 -0800   \n",
        "101189  2012-02-16 02:11:10 -0500   \n",
        "101190  2012-02-16 01:07:42 -0500   \n",
        "101191  2012-02-16 00:28:23 -0500   \n",
        "101192  2012-02-16 00:10:41 -0500   \n",
        "101193  2012-02-15 20:51:05 -0800   \n",
        "101194  2011-10-21 11:33:38 -0700   \n",
        "101195  2011-09-12 17:28:25 -0700   \n",
        "101196  2011-08-07 17:52:52 -0700   \n",
        "101197  2009-12-07 01:26:16 +0000   \n",
        "101198  2015-02-03 00:00:00 +0000   \n",
        "101199  2015-01-31 00:00:00 +0000   \n",
        "101200  2014-09-20 00:00:00 +0000   \n",
        "101201  2014-08-13 00:00:00 +0000   \n",
        "101202  2014-07-22 00:00:00 +0000   \n",
        "101203  2014-04-29 00:00:00 +0000   \n",
        "101204  2014-01-15 00:00:00 +0000   \n",
        "101205  2013-07-05 00:00:00 +0000   \n",
        "101206  2013-05-14 00:00:00 +0000   \n",
        "101207  2013-04-02 00:00:00 +0000   \n",
        "\n",
        "                                                  Depends  \\\n",
        "0                                      R (>= 2.6.0),stats   \n",
        "1                                      R (>= 2.6.0),stats   \n",
        "2                                      R (>= 2.6.0),stats   \n",
        "3                                      R (>= 2.6.0),stats   \n",
        "4                                      R (>= 2.6.0),stats   \n",
        "5                                      R (>= 2.6.0),stats   \n",
        "6                                      R (>= 2.6.0),stats   \n",
        "7                                      R (>= 2.6.0),stats   \n",
        "8                                      R (>= 2.6.0),stats   \n",
        "9                                      R (>= 2.6.0),stats   \n",
        "10                                     R (>= 2.6.0),stats   \n",
        "11                                     R (>= 2.6.0),stats   \n",
        "12                                     R (>= 2.6.0),stats   \n",
        "13                                     R (>= 2.6.0),stats   \n",
        "14                                     R (>= 2.6.0),stats   \n",
        "15                                     R (>= 2.6.0),stats   \n",
        "16                                     R (>= 2.6.0),stats   \n",
        "17                                     R (>= 2.6.0),stats   \n",
        "18                                     R (>= 2.6.0),stats   \n",
        "19                                     R (>= 2.6.0),stats   \n",
        "20                                     R (>= 2.6.0),stats   \n",
        "21                                     R (>= 2.6.0),stats   \n",
        "22                                     R (>= 2.6.0),stats   \n",
        "23                                     R (>= 2.6.0),stats   \n",
        "24                                     R (>= 2.6.0),stats   \n",
        "25                                     R (>= 2.6.0),stats   \n",
        "26                                     R (>= 2.6.0),stats   \n",
        "27                                     R (>= 2.6.0),stats   \n",
        "28                                     R (>= 2.6.0),stats   \n",
        "29                                     R (>= 2.6.0),stats   \n",
        "...                                                   ...   \n",
        "101178  \\n    R (>= 2.10),\\n    nlme,\\n    lattice,\\n ...   \n",
        "101179  \\n    R (>= 2.10),\\n    nlme,\\n    lattice,\\n ...   \n",
        "101180  \\n    R (>= 2.10),\\n    nlme,\\n    lattice,\\n ...   \n",
        "101181  \\n    R (>= 2.10),\\n    nlme,\\n    lattice,\\n ...   \n",
        "101182  \\n    R (>= 2.10),\\n    nlme,\\n    lattice,\\n ...   \n",
        "101183  \\n    R (>= 2.10),\\n    nlme,\\n    lattice,\\n ...   \n",
        "101184  \\n    R (>= 2.10),\\n    nlme,\\n    lattice,\\n ...   \n",
        "101185  \\n    R (>= 2.10),\\n    nlme,\\n    lattice,\\n ...   \n",
        "101186  \\n    R (>= 2.10),\\n    nlme,\\n    lattice,\\n ...   \n",
        "101187  \\n    R (>= 2.10),\\n    nlme,\\n    lattice,\\n ...   \n",
        "101188  \\n    R (>= 2.10),\\n    nlme,\\n    lattice,\\n ...   \n",
        "101189  \\n    R (>= 2.10),\\n    nlme,\\n    lattice,\\n ...   \n",
        "101190  \\n    R (>= 2.10),\\n    nlme,\\n    lattice,\\n ...   \n",
        "101191           R (>= 2.10), nlme, lattice, grid, mosaic   \n",
        "101192           R (>= 2.10), nlme, lattice, grid, mosaic   \n",
        "101193                   R (>= 2.10), nlme, lattice, grid   \n",
        "101194                   R (>= 2.10), nlme, lattice, grid   \n",
        "101195                   R (>= 2.10), nlme, lattice, grid   \n",
        "101196                   R (>= 2.10), nlme, lattice, grid   \n",
        "101197                                                      \n",
        "101198                          R (>= 2.10), mlr (>= 2.1)   \n",
        "101199                          R (>= 2.10), mlr (>= 2.1)   \n",
        "101200                          R (>= 2.10), mlr (>= 2.1)   \n",
        "101201                          R (>= 2.10), mlr (>= 2.1)   \n",
        "101202                          R (>= 2.10), mlr (>= 2.1)   \n",
        "101203                                        R (>= 2.10)   \n",
        "101204                                                      \n",
        "101205                                                      \n",
        "101206                                                      \n",
        "101207                                                      \n",
        "\n",
        "                                                  Imports  \\\n",
        "0       Biobase, graphics, grDevices, methods, stats, ...   \n",
        "1       Biobase, graphics, grDevices, methods, stats, ...   \n",
        "2       Biobase, graphics, grDevices, methods, stats, ...   \n",
        "3       Biobase, graphics, grDevices, methods, stats, ...   \n",
        "4       Biobase, graphics, grDevices, methods, stats, ...   \n",
        "5       Biobase, graphics, grDevices, methods, stats, ...   \n",
        "6       Biobase, graphics, grDevices, methods, stats, ...   \n",
        "7       Biobase, graphics, grDevices, methods, stats, ...   \n",
        "8       Biobase, graphics, grDevices, methods, stats, ...   \n",
        "9       Biobase, graphics, grDevices, methods, stats, ...   \n",
        "10      Biobase, graphics, grDevices, methods, stats, ...   \n",
        "11      Biobase, graphics, grDevices, methods, stats, ...   \n",
        "12      Biobase, graphics, grDevices, methods, stats, ...   \n",
        "13      Biobase, graphics, grDevices, methods, stats, ...   \n",
        "14      Biobase, graphics, grDevices, methods, stats, ...   \n",
        "15      Biobase, graphics, grDevices, methods, stats, ...   \n",
        "16      Biobase, graphics, grDevices, methods, stats, ...   \n",
        "17      Biobase, graphics, grDevices, methods, stats, ...   \n",
        "18      Biobase, graphics, grDevices, methods, stats, ...   \n",
        "19      Biobase, graphics, grDevices, methods, stats, ...   \n",
        "20      Biobase, graphics, grDevices, methods, stats, ...   \n",
        "21      Biobase, graphics, grDevices, methods, stats, ...   \n",
        "22      Biobase, graphics, grDevices, methods, stats, ...   \n",
        "23      Biobase, graphics, grDevices, methods, stats, ...   \n",
        "24      Biobase, graphics, grDevices, methods, stats, ...   \n",
        "25      Biobase, graphics, grDevices, methods, stats, ...   \n",
        "26      Biobase, graphics, grDevices, methods, stats, ...   \n",
        "27      Biobase, graphics, grDevices, methods, stats, ...   \n",
        "28      Biobase, graphics, grDevices, methods, stats, ...   \n",
        "29      Biobase, graphics, grDevices, methods, stats, ...   \n",
        "...                                                   ...   \n",
        "101178                                                      \n",
        "101179                                                      \n",
        "101180                                                      \n",
        "101181                                                      \n",
        "101182                                                      \n",
        "101183                                                      \n",
        "101184                                                      \n",
        "101185                                                      \n",
        "101186                                                      \n",
        "101187                                                      \n",
        "101188                                                      \n",
        "101189                                                      \n",
        "101190                                                      \n",
        "101191                                                      \n",
        "101192                                                      \n",
        "101193                                                      \n",
        "101194                                                      \n",
        "101195                                                      \n",
        "101196                                                      \n",
        "101197                                                      \n",
        "101198             rJava, parallelMap, ggplot2, checkmate   \n",
        "101199             rJava, parallelMap, ggplot2, checkmate   \n",
        "101200                           plyr, rJava, parallelMap   \n",
        "101201                           plyr, rJava, parallelMap   \n",
        "101202                           plyr, rJava, parallelMap   \n",
        "101203                           plyr, rJava, parallelMap   \n",
        "101204                           plyr, rJava, parallelMap   \n",
        "101205                                      plyr, foreach   \n",
        "101206                                      plyr, foreach   \n",
        "101207                                      plyr, foreach   \n",
        "\n",
        "                            License                Owner Package Repository  \\\n",
        "0                        GPL (>= 2)  Bioconductor-mirror  lapmix     lapmix   \n",
        "1                        GPL (>= 2)  Bioconductor-mirror  lapmix     lapmix   \n",
        "2                        GPL (>= 2)  Bioconductor-mirror  lapmix     lapmix   \n",
        "3                        GPL (>= 2)  Bioconductor-mirror  lapmix     lapmix   \n",
        "4                        GPL (>= 2)  Bioconductor-mirror  lapmix     lapmix   \n",
        "5                        GPL (>= 2)  Bioconductor-mirror  lapmix     lapmix   \n",
        "6                        GPL (>= 2)  Bioconductor-mirror  lapmix     lapmix   \n",
        "7                        GPL (>= 2)  Bioconductor-mirror  lapmix     lapmix   \n",
        "8                        GPL (>= 2)  Bioconductor-mirror  lapmix     lapmix   \n",
        "9                        GPL (>= 2)  Bioconductor-mirror  lapmix     lapmix   \n",
        "10                       GPL (>= 2)  Bioconductor-mirror  lapmix     lapmix   \n",
        "11                       GPL (>= 2)  Bioconductor-mirror  lapmix     lapmix   \n",
        "12                       GPL (>= 2)  Bioconductor-mirror  lapmix     lapmix   \n",
        "13                       GPL (>= 2)  Bioconductor-mirror  lapmix     lapmix   \n",
        "14                       GPL (>= 2)  Bioconductor-mirror  lapmix     lapmix   \n",
        "15                       GPL (>= 2)  Bioconductor-mirror  lapmix     lapmix   \n",
        "16                       GPL (>= 2)  Bioconductor-mirror  lapmix     lapmix   \n",
        "17                       GPL (>= 2)  Bioconductor-mirror  lapmix     lapmix   \n",
        "18                       GPL (>= 2)  Bioconductor-mirror  lapmix     lapmix   \n",
        "19                       GPL (>= 2)  Bioconductor-mirror  lapmix     lapmix   \n",
        "20                       GPL (>= 2)  Bioconductor-mirror  lapmix     lapmix   \n",
        "21                       GPL (>= 2)  Bioconductor-mirror  lapmix     lapmix   \n",
        "22                       GPL (>= 2)  Bioconductor-mirror  lapmix     lapmix   \n",
        "23                       GPL (>= 2)  Bioconductor-mirror  lapmix     lapmix   \n",
        "24                       GPL (>= 2)  Bioconductor-mirror  lapmix     lapmix   \n",
        "25                       GPL (>= 2)  Bioconductor-mirror  lapmix     lapmix   \n",
        "26                       GPL (>= 2)  Bioconductor-mirror  lapmix     lapmix   \n",
        "27           GPL version 2 or newer  Bioconductor-mirror  lapmix     lapmix   \n",
        "28           GPL version 2 or newer  Bioconductor-mirror  lapmix     lapmix   \n",
        "29           GPL version 2 or newer  Bioconductor-mirror  lapmix     lapmix   \n",
        "...                             ...                  ...     ...        ...   \n",
        "101178                        GPL-2           kmiddleton     abd        abd   \n",
        "101179                        GPL-2           kmiddleton     abd        abd   \n",
        "101180                        GPL-2           kmiddleton     abd        abd   \n",
        "101181                        GPL-2           kmiddleton     abd        abd   \n",
        "101182                        GPL-2           kmiddleton     abd        abd   \n",
        "101183                        GPL-2           kmiddleton     abd        abd   \n",
        "101184                        GPL-2           kmiddleton     abd        abd   \n",
        "101185                        GPL-2           kmiddleton     abd        abd   \n",
        "101186                        GPL-2           kmiddleton     abd        abd   \n",
        "101187                        GPL-2           kmiddleton     abd        abd   \n",
        "101188                        GPL-2           kmiddleton     abd        abd   \n",
        "101189                        GPL-2           kmiddleton     abd        abd   \n",
        "101190                        GPL-2           kmiddleton     abd        abd   \n",
        "101191                        GPL-2           kmiddleton     abd        abd   \n",
        "101192                        GPL-2           kmiddleton     abd        abd   \n",
        "101193                        GPL-2           kmiddleton     abd        abd   \n",
        "101194                        GPL-2           kmiddleton     abd        abd   \n",
        "101195                        GPL-2           kmiddleton     abd        abd   \n",
        "101196                        GPL-2           kmiddleton     abd        abd   \n",
        "101197                          GPL           kmiddleton     abd        abd   \n",
        "101198  BSD_3_clause + file LICENSE                 cran   llama      llama   \n",
        "101199  BSD_3_clause + file LICENSE                 cran   llama      llama   \n",
        "101200  BSD_3_clause + file LICENSE                 cran   llama      llama   \n",
        "101201  BSD_3_clause + file LICENSE                 cran   llama      llama   \n",
        "101202  BSD_3_clause + file LICENSE                 cran   llama      llama   \n",
        "101203  BSD_3_clause + file LICENSE                 cran   llama      llama   \n",
        "101204  BSD_3_clause + file LICENSE                 cran   llama      llama   \n",
        "101205                          BSD                 cran   llama      llama   \n",
        "101206                          BSD                 cran   llama      llama   \n",
        "101207                          BSD                 cran   llama      llama   \n",
        "\n",
        "                                                 Suggests Version  \n",
        "0                                                          1.35.0  \n",
        "1                                                          1.34.0  \n",
        "2                                                          1.33.0  \n",
        "3                                                          1.32.0  \n",
        "4                                                          1.31.0  \n",
        "5                                                          1.30.0  \n",
        "6                                                          1.29.2  \n",
        "7                                                          1.29.1  \n",
        "8                                                          1.29.0  \n",
        "9                                                          1.28.0  \n",
        "10                                                         1.27.0  \n",
        "11                                                         1.26.0  \n",
        "12                                                         1.25.0  \n",
        "13                                                         1.24.0  \n",
        "14                                                         1.23.0  \n",
        "15                                                         1.22.0  \n",
        "16                                                         1.21.0  \n",
        "17                                                         1.20.0  \n",
        "18                                                         1.19.0  \n",
        "19                                                         1.18.0  \n",
        "20                                                         1.17.0  \n",
        "21                                                         1.16.0  \n",
        "22                                                         1.15.0  \n",
        "23                                                         1.14.0  \n",
        "24                                                         1.13.0  \n",
        "25                                                         1.12.0  \n",
        "26                                                         1.11.1  \n",
        "27                                                         1.11.0  \n",
        "28                                                         1.10.0  \n",
        "29                                                          1.9.2  \n",
        "...                                                   ...     ...  \n",
        "101178  \\n    boot,\\n    car,\\n    ggplot2,\\n    plyr,...   0.2-5  \n",
        "101179  \\n    boot,\\n    car,\\n    ggplot2,\\n    plyr,...   0.2-4  \n",
        "101180  \\n    boot,\\n    car,\\n    ggplot2,\\n    plyr,...   0.2-3  \n",
        "101181  \\n    boot,\\n    car,\\n    ggplot2,\\n    plyr,...   0.2-3  \n",
        "101182  \\n    boot,\\n    car,\\n    ggplot2,\\n    plyr,...   0.2-2  \n",
        "101183  \\n    boot,\\n    car,\\n    ggplot2,\\n    plyr,...   0.2-1  \n",
        "101184  \\n    boot,\\n    car,\\n    ggplot2,\\n    plyr,...   0.2-1  \n",
        "101185  \\n    boot,\\n    car,\\n    ggplot2,\\n    plyr,...  0.1-24  \n",
        "101186  \\n    boot,\\n    car,\\n    ggplot2,\\n    plyr,...  0.1-24  \n",
        "101187  \\n    boot,\\n    car,\\n    ggplot2,\\n    plyr,...  0.1-24  \n",
        "101188  \\n    boot,\\n    car,\\n    ggplot2,\\n    plyr,...  0.1-24  \n",
        "101189  \\n    boot,\\n    car,\\n    ggplot2,\\n    plyr,...  0.1-24  \n",
        "101190  \\n    boot,\\n    car,\\n    ggplot2,\\n    plyr,...  0.1-24  \n",
        "101191           boot, car, ggplot2, plyr, HH, vcd, Hmisc  0.1-24  \n",
        "101192           boot, car, ggplot2, plyr, HH, vcd, Hmisc  0.1-24  \n",
        "101193           boot, car, ggplot2, plyr, HH, vcd, Hmisc  0.1-24  \n",
        "101194           boot, car, ggplot2, plyr, HH, vcd, Hmisc  0.1-23  \n",
        "101195           boot, car, ggplot2, plyr, HH, vcd, Hmisc  0.1-22  \n",
        "101196           boot, car, ggplot2, HH, plyr, vcd, Hmisc  0.1-18  \n",
        "101197                                                        0.1  \n",
        "101198                             testthat, ParamHelpers   0.8.1  \n",
        "101199                             testthat, ParamHelpers     0.8  \n",
        "101200                  FSelector, testthat, ParamHelpers   0.7.2  \n",
        "101201                  FSelector, testthat, ParamHelpers   0.7.1  \n",
        "101202                  FSelector, testthat, ParamHelpers     0.7  \n",
        "101203       RWeka, FSelector, e1071, flexclust, testthat     0.6  \n",
        "101204       RWeka, FSelector, e1071, flexclust, testthat   0.5.1  \n",
        "101205       RWeka, FSelector, e1071, flexclust, testthat     0.4  \n",
        "101206       RWeka, FSelector, e1071, flexclust, testthat     0.2  \n",
        "101207       RWeka, FSelector, e1071, flexclust, testthat     0.1  \n",
        "\n",
        "[101208 rows x 9 columns]"
       ]
      }
     ],
     "prompt_number": 9
    }
   ],
   "metadata": {}
  }
 ]
}