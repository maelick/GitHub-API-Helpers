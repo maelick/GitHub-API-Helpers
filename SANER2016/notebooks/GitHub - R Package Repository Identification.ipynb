{
 "metadata": {
  "name": "",
  "signature": "sha256:0bf97dbd6b74662fd762e095ce3899e7b300d341f5042b4142deee7dad3ef97a"
 },
 "nbformat": 3,
 "nbformat_minor": 0,
 "worksheets": [
  {
   "cells": [
    {
     "cell_type": "heading",
     "level": 1,
     "metadata": {},
     "source": [
      "R Package Identification for GitHub Repositories"
     ]
    },
    {
     "cell_type": "markdown",
     "metadata": {},
     "source": [
      "In this notebook, we load the data collected from GitHub API v3 (see *GitHub - Repositories from API* notebook) and we check for every repository if this repository has a `DESCRIPTION` file at its root. This is the condition we use to identify which repositories are storing a R package."
     ]
    },
    {
     "cell_type": "code",
     "collapsed": false,
     "input": [
      "import gzip\n",
      "import json\n",
      "import requests\n",
      "import pandas\n",
      "\n",
      "from collections import OrderedDict"
     ],
     "language": "python",
     "metadata": {},
     "outputs": [],
     "prompt_number": 1
    },
    {
     "cell_type": "code",
     "collapsed": false,
     "input": [
      "INPUT_FILENAME = '../data/R-apiv3-2015-01-01T00:00:00-2015-06-01T00:00:00.tar.gz'\n",
      "OUTPUT_FILENAME = '../data/RPackage-Repositories-150101-150601.csv' \n",
      "\n",
      "# Set of attributes that will be kept for the output\n",
      "# If a dot is found in the attribute, a nested lookup will be performed\n",
      "ATTR = [\n",
      "    'full_name', \n",
      "    'name',\n",
      "    'owner.login',\n",
      "    'owner.type',\n",
      "    'created_at', \n",
      "    'description', \n",
      "    'forks_count',\n",
      "    'stargazers_count',\n",
      "    'watchers_count',\n",
      "    'has_downloads',\n",
      "    'has_pages', \n",
      "    'has_issues', \n",
      "    'has_wiki',\n",
      "]"
     ],
     "language": "python",
     "metadata": {},
     "outputs": [],
     "prompt_number": 2
    },
    {
     "cell_type": "markdown",
     "metadata": {},
     "source": [
      "We make use of IPython's parallel computation.\n",
      "\n",
      "**To use this notebook, you need either to configure your IPController or to start a cluster of IPython nodes, using `ipcluster start -n 4` for example.** See https://ipython.org/ipython-doc/dev/parallel/parallel_process.html for more information.\n",
      "\n",
      "It seems that most recent versions of IPython Notebook can directly start cluster from the web interface, under the *Cluster* tab."
     ]
    },
    {
     "cell_type": "code",
     "collapsed": false,
     "input": [
      "from IPython import parallel\n",
      "clients = parallel.Client()\n",
      "clients.block = False\n",
      "print 'Clients:', str(clients.ids)"
     ],
     "language": "python",
     "metadata": {},
     "outputs": [
      {
       "output_type": "stream",
       "stream": "stdout",
       "text": [
        "Clients: [0, 1, 2, 3]\n"
       ]
      }
     ],
     "prompt_number": 3
    },
    {
     "cell_type": "markdown",
     "metadata": {},
     "source": [
      "We first load and identify which are the distinct repositories that were gathered using GitHub API v3. "
     ]
    },
    {
     "cell_type": "code",
     "collapsed": false,
     "input": [
      "with gzip.GzipFile(filename=INPUT_FILENAME) as gf:\n",
      "    content = gf.read()"
     ],
     "language": "python",
     "metadata": {},
     "outputs": [],
     "prompt_number": 4
    },
    {
     "cell_type": "code",
     "collapsed": false,
     "input": [
      "content = json.loads(content)"
     ],
     "language": "python",
     "metadata": {},
     "outputs": [],
     "prompt_number": 5
    },
    {
     "cell_type": "code",
     "collapsed": false,
     "input": [
      "print '{} items were retrieved from GitHub API v3'.format(len(content))"
     ],
     "language": "python",
     "metadata": {},
     "outputs": [
      {
       "output_type": "stream",
       "stream": "stdout",
       "text": [
        "36880 items were retrieved from GitHub API v3\n"
       ]
      }
     ],
     "prompt_number": 6
    },
    {
     "cell_type": "code",
     "collapsed": false,
     "input": [
      "distinct = {(r['name'], r['owner']['login'], r['full_name']): r for r in content}\n",
      "print '{} distinct items inside'.format(len(distinct))"
     ],
     "language": "python",
     "metadata": {},
     "outputs": [
      {
       "output_type": "stream",
       "stream": "stdout",
       "text": [
        "32562 distinct items inside\n"
       ]
      }
     ],
     "prompt_number": 7
    },
    {
     "cell_type": "markdown",
     "metadata": {},
     "source": [
      "We now filter the items to keep only interesting attributes."
     ]
    },
    {
     "cell_type": "code",
     "collapsed": false,
     "input": [
      "def filter_attributes(item, attributes):\n",
      "    new_item = OrderedDict()\n",
      "    for attr in attributes:\n",
      "        if '.' in attr:\n",
      "            attr1, attr2 = attr.split('.')\n",
      "            new_item['{}.{}'.format(attr1, attr2)] = item[attr1][attr2]\n",
      "        else:\n",
      "            new_item[attr] = item[attr]\n",
      "    return new_item"
     ],
     "language": "python",
     "metadata": {},
     "outputs": [],
     "prompt_number": 8
    },
    {
     "cell_type": "code",
     "collapsed": false,
     "input": [
      "items = map(lambda r: filter_attributes(r, ATTR), distinct.values())"
     ],
     "language": "python",
     "metadata": {},
     "outputs": [],
     "prompt_number": 9
    },
    {
     "cell_type": "markdown",
     "metadata": {},
     "source": [
      "And we're ready to check if the repository has a `DESCRIPTION` file at its root. "
     ]
    },
    {
     "cell_type": "code",
     "collapsed": false,
     "input": [
      "def check_item(item):\n",
      "    url = 'https://raw.githubusercontent.com/{}/master/DESCRIPTION'.format(item['full_name'])\n",
      "    response = requests.get(url)\n",
      "    if response.status_code == 200:\n",
      "        item['package'] = 1\n",
      "    else:\n",
      "        item['package'] = 0\n",
      "    return item\n",
      "\n",
      "\n",
      "print len(items), 'items to check'\n",
      "clients[:].execute('import requests')\n",
      "balanced = clients.load_balanced_view()\n",
      "res = balanced.map(check_item, items, ordered=False, timeout=15)\n",
      "\n",
      "import time\n",
      "while not res.ready():\n",
      "    time.sleep(5)\n",
      "    print res.progress, ' ', "
     ],
     "language": "python",
     "metadata": {},
     "outputs": [
      {
       "output_type": "stream",
       "stream": "stdout",
       "text": [
        "32562 items to check\n",
        "617"
       ]
      },
      {
       "output_type": "stream",
       "stream": "stdout",
       "text": [
        "   "
       ]
      },
      {
       "output_type": "stream",
       "stream": "stdout",
       "text": [
        "731   "
       ]
      },
      {
       "output_type": "stream",
       "stream": "stdout",
       "text": [
        "843   "
       ]
      },
      {
       "output_type": "stream",
       "stream": "stdout",
       "text": [
        "942   "
       ]
      },
      {
       "output_type": "stream",
       "stream": "stdout",
       "text": [
        "1050   "
       ]
      },
      {
       "output_type": "stream",
       "stream": "stdout",
       "text": [
        "1160   "
       ]
      },
      {
       "output_type": "stream",
       "stream": "stdout",
       "text": [
        "1266   "
       ]
      },
      {
       "output_type": "stream",
       "stream": "stdout",
       "text": [
        "1368   "
       ]
      },
      {
       "output_type": "stream",
       "stream": "stdout",
       "text": [
        "1492   "
       ]
      },
      {
       "output_type": "stream",
       "stream": "stdout",
       "text": [
        "1601   "
       ]
      },
      {
       "output_type": "stream",
       "stream": "stdout",
       "text": [
        "1700   "
       ]
      },
      {
       "output_type": "stream",
       "stream": "stdout",
       "text": [
        "1807   "
       ]
      },
      {
       "output_type": "stream",
       "stream": "stdout",
       "text": [
        "1918   "
       ]
      },
      {
       "output_type": "stream",
       "stream": "stdout",
       "text": [
        "2035   "
       ]
      },
      {
       "output_type": "stream",
       "stream": "stdout",
       "text": [
        "2150   "
       ]
      },
      {
       "output_type": "stream",
       "stream": "stdout",
       "text": [
        "2258   "
       ]
      },
      {
       "output_type": "stream",
       "stream": "stdout",
       "text": [
        "2351   "
       ]
      },
      {
       "output_type": "stream",
       "stream": "stdout",
       "text": [
        "2463   "
       ]
      },
      {
       "output_type": "stream",
       "stream": "stdout",
       "text": [
        "2579   "
       ]
      },
      {
       "output_type": "stream",
       "stream": "stdout",
       "text": [
        "2691   "
       ]
      },
      {
       "output_type": "stream",
       "stream": "stdout",
       "text": [
        "2730   "
       ]
      },
      {
       "output_type": "stream",
       "stream": "stdout",
       "text": [
        "2797   "
       ]
      },
      {
       "output_type": "stream",
       "stream": "stdout",
       "text": [
        "2908   "
       ]
      },
      {
       "output_type": "stream",
       "stream": "stdout",
       "text": [
        "2995   "
       ]
      },
      {
       "output_type": "stream",
       "stream": "stdout",
       "text": [
        "3116   "
       ]
      },
      {
       "output_type": "stream",
       "stream": "stdout",
       "text": [
        "3238   "
       ]
      },
      {
       "output_type": "stream",
       "stream": "stdout",
       "text": [
        "3352   "
       ]
      },
      {
       "output_type": "stream",
       "stream": "stdout",
       "text": [
        "3454   "
       ]
      },
      {
       "output_type": "stream",
       "stream": "stdout",
       "text": [
        "3560   "
       ]
      },
      {
       "output_type": "stream",
       "stream": "stdout",
       "text": [
        "3673   "
       ]
      },
      {
       "output_type": "stream",
       "stream": "stdout",
       "text": [
        "3788   "
       ]
      },
      {
       "output_type": "stream",
       "stream": "stdout",
       "text": [
        "3909   "
       ]
      },
      {
       "output_type": "stream",
       "stream": "stdout",
       "text": [
        "4020   "
       ]
      },
      {
       "output_type": "stream",
       "stream": "stdout",
       "text": [
        "4138   "
       ]
      },
      {
       "output_type": "stream",
       "stream": "stdout",
       "text": [
        "4226   "
       ]
      },
      {
       "output_type": "stream",
       "stream": "stdout",
       "text": [
        "4342   "
       ]
      },
      {
       "output_type": "stream",
       "stream": "stdout",
       "text": [
        "4454   "
       ]
      },
      {
       "output_type": "stream",
       "stream": "stdout",
       "text": [
        "4571   "
       ]
      },
      {
       "output_type": "stream",
       "stream": "stdout",
       "text": [
        "4685   "
       ]
      },
      {
       "output_type": "stream",
       "stream": "stdout",
       "text": [
        "4786   "
       ]
      },
      {
       "output_type": "stream",
       "stream": "stdout",
       "text": [
        "4899   "
       ]
      },
      {
       "output_type": "stream",
       "stream": "stdout",
       "text": [
        "5015   "
       ]
      },
      {
       "output_type": "stream",
       "stream": "stdout",
       "text": [
        "5124   "
       ]
      },
      {
       "output_type": "stream",
       "stream": "stdout",
       "text": [
        "5237   "
       ]
      },
      {
       "output_type": "stream",
       "stream": "stdout",
       "text": [
        "5341   "
       ]
      },
      {
       "output_type": "stream",
       "stream": "stdout",
       "text": [
        "5462   "
       ]
      },
      {
       "output_type": "stream",
       "stream": "stdout",
       "text": [
        "5573   "
       ]
      },
      {
       "output_type": "stream",
       "stream": "stdout",
       "text": [
        "5687   "
       ]
      },
      {
       "output_type": "stream",
       "stream": "stdout",
       "text": [
        "5807   "
       ]
      },
      {
       "output_type": "stream",
       "stream": "stdout",
       "text": [
        "5921   "
       ]
      },
      {
       "output_type": "stream",
       "stream": "stdout",
       "text": [
        "6039   "
       ]
      },
      {
       "output_type": "stream",
       "stream": "stdout",
       "text": [
        "6148   "
       ]
      },
      {
       "output_type": "stream",
       "stream": "stdout",
       "text": [
        "6258   "
       ]
      },
      {
       "output_type": "stream",
       "stream": "stdout",
       "text": [
        "6378   "
       ]
      },
      {
       "output_type": "stream",
       "stream": "stdout",
       "text": [
        "6500   "
       ]
      },
      {
       "output_type": "stream",
       "stream": "stdout",
       "text": [
        "6617   "
       ]
      },
      {
       "output_type": "stream",
       "stream": "stdout",
       "text": [
        "6718   "
       ]
      },
      {
       "output_type": "stream",
       "stream": "stdout",
       "text": [
        "6818   "
       ]
      },
      {
       "output_type": "stream",
       "stream": "stdout",
       "text": [
        "6933   "
       ]
      },
      {
       "output_type": "stream",
       "stream": "stdout",
       "text": [
        "7046   "
       ]
      },
      {
       "output_type": "stream",
       "stream": "stdout",
       "text": [
        "7159   "
       ]
      },
      {
       "output_type": "stream",
       "stream": "stdout",
       "text": [
        "7279   "
       ]
      },
      {
       "output_type": "stream",
       "stream": "stdout",
       "text": [
        "7377   "
       ]
      },
      {
       "output_type": "stream",
       "stream": "stdout",
       "text": [
        "7453   "
       ]
      },
      {
       "output_type": "stream",
       "stream": "stdout",
       "text": [
        "7570   "
       ]
      },
      {
       "output_type": "stream",
       "stream": "stdout",
       "text": [
        "7687   "
       ]
      },
      {
       "output_type": "stream",
       "stream": "stdout",
       "text": [
        "7805   "
       ]
      },
      {
       "output_type": "stream",
       "stream": "stdout",
       "text": [
        "7929   "
       ]
      },
      {
       "output_type": "stream",
       "stream": "stdout",
       "text": [
        "8049   "
       ]
      },
      {
       "output_type": "stream",
       "stream": "stdout",
       "text": [
        "8136   "
       ]
      },
      {
       "output_type": "stream",
       "stream": "stdout",
       "text": [
        "8200   "
       ]
      },
      {
       "output_type": "stream",
       "stream": "stdout",
       "text": [
        "8316   "
       ]
      },
      {
       "output_type": "stream",
       "stream": "stdout",
       "text": [
        "8430   "
       ]
      },
      {
       "output_type": "stream",
       "stream": "stdout",
       "text": [
        "8544   "
       ]
      },
      {
       "output_type": "stream",
       "stream": "stdout",
       "text": [
        "8632   "
       ]
      },
      {
       "output_type": "stream",
       "stream": "stdout",
       "text": [
        "8723   "
       ]
      },
      {
       "output_type": "stream",
       "stream": "stdout",
       "text": [
        "8844   "
       ]
      },
      {
       "output_type": "stream",
       "stream": "stdout",
       "text": [
        "8960   "
       ]
      },
      {
       "output_type": "stream",
       "stream": "stdout",
       "text": [
        "9074   "
       ]
      },
      {
       "output_type": "stream",
       "stream": "stdout",
       "text": [
        "9191   "
       ]
      },
      {
       "output_type": "stream",
       "stream": "stdout",
       "text": [
        "9298   "
       ]
      },
      {
       "output_type": "stream",
       "stream": "stdout",
       "text": [
        "9402   "
       ]
      },
      {
       "output_type": "stream",
       "stream": "stdout",
       "text": [
        "9515   "
       ]
      },
      {
       "output_type": "stream",
       "stream": "stdout",
       "text": [
        "9635   "
       ]
      },
      {
       "output_type": "stream",
       "stream": "stdout",
       "text": [
        "9746   "
       ]
      },
      {
       "output_type": "stream",
       "stream": "stdout",
       "text": [
        "9847   "
       ]
      },
      {
       "output_type": "stream",
       "stream": "stdout",
       "text": [
        "9947   "
       ]
      },
      {
       "output_type": "stream",
       "stream": "stdout",
       "text": [
        "10044   "
       ]
      },
      {
       "output_type": "stream",
       "stream": "stdout",
       "text": [
        "10154   "
       ]
      },
      {
       "output_type": "stream",
       "stream": "stdout",
       "text": [
        "10270   "
       ]
      },
      {
       "output_type": "stream",
       "stream": "stdout",
       "text": [
        "10380   "
       ]
      },
      {
       "output_type": "stream",
       "stream": "stdout",
       "text": [
        "10485   "
       ]
      },
      {
       "output_type": "stream",
       "stream": "stdout",
       "text": [
        "10606   "
       ]
      },
      {
       "output_type": "stream",
       "stream": "stdout",
       "text": [
        "10710   "
       ]
      },
      {
       "output_type": "stream",
       "stream": "stdout",
       "text": [
        "10826   "
       ]
      },
      {
       "output_type": "stream",
       "stream": "stdout",
       "text": [
        "10939   "
       ]
      },
      {
       "output_type": "stream",
       "stream": "stdout",
       "text": [
        "11044   "
       ]
      },
      {
       "output_type": "stream",
       "stream": "stdout",
       "text": [
        "11129   "
       ]
      },
      {
       "output_type": "stream",
       "stream": "stdout",
       "text": [
        "11226   "
       ]
      },
      {
       "output_type": "stream",
       "stream": "stdout",
       "text": [
        "11320   "
       ]
      },
      {
       "output_type": "stream",
       "stream": "stdout",
       "text": [
        "11412   "
       ]
      },
      {
       "output_type": "stream",
       "stream": "stdout",
       "text": [
        "11504   "
       ]
      },
      {
       "output_type": "stream",
       "stream": "stdout",
       "text": [
        "11599   "
       ]
      },
      {
       "output_type": "stream",
       "stream": "stdout",
       "text": [
        "11690   "
       ]
      },
      {
       "output_type": "stream",
       "stream": "stdout",
       "text": [
        "11730   "
       ]
      },
      {
       "output_type": "stream",
       "stream": "stdout",
       "text": [
        "11785   "
       ]
      },
      {
       "output_type": "stream",
       "stream": "stdout",
       "text": [
        "11887   "
       ]
      },
      {
       "output_type": "stream",
       "stream": "stdout",
       "text": [
        "11995   "
       ]
      },
      {
       "output_type": "stream",
       "stream": "stdout",
       "text": [
        "12114   "
       ]
      },
      {
       "output_type": "stream",
       "stream": "stdout",
       "text": [
        "12211   "
       ]
      },
      {
       "output_type": "stream",
       "stream": "stdout",
       "text": [
        "12322   "
       ]
      },
      {
       "output_type": "stream",
       "stream": "stdout",
       "text": [
        "12435   "
       ]
      },
      {
       "output_type": "stream",
       "stream": "stdout",
       "text": [
        "12551   "
       ]
      },
      {
       "output_type": "stream",
       "stream": "stdout",
       "text": [
        "12663   "
       ]
      },
      {
       "output_type": "stream",
       "stream": "stdout",
       "text": [
        "12765   "
       ]
      },
      {
       "output_type": "stream",
       "stream": "stdout",
       "text": [
        "12870   "
       ]
      },
      {
       "output_type": "stream",
       "stream": "stdout",
       "text": [
        "12980   "
       ]
      },
      {
       "output_type": "stream",
       "stream": "stdout",
       "text": [
        "13093   "
       ]
      },
      {
       "output_type": "stream",
       "stream": "stdout",
       "text": [
        "13209   "
       ]
      },
      {
       "output_type": "stream",
       "stream": "stdout",
       "text": [
        "13315   "
       ]
      },
      {
       "output_type": "stream",
       "stream": "stdout",
       "text": [
        "13410   "
       ]
      },
      {
       "output_type": "stream",
       "stream": "stdout",
       "text": [
        "13517   "
       ]
      },
      {
       "output_type": "stream",
       "stream": "stdout",
       "text": [
        "13628   "
       ]
      },
      {
       "output_type": "stream",
       "stream": "stdout",
       "text": [
        "13743   "
       ]
      },
      {
       "output_type": "stream",
       "stream": "stdout",
       "text": [
        "13851   "
       ]
      },
      {
       "output_type": "stream",
       "stream": "stdout",
       "text": [
        "13968   "
       ]
      },
      {
       "output_type": "stream",
       "stream": "stdout",
       "text": [
        "14069   "
       ]
      },
      {
       "output_type": "stream",
       "stream": "stdout",
       "text": [
        "14184   "
       ]
      },
      {
       "output_type": "stream",
       "stream": "stdout",
       "text": [
        "14304   "
       ]
      },
      {
       "output_type": "stream",
       "stream": "stdout",
       "text": [
        "14422   "
       ]
      },
      {
       "output_type": "stream",
       "stream": "stdout",
       "text": [
        "14538   "
       ]
      },
      {
       "output_type": "stream",
       "stream": "stdout",
       "text": [
        "14645   "
       ]
      },
      {
       "output_type": "stream",
       "stream": "stdout",
       "text": [
        "14736   "
       ]
      },
      {
       "output_type": "stream",
       "stream": "stdout",
       "text": [
        "14837   "
       ]
      },
      {
       "output_type": "stream",
       "stream": "stdout",
       "text": [
        "14944   "
       ]
      },
      {
       "output_type": "stream",
       "stream": "stdout",
       "text": [
        "15059   "
       ]
      },
      {
       "output_type": "stream",
       "stream": "stdout",
       "text": [
        "15173   "
       ]
      },
      {
       "output_type": "stream",
       "stream": "stdout",
       "text": [
        "15275   "
       ]
      },
      {
       "output_type": "stream",
       "stream": "stdout",
       "text": [
        "15366   "
       ]
      },
      {
       "output_type": "stream",
       "stream": "stdout",
       "text": [
        "15463   "
       ]
      },
      {
       "output_type": "stream",
       "stream": "stdout",
       "text": [
        "15577   "
       ]
      },
      {
       "output_type": "stream",
       "stream": "stdout",
       "text": [
        "15692   "
       ]
      },
      {
       "output_type": "stream",
       "stream": "stdout",
       "text": [
        "15798   "
       ]
      },
      {
       "output_type": "stream",
       "stream": "stdout",
       "text": [
        "15915   "
       ]
      },
      {
       "output_type": "stream",
       "stream": "stdout",
       "text": [
        "16021   "
       ]
      },
      {
       "output_type": "stream",
       "stream": "stdout",
       "text": [
        "16120   "
       ]
      },
      {
       "output_type": "stream",
       "stream": "stdout",
       "text": [
        "16238   "
       ]
      },
      {
       "output_type": "stream",
       "stream": "stdout",
       "text": [
        "16347   "
       ]
      },
      {
       "output_type": "stream",
       "stream": "stdout",
       "text": [
        "16450   "
       ]
      },
      {
       "output_type": "stream",
       "stream": "stdout",
       "text": [
        "16565   "
       ]
      },
      {
       "output_type": "stream",
       "stream": "stdout",
       "text": [
        "16665   "
       ]
      },
      {
       "output_type": "stream",
       "stream": "stdout",
       "text": [
        "16757   "
       ]
      },
      {
       "output_type": "stream",
       "stream": "stdout",
       "text": [
        "16840   "
       ]
      },
      {
       "output_type": "stream",
       "stream": "stdout",
       "text": [
        "16890   "
       ]
      },
      {
       "output_type": "stream",
       "stream": "stdout",
       "text": [
        "16973   "
       ]
      },
      {
       "output_type": "stream",
       "stream": "stdout",
       "text": [
        "17064   "
       ]
      },
      {
       "output_type": "stream",
       "stream": "stdout",
       "text": [
        "17155   "
       ]
      },
      {
       "output_type": "stream",
       "stream": "stdout",
       "text": [
        "17247   "
       ]
      },
      {
       "output_type": "stream",
       "stream": "stdout",
       "text": [
        "17359   "
       ]
      },
      {
       "output_type": "stream",
       "stream": "stdout",
       "text": [
        "17474   "
       ]
      },
      {
       "output_type": "stream",
       "stream": "stdout",
       "text": [
        "17572   "
       ]
      },
      {
       "output_type": "stream",
       "stream": "stdout",
       "text": [
        "17684   "
       ]
      },
      {
       "output_type": "stream",
       "stream": "stdout",
       "text": [
        "17776   "
       ]
      },
      {
       "output_type": "stream",
       "stream": "stdout",
       "text": [
        "17865   "
       ]
      },
      {
       "output_type": "stream",
       "stream": "stdout",
       "text": [
        "17969   "
       ]
      },
      {
       "output_type": "stream",
       "stream": "stdout",
       "text": [
        "18085   "
       ]
      },
      {
       "output_type": "stream",
       "stream": "stdout",
       "text": [
        "18195   "
       ]
      },
      {
       "output_type": "stream",
       "stream": "stdout",
       "text": [
        "18313   "
       ]
      },
      {
       "output_type": "stream",
       "stream": "stdout",
       "text": [
        "18426   "
       ]
      },
      {
       "output_type": "stream",
       "stream": "stdout",
       "text": [
        "18537   "
       ]
      },
      {
       "output_type": "stream",
       "stream": "stdout",
       "text": [
        "18652   "
       ]
      },
      {
       "output_type": "stream",
       "stream": "stdout",
       "text": [
        "18763   "
       ]
      },
      {
       "output_type": "stream",
       "stream": "stdout",
       "text": [
        "18877   "
       ]
      },
      {
       "output_type": "stream",
       "stream": "stdout",
       "text": [
        "18990   "
       ]
      },
      {
       "output_type": "stream",
       "stream": "stdout",
       "text": [
        "19105   "
       ]
      },
      {
       "output_type": "stream",
       "stream": "stdout",
       "text": [
        "19216   "
       ]
      },
      {
       "output_type": "stream",
       "stream": "stdout",
       "text": [
        "19331   "
       ]
      },
      {
       "output_type": "stream",
       "stream": "stdout",
       "text": [
        "19449   "
       ]
      },
      {
       "output_type": "stream",
       "stream": "stdout",
       "text": [
        "19566   "
       ]
      },
      {
       "output_type": "stream",
       "stream": "stdout",
       "text": [
        "19681   "
       ]
      },
      {
       "output_type": "stream",
       "stream": "stdout",
       "text": [
        "19795   "
       ]
      },
      {
       "output_type": "stream",
       "stream": "stdout",
       "text": [
        "19909   "
       ]
      },
      {
       "output_type": "stream",
       "stream": "stdout",
       "text": [
        "20024   "
       ]
      },
      {
       "output_type": "stream",
       "stream": "stdout",
       "text": [
        "20136   "
       ]
      },
      {
       "output_type": "stream",
       "stream": "stdout",
       "text": [
        "20252   "
       ]
      },
      {
       "output_type": "stream",
       "stream": "stdout",
       "text": [
        "20364   "
       ]
      },
      {
       "output_type": "stream",
       "stream": "stdout",
       "text": [
        "20455   "
       ]
      },
      {
       "output_type": "stream",
       "stream": "stdout",
       "text": [
        "20565   "
       ]
      },
      {
       "output_type": "stream",
       "stream": "stdout",
       "text": [
        "20676   "
       ]
      },
      {
       "output_type": "stream",
       "stream": "stdout",
       "text": [
        "20789   "
       ]
      },
      {
       "output_type": "stream",
       "stream": "stdout",
       "text": [
        "20904   "
       ]
      },
      {
       "output_type": "stream",
       "stream": "stdout",
       "text": [
        "21016   "
       ]
      },
      {
       "output_type": "stream",
       "stream": "stdout",
       "text": [
        "21127   "
       ]
      },
      {
       "output_type": "stream",
       "stream": "stdout",
       "text": [
        "21239   "
       ]
      },
      {
       "output_type": "stream",
       "stream": "stdout",
       "text": [
        "21355   "
       ]
      },
      {
       "output_type": "stream",
       "stream": "stdout",
       "text": [
        "21460   "
       ]
      },
      {
       "output_type": "stream",
       "stream": "stdout",
       "text": [
        "21573   "
       ]
      },
      {
       "output_type": "stream",
       "stream": "stdout",
       "text": [
        "21676   "
       ]
      },
      {
       "output_type": "stream",
       "stream": "stdout",
       "text": [
        "21778   "
       ]
      },
      {
       "output_type": "stream",
       "stream": "stdout",
       "text": [
        "21895   "
       ]
      },
      {
       "output_type": "stream",
       "stream": "stdout",
       "text": [
        "22008   "
       ]
      },
      {
       "output_type": "stream",
       "stream": "stdout",
       "text": [
        "22114   "
       ]
      },
      {
       "output_type": "stream",
       "stream": "stdout",
       "text": [
        "22217   "
       ]
      },
      {
       "output_type": "stream",
       "stream": "stdout",
       "text": [
        "22313   "
       ]
      },
      {
       "output_type": "stream",
       "stream": "stdout",
       "text": [
        "22427   "
       ]
      },
      {
       "output_type": "stream",
       "stream": "stdout",
       "text": [
        "22537   "
       ]
      },
      {
       "output_type": "stream",
       "stream": "stdout",
       "text": [
        "22649   "
       ]
      },
      {
       "output_type": "stream",
       "stream": "stdout",
       "text": [
        "22759   "
       ]
      },
      {
       "output_type": "stream",
       "stream": "stdout",
       "text": [
        "22857   "
       ]
      },
      {
       "output_type": "stream",
       "stream": "stdout",
       "text": [
        "22927   "
       ]
      },
      {
       "output_type": "stream",
       "stream": "stdout",
       "text": [
        "23042   "
       ]
      },
      {
       "output_type": "stream",
       "stream": "stdout",
       "text": [
        "23153   "
       ]
      },
      {
       "output_type": "stream",
       "stream": "stdout",
       "text": [
        "23263   "
       ]
      },
      {
       "output_type": "stream",
       "stream": "stdout",
       "text": [
        "23374   "
       ]
      },
      {
       "output_type": "stream",
       "stream": "stdout",
       "text": [
        "23455   "
       ]
      },
      {
       "output_type": "stream",
       "stream": "stdout",
       "text": [
        "23568   "
       ]
      },
      {
       "output_type": "stream",
       "stream": "stdout",
       "text": [
        "23680   "
       ]
      },
      {
       "output_type": "stream",
       "stream": "stdout",
       "text": [
        "23796   "
       ]
      },
      {
       "output_type": "stream",
       "stream": "stdout",
       "text": [
        "23905   "
       ]
      },
      {
       "output_type": "stream",
       "stream": "stdout",
       "text": [
        "24012   "
       ]
      },
      {
       "output_type": "stream",
       "stream": "stdout",
       "text": [
        "24102   "
       ]
      },
      {
       "output_type": "stream",
       "stream": "stdout",
       "text": [
        "24210   "
       ]
      },
      {
       "output_type": "stream",
       "stream": "stdout",
       "text": [
        "24322   "
       ]
      },
      {
       "output_type": "stream",
       "stream": "stdout",
       "text": [
        "24425   "
       ]
      },
      {
       "output_type": "stream",
       "stream": "stdout",
       "text": [
        "24527   "
       ]
      },
      {
       "output_type": "stream",
       "stream": "stdout",
       "text": [
        "24630   "
       ]
      },
      {
       "output_type": "stream",
       "stream": "stdout",
       "text": [
        "24744   "
       ]
      },
      {
       "output_type": "stream",
       "stream": "stdout",
       "text": [
        "24829   "
       ]
      },
      {
       "output_type": "stream",
       "stream": "stdout",
       "text": [
        "24937   "
       ]
      },
      {
       "output_type": "stream",
       "stream": "stdout",
       "text": [
        "25047   "
       ]
      },
      {
       "output_type": "stream",
       "stream": "stdout",
       "text": [
        "25146   "
       ]
      },
      {
       "output_type": "stream",
       "stream": "stdout",
       "text": [
        "25232   "
       ]
      },
      {
       "output_type": "stream",
       "stream": "stdout",
       "text": [
        "25334   "
       ]
      },
      {
       "output_type": "stream",
       "stream": "stdout",
       "text": [
        "25442   "
       ]
      },
      {
       "output_type": "stream",
       "stream": "stdout",
       "text": [
        "25550   "
       ]
      },
      {
       "output_type": "stream",
       "stream": "stdout",
       "text": [
        "25654   "
       ]
      },
      {
       "output_type": "stream",
       "stream": "stdout",
       "text": [
        "25766   "
       ]
      },
      {
       "output_type": "stream",
       "stream": "stdout",
       "text": [
        "25865   "
       ]
      },
      {
       "output_type": "stream",
       "stream": "stdout",
       "text": [
        "25927   "
       ]
      },
      {
       "output_type": "stream",
       "stream": "stdout",
       "text": [
        "26029   "
       ]
      },
      {
       "output_type": "stream",
       "stream": "stdout",
       "text": [
        "26135   "
       ]
      },
      {
       "output_type": "stream",
       "stream": "stdout",
       "text": [
        "26244   "
       ]
      },
      {
       "output_type": "stream",
       "stream": "stdout",
       "text": [
        "26359   "
       ]
      },
      {
       "output_type": "stream",
       "stream": "stdout",
       "text": [
        "26469   "
       ]
      },
      {
       "output_type": "stream",
       "stream": "stdout",
       "text": [
        "26584   "
       ]
      },
      {
       "output_type": "stream",
       "stream": "stdout",
       "text": [
        "26701   "
       ]
      },
      {
       "output_type": "stream",
       "stream": "stdout",
       "text": [
        "26816   "
       ]
      },
      {
       "output_type": "stream",
       "stream": "stdout",
       "text": [
        "26927   "
       ]
      },
      {
       "output_type": "stream",
       "stream": "stdout",
       "text": [
        "27044   "
       ]
      },
      {
       "output_type": "stream",
       "stream": "stdout",
       "text": [
        "27151   "
       ]
      },
      {
       "output_type": "stream",
       "stream": "stdout",
       "text": [
        "27257   "
       ]
      },
      {
       "output_type": "stream",
       "stream": "stdout",
       "text": [
        "27370   "
       ]
      },
      {
       "output_type": "stream",
       "stream": "stdout",
       "text": [
        "27482   "
       ]
      },
      {
       "output_type": "stream",
       "stream": "stdout",
       "text": [
        "27588   "
       ]
      },
      {
       "output_type": "stream",
       "stream": "stdout",
       "text": [
        "27697   "
       ]
      },
      {
       "output_type": "stream",
       "stream": "stdout",
       "text": [
        "27794   "
       ]
      },
      {
       "output_type": "stream",
       "stream": "stdout",
       "text": [
        "27903   "
       ]
      },
      {
       "output_type": "stream",
       "stream": "stdout",
       "text": [
        "28009   "
       ]
      },
      {
       "output_type": "stream",
       "stream": "stdout",
       "text": [
        "28120   "
       ]
      },
      {
       "output_type": "stream",
       "stream": "stdout",
       "text": [
        "28228   "
       ]
      },
      {
       "output_type": "stream",
       "stream": "stdout",
       "text": [
        "28344   "
       ]
      },
      {
       "output_type": "stream",
       "stream": "stdout",
       "text": [
        "28454   "
       ]
      },
      {
       "output_type": "stream",
       "stream": "stdout",
       "text": [
        "28568   "
       ]
      },
      {
       "output_type": "stream",
       "stream": "stdout",
       "text": [
        "28686   "
       ]
      },
      {
       "output_type": "stream",
       "stream": "stdout",
       "text": [
        "28790   "
       ]
      },
      {
       "output_type": "stream",
       "stream": "stdout",
       "text": [
        "28886   "
       ]
      },
      {
       "output_type": "stream",
       "stream": "stdout",
       "text": [
        "28948   "
       ]
      },
      {
       "output_type": "stream",
       "stream": "stdout",
       "text": [
        "28959   "
       ]
      },
      {
       "output_type": "stream",
       "stream": "stdout",
       "text": [
        "28978   "
       ]
      },
      {
       "output_type": "stream",
       "stream": "stdout",
       "text": [
        "28993   "
       ]
      },
      {
       "output_type": "stream",
       "stream": "stdout",
       "text": [
        "29035   "
       ]
      },
      {
       "output_type": "stream",
       "stream": "stdout",
       "text": [
        "29150   "
       ]
      },
      {
       "output_type": "stream",
       "stream": "stdout",
       "text": [
        "29246   "
       ]
      },
      {
       "output_type": "stream",
       "stream": "stdout",
       "text": [
        "29361   "
       ]
      },
      {
       "output_type": "stream",
       "stream": "stdout",
       "text": [
        "29477   "
       ]
      },
      {
       "output_type": "stream",
       "stream": "stdout",
       "text": [
        "29593   "
       ]
      },
      {
       "output_type": "stream",
       "stream": "stdout",
       "text": [
        "29706   "
       ]
      },
      {
       "output_type": "stream",
       "stream": "stdout",
       "text": [
        "29788   "
       ]
      },
      {
       "output_type": "stream",
       "stream": "stdout",
       "text": [
        "29901   "
       ]
      },
      {
       "output_type": "stream",
       "stream": "stdout",
       "text": [
        "30009   "
       ]
      },
      {
       "output_type": "stream",
       "stream": "stdout",
       "text": [
        "30120   "
       ]
      },
      {
       "output_type": "stream",
       "stream": "stdout",
       "text": [
        "30238   "
       ]
      },
      {
       "output_type": "stream",
       "stream": "stdout",
       "text": [
        "30336   "
       ]
      },
      {
       "output_type": "stream",
       "stream": "stdout",
       "text": [
        "30449   "
       ]
      },
      {
       "output_type": "stream",
       "stream": "stdout",
       "text": [
        "30544   "
       ]
      },
      {
       "output_type": "stream",
       "stream": "stdout",
       "text": [
        "30654   "
       ]
      },
      {
       "output_type": "stream",
       "stream": "stdout",
       "text": [
        "30758   "
       ]
      },
      {
       "output_type": "stream",
       "stream": "stdout",
       "text": [
        "30858   "
       ]
      },
      {
       "output_type": "stream",
       "stream": "stdout",
       "text": [
        "30968   "
       ]
      },
      {
       "output_type": "stream",
       "stream": "stdout",
       "text": [
        "31084   "
       ]
      },
      {
       "output_type": "stream",
       "stream": "stdout",
       "text": [
        "31198   "
       ]
      },
      {
       "output_type": "stream",
       "stream": "stdout",
       "text": [
        "31309   "
       ]
      },
      {
       "output_type": "stream",
       "stream": "stdout",
       "text": [
        "31423   "
       ]
      },
      {
       "output_type": "stream",
       "stream": "stdout",
       "text": [
        "31534   "
       ]
      },
      {
       "output_type": "stream",
       "stream": "stdout",
       "text": [
        "31646   "
       ]
      },
      {
       "output_type": "stream",
       "stream": "stdout",
       "text": [
        "31759   "
       ]
      },
      {
       "output_type": "stream",
       "stream": "stdout",
       "text": [
        "31863   "
       ]
      },
      {
       "output_type": "stream",
       "stream": "stdout",
       "text": [
        "31967   "
       ]
      },
      {
       "output_type": "stream",
       "stream": "stdout",
       "text": [
        "32079   "
       ]
      },
      {
       "output_type": "stream",
       "stream": "stdout",
       "text": [
        "32194   "
       ]
      },
      {
       "output_type": "stream",
       "stream": "stdout",
       "text": [
        "32304   "
       ]
      },
      {
       "output_type": "stream",
       "stream": "stdout",
       "text": [
        "32414   "
       ]
      },
      {
       "output_type": "stream",
       "stream": "stdout",
       "text": [
        "32519   "
       ]
      },
      {
       "output_type": "stream",
       "stream": "stdout",
       "text": [
        "32562  \n"
       ]
      }
     ],
     "prompt_number": 10
    },
    {
     "cell_type": "code",
     "collapsed": false,
     "input": [
      "\n",
      "results = [r[0] for  r in res._result if not isinstance(r, parallel.error.RemoteError)]\n",
      "\n",
      "df = pandas.DataFrame(results).query('package == 1')[ATTR].set_index('full_name')\n",
      "df.to_csv(OUTPUT_FILENAME, encoding='utf-8')"
     ],
     "language": "python",
     "metadata": {},
     "outputs": [],
     "prompt_number": 22
    },
    {
     "cell_type": "code",
     "collapsed": false,
     "input": [
      "print len(df), 'packages found'"
     ],
     "language": "python",
     "metadata": {},
     "outputs": [
      {
       "output_type": "stream",
       "stream": "stdout",
       "text": [
        "6532 packages found\n"
       ]
      }
     ],
     "prompt_number": 23
    }
   ],
   "metadata": {}
  }
 ]
}