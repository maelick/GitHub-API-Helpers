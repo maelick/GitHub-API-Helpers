{
 "metadata": {
  "name": "",
  "signature": "sha256:cc2ea360cb39bdd847a72d86eccb6c892d00a58e3e93b007366b5f3bd16c7b2d"
 },
 "nbformat": 3,
 "nbformat_minor": 0,
 "worksheets": [
  {
   "cells": [
    {
     "cell_type": "heading",
     "level": 1,
     "metadata": {},
     "source": [
      "R Package Identification for GitHub Repositories"
     ]
    },
    {
     "cell_type": "markdown",
     "metadata": {},
     "source": [
      "In this notebook, we load the data collected from GitHub API v3 (see *GitHub - Repositories from API* notebook) and we check for every repository if this repository has a `DESCRIPTION` file at its root. This is the condition we use to identify which repositories are storing a R package."
     ]
    },
    {
     "cell_type": "code",
     "collapsed": false,
     "input": [
      "import gzip\n",
      "import json\n",
      "import requests\n",
      "import pandas\n",
      "\n",
      "from collections import OrderedDict"
     ],
     "language": "python",
     "metadata": {},
     "outputs": [],
     "prompt_number": 4
    },
    {
     "cell_type": "code",
     "collapsed": false,
     "input": [
      "INPUT_FILENAME = '../data/R-apiv3-2014-12-01T00:00:00-2015-05-01T00:00:00.tar.gz'\n",
      "OUTPUT_FILENAME = '../data/RPackage-Repositories-141201-150501.csv' \n",
      "\n",
      "# Set of attributes that will be kept for the output\n",
      "# If a dot is found in the attribute, a nested lookup will be performed\n",
      "ATTR = [\n",
      "    'full_name', \n",
      "    'name',\n",
      "    'owner.login',\n",
      "    'owner.type',\n",
      "    'created_at', \n",
      "    'description', \n",
      "    'forks_count',\n",
      "    'stargazers_count',\n",
      "    'watchers_count',\n",
      "    'has_downloads',\n",
      "    'has_pages', \n",
      "    'has_issues', \n",
      "    'has_wiki',\n",
      "]"
     ],
     "language": "python",
     "metadata": {},
     "outputs": [],
     "prompt_number": 5
    },
    {
     "cell_type": "markdown",
     "metadata": {},
     "source": [
      "We make use of IPython's parallel computation.\n",
      "\n",
      "**To use this notebook, you need either to configure your IPController or to start a cluster of IPython nodes, using `ipcluster start -n 4` for example.** See https://ipython.org/ipython-doc/dev/parallel/parallel_process.html for more information.\n",
      "\n",
      "It seems that most recent versions of IPython Notebook can directly start cluster from the web interface, under the *Cluster* tab."
     ]
    },
    {
     "cell_type": "code",
     "collapsed": false,
     "input": [
      "from IPython import parallel\n",
      "clients = parallel.Client()\n",
      "clients.block = False\n",
      "print 'Clients:', str(clients.ids)"
     ],
     "language": "python",
     "metadata": {},
     "outputs": [
      {
       "output_type": "stream",
       "stream": "stdout",
       "text": [
        "Clients: []\n"
       ]
      }
     ],
     "prompt_number": 6
    },
    {
     "cell_type": "markdown",
     "metadata": {},
     "source": [
      "We first load and identify which are the distinct repositories that were gathered using GitHub API v3. "
     ]
    },
    {
     "cell_type": "code",
     "collapsed": false,
     "input": [
      "with gzip.GzipFile(filename=INPUT_FILENAME) as gf:\n",
      "    content = gf.read()"
     ],
     "language": "python",
     "metadata": {},
     "outputs": [],
     "prompt_number": 7
    },
    {
     "cell_type": "code",
     "collapsed": false,
     "input": [
      "content = json.loads(content)"
     ],
     "language": "python",
     "metadata": {},
     "outputs": [],
     "prompt_number": 8
    },
    {
     "cell_type": "code",
     "collapsed": false,
     "input": [
      "print '{} items were retrieved from GitHub API v3'.format(len(content))"
     ],
     "language": "python",
     "metadata": {},
     "outputs": [
      {
       "output_type": "stream",
       "stream": "stdout",
       "text": [
        "32563 items were retrieved from GitHub API v3\n"
       ]
      }
     ],
     "prompt_number": 9
    },
    {
     "cell_type": "code",
     "collapsed": false,
     "input": [
      "distinct = {(r['name'], r['owner']['login'], r['full_name']): r for r in content}\n",
      "print '{} distinct items inside'.format(len(distinct))"
     ],
     "language": "python",
     "metadata": {},
     "outputs": [
      {
       "output_type": "stream",
       "stream": "stdout",
       "text": [
        "29918 distinct items inside\n"
       ]
      }
     ],
     "prompt_number": 10
    },
    {
     "cell_type": "markdown",
     "metadata": {},
     "source": [
      "We now filter the items to keep only interesting attributes."
     ]
    },
    {
     "cell_type": "code",
     "collapsed": false,
     "input": [
      "def filter_attributes(item, attributes):\n",
      "    new_item = OrderedDict()\n",
      "    for attr in attributes:\n",
      "        if '.' in attr:\n",
      "            attr1, attr2 = attr.split('.')\n",
      "            new_item['{}.{}'.format(attr1, attr2)] = item[attr1][attr2]\n",
      "        else:\n",
      "            new_item[attr] = item[attr]\n",
      "    return new_item"
     ],
     "language": "python",
     "metadata": {},
     "outputs": [],
     "prompt_number": 11
    },
    {
     "cell_type": "code",
     "collapsed": false,
     "input": [
      "items = map(lambda r: filter_attributes(r, ATTR), distinct.values())"
     ],
     "language": "python",
     "metadata": {},
     "outputs": [],
     "prompt_number": 12
    },
    {
     "cell_type": "markdown",
     "metadata": {},
     "source": [
      "And we're ready to check if the repository has a `DESCRIPTION` file at its root. "
     ]
    },
    {
     "cell_type": "code",
     "collapsed": false,
     "input": [
      "def check_item(item):\n",
      "    url = 'https://raw.githubusercontent.com/{}/master/DESCRIPTION'.format(item['full_name'])\n",
      "    response = requests.get(url)\n",
      "    if response.status_code == 200:\n",
      "        item['package'] = 1\n",
      "    else:\n",
      "        item['package'] = 0\n",
      "    return item\n",
      "\n",
      "\n",
      "print len(items), 'items to check'\n",
      "clients[:].execute('import requests')\n",
      "balanced = clients.load_balanced_view()\n",
      "res = balanced.map(check_item, items, ordered=False, timeout=15)\n",
      "\n",
      "import time\n",
      "while not res.ready():\n",
      "    time.sleep(5)\n",
      "    print res.progress, ' ', "
     ],
     "language": "python",
     "metadata": {},
     "outputs": [
      {
       "output_type": "stream",
       "stream": "stdout",
       "text": [
        "29918 items to check\n",
        "543"
       ]
      },
      {
       "output_type": "stream",
       "stream": "stdout",
       "text": [
        "   "
       ]
      },
      {
       "output_type": "stream",
       "stream": "stdout",
       "text": [
        "625   "
       ]
      },
      {
       "output_type": "stream",
       "stream": "stdout",
       "text": [
        "703   "
       ]
      },
      {
       "output_type": "stream",
       "stream": "stdout",
       "text": [
        "797   "
       ]
      },
      {
       "output_type": "stream",
       "stream": "stdout",
       "text": [
        "888   "
       ]
      },
      {
       "output_type": "stream",
       "stream": "stdout",
       "text": [
        "984   "
       ]
      },
      {
       "output_type": "stream",
       "stream": "stdout",
       "text": [
        "1079   "
       ]
      },
      {
       "output_type": "stream",
       "stream": "stdout",
       "text": [
        "1190   "
       ]
      },
      {
       "output_type": "stream",
       "stream": "stdout",
       "text": [
        "1309   "
       ]
      },
      {
       "output_type": "stream",
       "stream": "stdout",
       "text": [
        "1417   "
       ]
      },
      {
       "output_type": "stream",
       "stream": "stdout",
       "text": [
        "1525   "
       ]
      },
      {
       "output_type": "stream",
       "stream": "stdout",
       "text": [
        "1616   "
       ]
      },
      {
       "output_type": "stream",
       "stream": "stdout",
       "text": [
        "1725   "
       ]
      },
      {
       "output_type": "stream",
       "stream": "stdout",
       "text": [
        "1837   "
       ]
      },
      {
       "output_type": "stream",
       "stream": "stdout",
       "text": [
        "1940   "
       ]
      },
      {
       "output_type": "stream",
       "stream": "stdout",
       "text": [
        "2027   "
       ]
      },
      {
       "output_type": "stream",
       "stream": "stdout",
       "text": [
        "2116   "
       ]
      },
      {
       "output_type": "stream",
       "stream": "stdout",
       "text": [
        "2203   "
       ]
      },
      {
       "output_type": "stream",
       "stream": "stdout",
       "text": [
        "2295   "
       ]
      },
      {
       "output_type": "stream",
       "stream": "stdout",
       "text": [
        "2377   "
       ]
      },
      {
       "output_type": "stream",
       "stream": "stdout",
       "text": [
        "2470   "
       ]
      },
      {
       "output_type": "stream",
       "stream": "stdout",
       "text": [
        "2574   "
       ]
      },
      {
       "output_type": "stream",
       "stream": "stdout",
       "text": [
        "2675   "
       ]
      },
      {
       "output_type": "stream",
       "stream": "stdout",
       "text": [
        "2782   "
       ]
      },
      {
       "output_type": "stream",
       "stream": "stdout",
       "text": [
        "2888   "
       ]
      },
      {
       "output_type": "stream",
       "stream": "stdout",
       "text": [
        "3002   "
       ]
      },
      {
       "output_type": "stream",
       "stream": "stdout",
       "text": [
        "3106   "
       ]
      },
      {
       "output_type": "stream",
       "stream": "stdout",
       "text": [
        "3215   "
       ]
      },
      {
       "output_type": "stream",
       "stream": "stdout",
       "text": [
        "3301   "
       ]
      },
      {
       "output_type": "stream",
       "stream": "stdout",
       "text": [
        "3406   "
       ]
      },
      {
       "output_type": "stream",
       "stream": "stdout",
       "text": [
        "3516   "
       ]
      },
      {
       "output_type": "stream",
       "stream": "stdout",
       "text": [
        "3624   "
       ]
      },
      {
       "output_type": "stream",
       "stream": "stdout",
       "text": [
        "3714   "
       ]
      },
      {
       "output_type": "stream",
       "stream": "stdout",
       "text": [
        "3822   "
       ]
      },
      {
       "output_type": "stream",
       "stream": "stdout",
       "text": [
        "3905   "
       ]
      },
      {
       "output_type": "stream",
       "stream": "stdout",
       "text": [
        "4015   "
       ]
      },
      {
       "output_type": "stream",
       "stream": "stdout",
       "text": [
        "4123   "
       ]
      },
      {
       "output_type": "stream",
       "stream": "stdout",
       "text": [
        "4234   "
       ]
      },
      {
       "output_type": "stream",
       "stream": "stdout",
       "text": [
        "4337   "
       ]
      },
      {
       "output_type": "stream",
       "stream": "stdout",
       "text": [
        "4423   "
       ]
      },
      {
       "output_type": "stream",
       "stream": "stdout",
       "text": [
        "4514   "
       ]
      },
      {
       "output_type": "stream",
       "stream": "stdout",
       "text": [
        "4606   "
       ]
      },
      {
       "output_type": "stream",
       "stream": "stdout",
       "text": [
        "4692   "
       ]
      },
      {
       "output_type": "stream",
       "stream": "stdout",
       "text": [
        "4786   "
       ]
      },
      {
       "output_type": "stream",
       "stream": "stdout",
       "text": [
        "4892   "
       ]
      },
      {
       "output_type": "stream",
       "stream": "stdout",
       "text": [
        "5005   "
       ]
      },
      {
       "output_type": "stream",
       "stream": "stdout",
       "text": [
        "5099   "
       ]
      },
      {
       "output_type": "stream",
       "stream": "stdout",
       "text": [
        "5211   "
       ]
      },
      {
       "output_type": "stream",
       "stream": "stdout",
       "text": [
        "5321   "
       ]
      },
      {
       "output_type": "stream",
       "stream": "stdout",
       "text": [
        "5422   "
       ]
      },
      {
       "output_type": "stream",
       "stream": "stdout",
       "text": [
        "5517   "
       ]
      },
      {
       "output_type": "stream",
       "stream": "stdout",
       "text": [
        "5621   "
       ]
      },
      {
       "output_type": "stream",
       "stream": "stdout",
       "text": [
        "5725   "
       ]
      },
      {
       "output_type": "stream",
       "stream": "stdout",
       "text": [
        "5829   "
       ]
      },
      {
       "output_type": "stream",
       "stream": "stdout",
       "text": [
        "5937   "
       ]
      },
      {
       "output_type": "stream",
       "stream": "stdout",
       "text": [
        "6044   "
       ]
      },
      {
       "output_type": "stream",
       "stream": "stdout",
       "text": [
        "6152   "
       ]
      },
      {
       "output_type": "stream",
       "stream": "stdout",
       "text": [
        "6240   "
       ]
      },
      {
       "output_type": "stream",
       "stream": "stdout",
       "text": [
        "6327   "
       ]
      },
      {
       "output_type": "stream",
       "stream": "stdout",
       "text": [
        "6410   "
       ]
      },
      {
       "output_type": "stream",
       "stream": "stdout",
       "text": [
        "6497   "
       ]
      },
      {
       "output_type": "stream",
       "stream": "stdout",
       "text": [
        "6587   "
       ]
      },
      {
       "output_type": "stream",
       "stream": "stdout",
       "text": [
        "6693   "
       ]
      },
      {
       "output_type": "stream",
       "stream": "stdout",
       "text": [
        "6801   "
       ]
      },
      {
       "output_type": "stream",
       "stream": "stdout",
       "text": [
        "6913   "
       ]
      },
      {
       "output_type": "stream",
       "stream": "stdout",
       "text": [
        "7019   "
       ]
      },
      {
       "output_type": "stream",
       "stream": "stdout",
       "text": [
        "7131   "
       ]
      },
      {
       "output_type": "stream",
       "stream": "stdout",
       "text": [
        "7237   "
       ]
      },
      {
       "output_type": "stream",
       "stream": "stdout",
       "text": [
        "7343   "
       ]
      },
      {
       "output_type": "stream",
       "stream": "stdout",
       "text": [
        "7434   "
       ]
      },
      {
       "output_type": "stream",
       "stream": "stdout",
       "text": [
        "7528   "
       ]
      },
      {
       "output_type": "stream",
       "stream": "stdout",
       "text": [
        "7615   "
       ]
      },
      {
       "output_type": "stream",
       "stream": "stdout",
       "text": [
        "7706   "
       ]
      },
      {
       "output_type": "stream",
       "stream": "stdout",
       "text": [
        "7800   "
       ]
      },
      {
       "output_type": "stream",
       "stream": "stdout",
       "text": [
        "7896   "
       ]
      },
      {
       "output_type": "stream",
       "stream": "stdout",
       "text": [
        "8008   "
       ]
      },
      {
       "output_type": "stream",
       "stream": "stdout",
       "text": [
        "8107   "
       ]
      },
      {
       "output_type": "stream",
       "stream": "stdout",
       "text": [
        "8208   "
       ]
      },
      {
       "output_type": "stream",
       "stream": "stdout",
       "text": [
        "8317   "
       ]
      },
      {
       "output_type": "stream",
       "stream": "stdout",
       "text": [
        "8423   "
       ]
      },
      {
       "output_type": "stream",
       "stream": "stdout",
       "text": [
        "8527   "
       ]
      },
      {
       "output_type": "stream",
       "stream": "stdout",
       "text": [
        "8625   "
       ]
      },
      {
       "output_type": "stream",
       "stream": "stdout",
       "text": [
        "8722   "
       ]
      },
      {
       "output_type": "stream",
       "stream": "stdout",
       "text": [
        "8834   "
       ]
      },
      {
       "output_type": "stream",
       "stream": "stdout",
       "text": [
        "8939   "
       ]
      },
      {
       "output_type": "stream",
       "stream": "stdout",
       "text": [
        "9045   "
       ]
      },
      {
       "output_type": "stream",
       "stream": "stdout",
       "text": [
        "9155   "
       ]
      },
      {
       "output_type": "stream",
       "stream": "stdout",
       "text": [
        "9249   "
       ]
      },
      {
       "output_type": "stream",
       "stream": "stdout",
       "text": [
        "9352   "
       ]
      },
      {
       "output_type": "stream",
       "stream": "stdout",
       "text": [
        "9458   "
       ]
      },
      {
       "output_type": "stream",
       "stream": "stdout",
       "text": [
        "9571   "
       ]
      },
      {
       "output_type": "stream",
       "stream": "stdout",
       "text": [
        "9693   "
       ]
      },
      {
       "output_type": "stream",
       "stream": "stdout",
       "text": [
        "9788   "
       ]
      },
      {
       "output_type": "stream",
       "stream": "stdout",
       "text": [
        "9903   "
       ]
      },
      {
       "output_type": "stream",
       "stream": "stdout",
       "text": [
        "10014   "
       ]
      },
      {
       "output_type": "stream",
       "stream": "stdout",
       "text": [
        "10134   "
       ]
      },
      {
       "output_type": "stream",
       "stream": "stdout",
       "text": [
        "10245   "
       ]
      },
      {
       "output_type": "stream",
       "stream": "stdout",
       "text": [
        "10363   "
       ]
      },
      {
       "output_type": "stream",
       "stream": "stdout",
       "text": [
        "10458   "
       ]
      },
      {
       "output_type": "stream",
       "stream": "stdout",
       "text": [
        "10550   "
       ]
      },
      {
       "output_type": "stream",
       "stream": "stdout",
       "text": [
        "10658   "
       ]
      },
      {
       "output_type": "stream",
       "stream": "stdout",
       "text": [
        "10774   "
       ]
      },
      {
       "output_type": "stream",
       "stream": "stdout",
       "text": [
        "10888   "
       ]
      },
      {
       "output_type": "stream",
       "stream": "stdout",
       "text": [
        "11008   "
       ]
      },
      {
       "output_type": "stream",
       "stream": "stdout",
       "text": [
        "11113   "
       ]
      },
      {
       "output_type": "stream",
       "stream": "stdout",
       "text": [
        "11206   "
       ]
      },
      {
       "output_type": "stream",
       "stream": "stdout",
       "text": [
        "11318   "
       ]
      },
      {
       "output_type": "stream",
       "stream": "stdout",
       "text": [
        "11433   "
       ]
      },
      {
       "output_type": "stream",
       "stream": "stdout",
       "text": [
        "11519   "
       ]
      },
      {
       "output_type": "stream",
       "stream": "stdout",
       "text": [
        "11620   "
       ]
      },
      {
       "output_type": "stream",
       "stream": "stdout",
       "text": [
        "11717   "
       ]
      },
      {
       "output_type": "stream",
       "stream": "stdout",
       "text": [
        "11830   "
       ]
      },
      {
       "output_type": "stream",
       "stream": "stdout",
       "text": [
        "11934   "
       ]
      },
      {
       "output_type": "stream",
       "stream": "stdout",
       "text": [
        "12039   "
       ]
      },
      {
       "output_type": "stream",
       "stream": "stdout",
       "text": [
        "12146   "
       ]
      },
      {
       "output_type": "stream",
       "stream": "stdout",
       "text": [
        "12251   "
       ]
      },
      {
       "output_type": "stream",
       "stream": "stdout",
       "text": [
        "12357   "
       ]
      },
      {
       "output_type": "stream",
       "stream": "stdout",
       "text": [
        "12473   "
       ]
      },
      {
       "output_type": "stream",
       "stream": "stdout",
       "text": [
        "12588   "
       ]
      },
      {
       "output_type": "stream",
       "stream": "stdout",
       "text": [
        "12699   "
       ]
      },
      {
       "output_type": "stream",
       "stream": "stdout",
       "text": [
        "12798   "
       ]
      },
      {
       "output_type": "stream",
       "stream": "stdout",
       "text": [
        "12890   "
       ]
      },
      {
       "output_type": "stream",
       "stream": "stdout",
       "text": [
        "12987   "
       ]
      },
      {
       "output_type": "stream",
       "stream": "stdout",
       "text": [
        "13077   "
       ]
      },
      {
       "output_type": "stream",
       "stream": "stdout",
       "text": [
        "13169   "
       ]
      },
      {
       "output_type": "stream",
       "stream": "stdout",
       "text": [
        "13263   "
       ]
      },
      {
       "output_type": "stream",
       "stream": "stdout",
       "text": [
        "13358   "
       ]
      },
      {
       "output_type": "stream",
       "stream": "stdout",
       "text": [
        "13454   "
       ]
      },
      {
       "output_type": "stream",
       "stream": "stdout",
       "text": [
        "13562   "
       ]
      },
      {
       "output_type": "stream",
       "stream": "stdout",
       "text": [
        "13673   "
       ]
      },
      {
       "output_type": "stream",
       "stream": "stdout",
       "text": [
        "13788   "
       ]
      },
      {
       "output_type": "stream",
       "stream": "stdout",
       "text": [
        "13901   "
       ]
      },
      {
       "output_type": "stream",
       "stream": "stdout",
       "text": [
        "14004   "
       ]
      },
      {
       "output_type": "stream",
       "stream": "stdout",
       "text": [
        "14096   "
       ]
      },
      {
       "output_type": "stream",
       "stream": "stdout",
       "text": [
        "14209   "
       ]
      },
      {
       "output_type": "stream",
       "stream": "stdout",
       "text": [
        "14318   "
       ]
      },
      {
       "output_type": "stream",
       "stream": "stdout",
       "text": [
        "14432   "
       ]
      },
      {
       "output_type": "stream",
       "stream": "stdout",
       "text": [
        "14528   "
       ]
      },
      {
       "output_type": "stream",
       "stream": "stdout",
       "text": [
        "14637   "
       ]
      },
      {
       "output_type": "stream",
       "stream": "stdout",
       "text": [
        "14735   "
       ]
      },
      {
       "output_type": "stream",
       "stream": "stdout",
       "text": [
        "14845   "
       ]
      },
      {
       "output_type": "stream",
       "stream": "stdout",
       "text": [
        "14956   "
       ]
      },
      {
       "output_type": "stream",
       "stream": "stdout",
       "text": [
        "15074   "
       ]
      },
      {
       "output_type": "stream",
       "stream": "stdout",
       "text": [
        "15185   "
       ]
      },
      {
       "output_type": "stream",
       "stream": "stdout",
       "text": [
        "15293   "
       ]
      },
      {
       "output_type": "stream",
       "stream": "stdout",
       "text": [
        "15398   "
       ]
      },
      {
       "output_type": "stream",
       "stream": "stdout",
       "text": [
        "15511   "
       ]
      },
      {
       "output_type": "stream",
       "stream": "stdout",
       "text": [
        "15619   "
       ]
      },
      {
       "output_type": "stream",
       "stream": "stdout",
       "text": [
        "15711   "
       ]
      },
      {
       "output_type": "stream",
       "stream": "stdout",
       "text": [
        "15817   "
       ]
      },
      {
       "output_type": "stream",
       "stream": "stdout",
       "text": [
        "15901   "
       ]
      },
      {
       "output_type": "stream",
       "stream": "stdout",
       "text": [
        "16013   "
       ]
      },
      {
       "output_type": "stream",
       "stream": "stdout",
       "text": [
        "16121   "
       ]
      },
      {
       "output_type": "stream",
       "stream": "stdout",
       "text": [
        "16226   "
       ]
      },
      {
       "output_type": "stream",
       "stream": "stdout",
       "text": [
        "16333   "
       ]
      },
      {
       "output_type": "stream",
       "stream": "stdout",
       "text": [
        "16445   "
       ]
      },
      {
       "output_type": "stream",
       "stream": "stdout",
       "text": [
        "16541   "
       ]
      },
      {
       "output_type": "stream",
       "stream": "stdout",
       "text": [
        "16639   "
       ]
      },
      {
       "output_type": "stream",
       "stream": "stdout",
       "text": [
        "16747   "
       ]
      },
      {
       "output_type": "stream",
       "stream": "stdout",
       "text": [
        "16861   "
       ]
      },
      {
       "output_type": "stream",
       "stream": "stdout",
       "text": [
        "16976   "
       ]
      },
      {
       "output_type": "stream",
       "stream": "stdout",
       "text": [
        "17083   "
       ]
      },
      {
       "output_type": "stream",
       "stream": "stdout",
       "text": [
        "17183   "
       ]
      },
      {
       "output_type": "stream",
       "stream": "stdout",
       "text": [
        "17287   "
       ]
      },
      {
       "output_type": "stream",
       "stream": "stdout",
       "text": [
        "17400   "
       ]
      },
      {
       "output_type": "stream",
       "stream": "stdout",
       "text": [
        "17506   "
       ]
      },
      {
       "output_type": "stream",
       "stream": "stdout",
       "text": [
        "17610   "
       ]
      },
      {
       "output_type": "stream",
       "stream": "stdout",
       "text": [
        "17706   "
       ]
      },
      {
       "output_type": "stream",
       "stream": "stdout",
       "text": [
        "17808   "
       ]
      },
      {
       "output_type": "stream",
       "stream": "stdout",
       "text": [
        "17912   "
       ]
      },
      {
       "output_type": "stream",
       "stream": "stdout",
       "text": [
        "18018   "
       ]
      },
      {
       "output_type": "stream",
       "stream": "stdout",
       "text": [
        "18125   "
       ]
      },
      {
       "output_type": "stream",
       "stream": "stdout",
       "text": [
        "18228   "
       ]
      },
      {
       "output_type": "stream",
       "stream": "stdout",
       "text": [
        "18322   "
       ]
      },
      {
       "output_type": "stream",
       "stream": "stdout",
       "text": [
        "18392   "
       ]
      },
      {
       "output_type": "stream",
       "stream": "stdout",
       "text": [
        "18503   "
       ]
      },
      {
       "output_type": "stream",
       "stream": "stdout",
       "text": [
        "18620   "
       ]
      },
      {
       "output_type": "stream",
       "stream": "stdout",
       "text": [
        "18729   "
       ]
      },
      {
       "output_type": "stream",
       "stream": "stdout",
       "text": [
        "18842   "
       ]
      },
      {
       "output_type": "stream",
       "stream": "stdout",
       "text": [
        "18953   "
       ]
      },
      {
       "output_type": "stream",
       "stream": "stdout",
       "text": [
        "19061   "
       ]
      },
      {
       "output_type": "stream",
       "stream": "stdout",
       "text": [
        "19172   "
       ]
      },
      {
       "output_type": "stream",
       "stream": "stdout",
       "text": [
        "19283   "
       ]
      },
      {
       "output_type": "stream",
       "stream": "stdout",
       "text": [
        "19376   "
       ]
      },
      {
       "output_type": "stream",
       "stream": "stdout",
       "text": [
        "19491   "
       ]
      },
      {
       "output_type": "stream",
       "stream": "stdout",
       "text": [
        "19590   "
       ]
      },
      {
       "output_type": "stream",
       "stream": "stdout",
       "text": [
        "19699   "
       ]
      },
      {
       "output_type": "stream",
       "stream": "stdout",
       "text": [
        "19808   "
       ]
      },
      {
       "output_type": "stream",
       "stream": "stdout",
       "text": [
        "19928   "
       ]
      },
      {
       "output_type": "stream",
       "stream": "stdout",
       "text": [
        "20039   "
       ]
      },
      {
       "output_type": "stream",
       "stream": "stdout",
       "text": [
        "20135   "
       ]
      },
      {
       "output_type": "stream",
       "stream": "stdout",
       "text": [
        "20234   "
       ]
      },
      {
       "output_type": "stream",
       "stream": "stdout",
       "text": [
        "20351   "
       ]
      },
      {
       "output_type": "stream",
       "stream": "stdout",
       "text": [
        "20465   "
       ]
      },
      {
       "output_type": "stream",
       "stream": "stdout",
       "text": [
        "20580   "
       ]
      },
      {
       "output_type": "stream",
       "stream": "stdout",
       "text": [
        "20697   "
       ]
      },
      {
       "output_type": "stream",
       "stream": "stdout",
       "text": [
        "20803   "
       ]
      },
      {
       "output_type": "stream",
       "stream": "stdout",
       "text": [
        "20895   "
       ]
      },
      {
       "output_type": "stream",
       "stream": "stdout",
       "text": [
        "21007   "
       ]
      },
      {
       "output_type": "stream",
       "stream": "stdout",
       "text": [
        "21124   "
       ]
      },
      {
       "output_type": "stream",
       "stream": "stdout",
       "text": [
        "21243   "
       ]
      },
      {
       "output_type": "stream",
       "stream": "stdout",
       "text": [
        "21363   "
       ]
      },
      {
       "output_type": "stream",
       "stream": "stdout",
       "text": [
        "21478   "
       ]
      },
      {
       "output_type": "stream",
       "stream": "stdout",
       "text": [
        "21575   "
       ]
      },
      {
       "output_type": "stream",
       "stream": "stdout",
       "text": [
        "21692   "
       ]
      },
      {
       "output_type": "stream",
       "stream": "stdout",
       "text": [
        "21803   "
       ]
      },
      {
       "output_type": "stream",
       "stream": "stdout",
       "text": [
        "21919   "
       ]
      },
      {
       "output_type": "stream",
       "stream": "stdout",
       "text": [
        "22031   "
       ]
      },
      {
       "output_type": "stream",
       "stream": "stdout",
       "text": [
        "22138   "
       ]
      },
      {
       "output_type": "stream",
       "stream": "stdout",
       "text": [
        "22236   "
       ]
      },
      {
       "output_type": "stream",
       "stream": "stdout",
       "text": [
        "22323   "
       ]
      },
      {
       "output_type": "stream",
       "stream": "stdout",
       "text": [
        "22400   "
       ]
      },
      {
       "output_type": "stream",
       "stream": "stdout",
       "text": [
        "22465   "
       ]
      },
      {
       "output_type": "stream",
       "stream": "stdout",
       "text": [
        "22557   "
       ]
      },
      {
       "output_type": "stream",
       "stream": "stdout",
       "text": [
        "22649   "
       ]
      },
      {
       "output_type": "stream",
       "stream": "stdout",
       "text": [
        "22739   "
       ]
      },
      {
       "output_type": "stream",
       "stream": "stdout",
       "text": [
        "22841   "
       ]
      },
      {
       "output_type": "stream",
       "stream": "stdout",
       "text": [
        "22955   "
       ]
      },
      {
       "output_type": "stream",
       "stream": "stdout",
       "text": [
        "23055   "
       ]
      },
      {
       "output_type": "stream",
       "stream": "stdout",
       "text": [
        "23172   "
       ]
      },
      {
       "output_type": "stream",
       "stream": "stdout",
       "text": [
        "23279   "
       ]
      },
      {
       "output_type": "stream",
       "stream": "stdout",
       "text": [
        "23381   "
       ]
      },
      {
       "output_type": "stream",
       "stream": "stdout",
       "text": [
        "23494   "
       ]
      },
      {
       "output_type": "stream",
       "stream": "stdout",
       "text": [
        "23596   "
       ]
      },
      {
       "output_type": "stream",
       "stream": "stdout",
       "text": [
        "23705   "
       ]
      },
      {
       "output_type": "stream",
       "stream": "stdout",
       "text": [
        "23815   "
       ]
      },
      {
       "output_type": "stream",
       "stream": "stdout",
       "text": [
        "23921   "
       ]
      },
      {
       "output_type": "stream",
       "stream": "stdout",
       "text": [
        "24028   "
       ]
      },
      {
       "output_type": "stream",
       "stream": "stdout",
       "text": [
        "24134   "
       ]
      },
      {
       "output_type": "stream",
       "stream": "stdout",
       "text": [
        "24238   "
       ]
      },
      {
       "output_type": "stream",
       "stream": "stdout",
       "text": [
        "24348   "
       ]
      },
      {
       "output_type": "stream",
       "stream": "stdout",
       "text": [
        "24456   "
       ]
      },
      {
       "output_type": "stream",
       "stream": "stdout",
       "text": [
        "24564   "
       ]
      },
      {
       "output_type": "stream",
       "stream": "stdout",
       "text": [
        "24658   "
       ]
      },
      {
       "output_type": "stream",
       "stream": "stdout",
       "text": [
        "24759   "
       ]
      },
      {
       "output_type": "stream",
       "stream": "stdout",
       "text": [
        "24869   "
       ]
      },
      {
       "output_type": "stream",
       "stream": "stdout",
       "text": [
        "24967   "
       ]
      },
      {
       "output_type": "stream",
       "stream": "stdout",
       "text": [
        "25071   "
       ]
      },
      {
       "output_type": "stream",
       "stream": "stdout",
       "text": [
        "25160   "
       ]
      },
      {
       "output_type": "stream",
       "stream": "stdout",
       "text": [
        "25252   "
       ]
      },
      {
       "output_type": "stream",
       "stream": "stdout",
       "text": [
        "25360   "
       ]
      },
      {
       "output_type": "stream",
       "stream": "stdout",
       "text": [
        "25478   "
       ]
      },
      {
       "output_type": "stream",
       "stream": "stdout",
       "text": [
        "25579   "
       ]
      },
      {
       "output_type": "stream",
       "stream": "stdout",
       "text": [
        "25673   "
       ]
      },
      {
       "output_type": "stream",
       "stream": "stdout",
       "text": [
        "25777   "
       ]
      },
      {
       "output_type": "stream",
       "stream": "stdout",
       "text": [
        "25887   "
       ]
      },
      {
       "output_type": "stream",
       "stream": "stdout",
       "text": [
        "26003   "
       ]
      },
      {
       "output_type": "stream",
       "stream": "stdout",
       "text": [
        "26111   "
       ]
      },
      {
       "output_type": "stream",
       "stream": "stdout",
       "text": [
        "26213   "
       ]
      },
      {
       "output_type": "stream",
       "stream": "stdout",
       "text": [
        "26318   "
       ]
      },
      {
       "output_type": "stream",
       "stream": "stdout",
       "text": [
        "26412   "
       ]
      },
      {
       "output_type": "stream",
       "stream": "stdout",
       "text": [
        "26510   "
       ]
      },
      {
       "output_type": "stream",
       "stream": "stdout",
       "text": [
        "26619   "
       ]
      },
      {
       "output_type": "stream",
       "stream": "stdout",
       "text": [
        "26739   "
       ]
      },
      {
       "output_type": "stream",
       "stream": "stdout",
       "text": [
        "26852   "
       ]
      },
      {
       "output_type": "stream",
       "stream": "stdout",
       "text": [
        "26952   "
       ]
      },
      {
       "output_type": "stream",
       "stream": "stdout",
       "text": [
        "27048   "
       ]
      },
      {
       "output_type": "stream",
       "stream": "stdout",
       "text": [
        "27154   "
       ]
      },
      {
       "output_type": "stream",
       "stream": "stdout",
       "text": [
        "27262   "
       ]
      },
      {
       "output_type": "stream",
       "stream": "stdout",
       "text": [
        "27356   "
       ]
      },
      {
       "output_type": "stream",
       "stream": "stdout",
       "text": [
        "27449   "
       ]
      },
      {
       "output_type": "stream",
       "stream": "stdout",
       "text": [
        "27539   "
       ]
      },
      {
       "output_type": "stream",
       "stream": "stdout",
       "text": [
        "27622   "
       ]
      },
      {
       "output_type": "stream",
       "stream": "stdout",
       "text": [
        "27715   "
       ]
      },
      {
       "output_type": "stream",
       "stream": "stdout",
       "text": [
        "27804   "
       ]
      },
      {
       "output_type": "stream",
       "stream": "stdout",
       "text": [
        "27905   "
       ]
      },
      {
       "output_type": "stream",
       "stream": "stdout",
       "text": [
        "28002   "
       ]
      },
      {
       "output_type": "stream",
       "stream": "stdout",
       "text": [
        "28097   "
       ]
      },
      {
       "output_type": "stream",
       "stream": "stdout",
       "text": [
        "28202   "
       ]
      },
      {
       "output_type": "stream",
       "stream": "stdout",
       "text": [
        "28311   "
       ]
      },
      {
       "output_type": "stream",
       "stream": "stdout",
       "text": [
        "28420   "
       ]
      },
      {
       "output_type": "stream",
       "stream": "stdout",
       "text": [
        "28531   "
       ]
      },
      {
       "output_type": "stream",
       "stream": "stdout",
       "text": [
        "28643   "
       ]
      },
      {
       "output_type": "stream",
       "stream": "stdout",
       "text": [
        "28730   "
       ]
      },
      {
       "output_type": "stream",
       "stream": "stdout",
       "text": [
        "28842   "
       ]
      },
      {
       "output_type": "stream",
       "stream": "stdout",
       "text": [
        "28953   "
       ]
      },
      {
       "output_type": "stream",
       "stream": "stdout",
       "text": [
        "29061   "
       ]
      },
      {
       "output_type": "stream",
       "stream": "stdout",
       "text": [
        "29157   "
       ]
      },
      {
       "output_type": "stream",
       "stream": "stdout",
       "text": [
        "29262   "
       ]
      },
      {
       "output_type": "stream",
       "stream": "stdout",
       "text": [
        "29373   "
       ]
      },
      {
       "output_type": "stream",
       "stream": "stdout",
       "text": [
        "29483   "
       ]
      },
      {
       "output_type": "stream",
       "stream": "stdout",
       "text": [
        "29586   "
       ]
      },
      {
       "output_type": "stream",
       "stream": "stdout",
       "text": [
        "29695   "
       ]
      },
      {
       "output_type": "stream",
       "stream": "stdout",
       "text": [
        "29806   "
       ]
      },
      {
       "output_type": "stream",
       "stream": "stdout",
       "text": [
        "29900   "
       ]
      },
      {
       "output_type": "stream",
       "stream": "stdout",
       "text": [
        "29918  \n"
       ]
      }
     ],
     "prompt_number": 13
    },
    {
     "cell_type": "code",
     "collapsed": false,
     "input": [
      "df = pandas.DataFrame(res.result).query('package == 1')[ATTR].set_index('full_name')\n",
      "df.to_csv(OUTPUT_FILENAME, encoding='utf-8')"
     ],
     "language": "python",
     "metadata": {},
     "outputs": [],
     "prompt_number": 14
    },
    {
     "cell_type": "code",
     "collapsed": false,
     "input": [
      "print len(df), 'packages found'"
     ],
     "language": "python",
     "metadata": {},
     "outputs": [
      {
       "output_type": "stream",
       "stream": "stdout",
       "text": [
        "5410 packages found\n"
       ]
      }
     ],
     "prompt_number": 16
    }
   ],
   "metadata": {}
  }
 ]
}