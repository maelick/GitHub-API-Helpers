{
 "metadata": {
  "name": "",
  "signature": "sha256:f75cb4824060136306a7062b7f494e182c59107ffe7bc26a149d879034a2f515"
 },
 "nbformat": 3,
 "nbformat_minor": 0,
 "worksheets": [
  {
   "cells": [
    {
     "cell_type": "heading",
     "level": 1,
     "metadata": {},
     "source": [
      "Age of required CRAN packages"
     ]
    },
    {
     "cell_type": "code",
     "collapsed": false,
     "input": [
      "import pandas\n",
      "from matplotlib import pyplot as plt\n",
      "from matplotlib_venn import venn3, venn2\n",
      "\n",
      "%matplotlib inline\n",
      "from IPython.display import set_matplotlib_formats\n",
      "#set_matplotlib_formats('pdf')\n",
      "\n",
      "cran_release = pandas.DataFrame.from_csv('../data/cran-package-releases-150526.csv', index_col=None)\n",
      "data = pandas.DataFrame.from_csv('../data/github-cran-bioc-alldata-150420.csv', index_col=None)"
     ],
     "language": "python",
     "metadata": {},
     "outputs": [],
     "prompt_number": 2
    },
    {
     "cell_type": "code",
     "collapsed": false,
     "input": [
      "R_packages = ('R MASS Matrix base boot class cluster codetools compiler datasets foreign grDevices ' +\n",
      "        'graphics grid lattice methods mgcv nlme nnet parallel rpart ' +\n",
      "        'spatial splines stats stats4 survival tcltk tools translations utils').split(' ')"
     ],
     "language": "python",
     "metadata": {},
     "outputs": [],
     "prompt_number": 3
    },
    {
     "cell_type": "code",
     "collapsed": false,
     "input": [
      "cran_release = cran_release.sort('mtime').drop_duplicates('package', take_last=False).rename(columns={'package': 'Package'})[['Package', 'mtime']]"
     ],
     "language": "python",
     "metadata": {},
     "outputs": [],
     "prompt_number": 4
    },
    {
     "cell_type": "code",
     "collapsed": false,
     "input": [
      "data = data.query('Source == \"cran\" or Source == \"github\"').sort('Date').drop_duplicates(('Package', 'Source'), take_last=True)[['Package', 'Version', 'Source', 'Date', 'Depends', 'Imports']]\n",
      "data = data.fillna('')"
     ],
     "language": "python",
     "metadata": {},
     "outputs": [],
     "prompt_number": 5
    },
    {
     "cell_type": "code",
     "collapsed": false,
     "input": [
      "packages = {}\n",
      "\n",
      "for idx, row in data.iterrows():\n",
      "    package = packages.setdefault(row['Package'], {})\n",
      "    deps = [x.strip() for x in row['Depends'].split(' ') + row['Imports'].split(' ') if len(x.strip())>0]\n",
      "    package[row['Source']] = [x for x in deps if x not in R_packages]"
     ],
     "language": "python",
     "metadata": {},
     "outputs": [],
     "prompt_number": 6
    },
    {
     "cell_type": "code",
     "collapsed": false,
     "input": [
      "cran_required = {'github': set(), 'cran': set()}\n",
      "\n",
      "for name, package in packages.iteritems():\n",
      "    for source, deps in package.iteritems():\n",
      "        for dep in deps: \n",
      "            if packages.get(dep, {}).get('cran', None) is not None:\n",
      "                cran_required[source].add(dep)"
     ],
     "language": "python",
     "metadata": {},
     "outputs": [],
     "prompt_number": 7
    },
    {
     "cell_type": "code",
     "collapsed": false,
     "input": [
      "venn2((cran_required['github'], cran_required['cran']), ('github', 'cran'))"
     ],
     "language": "python",
     "metadata": {},
     "outputs": [
      {
       "metadata": {},
       "output_type": "pyout",
       "prompt_number": 8,
       "text": [
        "<matplotlib_venn._common.VennDiagram instance at 0x7f7a5b41ccf8>"
       ]
      },
      {
       "metadata": {},
       "output_type": "display_data",
       "png": "[encoded data removed]",
       "text": [
        "<matplotlib.figure.Figure at 0x7f7a80542450>"
       ]
      }
     ],
     "prompt_number": 8
    },
    {
     "cell_type": "code",
     "collapsed": false,
     "input": [
      "required = data.query('Source == \"cran\"')[['Package', 'Date']]\n",
      "required = required.merge(cran_release, on='Package', how='left').set_index('Package')"
     ],
     "language": "python",
     "metadata": {},
     "outputs": [],
     "prompt_number": 9
    },
    {
     "cell_type": "code",
     "collapsed": false,
     "input": [
      "required['GitHub'] = required['CRAN'] = required['GitHubOnly'] = required['CRANOnly'] = required['Both'] = pandas.np.nan"
     ],
     "language": "python",
     "metadata": {},
     "outputs": [],
     "prompt_number": 10
    },
    {
     "cell_type": "code",
     "collapsed": false,
     "input": [
      "for name in cran_required['github']:\n",
      "    required.loc[name, 'GitHub'] = 1\n",
      "for name in cran_required['cran']:\n",
      "    required.loc[name, 'CRAN'] = 1"
     ],
     "language": "python",
     "metadata": {},
     "outputs": [],
     "prompt_number": 11
    },
    {
     "cell_type": "code",
     "collapsed": false,
     "input": [
      "required[:10]"
     ],
     "language": "python",
     "metadata": {},
     "outputs": [
      {
       "html": [
        "<div style=\"max-height:1000px;max-width:1500px;overflow:auto;\">\n",
        "<table border=\"1\" class=\"dataframe\">\n",
        "  <thead>\n",
        "    <tr style=\"text-align: right;\">\n",
        "      <th></th>\n",
        "      <th>Date</th>\n",
        "      <th>mtime</th>\n",
        "      <th>GitHub</th>\n",
        "      <th>CRAN</th>\n",
        "      <th>GitHubOnly</th>\n",
        "      <th>CRANOnly</th>\n",
        "      <th>Both</th>\n",
        "    </tr>\n",
        "    <tr>\n",
        "      <th>Package</th>\n",
        "      <th></th>\n",
        "      <th></th>\n",
        "      <th></th>\n",
        "      <th></th>\n",
        "      <th></th>\n",
        "      <th></th>\n",
        "      <th></th>\n",
        "    </tr>\n",
        "  </thead>\n",
        "  <tbody>\n",
        "    <tr>\n",
        "      <th>A3</th>\n",
        "      <td>2013-09-03 00:00:00</td>\n",
        "      <td>2013-02-07 10:00:29</td>\n",
        "      <td>NaN</td>\n",
        "      <td>NaN</td>\n",
        "      <td>NaN</td>\n",
        "      <td>NaN</td>\n",
        "      <td>NaN</td>\n",
        "    </tr>\n",
        "    <tr>\n",
        "      <th>ABCExtremes</th>\n",
        "      <td>2013-09-03 00:00:00</td>\n",
        "      <td>2013-05-15 10:45:56</td>\n",
        "      <td>NaN</td>\n",
        "      <td>NaN</td>\n",
        "      <td>NaN</td>\n",
        "      <td>NaN</td>\n",
        "      <td>NaN</td>\n",
        "    </tr>\n",
        "    <tr>\n",
        "      <th>ABCp2</th>\n",
        "      <td>2013-09-03 00:00:00</td>\n",
        "      <td>2013-04-10 17:04:22</td>\n",
        "      <td>NaN</td>\n",
        "      <td>NaN</td>\n",
        "      <td>NaN</td>\n",
        "      <td>NaN</td>\n",
        "      <td>NaN</td>\n",
        "    </tr>\n",
        "    <tr>\n",
        "      <th>ACCLMA</th>\n",
        "      <td>2013-09-03 00:00:00</td>\n",
        "      <td>2012-10-29 13:13:35</td>\n",
        "      <td>NaN</td>\n",
        "      <td>NaN</td>\n",
        "      <td>NaN</td>\n",
        "      <td>NaN</td>\n",
        "      <td>NaN</td>\n",
        "    </tr>\n",
        "    <tr>\n",
        "      <th>ADGofTest</th>\n",
        "      <td>2013-09-03 00:00:00</td>\n",
        "      <td>2009-07-18 17:21:36</td>\n",
        "      <td>1</td>\n",
        "      <td>1</td>\n",
        "      <td>NaN</td>\n",
        "      <td>NaN</td>\n",
        "      <td>NaN</td>\n",
        "    </tr>\n",
        "    <tr>\n",
        "      <th>AIM</th>\n",
        "      <td>2013-09-03 00:00:00</td>\n",
        "      <td>2010-04-05 21:01:23</td>\n",
        "      <td>NaN</td>\n",
        "      <td>NaN</td>\n",
        "      <td>NaN</td>\n",
        "      <td>NaN</td>\n",
        "      <td>NaN</td>\n",
        "    </tr>\n",
        "    <tr>\n",
        "      <th>ALS</th>\n",
        "      <td>2013-09-03 00:00:00</td>\n",
        "      <td>2008-08-06 19:06:23</td>\n",
        "      <td>1</td>\n",
        "      <td>NaN</td>\n",
        "      <td>NaN</td>\n",
        "      <td>NaN</td>\n",
        "      <td>NaN</td>\n",
        "    </tr>\n",
        "    <tr>\n",
        "      <th>AMAP.Seq</th>\n",
        "      <td>2013-09-03 00:00:00</td>\n",
        "      <td>2012-06-19 16:55:48</td>\n",
        "      <td>NaN</td>\n",
        "      <td>NaN</td>\n",
        "      <td>NaN</td>\n",
        "      <td>NaN</td>\n",
        "      <td>NaN</td>\n",
        "    </tr>\n",
        "    <tr>\n",
        "      <th>AMGET</th>\n",
        "      <td>2013-09-03 00:00:00</td>\n",
        "      <td>2013-08-02 14:19:55</td>\n",
        "      <td>NaN</td>\n",
        "      <td>NaN</td>\n",
        "      <td>NaN</td>\n",
        "      <td>NaN</td>\n",
        "      <td>NaN</td>\n",
        "    </tr>\n",
        "    <tr>\n",
        "      <th>ANN</th>\n",
        "      <td>2013-09-03 00:00:00</td>\n",
        "      <td>2011-10-20 10:46:23</td>\n",
        "      <td>NaN</td>\n",
        "      <td>NaN</td>\n",
        "      <td>NaN</td>\n",
        "      <td>NaN</td>\n",
        "      <td>NaN</td>\n",
        "    </tr>\n",
        "  </tbody>\n",
        "</table>\n",
        "</div>"
       ],
       "metadata": {},
       "output_type": "pyout",
       "prompt_number": 12,
       "text": [
        "                            Date                mtime  GitHub  CRAN  \\\n",
        "Package                                                               \n",
        "A3           2013-09-03 00:00:00  2013-02-07 10:00:29     NaN   NaN   \n",
        "ABCExtremes  2013-09-03 00:00:00  2013-05-15 10:45:56     NaN   NaN   \n",
        "ABCp2        2013-09-03 00:00:00  2013-04-10 17:04:22     NaN   NaN   \n",
        "ACCLMA       2013-09-03 00:00:00  2012-10-29 13:13:35     NaN   NaN   \n",
        "ADGofTest    2013-09-03 00:00:00  2009-07-18 17:21:36       1     1   \n",
        "AIM          2013-09-03 00:00:00  2010-04-05 21:01:23     NaN   NaN   \n",
        "ALS          2013-09-03 00:00:00  2008-08-06 19:06:23       1   NaN   \n",
        "AMAP.Seq     2013-09-03 00:00:00  2012-06-19 16:55:48     NaN   NaN   \n",
        "AMGET        2013-09-03 00:00:00  2013-08-02 14:19:55     NaN   NaN   \n",
        "ANN          2013-09-03 00:00:00  2011-10-20 10:46:23     NaN   NaN   \n",
        "\n",
        "             GitHubOnly  CRANOnly  Both  \n",
        "Package                                  \n",
        "A3                  NaN       NaN   NaN  \n",
        "ABCExtremes         NaN       NaN   NaN  \n",
        "ABCp2               NaN       NaN   NaN  \n",
        "ACCLMA              NaN       NaN   NaN  \n",
        "ADGofTest           NaN       NaN   NaN  \n",
        "AIM                 NaN       NaN   NaN  \n",
        "ALS                 NaN       NaN   NaN  \n",
        "AMAP.Seq            NaN       NaN   NaN  \n",
        "AMGET               NaN       NaN   NaN  \n",
        "ANN                 NaN       NaN   NaN  "
       ]
      }
     ],
     "prompt_number": 12
    },
    {
     "cell_type": "code",
     "collapsed": false,
     "input": [
      "def __F(row):\n",
      "    if row['GitHub'] == 1 and row['CRAN'] == 1:\n",
      "        row['Both'] = 1\n",
      "    else:\n",
      "        if row['GitHub'] == 1:\n",
      "            row['GitHubOnly'] = 1\n",
      "        elif row['CRAN'] == 1:\n",
      "            row['CRANOnly'] = 1\n",
      "    return row"
     ],
     "language": "python",
     "metadata": {},
     "outputs": [],
     "prompt_number": 13
    },
    {
     "cell_type": "code",
     "collapsed": false,
     "input": [
      "fields = ['GitHub', 'CRAN', 'GitHubOnly', 'CRANOnly', 'Both']\n",
      "\n",
      "d = required.apply(__F, axis=1)\n",
      "d = d[['mtime'] + fields]\n",
      "d['mtime'] = pandas.to_datetime(d['mtime'])\n",
      "d = d.set_index('mtime').sort_index()\n",
      "\n",
      "d.cumsum().plot(figsize=(15,6))"
     ],
     "language": "python",
     "metadata": {},
     "outputs": [
      {
       "metadata": {},
       "output_type": "pyout",
       "prompt_number": 14,
       "text": [
        "<matplotlib.axes._subplots.AxesSubplot at 0x7f7a5b14b510>"
       ]
      },
      {
       "metadata": {},
       "output_type": "display_data",
       "png": "[encoded data removed]",
       "text": [
        "<matplotlib.figure.Figure at 0x7f7a5b14bad0>"
       ]
      }
     ],
     "prompt_number": 14
    },
    {
     "cell_type": "code",
     "collapsed": false,
     "input": [
      "d['days'] = (pandas.to_datetime('2015-06-01') - d.index).astype('timedelta64[D]')\n",
      "\n",
      "for field in fields:\n",
      "    d['{}D'.format(field)] = d['days'] * d[field]"
     ],
     "language": "python",
     "metadata": {},
     "outputs": [],
     "prompt_number": 15
    },
    {
     "cell_type": "code",
     "collapsed": false,
     "input": [
      "d[['{}D'.format(field) for field in fields]].plot(kind='box')"
     ],
     "language": "python",
     "metadata": {},
     "outputs": [
      {
       "metadata": {},
       "output_type": "pyout",
       "prompt_number": 16,
       "text": [
        "<matplotlib.axes._subplots.AxesSubplot at 0x7f7a5a2a8e50>"
       ]
      },
      {
       "metadata": {},
       "output_type": "display_data",
       "png": "[encoded data removed]",
       "text": [
        "<matplotlib.figure.Figure at 0x7f7a5a2b2250>"
       ]
      }
     ],
     "prompt_number": 16
    },
    {
     "cell_type": "code",
     "collapsed": false,
     "input": [
      "from scipy.stats import mannwhitneyu\n",
      "from scipy.stats import norm\n",
      "from math import sqrt\n",
      "\n",
      "Ud = {}\n",
      "zd = {}\n",
      "pd = {}\n",
      "\n",
      "for field1 in fields:\n",
      "    for field2 in fields:\n",
      "        d1, d2 = d[field1+'D'].dropna(), d[field2+'D'].dropna()\n",
      "        n1, n2 = len(d1), len(d2)\n",
      "        u, p = mannwhitneyu(d1, d2, use_continuity=False)\n",
      "        Ud.setdefault(field1, {})[field2] = u        \n",
      "        zd.setdefault(field1, {})[field2] = (u - (n1 * n2) / 2.0) / sqrt(n1 * n2 * (n1 + n2 + 1) / 12.0)\n",
      "        pd.setdefault(field1, {})[field2] = 2 * norm.cdf(zd[field1][field2])"
     ],
     "language": "python",
     "metadata": {},
     "outputs": [],
     "prompt_number": 36
    },
    {
     "cell_type": "code",
     "collapsed": false,
     "input": [
      "pandas.DataFrame.from_dict(Ud, orient='index')"
     ],
     "language": "python",
     "metadata": {},
     "outputs": [
      {
       "html": [
        "<div style=\"max-height:1000px;max-width:1500px;overflow:auto;\">\n",
        "<table border=\"1\" class=\"dataframe\">\n",
        "  <thead>\n",
        "    <tr style=\"text-align: right;\">\n",
        "      <th></th>\n",
        "      <th>GitHubOnly</th>\n",
        "      <th>CRAN</th>\n",
        "      <th>GitHub</th>\n",
        "      <th>CRANOnly</th>\n",
        "      <th>Both</th>\n",
        "    </tr>\n",
        "  </thead>\n",
        "  <tbody>\n",
        "    <tr>\n",
        "      <th>Both</th>\n",
        "      <td>91273.5</td>\n",
        "      <td>689044.0</td>\n",
        "      <td>517238.0</td>\n",
        "      <td>263079.5</td>\n",
        "      <td>425964.5</td>\n",
        "    </tr>\n",
        "    <tr>\n",
        "      <th>CRAN</th>\n",
        "      <td>177772.5</td>\n",
        "      <td>1313820.5</td>\n",
        "      <td>984911.5</td>\n",
        "      <td>506681.5</td>\n",
        "      <td>689044.0</td>\n",
        "    </tr>\n",
        "    <tr>\n",
        "      <th>CRANOnly</th>\n",
        "      <td>86499.0</td>\n",
        "      <td>506681.5</td>\n",
        "      <td>434142.5</td>\n",
        "      <td>243602.0</td>\n",
        "      <td>263079.5</td>\n",
        "    </tr>\n",
        "    <tr>\n",
        "      <th>GitHub</th>\n",
        "      <td>159354.0</td>\n",
        "      <td>984911.5</td>\n",
        "      <td>834632.0</td>\n",
        "      <td>434142.5</td>\n",
        "      <td>517238.0</td>\n",
        "    </tr>\n",
        "    <tr>\n",
        "      <th>GitHubOnly</th>\n",
        "      <td>68080.5</td>\n",
        "      <td>177772.5</td>\n",
        "      <td>159354.0</td>\n",
        "      <td>86499.0</td>\n",
        "      <td>91273.5</td>\n",
        "    </tr>\n",
        "  </tbody>\n",
        "</table>\n",
        "</div>"
       ],
       "metadata": {},
       "output_type": "pyout",
       "prompt_number": 37,
       "text": [
        "            GitHubOnly       CRAN    GitHub  CRANOnly      Both\n",
        "Both           91273.5   689044.0  517238.0  263079.5  425964.5\n",
        "CRAN          177772.5  1313820.5  984911.5  506681.5  689044.0\n",
        "CRANOnly       86499.0   506681.5  434142.5  243602.0  263079.5\n",
        "GitHub        159354.0   984911.5  834632.0  434142.5  517238.0\n",
        "GitHubOnly     68080.5   177772.5  159354.0   86499.0   91273.5"
       ]
      }
     ],
     "prompt_number": 37
    },
    {
     "cell_type": "code",
     "collapsed": false,
     "input": [
      "pandas.DataFrame.from_dict(pd, orient='index')"
     ],
     "language": "python",
     "metadata": {},
     "outputs": [
      {
       "html": [
        "<div style=\"max-height:1000px;max-width:1500px;overflow:auto;\">\n",
        "<table border=\"1\" class=\"dataframe\">\n",
        "  <thead>\n",
        "    <tr style=\"text-align: right;\">\n",
        "      <th></th>\n",
        "      <th>GitHubOnly</th>\n",
        "      <th>CRAN</th>\n",
        "      <th>GitHub</th>\n",
        "      <th>CRANOnly</th>\n",
        "      <th>Both</th>\n",
        "    </tr>\n",
        "  </thead>\n",
        "  <tbody>\n",
        "    <tr>\n",
        "      <th>Both</th>\n",
        "      <td>6.865672e-39</td>\n",
        "      <td>9.171233e-04</td>\n",
        "      <td>1.010140e-07</td>\n",
        "      <td>2.490240e-10</td>\n",
        "      <td>1.000000e+00</td>\n",
        "    </tr>\n",
        "    <tr>\n",
        "      <th>CRAN</th>\n",
        "      <td>4.152996e-34</td>\n",
        "      <td>1.000000e+00</td>\n",
        "      <td>5.770613e-03</td>\n",
        "      <td>6.542091e-05</td>\n",
        "      <td>9.171233e-04</td>\n",
        "    </tr>\n",
        "    <tr>\n",
        "      <th>CRANOnly</th>\n",
        "      <td>1.035604e-18</td>\n",
        "      <td>6.542091e-05</td>\n",
        "      <td>1.704979e-01</td>\n",
        "      <td>1.000000e+00</td>\n",
        "      <td>2.490240e-10</td>\n",
        "    </tr>\n",
        "    <tr>\n",
        "      <th>GitHub</th>\n",
        "      <td>2.370454e-22</td>\n",
        "      <td>5.770613e-03</td>\n",
        "      <td>1.000000e+00</td>\n",
        "      <td>1.704979e-01</td>\n",
        "      <td>1.010140e-07</td>\n",
        "    </tr>\n",
        "    <tr>\n",
        "      <th>GitHubOnly</th>\n",
        "      <td>1.000000e+00</td>\n",
        "      <td>4.152996e-34</td>\n",
        "      <td>2.370454e-22</td>\n",
        "      <td>1.035604e-18</td>\n",
        "      <td>6.865672e-39</td>\n",
        "    </tr>\n",
        "  </tbody>\n",
        "</table>\n",
        "</div>"
       ],
       "metadata": {},
       "output_type": "pyout",
       "prompt_number": 38,
       "text": [
        "              GitHubOnly          CRAN        GitHub      CRANOnly  \\\n",
        "Both        6.865672e-39  9.171233e-04  1.010140e-07  2.490240e-10   \n",
        "CRAN        4.152996e-34  1.000000e+00  5.770613e-03  6.542091e-05   \n",
        "CRANOnly    1.035604e-18  6.542091e-05  1.704979e-01  1.000000e+00   \n",
        "GitHub      2.370454e-22  5.770613e-03  1.000000e+00  1.704979e-01   \n",
        "GitHubOnly  1.000000e+00  4.152996e-34  2.370454e-22  1.035604e-18   \n",
        "\n",
        "                    Both  \n",
        "Both        1.000000e+00  \n",
        "CRAN        9.171233e-04  \n",
        "CRANOnly    2.490240e-10  \n",
        "GitHub      1.010140e-07  \n",
        "GitHubOnly  6.865672e-39  "
       ]
      }
     ],
     "prompt_number": 38
    },
    {
     "cell_type": "code",
     "collapsed": false,
     "input": [
      "pandas.DataFrame.from_dict(zd, orient='index')"
     ],
     "language": "python",
     "metadata": {},
     "outputs": [
      {
       "html": [
        "<div style=\"max-height:1000px;max-width:1500px;overflow:auto;\">\n",
        "<table border=\"1\" class=\"dataframe\">\n",
        "  <thead>\n",
        "    <tr style=\"text-align: right;\">\n",
        "      <th></th>\n",
        "      <th>GitHubOnly</th>\n",
        "      <th>CRAN</th>\n",
        "      <th>GitHub</th>\n",
        "      <th>CRANOnly</th>\n",
        "      <th>Both</th>\n",
        "    </tr>\n",
        "  </thead>\n",
        "  <tbody>\n",
        "    <tr>\n",
        "      <th>Both</th>\n",
        "      <td>-13.044107</td>\n",
        "      <td>-3.314789</td>\n",
        "      <td>-5.324890</td>\n",
        "      <td>-6.327587</td>\n",
        "      <td>0.000000</td>\n",
        "    </tr>\n",
        "    <tr>\n",
        "      <th>CRAN</th>\n",
        "      <td>-12.176382</td>\n",
        "      <td>0.000000</td>\n",
        "      <td>-2.760539</td>\n",
        "      <td>-3.992353</td>\n",
        "      <td>-3.314789</td>\n",
        "    </tr>\n",
        "    <tr>\n",
        "      <th>CRANOnly</th>\n",
        "      <td>-8.831198</td>\n",
        "      <td>-3.992353</td>\n",
        "      <td>-1.370606</td>\n",
        "      <td>0.000000</td>\n",
        "      <td>-6.327587</td>\n",
        "    </tr>\n",
        "    <tr>\n",
        "      <th>GitHub</th>\n",
        "      <td>-9.724509</td>\n",
        "      <td>-2.760539</td>\n",
        "      <td>0.000000</td>\n",
        "      <td>-1.370606</td>\n",
        "      <td>-5.324890</td>\n",
        "    </tr>\n",
        "    <tr>\n",
        "      <th>GitHubOnly</th>\n",
        "      <td>0.000000</td>\n",
        "      <td>-12.176382</td>\n",
        "      <td>-9.724509</td>\n",
        "      <td>-8.831198</td>\n",
        "      <td>-13.044107</td>\n",
        "    </tr>\n",
        "  </tbody>\n",
        "</table>\n",
        "</div>"
       ],
       "metadata": {},
       "output_type": "pyout",
       "prompt_number": 39,
       "text": [
        "            GitHubOnly       CRAN    GitHub  CRANOnly       Both\n",
        "Both        -13.044107  -3.314789 -5.324890 -6.327587   0.000000\n",
        "CRAN        -12.176382   0.000000 -2.760539 -3.992353  -3.314789\n",
        "CRANOnly     -8.831198  -3.992353 -1.370606  0.000000  -6.327587\n",
        "GitHub       -9.724509  -2.760539  0.000000 -1.370606  -5.324890\n",
        "GitHubOnly    0.000000 -12.176382 -9.724509 -8.831198 -13.044107"
       ]
      }
     ],
     "prompt_number": 39
    }
   ],
   "metadata": {}
  }
 ]
}