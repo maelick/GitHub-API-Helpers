{
 "cells": [
  {
   "cell_type": "markdown",
   "metadata": {},
   "source": [
    "# Age of required CRAN packages"
   ]
  },
  {
   "cell_type": "code",
<<<<<<< HEAD
   "execution_count": 1,
=======
   "execution_count": 5,
>>>>>>> e1d15507933e9905d3d49337453499926b795702
   "metadata": {
    "collapsed": false
   },
   "outputs": [],
   "source": [
    "import pandas\n",
    "from matplotlib import pyplot as plt\n",
    "from matplotlib_venn import venn3, venn2\n",
    "\n",
    "%matplotlib inline\n",
    "from IPython.display import set_matplotlib_formats\n",
    "#set_matplotlib_formats('pdf')\n",
    "\n",
    "cran_release = pandas.DataFrame.from_csv('../data/cran-packages-150601.csv', index_col=None)\n",
    "data = pandas.DataFrame.from_csv('../data/github-cran-bioc-alldata-150420.csv', index_col=None)"
   ]
  },
  {
   "cell_type": "code",
<<<<<<< HEAD
   "execution_count": 2,
=======
   "execution_count": 6,
>>>>>>> e1d15507933e9905d3d49337453499926b795702
   "metadata": {
    "collapsed": false
   },
   "outputs": [],
   "source": [
    "R_packages = ('R MASS Matrix base boot class cluster codetools compiler datasets foreign grDevices ' +\n",
    "        'graphics grid lattice methods mgcv nlme nnet parallel rpart ' +\n",
    "        'spatial splines stats stats4 survival tcltk tools translations utils').split(' ')"
   ]
  },
  {
   "cell_type": "code",
<<<<<<< HEAD
   "execution_count": 3,
=======
   "execution_count": 7,
>>>>>>> e1d15507933e9905d3d49337453499926b795702
   "metadata": {
    "collapsed": false
   },
   "outputs": [],
   "source": [
    "cran_release = cran_release.sort('mtime').drop_duplicates('package', take_last=False).rename(columns={'package': 'Package'})[['Package', 'mtime']]"
   ]
  },
  {
   "cell_type": "code",
<<<<<<< HEAD
   "execution_count": 4,
=======
   "execution_count": 8,
>>>>>>> e1d15507933e9905d3d49337453499926b795702
   "metadata": {
    "collapsed": false
   },
   "outputs": [],
   "source": [
    "data = data.query('Source == \"cran\" or Source == \"github\"').sort('Date').drop_duplicates(('Package', 'Source'), take_last=True)[['Package', 'Version', 'Source', 'Date', 'Depends', 'Imports']]\n",
    "data = data.fillna('')"
   ]
  },
  {
   "cell_type": "code",
<<<<<<< HEAD
   "execution_count": 5,
=======
   "execution_count": 9,
>>>>>>> e1d15507933e9905d3d49337453499926b795702
   "metadata": {
    "collapsed": false
   },
   "outputs": [],
   "source": [
    "packages = {}\n",
    "\n",
    "for idx, row in data.iterrows():\n",
    "    package = packages.setdefault(row['Package'], {})\n",
    "    deps = [x.strip() for x in row['Depends'].split(' ') + row['Imports'].split(' ') if len(x.strip())>0]\n",
    "    package[row['Source']] = [x for x in deps if x not in R_packages]"
   ]
  },
  {
   "cell_type": "code",
<<<<<<< HEAD
   "execution_count": 6,
=======
   "execution_count": 10,
>>>>>>> e1d15507933e9905d3d49337453499926b795702
   "metadata": {
    "collapsed": false
   },
   "outputs": [],
   "source": [
    "cran_required = {'github': set(), 'cran': set()}\n",
    "\n",
    "for name, package in packages.iteritems():\n",
    "    for source, deps in package.iteritems():\n",
    "        for dep in deps: \n",
    "            if packages.get(dep, {}).get('cran', None) is not None:\n",
    "                cran_required[source].add(dep)"
   ]
  },
  {
   "cell_type": "code",
<<<<<<< HEAD
   "execution_count": 7,
=======
   "execution_count": 11,
>>>>>>> e1d15507933e9905d3d49337453499926b795702
   "metadata": {
    "collapsed": false
   },
   "outputs": [
    {
     "data": {
      "text/plain": [
<<<<<<< HEAD
       "<matplotlib_venn._common.VennDiagram instance at 0x7f88014ed950>"
      ]
     },
     "execution_count": 7,
=======
       "<matplotlib_venn._common.VennDiagram instance at 0x7fa27ce9de60>"
      ]
     },
     "execution_count": 11,
>>>>>>> e1d15507933e9905d3d49337453499926b795702
     "metadata": {},
     "output_type": "execute_result"
    },
    {
     "data": {
      "image/png": "iVBORw0KGgoAAAANSUhEUgAAARYAAADxCAYAAAAOe5jBAAAABHNCSVQICAgIfAhkiAAAAAlwSFlz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\n",
      "text/plain": [
<<<<<<< HEAD
       "<matplotlib.figure.Figure at 0x7f8801457050>"
=======
       "<matplotlib.figure.Figure at 0x7fa26fe8c190>"
>>>>>>> e1d15507933e9905d3d49337453499926b795702
      ]
     },
     "metadata": {},
     "output_type": "display_data"
    }
   ],
   "source": [
    "venn2((cran_required['github'], cran_required['cran']), ('github', 'cran'))"
   ]
  },
  {
   "cell_type": "code",
<<<<<<< HEAD
   "execution_count": 8,
=======
   "execution_count": 12,
>>>>>>> e1d15507933e9905d3d49337453499926b795702
   "metadata": {
    "collapsed": false
   },
   "outputs": [],
   "source": [
    "required = data.query('Source == \"cran\"')[['Package', 'Date']]\n",
    "required = required.merge(cran_release, on='Package', how='left').set_index('Package')"
   ]
  },
  {
   "cell_type": "code",
<<<<<<< HEAD
   "execution_count": 9,
=======
   "execution_count": 13,
>>>>>>> e1d15507933e9905d3d49337453499926b795702
   "metadata": {
    "collapsed": false
   },
   "outputs": [],
   "source": [
    "required['GitHub'] = required['CRAN'] = required['GitHubOnly'] = required['CRANOnly'] = required['Both'] = pandas.np.nan"
   ]
  },
  {
   "cell_type": "code",
<<<<<<< HEAD
   "execution_count": 10,
=======
   "execution_count": 14,
>>>>>>> e1d15507933e9905d3d49337453499926b795702
   "metadata": {
    "collapsed": false
   },
   "outputs": [],
   "source": [
    "for name in cran_required['github']:\n",
    "    required.loc[name, 'GitHub'] = 1\n",
    "for name in cran_required['cran']:\n",
    "    required.loc[name, 'CRAN'] = 1"
   ]
  },
  {
   "cell_type": "code",
<<<<<<< HEAD
   "execution_count": 11,
=======
   "execution_count": 15,
>>>>>>> e1d15507933e9905d3d49337453499926b795702
   "metadata": {
    "collapsed": false
   },
   "outputs": [
    {
     "data": {
      "text/html": [
       "<div style=\"max-height:1000px;max-width:1500px;overflow:auto;\">\n",
       "<table border=\"1\" class=\"dataframe\">\n",
       "  <thead>\n",
       "    <tr style=\"text-align: right;\">\n",
       "      <th></th>\n",
       "      <th>Date</th>\n",
       "      <th>mtime</th>\n",
       "      <th>GitHub</th>\n",
       "      <th>CRAN</th>\n",
       "      <th>GitHubOnly</th>\n",
       "      <th>CRANOnly</th>\n",
       "      <th>Both</th>\n",
       "    </tr>\n",
       "    <tr>\n",
       "      <th>Package</th>\n",
       "      <th></th>\n",
       "      <th></th>\n",
       "      <th></th>\n",
       "      <th></th>\n",
       "      <th></th>\n",
       "      <th></th>\n",
       "      <th></th>\n",
       "    </tr>\n",
       "  </thead>\n",
       "  <tbody>\n",
       "    <tr>\n",
       "      <th>A3</th>\n",
       "      <td>2013-09-03 00:00:00</td>\n",
       "      <td>2013-02-07 10:00:29</td>\n",
       "      <td>NaN</td>\n",
       "      <td>NaN</td>\n",
       "      <td>NaN</td>\n",
       "      <td>NaN</td>\n",
       "      <td>NaN</td>\n",
       "    </tr>\n",
       "    <tr>\n",
       "      <th>ABCExtremes</th>\n",
       "      <td>2013-09-03 00:00:00</td>\n",
       "      <td>2013-05-15 10:45:56</td>\n",
       "      <td>NaN</td>\n",
       "      <td>NaN</td>\n",
       "      <td>NaN</td>\n",
       "      <td>NaN</td>\n",
       "      <td>NaN</td>\n",
       "    </tr>\n",
       "    <tr>\n",
       "      <th>ABCp2</th>\n",
       "      <td>2013-09-03 00:00:00</td>\n",
       "      <td>2013-04-10 17:04:22</td>\n",
       "      <td>NaN</td>\n",
       "      <td>NaN</td>\n",
       "      <td>NaN</td>\n",
       "      <td>NaN</td>\n",
       "      <td>NaN</td>\n",
       "    </tr>\n",
       "    <tr>\n",
       "      <th>ACCLMA</th>\n",
       "      <td>2013-09-03 00:00:00</td>\n",
       "      <td>2012-10-29 13:13:35</td>\n",
       "      <td>NaN</td>\n",
       "      <td>NaN</td>\n",
       "      <td>NaN</td>\n",
       "      <td>NaN</td>\n",
       "      <td>NaN</td>\n",
       "    </tr>\n",
       "    <tr>\n",
       "      <th>ADGofTest</th>\n",
       "      <td>2013-09-03 00:00:00</td>\n",
       "      <td>2009-07-18 17:21:36</td>\n",
       "      <td>1</td>\n",
       "      <td>1</td>\n",
       "      <td>NaN</td>\n",
       "      <td>NaN</td>\n",
       "      <td>NaN</td>\n",
       "    </tr>\n",
       "    <tr>\n",
       "      <th>AIM</th>\n",
       "      <td>2013-09-03 00:00:00</td>\n",
       "      <td>2010-04-05 21:01:23</td>\n",
       "      <td>NaN</td>\n",
       "      <td>NaN</td>\n",
       "      <td>NaN</td>\n",
       "      <td>NaN</td>\n",
       "      <td>NaN</td>\n",
       "    </tr>\n",
       "    <tr>\n",
       "      <th>ALS</th>\n",
       "      <td>2013-09-03 00:00:00</td>\n",
       "      <td>2008-08-06 19:06:23</td>\n",
       "      <td>1</td>\n",
       "      <td>NaN</td>\n",
       "      <td>NaN</td>\n",
       "      <td>NaN</td>\n",
       "      <td>NaN</td>\n",
       "    </tr>\n",
       "    <tr>\n",
       "      <th>AMAP.Seq</th>\n",
       "      <td>2013-09-03 00:00:00</td>\n",
       "      <td>2012-06-19 16:55:48</td>\n",
       "      <td>NaN</td>\n",
       "      <td>NaN</td>\n",
       "      <td>NaN</td>\n",
       "      <td>NaN</td>\n",
       "      <td>NaN</td>\n",
       "    </tr>\n",
       "    <tr>\n",
       "      <th>AMGET</th>\n",
       "      <td>2013-09-03 00:00:00</td>\n",
       "      <td>2013-08-02 14:19:55</td>\n",
       "      <td>NaN</td>\n",
       "      <td>NaN</td>\n",
       "      <td>NaN</td>\n",
       "      <td>NaN</td>\n",
       "      <td>NaN</td>\n",
       "    </tr>\n",
       "    <tr>\n",
       "      <th>ANN</th>\n",
       "      <td>2013-09-03 00:00:00</td>\n",
       "      <td>2011-10-20 10:46:23</td>\n",
       "      <td>NaN</td>\n",
       "      <td>NaN</td>\n",
       "      <td>NaN</td>\n",
       "      <td>NaN</td>\n",
       "      <td>NaN</td>\n",
       "    </tr>\n",
       "  </tbody>\n",
       "</table>\n",
       "</div>"
      ],
      "text/plain": [
       "                            Date                mtime  GitHub  CRAN  \\\n",
       "Package                                                               \n",
       "A3           2013-09-03 00:00:00  2013-02-07 10:00:29     NaN   NaN   \n",
       "ABCExtremes  2013-09-03 00:00:00  2013-05-15 10:45:56     NaN   NaN   \n",
       "ABCp2        2013-09-03 00:00:00  2013-04-10 17:04:22     NaN   NaN   \n",
       "ACCLMA       2013-09-03 00:00:00  2012-10-29 13:13:35     NaN   NaN   \n",
       "ADGofTest    2013-09-03 00:00:00  2009-07-18 17:21:36       1     1   \n",
       "AIM          2013-09-03 00:00:00  2010-04-05 21:01:23     NaN   NaN   \n",
       "ALS          2013-09-03 00:00:00  2008-08-06 19:06:23       1   NaN   \n",
       "AMAP.Seq     2013-09-03 00:00:00  2012-06-19 16:55:48     NaN   NaN   \n",
       "AMGET        2013-09-03 00:00:00  2013-08-02 14:19:55     NaN   NaN   \n",
       "ANN          2013-09-03 00:00:00  2011-10-20 10:46:23     NaN   NaN   \n",
       "\n",
       "             GitHubOnly  CRANOnly  Both  \n",
       "Package                                  \n",
       "A3                  NaN       NaN   NaN  \n",
       "ABCExtremes         NaN       NaN   NaN  \n",
       "ABCp2               NaN       NaN   NaN  \n",
       "ACCLMA              NaN       NaN   NaN  \n",
       "ADGofTest           NaN       NaN   NaN  \n",
       "AIM                 NaN       NaN   NaN  \n",
       "ALS                 NaN       NaN   NaN  \n",
       "AMAP.Seq            NaN       NaN   NaN  \n",
       "AMGET               NaN       NaN   NaN  \n",
       "ANN                 NaN       NaN   NaN  "
      ]
     },
<<<<<<< HEAD
     "execution_count": 11,
=======
     "execution_count": 15,
>>>>>>> e1d15507933e9905d3d49337453499926b795702
     "metadata": {},
     "output_type": "execute_result"
    }
   ],
   "source": [
    "required[:10]"
   ]
  },
  {
   "cell_type": "code",
<<<<<<< HEAD
   "execution_count": 12,
=======
   "execution_count": 16,
>>>>>>> e1d15507933e9905d3d49337453499926b795702
   "metadata": {
    "collapsed": false
   },
   "outputs": [],
   "source": [
    "def __F(row):\n",
    "    if row['GitHub'] == 1 and row['CRAN'] == 1:\n",
    "        row['Both'] = 1\n",
    "    else:\n",
    "        if row['GitHub'] == 1:\n",
    "            row['GitHubOnly'] = 1\n",
    "        elif row['CRAN'] == 1:\n",
    "            row['CRANOnly'] = 1\n",
    "    return row"
   ]
  },
  {
   "cell_type": "code",
<<<<<<< HEAD
   "execution_count": 13,
=======
   "execution_count": 17,
>>>>>>> e1d15507933e9905d3d49337453499926b795702
   "metadata": {
    "collapsed": false
   },
   "outputs": [
    {
     "data": {
      "text/plain": [
<<<<<<< HEAD
       "<matplotlib.axes._subplots.AxesSubplot at 0x7f8800f3d450>"
      ]
     },
     "execution_count": 13,
=======
       "<matplotlib.axes._subplots.AxesSubplot at 0x7fa26fe77e10>"
      ]
     },
     "execution_count": 17,
>>>>>>> e1d15507933e9905d3d49337453499926b795702
     "metadata": {},
     "output_type": "execute_result"
    },
    {
     "data": {
      "image/png": "iVBORw0KGgoAAAANSUhEUgAAA28AAAFpCAYAAAALCRDIAAAABHNCSVQICAgIfAhkiAAAAAlwSFlz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\nzMzMzCaA/wdjdxJxAxgEPQAAAABJRU5ErkJggg==\n",
      "text/plain": [
<<<<<<< HEAD
       "<matplotlib.figure.Figure at 0x7f8800f3da10>"
=======
       "<matplotlib.figure.Figure at 0x7fa26fe67090>"
>>>>>>> e1d15507933e9905d3d49337453499926b795702
      ]
     },
     "metadata": {},
     "output_type": "display_data"
    }
   ],
   "source": [
    "fields = ['GitHub', 'CRAN', 'GitHubOnly', 'CRANOnly', 'Both']\n",
    "\n",
    "d = required.apply(__F, axis=1)\n",
    "d = d[['mtime'] + fields]\n",
    "d['mtime'] = pandas.to_datetime(d['mtime'])\n",
    "d = d.set_index('mtime').sort_index()\n",
    "\n",
    "d.cumsum().fillna(method='pad').plot(figsize=(15,6))"
   ]
  },
  {
   "cell_type": "code",
<<<<<<< HEAD
   "execution_count": 14,
=======
   "execution_count": 18,
>>>>>>> e1d15507933e9905d3d49337453499926b795702
   "metadata": {
    "collapsed": false
   },
   "outputs": [],
   "source": [
    "d['days'] = (pandas.to_datetime('2015-06-01') - d.index).astype('timedelta64[D]')\n",
    "\n",
    "for field in fields:\n",
    "    d['{}D'.format(field)] = d['days'] * d[field]"
   ]
  },
  {
   "cell_type": "code",
<<<<<<< HEAD
   "execution_count": 15,
=======
   "execution_count": 19,
>>>>>>> e1d15507933e9905d3d49337453499926b795702
   "metadata": {
    "collapsed": false
   },
   "outputs": [
    {
     "data": {
      "text/plain": [
<<<<<<< HEAD
       "<matplotlib.axes._subplots.AxesSubplot at 0x7f880030aad0>"
      ]
     },
     "execution_count": 15,
=======
       "<matplotlib.axes._subplots.AxesSubplot at 0x7fa26fe8ca10>"
      ]
     },
     "execution_count": 19,
>>>>>>> e1d15507933e9905d3d49337453499926b795702
     "metadata": {},
     "output_type": "execute_result"
    },
    {
     "data": {
      "image/png": "iVBORw0KGgoAAAANSUhEUgAAAXkAAAEACAYAAABWLgY0AAAABHNCSVQICAgIfAhkiAAAAAlwSFlz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\nkjczm2BO8mZmE8xJ3sxsgjnJm5lNsP8Pz7ctvx2T9J8AAAAASUVORK5CYII=\n",
      "text/plain": [
<<<<<<< HEAD
       "<matplotlib.figure.Figure at 0x7f88003059d0>"
=======
       "<matplotlib.figure.Figure at 0x7fa2715ed7d0>"
>>>>>>> e1d15507933e9905d3d49337453499926b795702
      ]
     },
     "metadata": {},
     "output_type": "display_data"
    }
   ],
   "source": [
    "d[['{}D'.format(field) for field in fields]].plot(kind='box')"
   ]
  },
  {
   "cell_type": "code",
<<<<<<< HEAD
   "execution_count": 16,
=======
   "execution_count": 20,
>>>>>>> e1d15507933e9905d3d49337453499926b795702
   "metadata": {
    "collapsed": false
   },
   "outputs": [],
   "source": [
    "from scipy.stats import mannwhitneyu\n",
    "from scipy.stats import norm\n",
    "from math import sqrt\n",
    "\n",
    "Ud = {}\n",
    "zd = {}\n",
    "pd = {}\n",
    "\n",
    "for field1 in fields:\n",
    "    for field2 in fields:\n",
    "        d1, d2 = d[field1+'D'].dropna(), d[field2+'D'].dropna()\n",
    "        n1, n2 = len(d1), len(d2)\n",
    "        u, p = mannwhitneyu(d1, d2, use_continuity=False)\n",
    "        Ud.setdefault(field1, {})[field2] = u        \n",
    "        zd.setdefault(field1, {})[field2] = (u - (n1 * n2) / 2.0) / sqrt(n1 * n2 * (n1 + n2 + 1) / 12.0)\n",
    "        pd.setdefault(field1, {})[field2] = 2 * norm.cdf(zd[field1][field2])"
   ]
  },
  {
   "cell_type": "code",
<<<<<<< HEAD
   "execution_count": 17,
=======
   "execution_count": 21,
>>>>>>> e1d15507933e9905d3d49337453499926b795702
   "metadata": {
    "collapsed": false
   },
   "outputs": [
    {
     "data": {
      "text/html": [
       "<div style=\"max-height:1000px;max-width:1500px;overflow:auto;\">\n",
       "<table border=\"1\" class=\"dataframe\">\n",
       "  <thead>\n",
       "    <tr style=\"text-align: right;\">\n",
       "      <th></th>\n",
       "      <th>Both</th>\n",
       "      <th>CRAN</th>\n",
       "      <th>CRANOnly</th>\n",
       "      <th>GitHub</th>\n",
       "      <th>GitHubOnly</th>\n",
       "    </tr>\n",
       "  </thead>\n",
       "  <tbody>\n",
       "    <tr>\n",
       "      <th>Both</th>\n",
       "      <td>425964.5</td>\n",
       "      <td>689044.0</td>\n",
       "      <td>263079.5</td>\n",
       "      <td>517238.0</td>\n",
       "      <td>91273.5</td>\n",
       "    </tr>\n",
       "    <tr>\n",
       "      <th>CRAN</th>\n",
       "      <td>689044.0</td>\n",
       "      <td>1313820.5</td>\n",
       "      <td>506681.5</td>\n",
       "      <td>984911.5</td>\n",
       "      <td>177772.5</td>\n",
       "    </tr>\n",
       "    <tr>\n",
       "      <th>CRANOnly</th>\n",
       "      <td>263079.5</td>\n",
       "      <td>506681.5</td>\n",
       "      <td>243602.0</td>\n",
       "      <td>434142.5</td>\n",
       "      <td>86499.0</td>\n",
       "    </tr>\n",
       "    <tr>\n",
       "      <th>GitHub</th>\n",
       "      <td>517238.0</td>\n",
       "      <td>984911.5</td>\n",
       "      <td>434142.5</td>\n",
       "      <td>834632.0</td>\n",
       "      <td>159354.0</td>\n",
       "    </tr>\n",
       "    <tr>\n",
       "      <th>GitHubOnly</th>\n",
       "      <td>91273.5</td>\n",
       "      <td>177772.5</td>\n",
       "      <td>86499.0</td>\n",
       "      <td>159354.0</td>\n",
       "      <td>68080.5</td>\n",
       "    </tr>\n",
       "  </tbody>\n",
       "</table>\n",
       "</div>"
      ],
      "text/plain": [
       "                Both       CRAN  CRANOnly    GitHub  GitHubOnly\n",
       "Both        425964.5   689044.0  263079.5  517238.0     91273.5\n",
       "CRAN        689044.0  1313820.5  506681.5  984911.5    177772.5\n",
       "CRANOnly    263079.5   506681.5  243602.0  434142.5     86499.0\n",
       "GitHub      517238.0   984911.5  434142.5  834632.0    159354.0\n",
       "GitHubOnly   91273.5   177772.5   86499.0  159354.0     68080.5"
      ]
     },
<<<<<<< HEAD
     "execution_count": 17,
=======
     "execution_count": 21,
>>>>>>> e1d15507933e9905d3d49337453499926b795702
     "metadata": {},
     "output_type": "execute_result"
    }
   ],
   "source": [
    "pandas.DataFrame.from_dict(Ud, orient='index').sort_index().sort_index(axis=1)"
   ]
  },
  {
   "cell_type": "markdown",
   "metadata": {},
   "source": [
    "**Care**: p-value must be compared to a *global* $\\alpha$. Under $\\alpha=0.05$, the p-value has to be multiplied by 10 here (because we only look at the lower part of the matrix)"
   ]
  },
  {
   "cell_type": "code",
<<<<<<< HEAD
   "execution_count": 18,
=======
   "execution_count": 22,
>>>>>>> e1d15507933e9905d3d49337453499926b795702
   "metadata": {
    "collapsed": false
   },
   "outputs": [
    {
     "data": {
      "text/html": [
       "<div style=\"max-height:1000px;max-width:1500px;overflow:auto;\">\n",
       "<table border=\"1\" class=\"dataframe\">\n",
       "  <thead>\n",
       "    <tr style=\"text-align: right;\">\n",
       "      <th></th>\n",
       "      <th>Both</th>\n",
       "      <th>CRAN</th>\n",
       "      <th>CRANOnly</th>\n",
       "      <th>GitHub</th>\n",
       "      <th>GitHubOnly</th>\n",
       "    </tr>\n",
       "  </thead>\n",
       "  <tbody>\n",
       "    <tr>\n",
       "      <th>Both</th>\n",
       "      <td>1.000000e+00</td>\n",
       "      <td>9.171233e-04</td>\n",
       "      <td>2.490240e-10</td>\n",
       "      <td>1.010140e-07</td>\n",
       "      <td>6.865672e-39</td>\n",
       "    </tr>\n",
       "    <tr>\n",
       "      <th>CRAN</th>\n",
       "      <td>9.171233e-04</td>\n",
       "      <td>1.000000e+00</td>\n",
       "      <td>6.542091e-05</td>\n",
       "      <td>5.770613e-03</td>\n",
       "      <td>4.152996e-34</td>\n",
       "    </tr>\n",
       "    <tr>\n",
       "      <th>CRANOnly</th>\n",
       "      <td>2.490240e-10</td>\n",
       "      <td>6.542091e-05</td>\n",
       "      <td>1.000000e+00</td>\n",
       "      <td>1.704979e-01</td>\n",
       "      <td>1.035604e-18</td>\n",
       "    </tr>\n",
       "    <tr>\n",
       "      <th>GitHub</th>\n",
       "      <td>1.010140e-07</td>\n",
       "      <td>5.770613e-03</td>\n",
       "      <td>1.704979e-01</td>\n",
       "      <td>1.000000e+00</td>\n",
       "      <td>2.370454e-22</td>\n",
       "    </tr>\n",
       "    <tr>\n",
       "      <th>GitHubOnly</th>\n",
       "      <td>6.865672e-39</td>\n",
       "      <td>4.152996e-34</td>\n",
       "      <td>1.035604e-18</td>\n",
       "      <td>2.370454e-22</td>\n",
       "      <td>1.000000e+00</td>\n",
       "    </tr>\n",
       "  </tbody>\n",
       "</table>\n",
       "</div>"
      ],
      "text/plain": [
       "                    Both          CRAN      CRANOnly        GitHub  \\\n",
       "Both        1.000000e+00  9.171233e-04  2.490240e-10  1.010140e-07   \n",
       "CRAN        9.171233e-04  1.000000e+00  6.542091e-05  5.770613e-03   \n",
       "CRANOnly    2.490240e-10  6.542091e-05  1.000000e+00  1.704979e-01   \n",
       "GitHub      1.010140e-07  5.770613e-03  1.704979e-01  1.000000e+00   \n",
       "GitHubOnly  6.865672e-39  4.152996e-34  1.035604e-18  2.370454e-22   \n",
       "\n",
       "              GitHubOnly  \n",
       "Both        6.865672e-39  \n",
       "CRAN        4.152996e-34  \n",
       "CRANOnly    1.035604e-18  \n",
       "GitHub      2.370454e-22  \n",
       "GitHubOnly  1.000000e+00  "
      ]
     },
<<<<<<< HEAD
     "execution_count": 18,
=======
     "execution_count": 22,
>>>>>>> e1d15507933e9905d3d49337453499926b795702
     "metadata": {},
     "output_type": "execute_result"
    }
   ],
   "source": [
    "pandas.DataFrame.from_dict(pd, orient='index').sort_index().sort_index(axis=1)"
   ]
  },
  {
   "cell_type": "code",
<<<<<<< HEAD
   "execution_count": 19,
=======
   "execution_count": 23,
>>>>>>> e1d15507933e9905d3d49337453499926b795702
   "metadata": {
    "collapsed": false
   },
   "outputs": [
    {
     "data": {
      "text/html": [
       "<div style=\"max-height:1000px;max-width:1500px;overflow:auto;\">\n",
       "<table border=\"1\" class=\"dataframe\">\n",
       "  <thead>\n",
       "    <tr style=\"text-align: right;\">\n",
       "      <th></th>\n",
       "      <th>Both</th>\n",
       "      <th>CRAN</th>\n",
       "      <th>CRANOnly</th>\n",
       "      <th>GitHub</th>\n",
       "      <th>GitHubOnly</th>\n",
       "    </tr>\n",
       "  </thead>\n",
       "  <tbody>\n",
       "    <tr>\n",
       "      <th>Both</th>\n",
       "      <td>0.000000</td>\n",
       "      <td>-3.314789</td>\n",
       "      <td>-6.327587</td>\n",
       "      <td>-5.324890</td>\n",
       "      <td>-13.044107</td>\n",
       "    </tr>\n",
       "    <tr>\n",
       "      <th>CRAN</th>\n",
       "      <td>-3.314789</td>\n",
       "      <td>0.000000</td>\n",
       "      <td>-3.992353</td>\n",
       "      <td>-2.760539</td>\n",
       "      <td>-12.176382</td>\n",
       "    </tr>\n",
       "    <tr>\n",
       "      <th>CRANOnly</th>\n",
       "      <td>-6.327587</td>\n",
       "      <td>-3.992353</td>\n",
       "      <td>0.000000</td>\n",
       "      <td>-1.370606</td>\n",
       "      <td>-8.831198</td>\n",
       "    </tr>\n",
       "    <tr>\n",
       "      <th>GitHub</th>\n",
       "      <td>-5.324890</td>\n",
       "      <td>-2.760539</td>\n",
       "      <td>-1.370606</td>\n",
       "      <td>0.000000</td>\n",
       "      <td>-9.724509</td>\n",
       "    </tr>\n",
       "    <tr>\n",
       "      <th>GitHubOnly</th>\n",
       "      <td>-13.044107</td>\n",
       "      <td>-12.176382</td>\n",
       "      <td>-8.831198</td>\n",
       "      <td>-9.724509</td>\n",
       "      <td>0.000000</td>\n",
       "    </tr>\n",
       "  </tbody>\n",
       "</table>\n",
       "</div>"
      ],
      "text/plain": [
       "                 Both       CRAN  CRANOnly    GitHub  GitHubOnly\n",
       "Both         0.000000  -3.314789 -6.327587 -5.324890  -13.044107\n",
       "CRAN        -3.314789   0.000000 -3.992353 -2.760539  -12.176382\n",
       "CRANOnly    -6.327587  -3.992353  0.000000 -1.370606   -8.831198\n",
       "GitHub      -5.324890  -2.760539 -1.370606  0.000000   -9.724509\n",
       "GitHubOnly -13.044107 -12.176382 -8.831198 -9.724509    0.000000"
      ]
     },
<<<<<<< HEAD
     "execution_count": 19,
=======
     "execution_count": 23,
>>>>>>> e1d15507933e9905d3d49337453499926b795702
     "metadata": {},
     "output_type": "execute_result"
    }
   ],
   "source": [
    "pandas.DataFrame.from_dict(zd, orient='index').sort_index().sort_index(axis=1)"
   ]
  }
 ],
 "metadata": {
  "kernelspec": {
   "display_name": "Python 2",
   "language": "python",
   "name": "python2"
  },
  "language_info": {
   "codemirror_mode": {
    "name": "ipython",
    "version": 2
   },
   "file_extension": ".py",
   "mimetype": "text/x-python",
   "name": "python",
   "nbconvert_exporter": "python",
   "pygments_lexer": "ipython2",
   "version": "2.7.9"
  }
 },
 "nbformat": 4,
 "nbformat_minor": 0
}
